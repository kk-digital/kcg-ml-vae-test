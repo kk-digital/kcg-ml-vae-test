{
 "cells": [
  {
   "cell_type": "code",
   "execution_count": 2,
   "metadata": {},
   "outputs": [],
   "source": [
    "import torch\n",
    "import glob\n",
    "import tqdm\n",
    "\n",
    "import matplotlib.pyplot as plt\n",
    "import numpy as np\n",
    "import torch.nn as nn\n",
    "import torch.nn.functional as F\n",
    "\n",
    "from utilities import utils, train_utils\n",
    "from sklearn.model_selection import train_test_split\n",
    "from sklearn.preprocessing import normalize, MinMaxScaler\n",
    "from torch.utils.data import DataLoader, TensorDataset, Dataset"
   ]
  },
  {
   "cell_type": "code",
   "execution_count": 3,
   "metadata": {},
   "outputs": [],
   "source": [
    "# for testing: copy a (1, 768) vector 77 times to create (77, 768)\n",
    "class CustomDataset(Dataset):\n",
    "    def __init__(self, data):\n",
    "        self.data = data\n",
    "\n",
    "    def __len__(self):\n",
    "        return len(self.data)\n",
    "    \n",
    "    def __getitem__(self, idx):\n",
    "        sample = self.data[idx][0].repeat(77, 1)\n",
    "        sample = sample.unsqueeze(0)\n",
    "\n",
    "        return sample"
   ]
  },
  {
   "cell_type": "code",
   "execution_count": 4,
   "metadata": {},
   "outputs": [
    {
     "name": "stderr",
     "output_type": "stream",
     "text": [
      "  0%|          | 0/8964 [00:00<?, ?it/s]"
     ]
    },
    {
     "name": "stderr",
     "output_type": "stream",
     "text": [
      "100%|██████████| 8964/8964 [00:49<00:00, 181.48it/s]\n"
     ]
    }
   ],
   "source": [
    "paths = sorted(glob.glob('./data/000*/*_embedding.msgpack'))\n",
    "device = train_utils.get_device()\n",
    "\n",
    "X = []\n",
    "for path in tqdm.tqdm(paths):\n",
    "    pos_emb, neg_emb = utils.read_embedding_data(path)\n",
    "    X.append(pos_emb)\n",
    "X = np.concatenate(X, axis=0)\n",
    "\n",
    "scl = MinMaxScaler()\n",
    "\n",
    "# reshape to 2D to apply scaling\n",
    "# X = X.reshape(-1, 768)\n",
    "# X, l2_norm = normalize(X, norm='l2', axis=1, return_norm=True)\n",
    "\n",
    "Xtr, Xvl = train_test_split(X, test_size=0.2, random_state=42)\n",
    "\n",
    "Xtr = Xtr.reshape(-1, 768)\n",
    "Xvl = Xvl.reshape(-1, 768)\n",
    "\n",
    "Xtr = scl.fit_transform(Xtr)\n",
    "Xvl = scl.transform(Xvl)\n",
    "\n",
    "# reshape it back\n",
    "Xtr = Xtr.reshape(-1, 77, 768)\n",
    "Xvl = Xvl.reshape(-1, 77, 768)\n",
    "\n",
    "train_data = torch.tensor(Xtr, dtype=torch.float32)\n",
    "val_data = torch.tensor(Xvl, dtype=torch.float32)\n",
    "\n",
    "train_dataset = TensorDataset(train_data)\n",
    "val_dataset = TensorDataset(val_data)\n",
    "# train_dataset = CustomDataset(train_data)\n",
    "# val_dataset = CustomDataset(val_data)"
   ]
  },
  {
   "cell_type": "code",
   "execution_count": 7,
   "metadata": {},
   "outputs": [],
   "source": [
    "class Encoder(nn.Module):\n",
    "    def __init__(self, input_dim, latent_dim, pooling='max'):\n",
    "        super(Encoder, self).__init__()\n",
    "        self.input_dim = input_dim\n",
    "        self.latent_dim = latent_dim\n",
    "\n",
    "        self.layer_norm = nn.LayerNorm(self.input_dim)\n",
    "        \n",
    "        # define encoder layers: 3 layers fc of 1024, last fc no activation\n",
    "        self.encoder_layers = nn.Sequential(\n",
    "            nn.Linear(self.input_dim, 2048),\n",
    "            nn.ReLU(),\n",
    "            nn.Linear(2048, 2048),\n",
    "            nn.ReLU(),\n",
    "            nn.Linear(2048, 1024),\n",
    "            nn.ReLU(),\n",
    "            nn.Linear(1024, 1024),\n",
    "            nn.ReLU(),\n",
    "        )\n",
    "\n",
    "        self.fc_latent = nn.Linear(1024, self.latent_dim)\n",
    "        if pooling == 'max':\n",
    "            self.pooling = nn.MaxPool1d(kernel_size=77, stride=1)\n",
    "        elif pooling == 'avg':\n",
    "            self.pooling = nn.AvgPool1d(kernel_size=77, stride=1)\n",
    "\n",
    "    def forward(self, x):\n",
    "        assert x.shape == (x.shape[0], 77, 768)\n",
    "\n",
    "        # x = self.layer_norm(x)\n",
    "\n",
    "        # reshape for fc\n",
    "        x = x.view(-1, 768)\n",
    "        x = self.encoder_layers(x)\n",
    "\n",
    "        # reshape back to batch_size * 77 x hidden size\n",
    "        x = x.view(-1, 77, 1024)\n",
    "        x = self.pooling(x.permute(0, 2, 1)).squeeze(-1)\n",
    "        x = self.fc_latent(x)\n",
    "\n",
    "        return x\n",
    "    \n",
    "class Decoder(nn.Module):\n",
    "    def __init__(self, input_dim, latent_dim, out_act='tanh'):\n",
    "        super(Decoder, self).__init__()\n",
    "        self.input_dim = input_dim\n",
    "        self.latent_dim = latent_dim\n",
    "\n",
    "        # define decoder layers: 3 layers of fc 1024, last layer activated with tanh\n",
    "        self.decoder_layers = nn.Sequential(\n",
    "            nn.Linear(self.latent_dim, 1024),\n",
    "            nn.ReLU(),\n",
    "            nn.Linear(1024, 1024),\n",
    "            nn.ReLU(),\n",
    "            nn.Linear(1024, 2048),\n",
    "            nn.ReLU(),\n",
    "            nn.Linear(2048, 2048),\n",
    "            nn.ReLU(),\n",
    "            nn.Linear(2048, 77 * self.input_dim),\n",
    "        )\n",
    "\n",
    "        if out_act == 'tanh':\n",
    "            self.out_act = nn.Tanh()\n",
    "        elif out_act == 'sigmoid':\n",
    "            self.out_act = nn.Sigmoid()\n",
    "        elif out_act == None:\n",
    "            self.out_act = None\n",
    "\n",
    "    def forward(self, z):\n",
    "        assert z.shape == (z.shape[0], self.latent_dim)\n",
    "\n",
    "        x = self.decoder_layers(z)\n",
    "        if self.out_act:\n",
    "            x = self.out_act(x)\n",
    "\n",
    "        # reshape to batch_size * 77 * 768\n",
    "        x = x.view(-1, 77, 768)\n",
    "\n",
    "        return x\n",
    "    \n",
    "class AutoEncoder(nn.Module):\n",
    "    def __init__(self, input_dim, latent_dim, pooling='max', out_act='tanh'):\n",
    "        super(AutoEncoder, self).__init__()\n",
    "\n",
    "        self.encoder = Encoder(input_dim, latent_dim, pooling)\n",
    "        self.decoder = Decoder(input_dim, latent_dim, out_act)\n",
    "\n",
    "    def forward(self, x):\n",
    "        self.z = self.encoder(x)\n",
    "        recon = self.decoder(self.z)\n",
    "\n",
    "        return recon"
   ]
  },
  {
   "cell_type": "code",
   "execution_count": 12,
   "metadata": {},
   "outputs": [
    {
     "data": {
      "text/plain": [
       "AutoEncoder(\n",
       "  (encoder): Encoder(\n",
       "    (layer_norm): LayerNorm((768,), eps=1e-05, elementwise_affine=True)\n",
       "    (encoder_layers): Sequential(\n",
       "      (0): Linear(in_features=768, out_features=2048, bias=True)\n",
       "      (1): ReLU()\n",
       "      (2): Linear(in_features=2048, out_features=2048, bias=True)\n",
       "      (3): ReLU()\n",
       "      (4): Linear(in_features=2048, out_features=1024, bias=True)\n",
       "      (5): ReLU()\n",
       "      (6): Linear(in_features=1024, out_features=1024, bias=True)\n",
       "      (7): ReLU()\n",
       "    )\n",
       "    (fc_latent): Linear(in_features=1024, out_features=768, bias=True)\n",
       "    (pooling): AvgPool1d(kernel_size=(77,), stride=(1,), padding=(0,))\n",
       "  )\n",
       "  (decoder): Decoder(\n",
       "    (decoder_layers): Sequential(\n",
       "      (0): Linear(in_features=768, out_features=1024, bias=True)\n",
       "      (1): ReLU()\n",
       "      (2): Linear(in_features=1024, out_features=1024, bias=True)\n",
       "      (3): ReLU()\n",
       "      (4): Linear(in_features=1024, out_features=2048, bias=True)\n",
       "      (5): ReLU()\n",
       "      (6): Linear(in_features=2048, out_features=2048, bias=True)\n",
       "      (7): ReLU()\n",
       "      (8): Linear(in_features=2048, out_features=59136, bias=True)\n",
       "    )\n",
       "    (out_act): Sigmoid()\n",
       "  )\n",
       ")"
      ]
     },
     "execution_count": 12,
     "metadata": {},
     "output_type": "execute_result"
    }
   ],
   "source": [
    "model = AutoEncoder(input_dim=768, latent_dim=768, pooling='avg', out_act='sigmoid')\n",
    "optimizer = torch.optim.AdamW(model.parameters(), lr=1e-4)\n",
    "scheduler = torch.optim.lr_scheduler.ReduceLROnPlateau(optimizer, patience=10, threshold=0.01)\n",
    "model = model.to(device)\n",
    "model"
   ]
  },
  {
   "cell_type": "code",
   "execution_count": 13,
   "metadata": {},
   "outputs": [],
   "source": [
    "save_path = 'experiments/fc_exp7/'\n",
    "epoch = 1500\n",
    "batch_size = 128\n",
    "sparsity_penalty_weight = 0"
   ]
  },
  {
   "cell_type": "code",
   "execution_count": 14,
   "metadata": {},
   "outputs": [],
   "source": [
    "# loss function\n",
    "class MSELossFC(nn.Module):\n",
    "    def __init__(self, sparsity_penalty_weight=0.0):\n",
    "        super(MSELossFC, self).__init__()\n",
    "        self.sparsity_penalty_weight = sparsity_penalty_weight\n",
    "\n",
    "    def forward(self, y, y_hat, z):\n",
    "        assert y.shape == (y.shape[0], 77, 768)\n",
    "        assert y_hat.shape == (y.shape[0], 77, 768)\n",
    "\n",
    "        reconstruction_loss = nn.MSELoss(reduction='sum')(y, y_hat)\n",
    "        \n",
    "        l1_penalty = torch.abs(z).mean()\n",
    "        sparsity_loss = l1_penalty * self.sparsity_penalty_weight\n",
    "\n",
    "        total_loss = reconstruction_loss + sparsity_loss\n",
    "\n",
    "        return total_loss\n",
    "\n",
    "criterion = MSELossFC(sparsity_penalty_weight)"
   ]
  },
  {
   "cell_type": "code",
   "execution_count": 15,
   "metadata": {},
   "outputs": [
    {
     "name": "stderr",
     "output_type": "stream",
     "text": [
      "train loss: 662.204: 100%|██████████| 57/57 [00:08<00:00,  6.57it/s]\n",
      "val loss: 711.273: 100%|██████████| 15/15 [00:00<00:00, 23.34it/s]\n"
     ]
    },
    {
     "name": "stdout",
     "output_type": "stream",
     "text": [
      "Weight saved: epoch 0\n",
      "Epoch 0\tTrain Loss: 711.795  Val Loss: 685.658\n",
      "\n"
     ]
    },
    {
     "name": "stderr",
     "output_type": "stream",
     "text": [
      "train loss: 743.560: 100%|██████████| 57/57 [00:08<00:00,  6.57it/s]\n",
      "val loss: 701.289: 100%|██████████| 15/15 [00:00<00:00, 26.21it/s]\n"
     ]
    },
    {
     "name": "stdout",
     "output_type": "stream",
     "text": [
      "Weight saved: epoch 1\n",
      "Epoch 1\tTrain Loss: 681.346  Val Loss: 681.798\n",
      "\n"
     ]
    },
    {
     "name": "stderr",
     "output_type": "stream",
     "text": [
      "train loss: 657.779: 100%|██████████| 57/57 [00:08<00:00,  6.81it/s]\n",
      "val loss: 700.449: 100%|██████████| 15/15 [00:00<00:00, 23.01it/s]\n"
     ]
    },
    {
     "name": "stdout",
     "output_type": "stream",
     "text": [
      "Weight saved: epoch 2\n",
      "Epoch 2\tTrain Loss: 678.287  Val Loss: 681.636\n",
      "\n"
     ]
    },
    {
     "name": "stderr",
     "output_type": "stream",
     "text": [
      "train loss: 669.130: 100%|██████████| 57/57 [00:08<00:00,  6.83it/s]\n",
      "val loss: 701.239: 100%|██████████| 15/15 [00:00<00:00, 26.75it/s]\n"
     ]
    },
    {
     "name": "stdout",
     "output_type": "stream",
     "text": [
      "Weight saved: epoch 3\n",
      "Epoch 3\tTrain Loss: 677.930  Val Loss: 677.500\n",
      "\n"
     ]
    },
    {
     "name": "stderr",
     "output_type": "stream",
     "text": [
      "train loss: 679.439: 100%|██████████| 57/57 [00:08<00:00,  6.81it/s]\n",
      "val loss: 699.707: 100%|██████████| 15/15 [00:00<00:00, 26.35it/s]\n"
     ]
    },
    {
     "name": "stdout",
     "output_type": "stream",
     "text": [
      "Weight saved: epoch 4\n",
      "Epoch 4\tTrain Loss: 678.095  Val Loss: 677.315\n",
      "\n"
     ]
    },
    {
     "name": "stderr",
     "output_type": "stream",
     "text": [
      "train loss: 669.604: 100%|██████████| 57/57 [00:08<00:00,  6.79it/s]\n",
      "val loss: 698.043: 100%|██████████| 15/15 [00:00<00:00, 26.26it/s]\n"
     ]
    },
    {
     "name": "stdout",
     "output_type": "stream",
     "text": [
      "Weight saved: epoch 5\n",
      "Epoch 5\tTrain Loss: 675.408  Val Loss: 674.551\n",
      "\n"
     ]
    },
    {
     "name": "stderr",
     "output_type": "stream",
     "text": [
      "train loss: 701.661: 100%|██████████| 57/57 [00:08<00:00,  6.79it/s]\n",
      "val loss: 693.883: 100%|██████████| 15/15 [00:00<00:00, 26.10it/s]\n"
     ]
    },
    {
     "name": "stdout",
     "output_type": "stream",
     "text": [
      "Weight saved: epoch 6\n",
      "Epoch 6\tTrain Loss: 667.885  Val Loss: 653.110\n",
      "\n"
     ]
    },
    {
     "name": "stderr",
     "output_type": "stream",
     "text": [
      "train loss: 617.616: 100%|██████████| 57/57 [00:08<00:00,  6.76it/s]\n",
      "val loss: 716.213: 100%|██████████| 15/15 [00:00<00:00, 25.50it/s]\n"
     ]
    },
    {
     "name": "stdout",
     "output_type": "stream",
     "text": [
      "Weight saved: epoch 7\n",
      "Epoch 7\tTrain Loss: 647.549  Val Loss: 649.327\n",
      "\n"
     ]
    },
    {
     "name": "stderr",
     "output_type": "stream",
     "text": [
      "train loss: 643.301: 100%|██████████| 57/57 [00:08<00:00,  6.79it/s]\n",
      "val loss: 691.856: 100%|██████████| 15/15 [00:00<00:00, 26.36it/s]\n"
     ]
    },
    {
     "name": "stdout",
     "output_type": "stream",
     "text": [
      "Weight saved: epoch 8\n",
      "Epoch 8\tTrain Loss: 637.679  Val Loss: 634.724\n",
      "\n"
     ]
    },
    {
     "name": "stderr",
     "output_type": "stream",
     "text": [
      "train loss: 631.605: 100%|██████████| 57/57 [00:08<00:00,  6.81it/s]\n",
      "val loss: 699.513: 100%|██████████| 15/15 [00:00<00:00, 26.95it/s]\n"
     ]
    },
    {
     "name": "stdout",
     "output_type": "stream",
     "text": [
      "Weight saved: epoch 9\n",
      "Epoch 9\tTrain Loss: 631.696  Val Loss: 633.217\n",
      "\n"
     ]
    },
    {
     "name": "stderr",
     "output_type": "stream",
     "text": [
      "train loss: 630.070: 100%|██████████| 57/57 [00:08<00:00,  6.81it/s]\n",
      "val loss: 692.841: 100%|██████████| 15/15 [00:00<00:00, 27.28it/s]\n"
     ]
    },
    {
     "name": "stdout",
     "output_type": "stream",
     "text": [
      "Weight saved: epoch 10\n",
      "Epoch 10\tTrain Loss: 629.905  Val Loss: 631.944\n",
      "\n"
     ]
    },
    {
     "name": "stderr",
     "output_type": "stream",
     "text": [
      "train loss: 638.894: 100%|██████████| 57/57 [00:08<00:00,  6.87it/s]\n",
      "val loss: 690.053: 100%|██████████| 15/15 [00:00<00:00, 26.28it/s]\n"
     ]
    },
    {
     "name": "stdout",
     "output_type": "stream",
     "text": [
      "Weight saved: epoch 11\n",
      "Epoch 11\tTrain Loss: 630.110  Val Loss: 630.469\n",
      "\n"
     ]
    },
    {
     "name": "stderr",
     "output_type": "stream",
     "text": [
      "train loss: 646.502: 100%|██████████| 57/57 [00:08<00:00,  6.90it/s]\n",
      "val loss: 692.639: 100%|██████████| 15/15 [00:00<00:00, 27.43it/s]\n"
     ]
    },
    {
     "name": "stdout",
     "output_type": "stream",
     "text": [
      "Epoch 12\tTrain Loss: 631.436  Val Loss: 630.900\n",
      "\n"
     ]
    },
    {
     "name": "stderr",
     "output_type": "stream",
     "text": [
      "train loss: 675.633: 100%|██████████| 57/57 [00:08<00:00,  6.88it/s]\n",
      "val loss: 689.197: 100%|██████████| 15/15 [00:00<00:00, 27.15it/s]\n"
     ]
    },
    {
     "name": "stdout",
     "output_type": "stream",
     "text": [
      "Epoch 13\tTrain Loss: 628.574  Val Loss: 631.678\n",
      "\n"
     ]
    },
    {
     "name": "stderr",
     "output_type": "stream",
     "text": [
      "train loss: 669.058: 100%|██████████| 57/57 [00:08<00:00,  6.88it/s]\n",
      "val loss: 685.018: 100%|██████████| 15/15 [00:00<00:00, 26.79it/s]\n"
     ]
    },
    {
     "name": "stdout",
     "output_type": "stream",
     "text": [
      "Weight saved: epoch 14\n",
      "Epoch 14\tTrain Loss: 628.203  Val Loss: 628.551\n",
      "\n"
     ]
    },
    {
     "name": "stderr",
     "output_type": "stream",
     "text": [
      "train loss: 535.082: 100%|██████████| 57/57 [00:08<00:00,  6.95it/s]\n",
      "val loss: 685.116: 100%|██████████| 15/15 [00:00<00:00, 28.38it/s]\n"
     ]
    },
    {
     "name": "stdout",
     "output_type": "stream",
     "text": [
      "Weight saved: epoch 15\n",
      "Epoch 15\tTrain Loss: 623.535  Val Loss: 628.414\n",
      "\n"
     ]
    },
    {
     "name": "stderr",
     "output_type": "stream",
     "text": [
      "train loss: 580.296: 100%|██████████| 57/57 [00:08<00:00,  6.78it/s]\n",
      "val loss: 693.789: 100%|██████████| 15/15 [00:00<00:00, 26.92it/s]\n"
     ]
    },
    {
     "name": "stdout",
     "output_type": "stream",
     "text": [
      "Weight saved: epoch 16\n",
      "Epoch 16\tTrain Loss: 622.876  Val Loss: 628.001\n",
      "\n"
     ]
    },
    {
     "name": "stderr",
     "output_type": "stream",
     "text": [
      "train loss: 674.892: 100%|██████████| 57/57 [00:08<00:00,  7.06it/s]\n",
      "val loss: 696.523: 100%|██████████| 15/15 [00:00<00:00, 27.19it/s]\n"
     ]
    },
    {
     "name": "stdout",
     "output_type": "stream",
     "text": [
      "Epoch 17\tTrain Loss: 624.669  Val Loss: 631.944\n",
      "\n"
     ]
    },
    {
     "name": "stderr",
     "output_type": "stream",
     "text": [
      "train loss: 622.953: 100%|██████████| 57/57 [00:08<00:00,  7.08it/s]\n",
      "val loss: 688.067: 100%|██████████| 15/15 [00:00<00:00, 26.41it/s]\n"
     ]
    },
    {
     "name": "stdout",
     "output_type": "stream",
     "text": [
      "Weight saved: epoch 18\n",
      "Epoch 18\tTrain Loss: 622.322  Val Loss: 625.329\n",
      "\n"
     ]
    },
    {
     "name": "stderr",
     "output_type": "stream",
     "text": [
      "train loss: 641.250: 100%|██████████| 57/57 [00:08<00:00,  6.64it/s]\n",
      "val loss: 688.300: 100%|██████████| 15/15 [00:00<00:00, 26.92it/s]\n"
     ]
    },
    {
     "name": "stdout",
     "output_type": "stream",
     "text": [
      "Weight saved: epoch 19\n",
      "Epoch 19\tTrain Loss: 620.314  Val Loss: 624.021\n",
      "\n"
     ]
    },
    {
     "name": "stderr",
     "output_type": "stream",
     "text": [
      "train loss: 624.660: 100%|██████████| 57/57 [00:07<00:00,  7.13it/s]\n",
      "val loss: 684.488: 100%|██████████| 15/15 [00:00<00:00, 28.25it/s]\n"
     ]
    },
    {
     "name": "stdout",
     "output_type": "stream",
     "text": [
      "Weight saved: epoch 20\n",
      "Epoch 20\tTrain Loss: 618.409  Val Loss: 622.734\n",
      "\n"
     ]
    },
    {
     "name": "stderr",
     "output_type": "stream",
     "text": [
      "train loss: 644.521: 100%|██████████| 57/57 [00:07<00:00,  7.15it/s]\n",
      "val loss: 686.249: 100%|██████████| 15/15 [00:00<00:00, 27.15it/s]\n"
     ]
    },
    {
     "name": "stdout",
     "output_type": "stream",
     "text": [
      "Weight saved: epoch 21\n",
      "Epoch 21\tTrain Loss: 618.184  Val Loss: 620.695\n",
      "\n"
     ]
    },
    {
     "name": "stderr",
     "output_type": "stream",
     "text": [
      "train loss: 634.043: 100%|██████████| 57/57 [00:08<00:00,  7.08it/s]\n",
      "val loss: 687.716: 100%|██████████| 15/15 [00:00<00:00, 28.08it/s]\n"
     ]
    },
    {
     "name": "stdout",
     "output_type": "stream",
     "text": [
      "Weight saved: epoch 22\n",
      "Epoch 22\tTrain Loss: 617.054  Val Loss: 620.290\n",
      "\n"
     ]
    },
    {
     "name": "stderr",
     "output_type": "stream",
     "text": [
      "train loss: 607.449: 100%|██████████| 57/57 [00:07<00:00,  7.18it/s]\n",
      "val loss: 681.633: 100%|██████████| 15/15 [00:00<00:00, 27.35it/s]\n"
     ]
    },
    {
     "name": "stdout",
     "output_type": "stream",
     "text": [
      "Weight saved: epoch 23\n",
      "Epoch 23\tTrain Loss: 616.034  Val Loss: 618.469\n",
      "\n"
     ]
    },
    {
     "name": "stderr",
     "output_type": "stream",
     "text": [
      "train loss: 573.292: 100%|██████████| 57/57 [00:08<00:00,  7.08it/s]\n",
      "val loss: 688.303: 100%|██████████| 15/15 [00:00<00:00, 26.07it/s]\n"
     ]
    },
    {
     "name": "stdout",
     "output_type": "stream",
     "text": [
      "Epoch 24\tTrain Loss: 613.069  Val Loss: 620.589\n",
      "\n"
     ]
    },
    {
     "name": "stderr",
     "output_type": "stream",
     "text": [
      "train loss: 657.402: 100%|██████████| 57/57 [00:07<00:00,  7.22it/s]\n",
      "val loss: 681.111: 100%|██████████| 15/15 [00:00<00:00, 27.72it/s]\n"
     ]
    },
    {
     "name": "stdout",
     "output_type": "stream",
     "text": [
      "Weight saved: epoch 25\n",
      "Epoch 25\tTrain Loss: 614.717  Val Loss: 617.179\n",
      "\n"
     ]
    },
    {
     "name": "stderr",
     "output_type": "stream",
     "text": [
      "train loss: 596.494: 100%|██████████| 57/57 [00:07<00:00,  7.14it/s]\n",
      "val loss: 681.152: 100%|██████████| 15/15 [00:00<00:00, 27.65it/s]\n"
     ]
    },
    {
     "name": "stdout",
     "output_type": "stream",
     "text": [
      "Weight saved: epoch 26\n",
      "Epoch 26\tTrain Loss: 611.366  Val Loss: 616.208\n",
      "\n"
     ]
    },
    {
     "name": "stderr",
     "output_type": "stream",
     "text": [
      "train loss: 625.417: 100%|██████████| 57/57 [00:08<00:00,  7.12it/s]\n",
      "val loss: 679.471: 100%|██████████| 15/15 [00:00<00:00, 26.73it/s]\n"
     ]
    },
    {
     "name": "stdout",
     "output_type": "stream",
     "text": [
      "Epoch 27\tTrain Loss: 611.907  Val Loss: 616.341\n",
      "\n"
     ]
    },
    {
     "name": "stderr",
     "output_type": "stream",
     "text": [
      "train loss: 598.865: 100%|██████████| 57/57 [00:08<00:00,  7.10it/s]\n",
      "val loss: 676.911: 100%|██████████| 15/15 [00:00<00:00, 27.81it/s]\n"
     ]
    },
    {
     "name": "stdout",
     "output_type": "stream",
     "text": [
      "Weight saved: epoch 28\n",
      "Epoch 28\tTrain Loss: 610.600  Val Loss: 615.832\n",
      "\n"
     ]
    },
    {
     "name": "stderr",
     "output_type": "stream",
     "text": [
      "train loss: 692.710: 100%|██████████| 57/57 [00:08<00:00,  7.01it/s]\n",
      "val loss: 679.527: 100%|██████████| 15/15 [00:00<00:00, 27.53it/s]\n"
     ]
    },
    {
     "name": "stdout",
     "output_type": "stream",
     "text": [
      "Epoch 29\tTrain Loss: 611.881  Val Loss: 616.228\n",
      "\n"
     ]
    },
    {
     "name": "stderr",
     "output_type": "stream",
     "text": [
      "train loss: 585.835: 100%|██████████| 57/57 [00:08<00:00,  7.07it/s]\n",
      "val loss: 676.586: 100%|██████████| 15/15 [00:00<00:00, 28.61it/s]\n"
     ]
    },
    {
     "name": "stdout",
     "output_type": "stream",
     "text": [
      "Epoch 30\tTrain Loss: 609.308  Val Loss: 616.906\n",
      "\n"
     ]
    },
    {
     "name": "stderr",
     "output_type": "stream",
     "text": [
      "train loss: 583.691: 100%|██████████| 57/57 [00:08<00:00,  7.12it/s]\n",
      "val loss: 677.770: 100%|██████████| 15/15 [00:00<00:00, 28.03it/s]\n"
     ]
    },
    {
     "name": "stdout",
     "output_type": "stream",
     "text": [
      "Weight saved: epoch 31\n",
      "Epoch 31\tTrain Loss: 609.464  Val Loss: 614.895\n",
      "\n"
     ]
    },
    {
     "name": "stderr",
     "output_type": "stream",
     "text": [
      "train loss: 658.249: 100%|██████████| 57/57 [00:08<00:00,  6.99it/s]\n",
      "val loss: 679.803: 100%|██████████| 15/15 [00:00<00:00, 27.10it/s]\n"
     ]
    },
    {
     "name": "stdout",
     "output_type": "stream",
     "text": [
      "Epoch 32\tTrain Loss: 609.440  Val Loss: 616.214\n",
      "\n"
     ]
    },
    {
     "name": "stderr",
     "output_type": "stream",
     "text": [
      "train loss: 609.711: 100%|██████████| 57/57 [00:08<00:00,  6.91it/s]\n",
      "val loss: 676.009: 100%|██████████| 15/15 [00:00<00:00, 27.52it/s]\n"
     ]
    },
    {
     "name": "stdout",
     "output_type": "stream",
     "text": [
      "Weight saved: epoch 33\n",
      "Epoch 33\tTrain Loss: 607.175  Val Loss: 612.565\n",
      "\n"
     ]
    },
    {
     "name": "stderr",
     "output_type": "stream",
     "text": [
      "train loss: 661.788: 100%|██████████| 57/57 [00:08<00:00,  7.04it/s]\n",
      "val loss: 675.924: 100%|██████████| 15/15 [00:00<00:00, 27.74it/s]\n"
     ]
    },
    {
     "name": "stdout",
     "output_type": "stream",
     "text": [
      "Weight saved: epoch 34\n",
      "Epoch 34\tTrain Loss: 607.491  Val Loss: 612.378\n",
      "\n"
     ]
    },
    {
     "name": "stderr",
     "output_type": "stream",
     "text": [
      "train loss: 624.483: 100%|██████████| 57/57 [00:08<00:00,  7.05it/s]\n",
      "val loss: 676.329: 100%|██████████| 15/15 [00:00<00:00, 27.49it/s]\n"
     ]
    },
    {
     "name": "stdout",
     "output_type": "stream",
     "text": [
      "Weight saved: epoch 35\n",
      "Epoch 35\tTrain Loss: 606.679  Val Loss: 612.343\n",
      "\n"
     ]
    },
    {
     "name": "stderr",
     "output_type": "stream",
     "text": [
      "train loss: 593.394: 100%|██████████| 57/57 [00:08<00:00,  7.09it/s]\n",
      "val loss: 676.106: 100%|██████████| 15/15 [00:00<00:00, 28.06it/s]\n"
     ]
    },
    {
     "name": "stdout",
     "output_type": "stream",
     "text": [
      "Weight saved: epoch 36\n",
      "Epoch 36\tTrain Loss: 606.007  Val Loss: 612.138\n",
      "\n"
     ]
    },
    {
     "name": "stderr",
     "output_type": "stream",
     "text": [
      "train loss: 610.794: 100%|██████████| 57/57 [00:08<00:00,  7.07it/s]\n",
      "val loss: 676.808: 100%|██████████| 15/15 [00:00<00:00, 27.30it/s]\n"
     ]
    },
    {
     "name": "stdout",
     "output_type": "stream",
     "text": [
      "Weight saved: epoch 37\n",
      "Epoch 37\tTrain Loss: 606.216  Val Loss: 612.096\n",
      "\n"
     ]
    },
    {
     "name": "stderr",
     "output_type": "stream",
     "text": [
      "train loss: 585.181: 100%|██████████| 57/57 [00:08<00:00,  6.95it/s]\n",
      "val loss: 676.489: 100%|██████████| 15/15 [00:00<00:00, 27.00it/s]\n"
     ]
    },
    {
     "name": "stdout",
     "output_type": "stream",
     "text": [
      "Weight saved: epoch 38\n",
      "Epoch 38\tTrain Loss: 605.670  Val Loss: 611.894\n",
      "\n"
     ]
    },
    {
     "name": "stderr",
     "output_type": "stream",
     "text": [
      "train loss: 516.229: 100%|██████████| 57/57 [00:08<00:00,  6.91it/s]\n",
      "val loss: 676.970: 100%|██████████| 15/15 [00:00<00:00, 27.53it/s]\n"
     ]
    },
    {
     "name": "stdout",
     "output_type": "stream",
     "text": [
      "Epoch 39\tTrain Loss: 604.353  Val Loss: 611.971\n",
      "\n"
     ]
    },
    {
     "name": "stderr",
     "output_type": "stream",
     "text": [
      "train loss: 545.997: 100%|██████████| 57/57 [00:08<00:00,  6.82it/s]\n",
      "val loss: 676.565: 100%|██████████| 15/15 [00:00<00:00, 26.26it/s]\n"
     ]
    },
    {
     "name": "stdout",
     "output_type": "stream",
     "text": [
      "Weight saved: epoch 40\n",
      "Epoch 40\tTrain Loss: 604.792  Val Loss: 611.766\n",
      "\n"
     ]
    },
    {
     "name": "stderr",
     "output_type": "stream",
     "text": [
      "train loss: 599.095: 100%|██████████| 57/57 [00:08<00:00,  6.71it/s]\n",
      "val loss: 676.562: 100%|██████████| 15/15 [00:00<00:00, 27.17it/s]\n"
     ]
    },
    {
     "name": "stdout",
     "output_type": "stream",
     "text": [
      "Epoch 41\tTrain Loss: 605.640  Val Loss: 611.798\n",
      "\n"
     ]
    },
    {
     "name": "stderr",
     "output_type": "stream",
     "text": [
      "train loss: 649.624: 100%|██████████| 57/57 [00:08<00:00,  6.74it/s]\n",
      "val loss: 676.059: 100%|██████████| 15/15 [00:00<00:00, 26.86it/s]\n"
     ]
    },
    {
     "name": "stdout",
     "output_type": "stream",
     "text": [
      "Weight saved: epoch 42\n",
      "Epoch 42\tTrain Loss: 606.400  Val Loss: 611.613\n",
      "\n"
     ]
    },
    {
     "name": "stderr",
     "output_type": "stream",
     "text": [
      "train loss: 639.814: 100%|██████████| 57/57 [00:08<00:00,  6.72it/s]\n",
      "val loss: 676.960: 100%|██████████| 15/15 [00:00<00:00, 26.89it/s]\n"
     ]
    },
    {
     "name": "stdout",
     "output_type": "stream",
     "text": [
      "Epoch 43\tTrain Loss: 606.118  Val Loss: 611.739\n",
      "\n"
     ]
    },
    {
     "name": "stderr",
     "output_type": "stream",
     "text": [
      "train loss: 599.469: 100%|██████████| 57/57 [00:08<00:00,  7.06it/s]\n",
      "val loss: 675.953: 100%|██████████| 15/15 [00:00<00:00, 28.38it/s]\n"
     ]
    },
    {
     "name": "stdout",
     "output_type": "stream",
     "text": [
      "Weight saved: epoch 44\n",
      "Epoch 44\tTrain Loss: 605.345  Val Loss: 611.503\n",
      "\n"
     ]
    },
    {
     "name": "stderr",
     "output_type": "stream",
     "text": [
      "train loss: 578.136: 100%|██████████| 57/57 [00:08<00:00,  7.11it/s]\n",
      "val loss: 676.186: 100%|██████████| 15/15 [00:00<00:00, 28.07it/s]\n"
     ]
    },
    {
     "name": "stdout",
     "output_type": "stream",
     "text": [
      "Weight saved: epoch 45\n",
      "Epoch 45\tTrain Loss: 604.766  Val Loss: 611.452\n",
      "\n"
     ]
    },
    {
     "name": "stderr",
     "output_type": "stream",
     "text": [
      "train loss: 688.266: 100%|██████████| 57/57 [00:08<00:00,  6.77it/s]\n",
      "val loss: 676.347: 100%|██████████| 15/15 [00:00<00:00, 26.43it/s]\n"
     ]
    },
    {
     "name": "stdout",
     "output_type": "stream",
     "text": [
      "Weight saved: epoch 46\n",
      "Epoch 46\tTrain Loss: 606.612  Val Loss: 611.450\n",
      "\n"
     ]
    },
    {
     "name": "stderr",
     "output_type": "stream",
     "text": [
      "train loss: 673.679: 100%|██████████| 57/57 [00:08<00:00,  6.87it/s]\n",
      "val loss: 676.294: 100%|██████████| 15/15 [00:00<00:00, 28.73it/s]\n"
     ]
    },
    {
     "name": "stdout",
     "output_type": "stream",
     "text": [
      "Weight saved: epoch 47\n",
      "Epoch 47\tTrain Loss: 606.340  Val Loss: 611.417\n",
      "\n"
     ]
    },
    {
     "name": "stderr",
     "output_type": "stream",
     "text": [
      "train loss: 568.551: 100%|██████████| 57/57 [00:08<00:00,  6.74it/s]\n",
      "val loss: 676.262: 100%|██████████| 15/15 [00:00<00:00, 26.60it/s]\n"
     ]
    },
    {
     "name": "stdout",
     "output_type": "stream",
     "text": [
      "Weight saved: epoch 48\n",
      "Epoch 48\tTrain Loss: 604.520  Val Loss: 611.403\n",
      "\n"
     ]
    },
    {
     "name": "stderr",
     "output_type": "stream",
     "text": [
      "train loss: 578.392: 100%|██████████| 57/57 [00:08<00:00,  7.10it/s]\n",
      "val loss: 676.172: 100%|██████████| 15/15 [00:00<00:00, 27.32it/s]\n"
     ]
    },
    {
     "name": "stdout",
     "output_type": "stream",
     "text": [
      "Weight saved: epoch 49\n",
      "Epoch 49\tTrain Loss: 604.675  Val Loss: 611.390\n",
      "\n"
     ]
    },
    {
     "name": "stderr",
     "output_type": "stream",
     "text": [
      "train loss: 591.958: 100%|██████████| 57/57 [00:08<00:00,  7.00it/s]\n",
      "val loss: 676.229: 100%|██████████| 15/15 [00:00<00:00, 28.25it/s]\n"
     ]
    },
    {
     "name": "stdout",
     "output_type": "stream",
     "text": [
      "Epoch 50\tTrain Loss: 604.895  Val Loss: 611.399\n",
      "\n"
     ]
    },
    {
     "name": "stderr",
     "output_type": "stream",
     "text": [
      "train loss: 641.817: 100%|██████████| 57/57 [00:08<00:00,  7.12it/s]\n",
      "val loss: 676.196: 100%|██████████| 15/15 [00:00<00:00, 26.74it/s]\n"
     ]
    },
    {
     "name": "stdout",
     "output_type": "stream",
     "text": [
      "Weight saved: epoch 51\n",
      "Epoch 51\tTrain Loss: 605.732  Val Loss: 611.363\n",
      "\n"
     ]
    },
    {
     "name": "stderr",
     "output_type": "stream",
     "text": [
      "train loss: 568.459: 100%|██████████| 57/57 [00:07<00:00,  7.20it/s]\n",
      "val loss: 676.355: 100%|██████████| 15/15 [00:00<00:00, 27.39it/s]\n"
     ]
    },
    {
     "name": "stdout",
     "output_type": "stream",
     "text": [
      "Epoch 52\tTrain Loss: 604.463  Val Loss: 611.378\n",
      "\n"
     ]
    },
    {
     "name": "stderr",
     "output_type": "stream",
     "text": [
      "train loss: 595.826: 100%|██████████| 57/57 [00:07<00:00,  7.23it/s]\n",
      "val loss: 676.302: 100%|██████████| 15/15 [00:00<00:00, 27.81it/s]\n"
     ]
    },
    {
     "name": "stdout",
     "output_type": "stream",
     "text": [
      "Epoch 53\tTrain Loss: 604.920  Val Loss: 611.365\n",
      "\n"
     ]
    },
    {
     "name": "stderr",
     "output_type": "stream",
     "text": [
      "train loss: 612.241: 100%|██████████| 57/57 [00:07<00:00,  7.22it/s]\n",
      "val loss: 676.308: 100%|██████████| 15/15 [00:00<00:00, 28.65it/s]\n"
     ]
    },
    {
     "name": "stdout",
     "output_type": "stream",
     "text": [
      "Weight saved: epoch 54\n",
      "Epoch 54\tTrain Loss: 605.190  Val Loss: 611.341\n",
      "\n"
     ]
    },
    {
     "name": "stderr",
     "output_type": "stream",
     "text": [
      "train loss: 614.217: 100%|██████████| 57/57 [00:07<00:00,  7.13it/s]\n",
      "val loss: 676.157: 100%|██████████| 15/15 [00:00<00:00, 27.56it/s]\n"
     ]
    },
    {
     "name": "stdout",
     "output_type": "stream",
     "text": [
      "Weight saved: epoch 55\n",
      "Epoch 55\tTrain Loss: 605.211  Val Loss: 611.325\n",
      "\n"
     ]
    },
    {
     "name": "stderr",
     "output_type": "stream",
     "text": [
      "train loss: 644.593: 100%|██████████| 57/57 [00:08<00:00,  6.97it/s]\n",
      "val loss: 676.215: 100%|██████████| 15/15 [00:00<00:00, 28.63it/s]\n"
     ]
    },
    {
     "name": "stdout",
     "output_type": "stream",
     "text": [
      "Epoch 56\tTrain Loss: 605.702  Val Loss: 611.327\n",
      "\n"
     ]
    },
    {
     "name": "stderr",
     "output_type": "stream",
     "text": [
      "train loss: 596.283: 100%|██████████| 57/57 [00:08<00:00,  7.11it/s]\n",
      "val loss: 676.214: 100%|██████████| 15/15 [00:00<00:00, 28.37it/s]\n"
     ]
    },
    {
     "name": "stdout",
     "output_type": "stream",
     "text": [
      "Weight saved: epoch 57\n",
      "Epoch 57\tTrain Loss: 604.872  Val Loss: 611.325\n",
      "\n"
     ]
    },
    {
     "name": "stderr",
     "output_type": "stream",
     "text": [
      "train loss: 610.245: 100%|██████████| 57/57 [00:08<00:00,  7.10it/s]\n",
      "val loss: 676.207: 100%|██████████| 15/15 [00:00<00:00, 26.66it/s]\n"
     ]
    },
    {
     "name": "stdout",
     "output_type": "stream",
     "text": [
      "Weight saved: epoch 58\n",
      "Epoch 58\tTrain Loss: 605.111  Val Loss: 611.324\n",
      "\n"
     ]
    },
    {
     "name": "stderr",
     "output_type": "stream",
     "text": [
      "train loss: 668.599: 100%|██████████| 57/57 [00:07<00:00,  7.14it/s]\n",
      "val loss: 676.242: 100%|██████████| 15/15 [00:00<00:00, 28.17it/s]\n"
     ]
    },
    {
     "name": "stdout",
     "output_type": "stream",
     "text": [
      "Epoch 59\tTrain Loss: 606.109  Val Loss: 611.324\n",
      "\n"
     ]
    },
    {
     "name": "stderr",
     "output_type": "stream",
     "text": [
      "train loss: 569.584: 100%|██████████| 57/57 [00:08<00:00,  7.11it/s]\n",
      "val loss: 676.221: 100%|██████████| 15/15 [00:00<00:00, 26.99it/s]\n"
     ]
    },
    {
     "name": "stdout",
     "output_type": "stream",
     "text": [
      "Epoch 60\tTrain Loss: 604.411  Val Loss: 611.330\n",
      "\n"
     ]
    },
    {
     "name": "stderr",
     "output_type": "stream",
     "text": [
      "train loss: 600.715: 100%|██████████| 57/57 [00:07<00:00,  7.20it/s]\n",
      "val loss: 676.240: 100%|██████████| 15/15 [00:00<00:00, 29.10it/s]\n"
     ]
    },
    {
     "name": "stdout",
     "output_type": "stream",
     "text": [
      "Epoch 61\tTrain Loss: 604.944  Val Loss: 611.325\n",
      "\n"
     ]
    },
    {
     "name": "stderr",
     "output_type": "stream",
     "text": [
      "train loss: 612.356: 100%|██████████| 57/57 [00:08<00:00,  7.06it/s]\n",
      "val loss: 676.244: 100%|██████████| 15/15 [00:00<00:00, 28.00it/s]\n"
     ]
    },
    {
     "name": "stdout",
     "output_type": "stream",
     "text": [
      "Epoch 62\tTrain Loss: 605.141  Val Loss: 611.325\n",
      "\n"
     ]
    },
    {
     "name": "stderr",
     "output_type": "stream",
     "text": [
      "train loss: 608.323: 100%|██████████| 57/57 [00:07<00:00,  7.29it/s]\n",
      "val loss: 676.218: 100%|██████████| 15/15 [00:00<00:00, 30.14it/s]\n"
     ]
    },
    {
     "name": "stdout",
     "output_type": "stream",
     "text": [
      "Weight saved: epoch 63\n",
      "Epoch 63\tTrain Loss: 605.072  Val Loss: 611.321\n",
      "\n"
     ]
    },
    {
     "name": "stderr",
     "output_type": "stream",
     "text": [
      "train loss: 615.370: 100%|██████████| 57/57 [00:07<00:00,  7.43it/s]\n",
      "val loss: 676.229: 100%|██████████| 15/15 [00:00<00:00, 28.91it/s]\n"
     ]
    },
    {
     "name": "stdout",
     "output_type": "stream",
     "text": [
      "Epoch 64\tTrain Loss: 605.190  Val Loss: 611.321\n",
      "\n"
     ]
    },
    {
     "name": "stderr",
     "output_type": "stream",
     "text": [
      "train loss: 574.608: 100%|██████████| 57/57 [00:07<00:00,  7.50it/s]\n",
      "val loss: 676.216: 100%|██████████| 15/15 [00:00<00:00, 30.50it/s]\n"
     ]
    },
    {
     "name": "stdout",
     "output_type": "stream",
     "text": [
      "Weight saved: epoch 65\n",
      "Epoch 65\tTrain Loss: 604.491  Val Loss: 611.319\n",
      "\n"
     ]
    },
    {
     "name": "stderr",
     "output_type": "stream",
     "text": [
      "train loss: 589.521: 100%|██████████| 57/57 [00:07<00:00,  7.62it/s]\n",
      "val loss: 676.256: 100%|██████████| 15/15 [00:00<00:00, 30.25it/s]\n"
     ]
    },
    {
     "name": "stdout",
     "output_type": "stream",
     "text": [
      "Epoch 66\tTrain Loss: 604.746  Val Loss: 611.319\n",
      "\n"
     ]
    },
    {
     "name": "stderr",
     "output_type": "stream",
     "text": [
      "train loss: 621.344: 100%|██████████| 57/57 [00:07<00:00,  7.59it/s]\n",
      "val loss: 676.249: 100%|██████████| 15/15 [00:00<00:00, 30.20it/s]\n"
     ]
    },
    {
     "name": "stdout",
     "output_type": "stream",
     "text": [
      "Epoch 67\tTrain Loss: 605.287  Val Loss: 611.319\n",
      "\n"
     ]
    },
    {
     "name": "stderr",
     "output_type": "stream",
     "text": [
      "train loss: 674.416: 100%|██████████| 57/57 [00:07<00:00,  7.61it/s]\n",
      "val loss: 676.247: 100%|██████████| 15/15 [00:00<00:00, 30.15it/s]\n"
     ]
    },
    {
     "name": "stdout",
     "output_type": "stream",
     "text": [
      "Epoch 68\tTrain Loss: 606.196  Val Loss: 611.319\n",
      "\n"
     ]
    },
    {
     "name": "stderr",
     "output_type": "stream",
     "text": [
      "train loss: 631.636: 100%|██████████| 57/57 [00:07<00:00,  7.57it/s]\n",
      "val loss: 676.246: 100%|██████████| 15/15 [00:00<00:00, 29.09it/s]\n"
     ]
    },
    {
     "name": "stdout",
     "output_type": "stream",
     "text": [
      "Weight saved: epoch 69\n",
      "Epoch 69\tTrain Loss: 605.463  Val Loss: 611.318\n",
      "\n"
     ]
    },
    {
     "name": "stderr",
     "output_type": "stream",
     "text": [
      "train loss: 629.148: 100%|██████████| 57/57 [00:07<00:00,  7.58it/s]\n",
      "val loss: 676.245: 100%|██████████| 15/15 [00:00<00:00, 30.71it/s]\n"
     ]
    },
    {
     "name": "stdout",
     "output_type": "stream",
     "text": [
      "Weight saved: epoch 70\n",
      "Epoch 70\tTrain Loss: 605.421  Val Loss: 611.318\n",
      "\n"
     ]
    },
    {
     "name": "stderr",
     "output_type": "stream",
     "text": [
      "train loss: 616.062: 100%|██████████| 57/57 [00:07<00:00,  7.63it/s]\n",
      "val loss: 676.247: 100%|██████████| 15/15 [00:00<00:00, 30.32it/s]\n"
     ]
    },
    {
     "name": "stdout",
     "output_type": "stream",
     "text": [
      "Epoch 71\tTrain Loss: 605.196  Val Loss: 611.319\n",
      "\n"
     ]
    },
    {
     "name": "stderr",
     "output_type": "stream",
     "text": [
      "train loss: 642.509: 100%|██████████| 57/57 [00:07<00:00,  7.63it/s]\n",
      "val loss: 676.248: 100%|██████████| 15/15 [00:00<00:00, 30.55it/s]\n"
     ]
    },
    {
     "name": "stdout",
     "output_type": "stream",
     "text": [
      "Epoch 72\tTrain Loss: 605.649  Val Loss: 611.318\n",
      "\n"
     ]
    },
    {
     "name": "stderr",
     "output_type": "stream",
     "text": [
      "train loss: 669.163: 100%|██████████| 57/57 [00:07<00:00,  7.59it/s]\n",
      "val loss: 676.247: 100%|██████████| 15/15 [00:00<00:00, 30.61it/s]\n"
     ]
    },
    {
     "name": "stdout",
     "output_type": "stream",
     "text": [
      "Epoch 73\tTrain Loss: 606.106  Val Loss: 611.318\n",
      "\n"
     ]
    },
    {
     "name": "stderr",
     "output_type": "stream",
     "text": [
      "train loss: 614.981: 100%|██████████| 57/57 [00:07<00:00,  7.60it/s]\n",
      "val loss: 676.250: 100%|██████████| 15/15 [00:00<00:00, 30.33it/s]\n"
     ]
    },
    {
     "name": "stdout",
     "output_type": "stream",
     "text": [
      "Epoch 74\tTrain Loss: 605.177  Val Loss: 611.318\n",
      "\n"
     ]
    },
    {
     "name": "stderr",
     "output_type": "stream",
     "text": [
      "train loss: 601.358: 100%|██████████| 57/57 [00:07<00:00,  7.59it/s]\n",
      "val loss: 676.247: 100%|██████████| 15/15 [00:00<00:00, 30.39it/s]\n"
     ]
    },
    {
     "name": "stdout",
     "output_type": "stream",
     "text": [
      "Weight saved: epoch 75\n",
      "Epoch 75\tTrain Loss: 604.944  Val Loss: 611.317\n",
      "\n"
     ]
    },
    {
     "name": "stderr",
     "output_type": "stream",
     "text": [
      "train loss: 638.901: 100%|██████████| 57/57 [00:07<00:00,  7.60it/s]\n",
      "val loss: 676.249: 100%|██████████| 15/15 [00:00<00:00, 29.92it/s]\n"
     ]
    },
    {
     "name": "stdout",
     "output_type": "stream",
     "text": [
      "Epoch 76\tTrain Loss: 605.587  Val Loss: 611.318\n",
      "\n"
     ]
    },
    {
     "name": "stderr",
     "output_type": "stream",
     "text": [
      "train loss: 687.206: 100%|██████████| 57/57 [00:07<00:00,  7.63it/s]\n",
      "val loss: 676.250: 100%|██████████| 15/15 [00:00<00:00, 30.58it/s]\n"
     ]
    },
    {
     "name": "stdout",
     "output_type": "stream",
     "text": [
      "Epoch 77\tTrain Loss: 606.415  Val Loss: 611.318\n",
      "\n"
     ]
    },
    {
     "name": "stderr",
     "output_type": "stream",
     "text": [
      "train loss: 676.400: 100%|██████████| 57/57 [00:07<00:00,  7.64it/s]\n",
      "val loss: 676.248: 100%|██████████| 15/15 [00:00<00:00, 30.44it/s]\n"
     ]
    },
    {
     "name": "stdout",
     "output_type": "stream",
     "text": [
      "Epoch 78\tTrain Loss: 606.229  Val Loss: 611.318\n",
      "\n"
     ]
    },
    {
     "name": "stderr",
     "output_type": "stream",
     "text": [
      "train loss: 581.583: 100%|██████████| 57/57 [00:07<00:00,  7.52it/s]\n",
      "val loss: 676.249: 100%|██████████| 15/15 [00:00<00:00, 29.41it/s]\n"
     ]
    },
    {
     "name": "stdout",
     "output_type": "stream",
     "text": [
      "Epoch 79\tTrain Loss: 604.605  Val Loss: 611.318\n",
      "\n"
     ]
    },
    {
     "name": "stderr",
     "output_type": "stream",
     "text": [
      "train loss: 601.577: 100%|██████████| 57/57 [00:07<00:00,  7.52it/s]\n",
      "val loss: 676.251: 100%|██████████| 15/15 [00:00<00:00, 30.44it/s]\n"
     ]
    },
    {
     "name": "stdout",
     "output_type": "stream",
     "text": [
      "Epoch 80\tTrain Loss: 604.947  Val Loss: 611.318\n",
      "\n"
     ]
    },
    {
     "name": "stderr",
     "output_type": "stream",
     "text": [
      "train loss: 561.495: 100%|██████████| 57/57 [00:07<00:00,  7.55it/s]\n",
      "val loss: 676.249: 100%|██████████| 15/15 [00:00<00:00, 29.17it/s]\n"
     ]
    },
    {
     "name": "stdout",
     "output_type": "stream",
     "text": [
      "Weight saved: epoch 81\n",
      "Epoch 81\tTrain Loss: 604.260  Val Loss: 611.317\n",
      "\n"
     ]
    },
    {
     "name": "stderr",
     "output_type": "stream",
     "text": [
      "train loss: 684.756: 100%|██████████| 57/57 [00:07<00:00,  7.46it/s]\n",
      "val loss: 676.249: 100%|██████████| 15/15 [00:00<00:00, 30.00it/s]\n"
     ]
    },
    {
     "name": "stdout",
     "output_type": "stream",
     "text": [
      "Weight saved: epoch 82\n",
      "Epoch 82\tTrain Loss: 606.372  Val Loss: 611.317\n",
      "\n"
     ]
    },
    {
     "name": "stderr",
     "output_type": "stream",
     "text": [
      "train loss: 625.158: 100%|██████████| 57/57 [00:08<00:00,  7.11it/s]\n",
      "val loss: 676.249: 100%|██████████| 15/15 [00:00<00:00, 27.35it/s]\n"
     ]
    },
    {
     "name": "stdout",
     "output_type": "stream",
     "text": [
      "Epoch 83\tTrain Loss: 605.351  Val Loss: 611.318\n",
      "\n"
     ]
    },
    {
     "name": "stderr",
     "output_type": "stream",
     "text": [
      "train loss: 650.417: 100%|██████████| 57/57 [00:08<00:00,  7.02it/s]\n",
      "val loss: 676.251: 100%|██████████| 15/15 [00:00<00:00, 28.45it/s]\n"
     ]
    },
    {
     "name": "stdout",
     "output_type": "stream",
     "text": [
      "Epoch 84\tTrain Loss: 605.783  Val Loss: 611.318\n",
      "\n"
     ]
    },
    {
     "name": "stderr",
     "output_type": "stream",
     "text": [
      "train loss: 612.192: 100%|██████████| 57/57 [00:07<00:00,  7.17it/s]\n",
      "val loss: 676.250: 100%|██████████| 15/15 [00:00<00:00, 29.04it/s]\n"
     ]
    },
    {
     "name": "stdout",
     "output_type": "stream",
     "text": [
      "Epoch 85\tTrain Loss: 605.129  Val Loss: 611.319\n",
      "\n"
     ]
    },
    {
     "name": "stderr",
     "output_type": "stream",
     "text": [
      "train loss: 568.313: 100%|██████████| 57/57 [00:07<00:00,  7.40it/s]\n",
      "val loss: 676.248: 100%|██████████| 15/15 [00:00<00:00, 29.49it/s]\n"
     ]
    },
    {
     "name": "stdout",
     "output_type": "stream",
     "text": [
      "Epoch 86\tTrain Loss: 604.377  Val Loss: 611.318\n",
      "\n"
     ]
    },
    {
     "name": "stderr",
     "output_type": "stream",
     "text": [
      "train loss: 632.585: 100%|██████████| 57/57 [00:07<00:00,  7.21it/s]\n",
      "val loss: 676.250: 100%|██████████| 15/15 [00:00<00:00, 30.03it/s]\n"
     ]
    },
    {
     "name": "stdout",
     "output_type": "stream",
     "text": [
      "Epoch 87\tTrain Loss: 605.478  Val Loss: 611.318\n",
      "\n"
     ]
    },
    {
     "name": "stderr",
     "output_type": "stream",
     "text": [
      "train loss: 638.150: 100%|██████████| 57/57 [00:07<00:00,  7.57it/s]\n",
      "val loss: 676.253: 100%|██████████| 15/15 [00:00<00:00, 30.10it/s]\n"
     ]
    },
    {
     "name": "stdout",
     "output_type": "stream",
     "text": [
      "Epoch 88\tTrain Loss: 605.573  Val Loss: 611.317\n",
      "\n"
     ]
    },
    {
     "name": "stderr",
     "output_type": "stream",
     "text": [
      "train loss: 628.428: 100%|██████████| 57/57 [00:07<00:00,  7.61it/s]\n",
      "val loss: 676.253: 100%|██████████| 15/15 [00:00<00:00, 30.43it/s]\n"
     ]
    },
    {
     "name": "stdout",
     "output_type": "stream",
     "text": [
      "Epoch 89\tTrain Loss: 605.406  Val Loss: 611.317\n",
      "\n"
     ]
    },
    {
     "name": "stderr",
     "output_type": "stream",
     "text": [
      "train loss: 621.791: 100%|██████████| 57/57 [00:07<00:00,  7.52it/s]\n",
      "val loss: 676.254: 100%|██████████| 15/15 [00:00<00:00, 29.70it/s]\n"
     ]
    },
    {
     "name": "stdout",
     "output_type": "stream",
     "text": [
      "Weight saved: epoch 90\n",
      "Epoch 90\tTrain Loss: 605.292  Val Loss: 611.317\n",
      "\n"
     ]
    },
    {
     "name": "stderr",
     "output_type": "stream",
     "text": [
      "train loss: 586.819: 100%|██████████| 57/57 [00:07<00:00,  7.50it/s]\n",
      "val loss: 676.252: 100%|██████████| 15/15 [00:00<00:00, 30.06it/s]\n"
     ]
    },
    {
     "name": "stdout",
     "output_type": "stream",
     "text": [
      "Weight saved: epoch 91\n",
      "Epoch 91\tTrain Loss: 604.693  Val Loss: 611.317\n",
      "\n"
     ]
    },
    {
     "name": "stderr",
     "output_type": "stream",
     "text": [
      "train loss: 590.131: 100%|██████████| 57/57 [00:07<00:00,  7.21it/s]\n",
      "val loss: 676.252: 100%|██████████| 15/15 [00:00<00:00, 27.18it/s]\n"
     ]
    },
    {
     "name": "stdout",
     "output_type": "stream",
     "text": [
      "Epoch 92\tTrain Loss: 604.750  Val Loss: 611.317\n",
      "\n"
     ]
    },
    {
     "name": "stderr",
     "output_type": "stream",
     "text": [
      "train loss: 589.695: 100%|██████████| 57/57 [00:07<00:00,  7.25it/s]\n",
      "val loss: 676.251: 100%|██████████| 15/15 [00:00<00:00, 28.54it/s]\n"
     ]
    },
    {
     "name": "stdout",
     "output_type": "stream",
     "text": [
      "Weight saved: epoch 93\n",
      "Epoch 93\tTrain Loss: 604.742  Val Loss: 611.316\n",
      "\n"
     ]
    },
    {
     "name": "stderr",
     "output_type": "stream",
     "text": [
      "train loss: 561.836: 100%|██████████| 57/57 [00:07<00:00,  7.46it/s]\n",
      "val loss: 676.248: 100%|██████████| 15/15 [00:00<00:00, 30.13it/s]\n"
     ]
    },
    {
     "name": "stdout",
     "output_type": "stream",
     "text": [
      "Epoch 94\tTrain Loss: 604.265  Val Loss: 611.316\n",
      "\n"
     ]
    },
    {
     "name": "stderr",
     "output_type": "stream",
     "text": [
      "train loss: 583.560: 100%|██████████| 57/57 [00:07<00:00,  7.51it/s]\n",
      "val loss: 676.251: 100%|██████████| 15/15 [00:00<00:00, 30.11it/s]\n"
     ]
    },
    {
     "name": "stdout",
     "output_type": "stream",
     "text": [
      "Epoch 95\tTrain Loss: 604.637  Val Loss: 611.316\n",
      "\n"
     ]
    },
    {
     "name": "stderr",
     "output_type": "stream",
     "text": [
      "train loss: 638.917: 100%|██████████| 57/57 [00:07<00:00,  7.39it/s]\n",
      "val loss: 676.251: 100%|██████████| 15/15 [00:00<00:00, 29.02it/s]\n"
     ]
    },
    {
     "name": "stdout",
     "output_type": "stream",
     "text": [
      "Weight saved: epoch 96\n",
      "Epoch 96\tTrain Loss: 605.585  Val Loss: 611.316\n",
      "\n"
     ]
    },
    {
     "name": "stderr",
     "output_type": "stream",
     "text": [
      "train loss: 577.671: 100%|██████████| 57/57 [00:08<00:00,  7.06it/s]\n",
      "val loss: 676.252: 100%|██████████| 15/15 [00:00<00:00, 28.06it/s]\n"
     ]
    },
    {
     "name": "stdout",
     "output_type": "stream",
     "text": [
      "Epoch 97\tTrain Loss: 604.536  Val Loss: 611.316\n",
      "\n"
     ]
    },
    {
     "name": "stderr",
     "output_type": "stream",
     "text": [
      "train loss: 603.394: 100%|██████████| 57/57 [00:07<00:00,  7.25it/s]\n",
      "val loss: 676.251: 100%|██████████| 15/15 [00:00<00:00, 30.04it/s]\n"
     ]
    },
    {
     "name": "stdout",
     "output_type": "stream",
     "text": [
      "Epoch 98\tTrain Loss: 604.977  Val Loss: 611.316\n",
      "\n"
     ]
    },
    {
     "name": "stderr",
     "output_type": "stream",
     "text": [
      "train loss: 611.594: 100%|██████████| 57/57 [00:08<00:00,  7.05it/s]\n",
      "val loss: 676.250: 100%|██████████| 15/15 [00:00<00:00, 27.32it/s]\n"
     ]
    },
    {
     "name": "stdout",
     "output_type": "stream",
     "text": [
      "Epoch 99\tTrain Loss: 605.117  Val Loss: 611.316\n",
      "\n"
     ]
    },
    {
     "name": "stderr",
     "output_type": "stream",
     "text": [
      "train loss: 630.970: 100%|██████████| 57/57 [00:08<00:00,  6.98it/s]\n",
      "val loss: 676.249: 100%|██████████| 15/15 [00:00<00:00, 26.28it/s]\n"
     ]
    },
    {
     "name": "stdout",
     "output_type": "stream",
     "text": [
      "Weight saved: epoch 100\n",
      "Epoch 100\tTrain Loss: 605.449  Val Loss: 611.316\n",
      "\n"
     ]
    },
    {
     "name": "stderr",
     "output_type": "stream",
     "text": [
      "train loss: 583.012: 100%|██████████| 57/57 [00:08<00:00,  7.05it/s]\n",
      "val loss: 676.245: 100%|██████████| 15/15 [00:00<00:00, 28.16it/s]\n"
     ]
    },
    {
     "name": "stdout",
     "output_type": "stream",
     "text": [
      "Epoch 101\tTrain Loss: 604.627  Val Loss: 611.316\n",
      "\n"
     ]
    },
    {
     "name": "stderr",
     "output_type": "stream",
     "text": [
      "train loss: 646.445: 100%|██████████| 57/57 [00:08<00:00,  7.07it/s]\n",
      "val loss: 676.250: 100%|██████████| 15/15 [00:00<00:00, 28.88it/s]\n"
     ]
    },
    {
     "name": "stdout",
     "output_type": "stream",
     "text": [
      "Epoch 102\tTrain Loss: 605.714  Val Loss: 611.316\n",
      "\n"
     ]
    },
    {
     "name": "stderr",
     "output_type": "stream",
     "text": [
      "train loss: 568.673: 100%|██████████| 57/57 [00:08<00:00,  7.10it/s]\n",
      "val loss: 676.250: 100%|██████████| 15/15 [00:00<00:00, 28.00it/s]\n"
     ]
    },
    {
     "name": "stdout",
     "output_type": "stream",
     "text": [
      "Epoch 103\tTrain Loss: 604.381  Val Loss: 611.316\n",
      "\n"
     ]
    },
    {
     "name": "stderr",
     "output_type": "stream",
     "text": [
      "train loss: 611.507: 100%|██████████| 57/57 [00:08<00:00,  7.06it/s]\n",
      "val loss: 676.250: 100%|██████████| 15/15 [00:00<00:00, 28.06it/s]\n"
     ]
    },
    {
     "name": "stdout",
     "output_type": "stream",
     "text": [
      "Epoch 104\tTrain Loss: 605.115  Val Loss: 611.316\n",
      "\n"
     ]
    },
    {
     "name": "stderr",
     "output_type": "stream",
     "text": [
      "train loss: 594.927: 100%|██████████| 57/57 [00:08<00:00,  7.06it/s]\n",
      "val loss: 676.251: 100%|██████████| 15/15 [00:00<00:00, 27.99it/s]\n"
     ]
    },
    {
     "name": "stdout",
     "output_type": "stream",
     "text": [
      "Weight saved: epoch 105\n",
      "Epoch 105\tTrain Loss: 604.831  Val Loss: 611.316\n",
      "\n"
     ]
    },
    {
     "name": "stderr",
     "output_type": "stream",
     "text": [
      "train loss: 712.317: 100%|██████████| 57/57 [00:08<00:00,  6.97it/s]\n",
      "val loss: 676.250: 100%|██████████| 15/15 [00:00<00:00, 28.43it/s]\n"
     ]
    },
    {
     "name": "stdout",
     "output_type": "stream",
     "text": [
      "Weight saved: epoch 106\n",
      "Epoch 106\tTrain Loss: 606.842  Val Loss: 611.316\n",
      "\n"
     ]
    },
    {
     "name": "stderr",
     "output_type": "stream",
     "text": [
      "train loss: 641.355: 100%|██████████| 57/57 [00:08<00:00,  7.01it/s]\n",
      "val loss: 676.249: 100%|██████████| 15/15 [00:00<00:00, 28.27it/s]\n"
     ]
    },
    {
     "name": "stdout",
     "output_type": "stream",
     "text": [
      "Weight saved: epoch 107\n",
      "Epoch 107\tTrain Loss: 605.626  Val Loss: 611.316\n",
      "\n"
     ]
    },
    {
     "name": "stderr",
     "output_type": "stream",
     "text": [
      "train loss: 609.244: 100%|██████████| 57/57 [00:08<00:00,  7.01it/s]\n",
      "val loss: 676.251: 100%|██████████| 15/15 [00:00<00:00, 27.97it/s]\n"
     ]
    },
    {
     "name": "stdout",
     "output_type": "stream",
     "text": [
      "Epoch 108\tTrain Loss: 605.076  Val Loss: 611.316\n",
      "\n"
     ]
    },
    {
     "name": "stderr",
     "output_type": "stream",
     "text": [
      "train loss: 587.679: 100%|██████████| 57/57 [00:08<00:00,  7.06it/s]\n",
      "val loss: 676.250: 100%|██████████| 15/15 [00:00<00:00, 29.27it/s]\n"
     ]
    },
    {
     "name": "stdout",
     "output_type": "stream",
     "text": [
      "Epoch 109\tTrain Loss: 604.706  Val Loss: 611.316\n",
      "\n"
     ]
    },
    {
     "name": "stderr",
     "output_type": "stream",
     "text": [
      "train loss: 642.287: 100%|██████████| 57/57 [00:07<00:00,  7.47it/s]\n",
      "val loss: 676.247: 100%|██████████| 15/15 [00:00<00:00, 29.93it/s]\n"
     ]
    },
    {
     "name": "stdout",
     "output_type": "stream",
     "text": [
      "Weight saved: epoch 110\n",
      "Epoch 110\tTrain Loss: 605.642  Val Loss: 611.315\n",
      "\n"
     ]
    },
    {
     "name": "stderr",
     "output_type": "stream",
     "text": [
      "train loss: 582.373: 100%|██████████| 57/57 [00:07<00:00,  7.52it/s]\n",
      "val loss: 676.250: 100%|██████████| 15/15 [00:00<00:00, 30.06it/s]\n"
     ]
    },
    {
     "name": "stdout",
     "output_type": "stream",
     "text": [
      "Epoch 111\tTrain Loss: 604.615  Val Loss: 611.316\n",
      "\n"
     ]
    },
    {
     "name": "stderr",
     "output_type": "stream",
     "text": [
      "train loss: 540.257: 100%|██████████| 57/57 [00:07<00:00,  7.55it/s]\n",
      "val loss: 676.248: 100%|██████████| 15/15 [00:00<00:00, 29.95it/s]\n"
     ]
    },
    {
     "name": "stdout",
     "output_type": "stream",
     "text": [
      "Epoch 112\tTrain Loss: 603.893  Val Loss: 611.316\n",
      "\n"
     ]
    },
    {
     "name": "stderr",
     "output_type": "stream",
     "text": [
      "train loss: 573.715: 100%|██████████| 57/57 [00:07<00:00,  7.31it/s]\n",
      "val loss: 676.250: 100%|██████████| 15/15 [00:00<00:00, 30.26it/s]\n"
     ]
    },
    {
     "name": "stdout",
     "output_type": "stream",
     "text": [
      "Weight saved: epoch 113\n",
      "Epoch 113\tTrain Loss: 604.466  Val Loss: 611.315\n",
      "\n"
     ]
    },
    {
     "name": "stderr",
     "output_type": "stream",
     "text": [
      "train loss: 605.994: 100%|██████████| 57/57 [00:07<00:00,  7.14it/s]\n",
      "val loss: 676.251: 100%|██████████| 15/15 [00:00<00:00, 28.81it/s]\n"
     ]
    },
    {
     "name": "stdout",
     "output_type": "stream",
     "text": [
      "Epoch 114\tTrain Loss: 605.019  Val Loss: 611.316\n",
      "\n"
     ]
    },
    {
     "name": "stderr",
     "output_type": "stream",
     "text": [
      "train loss: 584.999: 100%|██████████| 57/57 [00:07<00:00,  7.21it/s]\n",
      "val loss: 676.250: 100%|██████████| 15/15 [00:00<00:00, 28.80it/s]\n"
     ]
    },
    {
     "name": "stdout",
     "output_type": "stream",
     "text": [
      "Epoch 115\tTrain Loss: 604.660  Val Loss: 611.315\n",
      "\n"
     ]
    },
    {
     "name": "stderr",
     "output_type": "stream",
     "text": [
      "train loss: 621.054: 100%|██████████| 57/57 [00:07<00:00,  7.16it/s]\n",
      "val loss: 676.249: 100%|██████████| 15/15 [00:00<00:00, 30.12it/s]\n"
     ]
    },
    {
     "name": "stdout",
     "output_type": "stream",
     "text": [
      "Epoch 116\tTrain Loss: 605.277  Val Loss: 611.315\n",
      "\n"
     ]
    },
    {
     "name": "stderr",
     "output_type": "stream",
     "text": [
      "train loss: 648.927: 100%|██████████| 57/57 [00:07<00:00,  7.49it/s]\n",
      "val loss: 676.248: 100%|██████████| 15/15 [00:00<00:00, 28.23it/s]\n"
     ]
    },
    {
     "name": "stdout",
     "output_type": "stream",
     "text": [
      "Weight saved: epoch 117\n",
      "Epoch 117\tTrain Loss: 605.755  Val Loss: 611.315\n",
      "\n"
     ]
    },
    {
     "name": "stderr",
     "output_type": "stream",
     "text": [
      "train loss: 615.333: 100%|██████████| 57/57 [00:07<00:00,  7.19it/s]\n",
      "val loss: 676.251: 100%|██████████| 15/15 [00:00<00:00, 28.95it/s]\n"
     ]
    },
    {
     "name": "stdout",
     "output_type": "stream",
     "text": [
      "Weight saved: epoch 118\n",
      "Epoch 118\tTrain Loss: 605.179  Val Loss: 611.315\n",
      "\n"
     ]
    },
    {
     "name": "stderr",
     "output_type": "stream",
     "text": [
      "train loss: 655.403: 100%|██████████| 57/57 [00:07<00:00,  7.19it/s]\n",
      "val loss: 676.251: 100%|██████████| 15/15 [00:00<00:00, 28.76it/s]\n"
     ]
    },
    {
     "name": "stdout",
     "output_type": "stream",
     "text": [
      "Epoch 119\tTrain Loss: 605.865  Val Loss: 611.315\n",
      "\n"
     ]
    },
    {
     "name": "stderr",
     "output_type": "stream",
     "text": [
      "train loss: 644.809: 100%|██████████| 57/57 [00:07<00:00,  7.21it/s]\n",
      "val loss: 676.251: 100%|██████████| 15/15 [00:00<00:00, 29.08it/s]\n"
     ]
    },
    {
     "name": "stdout",
     "output_type": "stream",
     "text": [
      "Epoch 120\tTrain Loss: 605.684  Val Loss: 611.315\n",
      "\n"
     ]
    },
    {
     "name": "stderr",
     "output_type": "stream",
     "text": [
      "train loss: 585.563: 100%|██████████| 57/57 [00:07<00:00,  7.21it/s]\n",
      "val loss: 676.254: 100%|██████████| 15/15 [00:00<00:00, 28.83it/s]\n"
     ]
    },
    {
     "name": "stdout",
     "output_type": "stream",
     "text": [
      "Weight saved: epoch 121\n",
      "Epoch 121\tTrain Loss: 604.669  Val Loss: 611.315\n",
      "\n"
     ]
    },
    {
     "name": "stderr",
     "output_type": "stream",
     "text": [
      "train loss: 578.997: 100%|██████████| 57/57 [00:07<00:00,  7.14it/s]\n",
      "val loss: 676.253: 100%|██████████| 15/15 [00:00<00:00, 28.98it/s]\n"
     ]
    },
    {
     "name": "stdout",
     "output_type": "stream",
     "text": [
      "Weight saved: epoch 122\n",
      "Epoch 122\tTrain Loss: 604.556  Val Loss: 611.314\n",
      "\n"
     ]
    },
    {
     "name": "stderr",
     "output_type": "stream",
     "text": [
      "train loss: 554.894: 100%|██████████| 57/57 [00:08<00:00,  7.08it/s]\n",
      "val loss: 676.251: 100%|██████████| 15/15 [00:00<00:00, 28.71it/s]\n"
     ]
    },
    {
     "name": "stdout",
     "output_type": "stream",
     "text": [
      "Epoch 123\tTrain Loss: 604.143  Val Loss: 611.314\n",
      "\n"
     ]
    },
    {
     "name": "stderr",
     "output_type": "stream",
     "text": [
      "train loss: 584.534: 100%|██████████| 57/57 [00:08<00:00,  7.08it/s]\n",
      "val loss: 676.251: 100%|██████████| 15/15 [00:00<00:00, 28.74it/s]\n"
     ]
    },
    {
     "name": "stdout",
     "output_type": "stream",
     "text": [
      "Epoch 124\tTrain Loss: 604.651  Val Loss: 611.314\n",
      "\n"
     ]
    },
    {
     "name": "stderr",
     "output_type": "stream",
     "text": [
      "train loss: 653.012: 100%|██████████| 57/57 [00:07<00:00,  7.19it/s]\n",
      "val loss: 676.249: 100%|██████████| 15/15 [00:00<00:00, 28.40it/s]\n"
     ]
    },
    {
     "name": "stdout",
     "output_type": "stream",
     "text": [
      "Weight saved: epoch 125\n",
      "Epoch 125\tTrain Loss: 605.824  Val Loss: 611.314\n",
      "\n"
     ]
    },
    {
     "name": "stderr",
     "output_type": "stream",
     "text": [
      "train loss: 616.470: 100%|██████████| 57/57 [00:08<00:00,  7.10it/s]\n",
      "val loss: 676.252: 100%|██████████| 15/15 [00:00<00:00, 27.76it/s]\n"
     ]
    },
    {
     "name": "stdout",
     "output_type": "stream",
     "text": [
      "Weight saved: epoch 126\n",
      "Epoch 126\tTrain Loss: 605.198  Val Loss: 611.314\n",
      "\n"
     ]
    },
    {
     "name": "stderr",
     "output_type": "stream",
     "text": [
      "train loss: 637.508: 100%|██████████| 57/57 [00:07<00:00,  7.16it/s]\n",
      "val loss: 676.254: 100%|██████████| 15/15 [00:00<00:00, 28.90it/s]\n"
     ]
    },
    {
     "name": "stdout",
     "output_type": "stream",
     "text": [
      "Epoch 127\tTrain Loss: 605.558  Val Loss: 611.314\n",
      "\n"
     ]
    },
    {
     "name": "stderr",
     "output_type": "stream",
     "text": [
      "train loss: 537.343: 100%|██████████| 57/57 [00:08<00:00,  7.11it/s]\n",
      "val loss: 676.252: 100%|██████████| 15/15 [00:00<00:00, 28.32it/s]\n"
     ]
    },
    {
     "name": "stdout",
     "output_type": "stream",
     "text": [
      "Weight saved: epoch 128\n",
      "Epoch 128\tTrain Loss: 603.842  Val Loss: 611.314\n",
      "\n"
     ]
    },
    {
     "name": "stderr",
     "output_type": "stream",
     "text": [
      "train loss: 600.641: 100%|██████████| 57/57 [00:07<00:00,  7.14it/s]\n",
      "val loss: 676.252: 100%|██████████| 15/15 [00:00<00:00, 28.85it/s]\n"
     ]
    },
    {
     "name": "stdout",
     "output_type": "stream",
     "text": [
      "Weight saved: epoch 129\n",
      "Epoch 129\tTrain Loss: 604.926  Val Loss: 611.313\n",
      "\n"
     ]
    },
    {
     "name": "stderr",
     "output_type": "stream",
     "text": [
      "train loss: 588.746: 100%|██████████| 57/57 [00:08<00:00,  7.10it/s]\n",
      "val loss: 676.252: 100%|██████████| 15/15 [00:00<00:00, 27.71it/s]\n"
     ]
    },
    {
     "name": "stdout",
     "output_type": "stream",
     "text": [
      "Epoch 130\tTrain Loss: 604.722  Val Loss: 611.314\n",
      "\n"
     ]
    },
    {
     "name": "stderr",
     "output_type": "stream",
     "text": [
      "train loss: 553.294: 100%|██████████| 57/57 [00:07<00:00,  7.13it/s]\n",
      "val loss: 676.253: 100%|██████████| 15/15 [00:00<00:00, 27.70it/s]\n"
     ]
    },
    {
     "name": "stdout",
     "output_type": "stream",
     "text": [
      "Epoch 131\tTrain Loss: 604.115  Val Loss: 611.314\n",
      "\n"
     ]
    },
    {
     "name": "stderr",
     "output_type": "stream",
     "text": [
      "train loss: 600.288: 100%|██████████| 57/57 [00:08<00:00,  7.10it/s]\n",
      "val loss: 676.254: 100%|██████████| 15/15 [00:00<00:00, 27.93it/s]\n"
     ]
    },
    {
     "name": "stdout",
     "output_type": "stream",
     "text": [
      "Epoch 132\tTrain Loss: 604.920  Val Loss: 611.314\n",
      "\n"
     ]
    },
    {
     "name": "stderr",
     "output_type": "stream",
     "text": [
      "train loss: 650.604: 100%|██████████| 57/57 [00:08<00:00,  7.12it/s]\n",
      "val loss: 676.254: 100%|██████████| 15/15 [00:00<00:00, 28.24it/s]\n"
     ]
    },
    {
     "name": "stdout",
     "output_type": "stream",
     "text": [
      "Epoch 133\tTrain Loss: 605.782  Val Loss: 611.314\n",
      "\n"
     ]
    },
    {
     "name": "stderr",
     "output_type": "stream",
     "text": [
      "train loss: 569.119: 100%|██████████| 57/57 [00:08<00:00,  7.02it/s]\n",
      "val loss: 676.253: 100%|██████████| 15/15 [00:00<00:00, 27.64it/s]\n"
     ]
    },
    {
     "name": "stdout",
     "output_type": "stream",
     "text": [
      "Epoch 134\tTrain Loss: 604.386  Val Loss: 611.314\n",
      "\n"
     ]
    },
    {
     "name": "stderr",
     "output_type": "stream",
     "text": [
      "train loss: 588.110: 100%|██████████| 57/57 [00:08<00:00,  7.01it/s]\n",
      "val loss: 676.253: 100%|██████████| 15/15 [00:00<00:00, 26.86it/s]\n"
     ]
    },
    {
     "name": "stdout",
     "output_type": "stream",
     "text": [
      "Epoch 135\tTrain Loss: 604.711  Val Loss: 611.313\n",
      "\n"
     ]
    },
    {
     "name": "stderr",
     "output_type": "stream",
     "text": [
      "train loss: 602.764: 100%|██████████| 57/57 [00:08<00:00,  6.71it/s]\n",
      "val loss: 676.256: 100%|██████████| 15/15 [00:00<00:00, 25.17it/s]\n"
     ]
    },
    {
     "name": "stdout",
     "output_type": "stream",
     "text": [
      "Epoch 136\tTrain Loss: 604.962  Val Loss: 611.313\n",
      "\n"
     ]
    },
    {
     "name": "stderr",
     "output_type": "stream",
     "text": [
      "train loss: 607.234: 100%|██████████| 57/57 [00:08<00:00,  6.92it/s]\n",
      "val loss: 676.254: 100%|██████████| 15/15 [00:00<00:00, 25.76it/s]\n"
     ]
    },
    {
     "name": "stdout",
     "output_type": "stream",
     "text": [
      "Epoch 137\tTrain Loss: 605.038  Val Loss: 611.314\n",
      "\n"
     ]
    },
    {
     "name": "stderr",
     "output_type": "stream",
     "text": [
      "train loss: 552.708: 100%|██████████| 57/57 [00:08<00:00,  6.87it/s]\n",
      "val loss: 676.254: 100%|██████████| 15/15 [00:00<00:00, 26.41it/s]\n"
     ]
    },
    {
     "name": "stdout",
     "output_type": "stream",
     "text": [
      "Weight saved: epoch 138\n",
      "Epoch 138\tTrain Loss: 604.104  Val Loss: 611.313\n",
      "\n"
     ]
    },
    {
     "name": "stderr",
     "output_type": "stream",
     "text": [
      "train loss: 619.067: 100%|██████████| 57/57 [00:08<00:00,  6.70it/s]\n",
      "val loss: 676.256: 100%|██████████| 15/15 [00:00<00:00, 26.62it/s]\n"
     ]
    },
    {
     "name": "stdout",
     "output_type": "stream",
     "text": [
      "Weight saved: epoch 139\n",
      "Epoch 139\tTrain Loss: 605.241  Val Loss: 611.313\n",
      "\n"
     ]
    },
    {
     "name": "stderr",
     "output_type": "stream",
     "text": [
      "train loss: 663.698: 100%|██████████| 57/57 [00:08<00:00,  6.72it/s]\n",
      "val loss: 676.258: 100%|██████████| 15/15 [00:00<00:00, 26.50it/s]\n"
     ]
    },
    {
     "name": "stdout",
     "output_type": "stream",
     "text": [
      "Epoch 140\tTrain Loss: 606.005  Val Loss: 611.313\n",
      "\n"
     ]
    },
    {
     "name": "stderr",
     "output_type": "stream",
     "text": [
      "train loss: 624.323: 100%|██████████| 57/57 [00:08<00:00,  6.74it/s]\n",
      "val loss: 676.256: 100%|██████████| 15/15 [00:00<00:00, 27.43it/s]\n"
     ]
    },
    {
     "name": "stdout",
     "output_type": "stream",
     "text": [
      "Weight saved: epoch 141\n",
      "Epoch 141\tTrain Loss: 605.331  Val Loss: 611.313\n",
      "\n"
     ]
    },
    {
     "name": "stderr",
     "output_type": "stream",
     "text": [
      "train loss: 617.476: 100%|██████████| 57/57 [00:08<00:00,  6.75it/s]\n",
      "val loss: 676.255: 100%|██████████| 15/15 [00:00<00:00, 27.09it/s]\n"
     ]
    },
    {
     "name": "stdout",
     "output_type": "stream",
     "text": [
      "Epoch 142\tTrain Loss: 605.213  Val Loss: 611.313\n",
      "\n"
     ]
    },
    {
     "name": "stderr",
     "output_type": "stream",
     "text": [
      "train loss: 599.663: 100%|██████████| 57/57 [00:08<00:00,  6.74it/s]\n",
      "val loss: 676.256: 100%|██████████| 15/15 [00:00<00:00, 26.80it/s]\n"
     ]
    },
    {
     "name": "stdout",
     "output_type": "stream",
     "text": [
      "Weight saved: epoch 143\n",
      "Epoch 143\tTrain Loss: 604.908  Val Loss: 611.312\n",
      "\n"
     ]
    },
    {
     "name": "stderr",
     "output_type": "stream",
     "text": [
      "train loss: 637.632: 100%|██████████| 57/57 [00:08<00:00,  6.64it/s]\n",
      "val loss: 676.254: 100%|██████████| 15/15 [00:00<00:00, 25.32it/s]\n"
     ]
    },
    {
     "name": "stdout",
     "output_type": "stream",
     "text": [
      "Epoch 144\tTrain Loss: 605.558  Val Loss: 611.312\n",
      "\n"
     ]
    },
    {
     "name": "stderr",
     "output_type": "stream",
     "text": [
      "train loss: 616.040: 100%|██████████| 57/57 [00:08<00:00,  6.64it/s]\n",
      "val loss: 676.255: 100%|██████████| 15/15 [00:00<00:00, 26.72it/s]\n"
     ]
    },
    {
     "name": "stdout",
     "output_type": "stream",
     "text": [
      "Weight saved: epoch 145\n",
      "Epoch 145\tTrain Loss: 605.188  Val Loss: 611.312\n",
      "\n"
     ]
    },
    {
     "name": "stderr",
     "output_type": "stream",
     "text": [
      "train loss: 563.321: 100%|██████████| 57/57 [00:08<00:00,  6.60it/s]\n",
      "val loss: 676.254: 100%|██████████| 15/15 [00:00<00:00, 25.88it/s]\n"
     ]
    },
    {
     "name": "stdout",
     "output_type": "stream",
     "text": [
      "Weight saved: epoch 146\n",
      "Epoch 146\tTrain Loss: 604.285  Val Loss: 611.312\n",
      "\n"
     ]
    },
    {
     "name": "stderr",
     "output_type": "stream",
     "text": [
      "train loss: 566.034: 100%|██████████| 57/57 [00:08<00:00,  6.62it/s]\n",
      "val loss: 676.254: 100%|██████████| 15/15 [00:00<00:00, 26.64it/s]\n"
     ]
    },
    {
     "name": "stdout",
     "output_type": "stream",
     "text": [
      "Epoch 147\tTrain Loss: 604.331  Val Loss: 611.312\n",
      "\n"
     ]
    },
    {
     "name": "stderr",
     "output_type": "stream",
     "text": [
      "train loss: 620.431: 100%|██████████| 57/57 [00:08<00:00,  6.61it/s]\n",
      "val loss: 676.255: 100%|██████████| 15/15 [00:00<00:00, 26.19it/s]\n"
     ]
    },
    {
     "name": "stdout",
     "output_type": "stream",
     "text": [
      "Epoch 148\tTrain Loss: 605.263  Val Loss: 611.312\n",
      "\n"
     ]
    },
    {
     "name": "stderr",
     "output_type": "stream",
     "text": [
      "train loss: 609.239: 100%|██████████| 57/57 [00:08<00:00,  6.59it/s]\n",
      "val loss: 676.256: 100%|██████████| 15/15 [00:00<00:00, 25.62it/s]\n"
     ]
    },
    {
     "name": "stdout",
     "output_type": "stream",
     "text": [
      "Epoch 149\tTrain Loss: 605.071  Val Loss: 611.312\n",
      "\n"
     ]
    },
    {
     "name": "stderr",
     "output_type": "stream",
     "text": [
      "train loss: 646.985: 100%|██████████| 57/57 [00:08<00:00,  6.61it/s]\n",
      "val loss: 676.255: 100%|██████████| 15/15 [00:00<00:00, 26.61it/s]\n"
     ]
    },
    {
     "name": "stdout",
     "output_type": "stream",
     "text": [
      "Epoch 150\tTrain Loss: 605.718  Val Loss: 611.312\n",
      "\n"
     ]
    },
    {
     "name": "stderr",
     "output_type": "stream",
     "text": [
      "train loss: 628.807: 100%|██████████| 57/57 [00:08<00:00,  6.60it/s]\n",
      "val loss: 676.255: 100%|██████████| 15/15 [00:00<00:00, 25.89it/s]\n"
     ]
    },
    {
     "name": "stdout",
     "output_type": "stream",
     "text": [
      "Epoch 151\tTrain Loss: 605.406  Val Loss: 611.312\n",
      "\n"
     ]
    },
    {
     "name": "stderr",
     "output_type": "stream",
     "text": [
      "train loss: 628.771: 100%|██████████| 57/57 [00:08<00:00,  6.61it/s]\n",
      "val loss: 676.257: 100%|██████████| 15/15 [00:00<00:00, 26.18it/s]\n"
     ]
    },
    {
     "name": "stdout",
     "output_type": "stream",
     "text": [
      "Epoch 152\tTrain Loss: 605.406  Val Loss: 611.312\n",
      "\n"
     ]
    },
    {
     "name": "stderr",
     "output_type": "stream",
     "text": [
      "train loss: 573.346: 100%|██████████| 57/57 [00:08<00:00,  6.57it/s]\n",
      "val loss: 676.257: 100%|██████████| 15/15 [00:00<00:00, 26.30it/s]\n"
     ]
    },
    {
     "name": "stdout",
     "output_type": "stream",
     "text": [
      "Epoch 153\tTrain Loss: 604.456  Val Loss: 611.312\n",
      "\n"
     ]
    },
    {
     "name": "stderr",
     "output_type": "stream",
     "text": [
      "train loss: 616.374: 100%|██████████| 57/57 [00:08<00:00,  6.61it/s]\n",
      "val loss: 676.258: 100%|██████████| 15/15 [00:00<00:00, 26.86it/s]\n"
     ]
    },
    {
     "name": "stdout",
     "output_type": "stream",
     "text": [
      "Epoch 154\tTrain Loss: 605.193  Val Loss: 611.312\n",
      "\n"
     ]
    },
    {
     "name": "stderr",
     "output_type": "stream",
     "text": [
      "train loss: 617.830: 100%|██████████| 57/57 [00:08<00:00,  6.61it/s]\n",
      "val loss: 676.257: 100%|██████████| 15/15 [00:00<00:00, 26.52it/s]\n"
     ]
    },
    {
     "name": "stdout",
     "output_type": "stream",
     "text": [
      "Epoch 155\tTrain Loss: 605.218  Val Loss: 611.312\n",
      "\n"
     ]
    },
    {
     "name": "stderr",
     "output_type": "stream",
     "text": [
      "train loss: 623.794: 100%|██████████| 57/57 [00:08<00:00,  6.61it/s]\n",
      "val loss: 676.255: 100%|██████████| 15/15 [00:00<00:00, 26.23it/s]\n"
     ]
    },
    {
     "name": "stdout",
     "output_type": "stream",
     "text": [
      "Epoch 156\tTrain Loss: 605.320  Val Loss: 611.312\n",
      "\n"
     ]
    },
    {
     "name": "stderr",
     "output_type": "stream",
     "text": [
      "train loss: 595.396: 100%|██████████| 57/57 [00:08<00:00,  6.57it/s]\n",
      "val loss: 676.257: 100%|██████████| 15/15 [00:00<00:00, 26.45it/s]\n"
     ]
    },
    {
     "name": "stdout",
     "output_type": "stream",
     "text": [
      "Epoch 157\tTrain Loss: 604.833  Val Loss: 611.312\n",
      "\n"
     ]
    },
    {
     "name": "stderr",
     "output_type": "stream",
     "text": [
      "train loss: 628.678: 100%|██████████| 57/57 [00:08<00:00,  6.68it/s]\n",
      "val loss: 676.255: 100%|██████████| 15/15 [00:00<00:00, 26.00it/s]\n"
     ]
    },
    {
     "name": "stdout",
     "output_type": "stream",
     "text": [
      "Weight saved: epoch 158\n",
      "Epoch 158\tTrain Loss: 605.404  Val Loss: 611.311\n",
      "\n"
     ]
    },
    {
     "name": "stderr",
     "output_type": "stream",
     "text": [
      "train loss: 612.740: 100%|██████████| 57/57 [00:08<00:00,  6.73it/s]\n",
      "val loss: 676.259: 100%|██████████| 15/15 [00:00<00:00, 25.89it/s]\n"
     ]
    },
    {
     "name": "stdout",
     "output_type": "stream",
     "text": [
      "Weight saved: epoch 159\n",
      "Epoch 159\tTrain Loss: 605.130  Val Loss: 611.311\n",
      "\n"
     ]
    },
    {
     "name": "stderr",
     "output_type": "stream",
     "text": [
      "train loss: 578.352: 100%|██████████| 57/57 [00:08<00:00,  6.70it/s]\n",
      "val loss: 676.257: 100%|██████████| 15/15 [00:00<00:00, 26.64it/s]\n"
     ]
    },
    {
     "name": "stdout",
     "output_type": "stream",
     "text": [
      "Epoch 160\tTrain Loss: 604.541  Val Loss: 611.312\n",
      "\n"
     ]
    },
    {
     "name": "stderr",
     "output_type": "stream",
     "text": [
      "train loss: 688.560: 100%|██████████| 57/57 [00:08<00:00,  6.67it/s]\n",
      "val loss: 676.259: 100%|██████████| 15/15 [00:00<00:00, 26.36it/s]\n"
     ]
    },
    {
     "name": "stdout",
     "output_type": "stream",
     "text": [
      "Epoch 161\tTrain Loss: 606.429  Val Loss: 611.312\n",
      "\n"
     ]
    },
    {
     "name": "stderr",
     "output_type": "stream",
     "text": [
      "train loss: 645.624: 100%|██████████| 57/57 [00:08<00:00,  6.68it/s]\n",
      "val loss: 676.257: 100%|██████████| 15/15 [00:00<00:00, 26.81it/s]\n"
     ]
    },
    {
     "name": "stdout",
     "output_type": "stream",
     "text": [
      "Epoch 162\tTrain Loss: 605.694  Val Loss: 611.311\n",
      "\n"
     ]
    },
    {
     "name": "stderr",
     "output_type": "stream",
     "text": [
      "train loss: 667.360: 100%|██████████| 57/57 [00:08<00:00,  6.72it/s]\n",
      "val loss: 676.257: 100%|██████████| 15/15 [00:00<00:00, 26.68it/s]\n"
     ]
    },
    {
     "name": "stdout",
     "output_type": "stream",
     "text": [
      "Weight saved: epoch 163\n",
      "Epoch 163\tTrain Loss: 606.066  Val Loss: 611.311\n",
      "\n"
     ]
    },
    {
     "name": "stderr",
     "output_type": "stream",
     "text": [
      "train loss: 603.543: 100%|██████████| 57/57 [00:08<00:00,  6.95it/s]\n",
      "val loss: 676.259: 100%|██████████| 15/15 [00:00<00:00, 27.58it/s]\n"
     ]
    },
    {
     "name": "stdout",
     "output_type": "stream",
     "text": [
      "Weight saved: epoch 164\n",
      "Epoch 164\tTrain Loss: 604.972  Val Loss: 611.311\n",
      "\n"
     ]
    },
    {
     "name": "stderr",
     "output_type": "stream",
     "text": [
      "train loss: 666.223: 100%|██████████| 57/57 [00:08<00:00,  7.07it/s]\n",
      "val loss: 676.258: 100%|██████████| 15/15 [00:00<00:00, 27.70it/s]\n"
     ]
    },
    {
     "name": "stdout",
     "output_type": "stream",
     "text": [
      "Epoch 165\tTrain Loss: 606.046  Val Loss: 611.311\n",
      "\n"
     ]
    },
    {
     "name": "stderr",
     "output_type": "stream",
     "text": [
      "train loss: 619.401: 100%|██████████| 57/57 [00:08<00:00,  7.06it/s]\n",
      "val loss: 676.258: 100%|██████████| 15/15 [00:00<00:00, 28.16it/s]\n"
     ]
    },
    {
     "name": "stdout",
     "output_type": "stream",
     "text": [
      "Weight saved: epoch 166\n",
      "Epoch 166\tTrain Loss: 605.244  Val Loss: 611.311\n",
      "\n"
     ]
    },
    {
     "name": "stderr",
     "output_type": "stream",
     "text": [
      "train loss: 621.866: 100%|██████████| 57/57 [00:08<00:00,  7.05it/s]\n",
      "val loss: 676.255: 100%|██████████| 15/15 [00:00<00:00, 28.80it/s]\n"
     ]
    },
    {
     "name": "stdout",
     "output_type": "stream",
     "text": [
      "Epoch 167\tTrain Loss: 605.286  Val Loss: 611.311\n",
      "\n"
     ]
    },
    {
     "name": "stderr",
     "output_type": "stream",
     "text": [
      "train loss: 519.416: 100%|██████████| 57/57 [00:07<00:00,  7.16it/s]\n",
      "val loss: 676.256: 100%|██████████| 15/15 [00:00<00:00, 28.85it/s]\n"
     ]
    },
    {
     "name": "stdout",
     "output_type": "stream",
     "text": [
      "Epoch 168\tTrain Loss: 603.531  Val Loss: 611.311\n",
      "\n"
     ]
    },
    {
     "name": "stderr",
     "output_type": "stream",
     "text": [
      "train loss: 578.654: 100%|██████████| 57/57 [00:07<00:00,  7.15it/s]\n",
      "val loss: 676.257: 100%|██████████| 15/15 [00:00<00:00, 28.29it/s]\n"
     ]
    },
    {
     "name": "stdout",
     "output_type": "stream",
     "text": [
      "Weight saved: epoch 169\n",
      "Epoch 169\tTrain Loss: 604.545  Val Loss: 611.310\n",
      "\n"
     ]
    },
    {
     "name": "stderr",
     "output_type": "stream",
     "text": [
      "train loss: 631.617: 100%|██████████| 57/57 [00:08<00:00,  7.03it/s]\n",
      "val loss: 676.255: 100%|██████████| 15/15 [00:00<00:00, 28.39it/s]\n"
     ]
    },
    {
     "name": "stdout",
     "output_type": "stream",
     "text": [
      "Epoch 170\tTrain Loss: 605.453  Val Loss: 611.311\n",
      "\n"
     ]
    },
    {
     "name": "stderr",
     "output_type": "stream",
     "text": [
      "train loss: 652.480: 100%|██████████| 57/57 [00:08<00:00,  7.07it/s]\n",
      "val loss: 676.256: 100%|██████████| 15/15 [00:00<00:00, 28.60it/s]\n"
     ]
    },
    {
     "name": "stdout",
     "output_type": "stream",
     "text": [
      "Epoch 171\tTrain Loss: 605.810  Val Loss: 611.310\n",
      "\n"
     ]
    },
    {
     "name": "stderr",
     "output_type": "stream",
     "text": [
      "train loss: 623.326: 100%|██████████| 57/57 [00:07<00:00,  7.21it/s]\n",
      "val loss: 676.258: 100%|██████████| 15/15 [00:00<00:00, 28.94it/s]\n"
     ]
    },
    {
     "name": "stdout",
     "output_type": "stream",
     "text": [
      "Epoch 172\tTrain Loss: 605.310  Val Loss: 611.311\n",
      "\n"
     ]
    },
    {
     "name": "stderr",
     "output_type": "stream",
     "text": [
      "train loss: 603.594: 100%|██████████| 57/57 [00:07<00:00,  7.47it/s]\n",
      "val loss: 676.258: 100%|██████████| 15/15 [00:00<00:00, 30.44it/s]\n"
     ]
    },
    {
     "name": "stdout",
     "output_type": "stream",
     "text": [
      "Epoch 173\tTrain Loss: 604.972  Val Loss: 611.310\n",
      "\n"
     ]
    },
    {
     "name": "stderr",
     "output_type": "stream",
     "text": [
      "train loss: 624.349: 100%|██████████| 57/57 [00:07<00:00,  7.53it/s]\n",
      "val loss: 676.254: 100%|██████████| 15/15 [00:00<00:00, 30.56it/s]\n"
     ]
    },
    {
     "name": "stdout",
     "output_type": "stream",
     "text": [
      "Weight saved: epoch 174\n",
      "Epoch 174\tTrain Loss: 605.328  Val Loss: 611.310\n",
      "\n"
     ]
    },
    {
     "name": "stderr",
     "output_type": "stream",
     "text": [
      "train loss: 519.383: 100%|██████████| 57/57 [00:07<00:00,  7.66it/s]\n",
      "val loss: 676.258: 100%|██████████| 15/15 [00:00<00:00, 31.02it/s]\n"
     ]
    },
    {
     "name": "stdout",
     "output_type": "stream",
     "text": [
      "Epoch 175\tTrain Loss: 603.529  Val Loss: 611.310\n",
      "\n"
     ]
    },
    {
     "name": "stderr",
     "output_type": "stream",
     "text": [
      "train loss: 569.332: 100%|██████████| 57/57 [00:07<00:00,  7.24it/s]\n",
      "val loss: 676.260: 100%|██████████| 15/15 [00:00<00:00, 26.06it/s]\n"
     ]
    },
    {
     "name": "stdout",
     "output_type": "stream",
     "text": [
      "Epoch 176\tTrain Loss: 604.385  Val Loss: 611.311\n",
      "\n"
     ]
    },
    {
     "name": "stderr",
     "output_type": "stream",
     "text": [
      "train loss: 625.989: 100%|██████████| 57/57 [00:07<00:00,  7.34it/s]\n",
      "val loss: 676.257: 100%|██████████| 15/15 [00:00<00:00, 29.96it/s]\n"
     ]
    },
    {
     "name": "stdout",
     "output_type": "stream",
     "text": [
      "Epoch 177\tTrain Loss: 605.356  Val Loss: 611.310\n",
      "\n"
     ]
    },
    {
     "name": "stderr",
     "output_type": "stream",
     "text": [
      "train loss: 549.166: 100%|██████████| 57/57 [00:07<00:00,  7.30it/s]\n",
      "val loss: 676.260: 100%|██████████| 15/15 [00:00<00:00, 29.44it/s]\n"
     ]
    },
    {
     "name": "stdout",
     "output_type": "stream",
     "text": [
      "Epoch 178\tTrain Loss: 604.039  Val Loss: 611.311\n",
      "\n"
     ]
    },
    {
     "name": "stderr",
     "output_type": "stream",
     "text": [
      "train loss: 598.807: 100%|██████████| 57/57 [00:07<00:00,  7.32it/s]\n",
      "val loss: 676.261: 100%|██████████| 15/15 [00:00<00:00, 26.06it/s]\n"
     ]
    },
    {
     "name": "stdout",
     "output_type": "stream",
     "text": [
      "Epoch 179\tTrain Loss: 604.890  Val Loss: 611.311\n",
      "\n"
     ]
    },
    {
     "name": "stderr",
     "output_type": "stream",
     "text": [
      "train loss: 526.047: 100%|██████████| 57/57 [00:08<00:00,  7.10it/s]\n",
      "val loss: 676.263: 100%|██████████| 15/15 [00:00<00:00, 29.60it/s]\n"
     ]
    },
    {
     "name": "stdout",
     "output_type": "stream",
     "text": [
      "Weight saved: epoch 180\n",
      "Epoch 180\tTrain Loss: 603.643  Val Loss: 611.310\n",
      "\n"
     ]
    },
    {
     "name": "stderr",
     "output_type": "stream",
     "text": [
      "train loss: 572.266: 100%|██████████| 57/57 [00:07<00:00,  7.39it/s]\n",
      "val loss: 676.264: 100%|██████████| 15/15 [00:00<00:00, 30.28it/s]\n"
     ]
    },
    {
     "name": "stdout",
     "output_type": "stream",
     "text": [
      "Weight saved: epoch 181\n",
      "Epoch 181\tTrain Loss: 604.435  Val Loss: 611.310\n",
      "\n"
     ]
    },
    {
     "name": "stderr",
     "output_type": "stream",
     "text": [
      "train loss: 600.820: 100%|██████████| 57/57 [00:07<00:00,  7.29it/s]\n",
      "val loss: 676.256: 100%|██████████| 15/15 [00:00<00:00, 25.99it/s]\n"
     ]
    },
    {
     "name": "stdout",
     "output_type": "stream",
     "text": [
      "Weight saved: epoch 182\n",
      "Epoch 182\tTrain Loss: 604.924  Val Loss: 611.309\n",
      "\n"
     ]
    },
    {
     "name": "stderr",
     "output_type": "stream",
     "text": [
      "train loss: 662.335: 100%|██████████| 57/57 [00:07<00:00,  7.16it/s]\n",
      "val loss: 676.259: 100%|██████████| 15/15 [00:00<00:00, 29.67it/s]\n"
     ]
    },
    {
     "name": "stdout",
     "output_type": "stream",
     "text": [
      "Weight saved: epoch 183\n",
      "Epoch 183\tTrain Loss: 605.978  Val Loss: 611.309\n",
      "\n"
     ]
    },
    {
     "name": "stderr",
     "output_type": "stream",
     "text": [
      "train loss: 609.715: 100%|██████████| 57/57 [00:07<00:00,  7.16it/s]\n",
      "val loss: 676.256: 100%|██████████| 15/15 [00:00<00:00, 29.45it/s]\n"
     ]
    },
    {
     "name": "stdout",
     "output_type": "stream",
     "text": [
      "Epoch 184\tTrain Loss: 605.076  Val Loss: 611.310\n",
      "\n"
     ]
    },
    {
     "name": "stderr",
     "output_type": "stream",
     "text": [
      "train loss: 620.329: 100%|██████████| 57/57 [00:07<00:00,  7.28it/s]\n",
      "val loss: 676.257: 100%|██████████| 15/15 [00:00<00:00, 30.04it/s]\n"
     ]
    },
    {
     "name": "stdout",
     "output_type": "stream",
     "text": [
      "Epoch 185\tTrain Loss: 605.258  Val Loss: 611.309\n",
      "\n"
     ]
    },
    {
     "name": "stderr",
     "output_type": "stream",
     "text": [
      "train loss: 622.874: 100%|██████████| 57/57 [00:07<00:00,  7.42it/s]\n",
      "val loss: 676.255: 100%|██████████| 15/15 [00:00<00:00, 29.87it/s]\n"
     ]
    },
    {
     "name": "stdout",
     "output_type": "stream",
     "text": [
      "Epoch 186\tTrain Loss: 605.301  Val Loss: 611.310\n",
      "\n"
     ]
    },
    {
     "name": "stderr",
     "output_type": "stream",
     "text": [
      "train loss: 651.296: 100%|██████████| 57/57 [00:07<00:00,  7.37it/s]\n",
      "val loss: 676.259: 100%|██████████| 15/15 [00:00<00:00, 29.55it/s]\n"
     ]
    },
    {
     "name": "stdout",
     "output_type": "stream",
     "text": [
      "Epoch 187\tTrain Loss: 605.788  Val Loss: 611.310\n",
      "\n"
     ]
    },
    {
     "name": "stderr",
     "output_type": "stream",
     "text": [
      "train loss: 596.999: 100%|██████████| 57/57 [00:07<00:00,  7.38it/s]\n",
      "val loss: 676.258: 100%|██████████| 15/15 [00:00<00:00, 30.08it/s]\n"
     ]
    },
    {
     "name": "stdout",
     "output_type": "stream",
     "text": [
      "Epoch 188\tTrain Loss: 604.858  Val Loss: 611.310\n",
      "\n"
     ]
    },
    {
     "name": "stderr",
     "output_type": "stream",
     "text": [
      "train loss: 570.224: 100%|██████████| 57/57 [00:07<00:00,  7.43it/s]\n",
      "val loss: 676.259: 100%|██████████| 15/15 [00:00<00:00, 29.37it/s]\n"
     ]
    },
    {
     "name": "stdout",
     "output_type": "stream",
     "text": [
      "Epoch 189\tTrain Loss: 604.399  Val Loss: 611.310\n",
      "\n"
     ]
    },
    {
     "name": "stderr",
     "output_type": "stream",
     "text": [
      "train loss: 626.224: 100%|██████████| 57/57 [00:07<00:00,  7.44it/s]\n",
      "val loss: 676.260: 100%|██████████| 15/15 [00:00<00:00, 29.49it/s]\n"
     ]
    },
    {
     "name": "stdout",
     "output_type": "stream",
     "text": [
      "Epoch 190\tTrain Loss: 605.358  Val Loss: 611.310\n",
      "\n"
     ]
    },
    {
     "name": "stderr",
     "output_type": "stream",
     "text": [
      "train loss: 660.845: 100%|██████████| 57/57 [00:07<00:00,  7.43it/s]\n",
      "val loss: 676.260: 100%|██████████| 15/15 [00:00<00:00, 29.63it/s]\n"
     ]
    },
    {
     "name": "stdout",
     "output_type": "stream",
     "text": [
      "Epoch 191\tTrain Loss: 605.951  Val Loss: 611.309\n",
      "\n"
     ]
    },
    {
     "name": "stderr",
     "output_type": "stream",
     "text": [
      "train loss: 596.042: 100%|██████████| 57/57 [00:07<00:00,  7.43it/s]\n",
      "val loss: 676.259: 100%|██████████| 15/15 [00:00<00:00, 29.85it/s]\n"
     ]
    },
    {
     "name": "stdout",
     "output_type": "stream",
     "text": [
      "Weight saved: epoch 192\n",
      "Epoch 192\tTrain Loss: 604.841  Val Loss: 611.309\n",
      "\n"
     ]
    },
    {
     "name": "stderr",
     "output_type": "stream",
     "text": [
      "train loss: 560.745: 100%|██████████| 57/57 [00:07<00:00,  7.45it/s]\n",
      "val loss: 676.263: 100%|██████████| 15/15 [00:00<00:00, 29.34it/s]\n"
     ]
    },
    {
     "name": "stdout",
     "output_type": "stream",
     "text": [
      "Weight saved: epoch 193\n",
      "Epoch 193\tTrain Loss: 604.236  Val Loss: 611.309\n",
      "\n"
     ]
    },
    {
     "name": "stderr",
     "output_type": "stream",
     "text": [
      "train loss: 577.746: 100%|██████████| 57/57 [00:07<00:00,  7.43it/s]\n",
      "val loss: 676.260: 100%|██████████| 15/15 [00:00<00:00, 29.97it/s]\n"
     ]
    },
    {
     "name": "stdout",
     "output_type": "stream",
     "text": [
      "Epoch 194\tTrain Loss: 604.527  Val Loss: 611.309\n",
      "\n"
     ]
    },
    {
     "name": "stderr",
     "output_type": "stream",
     "text": [
      "train loss: 654.640: 100%|██████████| 57/57 [00:07<00:00,  7.45it/s]\n",
      "val loss: 676.257: 100%|██████████| 15/15 [00:00<00:00, 30.10it/s]\n"
     ]
    },
    {
     "name": "stdout",
     "output_type": "stream",
     "text": [
      "Weight saved: epoch 195\n",
      "Epoch 195\tTrain Loss: 605.845  Val Loss: 611.308\n",
      "\n"
     ]
    },
    {
     "name": "stderr",
     "output_type": "stream",
     "text": [
      "train loss: 596.948: 100%|██████████| 57/57 [00:07<00:00,  7.43it/s]\n",
      "val loss: 676.258: 100%|██████████| 15/15 [00:00<00:00, 29.85it/s]\n"
     ]
    },
    {
     "name": "stdout",
     "output_type": "stream",
     "text": [
      "Weight saved: epoch 196\n",
      "Epoch 196\tTrain Loss: 604.856  Val Loss: 611.308\n",
      "\n"
     ]
    },
    {
     "name": "stderr",
     "output_type": "stream",
     "text": [
      "train loss: 582.603: 100%|██████████| 57/57 [00:07<00:00,  7.40it/s]\n",
      "val loss: 676.261: 100%|██████████| 15/15 [00:00<00:00, 29.60it/s]\n"
     ]
    },
    {
     "name": "stdout",
     "output_type": "stream",
     "text": [
      "Epoch 197\tTrain Loss: 604.610  Val Loss: 611.309\n",
      "\n"
     ]
    },
    {
     "name": "stderr",
     "output_type": "stream",
     "text": [
      "train loss: 585.205: 100%|██████████| 57/57 [00:07<00:00,  7.38it/s]\n",
      "val loss: 676.258: 100%|██████████| 15/15 [00:00<00:00, 29.25it/s]\n"
     ]
    },
    {
     "name": "stdout",
     "output_type": "stream",
     "text": [
      "Epoch 198\tTrain Loss: 604.655  Val Loss: 611.308\n",
      "\n"
     ]
    },
    {
     "name": "stderr",
     "output_type": "stream",
     "text": [
      "train loss: 563.620: 100%|██████████| 57/57 [00:07<00:00,  7.41it/s]\n",
      "val loss: 676.256: 100%|██████████| 15/15 [00:00<00:00, 29.92it/s]\n"
     ]
    },
    {
     "name": "stdout",
     "output_type": "stream",
     "text": [
      "Weight saved: epoch 199\n",
      "Epoch 199\tTrain Loss: 604.285  Val Loss: 611.308\n",
      "\n"
     ]
    },
    {
     "name": "stderr",
     "output_type": "stream",
     "text": [
      "train loss: 634.856: 100%|██████████| 57/57 [00:07<00:00,  7.39it/s]\n",
      "val loss: 676.258: 100%|██████████| 15/15 [00:00<00:00, 29.85it/s]\n"
     ]
    },
    {
     "name": "stdout",
     "output_type": "stream",
     "text": [
      "Weight saved: epoch 200\n",
      "Epoch 200\tTrain Loss: 605.505  Val Loss: 611.308\n",
      "\n"
     ]
    },
    {
     "name": "stderr",
     "output_type": "stream",
     "text": [
      "train loss: 581.501: 100%|██████████| 57/57 [00:07<00:00,  7.43it/s]\n",
      "val loss: 676.257: 100%|██████████| 15/15 [00:00<00:00, 29.86it/s]\n"
     ]
    },
    {
     "name": "stdout",
     "output_type": "stream",
     "text": [
      "Epoch 201\tTrain Loss: 604.591  Val Loss: 611.308\n",
      "\n"
     ]
    },
    {
     "name": "stderr",
     "output_type": "stream",
     "text": [
      "train loss: 611.820: 100%|██████████| 57/57 [00:07<00:00,  7.40it/s]\n",
      "val loss: 676.262: 100%|██████████| 15/15 [00:00<00:00, 30.07it/s]\n"
     ]
    },
    {
     "name": "stdout",
     "output_type": "stream",
     "text": [
      "Epoch 202\tTrain Loss: 605.110  Val Loss: 611.308\n",
      "\n"
     ]
    },
    {
     "name": "stderr",
     "output_type": "stream",
     "text": [
      "train loss: 646.661: 100%|██████████| 57/57 [00:07<00:00,  7.42it/s]\n",
      "val loss: 676.261: 100%|██████████| 15/15 [00:00<00:00, 30.06it/s]\n"
     ]
    },
    {
     "name": "stdout",
     "output_type": "stream",
     "text": [
      "Weight saved: epoch 203\n",
      "Epoch 203\tTrain Loss: 605.707  Val Loss: 611.307\n",
      "\n"
     ]
    },
    {
     "name": "stderr",
     "output_type": "stream",
     "text": [
      "train loss: 602.476: 100%|██████████| 57/57 [00:07<00:00,  7.42it/s]\n",
      "val loss: 676.256: 100%|██████████| 15/15 [00:00<00:00, 30.18it/s]\n"
     ]
    },
    {
     "name": "stdout",
     "output_type": "stream",
     "text": [
      "Epoch 204\tTrain Loss: 604.950  Val Loss: 611.308\n",
      "\n"
     ]
    },
    {
     "name": "stderr",
     "output_type": "stream",
     "text": [
      "train loss: 610.847: 100%|██████████| 57/57 [00:07<00:00,  7.43it/s]\n",
      "val loss: 676.258: 100%|██████████| 15/15 [00:00<00:00, 29.87it/s]\n"
     ]
    },
    {
     "name": "stdout",
     "output_type": "stream",
     "text": [
      "Epoch 205\tTrain Loss: 605.093  Val Loss: 611.308\n",
      "\n"
     ]
    },
    {
     "name": "stderr",
     "output_type": "stream",
     "text": [
      "train loss: 582.302: 100%|██████████| 57/57 [00:07<00:00,  7.44it/s]\n",
      "val loss: 676.255: 100%|██████████| 15/15 [00:00<00:00, 29.93it/s]\n"
     ]
    },
    {
     "name": "stdout",
     "output_type": "stream",
     "text": [
      "Weight saved: epoch 206\n",
      "Epoch 206\tTrain Loss: 604.604  Val Loss: 611.307\n",
      "\n"
     ]
    },
    {
     "name": "stderr",
     "output_type": "stream",
     "text": [
      "train loss: 604.811: 100%|██████████| 57/57 [00:07<00:00,  7.45it/s]\n",
      "val loss: 676.260: 100%|██████████| 15/15 [00:00<00:00, 29.85it/s]\n"
     ]
    },
    {
     "name": "stdout",
     "output_type": "stream",
     "text": [
      "Weight saved: epoch 207\n",
      "Epoch 207\tTrain Loss: 604.990  Val Loss: 611.307\n",
      "\n"
     ]
    },
    {
     "name": "stderr",
     "output_type": "stream",
     "text": [
      "train loss: 576.618: 100%|██████████| 57/57 [00:07<00:00,  7.41it/s]\n",
      "val loss: 676.260: 100%|██████████| 15/15 [00:00<00:00, 29.17it/s]\n"
     ]
    },
    {
     "name": "stdout",
     "output_type": "stream",
     "text": [
      "Epoch 208\tTrain Loss: 604.507  Val Loss: 611.307\n",
      "\n"
     ]
    },
    {
     "name": "stderr",
     "output_type": "stream",
     "text": [
      "train loss: 532.535: 100%|██████████| 57/57 [00:07<00:00,  7.41it/s]\n",
      "val loss: 676.261: 100%|██████████| 15/15 [00:00<00:00, 28.74it/s]\n"
     ]
    },
    {
     "name": "stdout",
     "output_type": "stream",
     "text": [
      "Epoch 209\tTrain Loss: 603.751  Val Loss: 611.307\n",
      "\n"
     ]
    },
    {
     "name": "stderr",
     "output_type": "stream",
     "text": [
      "train loss: 583.384: 100%|██████████| 57/57 [00:07<00:00,  7.35it/s]\n",
      "val loss: 676.259: 100%|██████████| 15/15 [00:00<00:00, 29.20it/s]\n"
     ]
    },
    {
     "name": "stdout",
     "output_type": "stream",
     "text": [
      "Epoch 210\tTrain Loss: 604.622  Val Loss: 611.307\n",
      "\n"
     ]
    },
    {
     "name": "stderr",
     "output_type": "stream",
     "text": [
      "train loss: 719.414: 100%|██████████| 57/57 [00:07<00:00,  7.39it/s]\n",
      "val loss: 676.263: 100%|██████████| 15/15 [00:00<00:00, 29.52it/s]\n"
     ]
    },
    {
     "name": "stdout",
     "output_type": "stream",
     "text": [
      "Epoch 211\tTrain Loss: 606.953  Val Loss: 611.307\n",
      "\n"
     ]
    },
    {
     "name": "stderr",
     "output_type": "stream",
     "text": [
      "train loss: 607.953: 100%|██████████| 57/57 [00:07<00:00,  7.40it/s]\n",
      "val loss: 676.261: 100%|██████████| 15/15 [00:00<00:00, 29.79it/s]\n"
     ]
    },
    {
     "name": "stdout",
     "output_type": "stream",
     "text": [
      "Epoch 212\tTrain Loss: 605.043  Val Loss: 611.307\n",
      "\n"
     ]
    },
    {
     "name": "stderr",
     "output_type": "stream",
     "text": [
      "train loss: 527.698: 100%|██████████| 57/57 [00:07<00:00,  7.32it/s]\n",
      "val loss: 676.261: 100%|██████████| 15/15 [00:00<00:00, 29.89it/s]\n"
     ]
    },
    {
     "name": "stdout",
     "output_type": "stream",
     "text": [
      "Epoch 213\tTrain Loss: 603.668  Val Loss: 611.307\n",
      "\n"
     ]
    },
    {
     "name": "stderr",
     "output_type": "stream",
     "text": [
      "train loss: 628.457: 100%|██████████| 57/57 [00:07<00:00,  7.38it/s]\n",
      "val loss: 676.261: 100%|██████████| 15/15 [00:00<00:00, 29.36it/s]\n"
     ]
    },
    {
     "name": "stdout",
     "output_type": "stream",
     "text": [
      "Epoch 214\tTrain Loss: 605.394  Val Loss: 611.307\n",
      "\n"
     ]
    },
    {
     "name": "stderr",
     "output_type": "stream",
     "text": [
      "train loss: 592.923: 100%|██████████| 57/57 [00:07<00:00,  7.39it/s]\n",
      "val loss: 676.262: 100%|██████████| 15/15 [00:00<00:00, 29.73it/s]\n"
     ]
    },
    {
     "name": "stdout",
     "output_type": "stream",
     "text": [
      "Epoch 215\tTrain Loss: 604.785  Val Loss: 611.307\n",
      "\n"
     ]
    },
    {
     "name": "stderr",
     "output_type": "stream",
     "text": [
      "train loss: 573.474: 100%|██████████| 57/57 [00:07<00:00,  7.41it/s]\n",
      "val loss: 676.262: 100%|██████████| 15/15 [00:00<00:00, 29.18it/s]\n"
     ]
    },
    {
     "name": "stdout",
     "output_type": "stream",
     "text": [
      "Epoch 216\tTrain Loss: 604.452  Val Loss: 611.308\n",
      "\n"
     ]
    },
    {
     "name": "stderr",
     "output_type": "stream",
     "text": [
      "train loss: 604.819: 100%|██████████| 57/57 [00:07<00:00,  7.39it/s]\n",
      "val loss: 676.261: 100%|██████████| 15/15 [00:00<00:00, 29.14it/s]\n"
     ]
    },
    {
     "name": "stdout",
     "output_type": "stream",
     "text": [
      "Epoch 217\tTrain Loss: 604.989  Val Loss: 611.307\n",
      "\n"
     ]
    },
    {
     "name": "stderr",
     "output_type": "stream",
     "text": [
      "train loss: 584.489: 100%|██████████| 57/57 [00:07<00:00,  7.39it/s]\n",
      "val loss: 676.259: 100%|██████████| 15/15 [00:00<00:00, 29.10it/s]\n"
     ]
    },
    {
     "name": "stdout",
     "output_type": "stream",
     "text": [
      "Epoch 218\tTrain Loss: 604.641  Val Loss: 611.308\n",
      "\n"
     ]
    },
    {
     "name": "stderr",
     "output_type": "stream",
     "text": [
      "train loss: 515.945: 100%|██████████| 57/57 [00:07<00:00,  7.37it/s]\n",
      "val loss: 676.257: 100%|██████████| 15/15 [00:00<00:00, 29.75it/s]\n"
     ]
    },
    {
     "name": "stdout",
     "output_type": "stream",
     "text": [
      "Weight saved: epoch 219\n",
      "Epoch 219\tTrain Loss: 603.466  Val Loss: 611.307\n",
      "\n"
     ]
    },
    {
     "name": "stderr",
     "output_type": "stream",
     "text": [
      "train loss: 623.791: 100%|██████████| 57/57 [00:07<00:00,  7.39it/s]\n",
      "val loss: 676.258: 100%|██████████| 15/15 [00:00<00:00, 29.31it/s]\n"
     ]
    },
    {
     "name": "stdout",
     "output_type": "stream",
     "text": [
      "Epoch 220\tTrain Loss: 605.314  Val Loss: 611.307\n",
      "\n"
     ]
    },
    {
     "name": "stderr",
     "output_type": "stream",
     "text": [
      "train loss: 575.613: 100%|██████████| 57/57 [00:07<00:00,  7.42it/s]\n",
      "val loss: 676.260: 100%|██████████| 15/15 [00:00<00:00, 29.50it/s]\n"
     ]
    },
    {
     "name": "stdout",
     "output_type": "stream",
     "text": [
      "Epoch 221\tTrain Loss: 604.488  Val Loss: 611.307\n",
      "\n"
     ]
    },
    {
     "name": "stderr",
     "output_type": "stream",
     "text": [
      "train loss: 637.271: 100%|██████████| 57/57 [00:07<00:00,  7.39it/s]\n",
      "val loss: 676.262: 100%|██████████| 15/15 [00:00<00:00, 29.63it/s]\n"
     ]
    },
    {
     "name": "stdout",
     "output_type": "stream",
     "text": [
      "Epoch 222\tTrain Loss: 605.544  Val Loss: 611.307\n",
      "\n"
     ]
    },
    {
     "name": "stderr",
     "output_type": "stream",
     "text": [
      "train loss: 557.248: 100%|██████████| 57/57 [00:07<00:00,  7.37it/s]\n",
      "val loss: 676.263: 100%|██████████| 15/15 [00:00<00:00, 29.11it/s]\n"
     ]
    },
    {
     "name": "stdout",
     "output_type": "stream",
     "text": [
      "Weight saved: epoch 223\n",
      "Epoch 223\tTrain Loss: 604.173  Val Loss: 611.307\n",
      "\n"
     ]
    },
    {
     "name": "stderr",
     "output_type": "stream",
     "text": [
      "train loss: 613.428: 100%|██████████| 57/57 [00:07<00:00,  7.37it/s]\n",
      "val loss: 676.261: 100%|██████████| 15/15 [00:00<00:00, 28.98it/s]\n"
     ]
    },
    {
     "name": "stdout",
     "output_type": "stream",
     "text": [
      "Epoch 224\tTrain Loss: 605.136  Val Loss: 611.307\n",
      "\n"
     ]
    },
    {
     "name": "stderr",
     "output_type": "stream",
     "text": [
      "train loss: 627.409: 100%|██████████| 57/57 [00:07<00:00,  7.35it/s]\n",
      "val loss: 676.262: 100%|██████████| 15/15 [00:00<00:00, 29.33it/s]\n"
     ]
    },
    {
     "name": "stdout",
     "output_type": "stream",
     "text": [
      "Epoch 225\tTrain Loss: 605.375  Val Loss: 611.307\n",
      "\n"
     ]
    },
    {
     "name": "stderr",
     "output_type": "stream",
     "text": [
      "train loss: 636.125: 100%|██████████| 57/57 [00:07<00:00,  7.39it/s]\n",
      "val loss: 676.264: 100%|██████████| 15/15 [00:00<00:00, 29.44it/s]\n"
     ]
    },
    {
     "name": "stdout",
     "output_type": "stream",
     "text": [
      "Epoch 226\tTrain Loss: 605.524  Val Loss: 611.307\n",
      "\n"
     ]
    },
    {
     "name": "stderr",
     "output_type": "stream",
     "text": [
      "train loss: 647.284: 100%|██████████| 57/57 [00:07<00:00,  7.35it/s]\n",
      "val loss: 676.266: 100%|██████████| 15/15 [00:00<00:00, 29.39it/s]\n"
     ]
    },
    {
     "name": "stdout",
     "output_type": "stream",
     "text": [
      "Epoch 227\tTrain Loss: 605.715  Val Loss: 611.307\n",
      "\n"
     ]
    },
    {
     "name": "stderr",
     "output_type": "stream",
     "text": [
      "train loss: 659.098: 100%|██████████| 57/57 [00:07<00:00,  7.38it/s]\n",
      "val loss: 676.265: 100%|██████████| 15/15 [00:00<00:00, 29.59it/s]\n"
     ]
    },
    {
     "name": "stdout",
     "output_type": "stream",
     "text": [
      "Weight saved: epoch 228\n",
      "Epoch 228\tTrain Loss: 605.918  Val Loss: 611.306\n",
      "\n"
     ]
    },
    {
     "name": "stderr",
     "output_type": "stream",
     "text": [
      "train loss: 598.164: 100%|██████████| 57/57 [00:07<00:00,  7.39it/s]\n",
      "val loss: 676.266: 100%|██████████| 15/15 [00:00<00:00, 29.59it/s]\n"
     ]
    },
    {
     "name": "stdout",
     "output_type": "stream",
     "text": [
      "Epoch 229\tTrain Loss: 604.874  Val Loss: 611.307\n",
      "\n"
     ]
    },
    {
     "name": "stderr",
     "output_type": "stream",
     "text": [
      "train loss: 589.304: 100%|██████████| 57/57 [00:07<00:00,  7.37it/s]\n",
      "val loss: 676.265: 100%|██████████| 15/15 [00:00<00:00, 29.87it/s]\n"
     ]
    },
    {
     "name": "stdout",
     "output_type": "stream",
     "text": [
      "Weight saved: epoch 230\n",
      "Epoch 230\tTrain Loss: 604.722  Val Loss: 611.306\n",
      "\n"
     ]
    },
    {
     "name": "stderr",
     "output_type": "stream",
     "text": [
      "train loss: 665.666: 100%|██████████| 57/57 [00:07<00:00,  7.37it/s]\n",
      "val loss: 676.265: 100%|██████████| 15/15 [00:00<00:00, 29.14it/s]\n"
     ]
    },
    {
     "name": "stdout",
     "output_type": "stream",
     "text": [
      "Epoch 231\tTrain Loss: 606.030  Val Loss: 611.306\n",
      "\n"
     ]
    },
    {
     "name": "stderr",
     "output_type": "stream",
     "text": [
      "train loss: 520.909: 100%|██████████| 57/57 [00:07<00:00,  7.34it/s]\n",
      "val loss: 676.261: 100%|██████████| 15/15 [00:00<00:00, 29.71it/s]\n"
     ]
    },
    {
     "name": "stdout",
     "output_type": "stream",
     "text": [
      "Epoch 232\tTrain Loss: 603.550  Val Loss: 611.307\n",
      "\n"
     ]
    },
    {
     "name": "stderr",
     "output_type": "stream",
     "text": [
      "train loss: 602.128: 100%|██████████| 57/57 [00:07<00:00,  7.38it/s]\n",
      "val loss: 676.264: 100%|██████████| 15/15 [00:00<00:00, 29.11it/s]\n"
     ]
    },
    {
     "name": "stdout",
     "output_type": "stream",
     "text": [
      "Epoch 233\tTrain Loss: 604.941  Val Loss: 611.307\n",
      "\n"
     ]
    },
    {
     "name": "stderr",
     "output_type": "stream",
     "text": [
      "train loss: 606.287: 100%|██████████| 57/57 [00:07<00:00,  7.35it/s]\n",
      "val loss: 676.266: 100%|██████████| 15/15 [00:00<00:00, 29.30it/s]\n"
     ]
    },
    {
     "name": "stdout",
     "output_type": "stream",
     "text": [
      "Epoch 234\tTrain Loss: 605.012  Val Loss: 611.307\n",
      "\n"
     ]
    },
    {
     "name": "stderr",
     "output_type": "stream",
     "text": [
      "train loss: 564.555: 100%|██████████| 57/57 [00:07<00:00,  7.38it/s]\n",
      "val loss: 676.267: 100%|██████████| 15/15 [00:00<00:00, 29.58it/s]\n"
     ]
    },
    {
     "name": "stdout",
     "output_type": "stream",
     "text": [
      "Epoch 235\tTrain Loss: 604.297  Val Loss: 611.307\n",
      "\n"
     ]
    },
    {
     "name": "stderr",
     "output_type": "stream",
     "text": [
      "train loss: 607.167: 100%|██████████| 57/57 [00:07<00:00,  7.42it/s]\n",
      "val loss: 676.267: 100%|██████████| 15/15 [00:00<00:00, 29.90it/s]\n"
     ]
    },
    {
     "name": "stdout",
     "output_type": "stream",
     "text": [
      "Epoch 236\tTrain Loss: 605.027  Val Loss: 611.306\n",
      "\n"
     ]
    },
    {
     "name": "stderr",
     "output_type": "stream",
     "text": [
      "train loss: 585.564: 100%|██████████| 57/57 [00:07<00:00,  7.41it/s]\n",
      "val loss: 676.268: 100%|██████████| 15/15 [00:00<00:00, 29.78it/s]\n"
     ]
    },
    {
     "name": "stdout",
     "output_type": "stream",
     "text": [
      "Epoch 237\tTrain Loss: 604.657  Val Loss: 611.307\n",
      "\n"
     ]
    },
    {
     "name": "stderr",
     "output_type": "stream",
     "text": [
      "train loss: 627.115: 100%|██████████| 57/57 [00:07<00:00,  7.42it/s]\n",
      "val loss: 676.269: 100%|██████████| 15/15 [00:00<00:00, 29.76it/s]\n"
     ]
    },
    {
     "name": "stdout",
     "output_type": "stream",
     "text": [
      "Epoch 238\tTrain Loss: 605.369  Val Loss: 611.307\n",
      "\n"
     ]
    },
    {
     "name": "stderr",
     "output_type": "stream",
     "text": [
      "train loss: 641.682: 100%|██████████| 57/57 [00:07<00:00,  7.43it/s]\n",
      "val loss: 676.266: 100%|██████████| 15/15 [00:00<00:00, 29.89it/s]\n"
     ]
    },
    {
     "name": "stdout",
     "output_type": "stream",
     "text": [
      "Epoch 239\tTrain Loss: 605.618  Val Loss: 611.307\n",
      "\n"
     ]
    },
    {
     "name": "stderr",
     "output_type": "stream",
     "text": [
      "train loss: 653.298: 100%|██████████| 57/57 [00:07<00:00,  7.43it/s]\n",
      "val loss: 676.267: 100%|██████████| 15/15 [00:00<00:00, 29.86it/s]\n"
     ]
    },
    {
     "name": "stdout",
     "output_type": "stream",
     "text": [
      "Epoch 240\tTrain Loss: 605.817  Val Loss: 611.307\n",
      "\n"
     ]
    },
    {
     "name": "stderr",
     "output_type": "stream",
     "text": [
      "train loss: 644.080: 100%|██████████| 57/57 [00:07<00:00,  7.41it/s]\n",
      "val loss: 676.265: 100%|██████████| 15/15 [00:00<00:00, 29.31it/s]\n"
     ]
    },
    {
     "name": "stdout",
     "output_type": "stream",
     "text": [
      "Weight saved: epoch 241\n",
      "Epoch 241\tTrain Loss: 605.659  Val Loss: 611.306\n",
      "\n"
     ]
    },
    {
     "name": "stderr",
     "output_type": "stream",
     "text": [
      "train loss: 617.939: 100%|██████████| 57/57 [00:07<00:00,  7.42it/s]\n",
      "val loss: 676.265: 100%|██████████| 15/15 [00:00<00:00, 29.51it/s]\n"
     ]
    },
    {
     "name": "stdout",
     "output_type": "stream",
     "text": [
      "Epoch 242\tTrain Loss: 605.211  Val Loss: 611.306\n",
      "\n"
     ]
    },
    {
     "name": "stderr",
     "output_type": "stream",
     "text": [
      "train loss: 577.211: 100%|██████████| 57/57 [00:07<00:00,  7.46it/s]\n",
      "val loss: 676.264: 100%|██████████| 15/15 [00:00<00:00, 30.01it/s]\n"
     ]
    },
    {
     "name": "stdout",
     "output_type": "stream",
     "text": [
      "Epoch 243\tTrain Loss: 604.513  Val Loss: 611.306\n",
      "\n"
     ]
    },
    {
     "name": "stderr",
     "output_type": "stream",
     "text": [
      "train loss: 520.769: 100%|██████████| 57/57 [00:07<00:00,  7.47it/s]\n",
      "val loss: 676.263: 100%|██████████| 15/15 [00:00<00:00, 29.66it/s]\n"
     ]
    },
    {
     "name": "stdout",
     "output_type": "stream",
     "text": [
      "Epoch 244\tTrain Loss: 603.546  Val Loss: 611.306\n",
      "\n"
     ]
    },
    {
     "name": "stderr",
     "output_type": "stream",
     "text": [
      "train loss: 657.816: 100%|██████████| 57/57 [00:07<00:00,  7.46it/s]\n",
      "val loss: 676.264: 100%|██████████| 15/15 [00:00<00:00, 30.07it/s]\n"
     ]
    },
    {
     "name": "stdout",
     "output_type": "stream",
     "text": [
      "Weight saved: epoch 245\n",
      "Epoch 245\tTrain Loss: 605.894  Val Loss: 611.306\n",
      "\n"
     ]
    },
    {
     "name": "stderr",
     "output_type": "stream",
     "text": [
      "train loss: 595.739: 100%|██████████| 57/57 [00:07<00:00,  7.47it/s]\n",
      "val loss: 676.264: 100%|██████████| 15/15 [00:00<00:00, 29.84it/s]\n"
     ]
    },
    {
     "name": "stdout",
     "output_type": "stream",
     "text": [
      "Epoch 246\tTrain Loss: 604.830  Val Loss: 611.306\n",
      "\n"
     ]
    },
    {
     "name": "stderr",
     "output_type": "stream",
     "text": [
      "train loss: 588.371: 100%|██████████| 57/57 [00:07<00:00,  7.45it/s]\n",
      "val loss: 676.265: 100%|██████████| 15/15 [00:00<00:00, 29.94it/s]\n"
     ]
    },
    {
     "name": "stdout",
     "output_type": "stream",
     "text": [
      "Weight saved: epoch 247\n",
      "Epoch 247\tTrain Loss: 604.704  Val Loss: 611.305\n",
      "\n"
     ]
    },
    {
     "name": "stderr",
     "output_type": "stream",
     "text": [
      "train loss: 575.328: 100%|██████████| 57/57 [00:07<00:00,  7.43it/s]\n",
      "val loss: 676.266: 100%|██████████| 15/15 [00:00<00:00, 29.35it/s]\n"
     ]
    },
    {
     "name": "stdout",
     "output_type": "stream",
     "text": [
      "Epoch 248\tTrain Loss: 604.481  Val Loss: 611.305\n",
      "\n"
     ]
    },
    {
     "name": "stderr",
     "output_type": "stream",
     "text": [
      "train loss: 596.234: 100%|██████████| 57/57 [00:07<00:00,  7.46it/s]\n",
      "val loss: 676.265: 100%|██████████| 15/15 [00:00<00:00, 29.60it/s]\n"
     ]
    },
    {
     "name": "stdout",
     "output_type": "stream",
     "text": [
      "Epoch 249\tTrain Loss: 604.839  Val Loss: 611.305\n",
      "\n"
     ]
    },
    {
     "name": "stderr",
     "output_type": "stream",
     "text": [
      "train loss: 598.596: 100%|██████████| 57/57 [00:07<00:00,  7.40it/s]\n",
      "val loss: 676.264: 100%|██████████| 15/15 [00:00<00:00, 29.77it/s]\n"
     ]
    },
    {
     "name": "stdout",
     "output_type": "stream",
     "text": [
      "Weight saved: epoch 250\n",
      "Epoch 250\tTrain Loss: 604.879  Val Loss: 611.305\n",
      "\n"
     ]
    },
    {
     "name": "stderr",
     "output_type": "stream",
     "text": [
      "train loss: 569.835: 100%|██████████| 57/57 [00:07<00:00,  7.42it/s]\n",
      "val loss: 676.264: 100%|██████████| 15/15 [00:00<00:00, 29.09it/s]\n"
     ]
    },
    {
     "name": "stdout",
     "output_type": "stream",
     "text": [
      "Weight saved: epoch 251\n",
      "Epoch 251\tTrain Loss: 604.386  Val Loss: 611.305\n",
      "\n"
     ]
    },
    {
     "name": "stderr",
     "output_type": "stream",
     "text": [
      "train loss: 538.057: 100%|██████████| 57/57 [00:07<00:00,  7.43it/s]\n",
      "val loss: 676.264: 100%|██████████| 15/15 [00:00<00:00, 30.23it/s]\n"
     ]
    },
    {
     "name": "stdout",
     "output_type": "stream",
     "text": [
      "Epoch 252\tTrain Loss: 603.842  Val Loss: 611.305\n",
      "\n"
     ]
    },
    {
     "name": "stderr",
     "output_type": "stream",
     "text": [
      "train loss: 557.785: 100%|██████████| 57/57 [00:07<00:00,  7.40it/s]\n",
      "val loss: 676.266: 100%|██████████| 15/15 [00:00<00:00, 30.00it/s]\n"
     ]
    },
    {
     "name": "stdout",
     "output_type": "stream",
     "text": [
      "Weight saved: epoch 253\n",
      "Epoch 253\tTrain Loss: 604.180  Val Loss: 611.305\n",
      "\n"
     ]
    },
    {
     "name": "stderr",
     "output_type": "stream",
     "text": [
      "train loss: 588.153: 100%|██████████| 57/57 [00:07<00:00,  7.44it/s]\n",
      "val loss: 676.266: 100%|██████████| 15/15 [00:00<00:00, 29.72it/s]\n"
     ]
    },
    {
     "name": "stdout",
     "output_type": "stream",
     "text": [
      "Epoch 254\tTrain Loss: 604.700  Val Loss: 611.305\n",
      "\n"
     ]
    },
    {
     "name": "stderr",
     "output_type": "stream",
     "text": [
      "train loss: 606.252: 100%|██████████| 57/57 [00:07<00:00,  7.38it/s]\n",
      "val loss: 676.267: 100%|██████████| 15/15 [00:00<00:00, 29.92it/s]\n"
     ]
    },
    {
     "name": "stdout",
     "output_type": "stream",
     "text": [
      "Epoch 255\tTrain Loss: 605.010  Val Loss: 611.305\n",
      "\n"
     ]
    },
    {
     "name": "stderr",
     "output_type": "stream",
     "text": [
      "train loss: 582.579: 100%|██████████| 57/57 [00:07<00:00,  7.41it/s]\n",
      "val loss: 676.270: 100%|██████████| 15/15 [00:00<00:00, 29.78it/s]\n"
     ]
    },
    {
     "name": "stdout",
     "output_type": "stream",
     "text": [
      "Epoch 256\tTrain Loss: 604.604  Val Loss: 611.305\n",
      "\n"
     ]
    },
    {
     "name": "stderr",
     "output_type": "stream",
     "text": [
      "train loss: 651.207: 100%|██████████| 57/57 [00:07<00:00,  7.39it/s]\n",
      "val loss: 676.269: 100%|██████████| 15/15 [00:00<00:00, 29.77it/s]\n"
     ]
    },
    {
     "name": "stdout",
     "output_type": "stream",
     "text": [
      "Epoch 257\tTrain Loss: 605.780  Val Loss: 611.305\n",
      "\n"
     ]
    },
    {
     "name": "stderr",
     "output_type": "stream",
     "text": [
      "train loss: 666.012: 100%|██████████| 57/57 [00:07<00:00,  7.43it/s]\n",
      "val loss: 676.270: 100%|██████████| 15/15 [00:00<00:00, 29.90it/s]\n"
     ]
    },
    {
     "name": "stdout",
     "output_type": "stream",
     "text": [
      "Epoch 258\tTrain Loss: 606.033  Val Loss: 611.305\n",
      "\n"
     ]
    },
    {
     "name": "stderr",
     "output_type": "stream",
     "text": [
      "train loss: 611.983: 100%|██████████| 57/57 [00:07<00:00,  7.41it/s]\n",
      "val loss: 676.269: 100%|██████████| 15/15 [00:00<00:00, 29.87it/s]\n"
     ]
    },
    {
     "name": "stdout",
     "output_type": "stream",
     "text": [
      "Epoch 259\tTrain Loss: 605.107  Val Loss: 611.305\n",
      "\n"
     ]
    },
    {
     "name": "stderr",
     "output_type": "stream",
     "text": [
      "train loss: 552.129: 100%|██████████| 57/57 [00:07<00:00,  7.43it/s]\n",
      "val loss: 676.270: 100%|██████████| 15/15 [00:00<00:00, 29.22it/s]\n"
     ]
    },
    {
     "name": "stdout",
     "output_type": "stream",
     "text": [
      "Weight saved: epoch 260\n",
      "Epoch 260\tTrain Loss: 604.082  Val Loss: 611.304\n",
      "\n"
     ]
    },
    {
     "name": "stderr",
     "output_type": "stream",
     "text": [
      "train loss: 612.680: 100%|██████████| 57/57 [00:07<00:00,  7.42it/s]\n",
      "val loss: 676.266: 100%|██████████| 15/15 [00:00<00:00, 29.44it/s]\n"
     ]
    },
    {
     "name": "stdout",
     "output_type": "stream",
     "text": [
      "Weight saved: epoch 261\n",
      "Epoch 261\tTrain Loss: 605.119  Val Loss: 611.304\n",
      "\n"
     ]
    },
    {
     "name": "stderr",
     "output_type": "stream",
     "text": [
      "train loss: 652.297: 100%|██████████| 57/57 [00:07<00:00,  7.44it/s]\n",
      "val loss: 676.267: 100%|██████████| 15/15 [00:00<00:00, 29.91it/s]\n"
     ]
    },
    {
     "name": "stdout",
     "output_type": "stream",
     "text": [
      "Epoch 262\tTrain Loss: 605.798  Val Loss: 611.304\n",
      "\n"
     ]
    },
    {
     "name": "stderr",
     "output_type": "stream",
     "text": [
      "train loss: 621.804: 100%|██████████| 57/57 [00:07<00:00,  7.43it/s]\n",
      "val loss: 676.269: 100%|██████████| 15/15 [00:00<00:00, 29.64it/s]\n"
     ]
    },
    {
     "name": "stdout",
     "output_type": "stream",
     "text": [
      "Epoch 263\tTrain Loss: 605.275  Val Loss: 611.304\n",
      "\n"
     ]
    },
    {
     "name": "stderr",
     "output_type": "stream",
     "text": [
      "train loss: 622.651: 100%|██████████| 57/57 [00:07<00:00,  7.41it/s]\n",
      "val loss: 676.270: 100%|██████████| 15/15 [00:00<00:00, 29.72it/s]\n"
     ]
    },
    {
     "name": "stdout",
     "output_type": "stream",
     "text": [
      "Epoch 264\tTrain Loss: 605.290  Val Loss: 611.304\n",
      "\n"
     ]
    },
    {
     "name": "stderr",
     "output_type": "stream",
     "text": [
      "train loss: 582.981: 100%|██████████| 57/57 [00:07<00:00,  7.42it/s]\n",
      "val loss: 676.268: 100%|██████████| 15/15 [00:00<00:00, 29.56it/s]\n"
     ]
    },
    {
     "name": "stdout",
     "output_type": "stream",
     "text": [
      "Epoch 265\tTrain Loss: 604.610  Val Loss: 611.304\n",
      "\n"
     ]
    },
    {
     "name": "stderr",
     "output_type": "stream",
     "text": [
      "train loss: 586.075: 100%|██████████| 57/57 [00:07<00:00,  7.45it/s]\n",
      "val loss: 676.268: 100%|██████████| 15/15 [00:00<00:00, 29.90it/s]\n"
     ]
    },
    {
     "name": "stdout",
     "output_type": "stream",
     "text": [
      "Epoch 266\tTrain Loss: 604.663  Val Loss: 611.304\n",
      "\n"
     ]
    },
    {
     "name": "stderr",
     "output_type": "stream",
     "text": [
      "train loss: 638.796: 100%|██████████| 57/57 [00:07<00:00,  7.43it/s]\n",
      "val loss: 676.269: 100%|██████████| 15/15 [00:00<00:00, 30.00it/s]\n"
     ]
    },
    {
     "name": "stdout",
     "output_type": "stream",
     "text": [
      "Epoch 267\tTrain Loss: 605.566  Val Loss: 611.304\n",
      "\n"
     ]
    },
    {
     "name": "stderr",
     "output_type": "stream",
     "text": [
      "train loss: 591.656: 100%|██████████| 57/57 [00:07<00:00,  7.44it/s]\n",
      "val loss: 676.271: 100%|██████████| 15/15 [00:00<00:00, 30.00it/s]\n"
     ]
    },
    {
     "name": "stdout",
     "output_type": "stream",
     "text": [
      "Epoch 268\tTrain Loss: 604.758  Val Loss: 611.304\n",
      "\n"
     ]
    },
    {
     "name": "stderr",
     "output_type": "stream",
     "text": [
      "train loss: 602.650: 100%|██████████| 57/57 [00:07<00:00,  7.44it/s]\n",
      "val loss: 676.268: 100%|██████████| 15/15 [00:00<00:00, 29.86it/s]\n"
     ]
    },
    {
     "name": "stdout",
     "output_type": "stream",
     "text": [
      "Epoch 269\tTrain Loss: 604.947  Val Loss: 611.304\n",
      "\n"
     ]
    },
    {
     "name": "stderr",
     "output_type": "stream",
     "text": [
      "train loss: 557.603: 100%|██████████| 57/57 [00:07<00:00,  7.38it/s]\n",
      "val loss: 676.268: 100%|██████████| 15/15 [00:00<00:00, 29.43it/s]\n"
     ]
    },
    {
     "name": "stdout",
     "output_type": "stream",
     "text": [
      "Epoch 270\tTrain Loss: 604.175  Val Loss: 611.304\n",
      "\n"
     ]
    },
    {
     "name": "stderr",
     "output_type": "stream",
     "text": [
      "train loss: 594.889: 100%|██████████| 57/57 [00:07<00:00,  7.43it/s]\n",
      "val loss: 676.270: 100%|██████████| 15/15 [00:00<00:00, 30.13it/s]\n"
     ]
    },
    {
     "name": "stdout",
     "output_type": "stream",
     "text": [
      "Weight saved: epoch 271\n",
      "Epoch 271\tTrain Loss: 604.813  Val Loss: 611.303\n",
      "\n"
     ]
    },
    {
     "name": "stderr",
     "output_type": "stream",
     "text": [
      "train loss: 632.743: 100%|██████████| 57/57 [00:07<00:00,  7.45it/s]\n",
      "val loss: 676.266: 100%|██████████| 15/15 [00:00<00:00, 29.64it/s]\n"
     ]
    },
    {
     "name": "stdout",
     "output_type": "stream",
     "text": [
      "Weight saved: epoch 272\n",
      "Epoch 272\tTrain Loss: 605.462  Val Loss: 611.303\n",
      "\n"
     ]
    },
    {
     "name": "stderr",
     "output_type": "stream",
     "text": [
      "train loss: 542.941: 100%|██████████| 57/57 [00:07<00:00,  7.45it/s]\n",
      "val loss: 676.267: 100%|██████████| 15/15 [00:00<00:00, 29.98it/s]\n"
     ]
    },
    {
     "name": "stdout",
     "output_type": "stream",
     "text": [
      "Epoch 273\tTrain Loss: 603.923  Val Loss: 611.303\n",
      "\n"
     ]
    },
    {
     "name": "stderr",
     "output_type": "stream",
     "text": [
      "train loss: 623.004: 100%|██████████| 57/57 [00:07<00:00,  7.41it/s]\n",
      "val loss: 676.266: 100%|██████████| 15/15 [00:00<00:00, 29.62it/s]\n"
     ]
    },
    {
     "name": "stdout",
     "output_type": "stream",
     "text": [
      "Epoch 274\tTrain Loss: 605.295  Val Loss: 611.304\n",
      "\n"
     ]
    },
    {
     "name": "stderr",
     "output_type": "stream",
     "text": [
      "train loss: 582.401: 100%|██████████| 57/57 [00:07<00:00,  7.39it/s]\n",
      "val loss: 676.268: 100%|██████████| 15/15 [00:00<00:00, 29.19it/s]\n"
     ]
    },
    {
     "name": "stdout",
     "output_type": "stream",
     "text": [
      "Epoch 275\tTrain Loss: 604.599  Val Loss: 611.303\n",
      "\n"
     ]
    },
    {
     "name": "stderr",
     "output_type": "stream",
     "text": [
      "train loss: 628.856: 100%|██████████| 57/57 [00:07<00:00,  7.43it/s]\n",
      "val loss: 676.271: 100%|██████████| 15/15 [00:00<00:00, 29.54it/s]\n"
     ]
    },
    {
     "name": "stdout",
     "output_type": "stream",
     "text": [
      "Epoch 276\tTrain Loss: 605.395  Val Loss: 611.303\n",
      "\n"
     ]
    },
    {
     "name": "stderr",
     "output_type": "stream",
     "text": [
      "train loss: 643.542: 100%|██████████| 57/57 [00:07<00:00,  7.43it/s]\n",
      "val loss: 676.268: 100%|██████████| 15/15 [00:00<00:00, 30.10it/s]\n"
     ]
    },
    {
     "name": "stdout",
     "output_type": "stream",
     "text": [
      "Epoch 277\tTrain Loss: 605.646  Val Loss: 611.303\n",
      "\n"
     ]
    },
    {
     "name": "stderr",
     "output_type": "stream",
     "text": [
      "train loss: 585.902: 100%|██████████| 57/57 [00:07<00:00,  7.41it/s]\n",
      "val loss: 676.271: 100%|██████████| 15/15 [00:00<00:00, 30.13it/s]\n"
     ]
    },
    {
     "name": "stdout",
     "output_type": "stream",
     "text": [
      "Weight saved: epoch 278\n",
      "Epoch 278\tTrain Loss: 604.659  Val Loss: 611.303\n",
      "\n"
     ]
    },
    {
     "name": "stderr",
     "output_type": "stream",
     "text": [
      "train loss: 620.567: 100%|██████████| 57/57 [00:07<00:00,  7.45it/s]\n",
      "val loss: 676.271: 100%|██████████| 15/15 [00:00<00:00, 29.51it/s]\n"
     ]
    },
    {
     "name": "stdout",
     "output_type": "stream",
     "text": [
      "Weight saved: epoch 279\n",
      "Epoch 279\tTrain Loss: 605.252  Val Loss: 611.303\n",
      "\n"
     ]
    },
    {
     "name": "stderr",
     "output_type": "stream",
     "text": [
      "train loss: 549.476: 100%|██████████| 57/57 [00:07<00:00,  7.21it/s]\n",
      "val loss: 676.270: 100%|██████████| 15/15 [00:00<00:00, 28.91it/s]\n"
     ]
    },
    {
     "name": "stdout",
     "output_type": "stream",
     "text": [
      "Weight saved: epoch 280\n",
      "Epoch 280\tTrain Loss: 604.034  Val Loss: 611.302\n",
      "\n"
     ]
    },
    {
     "name": "stderr",
     "output_type": "stream",
     "text": [
      "train loss: 629.985: 100%|██████████| 57/57 [00:07<00:00,  7.20it/s]\n",
      "val loss: 676.268: 100%|██████████| 15/15 [00:00<00:00, 28.90it/s]\n"
     ]
    },
    {
     "name": "stdout",
     "output_type": "stream",
     "text": [
      "Epoch 281\tTrain Loss: 605.414  Val Loss: 611.303\n",
      "\n"
     ]
    },
    {
     "name": "stderr",
     "output_type": "stream",
     "text": [
      "train loss: 556.335: 100%|██████████| 57/57 [00:07<00:00,  7.18it/s]\n",
      "val loss: 676.270: 100%|██████████| 15/15 [00:00<00:00, 28.75it/s]\n"
     ]
    },
    {
     "name": "stdout",
     "output_type": "stream",
     "text": [
      "Epoch 282\tTrain Loss: 604.152  Val Loss: 611.302\n",
      "\n"
     ]
    },
    {
     "name": "stderr",
     "output_type": "stream",
     "text": [
      "train loss: 639.030: 100%|██████████| 57/57 [00:07<00:00,  7.45it/s]\n",
      "val loss: 676.269: 100%|██████████| 15/15 [00:00<00:00, 30.79it/s]\n"
     ]
    },
    {
     "name": "stdout",
     "output_type": "stream",
     "text": [
      "Epoch 283\tTrain Loss: 605.568  Val Loss: 611.303\n",
      "\n"
     ]
    },
    {
     "name": "stderr",
     "output_type": "stream",
     "text": [
      "train loss: 588.620: 100%|██████████| 57/57 [00:07<00:00,  7.68it/s]\n",
      "val loss: 676.272: 100%|██████████| 15/15 [00:00<00:00, 30.87it/s]\n"
     ]
    },
    {
     "name": "stdout",
     "output_type": "stream",
     "text": [
      "Epoch 284\tTrain Loss: 604.705  Val Loss: 611.302\n",
      "\n"
     ]
    },
    {
     "name": "stderr",
     "output_type": "stream",
     "text": [
      "train loss: 579.303: 100%|██████████| 57/57 [00:07<00:00,  7.55it/s]\n",
      "val loss: 676.271: 100%|██████████| 15/15 [00:00<00:00, 28.93it/s]\n"
     ]
    },
    {
     "name": "stdout",
     "output_type": "stream",
     "text": [
      "Epoch 285\tTrain Loss: 604.545  Val Loss: 611.303\n",
      "\n"
     ]
    },
    {
     "name": "stderr",
     "output_type": "stream",
     "text": [
      "train loss: 615.575: 100%|██████████| 57/57 [00:07<00:00,  7.31it/s]\n",
      "val loss: 676.272: 100%|██████████| 15/15 [00:00<00:00, 27.04it/s]\n"
     ]
    },
    {
     "name": "stdout",
     "output_type": "stream",
     "text": [
      "Epoch 286\tTrain Loss: 605.166  Val Loss: 611.302\n",
      "\n"
     ]
    },
    {
     "name": "stderr",
     "output_type": "stream",
     "text": [
      "train loss: 626.331: 100%|██████████| 57/57 [00:08<00:00,  7.07it/s]\n",
      "val loss: 676.272: 100%|██████████| 15/15 [00:00<00:00, 27.62it/s]\n"
     ]
    },
    {
     "name": "stdout",
     "output_type": "stream",
     "text": [
      "Epoch 287\tTrain Loss: 605.350  Val Loss: 611.302\n",
      "\n"
     ]
    },
    {
     "name": "stderr",
     "output_type": "stream",
     "text": [
      "train loss: 586.258: 100%|██████████| 57/57 [00:08<00:00,  6.96it/s]\n",
      "val loss: 676.275: 100%|██████████| 15/15 [00:00<00:00, 28.45it/s]\n"
     ]
    },
    {
     "name": "stdout",
     "output_type": "stream",
     "text": [
      "Epoch 288\tTrain Loss: 604.664  Val Loss: 611.302\n",
      "\n"
     ]
    },
    {
     "name": "stderr",
     "output_type": "stream",
     "text": [
      "train loss: 544.698: 100%|██████████| 57/57 [00:08<00:00,  7.11it/s]\n",
      "val loss: 676.275: 100%|██████████| 15/15 [00:00<00:00, 28.91it/s]\n"
     ]
    },
    {
     "name": "stdout",
     "output_type": "stream",
     "text": [
      "Epoch 289\tTrain Loss: 603.952  Val Loss: 611.303\n",
      "\n"
     ]
    },
    {
     "name": "stderr",
     "output_type": "stream",
     "text": [
      "train loss: 653.201: 100%|██████████| 57/57 [00:07<00:00,  7.15it/s]\n",
      "val loss: 676.274: 100%|██████████| 15/15 [00:00<00:00, 28.86it/s]\n"
     ]
    },
    {
     "name": "stdout",
     "output_type": "stream",
     "text": [
      "Epoch 290\tTrain Loss: 605.811  Val Loss: 611.302\n",
      "\n"
     ]
    },
    {
     "name": "stderr",
     "output_type": "stream",
     "text": [
      "train loss: 624.912: 100%|██████████| 57/57 [00:08<00:00,  7.08it/s]\n",
      "val loss: 676.271: 100%|██████████| 15/15 [00:00<00:00, 27.85it/s]\n"
     ]
    },
    {
     "name": "stdout",
     "output_type": "stream",
     "text": [
      "Weight saved: epoch 291\n",
      "Epoch 291\tTrain Loss: 605.326  Val Loss: 611.302\n",
      "\n"
     ]
    },
    {
     "name": "stderr",
     "output_type": "stream",
     "text": [
      "train loss: 617.223: 100%|██████████| 57/57 [00:08<00:00,  6.97it/s]\n",
      "val loss: 676.274: 100%|██████████| 15/15 [00:00<00:00, 28.43it/s]\n"
     ]
    },
    {
     "name": "stdout",
     "output_type": "stream",
     "text": [
      "Epoch 292\tTrain Loss: 605.194  Val Loss: 611.302\n",
      "\n"
     ]
    },
    {
     "name": "stderr",
     "output_type": "stream",
     "text": [
      "train loss: 596.756: 100%|██████████| 57/57 [00:08<00:00,  7.06it/s]\n",
      "val loss: 676.273: 100%|██████████| 15/15 [00:00<00:00, 27.15it/s]\n"
     ]
    },
    {
     "name": "stdout",
     "output_type": "stream",
     "text": [
      "Epoch 293\tTrain Loss: 604.843  Val Loss: 611.303\n",
      "\n"
     ]
    },
    {
     "name": "stderr",
     "output_type": "stream",
     "text": [
      "train loss: 612.190: 100%|██████████| 57/57 [00:07<00:00,  7.19it/s]\n",
      "val loss: 676.273: 100%|██████████| 15/15 [00:00<00:00, 29.15it/s]\n"
     ]
    },
    {
     "name": "stdout",
     "output_type": "stream",
     "text": [
      "Weight saved: epoch 294\n",
      "Epoch 294\tTrain Loss: 605.108  Val Loss: 611.302\n",
      "\n"
     ]
    },
    {
     "name": "stderr",
     "output_type": "stream",
     "text": [
      "train loss: 616.985: 100%|██████████| 57/57 [00:07<00:00,  7.22it/s]\n",
      "val loss: 676.273: 100%|██████████| 15/15 [00:00<00:00, 28.17it/s]\n"
     ]
    },
    {
     "name": "stdout",
     "output_type": "stream",
     "text": [
      "Weight saved: epoch 295\n",
      "Epoch 295\tTrain Loss: 605.190  Val Loss: 611.302\n",
      "\n"
     ]
    },
    {
     "name": "stderr",
     "output_type": "stream",
     "text": [
      "train loss: 613.392: 100%|██████████| 57/57 [00:08<00:00,  7.06it/s]\n",
      "val loss: 676.271: 100%|██████████| 15/15 [00:00<00:00, 28.04it/s]\n"
     ]
    },
    {
     "name": "stdout",
     "output_type": "stream",
     "text": [
      "Weight saved: epoch 296\n",
      "Epoch 296\tTrain Loss: 605.128  Val Loss: 611.301\n",
      "\n"
     ]
    },
    {
     "name": "stderr",
     "output_type": "stream",
     "text": [
      "train loss: 584.351: 100%|██████████| 57/57 [00:08<00:00,  7.09it/s]\n",
      "val loss: 676.273: 100%|██████████| 15/15 [00:00<00:00, 28.98it/s]\n"
     ]
    },
    {
     "name": "stdout",
     "output_type": "stream",
     "text": [
      "Epoch 297\tTrain Loss: 604.630  Val Loss: 611.302\n",
      "\n"
     ]
    },
    {
     "name": "stderr",
     "output_type": "stream",
     "text": [
      "train loss: 580.052: 100%|██████████| 57/57 [00:08<00:00,  7.10it/s]\n",
      "val loss: 676.273: 100%|██████████| 15/15 [00:00<00:00, 28.23it/s]\n"
     ]
    },
    {
     "name": "stdout",
     "output_type": "stream",
     "text": [
      "Epoch 298\tTrain Loss: 604.556  Val Loss: 611.302\n",
      "\n"
     ]
    },
    {
     "name": "stderr",
     "output_type": "stream",
     "text": [
      "train loss: 625.737: 100%|██████████| 57/57 [00:08<00:00,  6.89it/s]\n",
      "val loss: 676.273: 100%|██████████| 15/15 [00:00<00:00, 28.02it/s]\n"
     ]
    },
    {
     "name": "stdout",
     "output_type": "stream",
     "text": [
      "Epoch 299\tTrain Loss: 605.339  Val Loss: 611.301\n",
      "\n"
     ]
    },
    {
     "name": "stderr",
     "output_type": "stream",
     "text": [
      "train loss: 590.395: 100%|██████████| 57/57 [00:08<00:00,  6.97it/s]\n",
      "val loss: 676.272: 100%|██████████| 15/15 [00:00<00:00, 28.74it/s]\n"
     ]
    },
    {
     "name": "stdout",
     "output_type": "stream",
     "text": [
      "Epoch 300\tTrain Loss: 604.733  Val Loss: 611.302\n",
      "\n"
     ]
    },
    {
     "name": "stderr",
     "output_type": "stream",
     "text": [
      "train loss: 625.943: 100%|██████████| 57/57 [00:07<00:00,  7.19it/s]\n",
      "val loss: 676.271: 100%|██████████| 15/15 [00:00<00:00, 29.12it/s]\n"
     ]
    },
    {
     "name": "stdout",
     "output_type": "stream",
     "text": [
      "Epoch 301\tTrain Loss: 605.343  Val Loss: 611.302\n",
      "\n"
     ]
    },
    {
     "name": "stderr",
     "output_type": "stream",
     "text": [
      "train loss: 598.369: 100%|██████████| 57/57 [00:07<00:00,  7.15it/s]\n",
      "val loss: 676.271: 100%|██████████| 15/15 [00:00<00:00, 28.57it/s]\n"
     ]
    },
    {
     "name": "stdout",
     "output_type": "stream",
     "text": [
      "Epoch 302\tTrain Loss: 604.870  Val Loss: 611.302\n",
      "\n"
     ]
    },
    {
     "name": "stderr",
     "output_type": "stream",
     "text": [
      "train loss: 561.613: 100%|██████████| 57/57 [00:07<00:00,  7.17it/s]\n",
      "val loss: 676.270: 100%|██████████| 15/15 [00:00<00:00, 29.21it/s]\n"
     ]
    },
    {
     "name": "stdout",
     "output_type": "stream",
     "text": [
      "Epoch 303\tTrain Loss: 604.240  Val Loss: 611.302\n",
      "\n"
     ]
    },
    {
     "name": "stderr",
     "output_type": "stream",
     "text": [
      "train loss: 619.974: 100%|██████████| 57/57 [00:07<00:00,  7.19it/s]\n",
      "val loss: 676.269: 100%|██████████| 15/15 [00:00<00:00, 28.91it/s]\n"
     ]
    },
    {
     "name": "stdout",
     "output_type": "stream",
     "text": [
      "Epoch 304\tTrain Loss: 605.240  Val Loss: 611.301\n",
      "\n"
     ]
    },
    {
     "name": "stderr",
     "output_type": "stream",
     "text": [
      "train loss: 564.050: 100%|██████████| 57/57 [00:07<00:00,  7.14it/s]\n",
      "val loss: 676.267: 100%|██████████| 15/15 [00:00<00:00, 28.51it/s]\n"
     ]
    },
    {
     "name": "stdout",
     "output_type": "stream",
     "text": [
      "Epoch 305\tTrain Loss: 604.282  Val Loss: 611.301\n",
      "\n"
     ]
    },
    {
     "name": "stderr",
     "output_type": "stream",
     "text": [
      "train loss: 605.543: 100%|██████████| 57/57 [00:07<00:00,  7.16it/s]\n",
      "val loss: 676.273: 100%|██████████| 15/15 [00:00<00:00, 28.26it/s]\n"
     ]
    },
    {
     "name": "stdout",
     "output_type": "stream",
     "text": [
      "Epoch 306\tTrain Loss: 604.992  Val Loss: 611.302\n",
      "\n"
     ]
    },
    {
     "name": "stderr",
     "output_type": "stream",
     "text": [
      "train loss: 632.491: 100%|██████████| 57/57 [00:07<00:00,  7.17it/s]\n",
      "val loss: 676.274: 100%|██████████| 15/15 [00:00<00:00, 28.66it/s]\n"
     ]
    },
    {
     "name": "stdout",
     "output_type": "stream",
     "text": [
      "Weight saved: epoch 307\n",
      "Epoch 307\tTrain Loss: 605.454  Val Loss: 611.301\n",
      "\n"
     ]
    },
    {
     "name": "stderr",
     "output_type": "stream",
     "text": [
      "train loss: 628.553: 100%|██████████| 57/57 [00:07<00:00,  7.20it/s]\n",
      "val loss: 676.275: 100%|██████████| 15/15 [00:00<00:00, 28.75it/s]\n"
     ]
    },
    {
     "name": "stdout",
     "output_type": "stream",
     "text": [
      "Epoch 308\tTrain Loss: 605.386  Val Loss: 611.301\n",
      "\n"
     ]
    },
    {
     "name": "stderr",
     "output_type": "stream",
     "text": [
      "train loss: 616.629: 100%|██████████| 57/57 [00:07<00:00,  7.16it/s]\n",
      "val loss: 676.275: 100%|██████████| 15/15 [00:00<00:00, 27.81it/s]\n"
     ]
    },
    {
     "name": "stdout",
     "output_type": "stream",
     "text": [
      "Epoch 309\tTrain Loss: 605.182  Val Loss: 611.301\n",
      "\n"
     ]
    },
    {
     "name": "stderr",
     "output_type": "stream",
     "text": [
      "train loss: 667.977: 100%|██████████| 57/57 [00:07<00:00,  7.15it/s]\n",
      "val loss: 676.280: 100%|██████████| 15/15 [00:00<00:00, 28.78it/s]\n"
     ]
    },
    {
     "name": "stdout",
     "output_type": "stream",
     "text": [
      "Weight saved: epoch 310\n",
      "Epoch 310\tTrain Loss: 606.062  Val Loss: 611.301\n",
      "\n"
     ]
    },
    {
     "name": "stderr",
     "output_type": "stream",
     "text": [
      "train loss: 631.948: 100%|██████████| 57/57 [00:07<00:00,  7.14it/s]\n",
      "val loss: 676.278: 100%|██████████| 15/15 [00:00<00:00, 28.09it/s]\n"
     ]
    },
    {
     "name": "stdout",
     "output_type": "stream",
     "text": [
      "Epoch 311\tTrain Loss: 605.444  Val Loss: 611.301\n",
      "\n"
     ]
    },
    {
     "name": "stderr",
     "output_type": "stream",
     "text": [
      "train loss: 636.235: 100%|██████████| 57/57 [00:07<00:00,  7.14it/s]\n",
      "val loss: 676.280: 100%|██████████| 15/15 [00:00<00:00, 28.57it/s]\n"
     ]
    },
    {
     "name": "stdout",
     "output_type": "stream",
     "text": [
      "Epoch 312\tTrain Loss: 605.518  Val Loss: 611.301\n",
      "\n"
     ]
    },
    {
     "name": "stderr",
     "output_type": "stream",
     "text": [
      "train loss: 644.881: 100%|██████████| 57/57 [00:07<00:00,  7.21it/s]\n",
      "val loss: 676.281: 100%|██████████| 15/15 [00:00<00:00, 28.53it/s]\n"
     ]
    },
    {
     "name": "stdout",
     "output_type": "stream",
     "text": [
      "Epoch 313\tTrain Loss: 605.666  Val Loss: 611.301\n",
      "\n"
     ]
    },
    {
     "name": "stderr",
     "output_type": "stream",
     "text": [
      "train loss: 627.410: 100%|██████████| 57/57 [00:07<00:00,  7.17it/s]\n",
      "val loss: 676.281: 100%|██████████| 15/15 [00:00<00:00, 29.11it/s]\n"
     ]
    },
    {
     "name": "stdout",
     "output_type": "stream",
     "text": [
      "Weight saved: epoch 314\n",
      "Epoch 314\tTrain Loss: 605.366  Val Loss: 611.301\n",
      "\n"
     ]
    },
    {
     "name": "stderr",
     "output_type": "stream",
     "text": [
      "train loss: 616.138: 100%|██████████| 57/57 [00:07<00:00,  7.17it/s]\n",
      "val loss: 676.275: 100%|██████████| 15/15 [00:00<00:00, 28.26it/s]\n"
     ]
    },
    {
     "name": "stdout",
     "output_type": "stream",
     "text": [
      "Epoch 315\tTrain Loss: 605.173  Val Loss: 611.301\n",
      "\n"
     ]
    },
    {
     "name": "stderr",
     "output_type": "stream",
     "text": [
      "train loss: 569.703: 100%|██████████| 57/57 [00:07<00:00,  7.15it/s]\n",
      "val loss: 676.278: 100%|██████████| 15/15 [00:00<00:00, 28.70it/s]\n"
     ]
    },
    {
     "name": "stdout",
     "output_type": "stream",
     "text": [
      "Weight saved: epoch 316\n",
      "Epoch 316\tTrain Loss: 604.378  Val Loss: 611.301\n",
      "\n"
     ]
    },
    {
     "name": "stderr",
     "output_type": "stream",
     "text": [
      "train loss: 644.967: 100%|██████████| 57/57 [00:07<00:00,  7.17it/s]\n",
      "val loss: 676.277: 100%|██████████| 15/15 [00:00<00:00, 28.55it/s]\n"
     ]
    },
    {
     "name": "stdout",
     "output_type": "stream",
     "text": [
      "Weight saved: epoch 317\n",
      "Epoch 317\tTrain Loss: 605.667  Val Loss: 611.300\n",
      "\n"
     ]
    },
    {
     "name": "stderr",
     "output_type": "stream",
     "text": [
      "train loss: 638.328: 100%|██████████| 57/57 [00:07<00:00,  7.23it/s]\n",
      "val loss: 676.279: 100%|██████████| 15/15 [00:00<00:00, 28.64it/s]\n"
     ]
    },
    {
     "name": "stdout",
     "output_type": "stream",
     "text": [
      "Epoch 318\tTrain Loss: 605.553  Val Loss: 611.301\n",
      "\n"
     ]
    },
    {
     "name": "stderr",
     "output_type": "stream",
     "text": [
      "train loss: 661.035: 100%|██████████| 57/57 [00:07<00:00,  7.27it/s]\n",
      "val loss: 676.276: 100%|██████████| 15/15 [00:00<00:00, 28.81it/s]\n"
     ]
    },
    {
     "name": "stdout",
     "output_type": "stream",
     "text": [
      "Weight saved: epoch 319\n",
      "Epoch 319\tTrain Loss: 605.942  Val Loss: 611.300\n",
      "\n"
     ]
    },
    {
     "name": "stderr",
     "output_type": "stream",
     "text": [
      "train loss: 609.785: 100%|██████████| 57/57 [00:07<00:00,  7.22it/s]\n",
      "val loss: 676.277: 100%|██████████| 15/15 [00:00<00:00, 28.42it/s]\n"
     ]
    },
    {
     "name": "stdout",
     "output_type": "stream",
     "text": [
      "Epoch 320\tTrain Loss: 605.064  Val Loss: 611.300\n",
      "\n"
     ]
    },
    {
     "name": "stderr",
     "output_type": "stream",
     "text": [
      "train loss: 555.907: 100%|██████████| 57/57 [00:07<00:00,  7.16it/s]\n",
      "val loss: 676.273: 100%|██████████| 15/15 [00:00<00:00, 28.39it/s]\n"
     ]
    },
    {
     "name": "stdout",
     "output_type": "stream",
     "text": [
      "Weight saved: epoch 321\n",
      "Epoch 321\tTrain Loss: 604.141  Val Loss: 611.299\n",
      "\n"
     ]
    },
    {
     "name": "stderr",
     "output_type": "stream",
     "text": [
      "train loss: 602.375: 100%|██████████| 57/57 [00:07<00:00,  7.18it/s]\n",
      "val loss: 676.276: 100%|██████████| 15/15 [00:00<00:00, 28.29it/s]\n"
     ]
    },
    {
     "name": "stdout",
     "output_type": "stream",
     "text": [
      "Epoch 322\tTrain Loss: 604.937  Val Loss: 611.300\n",
      "\n"
     ]
    },
    {
     "name": "stderr",
     "output_type": "stream",
     "text": [
      "train loss: 611.236: 100%|██████████| 57/57 [00:07<00:00,  7.19it/s]\n",
      "val loss: 676.275: 100%|██████████| 15/15 [00:00<00:00, 28.96it/s]\n"
     ]
    },
    {
     "name": "stdout",
     "output_type": "stream",
     "text": [
      "Epoch 323\tTrain Loss: 605.088  Val Loss: 611.300\n",
      "\n"
     ]
    },
    {
     "name": "stderr",
     "output_type": "stream",
     "text": [
      "train loss: 610.923: 100%|██████████| 57/57 [00:07<00:00,  7.20it/s]\n",
      "val loss: 676.278: 100%|██████████| 15/15 [00:00<00:00, 28.43it/s]\n"
     ]
    },
    {
     "name": "stdout",
     "output_type": "stream",
     "text": [
      "Epoch 324\tTrain Loss: 605.083  Val Loss: 611.300\n",
      "\n"
     ]
    },
    {
     "name": "stderr",
     "output_type": "stream",
     "text": [
      "train loss: 572.537: 100%|██████████| 57/57 [00:07<00:00,  7.20it/s]\n",
      "val loss: 676.274: 100%|██████████| 15/15 [00:00<00:00, 27.96it/s]\n"
     ]
    },
    {
     "name": "stdout",
     "output_type": "stream",
     "text": [
      "Epoch 325\tTrain Loss: 604.425  Val Loss: 611.300\n",
      "\n"
     ]
    },
    {
     "name": "stderr",
     "output_type": "stream",
     "text": [
      "train loss: 695.828: 100%|██████████| 57/57 [00:07<00:00,  7.19it/s]\n",
      "val loss: 676.276: 100%|██████████| 15/15 [00:00<00:00, 28.16it/s]\n"
     ]
    },
    {
     "name": "stdout",
     "output_type": "stream",
     "text": [
      "Epoch 326\tTrain Loss: 606.537  Val Loss: 611.300\n",
      "\n"
     ]
    },
    {
     "name": "stderr",
     "output_type": "stream",
     "text": [
      "train loss: 552.889: 100%|██████████| 57/57 [00:07<00:00,  7.18it/s]\n",
      "val loss: 676.276: 100%|██████████| 15/15 [00:00<00:00, 28.81it/s]\n"
     ]
    },
    {
     "name": "stdout",
     "output_type": "stream",
     "text": [
      "Epoch 327\tTrain Loss: 604.088  Val Loss: 611.300\n",
      "\n"
     ]
    },
    {
     "name": "stderr",
     "output_type": "stream",
     "text": [
      "train loss: 571.898: 100%|██████████| 57/57 [00:07<00:00,  7.19it/s]\n",
      "val loss: 676.277: 100%|██████████| 15/15 [00:00<00:00, 28.92it/s]\n"
     ]
    },
    {
     "name": "stdout",
     "output_type": "stream",
     "text": [
      "Weight saved: epoch 328\n",
      "Epoch 328\tTrain Loss: 604.414  Val Loss: 611.299\n",
      "\n"
     ]
    },
    {
     "name": "stderr",
     "output_type": "stream",
     "text": [
      "train loss: 557.523: 100%|██████████| 57/57 [00:07<00:00,  7.23it/s]\n",
      "val loss: 676.275: 100%|██████████| 15/15 [00:00<00:00, 29.13it/s]\n"
     ]
    },
    {
     "name": "stdout",
     "output_type": "stream",
     "text": [
      "Weight saved: epoch 329\n",
      "Epoch 329\tTrain Loss: 604.167  Val Loss: 611.299\n",
      "\n"
     ]
    },
    {
     "name": "stderr",
     "output_type": "stream",
     "text": [
      "train loss: 568.403: 100%|██████████| 57/57 [00:07<00:00,  7.19it/s]\n",
      "val loss: 676.274: 100%|██████████| 15/15 [00:00<00:00, 28.24it/s]\n"
     ]
    },
    {
     "name": "stdout",
     "output_type": "stream",
     "text": [
      "Weight saved: epoch 330\n",
      "Epoch 330\tTrain Loss: 604.354  Val Loss: 611.299\n",
      "\n"
     ]
    },
    {
     "name": "stderr",
     "output_type": "stream",
     "text": [
      "train loss: 658.098: 100%|██████████| 57/57 [00:07<00:00,  7.16it/s]\n",
      "val loss: 676.274: 100%|██████████| 15/15 [00:00<00:00, 28.76it/s]\n"
     ]
    },
    {
     "name": "stdout",
     "output_type": "stream",
     "text": [
      "Epoch 331\tTrain Loss: 605.890  Val Loss: 611.300\n",
      "\n"
     ]
    },
    {
     "name": "stderr",
     "output_type": "stream",
     "text": [
      "train loss: 607.296: 100%|██████████| 57/57 [00:07<00:00,  7.18it/s]\n",
      "val loss: 676.276: 100%|██████████| 15/15 [00:00<00:00, 28.83it/s]\n"
     ]
    },
    {
     "name": "stdout",
     "output_type": "stream",
     "text": [
      "Weight saved: epoch 332\n",
      "Epoch 332\tTrain Loss: 605.020  Val Loss: 611.299\n",
      "\n"
     ]
    },
    {
     "name": "stderr",
     "output_type": "stream",
     "text": [
      "train loss: 586.707: 100%|██████████| 57/57 [00:07<00:00,  7.21it/s]\n",
      "val loss: 676.271: 100%|██████████| 15/15 [00:00<00:00, 28.84it/s]\n"
     ]
    },
    {
     "name": "stdout",
     "output_type": "stream",
     "text": [
      "Weight saved: epoch 333\n",
      "Epoch 333\tTrain Loss: 604.667  Val Loss: 611.298\n",
      "\n"
     ]
    },
    {
     "name": "stderr",
     "output_type": "stream",
     "text": [
      "train loss: 626.399: 100%|██████████| 57/57 [00:07<00:00,  7.24it/s]\n",
      "val loss: 676.270: 100%|██████████| 15/15 [00:00<00:00, 28.48it/s]\n"
     ]
    },
    {
     "name": "stdout",
     "output_type": "stream",
     "text": [
      "Epoch 334\tTrain Loss: 605.347  Val Loss: 611.299\n",
      "\n"
     ]
    },
    {
     "name": "stderr",
     "output_type": "stream",
     "text": [
      "train loss: 594.377: 100%|██████████| 57/57 [00:07<00:00,  7.26it/s]\n",
      "val loss: 676.272: 100%|██████████| 15/15 [00:00<00:00, 29.30it/s]\n"
     ]
    },
    {
     "name": "stdout",
     "output_type": "stream",
     "text": [
      "Epoch 335\tTrain Loss: 604.798  Val Loss: 611.299\n",
      "\n"
     ]
    },
    {
     "name": "stderr",
     "output_type": "stream",
     "text": [
      "train loss: 575.096: 100%|██████████| 57/57 [00:07<00:00,  7.21it/s]\n",
      "val loss: 676.273: 100%|██████████| 15/15 [00:00<00:00, 28.91it/s]\n"
     ]
    },
    {
     "name": "stdout",
     "output_type": "stream",
     "text": [
      "Epoch 336\tTrain Loss: 604.468  Val Loss: 611.299\n",
      "\n"
     ]
    },
    {
     "name": "stderr",
     "output_type": "stream",
     "text": [
      "train loss: 612.026: 100%|██████████| 57/57 [00:07<00:00,  7.18it/s]\n",
      "val loss: 676.272: 100%|██████████| 15/15 [00:00<00:00, 28.79it/s]\n"
     ]
    },
    {
     "name": "stdout",
     "output_type": "stream",
     "text": [
      "Epoch 337\tTrain Loss: 605.100  Val Loss: 611.299\n",
      "\n"
     ]
    },
    {
     "name": "stderr",
     "output_type": "stream",
     "text": [
      "train loss: 612.990: 100%|██████████| 57/57 [00:07<00:00,  7.21it/s]\n",
      "val loss: 676.273: 100%|██████████| 15/15 [00:00<00:00, 28.82it/s]\n"
     ]
    },
    {
     "name": "stdout",
     "output_type": "stream",
     "text": [
      "Epoch 338\tTrain Loss: 605.117  Val Loss: 611.298\n",
      "\n"
     ]
    },
    {
     "name": "stderr",
     "output_type": "stream",
     "text": [
      "train loss: 570.874: 100%|██████████| 57/57 [00:07<00:00,  7.18it/s]\n",
      "val loss: 676.273: 100%|██████████| 15/15 [00:00<00:00, 28.81it/s]\n"
     ]
    },
    {
     "name": "stdout",
     "output_type": "stream",
     "text": [
      "Weight saved: epoch 339\n",
      "Epoch 339\tTrain Loss: 604.395  Val Loss: 611.298\n",
      "\n"
     ]
    },
    {
     "name": "stderr",
     "output_type": "stream",
     "text": [
      "train loss: 645.262: 100%|██████████| 57/57 [00:07<00:00,  7.23it/s]\n",
      "val loss: 676.275: 100%|██████████| 15/15 [00:00<00:00, 28.53it/s]\n"
     ]
    },
    {
     "name": "stdout",
     "output_type": "stream",
     "text": [
      "Epoch 340\tTrain Loss: 605.670  Val Loss: 611.299\n",
      "\n"
     ]
    },
    {
     "name": "stderr",
     "output_type": "stream",
     "text": [
      "train loss: 610.697: 100%|██████████| 57/57 [00:07<00:00,  7.25it/s]\n",
      "val loss: 676.276: 100%|██████████| 15/15 [00:00<00:00, 29.05it/s]\n"
     ]
    },
    {
     "name": "stdout",
     "output_type": "stream",
     "text": [
      "Epoch 341\tTrain Loss: 605.077  Val Loss: 611.299\n",
      "\n"
     ]
    },
    {
     "name": "stderr",
     "output_type": "stream",
     "text": [
      "train loss: 567.716: 100%|██████████| 57/57 [00:07<00:00,  7.25it/s]\n",
      "val loss: 676.278: 100%|██████████| 15/15 [00:00<00:00, 28.31it/s]\n"
     ]
    },
    {
     "name": "stdout",
     "output_type": "stream",
     "text": [
      "Epoch 342\tTrain Loss: 604.341  Val Loss: 611.298\n",
      "\n"
     ]
    },
    {
     "name": "stderr",
     "output_type": "stream",
     "text": [
      "train loss: 620.403: 100%|██████████| 57/57 [00:07<00:00,  7.23it/s]\n",
      "val loss: 676.277: 100%|██████████| 15/15 [00:00<00:00, 29.24it/s]\n"
     ]
    },
    {
     "name": "stdout",
     "output_type": "stream",
     "text": [
      "Epoch 343\tTrain Loss: 605.243  Val Loss: 611.299\n",
      "\n"
     ]
    },
    {
     "name": "stderr",
     "output_type": "stream",
     "text": [
      "train loss: 619.629: 100%|██████████| 57/57 [00:07<00:00,  7.24it/s]\n",
      "val loss: 676.277: 100%|██████████| 15/15 [00:00<00:00, 28.85it/s]\n"
     ]
    },
    {
     "name": "stdout",
     "output_type": "stream",
     "text": [
      "Epoch 344\tTrain Loss: 605.230  Val Loss: 611.299\n",
      "\n"
     ]
    },
    {
     "name": "stderr",
     "output_type": "stream",
     "text": [
      "train loss: 637.417: 100%|██████████| 57/57 [00:07<00:00,  7.19it/s]\n",
      "val loss: 676.275: 100%|██████████| 15/15 [00:00<00:00, 28.68it/s]\n"
     ]
    },
    {
     "name": "stdout",
     "output_type": "stream",
     "text": [
      "Weight saved: epoch 345\n",
      "Epoch 345\tTrain Loss: 605.535  Val Loss: 611.298\n",
      "\n"
     ]
    },
    {
     "name": "stderr",
     "output_type": "stream",
     "text": [
      "train loss: 639.646: 100%|██████████| 57/57 [00:07<00:00,  7.22it/s]\n",
      "val loss: 676.276: 100%|██████████| 15/15 [00:00<00:00, 28.73it/s]\n"
     ]
    },
    {
     "name": "stdout",
     "output_type": "stream",
     "text": [
      "Epoch 346\tTrain Loss: 605.573  Val Loss: 611.298\n",
      "\n"
     ]
    },
    {
     "name": "stderr",
     "output_type": "stream",
     "text": [
      "train loss: 637.301: 100%|██████████| 57/57 [00:07<00:00,  7.23it/s]\n",
      "val loss: 676.276: 100%|██████████| 15/15 [00:00<00:00, 28.80it/s]\n"
     ]
    },
    {
     "name": "stdout",
     "output_type": "stream",
     "text": [
      "Epoch 347\tTrain Loss: 605.532  Val Loss: 611.298\n",
      "\n"
     ]
    },
    {
     "name": "stderr",
     "output_type": "stream",
     "text": [
      "train loss: 569.039: 100%|██████████| 57/57 [00:07<00:00,  7.22it/s]\n",
      "val loss: 676.273: 100%|██████████| 15/15 [00:00<00:00, 28.80it/s]\n"
     ]
    },
    {
     "name": "stdout",
     "output_type": "stream",
     "text": [
      "Epoch 348\tTrain Loss: 604.363  Val Loss: 611.298\n",
      "\n"
     ]
    },
    {
     "name": "stderr",
     "output_type": "stream",
     "text": [
      "train loss: 664.049: 100%|██████████| 57/57 [00:07<00:00,  7.23it/s]\n",
      "val loss: 676.274: 100%|██████████| 15/15 [00:00<00:00, 29.09it/s]\n"
     ]
    },
    {
     "name": "stdout",
     "output_type": "stream",
     "text": [
      "Epoch 349\tTrain Loss: 605.991  Val Loss: 611.299\n",
      "\n"
     ]
    },
    {
     "name": "stderr",
     "output_type": "stream",
     "text": [
      "train loss: 664.470: 100%|██████████| 57/57 [00:07<00:00,  7.19it/s]\n",
      "val loss: 676.277: 100%|██████████| 15/15 [00:00<00:00, 28.69it/s]\n"
     ]
    },
    {
     "name": "stdout",
     "output_type": "stream",
     "text": [
      "Epoch 350\tTrain Loss: 605.998  Val Loss: 611.299\n",
      "\n"
     ]
    },
    {
     "name": "stderr",
     "output_type": "stream",
     "text": [
      "train loss: 556.850: 100%|██████████| 57/57 [00:07<00:00,  7.14it/s]\n",
      "val loss: 676.278: 100%|██████████| 15/15 [00:00<00:00, 28.78it/s]\n"
     ]
    },
    {
     "name": "stdout",
     "output_type": "stream",
     "text": [
      "Epoch 351\tTrain Loss: 604.154  Val Loss: 611.298\n",
      "\n"
     ]
    },
    {
     "name": "stderr",
     "output_type": "stream",
     "text": [
      "train loss: 599.685: 100%|██████████| 57/57 [00:07<00:00,  7.16it/s]\n",
      "val loss: 676.277: 100%|██████████| 15/15 [00:00<00:00, 29.12it/s]\n"
     ]
    },
    {
     "name": "stdout",
     "output_type": "stream",
     "text": [
      "Epoch 352\tTrain Loss: 604.888  Val Loss: 611.298\n",
      "\n"
     ]
    },
    {
     "name": "stderr",
     "output_type": "stream",
     "text": [
      "train loss: 637.720: 100%|██████████| 57/57 [00:07<00:00,  7.15it/s]\n",
      "val loss: 676.277: 100%|██████████| 15/15 [00:00<00:00, 28.39it/s]\n"
     ]
    },
    {
     "name": "stdout",
     "output_type": "stream",
     "text": [
      "Epoch 353\tTrain Loss: 605.539  Val Loss: 611.298\n",
      "\n"
     ]
    },
    {
     "name": "stderr",
     "output_type": "stream",
     "text": [
      "train loss: 626.765: 100%|██████████| 57/57 [00:07<00:00,  7.20it/s]\n",
      "val loss: 676.272: 100%|██████████| 15/15 [00:00<00:00, 28.23it/s]\n"
     ]
    },
    {
     "name": "stdout",
     "output_type": "stream",
     "text": [
      "Weight saved: epoch 354\n",
      "Epoch 354\tTrain Loss: 605.351  Val Loss: 611.298\n",
      "\n"
     ]
    },
    {
     "name": "stderr",
     "output_type": "stream",
     "text": [
      "train loss: 572.720: 100%|██████████| 57/57 [00:07<00:00,  7.22it/s]\n",
      "val loss: 676.275: 100%|██████████| 15/15 [00:00<00:00, 29.02it/s]\n"
     ]
    },
    {
     "name": "stdout",
     "output_type": "stream",
     "text": [
      "Weight saved: epoch 355\n",
      "Epoch 355\tTrain Loss: 604.425  Val Loss: 611.297\n",
      "\n"
     ]
    },
    {
     "name": "stderr",
     "output_type": "stream",
     "text": [
      "train loss: 611.368: 100%|██████████| 57/57 [00:07<00:00,  7.19it/s]\n",
      "val loss: 676.274: 100%|██████████| 15/15 [00:00<00:00, 28.71it/s]\n"
     ]
    },
    {
     "name": "stdout",
     "output_type": "stream",
     "text": [
      "Weight saved: epoch 356\n",
      "Epoch 356\tTrain Loss: 605.087  Val Loss: 611.297\n",
      "\n"
     ]
    },
    {
     "name": "stderr",
     "output_type": "stream",
     "text": [
      "train loss: 536.857: 100%|██████████| 57/57 [00:07<00:00,  7.18it/s]\n",
      "val loss: 676.273: 100%|██████████| 15/15 [00:00<00:00, 28.84it/s]\n"
     ]
    },
    {
     "name": "stdout",
     "output_type": "stream",
     "text": [
      "Epoch 357\tTrain Loss: 603.811  Val Loss: 611.297\n",
      "\n"
     ]
    },
    {
     "name": "stderr",
     "output_type": "stream",
     "text": [
      "train loss: 615.346: 100%|██████████| 57/57 [00:07<00:00,  7.19it/s]\n",
      "val loss: 676.276: 100%|██████████| 15/15 [00:00<00:00, 29.08it/s]\n"
     ]
    },
    {
     "name": "stdout",
     "output_type": "stream",
     "text": [
      "Epoch 358\tTrain Loss: 605.155  Val Loss: 611.297\n",
      "\n"
     ]
    },
    {
     "name": "stderr",
     "output_type": "stream",
     "text": [
      "train loss: 586.394: 100%|██████████| 57/57 [00:07<00:00,  7.17it/s]\n",
      "val loss: 676.278: 100%|██████████| 15/15 [00:00<00:00, 28.71it/s]\n"
     ]
    },
    {
     "name": "stdout",
     "output_type": "stream",
     "text": [
      "Weight saved: epoch 359\n",
      "Epoch 359\tTrain Loss: 604.659  Val Loss: 611.296\n",
      "\n"
     ]
    },
    {
     "name": "stderr",
     "output_type": "stream",
     "text": [
      "train loss: 654.710: 100%|██████████| 57/57 [00:07<00:00,  7.22it/s]\n",
      "val loss: 676.275: 100%|██████████| 15/15 [00:00<00:00, 28.74it/s]\n"
     ]
    },
    {
     "name": "stdout",
     "output_type": "stream",
     "text": [
      "Epoch 360\tTrain Loss: 605.830  Val Loss: 611.297\n",
      "\n"
     ]
    },
    {
     "name": "stderr",
     "output_type": "stream",
     "text": [
      "train loss: 602.381: 100%|██████████| 57/57 [00:07<00:00,  7.20it/s]\n",
      "val loss: 676.275: 100%|██████████| 15/15 [00:00<00:00, 28.44it/s]\n"
     ]
    },
    {
     "name": "stdout",
     "output_type": "stream",
     "text": [
      "Epoch 361\tTrain Loss: 604.933  Val Loss: 611.297\n",
      "\n"
     ]
    },
    {
     "name": "stderr",
     "output_type": "stream",
     "text": [
      "train loss: 618.248: 100%|██████████| 57/57 [00:07<00:00,  7.21it/s]\n",
      "val loss: 676.276: 100%|██████████| 15/15 [00:00<00:00, 28.74it/s]\n"
     ]
    },
    {
     "name": "stdout",
     "output_type": "stream",
     "text": [
      "Epoch 362\tTrain Loss: 605.205  Val Loss: 611.296\n",
      "\n"
     ]
    },
    {
     "name": "stderr",
     "output_type": "stream",
     "text": [
      "train loss: 611.091: 100%|██████████| 57/57 [00:07<00:00,  7.21it/s]\n",
      "val loss: 676.276: 100%|██████████| 15/15 [00:00<00:00, 28.83it/s]\n"
     ]
    },
    {
     "name": "stdout",
     "output_type": "stream",
     "text": [
      "Epoch 363\tTrain Loss: 605.082  Val Loss: 611.297\n",
      "\n"
     ]
    },
    {
     "name": "stderr",
     "output_type": "stream",
     "text": [
      "train loss: 585.926: 100%|██████████| 57/57 [00:07<00:00,  7.23it/s]\n",
      "val loss: 676.277: 100%|██████████| 15/15 [00:00<00:00, 29.17it/s]\n"
     ]
    },
    {
     "name": "stdout",
     "output_type": "stream",
     "text": [
      "Epoch 364\tTrain Loss: 604.651  Val Loss: 611.296\n",
      "\n"
     ]
    },
    {
     "name": "stderr",
     "output_type": "stream",
     "text": [
      "train loss: 618.104: 100%|██████████| 57/57 [00:07<00:00,  7.21it/s]\n",
      "val loss: 676.279: 100%|██████████| 15/15 [00:00<00:00, 28.47it/s]\n"
     ]
    },
    {
     "name": "stdout",
     "output_type": "stream",
     "text": [
      "Weight saved: epoch 365\n",
      "Epoch 365\tTrain Loss: 605.202  Val Loss: 611.296\n",
      "\n"
     ]
    },
    {
     "name": "stderr",
     "output_type": "stream",
     "text": [
      "train loss: 555.131: 100%|██████████| 57/57 [00:07<00:00,  7.21it/s]\n",
      "val loss: 676.279: 100%|██████████| 15/15 [00:00<00:00, 28.96it/s]\n"
     ]
    },
    {
     "name": "stdout",
     "output_type": "stream",
     "text": [
      "Epoch 366\tTrain Loss: 604.123  Val Loss: 611.296\n",
      "\n"
     ]
    },
    {
     "name": "stderr",
     "output_type": "stream",
     "text": [
      "train loss: 642.869: 100%|██████████| 57/57 [00:07<00:00,  7.22it/s]\n",
      "val loss: 676.278: 100%|██████████| 15/15 [00:00<00:00, 28.87it/s]\n"
     ]
    },
    {
     "name": "stdout",
     "output_type": "stream",
     "text": [
      "Epoch 367\tTrain Loss: 605.626  Val Loss: 611.296\n",
      "\n"
     ]
    },
    {
     "name": "stderr",
     "output_type": "stream",
     "text": [
      "train loss: 593.991: 100%|██████████| 57/57 [00:07<00:00,  7.22it/s]\n",
      "val loss: 676.277: 100%|██████████| 15/15 [00:00<00:00, 28.59it/s]\n"
     ]
    },
    {
     "name": "stdout",
     "output_type": "stream",
     "text": [
      "Epoch 368\tTrain Loss: 604.788  Val Loss: 611.296\n",
      "\n"
     ]
    },
    {
     "name": "stderr",
     "output_type": "stream",
     "text": [
      "train loss: 564.985: 100%|██████████| 57/57 [00:07<00:00,  7.24it/s]\n",
      "val loss: 676.275: 100%|██████████| 15/15 [00:00<00:00, 29.09it/s]\n"
     ]
    },
    {
     "name": "stdout",
     "output_type": "stream",
     "text": [
      "Epoch 369\tTrain Loss: 604.291  Val Loss: 611.297\n",
      "\n"
     ]
    },
    {
     "name": "stderr",
     "output_type": "stream",
     "text": [
      "train loss: 551.931: 100%|██████████| 57/57 [00:07<00:00,  7.24it/s]\n",
      "val loss: 676.281: 100%|██████████| 15/15 [00:00<00:00, 28.64it/s]\n"
     ]
    },
    {
     "name": "stdout",
     "output_type": "stream",
     "text": [
      "Epoch 370\tTrain Loss: 604.068  Val Loss: 611.296\n",
      "\n"
     ]
    },
    {
     "name": "stderr",
     "output_type": "stream",
     "text": [
      "train loss: 625.796: 100%|██████████| 57/57 [00:07<00:00,  7.23it/s]\n",
      "val loss: 676.280: 100%|██████████| 15/15 [00:00<00:00, 28.91it/s]\n"
     ]
    },
    {
     "name": "stdout",
     "output_type": "stream",
     "text": [
      "Weight saved: epoch 371\n",
      "Epoch 371\tTrain Loss: 605.333  Val Loss: 611.296\n",
      "\n"
     ]
    },
    {
     "name": "stderr",
     "output_type": "stream",
     "text": [
      "train loss: 580.195: 100%|██████████| 57/57 [00:07<00:00,  7.25it/s]\n",
      "val loss: 676.281: 100%|██████████| 15/15 [00:00<00:00, 28.92it/s]\n"
     ]
    },
    {
     "name": "stdout",
     "output_type": "stream",
     "text": [
      "Epoch 372\tTrain Loss: 604.552  Val Loss: 611.296\n",
      "\n"
     ]
    },
    {
     "name": "stderr",
     "output_type": "stream",
     "text": [
      "train loss: 581.730: 100%|██████████| 57/57 [00:07<00:00,  7.23it/s]\n",
      "val loss: 676.279: 100%|██████████| 15/15 [00:00<00:00, 29.04it/s]\n"
     ]
    },
    {
     "name": "stdout",
     "output_type": "stream",
     "text": [
      "Epoch 373\tTrain Loss: 604.578  Val Loss: 611.296\n",
      "\n"
     ]
    },
    {
     "name": "stderr",
     "output_type": "stream",
     "text": [
      "train loss: 603.263: 100%|██████████| 57/57 [00:07<00:00,  7.24it/s]\n",
      "val loss: 676.282: 100%|██████████| 15/15 [00:00<00:00, 28.56it/s]\n"
     ]
    },
    {
     "name": "stdout",
     "output_type": "stream",
     "text": [
      "Epoch 374\tTrain Loss: 604.947  Val Loss: 611.296\n",
      "\n"
     ]
    },
    {
     "name": "stderr",
     "output_type": "stream",
     "text": [
      "train loss: 616.643: 100%|██████████| 57/57 [00:07<00:00,  7.22it/s]\n",
      "val loss: 676.282: 100%|██████████| 15/15 [00:00<00:00, 28.43it/s]\n"
     ]
    },
    {
     "name": "stdout",
     "output_type": "stream",
     "text": [
      "Epoch 375\tTrain Loss: 605.176  Val Loss: 611.296\n",
      "\n"
     ]
    },
    {
     "name": "stderr",
     "output_type": "stream",
     "text": [
      "train loss: 595.254: 100%|██████████| 57/57 [00:07<00:00,  7.23it/s]\n",
      "val loss: 676.283: 100%|██████████| 15/15 [00:00<00:00, 28.90it/s]\n"
     ]
    },
    {
     "name": "stdout",
     "output_type": "stream",
     "text": [
      "Weight saved: epoch 376\n",
      "Epoch 376\tTrain Loss: 604.809  Val Loss: 611.295\n",
      "\n"
     ]
    },
    {
     "name": "stderr",
     "output_type": "stream",
     "text": [
      "train loss: 646.169: 100%|██████████| 57/57 [00:07<00:00,  7.24it/s]\n",
      "val loss: 676.278: 100%|██████████| 15/15 [00:00<00:00, 28.99it/s]\n"
     ]
    },
    {
     "name": "stdout",
     "output_type": "stream",
     "text": [
      "Weight saved: epoch 377\n",
      "Epoch 377\tTrain Loss: 605.682  Val Loss: 611.295\n",
      "\n"
     ]
    },
    {
     "name": "stderr",
     "output_type": "stream",
     "text": [
      "train loss: 616.942: 100%|██████████| 57/57 [00:07<00:00,  7.18it/s]\n",
      "val loss: 676.276: 100%|██████████| 15/15 [00:00<00:00, 28.53it/s]\n"
     ]
    },
    {
     "name": "stdout",
     "output_type": "stream",
     "text": [
      "Epoch 378\tTrain Loss: 605.181  Val Loss: 611.296\n",
      "\n"
     ]
    },
    {
     "name": "stderr",
     "output_type": "stream",
     "text": [
      "train loss: 596.845: 100%|██████████| 57/57 [00:07<00:00,  7.20it/s]\n",
      "val loss: 676.279: 100%|██████████| 15/15 [00:00<00:00, 28.81it/s]\n"
     ]
    },
    {
     "name": "stdout",
     "output_type": "stream",
     "text": [
      "Epoch 379\tTrain Loss: 604.836  Val Loss: 611.296\n",
      "\n"
     ]
    },
    {
     "name": "stderr",
     "output_type": "stream",
     "text": [
      "train loss: 604.688: 100%|██████████| 57/57 [00:07<00:00,  7.22it/s]\n",
      "val loss: 676.281: 100%|██████████| 15/15 [00:00<00:00, 28.26it/s]\n"
     ]
    },
    {
     "name": "stdout",
     "output_type": "stream",
     "text": [
      "Epoch 380\tTrain Loss: 604.971  Val Loss: 611.296\n",
      "\n"
     ]
    },
    {
     "name": "stderr",
     "output_type": "stream",
     "text": [
      "train loss: 567.842: 100%|██████████| 57/57 [00:07<00:00,  7.22it/s]\n",
      "val loss: 676.279: 100%|██████████| 15/15 [00:00<00:00, 29.13it/s]\n"
     ]
    },
    {
     "name": "stdout",
     "output_type": "stream",
     "text": [
      "Epoch 381\tTrain Loss: 604.339  Val Loss: 611.296\n",
      "\n"
     ]
    },
    {
     "name": "stderr",
     "output_type": "stream",
     "text": [
      "train loss: 594.041: 100%|██████████| 57/57 [00:07<00:00,  7.24it/s]\n",
      "val loss: 676.281: 100%|██████████| 15/15 [00:00<00:00, 28.94it/s]\n"
     ]
    },
    {
     "name": "stdout",
     "output_type": "stream",
     "text": [
      "Epoch 382\tTrain Loss: 604.788  Val Loss: 611.296\n",
      "\n"
     ]
    },
    {
     "name": "stderr",
     "output_type": "stream",
     "text": [
      "train loss: 677.188: 100%|██████████| 57/57 [00:07<00:00,  7.23it/s]\n",
      "val loss: 676.283: 100%|██████████| 15/15 [00:00<00:00, 28.91it/s]\n"
     ]
    },
    {
     "name": "stdout",
     "output_type": "stream",
     "text": [
      "Epoch 383\tTrain Loss: 606.212  Val Loss: 611.296\n",
      "\n"
     ]
    },
    {
     "name": "stderr",
     "output_type": "stream",
     "text": [
      "train loss: 631.398: 100%|██████████| 57/57 [00:07<00:00,  7.20it/s]\n",
      "val loss: 676.284: 100%|██████████| 15/15 [00:00<00:00, 28.86it/s]\n"
     ]
    },
    {
     "name": "stdout",
     "output_type": "stream",
     "text": [
      "Epoch 384\tTrain Loss: 605.428  Val Loss: 611.296\n",
      "\n"
     ]
    },
    {
     "name": "stderr",
     "output_type": "stream",
     "text": [
      "train loss: 601.052: 100%|██████████| 57/57 [00:07<00:00,  7.22it/s]\n",
      "val loss: 676.284: 100%|██████████| 15/15 [00:00<00:00, 28.95it/s]\n"
     ]
    },
    {
     "name": "stdout",
     "output_type": "stream",
     "text": [
      "Epoch 385\tTrain Loss: 604.908  Val Loss: 611.296\n",
      "\n"
     ]
    },
    {
     "name": "stderr",
     "output_type": "stream",
     "text": [
      "train loss: 596.559: 100%|██████████| 57/57 [00:07<00:00,  7.21it/s]\n",
      "val loss: 676.281: 100%|██████████| 15/15 [00:00<00:00, 28.44it/s]\n"
     ]
    },
    {
     "name": "stdout",
     "output_type": "stream",
     "text": [
      "Weight saved: epoch 386\n",
      "Epoch 386\tTrain Loss: 604.831  Val Loss: 611.295\n",
      "\n"
     ]
    },
    {
     "name": "stderr",
     "output_type": "stream",
     "text": [
      "train loss: 682.998: 100%|██████████| 57/57 [00:07<00:00,  7.22it/s]\n",
      "val loss: 676.281: 100%|██████████| 15/15 [00:00<00:00, 28.73it/s]\n"
     ]
    },
    {
     "name": "stdout",
     "output_type": "stream",
     "text": [
      "Epoch 387\tTrain Loss: 606.311  Val Loss: 611.295\n",
      "\n"
     ]
    },
    {
     "name": "stderr",
     "output_type": "stream",
     "text": [
      "train loss: 534.499: 100%|██████████| 57/57 [00:07<00:00,  7.22it/s]\n",
      "val loss: 676.280: 100%|██████████| 15/15 [00:00<00:00, 28.51it/s]\n"
     ]
    },
    {
     "name": "stdout",
     "output_type": "stream",
     "text": [
      "Weight saved: epoch 388\n",
      "Epoch 388\tTrain Loss: 603.767  Val Loss: 611.295\n",
      "\n"
     ]
    },
    {
     "name": "stderr",
     "output_type": "stream",
     "text": [
      "train loss: 592.123: 100%|██████████| 57/57 [00:07<00:00,  7.25it/s]\n",
      "val loss: 676.280: 100%|██████████| 15/15 [00:00<00:00, 29.15it/s]\n"
     ]
    },
    {
     "name": "stdout",
     "output_type": "stream",
     "text": [
      "Weight saved: epoch 389\n",
      "Epoch 389\tTrain Loss: 604.754  Val Loss: 611.295\n",
      "\n"
     ]
    },
    {
     "name": "stderr",
     "output_type": "stream",
     "text": [
      "train loss: 612.673: 100%|██████████| 57/57 [00:07<00:00,  7.20it/s]\n",
      "val loss: 676.283: 100%|██████████| 15/15 [00:00<00:00, 28.45it/s]\n"
     ]
    },
    {
     "name": "stdout",
     "output_type": "stream",
     "text": [
      "Epoch 390\tTrain Loss: 605.106  Val Loss: 611.295\n",
      "\n"
     ]
    },
    {
     "name": "stderr",
     "output_type": "stream",
     "text": [
      "train loss: 578.167: 100%|██████████| 57/57 [00:07<00:00,  7.18it/s]\n",
      "val loss: 676.281: 100%|██████████| 15/15 [00:00<00:00, 28.23it/s]\n"
     ]
    },
    {
     "name": "stdout",
     "output_type": "stream",
     "text": [
      "Weight saved: epoch 391\n",
      "Epoch 391\tTrain Loss: 604.515  Val Loss: 611.295\n",
      "\n"
     ]
    },
    {
     "name": "stderr",
     "output_type": "stream",
     "text": [
      "train loss: 662.940: 100%|██████████| 57/57 [00:07<00:00,  7.15it/s]\n",
      "val loss: 676.279: 100%|██████████| 15/15 [00:00<00:00, 28.39it/s]\n"
     ]
    },
    {
     "name": "stdout",
     "output_type": "stream",
     "text": [
      "Weight saved: epoch 392\n",
      "Epoch 392\tTrain Loss: 605.967  Val Loss: 611.294\n",
      "\n"
     ]
    },
    {
     "name": "stderr",
     "output_type": "stream",
     "text": [
      "train loss: 640.322: 100%|██████████| 57/57 [00:07<00:00,  7.23it/s]\n",
      "val loss: 676.282: 100%|██████████| 15/15 [00:00<00:00, 28.64it/s]\n"
     ]
    },
    {
     "name": "stdout",
     "output_type": "stream",
     "text": [
      "Weight saved: epoch 393\n",
      "Epoch 393\tTrain Loss: 605.580  Val Loss: 611.294\n",
      "\n"
     ]
    },
    {
     "name": "stderr",
     "output_type": "stream",
     "text": [
      "train loss: 642.925: 100%|██████████| 57/57 [00:07<00:00,  7.20it/s]\n",
      "val loss: 676.283: 100%|██████████| 15/15 [00:00<00:00, 28.84it/s]\n"
     ]
    },
    {
     "name": "stdout",
     "output_type": "stream",
     "text": [
      "Epoch 394\tTrain Loss: 605.624  Val Loss: 611.294\n",
      "\n"
     ]
    },
    {
     "name": "stderr",
     "output_type": "stream",
     "text": [
      "train loss: 551.102: 100%|██████████| 57/57 [00:07<00:00,  7.19it/s]\n",
      "val loss: 676.285: 100%|██████████| 15/15 [00:00<00:00, 28.53it/s]\n"
     ]
    },
    {
     "name": "stdout",
     "output_type": "stream",
     "text": [
      "Epoch 395\tTrain Loss: 604.051  Val Loss: 611.295\n",
      "\n"
     ]
    },
    {
     "name": "stderr",
     "output_type": "stream",
     "text": [
      "train loss: 607.497: 100%|██████████| 57/57 [00:07<00:00,  7.22it/s]\n",
      "val loss: 676.283: 100%|██████████| 15/15 [00:00<00:00, 28.61it/s]\n"
     ]
    },
    {
     "name": "stdout",
     "output_type": "stream",
     "text": [
      "Epoch 396\tTrain Loss: 605.017  Val Loss: 611.295\n",
      "\n"
     ]
    },
    {
     "name": "stderr",
     "output_type": "stream",
     "text": [
      "train loss: 567.923: 100%|██████████| 57/57 [00:07<00:00,  7.22it/s]\n",
      "val loss: 676.281: 100%|██████████| 15/15 [00:00<00:00, 28.70it/s]\n"
     ]
    },
    {
     "name": "stdout",
     "output_type": "stream",
     "text": [
      "Epoch 397\tTrain Loss: 604.339  Val Loss: 611.295\n",
      "\n"
     ]
    },
    {
     "name": "stderr",
     "output_type": "stream",
     "text": [
      "train loss: 639.110: 100%|██████████| 57/57 [00:07<00:00,  7.17it/s]\n",
      "val loss: 676.283: 100%|██████████| 15/15 [00:00<00:00, 28.72it/s]\n"
     ]
    },
    {
     "name": "stdout",
     "output_type": "stream",
     "text": [
      "Weight saved: epoch 398\n",
      "Epoch 398\tTrain Loss: 605.559  Val Loss: 611.294\n",
      "\n"
     ]
    },
    {
     "name": "stderr",
     "output_type": "stream",
     "text": [
      "train loss: 559.164: 100%|██████████| 57/57 [00:07<00:00,  7.20it/s]\n",
      "val loss: 676.279: 100%|██████████| 15/15 [00:00<00:00, 27.96it/s]\n"
     ]
    },
    {
     "name": "stdout",
     "output_type": "stream",
     "text": [
      "Weight saved: epoch 399\n",
      "Epoch 399\tTrain Loss: 604.189  Val Loss: 611.293\n",
      "\n"
     ]
    },
    {
     "name": "stderr",
     "output_type": "stream",
     "text": [
      "train loss: 582.949: 100%|██████████| 57/57 [00:07<00:00,  7.19it/s]\n",
      "val loss: 676.281: 100%|██████████| 15/15 [00:00<00:00, 28.33it/s]\n"
     ]
    },
    {
     "name": "stdout",
     "output_type": "stream",
     "text": [
      "Epoch 400\tTrain Loss: 604.596  Val Loss: 611.294\n",
      "\n"
     ]
    },
    {
     "name": "stderr",
     "output_type": "stream",
     "text": [
      "train loss: 605.621: 100%|██████████| 57/57 [00:07<00:00,  7.22it/s]\n",
      "val loss: 676.279: 100%|██████████| 15/15 [00:00<00:00, 28.99it/s]\n"
     ]
    },
    {
     "name": "stdout",
     "output_type": "stream",
     "text": [
      "Weight saved: epoch 401\n",
      "Epoch 401\tTrain Loss: 604.984  Val Loss: 611.293\n",
      "\n"
     ]
    },
    {
     "name": "stderr",
     "output_type": "stream",
     "text": [
      "train loss: 602.507: 100%|██████████| 57/57 [00:07<00:00,  7.22it/s]\n",
      "val loss: 676.281: 100%|██████████| 15/15 [00:00<00:00, 29.05it/s]\n"
     ]
    },
    {
     "name": "stdout",
     "output_type": "stream",
     "text": [
      "Epoch 402\tTrain Loss: 604.931  Val Loss: 611.293\n",
      "\n"
     ]
    },
    {
     "name": "stderr",
     "output_type": "stream",
     "text": [
      "train loss: 610.108: 100%|██████████| 57/57 [00:07<00:00,  7.23it/s]\n",
      "val loss: 676.281: 100%|██████████| 15/15 [00:00<00:00, 28.86it/s]\n"
     ]
    },
    {
     "name": "stdout",
     "output_type": "stream",
     "text": [
      "Epoch 403\tTrain Loss: 605.061  Val Loss: 611.293\n",
      "\n"
     ]
    },
    {
     "name": "stderr",
     "output_type": "stream",
     "text": [
      "train loss: 685.757: 100%|██████████| 57/57 [00:07<00:00,  7.22it/s]\n",
      "val loss: 676.283: 100%|██████████| 15/15 [00:00<00:00, 28.65it/s]\n"
     ]
    },
    {
     "name": "stdout",
     "output_type": "stream",
     "text": [
      "Weight saved: epoch 404\n",
      "Epoch 404\tTrain Loss: 606.357  Val Loss: 611.293\n",
      "\n"
     ]
    },
    {
     "name": "stderr",
     "output_type": "stream",
     "text": [
      "train loss: 583.798: 100%|██████████| 57/57 [00:07<00:00,  7.13it/s]\n",
      "val loss: 676.282: 100%|██████████| 15/15 [00:00<00:00, 26.61it/s]\n"
     ]
    },
    {
     "name": "stdout",
     "output_type": "stream",
     "text": [
      "Epoch 405\tTrain Loss: 604.610  Val Loss: 611.293\n",
      "\n"
     ]
    },
    {
     "name": "stderr",
     "output_type": "stream",
     "text": [
      "train loss: 603.217: 100%|██████████| 57/57 [00:07<00:00,  7.48it/s]\n",
      "val loss: 676.279: 100%|██████████| 15/15 [00:00<00:00, 30.95it/s]\n"
     ]
    },
    {
     "name": "stdout",
     "output_type": "stream",
     "text": [
      "Epoch 406\tTrain Loss: 604.943  Val Loss: 611.293\n",
      "\n"
     ]
    },
    {
     "name": "stderr",
     "output_type": "stream",
     "text": [
      "train loss: 644.020: 100%|██████████| 57/57 [00:07<00:00,  7.33it/s]\n",
      "val loss: 676.281: 100%|██████████| 15/15 [00:00<00:00, 27.21it/s]\n"
     ]
    },
    {
     "name": "stdout",
     "output_type": "stream",
     "text": [
      "Epoch 407\tTrain Loss: 605.642  Val Loss: 611.293\n",
      "\n"
     ]
    },
    {
     "name": "stderr",
     "output_type": "stream",
     "text": [
      "train loss: 617.803: 100%|██████████| 57/57 [00:07<00:00,  7.74it/s]\n",
      "val loss: 676.278: 100%|██████████| 15/15 [00:00<00:00, 30.77it/s]\n"
     ]
    },
    {
     "name": "stdout",
     "output_type": "stream",
     "text": [
      "Epoch 408\tTrain Loss: 605.193  Val Loss: 611.293\n",
      "\n"
     ]
    },
    {
     "name": "stderr",
     "output_type": "stream",
     "text": [
      "train loss: 597.827: 100%|██████████| 57/57 [00:07<00:00,  7.71it/s]\n",
      "val loss: 676.280: 100%|██████████| 15/15 [00:00<00:00, 31.06it/s]\n"
     ]
    },
    {
     "name": "stdout",
     "output_type": "stream",
     "text": [
      "Weight saved: epoch 409\n",
      "Epoch 409\tTrain Loss: 604.850  Val Loss: 611.293\n",
      "\n"
     ]
    },
    {
     "name": "stderr",
     "output_type": "stream",
     "text": [
      "train loss: 642.865: 100%|██████████| 57/57 [00:07<00:00,  7.26it/s]\n",
      "val loss: 676.281: 100%|██████████| 15/15 [00:00<00:00, 30.16it/s]\n"
     ]
    },
    {
     "name": "stdout",
     "output_type": "stream",
     "text": [
      "Weight saved: epoch 410\n",
      "Epoch 410\tTrain Loss: 605.622  Val Loss: 611.292\n",
      "\n"
     ]
    },
    {
     "name": "stderr",
     "output_type": "stream",
     "text": [
      "train loss: 597.759: 100%|██████████| 57/57 [00:07<00:00,  7.23it/s]\n",
      "val loss: 676.280: 100%|██████████| 15/15 [00:00<00:00, 28.72it/s]\n"
     ]
    },
    {
     "name": "stdout",
     "output_type": "stream",
     "text": [
      "Epoch 411\tTrain Loss: 604.849  Val Loss: 611.293\n",
      "\n"
     ]
    },
    {
     "name": "stderr",
     "output_type": "stream",
     "text": [
      "train loss: 615.815: 100%|██████████| 57/57 [00:07<00:00,  7.25it/s]\n",
      "val loss: 676.279: 100%|██████████| 15/15 [00:00<00:00, 29.32it/s]\n"
     ]
    },
    {
     "name": "stdout",
     "output_type": "stream",
     "text": [
      "Epoch 412\tTrain Loss: 605.158  Val Loss: 611.293\n",
      "\n"
     ]
    },
    {
     "name": "stderr",
     "output_type": "stream",
     "text": [
      "train loss: 573.936: 100%|██████████| 57/57 [00:07<00:00,  7.23it/s]\n",
      "val loss: 676.283: 100%|██████████| 15/15 [00:00<00:00, 29.23it/s]\n"
     ]
    },
    {
     "name": "stdout",
     "output_type": "stream",
     "text": [
      "Epoch 413\tTrain Loss: 604.440  Val Loss: 611.293\n",
      "\n"
     ]
    },
    {
     "name": "stderr",
     "output_type": "stream",
     "text": [
      "train loss: 593.236: 100%|██████████| 57/57 [00:07<00:00,  7.25it/s]\n",
      "val loss: 676.283: 100%|██████████| 15/15 [00:00<00:00, 28.92it/s]\n"
     ]
    },
    {
     "name": "stdout",
     "output_type": "stream",
     "text": [
      "Epoch 414\tTrain Loss: 604.771  Val Loss: 611.292\n",
      "\n"
     ]
    },
    {
     "name": "stderr",
     "output_type": "stream",
     "text": [
      "train loss: 663.516: 100%|██████████| 57/57 [00:07<00:00,  7.26it/s]\n",
      "val loss: 676.281: 100%|██████████| 15/15 [00:00<00:00, 29.12it/s]\n"
     ]
    },
    {
     "name": "stdout",
     "output_type": "stream",
     "text": [
      "Epoch 415\tTrain Loss: 605.975  Val Loss: 611.292\n",
      "\n"
     ]
    },
    {
     "name": "stderr",
     "output_type": "stream",
     "text": [
      "train loss: 688.123: 100%|██████████| 57/57 [00:07<00:00,  7.23it/s]\n",
      "val loss: 676.280: 100%|██████████| 15/15 [00:00<00:00, 28.62it/s]\n"
     ]
    },
    {
     "name": "stdout",
     "output_type": "stream",
     "text": [
      "Weight saved: epoch 416\n",
      "Epoch 416\tTrain Loss: 606.396  Val Loss: 611.292\n",
      "\n"
     ]
    },
    {
     "name": "stderr",
     "output_type": "stream",
     "text": [
      "train loss: 579.408: 100%|██████████| 57/57 [00:07<00:00,  7.21it/s]\n",
      "val loss: 676.284: 100%|██████████| 15/15 [00:00<00:00, 28.75it/s]\n"
     ]
    },
    {
     "name": "stdout",
     "output_type": "stream",
     "text": [
      "Epoch 417\tTrain Loss: 604.534  Val Loss: 611.292\n",
      "\n"
     ]
    },
    {
     "name": "stderr",
     "output_type": "stream",
     "text": [
      "train loss: 573.495: 100%|██████████| 57/57 [00:07<00:00,  7.20it/s]\n",
      "val loss: 676.283: 100%|██████████| 15/15 [00:00<00:00, 26.82it/s]\n"
     ]
    },
    {
     "name": "stdout",
     "output_type": "stream",
     "text": [
      "Weight saved: epoch 418\n",
      "Epoch 418\tTrain Loss: 604.432  Val Loss: 611.292\n",
      "\n"
     ]
    },
    {
     "name": "stderr",
     "output_type": "stream",
     "text": [
      "train loss: 597.911: 100%|██████████| 57/57 [00:07<00:00,  7.23it/s]\n",
      "val loss: 676.282: 100%|██████████| 15/15 [00:00<00:00, 28.40it/s]\n"
     ]
    },
    {
     "name": "stdout",
     "output_type": "stream",
     "text": [
      "Epoch 419\tTrain Loss: 604.851  Val Loss: 611.292\n",
      "\n"
     ]
    },
    {
     "name": "stderr",
     "output_type": "stream",
     "text": [
      "train loss: 655.876: 100%|██████████| 57/57 [00:07<00:00,  7.23it/s]\n",
      "val loss: 676.283: 100%|██████████| 15/15 [00:00<00:00, 28.40it/s]\n"
     ]
    },
    {
     "name": "stdout",
     "output_type": "stream",
     "text": [
      "Epoch 420\tTrain Loss: 605.844  Val Loss: 611.292\n",
      "\n"
     ]
    },
    {
     "name": "stderr",
     "output_type": "stream",
     "text": [
      "train loss: 619.778: 100%|██████████| 57/57 [00:07<00:00,  7.19it/s]\n",
      "val loss: 676.286: 100%|██████████| 15/15 [00:00<00:00, 27.97it/s]\n"
     ]
    },
    {
     "name": "stdout",
     "output_type": "stream",
     "text": [
      "Epoch 421\tTrain Loss: 605.225  Val Loss: 611.293\n",
      "\n"
     ]
    },
    {
     "name": "stderr",
     "output_type": "stream",
     "text": [
      "train loss: 613.966: 100%|██████████| 57/57 [00:07<00:00,  7.18it/s]\n",
      "val loss: 676.287: 100%|██████████| 15/15 [00:00<00:00, 28.00it/s]\n"
     ]
    },
    {
     "name": "stdout",
     "output_type": "stream",
     "text": [
      "Epoch 422\tTrain Loss: 605.125  Val Loss: 611.292\n",
      "\n"
     ]
    },
    {
     "name": "stderr",
     "output_type": "stream",
     "text": [
      "train loss: 598.877: 100%|██████████| 57/57 [00:07<00:00,  7.13it/s]\n",
      "val loss: 676.285: 100%|██████████| 15/15 [00:00<00:00, 28.37it/s]\n"
     ]
    },
    {
     "name": "stdout",
     "output_type": "stream",
     "text": [
      "Epoch 423\tTrain Loss: 604.867  Val Loss: 611.292\n",
      "\n"
     ]
    },
    {
     "name": "stderr",
     "output_type": "stream",
     "text": [
      "train loss: 660.049: 100%|██████████| 57/57 [00:07<00:00,  7.14it/s]\n",
      "val loss: 676.285: 100%|██████████| 15/15 [00:00<00:00, 27.87it/s]\n"
     ]
    },
    {
     "name": "stdout",
     "output_type": "stream",
     "text": [
      "Epoch 424\tTrain Loss: 605.915  Val Loss: 611.292\n",
      "\n"
     ]
    },
    {
     "name": "stderr",
     "output_type": "stream",
     "text": [
      "train loss: 534.662: 100%|██████████| 57/57 [00:07<00:00,  7.17it/s]\n",
      "val loss: 676.284: 100%|██████████| 15/15 [00:00<00:00, 26.59it/s]\n"
     ]
    },
    {
     "name": "stdout",
     "output_type": "stream",
     "text": [
      "Epoch 425\tTrain Loss: 603.766  Val Loss: 611.292\n",
      "\n"
     ]
    },
    {
     "name": "stderr",
     "output_type": "stream",
     "text": [
      "train loss: 598.594: 100%|██████████| 57/57 [00:08<00:00,  7.10it/s]\n",
      "val loss: 676.284: 100%|██████████| 15/15 [00:00<00:00, 28.50it/s]\n"
     ]
    },
    {
     "name": "stdout",
     "output_type": "stream",
     "text": [
      "Epoch 426\tTrain Loss: 604.862  Val Loss: 611.292\n",
      "\n"
     ]
    },
    {
     "name": "stderr",
     "output_type": "stream",
     "text": [
      "train loss: 620.673: 100%|██████████| 57/57 [00:08<00:00,  7.12it/s]\n",
      "val loss: 676.285: 100%|██████████| 15/15 [00:00<00:00, 27.16it/s]\n"
     ]
    },
    {
     "name": "stdout",
     "output_type": "stream",
     "text": [
      "Epoch 427\tTrain Loss: 605.240  Val Loss: 611.292\n",
      "\n"
     ]
    },
    {
     "name": "stderr",
     "output_type": "stream",
     "text": [
      "train loss: 640.267: 100%|██████████| 57/57 [00:07<00:00,  7.13it/s]\n",
      "val loss: 676.281: 100%|██████████| 15/15 [00:00<00:00, 28.41it/s]\n"
     ]
    },
    {
     "name": "stdout",
     "output_type": "stream",
     "text": [
      "Weight saved: epoch 428\n",
      "Epoch 428\tTrain Loss: 605.575  Val Loss: 611.292\n",
      "\n"
     ]
    },
    {
     "name": "stderr",
     "output_type": "stream",
     "text": [
      "train loss: 568.304: 100%|██████████| 57/57 [00:07<00:00,  7.21it/s]\n",
      "val loss: 676.284: 100%|██████████| 15/15 [00:00<00:00, 29.06it/s]\n"
     ]
    },
    {
     "name": "stdout",
     "output_type": "stream",
     "text": [
      "Weight saved: epoch 429\n",
      "Epoch 429\tTrain Loss: 604.342  Val Loss: 611.291\n",
      "\n"
     ]
    },
    {
     "name": "stderr",
     "output_type": "stream",
     "text": [
      "train loss: 576.081: 100%|██████████| 57/57 [00:07<00:00,  7.21it/s]\n",
      "val loss: 676.283: 100%|██████████| 15/15 [00:00<00:00, 28.80it/s]\n"
     ]
    },
    {
     "name": "stdout",
     "output_type": "stream",
     "text": [
      "Epoch 430\tTrain Loss: 604.475  Val Loss: 611.291\n",
      "\n"
     ]
    },
    {
     "name": "stderr",
     "output_type": "stream",
     "text": [
      "train loss: 563.344: 100%|██████████| 57/57 [00:07<00:00,  7.22it/s]\n",
      "val loss: 676.284: 100%|██████████| 15/15 [00:00<00:00, 28.18it/s]\n"
     ]
    },
    {
     "name": "stdout",
     "output_type": "stream",
     "text": [
      "Weight saved: epoch 431\n",
      "Epoch 431\tTrain Loss: 604.257  Val Loss: 611.291\n",
      "\n"
     ]
    },
    {
     "name": "stderr",
     "output_type": "stream",
     "text": [
      "train loss: 573.381: 100%|██████████| 57/57 [00:07<00:00,  7.23it/s]\n",
      "val loss: 676.286: 100%|██████████| 15/15 [00:00<00:00, 28.69it/s]\n"
     ]
    },
    {
     "name": "stdout",
     "output_type": "stream",
     "text": [
      "Epoch 432\tTrain Loss: 604.429  Val Loss: 611.291\n",
      "\n"
     ]
    },
    {
     "name": "stderr",
     "output_type": "stream",
     "text": [
      "train loss: 648.300: 100%|██████████| 57/57 [00:07<00:00,  7.23it/s]\n",
      "val loss: 676.284: 100%|██████████| 15/15 [00:00<00:00, 28.59it/s]\n"
     ]
    },
    {
     "name": "stdout",
     "output_type": "stream",
     "text": [
      "Epoch 433\tTrain Loss: 605.712  Val Loss: 611.291\n",
      "\n"
     ]
    },
    {
     "name": "stderr",
     "output_type": "stream",
     "text": [
      "train loss: 591.910: 100%|██████████| 57/57 [00:07<00:00,  7.22it/s]\n",
      "val loss: 676.282: 100%|██████████| 15/15 [00:00<00:00, 29.02it/s]\n"
     ]
    },
    {
     "name": "stdout",
     "output_type": "stream",
     "text": [
      "Epoch 434\tTrain Loss: 604.746  Val Loss: 611.291\n",
      "\n"
     ]
    },
    {
     "name": "stderr",
     "output_type": "stream",
     "text": [
      "train loss: 574.056: 100%|██████████| 57/57 [00:07<00:00,  7.24it/s]\n",
      "val loss: 676.283: 100%|██████████| 15/15 [00:00<00:00, 28.33it/s]\n"
     ]
    },
    {
     "name": "stdout",
     "output_type": "stream",
     "text": [
      "Weight saved: epoch 435\n",
      "Epoch 435\tTrain Loss: 604.440  Val Loss: 611.291\n",
      "\n"
     ]
    },
    {
     "name": "stderr",
     "output_type": "stream",
     "text": [
      "train loss: 579.821: 100%|██████████| 57/57 [00:07<00:00,  7.26it/s]\n",
      "val loss: 676.279: 100%|██████████| 15/15 [00:00<00:00, 28.65it/s]\n"
     ]
    },
    {
     "name": "stdout",
     "output_type": "stream",
     "text": [
      "Epoch 436\tTrain Loss: 604.539  Val Loss: 611.291\n",
      "\n"
     ]
    },
    {
     "name": "stderr",
     "output_type": "stream",
     "text": [
      "train loss: 626.549: 100%|██████████| 57/57 [00:07<00:00,  7.27it/s]\n",
      "val loss: 676.280: 100%|██████████| 15/15 [00:00<00:00, 28.97it/s]\n"
     ]
    },
    {
     "name": "stdout",
     "output_type": "stream",
     "text": [
      "Epoch 437\tTrain Loss: 605.339  Val Loss: 611.291\n",
      "\n"
     ]
    },
    {
     "name": "stderr",
     "output_type": "stream",
     "text": [
      "train loss: 619.650: 100%|██████████| 57/57 [00:07<00:00,  7.28it/s]\n",
      "val loss: 676.280: 100%|██████████| 15/15 [00:00<00:00, 29.32it/s]\n"
     ]
    },
    {
     "name": "stdout",
     "output_type": "stream",
     "text": [
      "Epoch 438\tTrain Loss: 605.221  Val Loss: 611.291\n",
      "\n"
     ]
    },
    {
     "name": "stderr",
     "output_type": "stream",
     "text": [
      "train loss: 603.104: 100%|██████████| 57/57 [00:07<00:00,  7.30it/s]\n",
      "val loss: 676.285: 100%|██████████| 15/15 [00:00<00:00, 29.48it/s]\n"
     ]
    },
    {
     "name": "stdout",
     "output_type": "stream",
     "text": [
      "Epoch 439\tTrain Loss: 604.938  Val Loss: 611.291\n",
      "\n"
     ]
    },
    {
     "name": "stderr",
     "output_type": "stream",
     "text": [
      "train loss: 609.718: 100%|██████████| 57/57 [00:07<00:00,  7.30it/s]\n",
      "val loss: 676.281: 100%|██████████| 15/15 [00:00<00:00, 27.86it/s]\n"
     ]
    },
    {
     "name": "stdout",
     "output_type": "stream",
     "text": [
      "Epoch 440\tTrain Loss: 605.051  Val Loss: 611.291\n",
      "\n"
     ]
    },
    {
     "name": "stderr",
     "output_type": "stream",
     "text": [
      "train loss: 563.582: 100%|██████████| 57/57 [00:07<00:00,  7.28it/s]\n",
      "val loss: 676.282: 100%|██████████| 15/15 [00:00<00:00, 28.86it/s]\n"
     ]
    },
    {
     "name": "stdout",
     "output_type": "stream",
     "text": [
      "Epoch 441\tTrain Loss: 604.260  Val Loss: 611.291\n",
      "\n"
     ]
    },
    {
     "name": "stderr",
     "output_type": "stream",
     "text": [
      "train loss: 645.977: 100%|██████████| 57/57 [00:07<00:00,  7.31it/s]\n",
      "val loss: 676.283: 100%|██████████| 15/15 [00:00<00:00, 28.58it/s]\n"
     ]
    },
    {
     "name": "stdout",
     "output_type": "stream",
     "text": [
      "Epoch 442\tTrain Loss: 605.672  Val Loss: 611.291\n",
      "\n"
     ]
    },
    {
     "name": "stderr",
     "output_type": "stream",
     "text": [
      "train loss: 611.092: 100%|██████████| 57/57 [00:07<00:00,  7.28it/s]\n",
      "val loss: 676.283: 100%|██████████| 15/15 [00:00<00:00, 29.44it/s]\n"
     ]
    },
    {
     "name": "stdout",
     "output_type": "stream",
     "text": [
      "Epoch 443\tTrain Loss: 605.074  Val Loss: 611.291\n",
      "\n"
     ]
    },
    {
     "name": "stderr",
     "output_type": "stream",
     "text": [
      "train loss: 653.677: 100%|██████████| 57/57 [00:07<00:00,  7.28it/s]\n",
      "val loss: 676.283: 100%|██████████| 15/15 [00:00<00:00, 29.29it/s]\n"
     ]
    },
    {
     "name": "stdout",
     "output_type": "stream",
     "text": [
      "Weight saved: epoch 444\n",
      "Epoch 444\tTrain Loss: 605.804  Val Loss: 611.291\n",
      "\n"
     ]
    },
    {
     "name": "stderr",
     "output_type": "stream",
     "text": [
      "train loss: 659.251: 100%|██████████| 57/57 [00:08<00:00,  7.01it/s]\n",
      "val loss: 676.284: 100%|██████████| 15/15 [00:00<00:00, 29.22it/s]\n"
     ]
    },
    {
     "name": "stdout",
     "output_type": "stream",
     "text": [
      "Epoch 445\tTrain Loss: 605.899  Val Loss: 611.291\n",
      "\n"
     ]
    },
    {
     "name": "stderr",
     "output_type": "stream",
     "text": [
      "train loss: 571.320: 100%|██████████| 57/57 [00:07<00:00,  7.36it/s]\n",
      "val loss: 676.283: 100%|██████████| 15/15 [00:00<00:00, 29.69it/s]\n"
     ]
    },
    {
     "name": "stdout",
     "output_type": "stream",
     "text": [
      "Epoch 446\tTrain Loss: 604.392  Val Loss: 611.291\n",
      "\n"
     ]
    },
    {
     "name": "stderr",
     "output_type": "stream",
     "text": [
      "train loss: 567.702: 100%|██████████| 57/57 [00:08<00:00,  7.04it/s]\n",
      "val loss: 676.285: 100%|██████████| 15/15 [00:00<00:00, 28.69it/s]\n"
     ]
    },
    {
     "name": "stdout",
     "output_type": "stream",
     "text": [
      "Weight saved: epoch 447\n",
      "Epoch 447\tTrain Loss: 604.330  Val Loss: 611.290\n",
      "\n"
     ]
    },
    {
     "name": "stderr",
     "output_type": "stream",
     "text": [
      "train loss: 621.006: 100%|██████████| 57/57 [00:08<00:00,  7.10it/s]\n",
      "val loss: 676.283: 100%|██████████| 15/15 [00:00<00:00, 29.48it/s]\n"
     ]
    },
    {
     "name": "stdout",
     "output_type": "stream",
     "text": [
      "Epoch 448\tTrain Loss: 605.243  Val Loss: 611.291\n",
      "\n"
     ]
    },
    {
     "name": "stderr",
     "output_type": "stream",
     "text": [
      "train loss: 591.666: 100%|██████████| 57/57 [00:07<00:00,  7.37it/s]\n",
      "val loss: 676.284: 100%|██████████| 15/15 [00:00<00:00, 29.71it/s]\n"
     ]
    },
    {
     "name": "stdout",
     "output_type": "stream",
     "text": [
      "Epoch 449\tTrain Loss: 604.741  Val Loss: 611.290\n",
      "\n"
     ]
    },
    {
     "name": "stderr",
     "output_type": "stream",
     "text": [
      "train loss: 619.352: 100%|██████████| 57/57 [00:08<00:00,  6.94it/s]\n",
      "val loss: 676.286: 100%|██████████| 15/15 [00:00<00:00, 25.18it/s]\n"
     ]
    },
    {
     "name": "stdout",
     "output_type": "stream",
     "text": [
      "Weight saved: epoch 450\n",
      "Epoch 450\tTrain Loss: 605.215  Val Loss: 611.290\n",
      "\n"
     ]
    },
    {
     "name": "stderr",
     "output_type": "stream",
     "text": [
      "train loss: 590.104: 100%|██████████| 57/57 [00:08<00:00,  6.62it/s]\n",
      "val loss: 676.282: 100%|██████████| 15/15 [00:00<00:00, 25.43it/s]\n"
     ]
    },
    {
     "name": "stdout",
     "output_type": "stream",
     "text": [
      "Epoch 451\tTrain Loss: 604.714  Val Loss: 611.290\n",
      "\n"
     ]
    },
    {
     "name": "stderr",
     "output_type": "stream",
     "text": [
      "train loss: 627.509: 100%|██████████| 57/57 [00:08<00:00,  6.50it/s]\n",
      "val loss: 676.287: 100%|██████████| 15/15 [00:00<00:00, 25.30it/s]\n"
     ]
    },
    {
     "name": "stdout",
     "output_type": "stream",
     "text": [
      "Epoch 452\tTrain Loss: 605.354  Val Loss: 611.290\n",
      "\n"
     ]
    },
    {
     "name": "stderr",
     "output_type": "stream",
     "text": [
      "train loss: 619.390: 100%|██████████| 57/57 [00:08<00:00,  6.66it/s]\n",
      "val loss: 676.285: 100%|██████████| 15/15 [00:00<00:00, 25.37it/s]\n"
     ]
    },
    {
     "name": "stdout",
     "output_type": "stream",
     "text": [
      "Epoch 453\tTrain Loss: 605.215  Val Loss: 611.291\n",
      "\n"
     ]
    },
    {
     "name": "stderr",
     "output_type": "stream",
     "text": [
      "train loss: 555.843: 100%|██████████| 57/57 [00:08<00:00,  6.64it/s]\n",
      "val loss: 676.286: 100%|██████████| 15/15 [00:00<00:00, 25.03it/s]\n"
     ]
    },
    {
     "name": "stdout",
     "output_type": "stream",
     "text": [
      "Epoch 454\tTrain Loss: 604.127  Val Loss: 611.290\n",
      "\n"
     ]
    },
    {
     "name": "stderr",
     "output_type": "stream",
     "text": [
      "train loss: 638.208: 100%|██████████| 57/57 [00:08<00:00,  6.64it/s]\n",
      "val loss: 676.285: 100%|██████████| 15/15 [00:00<00:00, 25.93it/s]\n"
     ]
    },
    {
     "name": "stdout",
     "output_type": "stream",
     "text": [
      "Weight saved: epoch 455\n",
      "Epoch 455\tTrain Loss: 605.537  Val Loss: 611.290\n",
      "\n"
     ]
    },
    {
     "name": "stderr",
     "output_type": "stream",
     "text": [
      "train loss: 571.548: 100%|██████████| 57/57 [00:08<00:00,  6.62it/s]\n",
      "val loss: 676.287: 100%|██████████| 15/15 [00:00<00:00, 25.59it/s]\n"
     ]
    },
    {
     "name": "stdout",
     "output_type": "stream",
     "text": [
      "Epoch 456\tTrain Loss: 604.395  Val Loss: 611.290\n",
      "\n"
     ]
    },
    {
     "name": "stderr",
     "output_type": "stream",
     "text": [
      "train loss: 618.470: 100%|██████████| 57/57 [00:08<00:00,  6.66it/s]\n",
      "val loss: 676.286: 100%|██████████| 15/15 [00:00<00:00, 26.22it/s]\n"
     ]
    },
    {
     "name": "stdout",
     "output_type": "stream",
     "text": [
      "Epoch 457\tTrain Loss: 605.199  Val Loss: 611.290\n",
      "\n"
     ]
    },
    {
     "name": "stderr",
     "output_type": "stream",
     "text": [
      "train loss: 671.933: 100%|██████████| 57/57 [00:08<00:00,  6.67it/s]\n",
      "val loss: 676.287: 100%|██████████| 15/15 [00:00<00:00, 26.59it/s]\n"
     ]
    },
    {
     "name": "stdout",
     "output_type": "stream",
     "text": [
      "Weight saved: epoch 458\n",
      "Epoch 458\tTrain Loss: 606.115  Val Loss: 611.289\n",
      "\n"
     ]
    },
    {
     "name": "stderr",
     "output_type": "stream",
     "text": [
      "train loss: 561.974: 100%|██████████| 57/57 [00:08<00:00,  6.63it/s]\n",
      "val loss: 676.283: 100%|██████████| 15/15 [00:00<00:00, 26.18it/s]\n"
     ]
    },
    {
     "name": "stdout",
     "output_type": "stream",
     "text": [
      "Weight saved: epoch 459\n",
      "Epoch 459\tTrain Loss: 604.231  Val Loss: 611.289\n",
      "\n"
     ]
    },
    {
     "name": "stderr",
     "output_type": "stream",
     "text": [
      "train loss: 637.886: 100%|██████████| 57/57 [00:08<00:00,  6.61it/s]\n",
      "val loss: 676.283: 100%|██████████| 15/15 [00:00<00:00, 25.25it/s]\n"
     ]
    },
    {
     "name": "stdout",
     "output_type": "stream",
     "text": [
      "Weight saved: epoch 460\n",
      "Epoch 460\tTrain Loss: 605.531  Val Loss: 611.289\n",
      "\n"
     ]
    },
    {
     "name": "stderr",
     "output_type": "stream",
     "text": [
      "train loss: 590.210: 100%|██████████| 57/57 [00:08<00:00,  6.67it/s]\n",
      "val loss: 676.283: 100%|██████████| 15/15 [00:00<00:00, 26.49it/s]\n"
     ]
    },
    {
     "name": "stdout",
     "output_type": "stream",
     "text": [
      "Epoch 461\tTrain Loss: 604.714  Val Loss: 611.289\n",
      "\n"
     ]
    },
    {
     "name": "stderr",
     "output_type": "stream",
     "text": [
      "train loss: 614.629: 100%|██████████| 57/57 [00:08<00:00,  6.60it/s]\n",
      "val loss: 676.283: 100%|██████████| 15/15 [00:00<00:00, 24.99it/s]\n"
     ]
    },
    {
     "name": "stdout",
     "output_type": "stream",
     "text": [
      "Epoch 462\tTrain Loss: 605.133  Val Loss: 611.289\n",
      "\n"
     ]
    },
    {
     "name": "stderr",
     "output_type": "stream",
     "text": [
      "train loss: 618.309: 100%|██████████| 57/57 [00:08<00:00,  6.41it/s]\n",
      "val loss: 676.282: 100%|██████████| 15/15 [00:00<00:00, 24.69it/s]\n"
     ]
    },
    {
     "name": "stdout",
     "output_type": "stream",
     "text": [
      "Epoch 463\tTrain Loss: 605.196  Val Loss: 611.289\n",
      "\n"
     ]
    },
    {
     "name": "stderr",
     "output_type": "stream",
     "text": [
      "train loss: 552.215: 100%|██████████| 57/57 [00:08<00:00,  6.48it/s]\n",
      "val loss: 676.282: 100%|██████████| 15/15 [00:00<00:00, 24.08it/s]\n"
     ]
    },
    {
     "name": "stdout",
     "output_type": "stream",
     "text": [
      "Epoch 464\tTrain Loss: 604.063  Val Loss: 611.289\n",
      "\n"
     ]
    },
    {
     "name": "stderr",
     "output_type": "stream",
     "text": [
      "train loss: 659.274: 100%|██████████| 57/57 [00:08<00:00,  6.43it/s]\n",
      "val loss: 676.283: 100%|██████████| 15/15 [00:00<00:00, 24.80it/s]\n"
     ]
    },
    {
     "name": "stdout",
     "output_type": "stream",
     "text": [
      "Epoch 465\tTrain Loss: 605.897  Val Loss: 611.289\n",
      "\n"
     ]
    },
    {
     "name": "stderr",
     "output_type": "stream",
     "text": [
      "train loss: 554.989: 100%|██████████| 57/57 [00:08<00:00,  6.50it/s]\n",
      "val loss: 676.286: 100%|██████████| 15/15 [00:00<00:00, 25.07it/s]\n"
     ]
    },
    {
     "name": "stdout",
     "output_type": "stream",
     "text": [
      "Epoch 466\tTrain Loss: 604.111  Val Loss: 611.289\n",
      "\n"
     ]
    },
    {
     "name": "stderr",
     "output_type": "stream",
     "text": [
      "train loss: 653.357: 100%|██████████| 57/57 [00:08<00:00,  6.53it/s]\n",
      "val loss: 676.286: 100%|██████████| 15/15 [00:00<00:00, 24.57it/s]\n"
     ]
    },
    {
     "name": "stdout",
     "output_type": "stream",
     "text": [
      "Epoch 467\tTrain Loss: 605.796  Val Loss: 611.289\n",
      "\n"
     ]
    },
    {
     "name": "stderr",
     "output_type": "stream",
     "text": [
      "train loss: 670.607: 100%|██████████| 57/57 [00:08<00:00,  6.53it/s]\n",
      "val loss: 676.286: 100%|██████████| 15/15 [00:00<00:00, 25.42it/s]\n"
     ]
    },
    {
     "name": "stdout",
     "output_type": "stream",
     "text": [
      "Weight saved: epoch 468\n",
      "Epoch 468\tTrain Loss: 606.091  Val Loss: 611.288\n",
      "\n"
     ]
    },
    {
     "name": "stderr",
     "output_type": "stream",
     "text": [
      "train loss: 537.630: 100%|██████████| 57/57 [00:08<00:00,  6.46it/s]\n",
      "val loss: 676.287: 100%|██████████| 15/15 [00:00<00:00, 24.36it/s]\n"
     ]
    },
    {
     "name": "stdout",
     "output_type": "stream",
     "text": [
      "Epoch 469\tTrain Loss: 603.813  Val Loss: 611.289\n",
      "\n"
     ]
    },
    {
     "name": "stderr",
     "output_type": "stream",
     "text": [
      "train loss: 605.475: 100%|██████████| 57/57 [00:08<00:00,  6.67it/s]\n",
      "val loss: 676.287: 100%|██████████| 15/15 [00:00<00:00, 26.68it/s]\n"
     ]
    },
    {
     "name": "stdout",
     "output_type": "stream",
     "text": [
      "Epoch 470\tTrain Loss: 604.975  Val Loss: 611.289\n",
      "\n"
     ]
    },
    {
     "name": "stderr",
     "output_type": "stream",
     "text": [
      "train loss: 593.803: 100%|██████████| 57/57 [00:08<00:00,  6.92it/s]\n",
      "val loss: 676.287: 100%|██████████| 15/15 [00:00<00:00, 26.98it/s]\n"
     ]
    },
    {
     "name": "stdout",
     "output_type": "stream",
     "text": [
      "Epoch 471\tTrain Loss: 604.775  Val Loss: 611.289\n",
      "\n"
     ]
    },
    {
     "name": "stderr",
     "output_type": "stream",
     "text": [
      "train loss: 617.699: 100%|██████████| 57/57 [00:08<00:00,  6.97it/s]\n",
      "val loss: 676.286: 100%|██████████| 15/15 [00:00<00:00, 29.48it/s]\n"
     ]
    },
    {
     "name": "stdout",
     "output_type": "stream",
     "text": [
      "Epoch 472\tTrain Loss: 605.185  Val Loss: 611.289\n",
      "\n"
     ]
    },
    {
     "name": "stderr",
     "output_type": "stream",
     "text": [
      "train loss: 641.143: 100%|██████████| 57/57 [00:07<00:00,  7.32it/s]\n",
      "val loss: 676.286: 100%|██████████| 15/15 [00:00<00:00, 29.57it/s]\n"
     ]
    },
    {
     "name": "stdout",
     "output_type": "stream",
     "text": [
      "Epoch 473\tTrain Loss: 605.586  Val Loss: 611.289\n",
      "\n"
     ]
    },
    {
     "name": "stderr",
     "output_type": "stream",
     "text": [
      "train loss: 645.883: 100%|██████████| 57/57 [00:07<00:00,  7.14it/s]\n",
      "val loss: 676.286: 100%|██████████| 15/15 [00:00<00:00, 27.22it/s]\n"
     ]
    },
    {
     "name": "stdout",
     "output_type": "stream",
     "text": [
      "Weight saved: epoch 474\n",
      "Epoch 474\tTrain Loss: 605.667  Val Loss: 611.288\n",
      "\n"
     ]
    },
    {
     "name": "stderr",
     "output_type": "stream",
     "text": [
      "train loss: 579.391: 100%|██████████| 57/57 [00:07<00:00,  7.40it/s]\n",
      "val loss: 676.287: 100%|██████████| 15/15 [00:00<00:00, 29.62it/s]\n"
     ]
    },
    {
     "name": "stdout",
     "output_type": "stream",
     "text": [
      "Epoch 475\tTrain Loss: 604.528  Val Loss: 611.288\n",
      "\n"
     ]
    },
    {
     "name": "stderr",
     "output_type": "stream",
     "text": [
      "train loss: 626.642: 100%|██████████| 57/57 [00:07<00:00,  7.30it/s]\n",
      "val loss: 676.290: 100%|██████████| 15/15 [00:00<00:00, 29.16it/s]\n"
     ]
    },
    {
     "name": "stdout",
     "output_type": "stream",
     "text": [
      "Weight saved: epoch 476\n",
      "Epoch 476\tTrain Loss: 605.337  Val Loss: 611.288\n",
      "\n"
     ]
    },
    {
     "name": "stderr",
     "output_type": "stream",
     "text": [
      "train loss: 592.323: 100%|██████████| 57/57 [00:07<00:00,  7.29it/s]\n",
      "val loss: 676.286: 100%|██████████| 15/15 [00:00<00:00, 29.40it/s]\n"
     ]
    },
    {
     "name": "stdout",
     "output_type": "stream",
     "text": [
      "Weight saved: epoch 477\n",
      "Epoch 477\tTrain Loss: 604.749  Val Loss: 611.287\n",
      "\n"
     ]
    },
    {
     "name": "stderr",
     "output_type": "stream",
     "text": [
      "train loss: 613.179: 100%|██████████| 57/57 [00:07<00:00,  7.33it/s]\n",
      "val loss: 676.289: 100%|██████████| 15/15 [00:00<00:00, 29.49it/s]\n"
     ]
    },
    {
     "name": "stdout",
     "output_type": "stream",
     "text": [
      "Epoch 478\tTrain Loss: 605.106  Val Loss: 611.288\n",
      "\n"
     ]
    },
    {
     "name": "stderr",
     "output_type": "stream",
     "text": [
      "train loss: 661.966: 100%|██████████| 57/57 [00:08<00:00,  7.04it/s]\n",
      "val loss: 676.289: 100%|██████████| 15/15 [00:00<00:00, 26.33it/s]\n"
     ]
    },
    {
     "name": "stdout",
     "output_type": "stream",
     "text": [
      "Epoch 479\tTrain Loss: 605.942  Val Loss: 611.288\n",
      "\n"
     ]
    },
    {
     "name": "stderr",
     "output_type": "stream",
     "text": [
      "train loss: 613.774: 100%|██████████| 57/57 [00:08<00:00,  6.71it/s]\n",
      "val loss: 676.292: 100%|██████████| 15/15 [00:00<00:00, 25.89it/s]\n"
     ]
    },
    {
     "name": "stdout",
     "output_type": "stream",
     "text": [
      "Epoch 480\tTrain Loss: 605.116  Val Loss: 611.288\n",
      "\n"
     ]
    },
    {
     "name": "stderr",
     "output_type": "stream",
     "text": [
      "train loss: 628.329: 100%|██████████| 57/57 [00:08<00:00,  6.71it/s]\n",
      "val loss: 676.289: 100%|██████████| 15/15 [00:00<00:00, 26.58it/s]\n"
     ]
    },
    {
     "name": "stdout",
     "output_type": "stream",
     "text": [
      "Epoch 481\tTrain Loss: 605.366  Val Loss: 611.288\n",
      "\n"
     ]
    },
    {
     "name": "stderr",
     "output_type": "stream",
     "text": [
      "train loss: 632.304: 100%|██████████| 57/57 [00:08<00:00,  6.73it/s]\n",
      "val loss: 676.290: 100%|██████████| 15/15 [00:00<00:00, 26.85it/s]\n"
     ]
    },
    {
     "name": "stdout",
     "output_type": "stream",
     "text": [
      "Epoch 482\tTrain Loss: 605.434  Val Loss: 611.288\n",
      "\n"
     ]
    },
    {
     "name": "stderr",
     "output_type": "stream",
     "text": [
      "train loss: 638.933: 100%|██████████| 57/57 [00:08<00:00,  6.71it/s]\n",
      "val loss: 676.288: 100%|██████████| 15/15 [00:00<00:00, 26.44it/s]\n"
     ]
    },
    {
     "name": "stdout",
     "output_type": "stream",
     "text": [
      "Weight saved: epoch 483\n",
      "Epoch 483\tTrain Loss: 605.547  Val Loss: 611.287\n",
      "\n"
     ]
    },
    {
     "name": "stderr",
     "output_type": "stream",
     "text": [
      "train loss: 617.373: 100%|██████████| 57/57 [00:08<00:00,  6.69it/s]\n",
      "val loss: 676.288: 100%|██████████| 15/15 [00:00<00:00, 26.66it/s]\n"
     ]
    },
    {
     "name": "stdout",
     "output_type": "stream",
     "text": [
      "Epoch 484\tTrain Loss: 605.178  Val Loss: 611.287\n",
      "\n"
     ]
    },
    {
     "name": "stderr",
     "output_type": "stream",
     "text": [
      "train loss: 616.014: 100%|██████████| 57/57 [00:08<00:00,  6.72it/s]\n",
      "val loss: 676.288: 100%|██████████| 15/15 [00:00<00:00, 27.04it/s]\n"
     ]
    },
    {
     "name": "stdout",
     "output_type": "stream",
     "text": [
      "Weight saved: epoch 485\n",
      "Epoch 485\tTrain Loss: 605.154  Val Loss: 611.287\n",
      "\n"
     ]
    },
    {
     "name": "stderr",
     "output_type": "stream",
     "text": [
      "train loss: 508.236: 100%|██████████| 57/57 [00:08<00:00,  6.77it/s]\n",
      "val loss: 676.287: 100%|██████████| 15/15 [00:00<00:00, 26.53it/s]\n"
     ]
    },
    {
     "name": "stdout",
     "output_type": "stream",
     "text": [
      "Epoch 486\tTrain Loss: 603.308  Val Loss: 611.287\n",
      "\n"
     ]
    },
    {
     "name": "stderr",
     "output_type": "stream",
     "text": [
      "train loss: 595.723: 100%|██████████| 57/57 [00:08<00:00,  6.76it/s]\n",
      "val loss: 676.289: 100%|██████████| 15/15 [00:00<00:00, 27.11it/s]\n"
     ]
    },
    {
     "name": "stdout",
     "output_type": "stream",
     "text": [
      "Epoch 487\tTrain Loss: 604.806  Val Loss: 611.288\n",
      "\n"
     ]
    },
    {
     "name": "stderr",
     "output_type": "stream",
     "text": [
      "train loss: 651.787: 100%|██████████| 57/57 [00:08<00:00,  6.78it/s]\n",
      "val loss: 676.288: 100%|██████████| 15/15 [00:00<00:00, 27.16it/s]\n"
     ]
    },
    {
     "name": "stdout",
     "output_type": "stream",
     "text": [
      "Epoch 488\tTrain Loss: 605.767  Val Loss: 611.288\n",
      "\n"
     ]
    },
    {
     "name": "stderr",
     "output_type": "stream",
     "text": [
      "train loss: 614.108: 100%|██████████| 57/57 [00:08<00:00,  6.77it/s]\n",
      "val loss: 676.286: 100%|██████████| 15/15 [00:00<00:00, 27.21it/s]\n"
     ]
    },
    {
     "name": "stdout",
     "output_type": "stream",
     "text": [
      "Epoch 489\tTrain Loss: 605.121  Val Loss: 611.287\n",
      "\n"
     ]
    },
    {
     "name": "stderr",
     "output_type": "stream",
     "text": [
      "train loss: 597.292: 100%|██████████| 57/57 [00:08<00:00,  6.81it/s]\n",
      "val loss: 676.285: 100%|██████████| 15/15 [00:00<00:00, 27.19it/s]\n"
     ]
    },
    {
     "name": "stdout",
     "output_type": "stream",
     "text": [
      "Epoch 490\tTrain Loss: 604.833  Val Loss: 611.287\n",
      "\n"
     ]
    },
    {
     "name": "stderr",
     "output_type": "stream",
     "text": [
      "train loss: 614.968: 100%|██████████| 57/57 [00:08<00:00,  6.80it/s]\n",
      "val loss: 676.286: 100%|██████████| 15/15 [00:00<00:00, 27.11it/s]\n"
     ]
    },
    {
     "name": "stdout",
     "output_type": "stream",
     "text": [
      "Epoch 491\tTrain Loss: 605.136  Val Loss: 611.288\n",
      "\n"
     ]
    },
    {
     "name": "stderr",
     "output_type": "stream",
     "text": [
      "train loss: 616.490: 100%|██████████| 57/57 [00:08<00:00,  6.82it/s]\n",
      "val loss: 676.289: 100%|██████████| 15/15 [00:00<00:00, 26.88it/s]\n"
     ]
    },
    {
     "name": "stdout",
     "output_type": "stream",
     "text": [
      "Epoch 492\tTrain Loss: 605.162  Val Loss: 611.287\n",
      "\n"
     ]
    },
    {
     "name": "stderr",
     "output_type": "stream",
     "text": [
      "train loss: 625.075: 100%|██████████| 57/57 [00:08<00:00,  6.80it/s]\n",
      "val loss: 676.291: 100%|██████████| 15/15 [00:00<00:00, 26.90it/s]\n"
     ]
    },
    {
     "name": "stdout",
     "output_type": "stream",
     "text": [
      "Epoch 493\tTrain Loss: 605.309  Val Loss: 611.287\n",
      "\n"
     ]
    },
    {
     "name": "stderr",
     "output_type": "stream",
     "text": [
      "train loss: 621.300: 100%|██████████| 57/57 [00:08<00:00,  6.82it/s]\n",
      "val loss: 676.289: 100%|██████████| 15/15 [00:00<00:00, 26.87it/s]\n"
     ]
    },
    {
     "name": "stdout",
     "output_type": "stream",
     "text": [
      "Weight saved: epoch 494\n",
      "Epoch 494\tTrain Loss: 605.244  Val Loss: 611.287\n",
      "\n"
     ]
    },
    {
     "name": "stderr",
     "output_type": "stream",
     "text": [
      "train loss: 566.739: 100%|██████████| 57/57 [00:08<00:00,  6.77it/s]\n",
      "val loss: 676.291: 100%|██████████| 15/15 [00:00<00:00, 27.17it/s]\n"
     ]
    },
    {
     "name": "stdout",
     "output_type": "stream",
     "text": [
      "Epoch 495\tTrain Loss: 604.309  Val Loss: 611.287\n",
      "\n"
     ]
    },
    {
     "name": "stderr",
     "output_type": "stream",
     "text": [
      "train loss: 623.383: 100%|██████████| 57/57 [00:08<00:00,  6.77it/s]\n",
      "val loss: 676.287: 100%|██████████| 15/15 [00:00<00:00, 26.99it/s]\n"
     ]
    },
    {
     "name": "stdout",
     "output_type": "stream",
     "text": [
      "Epoch 496\tTrain Loss: 605.279  Val Loss: 611.287\n",
      "\n"
     ]
    },
    {
     "name": "stderr",
     "output_type": "stream",
     "text": [
      "train loss: 598.996: 100%|██████████| 57/57 [00:08<00:00,  6.76it/s]\n",
      "val loss: 676.288: 100%|██████████| 15/15 [00:00<00:00, 26.73it/s]\n"
     ]
    },
    {
     "name": "stdout",
     "output_type": "stream",
     "text": [
      "Weight saved: epoch 497\n",
      "Epoch 497\tTrain Loss: 604.862  Val Loss: 611.287\n",
      "\n"
     ]
    },
    {
     "name": "stderr",
     "output_type": "stream",
     "text": [
      "train loss: 615.979: 100%|██████████| 57/57 [00:08<00:00,  6.72it/s]\n",
      "val loss: 676.284: 100%|██████████| 15/15 [00:00<00:00, 27.11it/s]\n"
     ]
    },
    {
     "name": "stdout",
     "output_type": "stream",
     "text": [
      "Weight saved: epoch 498\n",
      "Epoch 498\tTrain Loss: 605.152  Val Loss: 611.287\n",
      "\n"
     ]
    },
    {
     "name": "stderr",
     "output_type": "stream",
     "text": [
      "train loss: 602.432: 100%|██████████| 57/57 [00:08<00:00,  6.76it/s]\n",
      "val loss: 676.286: 100%|██████████| 15/15 [00:00<00:00, 26.46it/s]\n"
     ]
    },
    {
     "name": "stdout",
     "output_type": "stream",
     "text": [
      "Weight saved: epoch 499\n",
      "Epoch 499\tTrain Loss: 604.920  Val Loss: 611.287\n",
      "\n"
     ]
    },
    {
     "name": "stderr",
     "output_type": "stream",
     "text": [
      "train loss: 520.337: 100%|██████████| 57/57 [00:08<00:00,  6.74it/s]\n",
      "val loss: 676.289: 100%|██████████| 15/15 [00:00<00:00, 27.05it/s]\n"
     ]
    },
    {
     "name": "stdout",
     "output_type": "stream",
     "text": [
      "Weight saved: epoch 500\n",
      "Epoch 500\tTrain Loss: 603.514  Val Loss: 611.286\n",
      "\n"
     ]
    },
    {
     "name": "stderr",
     "output_type": "stream",
     "text": [
      "train loss: 567.793: 100%|██████████| 57/57 [00:08<00:00,  6.76it/s]\n",
      "val loss: 676.289: 100%|██████████| 15/15 [00:00<00:00, 26.50it/s]\n"
     ]
    },
    {
     "name": "stdout",
     "output_type": "stream",
     "text": [
      "Epoch 501\tTrain Loss: 604.327  Val Loss: 611.287\n",
      "\n"
     ]
    },
    {
     "name": "stderr",
     "output_type": "stream",
     "text": [
      "train loss: 664.643: 100%|██████████| 57/57 [00:08<00:00,  6.76it/s]\n",
      "val loss: 676.287: 100%|██████████| 15/15 [00:00<00:00, 27.46it/s]\n"
     ]
    },
    {
     "name": "stdout",
     "output_type": "stream",
     "text": [
      "Weight saved: epoch 502\n",
      "Epoch 502\tTrain Loss: 605.986  Val Loss: 611.286\n",
      "\n"
     ]
    },
    {
     "name": "stderr",
     "output_type": "stream",
     "text": [
      "train loss: 649.766: 100%|██████████| 57/57 [00:08<00:00,  6.75it/s]\n",
      "val loss: 676.289: 100%|██████████| 15/15 [00:00<00:00, 27.30it/s]\n"
     ]
    },
    {
     "name": "stdout",
     "output_type": "stream",
     "text": [
      "Epoch 503\tTrain Loss: 605.731  Val Loss: 611.287\n",
      "\n"
     ]
    },
    {
     "name": "stderr",
     "output_type": "stream",
     "text": [
      "train loss: 576.407: 100%|██████████| 57/57 [00:08<00:00,  6.75it/s]\n",
      "val loss: 676.286: 100%|██████████| 15/15 [00:00<00:00, 27.07it/s]\n"
     ]
    },
    {
     "name": "stdout",
     "output_type": "stream",
     "text": [
      "Epoch 504\tTrain Loss: 604.474  Val Loss: 611.287\n",
      "\n"
     ]
    },
    {
     "name": "stderr",
     "output_type": "stream",
     "text": [
      "train loss: 550.742: 100%|██████████| 57/57 [00:08<00:00,  6.76it/s]\n",
      "val loss: 676.285: 100%|██████████| 15/15 [00:00<00:00, 26.96it/s]\n"
     ]
    },
    {
     "name": "stdout",
     "output_type": "stream",
     "text": [
      "Epoch 505\tTrain Loss: 604.034  Val Loss: 611.286\n",
      "\n"
     ]
    },
    {
     "name": "stderr",
     "output_type": "stream",
     "text": [
      "train loss: 621.883: 100%|██████████| 57/57 [00:08<00:00,  6.75it/s]\n",
      "val loss: 676.289: 100%|██████████| 15/15 [00:00<00:00, 26.93it/s]\n"
     ]
    },
    {
     "name": "stdout",
     "output_type": "stream",
     "text": [
      "Weight saved: epoch 506\n",
      "Epoch 506\tTrain Loss: 605.253  Val Loss: 611.286\n",
      "\n"
     ]
    },
    {
     "name": "stderr",
     "output_type": "stream",
     "text": [
      "train loss: 556.985: 100%|██████████| 57/57 [00:08<00:00,  6.74it/s]\n",
      "val loss: 676.286: 100%|██████████| 15/15 [00:00<00:00, 26.58it/s]\n"
     ]
    },
    {
     "name": "stdout",
     "output_type": "stream",
     "text": [
      "Weight saved: epoch 507\n",
      "Epoch 507\tTrain Loss: 604.141  Val Loss: 611.286\n",
      "\n"
     ]
    },
    {
     "name": "stderr",
     "output_type": "stream",
     "text": [
      "train loss: 603.626: 100%|██████████| 57/57 [00:08<00:00,  6.73it/s]\n",
      "val loss: 676.288: 100%|██████████| 15/15 [00:00<00:00, 27.17it/s]\n"
     ]
    },
    {
     "name": "stdout",
     "output_type": "stream",
     "text": [
      "Epoch 508\tTrain Loss: 604.940  Val Loss: 611.286\n",
      "\n"
     ]
    },
    {
     "name": "stderr",
     "output_type": "stream",
     "text": [
      "train loss: 541.748: 100%|██████████| 57/57 [00:08<00:00,  6.74it/s]\n",
      "val loss: 676.285: 100%|██████████| 15/15 [00:00<00:00, 26.98it/s]\n"
     ]
    },
    {
     "name": "stdout",
     "output_type": "stream",
     "text": [
      "Epoch 509\tTrain Loss: 603.880  Val Loss: 611.286\n",
      "\n"
     ]
    },
    {
     "name": "stderr",
     "output_type": "stream",
     "text": [
      "train loss: 599.065: 100%|██████████| 57/57 [00:08<00:00,  6.70it/s]\n",
      "val loss: 676.285: 100%|██████████| 15/15 [00:00<00:00, 27.39it/s]\n"
     ]
    },
    {
     "name": "stdout",
     "output_type": "stream",
     "text": [
      "Epoch 510\tTrain Loss: 604.862  Val Loss: 611.286\n",
      "\n"
     ]
    },
    {
     "name": "stderr",
     "output_type": "stream",
     "text": [
      "train loss: 505.879: 100%|██████████| 57/57 [00:08<00:00,  6.70it/s]\n",
      "val loss: 676.287: 100%|██████████| 15/15 [00:00<00:00, 26.34it/s]\n"
     ]
    },
    {
     "name": "stdout",
     "output_type": "stream",
     "text": [
      "Epoch 511\tTrain Loss: 603.265  Val Loss: 611.286\n",
      "\n"
     ]
    },
    {
     "name": "stderr",
     "output_type": "stream",
     "text": [
      "train loss: 611.079: 100%|██████████| 57/57 [00:08<00:00,  6.67it/s]\n",
      "val loss: 676.286: 100%|██████████| 15/15 [00:00<00:00, 26.76it/s]\n"
     ]
    },
    {
     "name": "stdout",
     "output_type": "stream",
     "text": [
      "Epoch 512\tTrain Loss: 605.067  Val Loss: 611.286\n",
      "\n"
     ]
    },
    {
     "name": "stderr",
     "output_type": "stream",
     "text": [
      "train loss: 603.349: 100%|██████████| 57/57 [00:08<00:00,  6.66it/s]\n",
      "val loss: 676.285: 100%|██████████| 15/15 [00:00<00:00, 27.08it/s]\n"
     ]
    },
    {
     "name": "stdout",
     "output_type": "stream",
     "text": [
      "Weight saved: epoch 513\n",
      "Epoch 513\tTrain Loss: 604.935  Val Loss: 611.285\n",
      "\n"
     ]
    },
    {
     "name": "stderr",
     "output_type": "stream",
     "text": [
      "train loss: 598.569: 100%|██████████| 57/57 [00:08<00:00,  6.68it/s]\n",
      "val loss: 676.289: 100%|██████████| 15/15 [00:00<00:00, 26.94it/s]\n"
     ]
    },
    {
     "name": "stdout",
     "output_type": "stream",
     "text": [
      "Weight saved: epoch 514\n",
      "Epoch 514\tTrain Loss: 604.853  Val Loss: 611.285\n",
      "\n"
     ]
    },
    {
     "name": "stderr",
     "output_type": "stream",
     "text": [
      "train loss: 622.617: 100%|██████████| 57/57 [00:08<00:00,  6.68it/s]\n",
      "val loss: 676.289: 100%|██████████| 15/15 [00:00<00:00, 26.34it/s]\n"
     ]
    },
    {
     "name": "stdout",
     "output_type": "stream",
     "text": [
      "Epoch 515\tTrain Loss: 605.265  Val Loss: 611.285\n",
      "\n"
     ]
    },
    {
     "name": "stderr",
     "output_type": "stream",
     "text": [
      "train loss: 633.378: 100%|██████████| 57/57 [00:08<00:00,  6.69it/s]\n",
      "val loss: 676.289: 100%|██████████| 15/15 [00:00<00:00, 26.39it/s]\n"
     ]
    },
    {
     "name": "stdout",
     "output_type": "stream",
     "text": [
      "Epoch 516\tTrain Loss: 605.449  Val Loss: 611.286\n",
      "\n"
     ]
    },
    {
     "name": "stderr",
     "output_type": "stream",
     "text": [
      "train loss: 588.131: 100%|██████████| 57/57 [00:08<00:00,  6.68it/s]\n",
      "val loss: 676.288: 100%|██████████| 15/15 [00:00<00:00, 26.68it/s]\n"
     ]
    },
    {
     "name": "stdout",
     "output_type": "stream",
     "text": [
      "Epoch 517\tTrain Loss: 604.673  Val Loss: 611.285\n",
      "\n"
     ]
    },
    {
     "name": "stderr",
     "output_type": "stream",
     "text": [
      "train loss: 634.176: 100%|██████████| 57/57 [00:08<00:00,  6.67it/s]\n",
      "val loss: 676.288: 100%|██████████| 15/15 [00:00<00:00, 26.34it/s]\n"
     ]
    },
    {
     "name": "stdout",
     "output_type": "stream",
     "text": [
      "Weight saved: epoch 518\n",
      "Epoch 518\tTrain Loss: 605.462  Val Loss: 611.285\n",
      "\n"
     ]
    },
    {
     "name": "stderr",
     "output_type": "stream",
     "text": [
      "train loss: 556.018: 100%|██████████| 57/57 [00:08<00:00,  6.66it/s]\n",
      "val loss: 676.288: 100%|██████████| 15/15 [00:00<00:00, 26.90it/s]\n"
     ]
    },
    {
     "name": "stdout",
     "output_type": "stream",
     "text": [
      "Weight saved: epoch 519\n",
      "Epoch 519\tTrain Loss: 604.123  Val Loss: 611.285\n",
      "\n"
     ]
    },
    {
     "name": "stderr",
     "output_type": "stream",
     "text": [
      "train loss: 543.337: 100%|██████████| 57/57 [00:08<00:00,  6.68it/s]\n",
      "val loss: 676.287: 100%|██████████| 15/15 [00:00<00:00, 26.71it/s]\n"
     ]
    },
    {
     "name": "stdout",
     "output_type": "stream",
     "text": [
      "Epoch 520\tTrain Loss: 603.906  Val Loss: 611.285\n",
      "\n"
     ]
    },
    {
     "name": "stderr",
     "output_type": "stream",
     "text": [
      "train loss: 615.586: 100%|██████████| 57/57 [00:08<00:00,  6.70it/s]\n",
      "val loss: 676.286: 100%|██████████| 15/15 [00:00<00:00, 25.87it/s]\n"
     ]
    },
    {
     "name": "stdout",
     "output_type": "stream",
     "text": [
      "Weight saved: epoch 521\n",
      "Epoch 521\tTrain Loss: 605.143  Val Loss: 611.284\n",
      "\n"
     ]
    },
    {
     "name": "stderr",
     "output_type": "stream",
     "text": [
      "train loss: 586.837: 100%|██████████| 57/57 [00:08<00:00,  6.63it/s]\n",
      "val loss: 676.285: 100%|██████████| 15/15 [00:00<00:00, 26.40it/s]\n"
     ]
    },
    {
     "name": "stdout",
     "output_type": "stream",
     "text": [
      "Epoch 522\tTrain Loss: 604.651  Val Loss: 611.285\n",
      "\n"
     ]
    },
    {
     "name": "stderr",
     "output_type": "stream",
     "text": [
      "train loss: 628.616: 100%|██████████| 57/57 [00:08<00:00,  6.63it/s]\n",
      "val loss: 676.285: 100%|██████████| 15/15 [00:00<00:00, 26.46it/s]\n"
     ]
    },
    {
     "name": "stdout",
     "output_type": "stream",
     "text": [
      "Epoch 523\tTrain Loss: 605.367  Val Loss: 611.285\n",
      "\n"
     ]
    },
    {
     "name": "stderr",
     "output_type": "stream",
     "text": [
      "train loss: 607.998: 100%|██████████| 57/57 [00:08<00:00,  6.64it/s]\n",
      "val loss: 676.285: 100%|██████████| 15/15 [00:00<00:00, 26.84it/s]\n"
     ]
    },
    {
     "name": "stdout",
     "output_type": "stream",
     "text": [
      "Weight saved: epoch 524\n",
      "Epoch 524\tTrain Loss: 605.013  Val Loss: 611.284\n",
      "\n"
     ]
    },
    {
     "name": "stderr",
     "output_type": "stream",
     "text": [
      "train loss: 564.816: 100%|██████████| 57/57 [00:08<00:00,  6.64it/s]\n",
      "val loss: 676.286: 100%|██████████| 15/15 [00:00<00:00, 26.25it/s]\n"
     ]
    },
    {
     "name": "stdout",
     "output_type": "stream",
     "text": [
      "Weight saved: epoch 525\n",
      "Epoch 525\tTrain Loss: 604.273  Val Loss: 611.284\n",
      "\n"
     ]
    },
    {
     "name": "stderr",
     "output_type": "stream",
     "text": [
      "train loss: 665.674: 100%|██████████| 57/57 [00:08<00:00,  6.66it/s]\n",
      "val loss: 676.286: 100%|██████████| 15/15 [00:00<00:00, 26.30it/s]\n"
     ]
    },
    {
     "name": "stdout",
     "output_type": "stream",
     "text": [
      "Epoch 526\tTrain Loss: 606.001  Val Loss: 611.284\n",
      "\n"
     ]
    },
    {
     "name": "stderr",
     "output_type": "stream",
     "text": [
      "train loss: 560.128: 100%|██████████| 57/57 [00:08<00:00,  6.65it/s]\n",
      "val loss: 676.287: 100%|██████████| 15/15 [00:00<00:00, 26.86it/s]\n"
     ]
    },
    {
     "name": "stdout",
     "output_type": "stream",
     "text": [
      "Weight saved: epoch 527\n",
      "Epoch 527\tTrain Loss: 604.193  Val Loss: 611.284\n",
      "\n"
     ]
    },
    {
     "name": "stderr",
     "output_type": "stream",
     "text": [
      "train loss: 636.283: 100%|██████████| 57/57 [00:08<00:00,  6.64it/s]\n",
      "val loss: 676.289: 100%|██████████| 15/15 [00:00<00:00, 26.21it/s]\n"
     ]
    },
    {
     "name": "stdout",
     "output_type": "stream",
     "text": [
      "Epoch 528\tTrain Loss: 605.497  Val Loss: 611.284\n",
      "\n"
     ]
    },
    {
     "name": "stderr",
     "output_type": "stream",
     "text": [
      "train loss: 566.255: 100%|██████████| 57/57 [00:08<00:00,  6.65it/s]\n",
      "val loss: 676.286: 100%|██████████| 15/15 [00:00<00:00, 25.90it/s]\n"
     ]
    },
    {
     "name": "stdout",
     "output_type": "stream",
     "text": [
      "Weight saved: epoch 529\n",
      "Epoch 529\tTrain Loss: 604.297  Val Loss: 611.284\n",
      "\n"
     ]
    },
    {
     "name": "stderr",
     "output_type": "stream",
     "text": [
      "train loss: 527.274: 100%|██████████| 57/57 [00:08<00:00,  6.72it/s]\n",
      "val loss: 676.287: 100%|██████████| 15/15 [00:00<00:00, 26.63it/s]\n"
     ]
    },
    {
     "name": "stdout",
     "output_type": "stream",
     "text": [
      "Epoch 530\tTrain Loss: 603.630  Val Loss: 611.284\n",
      "\n"
     ]
    },
    {
     "name": "stderr",
     "output_type": "stream",
     "text": [
      "train loss: 576.169: 100%|██████████| 57/57 [00:08<00:00,  6.74it/s]\n",
      "val loss: 676.286: 100%|██████████| 15/15 [00:00<00:00, 26.17it/s]\n"
     ]
    },
    {
     "name": "stdout",
     "output_type": "stream",
     "text": [
      "Epoch 531\tTrain Loss: 604.467  Val Loss: 611.284\n",
      "\n"
     ]
    },
    {
     "name": "stderr",
     "output_type": "stream",
     "text": [
      "train loss: 602.707: 100%|██████████| 57/57 [00:08<00:00,  6.73it/s]\n",
      "val loss: 676.290: 100%|██████████| 15/15 [00:00<00:00, 26.83it/s]\n"
     ]
    },
    {
     "name": "stdout",
     "output_type": "stream",
     "text": [
      "Epoch 532\tTrain Loss: 604.922  Val Loss: 611.284\n",
      "\n"
     ]
    },
    {
     "name": "stderr",
     "output_type": "stream",
     "text": [
      "train loss: 617.860: 100%|██████████| 57/57 [00:08<00:00,  6.75it/s]\n",
      "val loss: 676.287: 100%|██████████| 15/15 [00:00<00:00, 27.32it/s]\n"
     ]
    },
    {
     "name": "stdout",
     "output_type": "stream",
     "text": [
      "Epoch 533\tTrain Loss: 605.181  Val Loss: 611.284\n",
      "\n"
     ]
    },
    {
     "name": "stderr",
     "output_type": "stream",
     "text": [
      "train loss: 705.497: 100%|██████████| 57/57 [00:08<00:00,  6.72it/s]\n",
      "val loss: 676.287: 100%|██████████| 15/15 [00:00<00:00, 26.84it/s]\n"
     ]
    },
    {
     "name": "stdout",
     "output_type": "stream",
     "text": [
      "Weight saved: epoch 534\n",
      "Epoch 534\tTrain Loss: 606.683  Val Loss: 611.284\n",
      "\n"
     ]
    },
    {
     "name": "stderr",
     "output_type": "stream",
     "text": [
      "train loss: 621.115: 100%|██████████| 57/57 [00:08<00:00,  6.73it/s]\n",
      "val loss: 676.289: 100%|██████████| 15/15 [00:00<00:00, 26.95it/s]\n"
     ]
    },
    {
     "name": "stdout",
     "output_type": "stream",
     "text": [
      "Epoch 535\tTrain Loss: 605.237  Val Loss: 611.284\n",
      "\n"
     ]
    },
    {
     "name": "stderr",
     "output_type": "stream",
     "text": [
      "train loss: 684.584: 100%|██████████| 57/57 [00:08<00:00,  6.72it/s]\n",
      "val loss: 676.288: 100%|██████████| 15/15 [00:00<00:00, 26.58it/s]\n"
     ]
    },
    {
     "name": "stdout",
     "output_type": "stream",
     "text": [
      "Weight saved: epoch 536\n",
      "Epoch 536\tTrain Loss: 606.324  Val Loss: 611.283\n",
      "\n"
     ]
    },
    {
     "name": "stderr",
     "output_type": "stream",
     "text": [
      "train loss: 550.719: 100%|██████████| 57/57 [00:08<00:00,  6.73it/s]\n",
      "val loss: 676.287: 100%|██████████| 15/15 [00:00<00:00, 27.29it/s]\n"
     ]
    },
    {
     "name": "stdout",
     "output_type": "stream",
     "text": [
      "Weight saved: epoch 537\n",
      "Epoch 537\tTrain Loss: 604.031  Val Loss: 611.283\n",
      "\n"
     ]
    },
    {
     "name": "stderr",
     "output_type": "stream",
     "text": [
      "train loss: 592.366: 100%|██████████| 57/57 [00:08<00:00,  6.74it/s]\n",
      "val loss: 676.288: 100%|██████████| 15/15 [00:00<00:00, 26.87it/s]\n"
     ]
    },
    {
     "name": "stdout",
     "output_type": "stream",
     "text": [
      "Epoch 538\tTrain Loss: 604.744  Val Loss: 611.283\n",
      "\n"
     ]
    },
    {
     "name": "stderr",
     "output_type": "stream",
     "text": [
      "train loss: 652.357: 100%|██████████| 57/57 [00:08<00:00,  6.69it/s]\n",
      "val loss: 676.288: 100%|██████████| 15/15 [00:00<00:00, 26.28it/s]\n"
     ]
    },
    {
     "name": "stdout",
     "output_type": "stream",
     "text": [
      "Epoch 539\tTrain Loss: 605.772  Val Loss: 611.283\n",
      "\n"
     ]
    },
    {
     "name": "stderr",
     "output_type": "stream",
     "text": [
      "train loss: 624.040: 100%|██████████| 57/57 [00:08<00:00,  6.73it/s]\n",
      "val loss: 676.290: 100%|██████████| 15/15 [00:00<00:00, 26.12it/s]\n"
     ]
    },
    {
     "name": "stdout",
     "output_type": "stream",
     "text": [
      "Epoch 540\tTrain Loss: 605.286  Val Loss: 611.283\n",
      "\n"
     ]
    },
    {
     "name": "stderr",
     "output_type": "stream",
     "text": [
      "train loss: 671.071: 100%|██████████| 57/57 [00:08<00:00,  6.74it/s]\n",
      "val loss: 676.289: 100%|██████████| 15/15 [00:00<00:00, 27.22it/s]\n"
     ]
    },
    {
     "name": "stdout",
     "output_type": "stream",
     "text": [
      "Weight saved: epoch 541\n",
      "Epoch 541\tTrain Loss: 606.092  Val Loss: 611.283\n",
      "\n"
     ]
    },
    {
     "name": "stderr",
     "output_type": "stream",
     "text": [
      "train loss: 650.168: 100%|██████████| 57/57 [00:08<00:00,  6.74it/s]\n",
      "val loss: 676.287: 100%|██████████| 15/15 [00:00<00:00, 27.25it/s]\n"
     ]
    },
    {
     "name": "stdout",
     "output_type": "stream",
     "text": [
      "Weight saved: epoch 542\n",
      "Epoch 542\tTrain Loss: 605.734  Val Loss: 611.282\n",
      "\n"
     ]
    },
    {
     "name": "stderr",
     "output_type": "stream",
     "text": [
      "train loss: 680.448: 100%|██████████| 57/57 [00:08<00:00,  6.74it/s]\n",
      "val loss: 676.286: 100%|██████████| 15/15 [00:00<00:00, 26.64it/s]\n"
     ]
    },
    {
     "name": "stdout",
     "output_type": "stream",
     "text": [
      "Epoch 543\tTrain Loss: 606.253  Val Loss: 611.283\n",
      "\n"
     ]
    },
    {
     "name": "stderr",
     "output_type": "stream",
     "text": [
      "train loss: 553.864: 100%|██████████| 57/57 [00:08<00:00,  6.76it/s]\n",
      "val loss: 676.290: 100%|██████████| 15/15 [00:00<00:00, 27.50it/s]\n"
     ]
    },
    {
     "name": "stdout",
     "output_type": "stream",
     "text": [
      "Epoch 544\tTrain Loss: 604.084  Val Loss: 611.283\n",
      "\n"
     ]
    },
    {
     "name": "stderr",
     "output_type": "stream",
     "text": [
      "train loss: 579.423: 100%|██████████| 57/57 [00:08<00:00,  6.75it/s]\n",
      "val loss: 676.289: 100%|██████████| 15/15 [00:00<00:00, 27.10it/s]\n"
     ]
    },
    {
     "name": "stdout",
     "output_type": "stream",
     "text": [
      "Epoch 545\tTrain Loss: 604.522  Val Loss: 611.283\n",
      "\n"
     ]
    },
    {
     "name": "stderr",
     "output_type": "stream",
     "text": [
      "train loss: 683.303: 100%|██████████| 57/57 [00:08<00:00,  6.71it/s]\n",
      "val loss: 676.289: 100%|██████████| 15/15 [00:00<00:00, 26.98it/s]\n"
     ]
    },
    {
     "name": "stdout",
     "output_type": "stream",
     "text": [
      "Epoch 546\tTrain Loss: 606.301  Val Loss: 611.283\n",
      "\n"
     ]
    },
    {
     "name": "stderr",
     "output_type": "stream",
     "text": [
      "train loss: 579.980: 100%|██████████| 57/57 [00:08<00:00,  6.72it/s]\n",
      "val loss: 676.288: 100%|██████████| 15/15 [00:00<00:00, 26.08it/s]\n"
     ]
    },
    {
     "name": "stdout",
     "output_type": "stream",
     "text": [
      "Epoch 547\tTrain Loss: 604.531  Val Loss: 611.283\n",
      "\n"
     ]
    },
    {
     "name": "stderr",
     "output_type": "stream",
     "text": [
      "train loss: 621.592: 100%|██████████| 57/57 [00:08<00:00,  6.73it/s]\n",
      "val loss: 676.288: 100%|██████████| 15/15 [00:00<00:00, 26.70it/s]\n"
     ]
    },
    {
     "name": "stdout",
     "output_type": "stream",
     "text": [
      "Epoch 548\tTrain Loss: 605.244  Val Loss: 611.283\n",
      "\n"
     ]
    },
    {
     "name": "stderr",
     "output_type": "stream",
     "text": [
      "train loss: 549.473: 100%|██████████| 57/57 [00:08<00:00,  6.72it/s]\n",
      "val loss: 676.291: 100%|██████████| 15/15 [00:00<00:00, 26.77it/s]\n"
     ]
    },
    {
     "name": "stdout",
     "output_type": "stream",
     "text": [
      "Epoch 549\tTrain Loss: 604.008  Val Loss: 611.283\n",
      "\n"
     ]
    },
    {
     "name": "stderr",
     "output_type": "stream",
     "text": [
      "train loss: 614.303: 100%|██████████| 57/57 [00:08<00:00,  6.69it/s]\n",
      "val loss: 676.294: 100%|██████████| 15/15 [00:00<00:00, 26.33it/s]\n"
     ]
    },
    {
     "name": "stdout",
     "output_type": "stream",
     "text": [
      "Epoch 550\tTrain Loss: 605.119  Val Loss: 611.283\n",
      "\n"
     ]
    },
    {
     "name": "stderr",
     "output_type": "stream",
     "text": [
      "train loss: 635.006: 100%|██████████| 57/57 [00:08<00:00,  6.71it/s]\n",
      "val loss: 676.291: 100%|██████████| 15/15 [00:00<00:00, 27.07it/s]\n"
     ]
    },
    {
     "name": "stdout",
     "output_type": "stream",
     "text": [
      "Epoch 551\tTrain Loss: 605.473  Val Loss: 611.284\n",
      "\n"
     ]
    },
    {
     "name": "stderr",
     "output_type": "stream",
     "text": [
      "train loss: 533.284: 100%|██████████| 57/57 [00:08<00:00,  6.71it/s]\n",
      "val loss: 676.292: 100%|██████████| 15/15 [00:00<00:00, 26.24it/s]\n"
     ]
    },
    {
     "name": "stdout",
     "output_type": "stream",
     "text": [
      "Epoch 552\tTrain Loss: 603.730  Val Loss: 611.283\n",
      "\n"
     ]
    },
    {
     "name": "stderr",
     "output_type": "stream",
     "text": [
      "train loss: 631.610: 100%|██████████| 57/57 [00:08<00:00,  6.73it/s]\n",
      "val loss: 676.292: 100%|██████████| 15/15 [00:00<00:00, 27.23it/s]\n"
     ]
    },
    {
     "name": "stdout",
     "output_type": "stream",
     "text": [
      "Weight saved: epoch 553\n",
      "Epoch 553\tTrain Loss: 605.415  Val Loss: 611.282\n",
      "\n"
     ]
    },
    {
     "name": "stderr",
     "output_type": "stream",
     "text": [
      "train loss: 571.194: 100%|██████████| 57/57 [00:08<00:00,  6.71it/s]\n",
      "val loss: 676.292: 100%|██████████| 15/15 [00:00<00:00, 27.08it/s]\n"
     ]
    },
    {
     "name": "stdout",
     "output_type": "stream",
     "text": [
      "Epoch 554\tTrain Loss: 604.380  Val Loss: 611.282\n",
      "\n"
     ]
    },
    {
     "name": "stderr",
     "output_type": "stream",
     "text": [
      "train loss: 629.490: 100%|██████████| 57/57 [00:08<00:00,  6.74it/s]\n",
      "val loss: 676.290: 100%|██████████| 15/15 [00:00<00:00, 27.28it/s]\n"
     ]
    },
    {
     "name": "stdout",
     "output_type": "stream",
     "text": [
      "Epoch 555\tTrain Loss: 605.378  Val Loss: 611.282\n",
      "\n"
     ]
    },
    {
     "name": "stderr",
     "output_type": "stream",
     "text": [
      "train loss: 535.766: 100%|██████████| 57/57 [00:08<00:00,  6.72it/s]\n",
      "val loss: 676.291: 100%|██████████| 15/15 [00:00<00:00, 26.50it/s]\n"
     ]
    },
    {
     "name": "stdout",
     "output_type": "stream",
     "text": [
      "Weight saved: epoch 556\n",
      "Epoch 556\tTrain Loss: 603.773  Val Loss: 611.282\n",
      "\n"
     ]
    },
    {
     "name": "stderr",
     "output_type": "stream",
     "text": [
      "train loss: 544.350: 100%|██████████| 57/57 [00:08<00:00,  6.74it/s]\n",
      "val loss: 676.291: 100%|██████████| 15/15 [00:00<00:00, 26.94it/s]\n"
     ]
    },
    {
     "name": "stdout",
     "output_type": "stream",
     "text": [
      "Epoch 557\tTrain Loss: 603.919  Val Loss: 611.282\n",
      "\n"
     ]
    },
    {
     "name": "stderr",
     "output_type": "stream",
     "text": [
      "train loss: 547.225: 100%|██████████| 57/57 [00:08<00:00,  6.74it/s]\n",
      "val loss: 676.293: 100%|██████████| 15/15 [00:00<00:00, 27.16it/s]\n"
     ]
    },
    {
     "name": "stdout",
     "output_type": "stream",
     "text": [
      "Epoch 558\tTrain Loss: 603.969  Val Loss: 611.282\n",
      "\n"
     ]
    },
    {
     "name": "stderr",
     "output_type": "stream",
     "text": [
      "train loss: 603.224: 100%|██████████| 57/57 [00:08<00:00,  6.70it/s]\n",
      "val loss: 676.293: 100%|██████████| 15/15 [00:00<00:00, 26.68it/s]\n"
     ]
    },
    {
     "name": "stdout",
     "output_type": "stream",
     "text": [
      "Weight saved: epoch 559\n",
      "Epoch 559\tTrain Loss: 604.928  Val Loss: 611.281\n",
      "\n"
     ]
    },
    {
     "name": "stderr",
     "output_type": "stream",
     "text": [
      "train loss: 592.907: 100%|██████████| 57/57 [00:08<00:00,  6.69it/s]\n",
      "val loss: 676.290: 100%|██████████| 15/15 [00:00<00:00, 26.61it/s]\n"
     ]
    },
    {
     "name": "stdout",
     "output_type": "stream",
     "text": [
      "Epoch 560\tTrain Loss: 604.751  Val Loss: 611.282\n",
      "\n"
     ]
    },
    {
     "name": "stderr",
     "output_type": "stream",
     "text": [
      "train loss: 576.211: 100%|██████████| 57/57 [00:08<00:00,  6.68it/s]\n",
      "val loss: 676.290: 100%|██████████| 15/15 [00:00<00:00, 26.86it/s]\n"
     ]
    },
    {
     "name": "stdout",
     "output_type": "stream",
     "text": [
      "Epoch 561\tTrain Loss: 604.465  Val Loss: 611.282\n",
      "\n"
     ]
    },
    {
     "name": "stderr",
     "output_type": "stream",
     "text": [
      "train loss: 542.169: 100%|██████████| 57/57 [00:08<00:00,  6.66it/s]\n",
      "val loss: 676.289: 100%|██████████| 15/15 [00:00<00:00, 26.30it/s]\n"
     ]
    },
    {
     "name": "stdout",
     "output_type": "stream",
     "text": [
      "Weight saved: epoch 562\n",
      "Epoch 562\tTrain Loss: 603.882  Val Loss: 611.281\n",
      "\n"
     ]
    },
    {
     "name": "stderr",
     "output_type": "stream",
     "text": [
      "train loss: 548.105: 100%|██████████| 57/57 [00:08<00:00,  6.70it/s]\n",
      "val loss: 676.292: 100%|██████████| 15/15 [00:00<00:00, 26.51it/s]\n"
     ]
    },
    {
     "name": "stdout",
     "output_type": "stream",
     "text": [
      "Epoch 563\tTrain Loss: 603.983  Val Loss: 611.282\n",
      "\n"
     ]
    },
    {
     "name": "stderr",
     "output_type": "stream",
     "text": [
      "train loss: 629.754: 100%|██████████| 57/57 [00:08<00:00,  6.73it/s]\n",
      "val loss: 676.292: 100%|██████████| 15/15 [00:00<00:00, 26.54it/s]\n"
     ]
    },
    {
     "name": "stdout",
     "output_type": "stream",
     "text": [
      "Epoch 564\tTrain Loss: 605.382  Val Loss: 611.282\n",
      "\n"
     ]
    },
    {
     "name": "stderr",
     "output_type": "stream",
     "text": [
      "train loss: 604.148: 100%|██████████| 57/57 [00:08<00:00,  6.68it/s]\n",
      "val loss: 676.292: 100%|██████████| 15/15 [00:00<00:00, 26.68it/s]\n"
     ]
    },
    {
     "name": "stdout",
     "output_type": "stream",
     "text": [
      "Epoch 565\tTrain Loss: 604.943  Val Loss: 611.282\n",
      "\n"
     ]
    },
    {
     "name": "stderr",
     "output_type": "stream",
     "text": [
      "train loss: 595.860: 100%|██████████| 57/57 [00:08<00:00,  6.65it/s]\n",
      "val loss: 676.293: 100%|██████████| 15/15 [00:00<00:00, 26.06it/s]\n"
     ]
    },
    {
     "name": "stdout",
     "output_type": "stream",
     "text": [
      "Epoch 566\tTrain Loss: 604.801  Val Loss: 611.282\n",
      "\n"
     ]
    },
    {
     "name": "stderr",
     "output_type": "stream",
     "text": [
      "train loss: 576.168: 100%|██████████| 57/57 [00:08<00:00,  6.56it/s]\n",
      "val loss: 676.292: 100%|██████████| 15/15 [00:00<00:00, 25.82it/s]\n"
     ]
    },
    {
     "name": "stdout",
     "output_type": "stream",
     "text": [
      "Epoch 567\tTrain Loss: 604.464  Val Loss: 611.282\n",
      "\n"
     ]
    },
    {
     "name": "stderr",
     "output_type": "stream",
     "text": [
      "train loss: 606.911: 100%|██████████| 57/57 [00:08<00:00,  6.46it/s]\n",
      "val loss: 676.293: 100%|██████████| 15/15 [00:00<00:00, 25.84it/s]\n"
     ]
    },
    {
     "name": "stdout",
     "output_type": "stream",
     "text": [
      "Epoch 568\tTrain Loss: 604.990  Val Loss: 611.281\n",
      "\n"
     ]
    },
    {
     "name": "stderr",
     "output_type": "stream",
     "text": [
      "train loss: 658.605: 100%|██████████| 57/57 [00:08<00:00,  6.53it/s]\n",
      "val loss: 676.291: 100%|██████████| 15/15 [00:00<00:00, 25.62it/s]\n"
     ]
    },
    {
     "name": "stdout",
     "output_type": "stream",
     "text": [
      "Weight saved: epoch 569\n",
      "Epoch 569\tTrain Loss: 605.876  Val Loss: 611.281\n",
      "\n"
     ]
    },
    {
     "name": "stderr",
     "output_type": "stream",
     "text": [
      "train loss: 620.892: 100%|██████████| 57/57 [00:08<00:00,  6.49it/s]\n",
      "val loss: 676.292: 100%|██████████| 15/15 [00:00<00:00, 25.75it/s]\n"
     ]
    },
    {
     "name": "stdout",
     "output_type": "stream",
     "text": [
      "Epoch 570\tTrain Loss: 605.230  Val Loss: 611.281\n",
      "\n"
     ]
    },
    {
     "name": "stderr",
     "output_type": "stream",
     "text": [
      "train loss: 611.823: 100%|██████████| 57/57 [00:08<00:00,  6.49it/s]\n",
      "val loss: 676.292: 100%|██████████| 15/15 [00:00<00:00, 26.35it/s]\n"
     ]
    },
    {
     "name": "stdout",
     "output_type": "stream",
     "text": [
      "Epoch 571\tTrain Loss: 605.074  Val Loss: 611.281\n",
      "\n"
     ]
    },
    {
     "name": "stderr",
     "output_type": "stream",
     "text": [
      "train loss: 640.182: 100%|██████████| 57/57 [00:08<00:00,  6.53it/s]\n",
      "val loss: 676.292: 100%|██████████| 15/15 [00:00<00:00, 25.71it/s]\n"
     ]
    },
    {
     "name": "stdout",
     "output_type": "stream",
     "text": [
      "Weight saved: epoch 572\n",
      "Epoch 572\tTrain Loss: 605.560  Val Loss: 611.281\n",
      "\n"
     ]
    },
    {
     "name": "stderr",
     "output_type": "stream",
     "text": [
      "train loss: 513.768: 100%|██████████| 57/57 [00:08<00:00,  6.48it/s]\n",
      "val loss: 676.293: 100%|██████████| 15/15 [00:00<00:00, 25.81it/s]\n"
     ]
    },
    {
     "name": "stdout",
     "output_type": "stream",
     "text": [
      "Epoch 573\tTrain Loss: 603.394  Val Loss: 611.281\n",
      "\n"
     ]
    },
    {
     "name": "stderr",
     "output_type": "stream",
     "text": [
      "train loss: 636.664: 100%|██████████| 57/57 [00:08<00:00,  6.55it/s]\n",
      "val loss: 676.293: 100%|██████████| 15/15 [00:00<00:00, 26.16it/s]\n"
     ]
    },
    {
     "name": "stdout",
     "output_type": "stream",
     "text": [
      "Weight saved: epoch 574\n",
      "Epoch 574\tTrain Loss: 605.499  Val Loss: 611.281\n",
      "\n"
     ]
    },
    {
     "name": "stderr",
     "output_type": "stream",
     "text": [
      "train loss: 540.228: 100%|██████████| 57/57 [00:08<00:00,  6.56it/s]\n",
      "val loss: 676.294: 100%|██████████| 15/15 [00:00<00:00, 26.52it/s]\n"
     ]
    },
    {
     "name": "stdout",
     "output_type": "stream",
     "text": [
      "Epoch 575\tTrain Loss: 603.847  Val Loss: 611.281\n",
      "\n"
     ]
    },
    {
     "name": "stderr",
     "output_type": "stream",
     "text": [
      "train loss: 594.752: 100%|██████████| 57/57 [00:08<00:00,  6.67it/s]\n",
      "val loss: 676.295: 100%|██████████| 15/15 [00:00<00:00, 27.90it/s]\n"
     ]
    },
    {
     "name": "stdout",
     "output_type": "stream",
     "text": [
      "Epoch 576\tTrain Loss: 604.781  Val Loss: 611.281\n",
      "\n"
     ]
    },
    {
     "name": "stderr",
     "output_type": "stream",
     "text": [
      "train loss: 553.609: 100%|██████████| 57/57 [00:08<00:00,  6.62it/s]\n",
      "val loss: 676.298: 100%|██████████| 15/15 [00:00<00:00, 26.72it/s]\n"
     ]
    },
    {
     "name": "stdout",
     "output_type": "stream",
     "text": [
      "Epoch 577\tTrain Loss: 604.076  Val Loss: 611.281\n",
      "\n"
     ]
    },
    {
     "name": "stderr",
     "output_type": "stream",
     "text": [
      "train loss: 608.513: 100%|██████████| 57/57 [00:08<00:00,  6.54it/s]\n",
      "val loss: 676.295: 100%|██████████| 15/15 [00:00<00:00, 26.09it/s]\n"
     ]
    },
    {
     "name": "stdout",
     "output_type": "stream",
     "text": [
      "Epoch 578\tTrain Loss: 605.017  Val Loss: 611.281\n",
      "\n"
     ]
    },
    {
     "name": "stderr",
     "output_type": "stream",
     "text": [
      "train loss: 597.839: 100%|██████████| 57/57 [00:08<00:00,  6.70it/s]\n",
      "val loss: 676.295: 100%|██████████| 15/15 [00:00<00:00, 27.41it/s]\n"
     ]
    },
    {
     "name": "stdout",
     "output_type": "stream",
     "text": [
      "Epoch 579\tTrain Loss: 604.834  Val Loss: 611.281\n",
      "\n"
     ]
    },
    {
     "name": "stderr",
     "output_type": "stream",
     "text": [
      "train loss: 565.660: 100%|██████████| 57/57 [00:08<00:00,  6.89it/s]\n",
      "val loss: 676.295: 100%|██████████| 15/15 [00:00<00:00, 27.87it/s]\n"
     ]
    },
    {
     "name": "stdout",
     "output_type": "stream",
     "text": [
      "Weight saved: epoch 580\n",
      "Epoch 580\tTrain Loss: 604.282  Val Loss: 611.281\n",
      "\n"
     ]
    },
    {
     "name": "stderr",
     "output_type": "stream",
     "text": [
      "train loss: 646.105: 100%|██████████| 57/57 [00:08<00:00,  6.93it/s]\n",
      "val loss: 676.295: 100%|██████████| 15/15 [00:00<00:00, 28.05it/s]\n"
     ]
    },
    {
     "name": "stdout",
     "output_type": "stream",
     "text": [
      "Epoch 581\tTrain Loss: 605.661  Val Loss: 611.281\n",
      "\n"
     ]
    },
    {
     "name": "stderr",
     "output_type": "stream",
     "text": [
      "train loss: 579.458: 100%|██████████| 57/57 [00:08<00:00,  6.90it/s]\n",
      "val loss: 676.295: 100%|██████████| 15/15 [00:00<00:00, 27.64it/s]\n"
     ]
    },
    {
     "name": "stdout",
     "output_type": "stream",
     "text": [
      "Weight saved: epoch 582\n",
      "Epoch 582\tTrain Loss: 604.519  Val Loss: 611.280\n",
      "\n"
     ]
    },
    {
     "name": "stderr",
     "output_type": "stream",
     "text": [
      "train loss: 617.302: 100%|██████████| 57/57 [00:08<00:00,  6.87it/s]\n",
      "val loss: 676.292: 100%|██████████| 15/15 [00:00<00:00, 27.43it/s]\n"
     ]
    },
    {
     "name": "stdout",
     "output_type": "stream",
     "text": [
      "Weight saved: epoch 583\n",
      "Epoch 583\tTrain Loss: 605.167  Val Loss: 611.280\n",
      "\n"
     ]
    },
    {
     "name": "stderr",
     "output_type": "stream",
     "text": [
      "train loss: 616.237: 100%|██████████| 57/57 [00:08<00:00,  6.80it/s]\n",
      "val loss: 676.293: 100%|██████████| 15/15 [00:00<00:00, 27.13it/s]\n"
     ]
    },
    {
     "name": "stdout",
     "output_type": "stream",
     "text": [
      "Epoch 584\tTrain Loss: 605.149  Val Loss: 611.280\n",
      "\n"
     ]
    },
    {
     "name": "stderr",
     "output_type": "stream",
     "text": [
      "train loss: 579.379: 100%|██████████| 57/57 [00:08<00:00,  6.83it/s]\n",
      "val loss: 676.292: 100%|██████████| 15/15 [00:00<00:00, 27.25it/s]\n"
     ]
    },
    {
     "name": "stdout",
     "output_type": "stream",
     "text": [
      "Epoch 585\tTrain Loss: 604.517  Val Loss: 611.280\n",
      "\n"
     ]
    },
    {
     "name": "stderr",
     "output_type": "stream",
     "text": [
      "train loss: 553.488: 100%|██████████| 57/57 [00:08<00:00,  6.88it/s]\n",
      "val loss: 676.293: 100%|██████████| 15/15 [00:00<00:00, 28.23it/s]\n"
     ]
    },
    {
     "name": "stdout",
     "output_type": "stream",
     "text": [
      "Epoch 586\tTrain Loss: 604.073  Val Loss: 611.280\n",
      "\n"
     ]
    },
    {
     "name": "stderr",
     "output_type": "stream",
     "text": [
      "train loss: 607.685: 100%|██████████| 57/57 [00:08<00:00,  6.90it/s]\n",
      "val loss: 676.297: 100%|██████████| 15/15 [00:00<00:00, 27.76it/s]\n"
     ]
    },
    {
     "name": "stdout",
     "output_type": "stream",
     "text": [
      "Epoch 587\tTrain Loss: 605.002  Val Loss: 611.280\n",
      "\n"
     ]
    },
    {
     "name": "stderr",
     "output_type": "stream",
     "text": [
      "train loss: 664.813: 100%|██████████| 57/57 [00:08<00:00,  6.92it/s]\n",
      "val loss: 676.294: 100%|██████████| 15/15 [00:00<00:00, 27.51it/s]\n"
     ]
    },
    {
     "name": "stdout",
     "output_type": "stream",
     "text": [
      "Epoch 588\tTrain Loss: 605.980  Val Loss: 611.280\n",
      "\n"
     ]
    },
    {
     "name": "stderr",
     "output_type": "stream",
     "text": [
      "train loss: 582.111: 100%|██████████| 57/57 [00:08<00:00,  6.89it/s]\n",
      "val loss: 676.297: 100%|██████████| 15/15 [00:00<00:00, 28.04it/s]\n"
     ]
    },
    {
     "name": "stdout",
     "output_type": "stream",
     "text": [
      "Epoch 589\tTrain Loss: 604.563  Val Loss: 611.280\n",
      "\n"
     ]
    },
    {
     "name": "stderr",
     "output_type": "stream",
     "text": [
      "train loss: 636.986: 100%|██████████| 57/57 [00:08<00:00,  6.86it/s]\n",
      "val loss: 676.297: 100%|██████████| 15/15 [00:00<00:00, 28.01it/s]\n"
     ]
    },
    {
     "name": "stdout",
     "output_type": "stream",
     "text": [
      "Weight saved: epoch 590\n",
      "Epoch 590\tTrain Loss: 605.504  Val Loss: 611.279\n",
      "\n"
     ]
    },
    {
     "name": "stderr",
     "output_type": "stream",
     "text": [
      "train loss: 639.837: 100%|██████████| 57/57 [00:08<00:00,  6.85it/s]\n",
      "val loss: 676.295: 100%|██████████| 15/15 [00:00<00:00, 27.38it/s]\n"
     ]
    },
    {
     "name": "stdout",
     "output_type": "stream",
     "text": [
      "Epoch 591\tTrain Loss: 605.552  Val Loss: 611.280\n",
      "\n"
     ]
    },
    {
     "name": "stderr",
     "output_type": "stream",
     "text": [
      "train loss: 641.615: 100%|██████████| 57/57 [00:08<00:00,  6.84it/s]\n",
      "val loss: 676.299: 100%|██████████| 15/15 [00:00<00:00, 28.14it/s]\n"
     ]
    },
    {
     "name": "stdout",
     "output_type": "stream",
     "text": [
      "Epoch 592\tTrain Loss: 605.583  Val Loss: 611.279\n",
      "\n"
     ]
    },
    {
     "name": "stderr",
     "output_type": "stream",
     "text": [
      "train loss: 611.805: 100%|██████████| 57/57 [00:08<00:00,  6.91it/s]\n",
      "val loss: 676.298: 100%|██████████| 15/15 [00:00<00:00, 27.24it/s]\n"
     ]
    },
    {
     "name": "stdout",
     "output_type": "stream",
     "text": [
      "Epoch 593\tTrain Loss: 605.072  Val Loss: 611.279\n",
      "\n"
     ]
    },
    {
     "name": "stderr",
     "output_type": "stream",
     "text": [
      "train loss: 605.142: 100%|██████████| 57/57 [00:08<00:00,  6.89it/s]\n",
      "val loss: 676.301: 100%|██████████| 15/15 [00:00<00:00, 28.14it/s]\n"
     ]
    },
    {
     "name": "stdout",
     "output_type": "stream",
     "text": [
      "Epoch 594\tTrain Loss: 604.958  Val Loss: 611.280\n",
      "\n"
     ]
    },
    {
     "name": "stderr",
     "output_type": "stream",
     "text": [
      "train loss: 604.449: 100%|██████████| 57/57 [00:08<00:00,  6.90it/s]\n",
      "val loss: 676.299: 100%|██████████| 15/15 [00:00<00:00, 28.33it/s]\n"
     ]
    },
    {
     "name": "stdout",
     "output_type": "stream",
     "text": [
      "Epoch 595\tTrain Loss: 604.945  Val Loss: 611.280\n",
      "\n"
     ]
    },
    {
     "name": "stderr",
     "output_type": "stream",
     "text": [
      "train loss: 596.483: 100%|██████████| 57/57 [00:08<00:00,  6.84it/s]\n",
      "val loss: 676.300: 100%|██████████| 15/15 [00:00<00:00, 25.95it/s]\n"
     ]
    },
    {
     "name": "stdout",
     "output_type": "stream",
     "text": [
      "Epoch 596\tTrain Loss: 604.809  Val Loss: 611.280\n",
      "\n"
     ]
    },
    {
     "name": "stderr",
     "output_type": "stream",
     "text": [
      "train loss: 600.707: 100%|██████████| 57/57 [00:08<00:00,  6.60it/s]\n",
      "val loss: 676.299: 100%|██████████| 15/15 [00:00<00:00, 27.79it/s]\n"
     ]
    },
    {
     "name": "stdout",
     "output_type": "stream",
     "text": [
      "Epoch 597\tTrain Loss: 604.881  Val Loss: 611.280\n",
      "\n"
     ]
    },
    {
     "name": "stderr",
     "output_type": "stream",
     "text": [
      "train loss: 519.854: 100%|██████████| 57/57 [00:08<00:00,  6.49it/s]\n",
      "val loss: 676.296: 100%|██████████| 15/15 [00:00<00:00, 24.53it/s]\n"
     ]
    },
    {
     "name": "stdout",
     "output_type": "stream",
     "text": [
      "Epoch 598\tTrain Loss: 603.496  Val Loss: 611.279\n",
      "\n"
     ]
    },
    {
     "name": "stderr",
     "output_type": "stream",
     "text": [
      "train loss: 609.002: 100%|██████████| 57/57 [00:08<00:00,  6.80it/s]\n",
      "val loss: 676.297: 100%|██████████| 15/15 [00:00<00:00, 27.17it/s]\n"
     ]
    },
    {
     "name": "stdout",
     "output_type": "stream",
     "text": [
      "Weight saved: epoch 599\n",
      "Epoch 599\tTrain Loss: 605.023  Val Loss: 611.279\n",
      "\n"
     ]
    },
    {
     "name": "stderr",
     "output_type": "stream",
     "text": [
      "train loss: 639.894: 100%|██████████| 57/57 [00:08<00:00,  6.85it/s]\n",
      "val loss: 676.298: 100%|██████████| 15/15 [00:00<00:00, 26.40it/s]\n"
     ]
    },
    {
     "name": "stdout",
     "output_type": "stream",
     "text": [
      "Epoch 600\tTrain Loss: 605.552  Val Loss: 611.279\n",
      "\n"
     ]
    },
    {
     "name": "stderr",
     "output_type": "stream",
     "text": [
      "train loss: 595.612: 100%|██████████| 57/57 [00:08<00:00,  6.84it/s]\n",
      "val loss: 676.296: 100%|██████████| 15/15 [00:00<00:00, 27.66it/s]\n"
     ]
    },
    {
     "name": "stdout",
     "output_type": "stream",
     "text": [
      "Weight saved: epoch 601\n",
      "Epoch 601\tTrain Loss: 604.794  Val Loss: 611.279\n",
      "\n"
     ]
    },
    {
     "name": "stderr",
     "output_type": "stream",
     "text": [
      "train loss: 672.361: 100%|██████████| 57/57 [00:08<00:00,  6.88it/s]\n",
      "val loss: 676.298: 100%|██████████| 15/15 [00:00<00:00, 26.93it/s]\n"
     ]
    },
    {
     "name": "stdout",
     "output_type": "stream",
     "text": [
      "Weight saved: epoch 602\n",
      "Epoch 602\tTrain Loss: 606.108  Val Loss: 611.279\n",
      "\n"
     ]
    },
    {
     "name": "stderr",
     "output_type": "stream",
     "text": [
      "train loss: 532.092: 100%|██████████| 57/57 [00:08<00:00,  6.86it/s]\n",
      "val loss: 676.295: 100%|██████████| 15/15 [00:00<00:00, 27.47it/s]\n"
     ]
    },
    {
     "name": "stdout",
     "output_type": "stream",
     "text": [
      "Epoch 603\tTrain Loss: 603.705  Val Loss: 611.279\n",
      "\n"
     ]
    },
    {
     "name": "stderr",
     "output_type": "stream",
     "text": [
      "train loss: 618.924: 100%|██████████| 57/57 [00:08<00:00,  6.83it/s]\n",
      "val loss: 676.299: 100%|██████████| 15/15 [00:00<00:00, 27.49it/s]\n"
     ]
    },
    {
     "name": "stdout",
     "output_type": "stream",
     "text": [
      "Weight saved: epoch 604\n",
      "Epoch 604\tTrain Loss: 605.193  Val Loss: 611.279\n",
      "\n"
     ]
    },
    {
     "name": "stderr",
     "output_type": "stream",
     "text": [
      "train loss: 651.484: 100%|██████████| 57/57 [00:08<00:00,  6.87it/s]\n",
      "val loss: 676.295: 100%|██████████| 15/15 [00:00<00:00, 27.66it/s]\n"
     ]
    },
    {
     "name": "stdout",
     "output_type": "stream",
     "text": [
      "Weight saved: epoch 605\n",
      "Epoch 605\tTrain Loss: 605.750  Val Loss: 611.278\n",
      "\n"
     ]
    },
    {
     "name": "stderr",
     "output_type": "stream",
     "text": [
      "train loss: 595.383: 100%|██████████| 57/57 [00:08<00:00,  6.96it/s]\n",
      "val loss: 676.296: 100%|██████████| 15/15 [00:00<00:00, 29.19it/s]\n"
     ]
    },
    {
     "name": "stdout",
     "output_type": "stream",
     "text": [
      "Epoch 606\tTrain Loss: 604.789  Val Loss: 611.278\n",
      "\n"
     ]
    },
    {
     "name": "stderr",
     "output_type": "stream",
     "text": [
      "train loss: 599.572: 100%|██████████| 57/57 [00:07<00:00,  7.30it/s]\n",
      "val loss: 676.297: 100%|██████████| 15/15 [00:00<00:00, 30.01it/s]\n"
     ]
    },
    {
     "name": "stdout",
     "output_type": "stream",
     "text": [
      "Epoch 607\tTrain Loss: 604.861  Val Loss: 611.278\n",
      "\n"
     ]
    },
    {
     "name": "stderr",
     "output_type": "stream",
     "text": [
      "train loss: 588.625: 100%|██████████| 57/57 [00:08<00:00,  7.04it/s]\n",
      "val loss: 676.294: 100%|██████████| 15/15 [00:00<00:00, 26.81it/s]\n"
     ]
    },
    {
     "name": "stdout",
     "output_type": "stream",
     "text": [
      "Weight saved: epoch 608\n",
      "Epoch 608\tTrain Loss: 604.673  Val Loss: 611.278\n",
      "\n"
     ]
    },
    {
     "name": "stderr",
     "output_type": "stream",
     "text": [
      "train loss: 605.288: 100%|██████████| 57/57 [00:08<00:00,  6.82it/s]\n",
      "val loss: 676.296: 100%|██████████| 15/15 [00:00<00:00, 25.98it/s]\n"
     ]
    },
    {
     "name": "stdout",
     "output_type": "stream",
     "text": [
      "Epoch 609\tTrain Loss: 604.958  Val Loss: 611.278\n",
      "\n"
     ]
    },
    {
     "name": "stderr",
     "output_type": "stream",
     "text": [
      "train loss: 638.042: 100%|██████████| 57/57 [00:08<00:00,  6.86it/s]\n",
      "val loss: 676.296: 100%|██████████| 15/15 [00:00<00:00, 27.37it/s]\n"
     ]
    },
    {
     "name": "stdout",
     "output_type": "stream",
     "text": [
      "Weight saved: epoch 610\n",
      "Epoch 610\tTrain Loss: 605.520  Val Loss: 611.278\n",
      "\n"
     ]
    },
    {
     "name": "stderr",
     "output_type": "stream",
     "text": [
      "train loss: 575.864: 100%|██████████| 57/57 [00:08<00:00,  6.89it/s]\n",
      "val loss: 676.296: 100%|██████████| 15/15 [00:00<00:00, 26.20it/s]\n"
     ]
    },
    {
     "name": "stdout",
     "output_type": "stream",
     "text": [
      "Epoch 611\tTrain Loss: 604.454  Val Loss: 611.278\n",
      "\n"
     ]
    },
    {
     "name": "stderr",
     "output_type": "stream",
     "text": [
      "train loss: 594.664: 100%|██████████| 57/57 [00:08<00:00,  6.83it/s]\n",
      "val loss: 676.298: 100%|██████████| 15/15 [00:00<00:00, 28.52it/s]\n"
     ]
    },
    {
     "name": "stdout",
     "output_type": "stream",
     "text": [
      "Epoch 612\tTrain Loss: 604.776  Val Loss: 611.278\n",
      "\n"
     ]
    },
    {
     "name": "stderr",
     "output_type": "stream",
     "text": [
      "train loss: 615.264: 100%|██████████| 57/57 [00:08<00:00,  6.83it/s]\n",
      "val loss: 676.295: 100%|██████████| 15/15 [00:00<00:00, 28.26it/s]\n"
     ]
    },
    {
     "name": "stdout",
     "output_type": "stream",
     "text": [
      "Weight saved: epoch 613\n",
      "Epoch 613\tTrain Loss: 605.129  Val Loss: 611.278\n",
      "\n"
     ]
    },
    {
     "name": "stderr",
     "output_type": "stream",
     "text": [
      "train loss: 560.370: 100%|██████████| 57/57 [00:08<00:00,  6.87it/s]\n",
      "val loss: 676.295: 100%|██████████| 15/15 [00:00<00:00, 27.18it/s]\n"
     ]
    },
    {
     "name": "stdout",
     "output_type": "stream",
     "text": [
      "Epoch 614\tTrain Loss: 604.188  Val Loss: 611.278\n",
      "\n"
     ]
    },
    {
     "name": "stderr",
     "output_type": "stream",
     "text": [
      "train loss: 592.628: 100%|██████████| 57/57 [00:08<00:00,  6.83it/s]\n",
      "val loss: 676.295: 100%|██████████| 15/15 [00:00<00:00, 25.53it/s]\n"
     ]
    },
    {
     "name": "stdout",
     "output_type": "stream",
     "text": [
      "Epoch 615\tTrain Loss: 604.741  Val Loss: 611.278\n",
      "\n"
     ]
    },
    {
     "name": "stderr",
     "output_type": "stream",
     "text": [
      "train loss: 608.399: 100%|██████████| 57/57 [00:08<00:00,  6.92it/s]\n",
      "val loss: 676.298: 100%|██████████| 15/15 [00:00<00:00, 28.07it/s]\n"
     ]
    },
    {
     "name": "stdout",
     "output_type": "stream",
     "text": [
      "Epoch 616\tTrain Loss: 605.011  Val Loss: 611.278\n",
      "\n"
     ]
    },
    {
     "name": "stderr",
     "output_type": "stream",
     "text": [
      "train loss: 561.744: 100%|██████████| 57/57 [00:08<00:00,  6.95it/s]\n",
      "val loss: 676.296: 100%|██████████| 15/15 [00:00<00:00, 28.02it/s]\n"
     ]
    },
    {
     "name": "stdout",
     "output_type": "stream",
     "text": [
      "Epoch 617\tTrain Loss: 604.212  Val Loss: 611.278\n",
      "\n"
     ]
    },
    {
     "name": "stderr",
     "output_type": "stream",
     "text": [
      "train loss: 641.935: 100%|██████████| 57/57 [00:08<00:00,  7.00it/s]\n",
      "val loss: 676.298: 100%|██████████| 15/15 [00:00<00:00, 27.86it/s]\n"
     ]
    },
    {
     "name": "stdout",
     "output_type": "stream",
     "text": [
      "Weight saved: epoch 618\n",
      "Epoch 618\tTrain Loss: 605.585  Val Loss: 611.277\n",
      "\n"
     ]
    },
    {
     "name": "stderr",
     "output_type": "stream",
     "text": [
      "train loss: 638.576: 100%|██████████| 57/57 [00:08<00:00,  6.96it/s]\n",
      "val loss: 676.296: 100%|██████████| 15/15 [00:00<00:00, 28.20it/s]\n"
     ]
    },
    {
     "name": "stdout",
     "output_type": "stream",
     "text": [
      "Epoch 619\tTrain Loss: 605.528  Val Loss: 611.277\n",
      "\n"
     ]
    },
    {
     "name": "stderr",
     "output_type": "stream",
     "text": [
      "train loss: 571.507: 100%|██████████| 57/57 [00:08<00:00,  6.92it/s]\n",
      "val loss: 676.299: 100%|██████████| 15/15 [00:00<00:00, 27.02it/s]\n"
     ]
    },
    {
     "name": "stdout",
     "output_type": "stream",
     "text": [
      "Epoch 620\tTrain Loss: 604.379  Val Loss: 611.277\n",
      "\n"
     ]
    },
    {
     "name": "stderr",
     "output_type": "stream",
     "text": [
      "train loss: 612.126: 100%|██████████| 57/57 [00:08<00:00,  6.92it/s]\n",
      "val loss: 676.299: 100%|██████████| 15/15 [00:00<00:00, 27.53it/s]\n"
     ]
    },
    {
     "name": "stdout",
     "output_type": "stream",
     "text": [
      "Weight saved: epoch 621\n",
      "Epoch 621\tTrain Loss: 605.074  Val Loss: 611.277\n",
      "\n"
     ]
    },
    {
     "name": "stderr",
     "output_type": "stream",
     "text": [
      "train loss: 599.191: 100%|██████████| 57/57 [00:08<00:00,  6.92it/s]\n",
      "val loss: 676.299: 100%|██████████| 15/15 [00:00<00:00, 27.65it/s]\n"
     ]
    },
    {
     "name": "stdout",
     "output_type": "stream",
     "text": [
      "Weight saved: epoch 622\n",
      "Epoch 622\tTrain Loss: 604.853  Val Loss: 611.277\n",
      "\n"
     ]
    },
    {
     "name": "stderr",
     "output_type": "stream",
     "text": [
      "train loss: 611.950: 100%|██████████| 57/57 [00:08<00:00,  6.96it/s]\n",
      "val loss: 676.300: 100%|██████████| 15/15 [00:00<00:00, 28.00it/s]\n"
     ]
    },
    {
     "name": "stdout",
     "output_type": "stream",
     "text": [
      "Epoch 623\tTrain Loss: 605.071  Val Loss: 611.277\n",
      "\n"
     ]
    },
    {
     "name": "stderr",
     "output_type": "stream",
     "text": [
      "train loss: 633.148: 100%|██████████| 57/57 [00:08<00:00,  6.95it/s]\n",
      "val loss: 676.299: 100%|██████████| 15/15 [00:00<00:00, 27.91it/s]\n"
     ]
    },
    {
     "name": "stdout",
     "output_type": "stream",
     "text": [
      "Epoch 624\tTrain Loss: 605.434  Val Loss: 611.277\n",
      "\n"
     ]
    },
    {
     "name": "stderr",
     "output_type": "stream",
     "text": [
      "train loss: 571.285: 100%|██████████| 57/57 [00:08<00:00,  6.94it/s]\n",
      "val loss: 676.296: 100%|██████████| 15/15 [00:00<00:00, 28.01it/s]\n"
     ]
    },
    {
     "name": "stdout",
     "output_type": "stream",
     "text": [
      "Weight saved: epoch 625\n",
      "Epoch 625\tTrain Loss: 604.374  Val Loss: 611.277\n",
      "\n"
     ]
    },
    {
     "name": "stderr",
     "output_type": "stream",
     "text": [
      "train loss: 643.763: 100%|██████████| 57/57 [00:08<00:00,  6.96it/s]\n",
      "val loss: 676.297: 100%|██████████| 15/15 [00:00<00:00, 28.03it/s]\n"
     ]
    },
    {
     "name": "stdout",
     "output_type": "stream",
     "text": [
      "Epoch 626\tTrain Loss: 605.616  Val Loss: 611.277\n",
      "\n"
     ]
    },
    {
     "name": "stderr",
     "output_type": "stream",
     "text": [
      "train loss: 564.844: 100%|██████████| 57/57 [00:08<00:00,  6.96it/s]\n",
      "val loss: 676.296: 100%|██████████| 15/15 [00:00<00:00, 27.95it/s]\n"
     ]
    },
    {
     "name": "stdout",
     "output_type": "stream",
     "text": [
      "Weight saved: epoch 627\n",
      "Epoch 627\tTrain Loss: 604.264  Val Loss: 611.276\n",
      "\n"
     ]
    },
    {
     "name": "stderr",
     "output_type": "stream",
     "text": [
      "train loss: 724.378: 100%|██████████| 57/57 [00:08<00:00,  6.96it/s]\n",
      "val loss: 676.299: 100%|██████████| 15/15 [00:00<00:00, 27.92it/s]\n"
     ]
    },
    {
     "name": "stdout",
     "output_type": "stream",
     "text": [
      "Epoch 628\tTrain Loss: 606.997  Val Loss: 611.277\n",
      "\n"
     ]
    },
    {
     "name": "stderr",
     "output_type": "stream",
     "text": [
      "train loss: 624.934: 100%|██████████| 57/57 [00:08<00:00,  6.96it/s]\n",
      "val loss: 676.298: 100%|██████████| 15/15 [00:00<00:00, 28.05it/s]\n"
     ]
    },
    {
     "name": "stdout",
     "output_type": "stream",
     "text": [
      "Epoch 629\tTrain Loss: 605.293  Val Loss: 611.277\n",
      "\n"
     ]
    },
    {
     "name": "stderr",
     "output_type": "stream",
     "text": [
      "train loss: 637.352: 100%|██████████| 57/57 [00:08<00:00,  6.93it/s]\n",
      "val loss: 676.298: 100%|██████████| 15/15 [00:00<00:00, 27.62it/s]\n"
     ]
    },
    {
     "name": "stdout",
     "output_type": "stream",
     "text": [
      "Epoch 630\tTrain Loss: 605.506  Val Loss: 611.278\n",
      "\n"
     ]
    },
    {
     "name": "stderr",
     "output_type": "stream",
     "text": [
      "train loss: 633.576: 100%|██████████| 57/57 [00:08<00:00,  6.96it/s]\n",
      "val loss: 676.299: 100%|██████████| 15/15 [00:00<00:00, 27.57it/s]\n"
     ]
    },
    {
     "name": "stdout",
     "output_type": "stream",
     "text": [
      "Epoch 631\tTrain Loss: 605.441  Val Loss: 611.277\n",
      "\n"
     ]
    },
    {
     "name": "stderr",
     "output_type": "stream",
     "text": [
      "train loss: 620.913: 100%|██████████| 57/57 [00:08<00:00,  6.96it/s]\n",
      "val loss: 676.300: 100%|██████████| 15/15 [00:00<00:00, 28.23it/s]\n"
     ]
    },
    {
     "name": "stdout",
     "output_type": "stream",
     "text": [
      "Epoch 632\tTrain Loss: 605.224  Val Loss: 611.277\n",
      "\n"
     ]
    },
    {
     "name": "stderr",
     "output_type": "stream",
     "text": [
      "train loss: 620.787: 100%|██████████| 57/57 [00:08<00:00,  6.92it/s]\n",
      "val loss: 676.298: 100%|██████████| 15/15 [00:00<00:00, 28.25it/s]\n"
     ]
    },
    {
     "name": "stdout",
     "output_type": "stream",
     "text": [
      "Epoch 633\tTrain Loss: 605.222  Val Loss: 611.277\n",
      "\n"
     ]
    },
    {
     "name": "stderr",
     "output_type": "stream",
     "text": [
      "train loss: 633.102: 100%|██████████| 57/57 [00:08<00:00,  6.60it/s]\n",
      "val loss: 676.301: 100%|██████████| 15/15 [00:00<00:00, 26.13it/s]\n"
     ]
    },
    {
     "name": "stdout",
     "output_type": "stream",
     "text": [
      "Epoch 634\tTrain Loss: 605.433  Val Loss: 611.277\n",
      "\n"
     ]
    },
    {
     "name": "stderr",
     "output_type": "stream",
     "text": [
      "train loss: 635.951: 100%|██████████| 57/57 [00:08<00:00,  6.63it/s]\n",
      "val loss: 676.300: 100%|██████████| 15/15 [00:00<00:00, 26.32it/s]\n"
     ]
    },
    {
     "name": "stdout",
     "output_type": "stream",
     "text": [
      "Epoch 635\tTrain Loss: 605.481  Val Loss: 611.277\n",
      "\n"
     ]
    },
    {
     "name": "stderr",
     "output_type": "stream",
     "text": [
      "train loss: 572.395: 100%|██████████| 57/57 [00:08<00:00,  6.64it/s]\n",
      "val loss: 676.299: 100%|██████████| 15/15 [00:00<00:00, 26.54it/s]\n"
     ]
    },
    {
     "name": "stdout",
     "output_type": "stream",
     "text": [
      "Epoch 636\tTrain Loss: 604.392  Val Loss: 611.277\n",
      "\n"
     ]
    },
    {
     "name": "stderr",
     "output_type": "stream",
     "text": [
      "train loss: 595.418: 100%|██████████| 57/57 [00:08<00:00,  6.61it/s]\n",
      "val loss: 676.299: 100%|██████████| 15/15 [00:00<00:00, 26.18it/s]\n"
     ]
    },
    {
     "name": "stdout",
     "output_type": "stream",
     "text": [
      "Epoch 637\tTrain Loss: 604.787  Val Loss: 611.276\n",
      "\n"
     ]
    },
    {
     "name": "stderr",
     "output_type": "stream",
     "text": [
      "train loss: 553.705: 100%|██████████| 57/57 [00:08<00:00,  6.65it/s]\n",
      "val loss: 676.301: 100%|██████████| 15/15 [00:00<00:00, 26.65it/s]\n"
     ]
    },
    {
     "name": "stdout",
     "output_type": "stream",
     "text": [
      "Epoch 638\tTrain Loss: 604.072  Val Loss: 611.276\n",
      "\n"
     ]
    },
    {
     "name": "stderr",
     "output_type": "stream",
     "text": [
      "train loss: 611.528: 100%|██████████| 57/57 [00:08<00:00,  6.70it/s]\n",
      "val loss: 676.302: 100%|██████████| 15/15 [00:00<00:00, 26.71it/s]\n"
     ]
    },
    {
     "name": "stdout",
     "output_type": "stream",
     "text": [
      "Epoch 639\tTrain Loss: 605.063  Val Loss: 611.276\n",
      "\n"
     ]
    },
    {
     "name": "stderr",
     "output_type": "stream",
     "text": [
      "train loss: 649.410: 100%|██████████| 57/57 [00:08<00:00,  6.74it/s]\n",
      "val loss: 676.300: 100%|██████████| 15/15 [00:00<00:00, 27.01it/s]\n"
     ]
    },
    {
     "name": "stdout",
     "output_type": "stream",
     "text": [
      "Weight saved: epoch 640\n",
      "Epoch 640\tTrain Loss: 605.712  Val Loss: 611.275\n",
      "\n"
     ]
    },
    {
     "name": "stderr",
     "output_type": "stream",
     "text": [
      "train loss: 650.302: 100%|██████████| 57/57 [00:08<00:00,  6.72it/s]\n",
      "val loss: 676.301: 100%|██████████| 15/15 [00:00<00:00, 26.70it/s]\n"
     ]
    },
    {
     "name": "stdout",
     "output_type": "stream",
     "text": [
      "Epoch 641\tTrain Loss: 605.727  Val Loss: 611.276\n",
      "\n"
     ]
    },
    {
     "name": "stderr",
     "output_type": "stream",
     "text": [
      "train loss: 577.848: 100%|██████████| 57/57 [00:08<00:00,  6.70it/s]\n",
      "val loss: 676.300: 100%|██████████| 15/15 [00:00<00:00, 26.40it/s]\n"
     ]
    },
    {
     "name": "stdout",
     "output_type": "stream",
     "text": [
      "Epoch 642\tTrain Loss: 604.485  Val Loss: 611.276\n",
      "\n"
     ]
    },
    {
     "name": "stderr",
     "output_type": "stream",
     "text": [
      "train loss: 614.682: 100%|██████████| 57/57 [00:08<00:00,  6.70it/s]\n",
      "val loss: 676.302: 100%|██████████| 15/15 [00:00<00:00, 27.02it/s]\n"
     ]
    },
    {
     "name": "stdout",
     "output_type": "stream",
     "text": [
      "Epoch 643\tTrain Loss: 605.116  Val Loss: 611.276\n",
      "\n"
     ]
    },
    {
     "name": "stderr",
     "output_type": "stream",
     "text": [
      "train loss: 598.363: 100%|██████████| 57/57 [00:08<00:00,  6.68it/s]\n",
      "val loss: 676.299: 100%|██████████| 15/15 [00:00<00:00, 26.51it/s]\n"
     ]
    },
    {
     "name": "stdout",
     "output_type": "stream",
     "text": [
      "Epoch 644\tTrain Loss: 604.837  Val Loss: 611.276\n",
      "\n"
     ]
    },
    {
     "name": "stderr",
     "output_type": "stream",
     "text": [
      "train loss: 636.941: 100%|██████████| 57/57 [00:08<00:00,  6.69it/s]\n",
      "val loss: 676.297: 100%|██████████| 15/15 [00:00<00:00, 26.54it/s]\n"
     ]
    },
    {
     "name": "stdout",
     "output_type": "stream",
     "text": [
      "Epoch 645\tTrain Loss: 605.497  Val Loss: 611.276\n",
      "\n"
     ]
    },
    {
     "name": "stderr",
     "output_type": "stream",
     "text": [
      "train loss: 575.312: 100%|██████████| 57/57 [00:08<00:00,  6.68it/s]\n",
      "val loss: 676.299: 100%|██████████| 15/15 [00:00<00:00, 26.48it/s]\n"
     ]
    },
    {
     "name": "stdout",
     "output_type": "stream",
     "text": [
      "Epoch 646\tTrain Loss: 604.441  Val Loss: 611.276\n",
      "\n"
     ]
    },
    {
     "name": "stderr",
     "output_type": "stream",
     "text": [
      "train loss: 619.856: 100%|██████████| 57/57 [00:08<00:00,  6.69it/s]\n",
      "val loss: 676.297: 100%|██████████| 15/15 [00:00<00:00, 26.75it/s]\n"
     ]
    },
    {
     "name": "stdout",
     "output_type": "stream",
     "text": [
      "Epoch 647\tTrain Loss: 605.204  Val Loss: 611.276\n",
      "\n"
     ]
    },
    {
     "name": "stderr",
     "output_type": "stream",
     "text": [
      "train loss: 591.263: 100%|██████████| 57/57 [00:08<00:00,  6.71it/s]\n",
      "val loss: 676.298: 100%|██████████| 15/15 [00:00<00:00, 27.17it/s]\n"
     ]
    },
    {
     "name": "stdout",
     "output_type": "stream",
     "text": [
      "Epoch 648\tTrain Loss: 604.714  Val Loss: 611.276\n",
      "\n"
     ]
    },
    {
     "name": "stderr",
     "output_type": "stream",
     "text": [
      "train loss: 596.166: 100%|██████████| 57/57 [00:08<00:00,  6.73it/s]\n",
      "val loss: 676.301: 100%|██████████| 15/15 [00:00<00:00, 26.92it/s]\n"
     ]
    },
    {
     "name": "stdout",
     "output_type": "stream",
     "text": [
      "Weight saved: epoch 649\n",
      "Epoch 649\tTrain Loss: 604.798  Val Loss: 611.275\n",
      "\n"
     ]
    },
    {
     "name": "stderr",
     "output_type": "stream",
     "text": [
      "train loss: 641.373: 100%|██████████| 57/57 [00:08<00:00,  6.77it/s]\n",
      "val loss: 676.298: 100%|██████████| 15/15 [00:00<00:00, 26.83it/s]\n"
     ]
    },
    {
     "name": "stdout",
     "output_type": "stream",
     "text": [
      "Weight saved: epoch 650\n",
      "Epoch 650\tTrain Loss: 605.573  Val Loss: 611.275\n",
      "\n"
     ]
    },
    {
     "name": "stderr",
     "output_type": "stream",
     "text": [
      "train loss: 530.829: 100%|██████████| 57/57 [00:08<00:00,  6.73it/s]\n",
      "val loss: 676.300: 100%|██████████| 15/15 [00:00<00:00, 27.19it/s]\n"
     ]
    },
    {
     "name": "stdout",
     "output_type": "stream",
     "text": [
      "Weight saved: epoch 651\n",
      "Epoch 651\tTrain Loss: 603.679  Val Loss: 611.275\n",
      "\n"
     ]
    },
    {
     "name": "stderr",
     "output_type": "stream",
     "text": [
      "train loss: 649.696: 100%|██████████| 57/57 [00:08<00:00,  6.75it/s]\n",
      "val loss: 676.299: 100%|██████████| 15/15 [00:00<00:00, 26.86it/s]\n"
     ]
    },
    {
     "name": "stdout",
     "output_type": "stream",
     "text": [
      "Weight saved: epoch 652\n",
      "Epoch 652\tTrain Loss: 605.715  Val Loss: 611.274\n",
      "\n"
     ]
    },
    {
     "name": "stderr",
     "output_type": "stream",
     "text": [
      "train loss: 605.280: 100%|██████████| 57/57 [00:08<00:00,  6.73it/s]\n",
      "val loss: 676.295: 100%|██████████| 15/15 [00:00<00:00, 27.34it/s]\n"
     ]
    },
    {
     "name": "stdout",
     "output_type": "stream",
     "text": [
      "Epoch 653\tTrain Loss: 604.954  Val Loss: 611.275\n",
      "\n"
     ]
    },
    {
     "name": "stderr",
     "output_type": "stream",
     "text": [
      "train loss: 627.845: 100%|██████████| 57/57 [00:08<00:00,  6.75it/s]\n",
      "val loss: 676.300: 100%|██████████| 15/15 [00:00<00:00, 27.04it/s]\n"
     ]
    },
    {
     "name": "stdout",
     "output_type": "stream",
     "text": [
      "Epoch 654\tTrain Loss: 605.341  Val Loss: 611.275\n",
      "\n"
     ]
    },
    {
     "name": "stderr",
     "output_type": "stream",
     "text": [
      "train loss: 619.734: 100%|██████████| 57/57 [00:08<00:00,  6.75it/s]\n",
      "val loss: 676.298: 100%|██████████| 15/15 [00:00<00:00, 26.98it/s]\n"
     ]
    },
    {
     "name": "stdout",
     "output_type": "stream",
     "text": [
      "Epoch 655\tTrain Loss: 605.202  Val Loss: 611.275\n",
      "\n"
     ]
    },
    {
     "name": "stderr",
     "output_type": "stream",
     "text": [
      "train loss: 604.077: 100%|██████████| 57/57 [00:08<00:00,  6.76it/s]\n",
      "val loss: 676.299: 100%|██████████| 15/15 [00:00<00:00, 27.00it/s]\n"
     ]
    },
    {
     "name": "stdout",
     "output_type": "stream",
     "text": [
      "Weight saved: epoch 656\n",
      "Epoch 656\tTrain Loss: 604.933  Val Loss: 611.274\n",
      "\n"
     ]
    },
    {
     "name": "stderr",
     "output_type": "stream",
     "text": [
      "train loss: 608.812: 100%|██████████| 57/57 [00:08<00:00,  6.76it/s]\n",
      "val loss: 676.299: 100%|██████████| 15/15 [00:00<00:00, 26.73it/s]\n"
     ]
    },
    {
     "name": "stdout",
     "output_type": "stream",
     "text": [
      "Epoch 657\tTrain Loss: 605.014  Val Loss: 611.274\n",
      "\n"
     ]
    },
    {
     "name": "stderr",
     "output_type": "stream",
     "text": [
      "train loss: 646.251: 100%|██████████| 57/57 [00:08<00:00,  6.75it/s]\n",
      "val loss: 676.296: 100%|██████████| 15/15 [00:00<00:00, 27.13it/s]\n"
     ]
    },
    {
     "name": "stdout",
     "output_type": "stream",
     "text": [
      "Weight saved: epoch 658\n",
      "Epoch 658\tTrain Loss: 605.656  Val Loss: 611.274\n",
      "\n"
     ]
    },
    {
     "name": "stderr",
     "output_type": "stream",
     "text": [
      "train loss: 597.274: 100%|██████████| 57/57 [00:08<00:00,  6.74it/s]\n",
      "val loss: 676.298: 100%|██████████| 15/15 [00:00<00:00, 27.33it/s]\n"
     ]
    },
    {
     "name": "stdout",
     "output_type": "stream",
     "text": [
      "Epoch 659\tTrain Loss: 604.816  Val Loss: 611.274\n",
      "\n"
     ]
    },
    {
     "name": "stderr",
     "output_type": "stream",
     "text": [
      "train loss: 624.171: 100%|██████████| 57/57 [00:08<00:00,  6.75it/s]\n",
      "val loss: 676.300: 100%|██████████| 15/15 [00:00<00:00, 26.87it/s]\n"
     ]
    },
    {
     "name": "stdout",
     "output_type": "stream",
     "text": [
      "Epoch 660\tTrain Loss: 605.277  Val Loss: 611.275\n",
      "\n"
     ]
    },
    {
     "name": "stderr",
     "output_type": "stream",
     "text": [
      "train loss: 616.304: 100%|██████████| 57/57 [00:08<00:00,  6.74it/s]\n",
      "val loss: 676.300: 100%|██████████| 15/15 [00:00<00:00, 27.18it/s]\n"
     ]
    },
    {
     "name": "stdout",
     "output_type": "stream",
     "text": [
      "Epoch 661\tTrain Loss: 605.142  Val Loss: 611.275\n",
      "\n"
     ]
    },
    {
     "name": "stderr",
     "output_type": "stream",
     "text": [
      "train loss: 644.616: 100%|██████████| 57/57 [00:08<00:00,  6.74it/s]\n",
      "val loss: 676.300: 100%|██████████| 15/15 [00:00<00:00, 26.91it/s]\n"
     ]
    },
    {
     "name": "stdout",
     "output_type": "stream",
     "text": [
      "Epoch 662\tTrain Loss: 605.627  Val Loss: 611.275\n",
      "\n"
     ]
    },
    {
     "name": "stderr",
     "output_type": "stream",
     "text": [
      "train loss: 607.964: 100%|██████████| 57/57 [00:08<00:00,  6.74it/s]\n",
      "val loss: 676.305: 100%|██████████| 15/15 [00:00<00:00, 27.13it/s]\n"
     ]
    },
    {
     "name": "stdout",
     "output_type": "stream",
     "text": [
      "Epoch 663\tTrain Loss: 604.999  Val Loss: 611.275\n",
      "\n"
     ]
    },
    {
     "name": "stderr",
     "output_type": "stream",
     "text": [
      "train loss: 598.140: 100%|██████████| 57/57 [00:08<00:00,  6.74it/s]\n",
      "val loss: 676.305: 100%|██████████| 15/15 [00:00<00:00, 26.96it/s]\n"
     ]
    },
    {
     "name": "stdout",
     "output_type": "stream",
     "text": [
      "Epoch 664\tTrain Loss: 604.831  Val Loss: 611.275\n",
      "\n"
     ]
    },
    {
     "name": "stderr",
     "output_type": "stream",
     "text": [
      "train loss: 634.359: 100%|██████████| 57/57 [00:08<00:00,  6.73it/s]\n",
      "val loss: 676.304: 100%|██████████| 15/15 [00:00<00:00, 26.27it/s]\n"
     ]
    },
    {
     "name": "stdout",
     "output_type": "stream",
     "text": [
      "Epoch 665\tTrain Loss: 605.451  Val Loss: 611.275\n",
      "\n"
     ]
    },
    {
     "name": "stderr",
     "output_type": "stream",
     "text": [
      "train loss: 602.728: 100%|██████████| 57/57 [00:08<00:00,  6.72it/s]\n",
      "val loss: 676.305: 100%|██████████| 15/15 [00:00<00:00, 27.30it/s]\n"
     ]
    },
    {
     "name": "stdout",
     "output_type": "stream",
     "text": [
      "Epoch 666\tTrain Loss: 604.909  Val Loss: 611.274\n",
      "\n"
     ]
    },
    {
     "name": "stderr",
     "output_type": "stream",
     "text": [
      "train loss: 565.104: 100%|██████████| 57/57 [00:08<00:00,  6.76it/s]\n",
      "val loss: 676.304: 100%|██████████| 15/15 [00:00<00:00, 27.04it/s]\n"
     ]
    },
    {
     "name": "stdout",
     "output_type": "stream",
     "text": [
      "Epoch 667\tTrain Loss: 604.265  Val Loss: 611.274\n",
      "\n"
     ]
    },
    {
     "name": "stderr",
     "output_type": "stream",
     "text": [
      "train loss: 592.204: 100%|██████████| 57/57 [00:08<00:00,  6.74it/s]\n",
      "val loss: 676.302: 100%|██████████| 15/15 [00:00<00:00, 26.59it/s]\n"
     ]
    },
    {
     "name": "stdout",
     "output_type": "stream",
     "text": [
      "Epoch 668\tTrain Loss: 604.729  Val Loss: 611.274\n",
      "\n"
     ]
    },
    {
     "name": "stderr",
     "output_type": "stream",
     "text": [
      "train loss: 609.004: 100%|██████████| 57/57 [00:08<00:00,  6.71it/s]\n",
      "val loss: 676.300: 100%|██████████| 15/15 [00:00<00:00, 26.76it/s]\n"
     ]
    },
    {
     "name": "stdout",
     "output_type": "stream",
     "text": [
      "Weight saved: epoch 669\n",
      "Epoch 669\tTrain Loss: 605.017  Val Loss: 611.274\n",
      "\n"
     ]
    },
    {
     "name": "stderr",
     "output_type": "stream",
     "text": [
      "train loss: 652.801: 100%|██████████| 57/57 [00:08<00:00,  6.71it/s]\n",
      "val loss: 676.301: 100%|██████████| 15/15 [00:00<00:00, 26.66it/s]\n"
     ]
    },
    {
     "name": "stdout",
     "output_type": "stream",
     "text": [
      "Epoch 670\tTrain Loss: 605.767  Val Loss: 611.274\n",
      "\n"
     ]
    },
    {
     "name": "stderr",
     "output_type": "stream",
     "text": [
      "train loss: 581.766: 100%|██████████| 57/57 [00:08<00:00,  6.63it/s]\n",
      "val loss: 676.299: 100%|██████████| 15/15 [00:00<00:00, 26.65it/s]\n"
     ]
    },
    {
     "name": "stdout",
     "output_type": "stream",
     "text": [
      "Epoch 671\tTrain Loss: 604.550  Val Loss: 611.274\n",
      "\n"
     ]
    },
    {
     "name": "stderr",
     "output_type": "stream",
     "text": [
      "train loss: 586.558: 100%|██████████| 57/57 [00:08<00:00,  6.85it/s]\n",
      "val loss: 676.302: 100%|██████████| 15/15 [00:00<00:00, 27.79it/s]\n"
     ]
    },
    {
     "name": "stdout",
     "output_type": "stream",
     "text": [
      "Weight saved: epoch 672\n",
      "Epoch 672\tTrain Loss: 604.632  Val Loss: 611.274\n",
      "\n"
     ]
    },
    {
     "name": "stderr",
     "output_type": "stream",
     "text": [
      "train loss: 567.785: 100%|██████████| 57/57 [00:08<00:00,  6.95it/s]\n",
      "val loss: 676.298: 100%|██████████| 15/15 [00:00<00:00, 28.12it/s]\n"
     ]
    },
    {
     "name": "stdout",
     "output_type": "stream",
     "text": [
      "Weight saved: epoch 673\n",
      "Epoch 673\tTrain Loss: 604.310  Val Loss: 611.273\n",
      "\n"
     ]
    },
    {
     "name": "stderr",
     "output_type": "stream",
     "text": [
      "train loss: 602.309: 100%|██████████| 57/57 [00:08<00:00,  6.94it/s]\n",
      "val loss: 676.298: 100%|██████████| 15/15 [00:00<00:00, 27.48it/s]\n"
     ]
    },
    {
     "name": "stdout",
     "output_type": "stream",
     "text": [
      "Weight saved: epoch 674\n",
      "Epoch 674\tTrain Loss: 604.901  Val Loss: 611.273\n",
      "\n"
     ]
    },
    {
     "name": "stderr",
     "output_type": "stream",
     "text": [
      "train loss: 552.653: 100%|██████████| 57/57 [00:08<00:00,  6.87it/s]\n",
      "val loss: 676.300: 100%|██████████| 15/15 [00:00<00:00, 27.63it/s]\n"
     ]
    },
    {
     "name": "stdout",
     "output_type": "stream",
     "text": [
      "Epoch 675\tTrain Loss: 604.050  Val Loss: 611.274\n",
      "\n"
     ]
    },
    {
     "name": "stderr",
     "output_type": "stream",
     "text": [
      "train loss: 588.957: 100%|██████████| 57/57 [00:08<00:00,  6.89it/s]\n",
      "val loss: 676.298: 100%|██████████| 15/15 [00:00<00:00, 27.17it/s]\n"
     ]
    },
    {
     "name": "stdout",
     "output_type": "stream",
     "text": [
      "Weight saved: epoch 676\n",
      "Epoch 676\tTrain Loss: 604.672  Val Loss: 611.273\n",
      "\n"
     ]
    },
    {
     "name": "stderr",
     "output_type": "stream",
     "text": [
      "train loss: 619.012: 100%|██████████| 57/57 [00:08<00:00,  6.94it/s]\n",
      "val loss: 676.298: 100%|██████████| 15/15 [00:00<00:00, 27.99it/s]\n"
     ]
    },
    {
     "name": "stdout",
     "output_type": "stream",
     "text": [
      "Weight saved: epoch 677\n",
      "Epoch 677\tTrain Loss: 605.187  Val Loss: 611.273\n",
      "\n"
     ]
    },
    {
     "name": "stderr",
     "output_type": "stream",
     "text": [
      "train loss: 692.479: 100%|██████████| 57/57 [00:08<00:00,  6.92it/s]\n",
      "val loss: 676.300: 100%|██████████| 15/15 [00:00<00:00, 27.71it/s]\n"
     ]
    },
    {
     "name": "stdout",
     "output_type": "stream",
     "text": [
      "Epoch 678\tTrain Loss: 606.446  Val Loss: 611.273\n",
      "\n"
     ]
    },
    {
     "name": "stderr",
     "output_type": "stream",
     "text": [
      "train loss: 619.642: 100%|██████████| 57/57 [00:08<00:00,  6.96it/s]\n",
      "val loss: 676.305: 100%|██████████| 15/15 [00:00<00:00, 27.95it/s]\n"
     ]
    },
    {
     "name": "stdout",
     "output_type": "stream",
     "text": [
      "Epoch 679\tTrain Loss: 605.198  Val Loss: 611.273\n",
      "\n"
     ]
    },
    {
     "name": "stderr",
     "output_type": "stream",
     "text": [
      "train loss: 637.214: 100%|██████████| 57/57 [00:08<00:00,  6.95it/s]\n",
      "val loss: 676.305: 100%|██████████| 15/15 [00:00<00:00, 27.63it/s]\n"
     ]
    },
    {
     "name": "stdout",
     "output_type": "stream",
     "text": [
      "Epoch 680\tTrain Loss: 605.499  Val Loss: 611.273\n",
      "\n"
     ]
    },
    {
     "name": "stderr",
     "output_type": "stream",
     "text": [
      "train loss: 654.910: 100%|██████████| 57/57 [00:08<00:00,  6.88it/s]\n",
      "val loss: 676.303: 100%|██████████| 15/15 [00:00<00:00, 27.58it/s]\n"
     ]
    },
    {
     "name": "stdout",
     "output_type": "stream",
     "text": [
      "Weight saved: epoch 681\n",
      "Epoch 681\tTrain Loss: 605.802  Val Loss: 611.273\n",
      "\n"
     ]
    },
    {
     "name": "stderr",
     "output_type": "stream",
     "text": [
      "train loss: 571.158: 100%|██████████| 57/57 [00:08<00:00,  6.90it/s]\n",
      "val loss: 676.304: 100%|██████████| 15/15 [00:00<00:00, 27.56it/s]\n"
     ]
    },
    {
     "name": "stdout",
     "output_type": "stream",
     "text": [
      "Epoch 682\tTrain Loss: 604.367  Val Loss: 611.273\n",
      "\n"
     ]
    },
    {
     "name": "stderr",
     "output_type": "stream",
     "text": [
      "train loss: 610.834: 100%|██████████| 57/57 [00:08<00:00,  6.91it/s]\n",
      "val loss: 676.305: 100%|██████████| 15/15 [00:00<00:00, 27.55it/s]\n"
     ]
    },
    {
     "name": "stdout",
     "output_type": "stream",
     "text": [
      "Epoch 683\tTrain Loss: 605.046  Val Loss: 611.273\n",
      "\n"
     ]
    },
    {
     "name": "stderr",
     "output_type": "stream",
     "text": [
      "train loss: 545.112: 100%|██████████| 57/57 [00:08<00:00,  6.90it/s]\n",
      "val loss: 676.304: 100%|██████████| 15/15 [00:00<00:00, 27.53it/s]\n"
     ]
    },
    {
     "name": "stdout",
     "output_type": "stream",
     "text": [
      "Epoch 684\tTrain Loss: 603.920  Val Loss: 611.273\n",
      "\n"
     ]
    },
    {
     "name": "stderr",
     "output_type": "stream",
     "text": [
      "train loss: 700.922: 100%|██████████| 57/57 [00:08<00:00,  6.94it/s]\n",
      "val loss: 676.300: 100%|██████████| 15/15 [00:00<00:00, 26.95it/s]\n"
     ]
    },
    {
     "name": "stdout",
     "output_type": "stream",
     "text": [
      "Epoch 685\tTrain Loss: 606.590  Val Loss: 611.273\n",
      "\n"
     ]
    },
    {
     "name": "stderr",
     "output_type": "stream",
     "text": [
      "train loss: 600.951: 100%|██████████| 57/57 [00:08<00:00,  6.93it/s]\n",
      "val loss: 676.304: 100%|██████████| 15/15 [00:00<00:00, 26.85it/s]\n"
     ]
    },
    {
     "name": "stdout",
     "output_type": "stream",
     "text": [
      "Epoch 686\tTrain Loss: 604.877  Val Loss: 611.273\n",
      "\n"
     ]
    },
    {
     "name": "stderr",
     "output_type": "stream",
     "text": [
      "train loss: 618.442: 100%|██████████| 57/57 [00:08<00:00,  6.97it/s]\n",
      "val loss: 676.303: 100%|██████████| 15/15 [00:00<00:00, 27.67it/s]\n"
     ]
    },
    {
     "name": "stdout",
     "output_type": "stream",
     "text": [
      "Weight saved: epoch 687\n",
      "Epoch 687\tTrain Loss: 605.176  Val Loss: 611.272\n",
      "\n"
     ]
    },
    {
     "name": "stderr",
     "output_type": "stream",
     "text": [
      "train loss: 632.079: 100%|██████████| 57/57 [00:08<00:00,  6.97it/s]\n",
      "val loss: 676.302: 100%|██████████| 15/15 [00:00<00:00, 27.95it/s]\n"
     ]
    },
    {
     "name": "stdout",
     "output_type": "stream",
     "text": [
      "Weight saved: epoch 688\n",
      "Epoch 688\tTrain Loss: 605.410  Val Loss: 611.272\n",
      "\n"
     ]
    },
    {
     "name": "stderr",
     "output_type": "stream",
     "text": [
      "train loss: 613.739: 100%|██████████| 57/57 [00:08<00:00,  6.86it/s]\n",
      "val loss: 676.303: 100%|██████████| 15/15 [00:00<00:00, 28.00it/s]\n"
     ]
    },
    {
     "name": "stdout",
     "output_type": "stream",
     "text": [
      "Epoch 689\tTrain Loss: 605.096  Val Loss: 611.272\n",
      "\n"
     ]
    },
    {
     "name": "stderr",
     "output_type": "stream",
     "text": [
      "train loss: 585.203: 100%|██████████| 57/57 [00:08<00:00,  6.96it/s]\n",
      "val loss: 676.303: 100%|██████████| 15/15 [00:00<00:00, 27.40it/s]\n"
     ]
    },
    {
     "name": "stdout",
     "output_type": "stream",
     "text": [
      "Epoch 690\tTrain Loss: 604.607  Val Loss: 611.272\n",
      "\n"
     ]
    },
    {
     "name": "stderr",
     "output_type": "stream",
     "text": [
      "train loss: 612.276: 100%|██████████| 57/57 [00:08<00:00,  6.93it/s]\n",
      "val loss: 676.302: 100%|██████████| 15/15 [00:00<00:00, 27.90it/s]\n"
     ]
    },
    {
     "name": "stdout",
     "output_type": "stream",
     "text": [
      "Epoch 691\tTrain Loss: 605.070  Val Loss: 611.273\n",
      "\n"
     ]
    },
    {
     "name": "stderr",
     "output_type": "stream",
     "text": [
      "train loss: 588.841: 100%|██████████| 57/57 [00:08<00:00,  6.91it/s]\n",
      "val loss: 676.303: 100%|██████████| 15/15 [00:00<00:00, 27.65it/s]\n"
     ]
    },
    {
     "name": "stdout",
     "output_type": "stream",
     "text": [
      "Epoch 692\tTrain Loss: 604.669  Val Loss: 611.272\n",
      "\n"
     ]
    },
    {
     "name": "stderr",
     "output_type": "stream",
     "text": [
      "train loss: 666.305: 100%|██████████| 57/57 [00:08<00:00,  6.97it/s]\n",
      "val loss: 676.300: 100%|██████████| 15/15 [00:00<00:00, 28.07it/s]\n"
     ]
    },
    {
     "name": "stdout",
     "output_type": "stream",
     "text": [
      "Weight saved: epoch 693\n",
      "Epoch 693\tTrain Loss: 605.996  Val Loss: 611.272\n",
      "\n"
     ]
    },
    {
     "name": "stderr",
     "output_type": "stream",
     "text": [
      "train loss: 660.430: 100%|██████████| 57/57 [00:08<00:00,  6.98it/s]\n",
      "val loss: 676.302: 100%|██████████| 15/15 [00:00<00:00, 27.75it/s]\n"
     ]
    },
    {
     "name": "stdout",
     "output_type": "stream",
     "text": [
      "Epoch 694\tTrain Loss: 605.895  Val Loss: 611.272\n",
      "\n"
     ]
    },
    {
     "name": "stderr",
     "output_type": "stream",
     "text": [
      "train loss: 601.874: 100%|██████████| 57/57 [00:08<00:00,  6.99it/s]\n",
      "val loss: 676.303: 100%|██████████| 15/15 [00:00<00:00, 28.08it/s]\n"
     ]
    },
    {
     "name": "stdout",
     "output_type": "stream",
     "text": [
      "Epoch 695\tTrain Loss: 604.892  Val Loss: 611.272\n",
      "\n"
     ]
    },
    {
     "name": "stderr",
     "output_type": "stream",
     "text": [
      "train loss: 611.764: 100%|██████████| 57/57 [00:08<00:00,  6.97it/s]\n",
      "val loss: 676.302: 100%|██████████| 15/15 [00:00<00:00, 27.73it/s]\n"
     ]
    },
    {
     "name": "stdout",
     "output_type": "stream",
     "text": [
      "Epoch 696\tTrain Loss: 605.061  Val Loss: 611.272\n",
      "\n"
     ]
    },
    {
     "name": "stderr",
     "output_type": "stream",
     "text": [
      "train loss: 624.613: 100%|██████████| 57/57 [00:08<00:00,  6.98it/s]\n",
      "val loss: 676.300: 100%|██████████| 15/15 [00:00<00:00, 27.45it/s]\n"
     ]
    },
    {
     "name": "stdout",
     "output_type": "stream",
     "text": [
      "Epoch 697\tTrain Loss: 605.281  Val Loss: 611.272\n",
      "\n"
     ]
    },
    {
     "name": "stderr",
     "output_type": "stream",
     "text": [
      "train loss: 629.703: 100%|██████████| 57/57 [00:08<00:00,  6.98it/s]\n",
      "val loss: 676.301: 100%|██████████| 15/15 [00:00<00:00, 27.86it/s]\n"
     ]
    },
    {
     "name": "stdout",
     "output_type": "stream",
     "text": [
      "Epoch 698\tTrain Loss: 605.368  Val Loss: 611.272\n",
      "\n"
     ]
    },
    {
     "name": "stderr",
     "output_type": "stream",
     "text": [
      "train loss: 531.612: 100%|██████████| 57/57 [00:08<00:00,  6.97it/s]\n",
      "val loss: 676.301: 100%|██████████| 15/15 [00:00<00:00, 27.95it/s]\n"
     ]
    },
    {
     "name": "stdout",
     "output_type": "stream",
     "text": [
      "Epoch 699\tTrain Loss: 603.688  Val Loss: 611.272\n",
      "\n"
     ]
    },
    {
     "name": "stderr",
     "output_type": "stream",
     "text": [
      "train loss: 648.026: 100%|██████████| 57/57 [00:08<00:00,  6.97it/s]\n",
      "val loss: 676.303: 100%|██████████| 15/15 [00:00<00:00, 27.39it/s]\n"
     ]
    },
    {
     "name": "stdout",
     "output_type": "stream",
     "text": [
      "Weight saved: epoch 700\n",
      "Epoch 700\tTrain Loss: 605.682  Val Loss: 611.272\n",
      "\n"
     ]
    },
    {
     "name": "stderr",
     "output_type": "stream",
     "text": [
      "train loss: 603.829: 100%|██████████| 57/57 [00:08<00:00,  6.97it/s]\n",
      "val loss: 676.302: 100%|██████████| 15/15 [00:00<00:00, 26.88it/s]\n"
     ]
    },
    {
     "name": "stdout",
     "output_type": "stream",
     "text": [
      "Weight saved: epoch 701\n",
      "Epoch 701\tTrain Loss: 604.925  Val Loss: 611.271\n",
      "\n"
     ]
    },
    {
     "name": "stderr",
     "output_type": "stream",
     "text": [
      "train loss: 591.483: 100%|██████████| 57/57 [00:08<00:00,  6.95it/s]\n",
      "val loss: 676.300: 100%|██████████| 15/15 [00:00<00:00, 27.42it/s]\n"
     ]
    },
    {
     "name": "stdout",
     "output_type": "stream",
     "text": [
      "Weight saved: epoch 702\n",
      "Epoch 702\tTrain Loss: 604.713  Val Loss: 611.271\n",
      "\n"
     ]
    },
    {
     "name": "stderr",
     "output_type": "stream",
     "text": [
      "train loss: 625.489: 100%|██████████| 57/57 [00:08<00:00,  6.97it/s]\n",
      "val loss: 676.303: 100%|██████████| 15/15 [00:00<00:00, 27.82it/s]\n"
     ]
    },
    {
     "name": "stdout",
     "output_type": "stream",
     "text": [
      "Epoch 703\tTrain Loss: 605.296  Val Loss: 611.272\n",
      "\n"
     ]
    },
    {
     "name": "stderr",
     "output_type": "stream",
     "text": [
      "train loss: 648.370: 100%|██████████| 57/57 [00:08<00:00,  6.97it/s]\n",
      "val loss: 676.307: 100%|██████████| 15/15 [00:00<00:00, 28.37it/s]\n"
     ]
    },
    {
     "name": "stdout",
     "output_type": "stream",
     "text": [
      "Epoch 704\tTrain Loss: 605.688  Val Loss: 611.271\n",
      "\n"
     ]
    },
    {
     "name": "stderr",
     "output_type": "stream",
     "text": [
      "train loss: 627.429: 100%|██████████| 57/57 [00:08<00:00,  6.99it/s]\n",
      "val loss: 676.305: 100%|██████████| 15/15 [00:00<00:00, 28.00it/s]\n"
     ]
    },
    {
     "name": "stdout",
     "output_type": "stream",
     "text": [
      "Weight saved: epoch 705\n",
      "Epoch 705\tTrain Loss: 605.329  Val Loss: 611.271\n",
      "\n"
     ]
    },
    {
     "name": "stderr",
     "output_type": "stream",
     "text": [
      "train loss: 598.660: 100%|██████████| 57/57 [00:08<00:00,  7.00it/s]\n",
      "val loss: 676.304: 100%|██████████| 15/15 [00:00<00:00, 27.81it/s]\n"
     ]
    },
    {
     "name": "stdout",
     "output_type": "stream",
     "text": [
      "Epoch 706\tTrain Loss: 604.836  Val Loss: 611.271\n",
      "\n"
     ]
    },
    {
     "name": "stderr",
     "output_type": "stream",
     "text": [
      "train loss: 584.132: 100%|██████████| 57/57 [00:08<00:00,  6.99it/s]\n",
      "val loss: 676.307: 100%|██████████| 15/15 [00:00<00:00, 27.97it/s]\n"
     ]
    },
    {
     "name": "stdout",
     "output_type": "stream",
     "text": [
      "Epoch 707\tTrain Loss: 604.587  Val Loss: 611.271\n",
      "\n"
     ]
    },
    {
     "name": "stderr",
     "output_type": "stream",
     "text": [
      "train loss: 606.123: 100%|██████████| 57/57 [00:08<00:00,  6.99it/s]\n",
      "val loss: 676.306: 100%|██████████| 15/15 [00:00<00:00, 27.88it/s]\n"
     ]
    },
    {
     "name": "stdout",
     "output_type": "stream",
     "text": [
      "Epoch 708\tTrain Loss: 604.964  Val Loss: 611.271\n",
      "\n"
     ]
    },
    {
     "name": "stderr",
     "output_type": "stream",
     "text": [
      "train loss: 604.584: 100%|██████████| 57/57 [00:08<00:00,  7.00it/s]\n",
      "val loss: 676.307: 100%|██████████| 15/15 [00:00<00:00, 28.36it/s]\n"
     ]
    },
    {
     "name": "stdout",
     "output_type": "stream",
     "text": [
      "Epoch 709\tTrain Loss: 604.937  Val Loss: 611.271\n",
      "\n"
     ]
    },
    {
     "name": "stderr",
     "output_type": "stream",
     "text": [
      "train loss: 564.202: 100%|██████████| 57/57 [00:08<00:00,  6.98it/s]\n",
      "val loss: 676.303: 100%|██████████| 15/15 [00:00<00:00, 28.23it/s]\n"
     ]
    },
    {
     "name": "stdout",
     "output_type": "stream",
     "text": [
      "Epoch 710\tTrain Loss: 604.245  Val Loss: 611.272\n",
      "\n"
     ]
    },
    {
     "name": "stderr",
     "output_type": "stream",
     "text": [
      "train loss: 681.087: 100%|██████████| 57/57 [00:08<00:00,  6.85it/s]\n",
      "val loss: 676.305: 100%|██████████| 15/15 [00:00<00:00, 27.73it/s]\n"
     ]
    },
    {
     "name": "stdout",
     "output_type": "stream",
     "text": [
      "Weight saved: epoch 711\n",
      "Epoch 711\tTrain Loss: 606.247  Val Loss: 611.271\n",
      "\n"
     ]
    },
    {
     "name": "stderr",
     "output_type": "stream",
     "text": [
      "train loss: 638.200: 100%|██████████| 57/57 [00:08<00:00,  6.81it/s]\n",
      "val loss: 676.304: 100%|██████████| 15/15 [00:00<00:00, 27.19it/s]\n"
     ]
    },
    {
     "name": "stdout",
     "output_type": "stream",
     "text": [
      "Epoch 712\tTrain Loss: 605.513  Val Loss: 611.271\n",
      "\n"
     ]
    },
    {
     "name": "stderr",
     "output_type": "stream",
     "text": [
      "train loss: 593.831: 100%|██████████| 57/57 [00:08<00:00,  6.84it/s]\n",
      "val loss: 676.303: 100%|██████████| 15/15 [00:00<00:00, 27.28it/s]\n"
     ]
    },
    {
     "name": "stdout",
     "output_type": "stream",
     "text": [
      "Weight saved: epoch 713\n",
      "Epoch 713\tTrain Loss: 604.752  Val Loss: 611.271\n",
      "\n"
     ]
    },
    {
     "name": "stderr",
     "output_type": "stream",
     "text": [
      "train loss: 594.753: 100%|██████████| 57/57 [00:08<00:00,  6.83it/s]\n",
      "val loss: 676.305: 100%|██████████| 15/15 [00:00<00:00, 27.40it/s]\n"
     ]
    },
    {
     "name": "stdout",
     "output_type": "stream",
     "text": [
      "Epoch 714\tTrain Loss: 604.768  Val Loss: 611.271\n",
      "\n"
     ]
    },
    {
     "name": "stderr",
     "output_type": "stream",
     "text": [
      "train loss: 614.915: 100%|██████████| 57/57 [00:08<00:00,  6.85it/s]\n",
      "val loss: 676.305: 100%|██████████| 15/15 [00:00<00:00, 27.57it/s]\n"
     ]
    },
    {
     "name": "stdout",
     "output_type": "stream",
     "text": [
      "Weight saved: epoch 715\n",
      "Epoch 715\tTrain Loss: 605.113  Val Loss: 611.270\n",
      "\n"
     ]
    },
    {
     "name": "stderr",
     "output_type": "stream",
     "text": [
      "train loss: 685.029: 100%|██████████| 57/57 [00:08<00:00,  6.85it/s]\n",
      "val loss: 676.305: 100%|██████████| 15/15 [00:00<00:00, 27.67it/s]\n"
     ]
    },
    {
     "name": "stdout",
     "output_type": "stream",
     "text": [
      "Epoch 716\tTrain Loss: 606.314  Val Loss: 611.271\n",
      "\n"
     ]
    },
    {
     "name": "stderr",
     "output_type": "stream",
     "text": [
      "train loss: 596.129: 100%|██████████| 57/57 [00:08<00:00,  6.86it/s]\n",
      "val loss: 676.305: 100%|██████████| 15/15 [00:00<00:00, 27.56it/s]\n"
     ]
    },
    {
     "name": "stdout",
     "output_type": "stream",
     "text": [
      "Epoch 717\tTrain Loss: 604.791  Val Loss: 611.271\n",
      "\n"
     ]
    },
    {
     "name": "stderr",
     "output_type": "stream",
     "text": [
      "train loss: 647.793: 100%|██████████| 57/57 [00:08<00:00,  6.85it/s]\n",
      "val loss: 676.301: 100%|██████████| 15/15 [00:00<00:00, 27.16it/s]\n"
     ]
    },
    {
     "name": "stdout",
     "output_type": "stream",
     "text": [
      "Epoch 718\tTrain Loss: 605.676  Val Loss: 611.271\n",
      "\n"
     ]
    },
    {
     "name": "stderr",
     "output_type": "stream",
     "text": [
      "train loss: 572.659: 100%|██████████| 57/57 [00:08<00:00,  6.84it/s]\n",
      "val loss: 676.304: 100%|██████████| 15/15 [00:00<00:00, 27.24it/s]\n"
     ]
    },
    {
     "name": "stdout",
     "output_type": "stream",
     "text": [
      "Epoch 719\tTrain Loss: 604.389  Val Loss: 611.271\n",
      "\n"
     ]
    },
    {
     "name": "stderr",
     "output_type": "stream",
     "text": [
      "train loss: 526.795: 100%|██████████| 57/57 [00:08<00:00,  6.84it/s]\n",
      "val loss: 676.308: 100%|██████████| 15/15 [00:00<00:00, 27.68it/s]\n"
     ]
    },
    {
     "name": "stdout",
     "output_type": "stream",
     "text": [
      "Epoch 720\tTrain Loss: 603.603  Val Loss: 611.271\n",
      "\n"
     ]
    },
    {
     "name": "stderr",
     "output_type": "stream",
     "text": [
      "train loss: 602.869: 100%|██████████| 57/57 [00:08<00:00,  6.81it/s]\n",
      "val loss: 676.307: 100%|██████████| 15/15 [00:00<00:00, 27.21it/s]\n"
     ]
    },
    {
     "name": "stdout",
     "output_type": "stream",
     "text": [
      "Epoch 721\tTrain Loss: 604.906  Val Loss: 611.271\n",
      "\n"
     ]
    },
    {
     "name": "stderr",
     "output_type": "stream",
     "text": [
      "train loss: 596.342: 100%|██████████| 57/57 [00:08<00:00,  6.80it/s]\n",
      "val loss: 676.306: 100%|██████████| 15/15 [00:00<00:00, 26.65it/s]\n"
     ]
    },
    {
     "name": "stdout",
     "output_type": "stream",
     "text": [
      "Epoch 722\tTrain Loss: 604.794  Val Loss: 611.271\n",
      "\n"
     ]
    },
    {
     "name": "stderr",
     "output_type": "stream",
     "text": [
      "train loss: 580.836: 100%|██████████| 57/57 [00:08<00:00,  6.82it/s]\n",
      "val loss: 676.306: 100%|██████████| 15/15 [00:00<00:00, 27.23it/s]\n"
     ]
    },
    {
     "name": "stdout",
     "output_type": "stream",
     "text": [
      "Epoch 723\tTrain Loss: 604.529  Val Loss: 611.271\n",
      "\n"
     ]
    },
    {
     "name": "stderr",
     "output_type": "stream",
     "text": [
      "train loss: 614.893: 100%|██████████| 57/57 [00:08<00:00,  6.80it/s]\n",
      "val loss: 676.302: 100%|██████████| 15/15 [00:00<00:00, 27.05it/s]\n"
     ]
    },
    {
     "name": "stdout",
     "output_type": "stream",
     "text": [
      "Weight saved: epoch 724\n",
      "Epoch 724\tTrain Loss: 605.112  Val Loss: 611.270\n",
      "\n"
     ]
    },
    {
     "name": "stderr",
     "output_type": "stream",
     "text": [
      "train loss: 633.918: 100%|██████████| 57/57 [00:08<00:00,  6.81it/s]\n",
      "val loss: 676.304: 100%|██████████| 15/15 [00:00<00:00, 27.22it/s]\n"
     ]
    },
    {
     "name": "stdout",
     "output_type": "stream",
     "text": [
      "Epoch 725\tTrain Loss: 605.438  Val Loss: 611.271\n",
      "\n"
     ]
    },
    {
     "name": "stderr",
     "output_type": "stream",
     "text": [
      "train loss: 615.663: 100%|██████████| 57/57 [00:08<00:00,  6.79it/s]\n",
      "val loss: 676.303: 100%|██████████| 15/15 [00:00<00:00, 26.65it/s]\n"
     ]
    },
    {
     "name": "stdout",
     "output_type": "stream",
     "text": [
      "Epoch 726\tTrain Loss: 605.125  Val Loss: 611.270\n",
      "\n"
     ]
    },
    {
     "name": "stderr",
     "output_type": "stream",
     "text": [
      "train loss: 604.369: 100%|██████████| 57/57 [00:08<00:00,  6.78it/s]\n",
      "val loss: 676.304: 100%|██████████| 15/15 [00:00<00:00, 27.22it/s]\n"
     ]
    },
    {
     "name": "stdout",
     "output_type": "stream",
     "text": [
      "Weight saved: epoch 727\n",
      "Epoch 727\tTrain Loss: 604.932  Val Loss: 611.270\n",
      "\n"
     ]
    },
    {
     "name": "stderr",
     "output_type": "stream",
     "text": [
      "train loss: 566.374: 100%|██████████| 57/57 [00:08<00:00,  6.81it/s]\n",
      "val loss: 676.306: 100%|██████████| 15/15 [00:00<00:00, 26.46it/s]\n"
     ]
    },
    {
     "name": "stdout",
     "output_type": "stream",
     "text": [
      "Weight saved: epoch 728\n",
      "Epoch 728\tTrain Loss: 604.281  Val Loss: 611.270\n",
      "\n"
     ]
    },
    {
     "name": "stderr",
     "output_type": "stream",
     "text": [
      "train loss: 631.337: 100%|██████████| 57/57 [00:08<00:00,  6.81it/s]\n",
      "val loss: 676.304: 100%|██████████| 15/15 [00:00<00:00, 26.26it/s]\n"
     ]
    },
    {
     "name": "stdout",
     "output_type": "stream",
     "text": [
      "Weight saved: epoch 729\n",
      "Epoch 729\tTrain Loss: 605.393  Val Loss: 611.269\n",
      "\n"
     ]
    },
    {
     "name": "stderr",
     "output_type": "stream",
     "text": [
      "train loss: 574.418: 100%|██████████| 57/57 [00:08<00:00,  6.79it/s]\n",
      "val loss: 676.300: 100%|██████████| 15/15 [00:00<00:00, 27.00it/s]\n"
     ]
    },
    {
     "name": "stdout",
     "output_type": "stream",
     "text": [
      "Epoch 730\tTrain Loss: 604.418  Val Loss: 611.270\n",
      "\n"
     ]
    },
    {
     "name": "stderr",
     "output_type": "stream",
     "text": [
      "train loss: 616.452: 100%|██████████| 57/57 [00:08<00:00,  6.82it/s]\n",
      "val loss: 676.303: 100%|██████████| 15/15 [00:00<00:00, 26.94it/s]\n"
     ]
    },
    {
     "name": "stdout",
     "output_type": "stream",
     "text": [
      "Epoch 731\tTrain Loss: 605.138  Val Loss: 611.270\n",
      "\n"
     ]
    },
    {
     "name": "stderr",
     "output_type": "stream",
     "text": [
      "train loss: 623.650: 100%|██████████| 57/57 [00:08<00:00,  6.83it/s]\n",
      "val loss: 676.308: 100%|██████████| 15/15 [00:00<00:00, 27.52it/s]\n"
     ]
    },
    {
     "name": "stdout",
     "output_type": "stream",
     "text": [
      "Weight saved: epoch 732\n",
      "Epoch 732\tTrain Loss: 605.261  Val Loss: 611.269\n",
      "\n"
     ]
    },
    {
     "name": "stderr",
     "output_type": "stream",
     "text": [
      "train loss: 613.462: 100%|██████████| 57/57 [00:08<00:00,  6.84it/s]\n",
      "val loss: 676.307: 100%|██████████| 15/15 [00:00<00:00, 26.94it/s]\n"
     ]
    },
    {
     "name": "stdout",
     "output_type": "stream",
     "text": [
      "Epoch 733\tTrain Loss: 605.087  Val Loss: 611.269\n",
      "\n"
     ]
    },
    {
     "name": "stderr",
     "output_type": "stream",
     "text": [
      "train loss: 590.319: 100%|██████████| 57/57 [00:08<00:00,  6.61it/s]\n",
      "val loss: 676.310: 100%|██████████| 15/15 [00:00<00:00, 26.61it/s]\n"
     ]
    },
    {
     "name": "stdout",
     "output_type": "stream",
     "text": [
      "Epoch 734\tTrain Loss: 604.690  Val Loss: 611.270\n",
      "\n"
     ]
    },
    {
     "name": "stderr",
     "output_type": "stream",
     "text": [
      "train loss: 590.045: 100%|██████████| 57/57 [00:08<00:00,  6.86it/s]\n",
      "val loss: 676.309: 100%|██████████| 15/15 [00:00<00:00, 26.55it/s]\n"
     ]
    },
    {
     "name": "stdout",
     "output_type": "stream",
     "text": [
      "Epoch 735\tTrain Loss: 604.685  Val Loss: 611.269\n",
      "\n"
     ]
    },
    {
     "name": "stderr",
     "output_type": "stream",
     "text": [
      "train loss: 598.924: 100%|██████████| 57/57 [00:08<00:00,  6.64it/s]\n",
      "val loss: 676.305: 100%|██████████| 15/15 [00:00<00:00, 26.98it/s]\n"
     ]
    },
    {
     "name": "stdout",
     "output_type": "stream",
     "text": [
      "Epoch 736\tTrain Loss: 604.837  Val Loss: 611.270\n",
      "\n"
     ]
    },
    {
     "name": "stderr",
     "output_type": "stream",
     "text": [
      "train loss: 584.796: 100%|██████████| 57/57 [00:08<00:00,  6.58it/s]\n",
      "val loss: 676.308: 100%|██████████| 15/15 [00:00<00:00, 25.21it/s]\n"
     ]
    },
    {
     "name": "stdout",
     "output_type": "stream",
     "text": [
      "Epoch 737\tTrain Loss: 604.595  Val Loss: 611.270\n",
      "\n"
     ]
    },
    {
     "name": "stderr",
     "output_type": "stream",
     "text": [
      "train loss: 672.174: 100%|██████████| 57/57 [00:08<00:00,  6.60it/s]\n",
      "val loss: 676.310: 100%|██████████| 15/15 [00:00<00:00, 25.86it/s]\n"
     ]
    },
    {
     "name": "stdout",
     "output_type": "stream",
     "text": [
      "Epoch 738\tTrain Loss: 606.092  Val Loss: 611.270\n",
      "\n"
     ]
    },
    {
     "name": "stderr",
     "output_type": "stream",
     "text": [
      "train loss: 581.089: 100%|██████████| 57/57 [00:08<00:00,  6.51it/s]\n",
      "val loss: 676.310: 100%|██████████| 15/15 [00:00<00:00, 26.24it/s]\n"
     ]
    },
    {
     "name": "stdout",
     "output_type": "stream",
     "text": [
      "Epoch 739\tTrain Loss: 604.532  Val Loss: 611.270\n",
      "\n"
     ]
    },
    {
     "name": "stderr",
     "output_type": "stream",
     "text": [
      "train loss: 608.620: 100%|██████████| 57/57 [00:07<00:00,  7.35it/s]\n",
      "val loss: 676.310: 100%|██████████| 15/15 [00:00<00:00, 28.43it/s]\n"
     ]
    },
    {
     "name": "stdout",
     "output_type": "stream",
     "text": [
      "Epoch 740\tTrain Loss: 605.003  Val Loss: 611.270\n",
      "\n"
     ]
    },
    {
     "name": "stderr",
     "output_type": "stream",
     "text": [
      "train loss: 529.504: 100%|██████████| 57/57 [00:08<00:00,  6.91it/s]\n",
      "val loss: 676.311: 100%|██████████| 15/15 [00:00<00:00, 27.32it/s]\n"
     ]
    },
    {
     "name": "stdout",
     "output_type": "stream",
     "text": [
      "Epoch 741\tTrain Loss: 603.648  Val Loss: 611.270\n",
      "\n"
     ]
    },
    {
     "name": "stderr",
     "output_type": "stream",
     "text": [
      "train loss: 666.608: 100%|██████████| 57/57 [00:07<00:00,  7.20it/s]\n",
      "val loss: 676.312: 100%|██████████| 15/15 [00:00<00:00, 29.55it/s]\n"
     ]
    },
    {
     "name": "stdout",
     "output_type": "stream",
     "text": [
      "Epoch 742\tTrain Loss: 605.996  Val Loss: 611.269\n",
      "\n"
     ]
    },
    {
     "name": "stderr",
     "output_type": "stream",
     "text": [
      "train loss: 618.984: 100%|██████████| 57/57 [00:07<00:00,  7.41it/s]\n",
      "val loss: 676.315: 100%|██████████| 15/15 [00:00<00:00, 29.52it/s]\n"
     ]
    },
    {
     "name": "stdout",
     "output_type": "stream",
     "text": [
      "Epoch 743\tTrain Loss: 605.180  Val Loss: 611.270\n",
      "\n"
     ]
    },
    {
     "name": "stderr",
     "output_type": "stream",
     "text": [
      "train loss: 664.557: 100%|██████████| 57/57 [00:07<00:00,  7.40it/s]\n",
      "val loss: 676.317: 100%|██████████| 15/15 [00:00<00:00, 29.12it/s]\n"
     ]
    },
    {
     "name": "stdout",
     "output_type": "stream",
     "text": [
      "Epoch 744\tTrain Loss: 605.961  Val Loss: 611.270\n",
      "\n"
     ]
    },
    {
     "name": "stderr",
     "output_type": "stream",
     "text": [
      "train loss: 593.236: 100%|██████████| 57/57 [00:08<00:00,  7.12it/s]\n",
      "val loss: 676.311: 100%|██████████| 15/15 [00:00<00:00, 28.51it/s]\n"
     ]
    },
    {
     "name": "stdout",
     "output_type": "stream",
     "text": [
      "Epoch 745\tTrain Loss: 604.739  Val Loss: 611.270\n",
      "\n"
     ]
    },
    {
     "name": "stderr",
     "output_type": "stream",
     "text": [
      "train loss: 616.391: 100%|██████████| 57/57 [00:07<00:00,  7.31it/s]\n",
      "val loss: 676.311: 100%|██████████| 15/15 [00:00<00:00, 28.40it/s]\n"
     ]
    },
    {
     "name": "stdout",
     "output_type": "stream",
     "text": [
      "Epoch 746\tTrain Loss: 605.136  Val Loss: 611.270\n",
      "\n"
     ]
    },
    {
     "name": "stderr",
     "output_type": "stream",
     "text": [
      "train loss: 670.910: 100%|██████████| 57/57 [00:07<00:00,  7.18it/s]\n",
      "val loss: 676.310: 100%|██████████| 15/15 [00:00<00:00, 29.42it/s]\n"
     ]
    },
    {
     "name": "stdout",
     "output_type": "stream",
     "text": [
      "Epoch 747\tTrain Loss: 606.070  Val Loss: 611.269\n",
      "\n"
     ]
    },
    {
     "name": "stderr",
     "output_type": "stream",
     "text": [
      "train loss: 584.276: 100%|██████████| 57/57 [00:07<00:00,  7.30it/s]\n",
      "val loss: 676.310: 100%|██████████| 15/15 [00:00<00:00, 28.99it/s]\n"
     ]
    },
    {
     "name": "stdout",
     "output_type": "stream",
     "text": [
      "Weight saved: epoch 748\n",
      "Epoch 748\tTrain Loss: 604.585  Val Loss: 611.269\n",
      "\n"
     ]
    },
    {
     "name": "stderr",
     "output_type": "stream",
     "text": [
      "train loss: 590.885: 100%|██████████| 57/57 [00:07<00:00,  7.19it/s]\n",
      "val loss: 676.310: 100%|██████████| 15/15 [00:00<00:00, 27.82it/s]\n"
     ]
    },
    {
     "name": "stdout",
     "output_type": "stream",
     "text": [
      "Weight saved: epoch 749\n",
      "Epoch 749\tTrain Loss: 604.698  Val Loss: 611.268\n",
      "\n"
     ]
    },
    {
     "name": "stderr",
     "output_type": "stream",
     "text": [
      "train loss: 560.604: 100%|██████████| 57/57 [00:08<00:00,  7.04it/s]\n",
      "val loss: 676.308: 100%|██████████| 15/15 [00:00<00:00, 29.38it/s]\n"
     ]
    },
    {
     "name": "stdout",
     "output_type": "stream",
     "text": [
      "Epoch 750\tTrain Loss: 604.180  Val Loss: 611.268\n",
      "\n"
     ]
    },
    {
     "name": "stderr",
     "output_type": "stream",
     "text": [
      "train loss: 647.739: 100%|██████████| 57/57 [00:07<00:00,  7.19it/s]\n",
      "val loss: 676.308: 100%|██████████| 15/15 [00:00<00:00, 27.87it/s]\n"
     ]
    },
    {
     "name": "stdout",
     "output_type": "stream",
     "text": [
      "Weight saved: epoch 751\n",
      "Epoch 751\tTrain Loss: 605.672  Val Loss: 611.268\n",
      "\n"
     ]
    },
    {
     "name": "stderr",
     "output_type": "stream",
     "text": [
      "train loss: 557.519: 100%|██████████| 57/57 [00:07<00:00,  7.15it/s]\n",
      "val loss: 676.310: 100%|██████████| 15/15 [00:00<00:00, 27.95it/s]\n"
     ]
    },
    {
     "name": "stdout",
     "output_type": "stream",
     "text": [
      "Epoch 752\tTrain Loss: 604.126  Val Loss: 611.269\n",
      "\n"
     ]
    },
    {
     "name": "stderr",
     "output_type": "stream",
     "text": [
      "train loss: 565.036: 100%|██████████| 57/57 [00:07<00:00,  7.33it/s]\n",
      "val loss: 676.308: 100%|██████████| 15/15 [00:00<00:00, 29.61it/s]\n"
     ]
    },
    {
     "name": "stdout",
     "output_type": "stream",
     "text": [
      "Weight saved: epoch 753\n",
      "Epoch 753\tTrain Loss: 604.255  Val Loss: 611.268\n",
      "\n"
     ]
    },
    {
     "name": "stderr",
     "output_type": "stream",
     "text": [
      "train loss: 593.967: 100%|██████████| 57/57 [00:07<00:00,  7.37it/s]\n",
      "val loss: 676.310: 100%|██████████| 15/15 [00:00<00:00, 29.73it/s]\n"
     ]
    },
    {
     "name": "stdout",
     "output_type": "stream",
     "text": [
      "Epoch 754\tTrain Loss: 604.751  Val Loss: 611.269\n",
      "\n"
     ]
    },
    {
     "name": "stderr",
     "output_type": "stream",
     "text": [
      "train loss: 603.690: 100%|██████████| 57/57 [00:07<00:00,  7.39it/s]\n",
      "val loss: 676.312: 100%|██████████| 15/15 [00:00<00:00, 29.77it/s]\n"
     ]
    },
    {
     "name": "stdout",
     "output_type": "stream",
     "text": [
      "Epoch 755\tTrain Loss: 604.917  Val Loss: 611.268\n",
      "\n"
     ]
    },
    {
     "name": "stderr",
     "output_type": "stream",
     "text": [
      "train loss: 577.593: 100%|██████████| 57/57 [00:07<00:00,  7.42it/s]\n",
      "val loss: 676.312: 100%|██████████| 15/15 [00:00<00:00, 29.76it/s]\n"
     ]
    },
    {
     "name": "stdout",
     "output_type": "stream",
     "text": [
      "Weight saved: epoch 756\n",
      "Epoch 756\tTrain Loss: 604.470  Val Loss: 611.268\n",
      "\n"
     ]
    },
    {
     "name": "stderr",
     "output_type": "stream",
     "text": [
      "train loss: 635.691: 100%|██████████| 57/57 [00:07<00:00,  7.41it/s]\n",
      "val loss: 676.312: 100%|██████████| 15/15 [00:00<00:00, 29.90it/s]\n"
     ]
    },
    {
     "name": "stdout",
     "output_type": "stream",
     "text": [
      "Weight saved: epoch 757\n",
      "Epoch 757\tTrain Loss: 605.465  Val Loss: 611.268\n",
      "\n"
     ]
    },
    {
     "name": "stderr",
     "output_type": "stream",
     "text": [
      "train loss: 608.389: 100%|██████████| 57/57 [00:07<00:00,  7.40it/s]\n",
      "val loss: 676.308: 100%|██████████| 15/15 [00:00<00:00, 29.69it/s]\n"
     ]
    },
    {
     "name": "stdout",
     "output_type": "stream",
     "text": [
      "Epoch 758\tTrain Loss: 604.997  Val Loss: 611.268\n",
      "\n"
     ]
    },
    {
     "name": "stderr",
     "output_type": "stream",
     "text": [
      "train loss: 639.039: 100%|██████████| 57/57 [00:07<00:00,  7.37it/s]\n",
      "val loss: 676.307: 100%|██████████| 15/15 [00:00<00:00, 29.49it/s]\n"
     ]
    },
    {
     "name": "stdout",
     "output_type": "stream",
     "text": [
      "Epoch 759\tTrain Loss: 605.522  Val Loss: 611.268\n",
      "\n"
     ]
    },
    {
     "name": "stderr",
     "output_type": "stream",
     "text": [
      "train loss: 544.477: 100%|██████████| 57/57 [00:07<00:00,  7.40it/s]\n",
      "val loss: 676.308: 100%|██████████| 15/15 [00:00<00:00, 29.60it/s]\n"
     ]
    },
    {
     "name": "stdout",
     "output_type": "stream",
     "text": [
      "Weight saved: epoch 760\n",
      "Epoch 760\tTrain Loss: 603.902  Val Loss: 611.268\n",
      "\n"
     ]
    },
    {
     "name": "stderr",
     "output_type": "stream",
     "text": [
      "train loss: 595.701: 100%|██████████| 57/57 [00:07<00:00,  7.40it/s]\n",
      "val loss: 676.307: 100%|██████████| 15/15 [00:00<00:00, 29.53it/s]\n"
     ]
    },
    {
     "name": "stdout",
     "output_type": "stream",
     "text": [
      "Epoch 761\tTrain Loss: 604.780  Val Loss: 611.268\n",
      "\n"
     ]
    },
    {
     "name": "stderr",
     "output_type": "stream",
     "text": [
      "train loss: 656.090: 100%|██████████| 57/57 [00:07<00:00,  7.41it/s]\n",
      "val loss: 676.310: 100%|██████████| 15/15 [00:00<00:00, 29.88it/s]\n"
     ]
    },
    {
     "name": "stdout",
     "output_type": "stream",
     "text": [
      "Epoch 762\tTrain Loss: 605.814  Val Loss: 611.268\n",
      "\n"
     ]
    },
    {
     "name": "stderr",
     "output_type": "stream",
     "text": [
      "train loss: 554.798: 100%|██████████| 57/57 [00:07<00:00,  7.41it/s]\n",
      "val loss: 676.310: 100%|██████████| 15/15 [00:00<00:00, 29.89it/s]\n"
     ]
    },
    {
     "name": "stdout",
     "output_type": "stream",
     "text": [
      "Epoch 763\tTrain Loss: 604.079  Val Loss: 611.268\n",
      "\n"
     ]
    },
    {
     "name": "stderr",
     "output_type": "stream",
     "text": [
      "train loss: 614.876: 100%|██████████| 57/57 [00:07<00:00,  7.41it/s]\n",
      "val loss: 676.310: 100%|██████████| 15/15 [00:00<00:00, 29.82it/s]\n"
     ]
    },
    {
     "name": "stdout",
     "output_type": "stream",
     "text": [
      "Weight saved: epoch 764\n",
      "Epoch 764\tTrain Loss: 605.108  Val Loss: 611.267\n",
      "\n"
     ]
    },
    {
     "name": "stderr",
     "output_type": "stream",
     "text": [
      "train loss: 598.568: 100%|██████████| 57/57 [00:07<00:00,  7.41it/s]\n",
      "val loss: 676.307: 100%|██████████| 15/15 [00:00<00:00, 28.84it/s]\n"
     ]
    },
    {
     "name": "stdout",
     "output_type": "stream",
     "text": [
      "Weight saved: epoch 765\n",
      "Epoch 765\tTrain Loss: 604.828  Val Loss: 611.267\n",
      "\n"
     ]
    },
    {
     "name": "stderr",
     "output_type": "stream",
     "text": [
      "train loss: 559.075: 100%|██████████| 57/57 [00:07<00:00,  7.42it/s]\n",
      "val loss: 676.309: 100%|██████████| 15/15 [00:00<00:00, 29.38it/s]\n"
     ]
    },
    {
     "name": "stdout",
     "output_type": "stream",
     "text": [
      "Weight saved: epoch 766\n",
      "Epoch 766\tTrain Loss: 604.152  Val Loss: 611.267\n",
      "\n"
     ]
    },
    {
     "name": "stderr",
     "output_type": "stream",
     "text": [
      "train loss: 625.657: 100%|██████████| 57/57 [00:07<00:00,  7.42it/s]\n",
      "val loss: 676.305: 100%|██████████| 15/15 [00:00<00:00, 29.64it/s]\n"
     ]
    },
    {
     "name": "stdout",
     "output_type": "stream",
     "text": [
      "Weight saved: epoch 767\n",
      "Epoch 767\tTrain Loss: 605.292  Val Loss: 611.267\n",
      "\n"
     ]
    },
    {
     "name": "stderr",
     "output_type": "stream",
     "text": [
      "train loss: 589.846: 100%|██████████| 57/57 [00:07<00:00,  7.41it/s]\n",
      "val loss: 676.305: 100%|██████████| 15/15 [00:00<00:00, 29.27it/s]\n"
     ]
    },
    {
     "name": "stdout",
     "output_type": "stream",
     "text": [
      "Epoch 768\tTrain Loss: 604.679  Val Loss: 611.267\n",
      "\n"
     ]
    },
    {
     "name": "stderr",
     "output_type": "stream",
     "text": [
      "train loss: 538.482: 100%|██████████| 57/57 [00:07<00:00,  7.36it/s]\n",
      "val loss: 676.304: 100%|██████████| 15/15 [00:00<00:00, 28.68it/s]\n"
     ]
    },
    {
     "name": "stdout",
     "output_type": "stream",
     "text": [
      "Epoch 769\tTrain Loss: 603.799  Val Loss: 611.267\n",
      "\n"
     ]
    },
    {
     "name": "stderr",
     "output_type": "stream",
     "text": [
      "train loss: 599.592: 100%|██████████| 57/57 [00:07<00:00,  7.35it/s]\n",
      "val loss: 676.308: 100%|██████████| 15/15 [00:00<00:00, 26.01it/s]\n"
     ]
    },
    {
     "name": "stdout",
     "output_type": "stream",
     "text": [
      "Epoch 770\tTrain Loss: 604.846  Val Loss: 611.267\n",
      "\n"
     ]
    },
    {
     "name": "stderr",
     "output_type": "stream",
     "text": [
      "train loss: 594.866: 100%|██████████| 57/57 [00:07<00:00,  7.23it/s]\n",
      "val loss: 676.310: 100%|██████████| 15/15 [00:00<00:00, 26.40it/s]\n"
     ]
    },
    {
     "name": "stdout",
     "output_type": "stream",
     "text": [
      "Epoch 771\tTrain Loss: 604.765  Val Loss: 611.267\n",
      "\n"
     ]
    },
    {
     "name": "stderr",
     "output_type": "stream",
     "text": [
      "train loss: 524.841: 100%|██████████| 57/57 [00:07<00:00,  7.18it/s]\n",
      "val loss: 676.310: 100%|██████████| 15/15 [00:00<00:00, 26.90it/s]\n"
     ]
    },
    {
     "name": "stdout",
     "output_type": "stream",
     "text": [
      "Weight saved: epoch 772\n",
      "Epoch 772\tTrain Loss: 603.565  Val Loss: 611.266\n",
      "\n"
     ]
    },
    {
     "name": "stderr",
     "output_type": "stream",
     "text": [
      "train loss: 619.022: 100%|██████████| 57/57 [00:08<00:00,  6.90it/s]\n",
      "val loss: 676.309: 100%|██████████| 15/15 [00:00<00:00, 27.11it/s]\n"
     ]
    },
    {
     "name": "stdout",
     "output_type": "stream",
     "text": [
      "Weight saved: epoch 773\n",
      "Epoch 773\tTrain Loss: 605.178  Val Loss: 611.266\n",
      "\n"
     ]
    },
    {
     "name": "stderr",
     "output_type": "stream",
     "text": [
      "train loss: 592.548: 100%|██████████| 57/57 [00:08<00:00,  6.95it/s]\n",
      "val loss: 676.308: 100%|██████████| 15/15 [00:00<00:00, 26.25it/s]\n"
     ]
    },
    {
     "name": "stdout",
     "output_type": "stream",
     "text": [
      "Weight saved: epoch 774\n",
      "Epoch 774\tTrain Loss: 604.724  Val Loss: 611.266\n",
      "\n"
     ]
    },
    {
     "name": "stderr",
     "output_type": "stream",
     "text": [
      "train loss: 558.490: 100%|██████████| 57/57 [00:08<00:00,  6.85it/s]\n",
      "val loss: 676.307: 100%|██████████| 15/15 [00:00<00:00, 27.82it/s]\n"
     ]
    },
    {
     "name": "stdout",
     "output_type": "stream",
     "text": [
      "Epoch 775\tTrain Loss: 604.141  Val Loss: 611.266\n",
      "\n"
     ]
    },
    {
     "name": "stderr",
     "output_type": "stream",
     "text": [
      "train loss: 610.741: 100%|██████████| 57/57 [00:08<00:00,  6.96it/s]\n",
      "val loss: 676.305: 100%|██████████| 15/15 [00:00<00:00, 28.73it/s]\n"
     ]
    },
    {
     "name": "stdout",
     "output_type": "stream",
     "text": [
      "Weight saved: epoch 776\n",
      "Epoch 776\tTrain Loss: 605.036  Val Loss: 611.266\n",
      "\n"
     ]
    },
    {
     "name": "stderr",
     "output_type": "stream",
     "text": [
      "train loss: 563.636: 100%|██████████| 57/57 [00:08<00:00,  6.93it/s]\n",
      "val loss: 676.307: 100%|██████████| 15/15 [00:00<00:00, 27.76it/s]\n"
     ]
    },
    {
     "name": "stdout",
     "output_type": "stream",
     "text": [
      "Weight saved: epoch 777\n",
      "Epoch 777\tTrain Loss: 604.229  Val Loss: 611.265\n",
      "\n"
     ]
    },
    {
     "name": "stderr",
     "output_type": "stream",
     "text": [
      "train loss: 599.513: 100%|██████████| 57/57 [00:08<00:00,  6.98it/s]\n",
      "val loss: 676.307: 100%|██████████| 15/15 [00:00<00:00, 28.07it/s]\n"
     ]
    },
    {
     "name": "stdout",
     "output_type": "stream",
     "text": [
      "Epoch 778\tTrain Loss: 604.843  Val Loss: 611.265\n",
      "\n"
     ]
    },
    {
     "name": "stderr",
     "output_type": "stream",
     "text": [
      "train loss: 615.203: 100%|██████████| 57/57 [00:08<00:00,  7.00it/s]\n",
      "val loss: 676.303: 100%|██████████| 15/15 [00:00<00:00, 27.80it/s]\n"
     ]
    },
    {
     "name": "stdout",
     "output_type": "stream",
     "text": [
      "Weight saved: epoch 779\n",
      "Epoch 779\tTrain Loss: 605.112  Val Loss: 611.265\n",
      "\n"
     ]
    },
    {
     "name": "stderr",
     "output_type": "stream",
     "text": [
      "train loss: 645.133: 100%|██████████| 57/57 [00:08<00:00,  6.95it/s]\n",
      "val loss: 676.303: 100%|██████████| 15/15 [00:00<00:00, 27.86it/s]\n"
     ]
    },
    {
     "name": "stdout",
     "output_type": "stream",
     "text": [
      "Weight saved: epoch 780\n",
      "Epoch 780\tTrain Loss: 605.625  Val Loss: 611.265\n",
      "\n"
     ]
    },
    {
     "name": "stderr",
     "output_type": "stream",
     "text": [
      "train loss: 641.600: 100%|██████████| 57/57 [00:08<00:00,  6.92it/s]\n",
      "val loss: 676.307: 100%|██████████| 15/15 [00:00<00:00, 28.04it/s]\n"
     ]
    },
    {
     "name": "stdout",
     "output_type": "stream",
     "text": [
      "Weight saved: epoch 781\n",
      "Epoch 781\tTrain Loss: 605.564  Val Loss: 611.265\n",
      "\n"
     ]
    },
    {
     "name": "stderr",
     "output_type": "stream",
     "text": [
      "train loss: 592.330: 100%|██████████| 57/57 [00:08<00:00,  6.88it/s]\n",
      "val loss: 676.305: 100%|██████████| 15/15 [00:00<00:00, 27.05it/s]\n"
     ]
    },
    {
     "name": "stdout",
     "output_type": "stream",
     "text": [
      "Epoch 782\tTrain Loss: 604.720  Val Loss: 611.265\n",
      "\n"
     ]
    },
    {
     "name": "stderr",
     "output_type": "stream",
     "text": [
      "train loss: 484.479: 100%|██████████| 57/57 [00:08<00:00,  6.90it/s]\n",
      "val loss: 676.305: 100%|██████████| 15/15 [00:00<00:00, 27.96it/s]\n"
     ]
    },
    {
     "name": "stdout",
     "output_type": "stream",
     "text": [
      "Epoch 783\tTrain Loss: 602.872  Val Loss: 611.265\n",
      "\n"
     ]
    },
    {
     "name": "stderr",
     "output_type": "stream",
     "text": [
      "train loss: 641.454: 100%|██████████| 57/57 [00:08<00:00,  6.92it/s]\n",
      "val loss: 676.306: 100%|██████████| 15/15 [00:00<00:00, 27.36it/s]\n"
     ]
    },
    {
     "name": "stdout",
     "output_type": "stream",
     "text": [
      "Epoch 784\tTrain Loss: 605.561  Val Loss: 611.266\n",
      "\n"
     ]
    },
    {
     "name": "stderr",
     "output_type": "stream",
     "text": [
      "train loss: 595.396: 100%|██████████| 57/57 [00:08<00:00,  6.89it/s]\n",
      "val loss: 676.305: 100%|██████████| 15/15 [00:00<00:00, 27.35it/s]\n"
     ]
    },
    {
     "name": "stdout",
     "output_type": "stream",
     "text": [
      "Epoch 785\tTrain Loss: 604.772  Val Loss: 611.265\n",
      "\n"
     ]
    },
    {
     "name": "stderr",
     "output_type": "stream",
     "text": [
      "train loss: 568.270: 100%|██████████| 57/57 [00:08<00:00,  6.90it/s]\n",
      "val loss: 676.309: 100%|██████████| 15/15 [00:00<00:00, 27.91it/s]\n"
     ]
    },
    {
     "name": "stdout",
     "output_type": "stream",
     "text": [
      "Epoch 786\tTrain Loss: 604.307  Val Loss: 611.266\n",
      "\n"
     ]
    },
    {
     "name": "stderr",
     "output_type": "stream",
     "text": [
      "train loss: 535.135: 100%|██████████| 57/57 [00:08<00:00,  6.91it/s]\n",
      "val loss: 676.307: 100%|██████████| 15/15 [00:00<00:00, 27.80it/s]\n"
     ]
    },
    {
     "name": "stdout",
     "output_type": "stream",
     "text": [
      "Epoch 787\tTrain Loss: 603.740  Val Loss: 611.265\n",
      "\n"
     ]
    },
    {
     "name": "stderr",
     "output_type": "stream",
     "text": [
      "train loss: 522.117: 100%|██████████| 57/57 [00:07<00:00,  7.16it/s]\n",
      "val loss: 676.307: 100%|██████████| 15/15 [00:00<00:00, 27.75it/s]\n"
     ]
    },
    {
     "name": "stdout",
     "output_type": "stream",
     "text": [
      "Epoch 788\tTrain Loss: 603.517  Val Loss: 611.265\n",
      "\n"
     ]
    },
    {
     "name": "stderr",
     "output_type": "stream",
     "text": [
      "train loss: 597.183: 100%|██████████| 57/57 [00:08<00:00,  6.77it/s]\n",
      "val loss: 676.308: 100%|██████████| 15/15 [00:00<00:00, 27.95it/s]\n"
     ]
    },
    {
     "name": "stdout",
     "output_type": "stream",
     "text": [
      "Epoch 789\tTrain Loss: 604.802  Val Loss: 611.265\n",
      "\n"
     ]
    },
    {
     "name": "stderr",
     "output_type": "stream",
     "text": [
      "train loss: 629.267: 100%|██████████| 57/57 [00:08<00:00,  6.99it/s]\n",
      "val loss: 676.307: 100%|██████████| 15/15 [00:00<00:00, 28.26it/s]\n"
     ]
    },
    {
     "name": "stdout",
     "output_type": "stream",
     "text": [
      "Epoch 790\tTrain Loss: 605.352  Val Loss: 611.265\n",
      "\n"
     ]
    },
    {
     "name": "stderr",
     "output_type": "stream",
     "text": [
      "train loss: 535.501: 100%|██████████| 57/57 [00:08<00:00,  6.94it/s]\n",
      "val loss: 676.309: 100%|██████████| 15/15 [00:00<00:00, 28.01it/s]\n"
     ]
    },
    {
     "name": "stdout",
     "output_type": "stream",
     "text": [
      "Epoch 791\tTrain Loss: 603.746  Val Loss: 611.265\n",
      "\n"
     ]
    },
    {
     "name": "stderr",
     "output_type": "stream",
     "text": [
      "train loss: 572.947: 100%|██████████| 57/57 [00:08<00:00,  6.97it/s]\n",
      "val loss: 676.304: 100%|██████████| 15/15 [00:00<00:00, 28.14it/s]\n"
     ]
    },
    {
     "name": "stdout",
     "output_type": "stream",
     "text": [
      "Epoch 792\tTrain Loss: 604.387  Val Loss: 611.265\n",
      "\n"
     ]
    },
    {
     "name": "stderr",
     "output_type": "stream",
     "text": [
      "train loss: 609.964: 100%|██████████| 57/57 [00:08<00:00,  6.96it/s]\n",
      "val loss: 676.307: 100%|██████████| 15/15 [00:00<00:00, 26.11it/s]\n"
     ]
    },
    {
     "name": "stdout",
     "output_type": "stream",
     "text": [
      "Weight saved: epoch 793\n",
      "Epoch 793\tTrain Loss: 605.021  Val Loss: 611.264\n",
      "\n"
     ]
    },
    {
     "name": "stderr",
     "output_type": "stream",
     "text": [
      "train loss: 620.854: 100%|██████████| 57/57 [00:08<00:00,  6.90it/s]\n",
      "val loss: 676.305: 100%|██████████| 15/15 [00:00<00:00, 28.04it/s]\n"
     ]
    },
    {
     "name": "stdout",
     "output_type": "stream",
     "text": [
      "Weight saved: epoch 794\n",
      "Epoch 794\tTrain Loss: 605.208  Val Loss: 611.264\n",
      "\n"
     ]
    },
    {
     "name": "stderr",
     "output_type": "stream",
     "text": [
      "train loss: 552.273: 100%|██████████| 57/57 [00:08<00:00,  6.95it/s]\n",
      "val loss: 676.308: 100%|██████████| 15/15 [00:00<00:00, 25.98it/s]\n"
     ]
    },
    {
     "name": "stdout",
     "output_type": "stream",
     "text": [
      "Epoch 795\tTrain Loss: 604.032  Val Loss: 611.265\n",
      "\n"
     ]
    },
    {
     "name": "stderr",
     "output_type": "stream",
     "text": [
      "train loss: 653.148: 100%|██████████| 57/57 [00:08<00:00,  7.00it/s]\n",
      "val loss: 676.307: 100%|██████████| 15/15 [00:00<00:00, 27.69it/s]\n"
     ]
    },
    {
     "name": "stdout",
     "output_type": "stream",
     "text": [
      "Epoch 796\tTrain Loss: 605.761  Val Loss: 611.265\n",
      "\n"
     ]
    },
    {
     "name": "stderr",
     "output_type": "stream",
     "text": [
      "train loss: 625.242: 100%|██████████| 57/57 [00:08<00:00,  7.01it/s]\n",
      "val loss: 676.311: 100%|██████████| 15/15 [00:00<00:00, 27.97it/s]\n"
     ]
    },
    {
     "name": "stdout",
     "output_type": "stream",
     "text": [
      "Weight saved: epoch 797\n",
      "Epoch 797\tTrain Loss: 605.282  Val Loss: 611.264\n",
      "\n"
     ]
    },
    {
     "name": "stderr",
     "output_type": "stream",
     "text": [
      "train loss: 620.699: 100%|██████████| 57/57 [00:08<00:00,  7.01it/s]\n",
      "val loss: 676.310: 100%|██████████| 15/15 [00:00<00:00, 28.20it/s]\n"
     ]
    },
    {
     "name": "stdout",
     "output_type": "stream",
     "text": [
      "Weight saved: epoch 798\n",
      "Epoch 798\tTrain Loss: 605.205  Val Loss: 611.264\n",
      "\n"
     ]
    },
    {
     "name": "stderr",
     "output_type": "stream",
     "text": [
      "train loss: 655.292: 100%|██████████| 57/57 [00:08<00:00,  6.99it/s]\n",
      "val loss: 676.308: 100%|██████████| 15/15 [00:00<00:00, 28.25it/s]\n"
     ]
    },
    {
     "name": "stdout",
     "output_type": "stream",
     "text": [
      "Epoch 799\tTrain Loss: 605.797  Val Loss: 611.265\n",
      "\n"
     ]
    },
    {
     "name": "stderr",
     "output_type": "stream",
     "text": [
      "train loss: 568.817: 100%|██████████| 57/57 [00:08<00:00,  7.00it/s]\n",
      "val loss: 676.308: 100%|██████████| 15/15 [00:00<00:00, 28.03it/s]\n"
     ]
    },
    {
     "name": "stdout",
     "output_type": "stream",
     "text": [
      "Epoch 800\tTrain Loss: 604.315  Val Loss: 611.264\n",
      "\n"
     ]
    },
    {
     "name": "stderr",
     "output_type": "stream",
     "text": [
      "train loss: 560.334: 100%|██████████| 57/57 [00:08<00:00,  6.98it/s]\n",
      "val loss: 676.308: 100%|██████████| 15/15 [00:00<00:00, 27.85it/s]\n"
     ]
    },
    {
     "name": "stdout",
     "output_type": "stream",
     "text": [
      "Weight saved: epoch 801\n",
      "Epoch 801\tTrain Loss: 604.170  Val Loss: 611.263\n",
      "\n"
     ]
    },
    {
     "name": "stderr",
     "output_type": "stream",
     "text": [
      "train loss: 610.794: 100%|██████████| 57/57 [00:08<00:00,  6.90it/s]\n",
      "val loss: 676.310: 100%|██████████| 15/15 [00:00<00:00, 28.56it/s]\n"
     ]
    },
    {
     "name": "stdout",
     "output_type": "stream",
     "text": [
      "Epoch 802\tTrain Loss: 605.034  Val Loss: 611.264\n",
      "\n"
     ]
    },
    {
     "name": "stderr",
     "output_type": "stream",
     "text": [
      "train loss: 656.357: 100%|██████████| 57/57 [00:07<00:00,  7.33it/s]\n",
      "val loss: 676.307: 100%|██████████| 15/15 [00:00<00:00, 29.75it/s]\n"
     ]
    },
    {
     "name": "stdout",
     "output_type": "stream",
     "text": [
      "Epoch 803\tTrain Loss: 605.815  Val Loss: 611.264\n",
      "\n"
     ]
    },
    {
     "name": "stderr",
     "output_type": "stream",
     "text": [
      "train loss: 554.276: 100%|██████████| 57/57 [00:07<00:00,  7.39it/s]\n",
      "val loss: 676.306: 100%|██████████| 15/15 [00:00<00:00, 29.65it/s]\n"
     ]
    },
    {
     "name": "stdout",
     "output_type": "stream",
     "text": [
      "Epoch 804\tTrain Loss: 604.066  Val Loss: 611.264\n",
      "\n"
     ]
    },
    {
     "name": "stderr",
     "output_type": "stream",
     "text": [
      "train loss: 651.498: 100%|██████████| 57/57 [00:07<00:00,  7.40it/s]\n",
      "val loss: 676.308: 100%|██████████| 15/15 [00:00<00:00, 29.31it/s]\n"
     ]
    },
    {
     "name": "stdout",
     "output_type": "stream",
     "text": [
      "Epoch 805\tTrain Loss: 605.732  Val Loss: 611.264\n",
      "\n"
     ]
    },
    {
     "name": "stderr",
     "output_type": "stream",
     "text": [
      "train loss: 642.395: 100%|██████████| 57/57 [00:07<00:00,  7.27it/s]\n",
      "val loss: 676.310: 100%|██████████| 15/15 [00:00<00:00, 28.18it/s]\n"
     ]
    },
    {
     "name": "stdout",
     "output_type": "stream",
     "text": [
      "Epoch 806\tTrain Loss: 605.575  Val Loss: 611.264\n",
      "\n"
     ]
    },
    {
     "name": "stderr",
     "output_type": "stream",
     "text": [
      "train loss: 664.570: 100%|██████████| 57/57 [00:08<00:00,  6.84it/s]\n",
      "val loss: 676.308: 100%|██████████| 15/15 [00:00<00:00, 27.66it/s]\n"
     ]
    },
    {
     "name": "stdout",
     "output_type": "stream",
     "text": [
      "Epoch 807\tTrain Loss: 605.955  Val Loss: 611.264\n",
      "\n"
     ]
    },
    {
     "name": "stderr",
     "output_type": "stream",
     "text": [
      "train loss: 672.448: 100%|██████████| 57/57 [00:08<00:00,  6.79it/s]\n",
      "val loss: 676.309: 100%|██████████| 15/15 [00:00<00:00, 27.24it/s]\n"
     ]
    },
    {
     "name": "stdout",
     "output_type": "stream",
     "text": [
      "Epoch 808\tTrain Loss: 606.090  Val Loss: 611.264\n",
      "\n"
     ]
    },
    {
     "name": "stderr",
     "output_type": "stream",
     "text": [
      "train loss: 577.803: 100%|██████████| 57/57 [00:08<00:00,  6.94it/s]\n",
      "val loss: 676.308: 100%|██████████| 15/15 [00:00<00:00, 27.69it/s]\n"
     ]
    },
    {
     "name": "stdout",
     "output_type": "stream",
     "text": [
      "Epoch 809\tTrain Loss: 604.469  Val Loss: 611.264\n",
      "\n"
     ]
    },
    {
     "name": "stderr",
     "output_type": "stream",
     "text": [
      "train loss: 623.966: 100%|██████████| 57/57 [00:08<00:00,  6.95it/s]\n",
      "val loss: 676.308: 100%|██████████| 15/15 [00:00<00:00, 27.91it/s]\n"
     ]
    },
    {
     "name": "stdout",
     "output_type": "stream",
     "text": [
      "Epoch 810\tTrain Loss: 605.259  Val Loss: 611.263\n",
      "\n"
     ]
    },
    {
     "name": "stderr",
     "output_type": "stream",
     "text": [
      "train loss: 639.667: 100%|██████████| 57/57 [00:07<00:00,  7.25it/s]\n",
      "val loss: 676.306: 100%|██████████| 15/15 [00:00<00:00, 29.79it/s]\n"
     ]
    },
    {
     "name": "stdout",
     "output_type": "stream",
     "text": [
      "Weight saved: epoch 811\n",
      "Epoch 811\tTrain Loss: 605.528  Val Loss: 611.263\n",
      "\n"
     ]
    },
    {
     "name": "stderr",
     "output_type": "stream",
     "text": [
      "train loss: 698.383: 100%|██████████| 57/57 [00:08<00:00,  6.87it/s]\n",
      "val loss: 676.310: 100%|██████████| 15/15 [00:00<00:00, 27.37it/s]\n"
     ]
    },
    {
     "name": "stdout",
     "output_type": "stream",
     "text": [
      "Weight saved: epoch 812\n",
      "Epoch 812\tTrain Loss: 606.534  Val Loss: 611.263\n",
      "\n"
     ]
    },
    {
     "name": "stderr",
     "output_type": "stream",
     "text": [
      "train loss: 579.609: 100%|██████████| 57/57 [00:07<00:00,  7.25it/s]\n",
      "val loss: 676.310: 100%|██████████| 15/15 [00:00<00:00, 28.23it/s]\n"
     ]
    },
    {
     "name": "stdout",
     "output_type": "stream",
     "text": [
      "Epoch 813\tTrain Loss: 604.499  Val Loss: 611.263\n",
      "\n"
     ]
    },
    {
     "name": "stderr",
     "output_type": "stream",
     "text": [
      "train loss: 617.411: 100%|██████████| 57/57 [00:08<00:00,  6.98it/s]\n",
      "val loss: 676.309: 100%|██████████| 15/15 [00:00<00:00, 27.57it/s]\n"
     ]
    },
    {
     "name": "stdout",
     "output_type": "stream",
     "text": [
      "Epoch 814\tTrain Loss: 605.147  Val Loss: 611.263\n",
      "\n"
     ]
    },
    {
     "name": "stderr",
     "output_type": "stream",
     "text": [
      "train loss: 622.995: 100%|██████████| 57/57 [00:08<00:00,  6.96it/s]\n",
      "val loss: 676.308: 100%|██████████| 15/15 [00:00<00:00, 27.51it/s]\n"
     ]
    },
    {
     "name": "stdout",
     "output_type": "stream",
     "text": [
      "Weight saved: epoch 815\n",
      "Epoch 815\tTrain Loss: 605.242  Val Loss: 611.263\n",
      "\n"
     ]
    },
    {
     "name": "stderr",
     "output_type": "stream",
     "text": [
      "train loss: 570.128: 100%|██████████| 57/57 [00:08<00:00,  7.10it/s]\n",
      "val loss: 676.304: 100%|██████████| 15/15 [00:00<00:00, 28.87it/s]\n"
     ]
    },
    {
     "name": "stdout",
     "output_type": "stream",
     "text": [
      "Epoch 816\tTrain Loss: 604.336  Val Loss: 611.263\n",
      "\n"
     ]
    },
    {
     "name": "stderr",
     "output_type": "stream",
     "text": [
      "train loss: 559.742: 100%|██████████| 57/57 [00:07<00:00,  7.25it/s]\n",
      "val loss: 676.305: 100%|██████████| 15/15 [00:00<00:00, 28.77it/s]\n"
     ]
    },
    {
     "name": "stdout",
     "output_type": "stream",
     "text": [
      "Weight saved: epoch 817\n",
      "Epoch 817\tTrain Loss: 604.158  Val Loss: 611.263\n",
      "\n"
     ]
    },
    {
     "name": "stderr",
     "output_type": "stream",
     "text": [
      "train loss: 570.195: 100%|██████████| 57/57 [00:07<00:00,  7.22it/s]\n",
      "val loss: 676.307: 100%|██████████| 15/15 [00:00<00:00, 29.07it/s]\n"
     ]
    },
    {
     "name": "stdout",
     "output_type": "stream",
     "text": [
      "Epoch 818\tTrain Loss: 604.337  Val Loss: 611.263\n",
      "\n"
     ]
    },
    {
     "name": "stderr",
     "output_type": "stream",
     "text": [
      "train loss: 606.323: 100%|██████████| 57/57 [00:07<00:00,  7.22it/s]\n",
      "val loss: 676.306: 100%|██████████| 15/15 [00:00<00:00, 28.78it/s]\n"
     ]
    },
    {
     "name": "stdout",
     "output_type": "stream",
     "text": [
      "Epoch 819\tTrain Loss: 604.956  Val Loss: 611.263\n",
      "\n"
     ]
    },
    {
     "name": "stderr",
     "output_type": "stream",
     "text": [
      "train loss: 622.865: 100%|██████████| 57/57 [00:07<00:00,  7.20it/s]\n",
      "val loss: 676.308: 100%|██████████| 15/15 [00:00<00:00, 29.16it/s]\n"
     ]
    },
    {
     "name": "stdout",
     "output_type": "stream",
     "text": [
      "Weight saved: epoch 820\n",
      "Epoch 820\tTrain Loss: 605.240  Val Loss: 611.262\n",
      "\n"
     ]
    },
    {
     "name": "stderr",
     "output_type": "stream",
     "text": [
      "train loss: 557.724: 100%|██████████| 57/57 [00:07<00:00,  7.22it/s]\n",
      "val loss: 676.304: 100%|██████████| 15/15 [00:00<00:00, 29.02it/s]\n"
     ]
    },
    {
     "name": "stdout",
     "output_type": "stream",
     "text": [
      "Weight saved: epoch 821\n",
      "Epoch 821\tTrain Loss: 604.123  Val Loss: 611.262\n",
      "\n"
     ]
    },
    {
     "name": "stderr",
     "output_type": "stream",
     "text": [
      "train loss: 601.618: 100%|██████████| 57/57 [00:07<00:00,  7.19it/s]\n",
      "val loss: 676.302: 100%|██████████| 15/15 [00:00<00:00, 28.24it/s]\n"
     ]
    },
    {
     "name": "stdout",
     "output_type": "stream",
     "text": [
      "Epoch 822\tTrain Loss: 604.875  Val Loss: 611.263\n",
      "\n"
     ]
    },
    {
     "name": "stderr",
     "output_type": "stream",
     "text": [
      "train loss: 578.769: 100%|██████████| 57/57 [00:08<00:00,  7.05it/s]\n",
      "val loss: 676.304: 100%|██████████| 15/15 [00:00<00:00, 28.11it/s]\n"
     ]
    },
    {
     "name": "stdout",
     "output_type": "stream",
     "text": [
      "Weight saved: epoch 823\n",
      "Epoch 823\tTrain Loss: 604.484  Val Loss: 611.262\n",
      "\n"
     ]
    },
    {
     "name": "stderr",
     "output_type": "stream",
     "text": [
      "train loss: 540.363: 100%|██████████| 57/57 [00:08<00:00,  6.90it/s]\n",
      "val loss: 676.304: 100%|██████████| 15/15 [00:00<00:00, 26.63it/s]\n"
     ]
    },
    {
     "name": "stdout",
     "output_type": "stream",
     "text": [
      "Weight saved: epoch 824\n",
      "Epoch 824\tTrain Loss: 603.826  Val Loss: 611.262\n",
      "\n"
     ]
    },
    {
     "name": "stderr",
     "output_type": "stream",
     "text": [
      "train loss: 580.216: 100%|██████████| 57/57 [00:08<00:00,  6.68it/s]\n",
      "val loss: 676.303: 100%|██████████| 15/15 [00:00<00:00, 26.30it/s]\n"
     ]
    },
    {
     "name": "stdout",
     "output_type": "stream",
     "text": [
      "Weight saved: epoch 825\n",
      "Epoch 825\tTrain Loss: 604.508  Val Loss: 611.262\n",
      "\n"
     ]
    },
    {
     "name": "stderr",
     "output_type": "stream",
     "text": [
      "train loss: 624.733: 100%|██████████| 57/57 [00:08<00:00,  6.73it/s]\n",
      "val loss: 676.302: 100%|██████████| 15/15 [00:00<00:00, 26.05it/s]\n"
     ]
    },
    {
     "name": "stdout",
     "output_type": "stream",
     "text": [
      "Weight saved: epoch 826\n",
      "Epoch 826\tTrain Loss: 605.271  Val Loss: 611.262\n",
      "\n"
     ]
    },
    {
     "name": "stderr",
     "output_type": "stream",
     "text": [
      "train loss: 595.854: 100%|██████████| 57/57 [00:08<00:00,  6.73it/s]\n",
      "val loss: 676.305: 100%|██████████| 15/15 [00:00<00:00, 26.71it/s]\n"
     ]
    },
    {
     "name": "stdout",
     "output_type": "stream",
     "text": [
      "Epoch 827\tTrain Loss: 604.776  Val Loss: 611.262\n",
      "\n"
     ]
    },
    {
     "name": "stderr",
     "output_type": "stream",
     "text": [
      "train loss: 635.379: 100%|██████████| 57/57 [00:08<00:00,  6.72it/s]\n",
      "val loss: 676.304: 100%|██████████| 15/15 [00:00<00:00, 26.71it/s]\n"
     ]
    },
    {
     "name": "stdout",
     "output_type": "stream",
     "text": [
      "Epoch 828\tTrain Loss: 605.453  Val Loss: 611.262\n",
      "\n"
     ]
    },
    {
     "name": "stderr",
     "output_type": "stream",
     "text": [
      "train loss: 619.993: 100%|██████████| 57/57 [00:08<00:00,  6.75it/s]\n",
      "val loss: 676.304: 100%|██████████| 15/15 [00:00<00:00, 26.56it/s]\n"
     ]
    },
    {
     "name": "stdout",
     "output_type": "stream",
     "text": [
      "Weight saved: epoch 829\n",
      "Epoch 829\tTrain Loss: 605.190  Val Loss: 611.261\n",
      "\n"
     ]
    },
    {
     "name": "stderr",
     "output_type": "stream",
     "text": [
      "train loss: 561.965: 100%|██████████| 57/57 [00:08<00:00,  6.72it/s]\n",
      "val loss: 676.305: 100%|██████████| 15/15 [00:00<00:00, 26.59it/s]\n"
     ]
    },
    {
     "name": "stdout",
     "output_type": "stream",
     "text": [
      "Weight saved: epoch 830\n",
      "Epoch 830\tTrain Loss: 604.195  Val Loss: 611.261\n",
      "\n"
     ]
    },
    {
     "name": "stderr",
     "output_type": "stream",
     "text": [
      "train loss: 508.870: 100%|██████████| 57/57 [00:08<00:00,  6.74it/s]\n",
      "val loss: 676.305: 100%|██████████| 15/15 [00:00<00:00, 26.81it/s]\n"
     ]
    },
    {
     "name": "stdout",
     "output_type": "stream",
     "text": [
      "Epoch 831\tTrain Loss: 603.285  Val Loss: 611.261\n",
      "\n"
     ]
    },
    {
     "name": "stderr",
     "output_type": "stream",
     "text": [
      "train loss: 629.870: 100%|██████████| 57/57 [00:08<00:00,  6.74it/s]\n",
      "val loss: 676.305: 100%|██████████| 15/15 [00:00<00:00, 26.61it/s]\n"
     ]
    },
    {
     "name": "stdout",
     "output_type": "stream",
     "text": [
      "Epoch 832\tTrain Loss: 605.358  Val Loss: 611.261\n",
      "\n"
     ]
    },
    {
     "name": "stderr",
     "output_type": "stream",
     "text": [
      "train loss: 660.611: 100%|██████████| 57/57 [00:08<00:00,  6.77it/s]\n",
      "val loss: 676.308: 100%|██████████| 15/15 [00:00<00:00, 26.91it/s]\n"
     ]
    },
    {
     "name": "stdout",
     "output_type": "stream",
     "text": [
      "Epoch 833\tTrain Loss: 605.885  Val Loss: 611.261\n",
      "\n"
     ]
    },
    {
     "name": "stderr",
     "output_type": "stream",
     "text": [
      "train loss: 630.394: 100%|██████████| 57/57 [00:08<00:00,  6.76it/s]\n",
      "val loss: 676.306: 100%|██████████| 15/15 [00:00<00:00, 26.89it/s]\n"
     ]
    },
    {
     "name": "stdout",
     "output_type": "stream",
     "text": [
      "Epoch 834\tTrain Loss: 605.367  Val Loss: 611.262\n",
      "\n"
     ]
    },
    {
     "name": "stderr",
     "output_type": "stream",
     "text": [
      "train loss: 623.606: 100%|██████████| 57/57 [00:08<00:00,  6.77it/s]\n",
      "val loss: 676.307: 100%|██████████| 15/15 [00:00<00:00, 26.98it/s]\n"
     ]
    },
    {
     "name": "stdout",
     "output_type": "stream",
     "text": [
      "Epoch 835\tTrain Loss: 605.251  Val Loss: 611.261\n",
      "\n"
     ]
    },
    {
     "name": "stderr",
     "output_type": "stream",
     "text": [
      "train loss: 612.470: 100%|██████████| 57/57 [00:08<00:00,  6.78it/s]\n",
      "val loss: 676.305: 100%|██████████| 15/15 [00:00<00:00, 27.41it/s]\n"
     ]
    },
    {
     "name": "stdout",
     "output_type": "stream",
     "text": [
      "Epoch 836\tTrain Loss: 605.060  Val Loss: 611.261\n",
      "\n"
     ]
    },
    {
     "name": "stderr",
     "output_type": "stream",
     "text": [
      "train loss: 598.699: 100%|██████████| 57/57 [00:08<00:00,  6.78it/s]\n",
      "val loss: 676.303: 100%|██████████| 15/15 [00:00<00:00, 26.56it/s]\n"
     ]
    },
    {
     "name": "stdout",
     "output_type": "stream",
     "text": [
      "Weight saved: epoch 837\n",
      "Epoch 837\tTrain Loss: 604.824  Val Loss: 611.261\n",
      "\n"
     ]
    },
    {
     "name": "stderr",
     "output_type": "stream",
     "text": [
      "train loss: 569.730: 100%|██████████| 57/57 [00:08<00:00,  6.75it/s]\n",
      "val loss: 676.304: 100%|██████████| 15/15 [00:00<00:00, 27.46it/s]\n"
     ]
    },
    {
     "name": "stdout",
     "output_type": "stream",
     "text": [
      "Epoch 838\tTrain Loss: 604.328  Val Loss: 611.261\n",
      "\n"
     ]
    },
    {
     "name": "stderr",
     "output_type": "stream",
     "text": [
      "train loss: 672.180: 100%|██████████| 57/57 [00:08<00:00,  6.74it/s]\n",
      "val loss: 676.306: 100%|██████████| 15/15 [00:00<00:00, 27.28it/s]\n"
     ]
    },
    {
     "name": "stdout",
     "output_type": "stream",
     "text": [
      "Epoch 839\tTrain Loss: 606.083  Val Loss: 611.261\n",
      "\n"
     ]
    },
    {
     "name": "stderr",
     "output_type": "stream",
     "text": [
      "train loss: 583.601: 100%|██████████| 57/57 [00:08<00:00,  6.74it/s]\n",
      "val loss: 676.307: 100%|██████████| 15/15 [00:00<00:00, 26.74it/s]\n"
     ]
    },
    {
     "name": "stdout",
     "output_type": "stream",
     "text": [
      "Epoch 840\tTrain Loss: 604.565  Val Loss: 611.261\n",
      "\n"
     ]
    },
    {
     "name": "stderr",
     "output_type": "stream",
     "text": [
      "train loss: 606.374: 100%|██████████| 57/57 [00:08<00:00,  6.73it/s]\n",
      "val loss: 676.305: 100%|██████████| 15/15 [00:00<00:00, 27.21it/s]\n"
     ]
    },
    {
     "name": "stdout",
     "output_type": "stream",
     "text": [
      "Epoch 841\tTrain Loss: 604.955  Val Loss: 611.261\n",
      "\n"
     ]
    },
    {
     "name": "stderr",
     "output_type": "stream",
     "text": [
      "train loss: 561.242: 100%|██████████| 57/57 [00:08<00:00,  6.75it/s]\n",
      "val loss: 676.306: 100%|██████████| 15/15 [00:00<00:00, 26.83it/s]\n"
     ]
    },
    {
     "name": "stdout",
     "output_type": "stream",
     "text": [
      "Weight saved: epoch 842\n",
      "Epoch 842\tTrain Loss: 604.182  Val Loss: 611.260\n",
      "\n"
     ]
    },
    {
     "name": "stderr",
     "output_type": "stream",
     "text": [
      "train loss: 612.184: 100%|██████████| 57/57 [00:08<00:00,  6.74it/s]\n",
      "val loss: 676.308: 100%|██████████| 15/15 [00:00<00:00, 26.43it/s]\n"
     ]
    },
    {
     "name": "stdout",
     "output_type": "stream",
     "text": [
      "Epoch 843\tTrain Loss: 605.054  Val Loss: 611.260\n",
      "\n"
     ]
    },
    {
     "name": "stderr",
     "output_type": "stream",
     "text": [
      "train loss: 632.931: 100%|██████████| 57/57 [00:08<00:00,  6.74it/s]\n",
      "val loss: 676.303: 100%|██████████| 15/15 [00:00<00:00, 26.99it/s]\n"
     ]
    },
    {
     "name": "stdout",
     "output_type": "stream",
     "text": [
      "Epoch 844\tTrain Loss: 605.410  Val Loss: 611.260\n",
      "\n"
     ]
    },
    {
     "name": "stderr",
     "output_type": "stream",
     "text": [
      "train loss: 564.803: 100%|██████████| 57/57 [00:08<00:00,  6.77it/s]\n",
      "val loss: 676.306: 100%|██████████| 15/15 [00:00<00:00, 27.49it/s]\n"
     ]
    },
    {
     "name": "stdout",
     "output_type": "stream",
     "text": [
      "Epoch 845\tTrain Loss: 604.242  Val Loss: 611.261\n",
      "\n"
     ]
    },
    {
     "name": "stderr",
     "output_type": "stream",
     "text": [
      "train loss: 603.397: 100%|██████████| 57/57 [00:08<00:00,  6.75it/s]\n",
      "val loss: 676.304: 100%|██████████| 15/15 [00:00<00:00, 26.88it/s]\n"
     ]
    },
    {
     "name": "stdout",
     "output_type": "stream",
     "text": [
      "Weight saved: epoch 846\n",
      "Epoch 846\tTrain Loss: 604.904  Val Loss: 611.260\n",
      "\n"
     ]
    },
    {
     "name": "stderr",
     "output_type": "stream",
     "text": [
      "train loss: 528.200: 100%|██████████| 57/57 [00:08<00:00,  6.76it/s]\n",
      "val loss: 676.304: 100%|██████████| 15/15 [00:00<00:00, 26.93it/s]\n"
     ]
    },
    {
     "name": "stdout",
     "output_type": "stream",
     "text": [
      "Epoch 847\tTrain Loss: 603.615  Val Loss: 611.260\n",
      "\n"
     ]
    },
    {
     "name": "stderr",
     "output_type": "stream",
     "text": [
      "train loss: 606.695: 100%|██████████| 57/57 [00:08<00:00,  6.75it/s]\n",
      "val loss: 676.304: 100%|██████████| 15/15 [00:00<00:00, 27.01it/s]\n"
     ]
    },
    {
     "name": "stdout",
     "output_type": "stream",
     "text": [
      "Epoch 848\tTrain Loss: 604.960  Val Loss: 611.260\n",
      "\n"
     ]
    },
    {
     "name": "stderr",
     "output_type": "stream",
     "text": [
      "train loss: 595.084: 100%|██████████| 57/57 [00:08<00:00,  6.75it/s]\n",
      "val loss: 676.302: 100%|██████████| 15/15 [00:00<00:00, 27.02it/s]\n"
     ]
    },
    {
     "name": "stdout",
     "output_type": "stream",
     "text": [
      "Epoch 849\tTrain Loss: 604.761  Val Loss: 611.260\n",
      "\n"
     ]
    },
    {
     "name": "stderr",
     "output_type": "stream",
     "text": [
      "train loss: 634.908: 100%|██████████| 57/57 [00:08<00:00,  6.74it/s]\n",
      "val loss: 676.303: 100%|██████████| 15/15 [00:00<00:00, 27.15it/s]\n"
     ]
    },
    {
     "name": "stdout",
     "output_type": "stream",
     "text": [
      "Epoch 850\tTrain Loss: 605.443  Val Loss: 611.260\n",
      "\n"
     ]
    },
    {
     "name": "stderr",
     "output_type": "stream",
     "text": [
      "train loss: 622.527: 100%|██████████| 57/57 [00:08<00:00,  6.74it/s]\n",
      "val loss: 676.306: 100%|██████████| 15/15 [00:00<00:00, 27.24it/s]\n"
     ]
    },
    {
     "name": "stdout",
     "output_type": "stream",
     "text": [
      "Epoch 851\tTrain Loss: 605.231  Val Loss: 611.260\n",
      "\n"
     ]
    },
    {
     "name": "stderr",
     "output_type": "stream",
     "text": [
      "train loss: 533.793: 100%|██████████| 57/57 [00:08<00:00,  6.75it/s]\n",
      "val loss: 676.304: 100%|██████████| 15/15 [00:00<00:00, 27.03it/s]\n"
     ]
    },
    {
     "name": "stdout",
     "output_type": "stream",
     "text": [
      "Weight saved: epoch 852\n",
      "Epoch 852\tTrain Loss: 603.711  Val Loss: 611.260\n",
      "\n"
     ]
    },
    {
     "name": "stderr",
     "output_type": "stream",
     "text": [
      "train loss: 610.969: 100%|██████████| 57/57 [00:08<00:00,  6.75it/s]\n",
      "val loss: 676.307: 100%|██████████| 15/15 [00:00<00:00, 27.26it/s]\n"
     ]
    },
    {
     "name": "stdout",
     "output_type": "stream",
     "text": [
      "Epoch 853\tTrain Loss: 605.033  Val Loss: 611.260\n",
      "\n"
     ]
    },
    {
     "name": "stderr",
     "output_type": "stream",
     "text": [
      "train loss: 531.329: 100%|██████████| 57/57 [00:08<00:00,  6.76it/s]\n",
      "val loss: 676.308: 100%|██████████| 15/15 [00:00<00:00, 26.42it/s]\n"
     ]
    },
    {
     "name": "stdout",
     "output_type": "stream",
     "text": [
      "Epoch 854\tTrain Loss: 603.668  Val Loss: 611.260\n",
      "\n"
     ]
    },
    {
     "name": "stderr",
     "output_type": "stream",
     "text": [
      "train loss: 559.753: 100%|██████████| 57/57 [00:08<00:00,  6.75it/s]\n",
      "val loss: 676.305: 100%|██████████| 15/15 [00:00<00:00, 27.61it/s]\n"
     ]
    },
    {
     "name": "stdout",
     "output_type": "stream",
     "text": [
      "Weight saved: epoch 855\n",
      "Epoch 855\tTrain Loss: 604.155  Val Loss: 611.260\n",
      "\n"
     ]
    },
    {
     "name": "stderr",
     "output_type": "stream",
     "text": [
      "train loss: 648.803: 100%|██████████| 57/57 [00:08<00:00,  6.74it/s]\n",
      "val loss: 676.305: 100%|██████████| 15/15 [00:00<00:00, 27.29it/s]\n"
     ]
    },
    {
     "name": "stdout",
     "output_type": "stream",
     "text": [
      "Epoch 856\tTrain Loss: 605.681  Val Loss: 611.260\n",
      "\n"
     ]
    },
    {
     "name": "stderr",
     "output_type": "stream",
     "text": [
      "train loss: 645.314: 100%|██████████| 57/57 [00:08<00:00,  6.75it/s]\n",
      "val loss: 676.304: 100%|██████████| 15/15 [00:00<00:00, 27.05it/s]\n"
     ]
    },
    {
     "name": "stdout",
     "output_type": "stream",
     "text": [
      "Epoch 857\tTrain Loss: 605.621  Val Loss: 611.260\n",
      "\n"
     ]
    },
    {
     "name": "stderr",
     "output_type": "stream",
     "text": [
      "train loss: 572.011: 100%|██████████| 57/57 [00:08<00:00,  6.77it/s]\n",
      "val loss: 676.305: 100%|██████████| 15/15 [00:00<00:00, 27.30it/s]\n"
     ]
    },
    {
     "name": "stdout",
     "output_type": "stream",
     "text": [
      "Epoch 858\tTrain Loss: 604.365  Val Loss: 611.260\n",
      "\n"
     ]
    },
    {
     "name": "stderr",
     "output_type": "stream",
     "text": [
      "train loss: 604.813: 100%|██████████| 57/57 [00:08<00:00,  6.74it/s]\n",
      "val loss: 676.308: 100%|██████████| 15/15 [00:00<00:00, 27.35it/s]\n"
     ]
    },
    {
     "name": "stdout",
     "output_type": "stream",
     "text": [
      "Epoch 859\tTrain Loss: 604.927  Val Loss: 611.260\n",
      "\n"
     ]
    },
    {
     "name": "stderr",
     "output_type": "stream",
     "text": [
      "train loss: 577.993: 100%|██████████| 57/57 [00:08<00:00,  6.74it/s]\n",
      "val loss: 676.306: 100%|██████████| 15/15 [00:00<00:00, 26.88it/s]\n"
     ]
    },
    {
     "name": "stdout",
     "output_type": "stream",
     "text": [
      "Weight saved: epoch 860\n",
      "Epoch 860\tTrain Loss: 604.467  Val Loss: 611.259\n",
      "\n"
     ]
    },
    {
     "name": "stderr",
     "output_type": "stream",
     "text": [
      "train loss: 633.690: 100%|██████████| 57/57 [00:08<00:00,  6.74it/s]\n",
      "val loss: 676.307: 100%|██████████| 15/15 [00:00<00:00, 26.85it/s]\n"
     ]
    },
    {
     "name": "stdout",
     "output_type": "stream",
     "text": [
      "Weight saved: epoch 861\n",
      "Epoch 861\tTrain Loss: 605.421  Val Loss: 611.259\n",
      "\n"
     ]
    },
    {
     "name": "stderr",
     "output_type": "stream",
     "text": [
      "train loss: 545.002: 100%|██████████| 57/57 [00:08<00:00,  6.71it/s]\n",
      "val loss: 676.311: 100%|██████████| 15/15 [00:00<00:00, 26.81it/s]\n"
     ]
    },
    {
     "name": "stdout",
     "output_type": "stream",
     "text": [
      "Epoch 862\tTrain Loss: 603.902  Val Loss: 611.259\n",
      "\n"
     ]
    },
    {
     "name": "stderr",
     "output_type": "stream",
     "text": [
      "train loss: 582.472: 100%|██████████| 57/57 [00:08<00:00,  6.75it/s]\n",
      "val loss: 676.308: 100%|██████████| 15/15 [00:00<00:00, 27.54it/s]\n"
     ]
    },
    {
     "name": "stdout",
     "output_type": "stream",
     "text": [
      "Weight saved: epoch 863\n",
      "Epoch 863\tTrain Loss: 604.543  Val Loss: 611.259\n",
      "\n"
     ]
    },
    {
     "name": "stderr",
     "output_type": "stream",
     "text": [
      "train loss: 540.678: 100%|██████████| 57/57 [00:08<00:00,  6.77it/s]\n",
      "val loss: 676.306: 100%|██████████| 15/15 [00:00<00:00, 26.92it/s]\n"
     ]
    },
    {
     "name": "stdout",
     "output_type": "stream",
     "text": [
      "Weight saved: epoch 864\n",
      "Epoch 864\tTrain Loss: 603.827  Val Loss: 611.259\n",
      "\n"
     ]
    },
    {
     "name": "stderr",
     "output_type": "stream",
     "text": [
      "train loss: 598.941: 100%|██████████| 57/57 [00:08<00:00,  6.79it/s]\n",
      "val loss: 676.307: 100%|██████████| 15/15 [00:00<00:00, 27.38it/s]\n"
     ]
    },
    {
     "name": "stdout",
     "output_type": "stream",
     "text": [
      "Epoch 865\tTrain Loss: 604.825  Val Loss: 611.259\n",
      "\n"
     ]
    },
    {
     "name": "stderr",
     "output_type": "stream",
     "text": [
      "train loss: 573.459: 100%|██████████| 57/57 [00:08<00:00,  6.78it/s]\n",
      "val loss: 676.309: 100%|██████████| 15/15 [00:00<00:00, 26.94it/s]\n"
     ]
    },
    {
     "name": "stdout",
     "output_type": "stream",
     "text": [
      "Epoch 866\tTrain Loss: 604.389  Val Loss: 611.259\n",
      "\n"
     ]
    },
    {
     "name": "stderr",
     "output_type": "stream",
     "text": [
      "train loss: 689.082: 100%|██████████| 57/57 [00:08<00:00,  6.79it/s]\n",
      "val loss: 676.307: 100%|██████████| 15/15 [00:00<00:00, 27.61it/s]\n"
     ]
    },
    {
     "name": "stdout",
     "output_type": "stream",
     "text": [
      "Weight saved: epoch 867\n",
      "Epoch 867\tTrain Loss: 606.370  Val Loss: 611.259\n",
      "\n"
     ]
    },
    {
     "name": "stderr",
     "output_type": "stream",
     "text": [
      "train loss: 587.432: 100%|██████████| 57/57 [00:08<00:00,  6.79it/s]\n",
      "val loss: 676.306: 100%|██████████| 15/15 [00:00<00:00, 27.45it/s]\n"
     ]
    },
    {
     "name": "stdout",
     "output_type": "stream",
     "text": [
      "Weight saved: epoch 868\n",
      "Epoch 868\tTrain Loss: 604.628  Val Loss: 611.258\n",
      "\n"
     ]
    },
    {
     "name": "stderr",
     "output_type": "stream",
     "text": [
      "train loss: 583.523: 100%|██████████| 57/57 [00:08<00:00,  6.80it/s]\n",
      "val loss: 676.308: 100%|██████████| 15/15 [00:00<00:00, 26.95it/s]\n"
     ]
    },
    {
     "name": "stdout",
     "output_type": "stream",
     "text": [
      "Weight saved: epoch 869\n",
      "Epoch 869\tTrain Loss: 604.561  Val Loss: 611.258\n",
      "\n"
     ]
    },
    {
     "name": "stderr",
     "output_type": "stream",
     "text": [
      "train loss: 654.345: 100%|██████████| 57/57 [00:08<00:00,  6.80it/s]\n",
      "val loss: 676.308: 100%|██████████| 15/15 [00:00<00:00, 27.12it/s]\n"
     ]
    },
    {
     "name": "stdout",
     "output_type": "stream",
     "text": [
      "Epoch 870\tTrain Loss: 605.774  Val Loss: 611.258\n",
      "\n"
     ]
    },
    {
     "name": "stderr",
     "output_type": "stream",
     "text": [
      "train loss: 627.151: 100%|██████████| 57/57 [00:08<00:00,  6.80it/s]\n",
      "val loss: 676.308: 100%|██████████| 15/15 [00:00<00:00, 26.86it/s]\n"
     ]
    },
    {
     "name": "stdout",
     "output_type": "stream",
     "text": [
      "Weight saved: epoch 871\n",
      "Epoch 871\tTrain Loss: 605.308  Val Loss: 611.258\n",
      "\n"
     ]
    },
    {
     "name": "stderr",
     "output_type": "stream",
     "text": [
      "train loss: 651.781: 100%|██████████| 57/57 [00:08<00:00,  6.83it/s]\n",
      "val loss: 676.308: 100%|██████████| 15/15 [00:00<00:00, 27.05it/s]\n"
     ]
    },
    {
     "name": "stdout",
     "output_type": "stream",
     "text": [
      "Epoch 872\tTrain Loss: 605.730  Val Loss: 611.258\n",
      "\n"
     ]
    },
    {
     "name": "stderr",
     "output_type": "stream",
     "text": [
      "train loss: 632.802: 100%|██████████| 57/57 [00:08<00:00,  6.79it/s]\n",
      "val loss: 676.306: 100%|██████████| 15/15 [00:00<00:00, 27.40it/s]\n"
     ]
    },
    {
     "name": "stdout",
     "output_type": "stream",
     "text": [
      "Weight saved: epoch 873\n",
      "Epoch 873\tTrain Loss: 605.405  Val Loss: 611.258\n",
      "\n"
     ]
    },
    {
     "name": "stderr",
     "output_type": "stream",
     "text": [
      "train loss: 672.750: 100%|██████████| 57/57 [00:08<00:00,  6.82it/s]\n",
      "val loss: 676.309: 100%|██████████| 15/15 [00:00<00:00, 26.62it/s]\n"
     ]
    },
    {
     "name": "stdout",
     "output_type": "stream",
     "text": [
      "Epoch 874\tTrain Loss: 606.089  Val Loss: 611.258\n",
      "\n"
     ]
    },
    {
     "name": "stderr",
     "output_type": "stream",
     "text": [
      "train loss: 647.338: 100%|██████████| 57/57 [00:08<00:00,  6.83it/s]\n",
      "val loss: 676.307: 100%|██████████| 15/15 [00:00<00:00, 26.93it/s]\n"
     ]
    },
    {
     "name": "stdout",
     "output_type": "stream",
     "text": [
      "Epoch 875\tTrain Loss: 605.654  Val Loss: 611.258\n",
      "\n"
     ]
    },
    {
     "name": "stderr",
     "output_type": "stream",
     "text": [
      "train loss: 580.612: 100%|██████████| 57/57 [00:08<00:00,  6.80it/s]\n",
      "val loss: 676.308: 100%|██████████| 15/15 [00:00<00:00, 26.93it/s]\n"
     ]
    },
    {
     "name": "stdout",
     "output_type": "stream",
     "text": [
      "Epoch 876\tTrain Loss: 604.510  Val Loss: 611.258\n",
      "\n"
     ]
    },
    {
     "name": "stderr",
     "output_type": "stream",
     "text": [
      "train loss: 550.944: 100%|██████████| 57/57 [00:08<00:00,  6.84it/s]\n",
      "val loss: 676.309: 100%|██████████| 15/15 [00:00<00:00, 27.30it/s]\n"
     ]
    },
    {
     "name": "stdout",
     "output_type": "stream",
     "text": [
      "Epoch 877\tTrain Loss: 604.002  Val Loss: 611.258\n",
      "\n"
     ]
    },
    {
     "name": "stderr",
     "output_type": "stream",
     "text": [
      "train loss: 664.247: 100%|██████████| 57/57 [00:08<00:00,  6.83it/s]\n",
      "val loss: 676.309: 100%|██████████| 15/15 [00:00<00:00, 27.49it/s]\n"
     ]
    },
    {
     "name": "stdout",
     "output_type": "stream",
     "text": [
      "Epoch 878\tTrain Loss: 605.943  Val Loss: 611.259\n",
      "\n"
     ]
    },
    {
     "name": "stderr",
     "output_type": "stream",
     "text": [
      "train loss: 661.727: 100%|██████████| 57/57 [00:08<00:00,  6.88it/s]\n",
      "val loss: 676.308: 100%|██████████| 15/15 [00:00<00:00, 26.73it/s]\n"
     ]
    },
    {
     "name": "stdout",
     "output_type": "stream",
     "text": [
      "Epoch 879\tTrain Loss: 605.900  Val Loss: 611.258\n",
      "\n"
     ]
    },
    {
     "name": "stderr",
     "output_type": "stream",
     "text": [
      "train loss: 641.217: 100%|██████████| 57/57 [00:08<00:00,  6.84it/s]\n",
      "val loss: 676.312: 100%|██████████| 15/15 [00:00<00:00, 27.67it/s]\n"
     ]
    },
    {
     "name": "stdout",
     "output_type": "stream",
     "text": [
      "Epoch 880\tTrain Loss: 605.548  Val Loss: 611.258\n",
      "\n"
     ]
    },
    {
     "name": "stderr",
     "output_type": "stream",
     "text": [
      "train loss: 585.683: 100%|██████████| 57/57 [00:08<00:00,  6.87it/s]\n",
      "val loss: 676.316: 100%|██████████| 15/15 [00:00<00:00, 27.62it/s]\n"
     ]
    },
    {
     "name": "stdout",
     "output_type": "stream",
     "text": [
      "Epoch 881\tTrain Loss: 604.597  Val Loss: 611.258\n",
      "\n"
     ]
    },
    {
     "name": "stderr",
     "output_type": "stream",
     "text": [
      "train loss: 677.605: 100%|██████████| 57/57 [00:08<00:00,  6.85it/s]\n",
      "val loss: 676.317: 100%|██████████| 15/15 [00:00<00:00, 27.75it/s]\n"
     ]
    },
    {
     "name": "stdout",
     "output_type": "stream",
     "text": [
      "Epoch 882\tTrain Loss: 606.171  Val Loss: 611.258\n",
      "\n"
     ]
    },
    {
     "name": "stderr",
     "output_type": "stream",
     "text": [
      "train loss: 564.788: 100%|██████████| 57/57 [00:08<00:00,  6.87it/s]\n",
      "val loss: 676.315: 100%|██████████| 15/15 [00:00<00:00, 26.99it/s]\n"
     ]
    },
    {
     "name": "stdout",
     "output_type": "stream",
     "text": [
      "Epoch 883\tTrain Loss: 604.239  Val Loss: 611.258\n",
      "\n"
     ]
    },
    {
     "name": "stderr",
     "output_type": "stream",
     "text": [
      "train loss: 686.969: 100%|██████████| 57/57 [00:08<00:00,  6.86it/s]\n",
      "val loss: 676.312: 100%|██████████| 15/15 [00:00<00:00, 27.67it/s]\n"
     ]
    },
    {
     "name": "stdout",
     "output_type": "stream",
     "text": [
      "Epoch 884\tTrain Loss: 606.332  Val Loss: 611.258\n",
      "\n"
     ]
    },
    {
     "name": "stderr",
     "output_type": "stream",
     "text": [
      "train loss: 558.497: 100%|██████████| 57/57 [00:08<00:00,  6.89it/s]\n",
      "val loss: 676.308: 100%|██████████| 15/15 [00:00<00:00, 27.15it/s]\n"
     ]
    },
    {
     "name": "stdout",
     "output_type": "stream",
     "text": [
      "Weight saved: epoch 885\n",
      "Epoch 885\tTrain Loss: 604.131  Val Loss: 611.258\n",
      "\n"
     ]
    },
    {
     "name": "stderr",
     "output_type": "stream",
     "text": [
      "train loss: 579.335: 100%|██████████| 57/57 [00:08<00:00,  6.84it/s]\n",
      "val loss: 676.309: 100%|██████████| 15/15 [00:00<00:00, 27.29it/s]\n"
     ]
    },
    {
     "name": "stdout",
     "output_type": "stream",
     "text": [
      "Weight saved: epoch 886\n",
      "Epoch 886\tTrain Loss: 604.488  Val Loss: 611.257\n",
      "\n"
     ]
    },
    {
     "name": "stderr",
     "output_type": "stream",
     "text": [
      "train loss: 630.226: 100%|██████████| 57/57 [00:08<00:00,  6.82it/s]\n",
      "val loss: 676.308: 100%|██████████| 15/15 [00:00<00:00, 26.87it/s]\n"
     ]
    },
    {
     "name": "stdout",
     "output_type": "stream",
     "text": [
      "Epoch 887\tTrain Loss: 605.359  Val Loss: 611.257\n",
      "\n"
     ]
    },
    {
     "name": "stderr",
     "output_type": "stream",
     "text": [
      "train loss: 582.662: 100%|██████████| 57/57 [00:08<00:00,  6.77it/s]\n",
      "val loss: 676.308: 100%|██████████| 15/15 [00:00<00:00, 27.35it/s]\n"
     ]
    },
    {
     "name": "stdout",
     "output_type": "stream",
     "text": [
      "Epoch 888\tTrain Loss: 604.544  Val Loss: 611.258\n",
      "\n"
     ]
    },
    {
     "name": "stderr",
     "output_type": "stream",
     "text": [
      "train loss: 619.355: 100%|██████████| 57/57 [00:08<00:00,  6.80it/s]\n",
      "val loss: 676.311: 100%|██████████| 15/15 [00:00<00:00, 26.73it/s]\n"
     ]
    },
    {
     "name": "stdout",
     "output_type": "stream",
     "text": [
      "Epoch 889\tTrain Loss: 605.173  Val Loss: 611.257\n",
      "\n"
     ]
    },
    {
     "name": "stderr",
     "output_type": "stream",
     "text": [
      "train loss: 619.906: 100%|██████████| 57/57 [00:08<00:00,  6.78it/s]\n",
      "val loss: 676.308: 100%|██████████| 15/15 [00:00<00:00, 26.97it/s]\n"
     ]
    },
    {
     "name": "stdout",
     "output_type": "stream",
     "text": [
      "Weight saved: epoch 890\n",
      "Epoch 890\tTrain Loss: 605.182  Val Loss: 611.257\n",
      "\n"
     ]
    },
    {
     "name": "stderr",
     "output_type": "stream",
     "text": [
      "train loss: 562.378: 100%|██████████| 57/57 [00:08<00:00,  6.79it/s]\n",
      "val loss: 676.312: 100%|██████████| 15/15 [00:00<00:00, 27.20it/s]\n"
     ]
    },
    {
     "name": "stdout",
     "output_type": "stream",
     "text": [
      "Epoch 891\tTrain Loss: 604.197  Val Loss: 611.257\n",
      "\n"
     ]
    },
    {
     "name": "stderr",
     "output_type": "stream",
     "text": [
      "train loss: 668.445: 100%|██████████| 57/57 [00:08<00:00,  6.78it/s]\n",
      "val loss: 676.310: 100%|██████████| 15/15 [00:00<00:00, 27.14it/s]\n"
     ]
    },
    {
     "name": "stdout",
     "output_type": "stream",
     "text": [
      "Epoch 892\tTrain Loss: 606.014  Val Loss: 611.257\n",
      "\n"
     ]
    },
    {
     "name": "stderr",
     "output_type": "stream",
     "text": [
      "train loss: 652.624: 100%|██████████| 57/57 [00:08<00:00,  6.80it/s]\n",
      "val loss: 676.311: 100%|██████████| 15/15 [00:00<00:00, 27.37it/s]\n"
     ]
    },
    {
     "name": "stdout",
     "output_type": "stream",
     "text": [
      "Weight saved: epoch 893\n",
      "Epoch 893\tTrain Loss: 605.743  Val Loss: 611.257\n",
      "\n"
     ]
    },
    {
     "name": "stderr",
     "output_type": "stream",
     "text": [
      "train loss: 609.867: 100%|██████████| 57/57 [00:08<00:00,  6.76it/s]\n",
      "val loss: 676.314: 100%|██████████| 15/15 [00:00<00:00, 27.03it/s]\n"
     ]
    },
    {
     "name": "stdout",
     "output_type": "stream",
     "text": [
      "Epoch 894\tTrain Loss: 605.010  Val Loss: 611.257\n",
      "\n"
     ]
    },
    {
     "name": "stderr",
     "output_type": "stream",
     "text": [
      "train loss: 572.537: 100%|██████████| 57/57 [00:08<00:00,  6.77it/s]\n",
      "val loss: 676.313: 100%|██████████| 15/15 [00:00<00:00, 27.08it/s]\n"
     ]
    },
    {
     "name": "stdout",
     "output_type": "stream",
     "text": [
      "Weight saved: epoch 895\n",
      "Epoch 895\tTrain Loss: 604.370  Val Loss: 611.256\n",
      "\n"
     ]
    },
    {
     "name": "stderr",
     "output_type": "stream",
     "text": [
      "train loss: 625.269: 100%|██████████| 57/57 [00:08<00:00,  6.78it/s]\n",
      "val loss: 676.310: 100%|██████████| 15/15 [00:00<00:00, 27.04it/s]\n"
     ]
    },
    {
     "name": "stdout",
     "output_type": "stream",
     "text": [
      "Epoch 896\tTrain Loss: 605.274  Val Loss: 611.257\n",
      "\n"
     ]
    },
    {
     "name": "stderr",
     "output_type": "stream",
     "text": [
      "train loss: 624.702: 100%|██████████| 57/57 [00:08<00:00,  6.78it/s]\n",
      "val loss: 676.311: 100%|██████████| 15/15 [00:00<00:00, 26.58it/s]\n"
     ]
    },
    {
     "name": "stdout",
     "output_type": "stream",
     "text": [
      "Epoch 897\tTrain Loss: 605.264  Val Loss: 611.257\n",
      "\n"
     ]
    },
    {
     "name": "stderr",
     "output_type": "stream",
     "text": [
      "train loss: 595.207: 100%|██████████| 57/57 [00:08<00:00,  6.77it/s]\n",
      "val loss: 676.309: 100%|██████████| 15/15 [00:00<00:00, 27.45it/s]\n"
     ]
    },
    {
     "name": "stdout",
     "output_type": "stream",
     "text": [
      "Epoch 898\tTrain Loss: 604.758  Val Loss: 611.257\n",
      "\n"
     ]
    },
    {
     "name": "stderr",
     "output_type": "stream",
     "text": [
      "train loss: 681.416: 100%|██████████| 57/57 [00:08<00:00,  6.78it/s]\n",
      "val loss: 676.310: 100%|██████████| 15/15 [00:00<00:00, 27.56it/s]\n"
     ]
    },
    {
     "name": "stdout",
     "output_type": "stream",
     "text": [
      "Epoch 899\tTrain Loss: 606.235  Val Loss: 611.257\n",
      "\n"
     ]
    },
    {
     "name": "stderr",
     "output_type": "stream",
     "text": [
      "train loss: 638.372: 100%|██████████| 57/57 [00:08<00:00,  6.76it/s]\n",
      "val loss: 676.312: 100%|██████████| 15/15 [00:00<00:00, 27.48it/s]\n"
     ]
    },
    {
     "name": "stdout",
     "output_type": "stream",
     "text": [
      "Epoch 900\tTrain Loss: 605.498  Val Loss: 611.257\n",
      "\n"
     ]
    },
    {
     "name": "stderr",
     "output_type": "stream",
     "text": [
      "train loss: 565.341: 100%|██████████| 57/57 [00:08<00:00,  6.77it/s]\n",
      "val loss: 676.315: 100%|██████████| 15/15 [00:00<00:00, 27.12it/s]\n"
     ]
    },
    {
     "name": "stdout",
     "output_type": "stream",
     "text": [
      "Epoch 901\tTrain Loss: 604.246  Val Loss: 611.257\n",
      "\n"
     ]
    },
    {
     "name": "stderr",
     "output_type": "stream",
     "text": [
      "train loss: 562.705: 100%|██████████| 57/57 [00:08<00:00,  6.74it/s]\n",
      "val loss: 676.313: 100%|██████████| 15/15 [00:00<00:00, 27.14it/s]\n"
     ]
    },
    {
     "name": "stdout",
     "output_type": "stream",
     "text": [
      "Weight saved: epoch 902\n",
      "Epoch 902\tTrain Loss: 604.201  Val Loss: 611.256\n",
      "\n"
     ]
    },
    {
     "name": "stderr",
     "output_type": "stream",
     "text": [
      "train loss: 625.158: 100%|██████████| 57/57 [00:08<00:00,  6.78it/s]\n",
      "val loss: 676.312: 100%|██████████| 15/15 [00:00<00:00, 27.63it/s]\n"
     ]
    },
    {
     "name": "stdout",
     "output_type": "stream",
     "text": [
      "Weight saved: epoch 903\n",
      "Epoch 903\tTrain Loss: 605.271  Val Loss: 611.256\n",
      "\n"
     ]
    },
    {
     "name": "stderr",
     "output_type": "stream",
     "text": [
      "train loss: 628.341: 100%|██████████| 57/57 [00:08<00:00,  6.80it/s]\n",
      "val loss: 676.312: 100%|██████████| 15/15 [00:00<00:00, 27.20it/s]\n"
     ]
    },
    {
     "name": "stdout",
     "output_type": "stream",
     "text": [
      "Weight saved: epoch 904\n",
      "Epoch 904\tTrain Loss: 605.326  Val Loss: 611.256\n",
      "\n"
     ]
    },
    {
     "name": "stderr",
     "output_type": "stream",
     "text": [
      "train loss: 683.677: 100%|██████████| 57/57 [00:08<00:00,  6.81it/s]\n",
      "val loss: 676.315: 100%|██████████| 15/15 [00:00<00:00, 27.13it/s]\n"
     ]
    },
    {
     "name": "stdout",
     "output_type": "stream",
     "text": [
      "Weight saved: epoch 905\n",
      "Epoch 905\tTrain Loss: 606.273  Val Loss: 611.256\n",
      "\n"
     ]
    },
    {
     "name": "stderr",
     "output_type": "stream",
     "text": [
      "train loss: 593.330: 100%|██████████| 57/57 [00:08<00:00,  6.78it/s]\n",
      "val loss: 676.313: 100%|██████████| 15/15 [00:00<00:00, 27.42it/s]\n"
     ]
    },
    {
     "name": "stdout",
     "output_type": "stream",
     "text": [
      "Weight saved: epoch 906\n",
      "Epoch 906\tTrain Loss: 604.725  Val Loss: 611.256\n",
      "\n"
     ]
    },
    {
     "name": "stderr",
     "output_type": "stream",
     "text": [
      "train loss: 502.415: 100%|██████████| 57/57 [00:08<00:00,  6.79it/s]\n",
      "val loss: 676.311: 100%|██████████| 15/15 [00:00<00:00, 27.00it/s]\n"
     ]
    },
    {
     "name": "stdout",
     "output_type": "stream",
     "text": [
      "Epoch 907\tTrain Loss: 603.168  Val Loss: 611.256\n",
      "\n"
     ]
    },
    {
     "name": "stderr",
     "output_type": "stream",
     "text": [
      "train loss: 659.202: 100%|██████████| 57/57 [00:08<00:00,  6.80it/s]\n",
      "val loss: 676.310: 100%|██████████| 15/15 [00:00<00:00, 27.34it/s]\n"
     ]
    },
    {
     "name": "stdout",
     "output_type": "stream",
     "text": [
      "Epoch 908\tTrain Loss: 605.854  Val Loss: 611.256\n",
      "\n"
     ]
    },
    {
     "name": "stderr",
     "output_type": "stream",
     "text": [
      "train loss: 577.976: 100%|██████████| 57/57 [00:08<00:00,  6.78it/s]\n",
      "val loss: 676.312: 100%|██████████| 15/15 [00:00<00:00, 27.12it/s]\n"
     ]
    },
    {
     "name": "stdout",
     "output_type": "stream",
     "text": [
      "Epoch 909\tTrain Loss: 604.462  Val Loss: 611.256\n",
      "\n"
     ]
    },
    {
     "name": "stderr",
     "output_type": "stream",
     "text": [
      "train loss: 612.634: 100%|██████████| 57/57 [00:08<00:00,  6.80it/s]\n",
      "val loss: 676.311: 100%|██████████| 15/15 [00:00<00:00, 26.21it/s]\n"
     ]
    },
    {
     "name": "stdout",
     "output_type": "stream",
     "text": [
      "Weight saved: epoch 910\n",
      "Epoch 910\tTrain Loss: 605.056  Val Loss: 611.255\n",
      "\n"
     ]
    },
    {
     "name": "stderr",
     "output_type": "stream",
     "text": [
      "train loss: 528.664: 100%|██████████| 57/57 [00:08<00:00,  6.78it/s]\n",
      "val loss: 676.308: 100%|██████████| 15/15 [00:00<00:00, 27.26it/s]\n"
     ]
    },
    {
     "name": "stdout",
     "output_type": "stream",
     "text": [
      "Epoch 911\tTrain Loss: 603.617  Val Loss: 611.256\n",
      "\n"
     ]
    },
    {
     "name": "stderr",
     "output_type": "stream",
     "text": [
      "train loss: 558.770: 100%|██████████| 57/57 [00:08<00:00,  6.78it/s]\n",
      "val loss: 676.309: 100%|██████████| 15/15 [00:00<00:00, 26.50it/s]\n"
     ]
    },
    {
     "name": "stdout",
     "output_type": "stream",
     "text": [
      "Epoch 912\tTrain Loss: 604.133  Val Loss: 611.256\n",
      "\n"
     ]
    },
    {
     "name": "stderr",
     "output_type": "stream",
     "text": [
      "train loss: 677.751: 100%|██████████| 57/57 [00:08<00:00,  6.76it/s]\n",
      "val loss: 676.312: 100%|██████████| 15/15 [00:00<00:00, 27.48it/s]\n"
     ]
    },
    {
     "name": "stdout",
     "output_type": "stream",
     "text": [
      "Epoch 913\tTrain Loss: 606.171  Val Loss: 611.256\n",
      "\n"
     ]
    },
    {
     "name": "stderr",
     "output_type": "stream",
     "text": [
      "train loss: 554.651: 100%|██████████| 57/57 [00:08<00:00,  6.80it/s]\n",
      "val loss: 676.315: 100%|██████████| 15/15 [00:00<00:00, 27.02it/s]\n"
     ]
    },
    {
     "name": "stdout",
     "output_type": "stream",
     "text": [
      "Epoch 914\tTrain Loss: 604.062  Val Loss: 611.255\n",
      "\n"
     ]
    },
    {
     "name": "stderr",
     "output_type": "stream",
     "text": [
      "train loss: 574.849: 100%|██████████| 57/57 [00:08<00:00,  6.80it/s]\n",
      "val loss: 676.313: 100%|██████████| 15/15 [00:00<00:00, 27.70it/s]\n"
     ]
    },
    {
     "name": "stdout",
     "output_type": "stream",
     "text": [
      "Epoch 915\tTrain Loss: 604.408  Val Loss: 611.255\n",
      "\n"
     ]
    },
    {
     "name": "stderr",
     "output_type": "stream",
     "text": [
      "train loss: 603.073: 100%|██████████| 57/57 [00:08<00:00,  6.79it/s]\n",
      "val loss: 676.314: 100%|██████████| 15/15 [00:00<00:00, 27.05it/s]\n"
     ]
    },
    {
     "name": "stdout",
     "output_type": "stream",
     "text": [
      "Epoch 916\tTrain Loss: 604.891  Val Loss: 611.256\n",
      "\n"
     ]
    },
    {
     "name": "stderr",
     "output_type": "stream",
     "text": [
      "train loss: 606.859: 100%|██████████| 57/57 [00:08<00:00,  6.84it/s]\n",
      "val loss: 676.313: 100%|██████████| 15/15 [00:00<00:00, 26.99it/s]\n"
     ]
    },
    {
     "name": "stdout",
     "output_type": "stream",
     "text": [
      "Epoch 917\tTrain Loss: 604.956  Val Loss: 611.256\n",
      "\n"
     ]
    },
    {
     "name": "stderr",
     "output_type": "stream",
     "text": [
      "train loss: 605.926: 100%|██████████| 57/57 [00:08<00:00,  6.80it/s]\n",
      "val loss: 676.316: 100%|██████████| 15/15 [00:00<00:00, 27.56it/s]\n"
     ]
    },
    {
     "name": "stdout",
     "output_type": "stream",
     "text": [
      "Epoch 918\tTrain Loss: 604.940  Val Loss: 611.256\n",
      "\n"
     ]
    },
    {
     "name": "stderr",
     "output_type": "stream",
     "text": [
      "train loss: 644.682: 100%|██████████| 57/57 [00:08<00:00,  6.79it/s]\n",
      "val loss: 676.317: 100%|██████████| 15/15 [00:00<00:00, 27.21it/s]\n"
     ]
    },
    {
     "name": "stdout",
     "output_type": "stream",
     "text": [
      "Epoch 919\tTrain Loss: 605.604  Val Loss: 611.256\n",
      "\n"
     ]
    },
    {
     "name": "stderr",
     "output_type": "stream",
     "text": [
      "train loss: 614.667: 100%|██████████| 57/57 [00:08<00:00,  6.80it/s]\n",
      "val loss: 676.315: 100%|██████████| 15/15 [00:00<00:00, 27.36it/s]\n"
     ]
    },
    {
     "name": "stdout",
     "output_type": "stream",
     "text": [
      "Epoch 920\tTrain Loss: 605.090  Val Loss: 611.256\n",
      "\n"
     ]
    },
    {
     "name": "stderr",
     "output_type": "stream",
     "text": [
      "train loss: 642.564: 100%|██████████| 57/57 [00:08<00:00,  6.82it/s]\n",
      "val loss: 676.317: 100%|██████████| 15/15 [00:00<00:00, 27.63it/s]\n"
     ]
    },
    {
     "name": "stdout",
     "output_type": "stream",
     "text": [
      "Epoch 921\tTrain Loss: 605.568  Val Loss: 611.255\n",
      "\n"
     ]
    },
    {
     "name": "stderr",
     "output_type": "stream",
     "text": [
      "train loss: 610.621: 100%|██████████| 57/57 [00:08<00:00,  6.84it/s]\n",
      "val loss: 676.316: 100%|██████████| 15/15 [00:00<00:00, 27.00it/s]\n"
     ]
    },
    {
     "name": "stdout",
     "output_type": "stream",
     "text": [
      "Epoch 922\tTrain Loss: 605.020  Val Loss: 611.256\n",
      "\n"
     ]
    },
    {
     "name": "stderr",
     "output_type": "stream",
     "text": [
      "train loss: 675.135: 100%|██████████| 57/57 [00:08<00:00,  6.80it/s]\n",
      "val loss: 676.314: 100%|██████████| 15/15 [00:00<00:00, 27.77it/s]\n"
     ]
    },
    {
     "name": "stdout",
     "output_type": "stream",
     "text": [
      "Epoch 923\tTrain Loss: 606.125  Val Loss: 611.255\n",
      "\n"
     ]
    },
    {
     "name": "stderr",
     "output_type": "stream",
     "text": [
      "train loss: 638.156: 100%|██████████| 57/57 [00:08<00:00,  6.82it/s]\n",
      "val loss: 676.317: 100%|██████████| 15/15 [00:00<00:00, 27.54it/s]\n"
     ]
    },
    {
     "name": "stdout",
     "output_type": "stream",
     "text": [
      "Weight saved: epoch 924\n",
      "Epoch 924\tTrain Loss: 605.492  Val Loss: 611.255\n",
      "\n"
     ]
    },
    {
     "name": "stderr",
     "output_type": "stream",
     "text": [
      "train loss: 578.027: 100%|██████████| 57/57 [00:08<00:00,  6.88it/s]\n",
      "val loss: 676.315: 100%|██████████| 15/15 [00:00<00:00, 27.31it/s]\n"
     ]
    },
    {
     "name": "stdout",
     "output_type": "stream",
     "text": [
      "Weight saved: epoch 925\n",
      "Epoch 925\tTrain Loss: 604.461  Val Loss: 611.255\n",
      "\n"
     ]
    },
    {
     "name": "stderr",
     "output_type": "stream",
     "text": [
      "train loss: 606.238: 100%|██████████| 57/57 [00:08<00:00,  6.85it/s]\n",
      "val loss: 676.317: 100%|██████████| 15/15 [00:00<00:00, 26.77it/s]\n"
     ]
    },
    {
     "name": "stdout",
     "output_type": "stream",
     "text": [
      "Weight saved: epoch 926\n",
      "Epoch 926\tTrain Loss: 604.945  Val Loss: 611.255\n",
      "\n"
     ]
    },
    {
     "name": "stderr",
     "output_type": "stream",
     "text": [
      "train loss: 641.947: 100%|██████████| 57/57 [00:08<00:00,  6.84it/s]\n",
      "val loss: 676.316: 100%|██████████| 15/15 [00:00<00:00, 27.58it/s]\n"
     ]
    },
    {
     "name": "stdout",
     "output_type": "stream",
     "text": [
      "Epoch 927\tTrain Loss: 605.556  Val Loss: 611.255\n",
      "\n"
     ]
    },
    {
     "name": "stderr",
     "output_type": "stream",
     "text": [
      "train loss: 627.988: 100%|██████████| 57/57 [00:08<00:00,  6.88it/s]\n",
      "val loss: 676.314: 100%|██████████| 15/15 [00:00<00:00, 27.36it/s]\n"
     ]
    },
    {
     "name": "stdout",
     "output_type": "stream",
     "text": [
      "Weight saved: epoch 928\n",
      "Epoch 928\tTrain Loss: 605.317  Val Loss: 611.255\n",
      "\n"
     ]
    },
    {
     "name": "stderr",
     "output_type": "stream",
     "text": [
      "train loss: 583.279: 100%|██████████| 57/57 [00:08<00:00,  6.88it/s]\n",
      "val loss: 676.312: 100%|██████████| 15/15 [00:00<00:00, 27.02it/s]\n"
     ]
    },
    {
     "name": "stdout",
     "output_type": "stream",
     "text": [
      "Weight saved: epoch 929\n",
      "Epoch 929\tTrain Loss: 604.551  Val Loss: 611.254\n",
      "\n"
     ]
    },
    {
     "name": "stderr",
     "output_type": "stream",
     "text": [
      "train loss: 594.139: 100%|██████████| 57/57 [00:08<00:00,  6.85it/s]\n",
      "val loss: 676.316: 100%|██████████| 15/15 [00:00<00:00, 26.80it/s]\n"
     ]
    },
    {
     "name": "stdout",
     "output_type": "stream",
     "text": [
      "Epoch 930\tTrain Loss: 604.737  Val Loss: 611.254\n",
      "\n"
     ]
    },
    {
     "name": "stderr",
     "output_type": "stream",
     "text": [
      "train loss: 643.717: 100%|██████████| 57/57 [00:08<00:00,  6.83it/s]\n",
      "val loss: 676.313: 100%|██████████| 15/15 [00:00<00:00, 27.17it/s]\n"
     ]
    },
    {
     "name": "stdout",
     "output_type": "stream",
     "text": [
      "Weight saved: epoch 931\n",
      "Epoch 931\tTrain Loss: 605.586  Val Loss: 611.254\n",
      "\n"
     ]
    },
    {
     "name": "stderr",
     "output_type": "stream",
     "text": [
      "train loss: 639.134: 100%|██████████| 57/57 [00:08<00:00,  6.78it/s]\n",
      "val loss: 676.314: 100%|██████████| 15/15 [00:00<00:00, 27.11it/s]\n"
     ]
    },
    {
     "name": "stdout",
     "output_type": "stream",
     "text": [
      "Epoch 932\tTrain Loss: 605.508  Val Loss: 611.255\n",
      "\n"
     ]
    },
    {
     "name": "stderr",
     "output_type": "stream",
     "text": [
      "train loss: 641.218: 100%|██████████| 57/57 [00:08<00:00,  6.74it/s]\n",
      "val loss: 676.313: 100%|██████████| 15/15 [00:00<00:00, 27.30it/s]\n"
     ]
    },
    {
     "name": "stdout",
     "output_type": "stream",
     "text": [
      "Epoch 933\tTrain Loss: 605.543  Val Loss: 611.255\n",
      "\n"
     ]
    },
    {
     "name": "stderr",
     "output_type": "stream",
     "text": [
      "train loss: 604.877: 100%|██████████| 57/57 [00:08<00:00,  6.76it/s]\n",
      "val loss: 676.312: 100%|██████████| 15/15 [00:00<00:00, 27.01it/s]\n"
     ]
    },
    {
     "name": "stdout",
     "output_type": "stream",
     "text": [
      "Epoch 934\tTrain Loss: 604.921  Val Loss: 611.255\n",
      "\n"
     ]
    },
    {
     "name": "stderr",
     "output_type": "stream",
     "text": [
      "train loss: 659.281: 100%|██████████| 57/57 [00:08<00:00,  6.71it/s]\n",
      "val loss: 676.315: 100%|██████████| 15/15 [00:00<00:00, 26.93it/s]\n"
     ]
    },
    {
     "name": "stdout",
     "output_type": "stream",
     "text": [
      "Weight saved: epoch 935\n",
      "Epoch 935\tTrain Loss: 605.853  Val Loss: 611.254\n",
      "\n"
     ]
    },
    {
     "name": "stderr",
     "output_type": "stream",
     "text": [
      "train loss: 638.074: 100%|██████████| 57/57 [00:08<00:00,  6.73it/s]\n",
      "val loss: 676.314: 100%|██████████| 15/15 [00:00<00:00, 25.05it/s]\n"
     ]
    },
    {
     "name": "stdout",
     "output_type": "stream",
     "text": [
      "Epoch 936\tTrain Loss: 605.489  Val Loss: 611.254\n",
      "\n"
     ]
    },
    {
     "name": "stderr",
     "output_type": "stream",
     "text": [
      "train loss: 569.680: 100%|██████████| 57/57 [00:08<00:00,  6.87it/s]\n",
      "val loss: 676.314: 100%|██████████| 15/15 [00:00<00:00, 27.20it/s]\n"
     ]
    },
    {
     "name": "stdout",
     "output_type": "stream",
     "text": [
      "Epoch 937\tTrain Loss: 604.317  Val Loss: 611.254\n",
      "\n"
     ]
    },
    {
     "name": "stderr",
     "output_type": "stream",
     "text": [
      "train loss: 656.914: 100%|██████████| 57/57 [00:08<00:00,  6.86it/s]\n",
      "val loss: 676.316: 100%|██████████| 15/15 [00:00<00:00, 27.09it/s]\n"
     ]
    },
    {
     "name": "stdout",
     "output_type": "stream",
     "text": [
      "Weight saved: epoch 938\n",
      "Epoch 938\tTrain Loss: 605.812  Val Loss: 611.254\n",
      "\n"
     ]
    },
    {
     "name": "stderr",
     "output_type": "stream",
     "text": [
      "train loss: 620.384: 100%|██████████| 57/57 [00:08<00:00,  6.69it/s]\n",
      "val loss: 676.314: 100%|██████████| 15/15 [00:00<00:00, 26.79it/s]\n"
     ]
    },
    {
     "name": "stdout",
     "output_type": "stream",
     "text": [
      "Weight saved: epoch 939\n",
      "Epoch 939\tTrain Loss: 605.186  Val Loss: 611.254\n",
      "\n"
     ]
    },
    {
     "name": "stderr",
     "output_type": "stream",
     "text": [
      "train loss: 607.740: 100%|██████████| 57/57 [00:08<00:00,  6.65it/s]\n",
      "val loss: 676.312: 100%|██████████| 15/15 [00:00<00:00, 26.97it/s]\n"
     ]
    },
    {
     "name": "stdout",
     "output_type": "stream",
     "text": [
      "Weight saved: epoch 940\n",
      "Epoch 940\tTrain Loss: 604.969  Val Loss: 611.253\n",
      "\n"
     ]
    },
    {
     "name": "stderr",
     "output_type": "stream",
     "text": [
      "train loss: 589.260: 100%|██████████| 57/57 [00:08<00:00,  6.78it/s]\n",
      "val loss: 676.315: 100%|██████████| 15/15 [00:00<00:00, 27.22it/s]\n"
     ]
    },
    {
     "name": "stdout",
     "output_type": "stream",
     "text": [
      "Epoch 941\tTrain Loss: 604.652  Val Loss: 611.253\n",
      "\n"
     ]
    },
    {
     "name": "stderr",
     "output_type": "stream",
     "text": [
      "train loss: 619.869: 100%|██████████| 57/57 [00:08<00:00,  6.83it/s]\n",
      "val loss: 676.315: 100%|██████████| 15/15 [00:00<00:00, 27.57it/s]\n"
     ]
    },
    {
     "name": "stdout",
     "output_type": "stream",
     "text": [
      "Epoch 942\tTrain Loss: 605.177  Val Loss: 611.253\n",
      "\n"
     ]
    },
    {
     "name": "stderr",
     "output_type": "stream",
     "text": [
      "train loss: 617.478: 100%|██████████| 57/57 [00:08<00:00,  6.78it/s]\n",
      "val loss: 676.318: 100%|██████████| 15/15 [00:00<00:00, 25.68it/s]\n"
     ]
    },
    {
     "name": "stdout",
     "output_type": "stream",
     "text": [
      "Epoch 943\tTrain Loss: 605.136  Val Loss: 611.253\n",
      "\n"
     ]
    },
    {
     "name": "stderr",
     "output_type": "stream",
     "text": [
      "train loss: 605.942: 100%|██████████| 57/57 [00:08<00:00,  6.82it/s]\n",
      "val loss: 676.315: 100%|██████████| 15/15 [00:00<00:00, 27.29it/s]\n"
     ]
    },
    {
     "name": "stdout",
     "output_type": "stream",
     "text": [
      "Epoch 944\tTrain Loss: 604.938  Val Loss: 611.253\n",
      "\n"
     ]
    },
    {
     "name": "stderr",
     "output_type": "stream",
     "text": [
      "train loss: 555.283: 100%|██████████| 57/57 [00:08<00:00,  6.82it/s]\n",
      "val loss: 676.316: 100%|██████████| 15/15 [00:00<00:00, 25.08it/s]\n"
     ]
    },
    {
     "name": "stdout",
     "output_type": "stream",
     "text": [
      "Epoch 945\tTrain Loss: 604.070  Val Loss: 611.254\n",
      "\n"
     ]
    },
    {
     "name": "stderr",
     "output_type": "stream",
     "text": [
      "train loss: 632.155: 100%|██████████| 57/57 [00:08<00:00,  6.80it/s]\n",
      "val loss: 676.317: 100%|██████████| 15/15 [00:00<00:00, 27.34it/s]\n"
     ]
    },
    {
     "name": "stdout",
     "output_type": "stream",
     "text": [
      "Epoch 946\tTrain Loss: 605.387  Val Loss: 611.254\n",
      "\n"
     ]
    },
    {
     "name": "stderr",
     "output_type": "stream",
     "text": [
      "train loss: 577.007: 100%|██████████| 57/57 [00:08<00:00,  6.81it/s]\n",
      "val loss: 676.316: 100%|██████████| 15/15 [00:00<00:00, 27.56it/s]\n"
     ]
    },
    {
     "name": "stdout",
     "output_type": "stream",
     "text": [
      "Epoch 947\tTrain Loss: 604.442  Val Loss: 611.253\n",
      "\n"
     ]
    },
    {
     "name": "stderr",
     "output_type": "stream",
     "text": [
      "train loss: 589.461: 100%|██████████| 57/57 [00:08<00:00,  6.81it/s]\n",
      "val loss: 676.316: 100%|██████████| 15/15 [00:00<00:00, 27.15it/s]\n"
     ]
    },
    {
     "name": "stdout",
     "output_type": "stream",
     "text": [
      "Weight saved: epoch 948\n",
      "Epoch 948\tTrain Loss: 604.655  Val Loss: 611.253\n",
      "\n"
     ]
    },
    {
     "name": "stderr",
     "output_type": "stream",
     "text": [
      "train loss: 636.308: 100%|██████████| 57/57 [00:08<00:00,  6.81it/s]\n",
      "val loss: 676.316: 100%|██████████| 15/15 [00:00<00:00, 27.70it/s]\n"
     ]
    },
    {
     "name": "stdout",
     "output_type": "stream",
     "text": [
      "Epoch 949\tTrain Loss: 605.458  Val Loss: 611.253\n",
      "\n"
     ]
    },
    {
     "name": "stderr",
     "output_type": "stream",
     "text": [
      "train loss: 647.872: 100%|██████████| 57/57 [00:08<00:00,  6.81it/s]\n",
      "val loss: 676.315: 100%|██████████| 15/15 [00:00<00:00, 26.73it/s]\n"
     ]
    },
    {
     "name": "stdout",
     "output_type": "stream",
     "text": [
      "Epoch 950\tTrain Loss: 605.656  Val Loss: 611.253\n",
      "\n"
     ]
    },
    {
     "name": "stderr",
     "output_type": "stream",
     "text": [
      "train loss: 630.403: 100%|██████████| 57/57 [00:08<00:00,  6.83it/s]\n",
      "val loss: 676.317: 100%|██████████| 15/15 [00:00<00:00, 27.28it/s]\n"
     ]
    },
    {
     "name": "stdout",
     "output_type": "stream",
     "text": [
      "Epoch 951\tTrain Loss: 605.356  Val Loss: 611.253\n",
      "\n"
     ]
    },
    {
     "name": "stderr",
     "output_type": "stream",
     "text": [
      "train loss: 632.657: 100%|██████████| 57/57 [00:08<00:00,  6.83it/s]\n",
      "val loss: 676.316: 100%|██████████| 15/15 [00:00<00:00, 27.25it/s]\n"
     ]
    },
    {
     "name": "stdout",
     "output_type": "stream",
     "text": [
      "Weight saved: epoch 952\n",
      "Epoch 952\tTrain Loss: 605.395  Val Loss: 611.253\n",
      "\n"
     ]
    },
    {
     "name": "stderr",
     "output_type": "stream",
     "text": [
      "train loss: 623.816: 100%|██████████| 57/57 [00:08<00:00,  6.76it/s]\n",
      "val loss: 676.316: 100%|██████████| 15/15 [00:00<00:00, 26.61it/s]\n"
     ]
    },
    {
     "name": "stdout",
     "output_type": "stream",
     "text": [
      "Weight saved: epoch 953\n",
      "Epoch 953\tTrain Loss: 605.243  Val Loss: 611.253\n",
      "\n"
     ]
    },
    {
     "name": "stderr",
     "output_type": "stream",
     "text": [
      "train loss: 609.127:  32%|███▏      | 18/57 [00:02<00:06,  6.32it/s]\n"
     ]
    },
    {
     "ename": "KeyboardInterrupt",
     "evalue": "",
     "output_type": "error",
     "traceback": [
      "\u001b[0;31m---------------------------------------------------------------------------\u001b[0m",
      "\u001b[0;31mKeyboardInterrupt\u001b[0m                         Traceback (most recent call last)",
      "\u001b[1;32m/home/quincy/Documents/upwork/symbolic/kcg-ml-vae-test/fc_test.ipynb Cell 8\u001b[0m line \u001b[0;36m4\n\u001b[1;32m      <a href='vscode-notebook-cell:/home/quincy/Documents/upwork/symbolic/kcg-ml-vae-test/fc_test.ipynb#X10sZmlsZQ%3D%3D?line=0'>1</a>\u001b[0m train_loader \u001b[39m=\u001b[39m DataLoader(train_dataset, batch_size\u001b[39m=\u001b[39mbatch_size, shuffle\u001b[39m=\u001b[39m\u001b[39mTrue\u001b[39;00m)\n\u001b[1;32m      <a href='vscode-notebook-cell:/home/quincy/Documents/upwork/symbolic/kcg-ml-vae-test/fc_test.ipynb#X10sZmlsZQ%3D%3D?line=1'>2</a>\u001b[0m val_loader \u001b[39m=\u001b[39m DataLoader(val_dataset, batch_size\u001b[39m=\u001b[39mbatch_size, shuffle\u001b[39m=\u001b[39m\u001b[39mFalse\u001b[39;00m)\n\u001b[0;32m----> <a href='vscode-notebook-cell:/home/quincy/Documents/upwork/symbolic/kcg-ml-vae-test/fc_test.ipynb#X10sZmlsZQ%3D%3D?line=3'>4</a>\u001b[0m train_utils\u001b[39m.\u001b[39;49mtrain_loop(\n\u001b[1;32m      <a href='vscode-notebook-cell:/home/quincy/Documents/upwork/symbolic/kcg-ml-vae-test/fc_test.ipynb#X10sZmlsZQ%3D%3D?line=4'>5</a>\u001b[0m     train_loader\u001b[39m=\u001b[39;49mtrain_loader,\n\u001b[1;32m      <a href='vscode-notebook-cell:/home/quincy/Documents/upwork/symbolic/kcg-ml-vae-test/fc_test.ipynb#X10sZmlsZQ%3D%3D?line=5'>6</a>\u001b[0m     val_loader\u001b[39m=\u001b[39;49mval_loader,\n\u001b[1;32m      <a href='vscode-notebook-cell:/home/quincy/Documents/upwork/symbolic/kcg-ml-vae-test/fc_test.ipynb#X10sZmlsZQ%3D%3D?line=6'>7</a>\u001b[0m     model\u001b[39m=\u001b[39;49mmodel,\n\u001b[1;32m      <a href='vscode-notebook-cell:/home/quincy/Documents/upwork/symbolic/kcg-ml-vae-test/fc_test.ipynb#X10sZmlsZQ%3D%3D?line=7'>8</a>\u001b[0m     criterion\u001b[39m=\u001b[39;49mcriterion,\n\u001b[1;32m      <a href='vscode-notebook-cell:/home/quincy/Documents/upwork/symbolic/kcg-ml-vae-test/fc_test.ipynb#X10sZmlsZQ%3D%3D?line=8'>9</a>\u001b[0m     device\u001b[39m=\u001b[39;49mdevice,\n\u001b[1;32m     <a href='vscode-notebook-cell:/home/quincy/Documents/upwork/symbolic/kcg-ml-vae-test/fc_test.ipynb#X10sZmlsZQ%3D%3D?line=9'>10</a>\u001b[0m     optimizer\u001b[39m=\u001b[39;49moptimizer,\n\u001b[1;32m     <a href='vscode-notebook-cell:/home/quincy/Documents/upwork/symbolic/kcg-ml-vae-test/fc_test.ipynb#X10sZmlsZQ%3D%3D?line=10'>11</a>\u001b[0m     epochs\u001b[39m=\u001b[39;49mepoch,\n\u001b[1;32m     <a href='vscode-notebook-cell:/home/quincy/Documents/upwork/symbolic/kcg-ml-vae-test/fc_test.ipynb#X10sZmlsZQ%3D%3D?line=11'>12</a>\u001b[0m     save_path\u001b[39m=\u001b[39;49msave_path,\n\u001b[1;32m     <a href='vscode-notebook-cell:/home/quincy/Documents/upwork/symbolic/kcg-ml-vae-test/fc_test.ipynb#X10sZmlsZQ%3D%3D?line=12'>13</a>\u001b[0m     scheduler\u001b[39m=\u001b[39;49mscheduler\n\u001b[1;32m     <a href='vscode-notebook-cell:/home/quincy/Documents/upwork/symbolic/kcg-ml-vae-test/fc_test.ipynb#X10sZmlsZQ%3D%3D?line=13'>14</a>\u001b[0m )\n",
      "File \u001b[0;32m~/Documents/upwork/symbolic/kcg-ml-vae-test/utilities/train_utils.py:78\u001b[0m, in \u001b[0;36mtrain_loop\u001b[0;34m(train_loader, val_loader, model, device, criterion, optimizer, scheduler, epochs, save_path, eval_every, clip_value)\u001b[0m\n\u001b[1;32m     76\u001b[0m val_losses \u001b[39m=\u001b[39m []\n\u001b[1;32m     77\u001b[0m \u001b[39mfor\u001b[39;00m epoch \u001b[39min\u001b[39;00m \u001b[39mrange\u001b[39m(epochs):\n\u001b[0;32m---> 78\u001b[0m     train_loss, model, optimizer \u001b[39m=\u001b[39m simple_train_step(\n\u001b[1;32m     79\u001b[0m         train_loader, model, device, criterion, optimizer, clip_value)\n\u001b[1;32m     80\u001b[0m     train_losses\u001b[39m.\u001b[39mappend(train_loss\u001b[39m.\u001b[39mdetach()\u001b[39m.\u001b[39mnumpy())\n\u001b[1;32m     82\u001b[0m     \u001b[39mif\u001b[39;00m (epoch\u001b[39m+\u001b[39m\u001b[39m1\u001b[39m)\u001b[39m%\u001b[39meval_every \u001b[39m==\u001b[39m \u001b[39m0\u001b[39m:\n",
      "File \u001b[0;32m~/Documents/upwork/symbolic/kcg-ml-vae-test/utilities/train_utils.py:34\u001b[0m, in \u001b[0;36msimple_train_step\u001b[0;34m(dataloader, model, device, criterion, optimizer, clip_value)\u001b[0m\n\u001b[1;32m     32\u001b[0m     optimizer\u001b[39m.\u001b[39mstep()\n\u001b[1;32m     33\u001b[0m     losses\u001b[39m.\u001b[39mappend(avg_loss)\n\u001b[0;32m---> 34\u001b[0m     pbar\u001b[39m.\u001b[39mset_description(\u001b[39mf\u001b[39m\u001b[39m'\u001b[39m\u001b[39mtrain loss: \u001b[39m\u001b[39m{\u001b[39;00mavg_loss\u001b[39m.\u001b[39;49mitem()\u001b[39m:\u001b[39;00m\u001b[39m.3f\u001b[39m\u001b[39m}\u001b[39;00m\u001b[39m'\u001b[39m)\n\u001b[1;32m     36\u001b[0m losses \u001b[39m=\u001b[39m torch\u001b[39m.\u001b[39mstack(losses, \u001b[39m0\u001b[39m)\n\u001b[1;32m     37\u001b[0m epoch_loss \u001b[39m=\u001b[39m torch\u001b[39m.\u001b[39mmean(losses)\u001b[39m.\u001b[39mcpu()\n",
      "\u001b[0;31mKeyboardInterrupt\u001b[0m: "
     ]
    }
   ],
   "source": [
    "train_loader = DataLoader(train_dataset, batch_size=batch_size, shuffle=True)\n",
    "val_loader = DataLoader(val_dataset, batch_size=batch_size, shuffle=False)\n",
    "\n",
    "train_utils.train_loop(\n",
    "    train_loader=train_loader,\n",
    "    val_loader=val_loader,\n",
    "    model=model,\n",
    "    criterion=criterion,\n",
    "    device=device,\n",
    "    optimizer=optimizer,\n",
    "    epochs=epoch,\n",
    "    save_path=save_path,\n",
    "    scheduler=scheduler\n",
    ")"
   ]
  },
  {
   "cell_type": "code",
   "execution_count": 17,
   "metadata": {},
   "outputs": [
    {
     "data": {
      "text/plain": [
       "tensor(17.6577, device='cuda:0')"
      ]
     },
     "execution_count": 17,
     "metadata": {},
     "output_type": "execute_result"
    }
   ],
   "source": [
    "model.eval()\n",
    "with torch.no_grad():\n",
    "    recon = model(val_data.to(device))\n",
    "\n",
    "criterion(val_data.to(device), recon, model.z) / 800 / 77"
   ]
  },
  {
   "cell_type": "code",
   "execution_count": null,
   "metadata": {},
   "outputs": [],
   "source": []
  }
 ],
 "metadata": {
  "kernelspec": {
   "display_name": "Python 3 (ipykernel)",
   "language": "python",
   "name": "python3"
  },
  "language_info": {
   "codemirror_mode": {
    "name": "ipython",
    "version": 3
   },
   "file_extension": ".py",
   "mimetype": "text/x-python",
   "name": "python",
   "nbconvert_exporter": "python",
   "pygments_lexer": "ipython3",
   "version": "3.10.13"
  }
 },
 "nbformat": 4,
 "nbformat_minor": 4
}
