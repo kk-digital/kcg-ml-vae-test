{
 "cells": [
  {
   "cell_type": "code",
   "execution_count": 1,
   "metadata": {},
   "outputs": [],
   "source": [
    "from utilities import utils, train_utils\n",
    "from models.LSTM_AE import LSTM_AE\n",
    "from sklearn.model_selection import train_test_split\n",
    "from sklearn.preprocessing import StandardScaler\n",
    "from torch.utils.data import DataLoader, TensorDataset\n",
    "\n",
    "import numpy as np\n",
    "\n",
    "import os\n",
    "import glob\n",
    "import torch\n",
    "import tqdm\n",
    "import zipfile"
   ]
  },
  {
   "cell_type": "code",
   "execution_count": 2,
   "metadata": {},
   "outputs": [],
   "source": [
    "experiment_config = './experiment_configs/LSTM_AE_exp00.yml'\n",
    "\n",
    "split_seed = 42\n",
    "\n",
    "data_url = 'https://mega.nz/file/sMpHGCbA#b0eT2MQjOJzvicnGzESXDF2Z5KXznIfw4OdLQRDA21s'\n",
    "data_save_path = 'data'\n",
    "configs = utils.read_yaml(experiment_config)\n",
    "device = train_utils.get_device()"
   ]
  },
  {
   "cell_type": "code",
   "execution_count": null,
   "metadata": {},
   "outputs": [],
   "source": [
    "utils.download_mega(data_url, data_save_path)\n",
    "with zipfile.ZipFile('./data/environmental_embeddings_1k-msg-pack-2023-10-17.zip', 'r') as zip_ref:\n",
    "    zip_ref.extractall(data_save_path)"
   ]
  },
  {
   "cell_type": "code",
   "execution_count": 3,
   "metadata": {},
   "outputs": [
    {
     "name": "stderr",
     "output_type": "stream",
     "text": [
      "100%|██████████| 1000/1000 [00:04<00:00, 201.66it/s]\n"
     ]
    }
   ],
   "source": [
    "# TODO: wrap this in utils\n",
    "paths = sorted(glob.glob('./data/environmental_embeddings_0001/0001/*.msgpack'))\n",
    "\n",
    "X = []\n",
    "for path in tqdm.tqdm(paths):\n",
    "    pos_emb, neg_emb = utils.read_embedding_data(path)\n",
    "    X.append(pos_emb)\n",
    "X = np.concatenate(X, axis=0)\n",
    "\n",
    "Xtr, Xvl = train_test_split(X, test_size=0.2, random_state=split_seed)"
   ]
  },
  {
   "cell_type": "code",
   "execution_count": 4,
   "metadata": {},
   "outputs": [],
   "source": [
    "mean = np.mean(Xtr)\n",
    "var = np.var(Xtr)\n",
    "\n",
    "Xtr_scl = (Xtr - mean) / var\n",
    "Xvl_scl = (Xvl - mean) / var"
   ]
  },
  {
   "cell_type": "code",
   "execution_count": 5,
   "metadata": {},
   "outputs": [],
   "source": [
    "train_data = torch.tensor(Xtr_scl, dtype=torch.float32)\n",
    "val_data = torch.tensor(Xvl_scl, dtype=torch.float32)\n",
    "\n",
    "train_dataset = TensorDataset(train_data)\n",
    "val_dataset = TensorDataset(val_data)\n",
    "\n",
    "train_loader = DataLoader(train_dataset, batch_size=configs['batch_size'], shuffle=True)\n",
    "val_loader = DataLoader(val_dataset, batch_size=configs['batch_size'], shuffle=False)"
   ]
  },
  {
   "cell_type": "code",
   "execution_count": 6,
   "metadata": {},
   "outputs": [],
   "source": [
    "# TODO: clean this\n",
    "if configs['out_activ'] == 'tanh':\n",
    "    out_activ = torch.nn.Tanh()\n",
    "elif configs['out_activ'] == 'sigmoid':\n",
    "    out_activ = torch.nn.Sigmoid()\n",
    "\n",
    "model = LSTM_AE(\n",
    "    input_dim=configs['input_dim'],\n",
    "    encoding_dim=configs['encoding_dim'],\n",
    "    h_dims=configs['h_dims'],\n",
    "    out_activ=out_activ\n",
    ")\n",
    "\n",
    "model.to(device)\n",
    "optimizer = torch.optim.Adam(model.parameters(), lr=configs['lr'])\n",
    "criterion = torch.nn.MSELoss(reduction='sum')"
   ]
  },
  {
   "cell_type": "code",
   "execution_count": 7,
   "metadata": {},
   "outputs": [
    {
     "name": "stderr",
     "output_type": "stream",
     "text": [
      "train loss: 45077.418: 100%|██████████| 25/25 [00:09<00:00,  2.62it/s]\n",
      "val loss: 45419.074: 100%|██████████| 7/7 [00:01<00:00,  6.04it/s]\n"
     ]
    },
    {
     "name": "stdout",
     "output_type": "stream",
     "text": [
      "Weight saved: epoch 0\n",
      "Epoch 0\tTrain Loss: 46840.375  Val Loss: 45452.352\n",
      "\n"
     ]
    },
    {
     "name": "stderr",
     "output_type": "stream",
     "text": [
      "train loss: 45325.695: 100%|██████████| 25/25 [00:09<00:00,  2.65it/s]\n",
      "val loss: 45391.438: 100%|██████████| 7/7 [00:01<00:00,  5.98it/s]\n"
     ]
    },
    {
     "name": "stdout",
     "output_type": "stream",
     "text": [
      "Weight saved: epoch 1\n",
      "Epoch 1\tTrain Loss: 45454.059  Val Loss: 45384.770\n",
      "\n"
     ]
    },
    {
     "name": "stderr",
     "output_type": "stream",
     "text": [
      "train loss: 45603.758: 100%|██████████| 25/25 [00:09<00:00,  2.63it/s]\n",
      "val loss: 45365.742: 100%|██████████| 7/7 [00:01<00:00,  6.02it/s]\n"
     ]
    },
    {
     "name": "stdout",
     "output_type": "stream",
     "text": [
      "Weight saved: epoch 2\n",
      "Epoch 2\tTrain Loss: 45436.840  Val Loss: 45378.348\n",
      "\n"
     ]
    },
    {
     "name": "stderr",
     "output_type": "stream",
     "text": [
      "train loss: 45414.953: 100%|██████████| 25/25 [00:09<00:00,  2.70it/s]\n",
      "val loss: 45412.914: 100%|██████████| 7/7 [00:01<00:00,  6.52it/s]\n"
     ]
    },
    {
     "name": "stdout",
     "output_type": "stream",
     "text": [
      "Epoch 3\tTrain Loss: 45416.500  Val Loss: 45392.246\n",
      "\n"
     ]
    },
    {
     "name": "stderr",
     "output_type": "stream",
     "text": [
      "train loss: 45353.234: 100%|██████████| 25/25 [00:08<00:00,  2.86it/s]\n",
      "val loss: 45314.066: 100%|██████████| 7/7 [00:01<00:00,  6.33it/s]\n"
     ]
    },
    {
     "name": "stdout",
     "output_type": "stream",
     "text": [
      "Weight saved: epoch 4\n",
      "Epoch 4\tTrain Loss: 45420.961  Val Loss: 45363.652\n",
      "\n"
     ]
    },
    {
     "name": "stderr",
     "output_type": "stream",
     "text": [
      "train loss: 45274.633: 100%|██████████| 25/25 [00:09<00:00,  2.71it/s]\n",
      "val loss: 45348.250: 100%|██████████| 7/7 [00:01<00:00,  6.38it/s]\n"
     ]
    },
    {
     "name": "stdout",
     "output_type": "stream",
     "text": [
      "Weight saved: epoch 5\n",
      "Epoch 5\tTrain Loss: 45400.410  Val Loss: 45351.996\n",
      "\n"
     ]
    },
    {
     "name": "stderr",
     "output_type": "stream",
     "text": [
      "train loss: 45394.539: 100%|██████████| 25/25 [00:08<00:00,  2.80it/s]\n",
      "val loss: 45325.367: 100%|██████████| 7/7 [00:01<00:00,  6.21it/s]\n"
     ]
    },
    {
     "name": "stdout",
     "output_type": "stream",
     "text": [
      "Weight saved: epoch 6\n",
      "Epoch 6\tTrain Loss: 45399.480  Val Loss: 45341.473\n",
      "\n"
     ]
    },
    {
     "name": "stderr",
     "output_type": "stream",
     "text": [
      "train loss: 45497.844: 100%|██████████| 25/25 [00:09<00:00,  2.75it/s]\n",
      "val loss: 45367.699: 100%|██████████| 7/7 [00:01<00:00,  6.13it/s]\n"
     ]
    },
    {
     "name": "stdout",
     "output_type": "stream",
     "text": [
      "Epoch 7\tTrain Loss: 45391.609  Val Loss: 45355.234\n",
      "\n"
     ]
    },
    {
     "name": "stderr",
     "output_type": "stream",
     "text": [
      "train loss: 45217.273: 100%|██████████| 25/25 [00:09<00:00,  2.69it/s]\n",
      "val loss: 45291.391: 100%|██████████| 7/7 [00:01<00:00,  6.23it/s]\n"
     ]
    },
    {
     "name": "stdout",
     "output_type": "stream",
     "text": [
      "Weight saved: epoch 8\n",
      "Epoch 8\tTrain Loss: 45388.074  Val Loss: 45330.652\n",
      "\n"
     ]
    },
    {
     "name": "stderr",
     "output_type": "stream",
     "text": [
      "train loss: 45066.379: 100%|██████████| 25/25 [00:09<00:00,  2.77it/s]\n",
      "val loss: 45347.926: 100%|██████████| 7/7 [00:01<00:00,  6.52it/s]\n"
     ]
    },
    {
     "name": "stdout",
     "output_type": "stream",
     "text": [
      "Epoch 9\tTrain Loss: 45384.688  Val Loss: 45369.992\n",
      "\n"
     ]
    },
    {
     "name": "stderr",
     "output_type": "stream",
     "text": [
      "train loss: 45257.398: 100%|██████████| 25/25 [00:08<00:00,  2.86it/s]\n",
      "val loss: 45318.016: 100%|██████████| 7/7 [00:01<00:00,  6.52it/s]\n"
     ]
    },
    {
     "name": "stdout",
     "output_type": "stream",
     "text": [
      "Epoch 10\tTrain Loss: 45377.699  Val Loss: 45332.332\n",
      "\n"
     ]
    },
    {
     "name": "stderr",
     "output_type": "stream",
     "text": [
      "train loss: 45199.938: 100%|██████████| 25/25 [00:08<00:00,  2.78it/s]\n",
      "val loss: 45316.680: 100%|██████████| 7/7 [00:01<00:00,  6.46it/s]\n"
     ]
    },
    {
     "name": "stdout",
     "output_type": "stream",
     "text": [
      "Epoch 11\tTrain Loss: 45378.844  Val Loss: 45332.965\n",
      "\n"
     ]
    },
    {
     "name": "stderr",
     "output_type": "stream",
     "text": [
      "train loss: 45386.840: 100%|██████████| 25/25 [00:08<00:00,  2.80it/s]\n",
      "val loss: 45290.609: 100%|██████████| 7/7 [00:01<00:00,  6.12it/s]\n"
     ]
    },
    {
     "name": "stdout",
     "output_type": "stream",
     "text": [
      "Weight saved: epoch 12\n",
      "Epoch 12\tTrain Loss: 45373.266  Val Loss: 45328.051\n",
      "\n"
     ]
    },
    {
     "name": "stderr",
     "output_type": "stream",
     "text": [
      "train loss: 45473.793: 100%|██████████| 25/25 [00:09<00:00,  2.76it/s]\n",
      "val loss: 45332.574: 100%|██████████| 7/7 [00:01<00:00,  6.33it/s]\n"
     ]
    },
    {
     "name": "stdout",
     "output_type": "stream",
     "text": [
      "Epoch 13\tTrain Loss: 45369.230  Val Loss: 45332.102\n",
      "\n"
     ]
    },
    {
     "name": "stderr",
     "output_type": "stream",
     "text": [
      "train loss: 45322.676: 100%|██████████| 25/25 [00:08<00:00,  2.79it/s]\n",
      "val loss: 45285.660: 100%|██████████| 7/7 [00:01<00:00,  6.44it/s]\n"
     ]
    },
    {
     "name": "stdout",
     "output_type": "stream",
     "text": [
      "Epoch 14\tTrain Loss: 45379.344  Val Loss: 45329.477\n",
      "\n"
     ]
    },
    {
     "name": "stderr",
     "output_type": "stream",
     "text": [
      "train loss: 45226.098: 100%|██████████| 25/25 [00:08<00:00,  2.80it/s]\n",
      "val loss: 45293.727: 100%|██████████| 7/7 [00:01<00:00,  6.26it/s]\n"
     ]
    },
    {
     "name": "stdout",
     "output_type": "stream",
     "text": [
      "Weight saved: epoch 15\n",
      "Epoch 15\tTrain Loss: 45360.938  Val Loss: 45324.234\n",
      "\n"
     ]
    },
    {
     "name": "stderr",
     "output_type": "stream",
     "text": [
      "train loss: 45083.820: 100%|██████████| 25/25 [00:08<00:00,  2.82it/s]\n",
      "val loss: 45288.453: 100%|██████████| 7/7 [00:01<00:00,  6.47it/s]\n"
     ]
    },
    {
     "name": "stdout",
     "output_type": "stream",
     "text": [
      "Weight saved: epoch 16\n",
      "Epoch 16\tTrain Loss: 45366.898  Val Loss: 45309.207\n",
      "\n"
     ]
    },
    {
     "name": "stderr",
     "output_type": "stream",
     "text": [
      "train loss: 45131.531: 100%|██████████| 25/25 [00:08<00:00,  2.78it/s]\n",
      "val loss: 45226.148: 100%|██████████| 7/7 [00:01<00:00,  6.52it/s]\n"
     ]
    },
    {
     "name": "stdout",
     "output_type": "stream",
     "text": [
      "Weight saved: epoch 17\n",
      "Epoch 17\tTrain Loss: 45349.344  Val Loss: 45301.383\n",
      "\n"
     ]
    },
    {
     "name": "stderr",
     "output_type": "stream",
     "text": [
      "train loss: 45775.441: 100%|██████████| 25/25 [00:09<00:00,  2.76it/s]\n",
      "val loss: 45189.328: 100%|██████████| 7/7 [00:01<00:00,  6.33it/s]\n"
     ]
    },
    {
     "name": "stdout",
     "output_type": "stream",
     "text": [
      "Weight saved: epoch 18\n",
      "Epoch 18\tTrain Loss: 45336.223  Val Loss: 45277.027\n",
      "\n"
     ]
    },
    {
     "name": "stderr",
     "output_type": "stream",
     "text": [
      "train loss: 45392.762: 100%|██████████| 25/25 [00:08<00:00,  2.85it/s]\n",
      "val loss: 45100.016: 100%|██████████| 7/7 [00:01<00:00,  6.49it/s]\n"
     ]
    },
    {
     "name": "stdout",
     "output_type": "stream",
     "text": [
      "Weight saved: epoch 19\n",
      "Epoch 19\tTrain Loss: 45328.598  Val Loss: 45243.473\n",
      "\n"
     ]
    },
    {
     "name": "stderr",
     "output_type": "stream",
     "text": [
      "train loss: 45443.988: 100%|██████████| 25/25 [00:09<00:00,  2.66it/s]\n",
      "val loss: 45157.547: 100%|██████████| 7/7 [00:01<00:00,  5.98it/s]\n"
     ]
    },
    {
     "name": "stdout",
     "output_type": "stream",
     "text": [
      "Epoch 20\tTrain Loss: 45308.180  Val Loss: 45267.977\n",
      "\n"
     ]
    },
    {
     "name": "stderr",
     "output_type": "stream",
     "text": [
      "train loss: 44958.668: 100%|██████████| 25/25 [00:09<00:00,  2.63it/s]\n",
      "val loss: 45107.516: 100%|██████████| 7/7 [00:01<00:00,  6.01it/s]\n"
     ]
    },
    {
     "name": "stdout",
     "output_type": "stream",
     "text": [
      "Epoch 21\tTrain Loss: 45316.504  Val Loss: 45249.180\n",
      "\n"
     ]
    },
    {
     "name": "stderr",
     "output_type": "stream",
     "text": [
      "train loss: 45757.992: 100%|██████████| 25/25 [00:09<00:00,  2.63it/s]\n",
      "val loss: 45055.469: 100%|██████████| 7/7 [00:01<00:00,  5.99it/s]\n"
     ]
    },
    {
     "name": "stdout",
     "output_type": "stream",
     "text": [
      "Weight saved: epoch 22\n",
      "Epoch 22\tTrain Loss: 45309.109  Val Loss: 45241.512\n",
      "\n"
     ]
    },
    {
     "name": "stderr",
     "output_type": "stream",
     "text": [
      "train loss: 45092.438: 100%|██████████| 25/25 [00:09<00:00,  2.63it/s]\n",
      "val loss: 45042.457: 100%|██████████| 7/7 [00:01<00:00,  5.97it/s]\n"
     ]
    },
    {
     "name": "stdout",
     "output_type": "stream",
     "text": [
      "Weight saved: epoch 23\n",
      "Epoch 23\tTrain Loss: 45296.867  Val Loss: 45222.379\n",
      "\n"
     ]
    },
    {
     "name": "stderr",
     "output_type": "stream",
     "text": [
      "train loss: 45341.906: 100%|██████████| 25/25 [00:09<00:00,  2.64it/s]\n",
      "val loss: 44998.391: 100%|██████████| 7/7 [00:01<00:00,  6.32it/s]\n"
     ]
    },
    {
     "name": "stdout",
     "output_type": "stream",
     "text": [
      "Weight saved: epoch 24\n",
      "Epoch 24\tTrain Loss: 45292.023  Val Loss: 45220.027\n",
      "\n"
     ]
    },
    {
     "name": "stderr",
     "output_type": "stream",
     "text": [
      "train loss: 45052.406: 100%|██████████| 25/25 [00:08<00:00,  2.78it/s]\n",
      "val loss: 44979.164: 100%|██████████| 7/7 [00:01<00:00,  6.22it/s]\n"
     ]
    },
    {
     "name": "stdout",
     "output_type": "stream",
     "text": [
      "Weight saved: epoch 25\n",
      "Epoch 25\tTrain Loss: 45283.770  Val Loss: 45203.227\n",
      "\n"
     ]
    },
    {
     "name": "stderr",
     "output_type": "stream",
     "text": [
      "train loss: 45299.973: 100%|██████████| 25/25 [00:08<00:00,  2.82it/s]\n",
      "val loss: 45000.172: 100%|██████████| 7/7 [00:01<00:00,  6.24it/s]\n"
     ]
    },
    {
     "name": "stdout",
     "output_type": "stream",
     "text": [
      "Weight saved: epoch 26\n",
      "Epoch 26\tTrain Loss: 45278.254  Val Loss: 45198.340\n",
      "\n"
     ]
    },
    {
     "name": "stderr",
     "output_type": "stream",
     "text": [
      "train loss: 45083.309: 100%|██████████| 25/25 [00:09<00:00,  2.77it/s]\n",
      "val loss: 44937.793: 100%|██████████| 7/7 [00:01<00:00,  6.43it/s]\n"
     ]
    },
    {
     "name": "stdout",
     "output_type": "stream",
     "text": [
      "Weight saved: epoch 27\n",
      "Epoch 27\tTrain Loss: 45268.312  Val Loss: 45185.254\n",
      "\n"
     ]
    },
    {
     "name": "stderr",
     "output_type": "stream",
     "text": [
      "train loss: 45461.551: 100%|██████████| 25/25 [00:08<00:00,  2.80it/s]\n",
      "val loss: 44942.992: 100%|██████████| 7/7 [00:01<00:00,  6.50it/s]\n"
     ]
    },
    {
     "name": "stdout",
     "output_type": "stream",
     "text": [
      "Epoch 28\tTrain Loss: 45258.285  Val Loss: 45195.855\n",
      "\n"
     ]
    },
    {
     "name": "stderr",
     "output_type": "stream",
     "text": [
      "train loss: 45181.391: 100%|██████████| 25/25 [00:08<00:00,  2.80it/s]\n",
      "val loss: 44877.238: 100%|██████████| 7/7 [00:01<00:00,  6.18it/s]\n"
     ]
    },
    {
     "name": "stdout",
     "output_type": "stream",
     "text": [
      "Weight saved: epoch 29\n",
      "Epoch 29\tTrain Loss: 45257.129  Val Loss: 45162.598\n",
      "\n"
     ]
    },
    {
     "name": "stderr",
     "output_type": "stream",
     "text": [
      "train loss: 45357.602: 100%|██████████| 25/25 [00:08<00:00,  2.79it/s]\n",
      "val loss: 44865.844: 100%|██████████| 7/7 [00:01<00:00,  6.18it/s]\n"
     ]
    },
    {
     "name": "stdout",
     "output_type": "stream",
     "text": [
      "Weight saved: epoch 30\n",
      "Epoch 30\tTrain Loss: 45246.520  Val Loss: 45153.246\n",
      "\n"
     ]
    },
    {
     "name": "stderr",
     "output_type": "stream",
     "text": [
      "train loss: 45047.758: 100%|██████████| 25/25 [00:08<00:00,  2.85it/s]\n",
      "val loss: 44821.895: 100%|██████████| 7/7 [00:01<00:00,  6.52it/s]\n"
     ]
    },
    {
     "name": "stdout",
     "output_type": "stream",
     "text": [
      "Weight saved: epoch 31\n",
      "Epoch 31\tTrain Loss: 45236.801  Val Loss: 45138.172\n",
      "\n"
     ]
    },
    {
     "name": "stderr",
     "output_type": "stream",
     "text": [
      "train loss: 45170.773: 100%|██████████| 25/25 [00:08<00:00,  2.79it/s]\n",
      "val loss: 44787.859: 100%|██████████| 7/7 [00:01<00:00,  6.46it/s]\n"
     ]
    },
    {
     "name": "stdout",
     "output_type": "stream",
     "text": [
      "Weight saved: epoch 32\n",
      "Epoch 32\tTrain Loss: 45227.199  Val Loss: 45130.723\n",
      "\n"
     ]
    },
    {
     "name": "stderr",
     "output_type": "stream",
     "text": [
      "train loss: 45183.004: 100%|██████████| 25/25 [00:09<00:00,  2.73it/s]\n",
      "val loss: 44741.918: 100%|██████████| 7/7 [00:01<00:00,  6.21it/s]\n"
     ]
    },
    {
     "name": "stdout",
     "output_type": "stream",
     "text": [
      "Weight saved: epoch 33\n",
      "Epoch 33\tTrain Loss: 45220.570  Val Loss: 45114.145\n",
      "\n"
     ]
    },
    {
     "name": "stderr",
     "output_type": "stream",
     "text": [
      "train loss: 45181.785: 100%|██████████| 25/25 [00:09<00:00,  2.74it/s]\n",
      "val loss: 44723.898: 100%|██████████| 7/7 [00:01<00:00,  6.44it/s]\n"
     ]
    },
    {
     "name": "stdout",
     "output_type": "stream",
     "text": [
      "Weight saved: epoch 34\n",
      "Epoch 34\tTrain Loss: 45214.391  Val Loss: 45107.152\n",
      "\n"
     ]
    },
    {
     "name": "stderr",
     "output_type": "stream",
     "text": [
      "train loss: 45317.016: 100%|██████████| 25/25 [00:09<00:00,  2.75it/s]\n",
      "val loss: 44720.254: 100%|██████████| 7/7 [00:01<00:00,  6.22it/s]\n"
     ]
    },
    {
     "name": "stdout",
     "output_type": "stream",
     "text": [
      "Weight saved: epoch 35\n",
      "Epoch 35\tTrain Loss: 45209.289  Val Loss: 45105.449\n",
      "\n"
     ]
    },
    {
     "name": "stderr",
     "output_type": "stream",
     "text": [
      "train loss: 44798.156: 100%|██████████| 25/25 [00:08<00:00,  2.84it/s]\n",
      "val loss: 44638.047: 100%|██████████| 7/7 [00:01<00:00,  6.41it/s]\n"
     ]
    },
    {
     "name": "stdout",
     "output_type": "stream",
     "text": [
      "Weight saved: epoch 36\n",
      "Epoch 36\tTrain Loss: 45203.551  Val Loss: 45089.504\n",
      "\n"
     ]
    },
    {
     "name": "stderr",
     "output_type": "stream",
     "text": [
      "train loss: 44954.117: 100%|██████████| 25/25 [00:08<00:00,  2.84it/s]\n",
      "val loss: 44694.102: 100%|██████████| 7/7 [00:01<00:00,  6.52it/s]\n"
     ]
    },
    {
     "name": "stdout",
     "output_type": "stream",
     "text": [
      "Epoch 37\tTrain Loss: 45193.648  Val Loss: 45090.074\n",
      "\n"
     ]
    },
    {
     "name": "stderr",
     "output_type": "stream",
     "text": [
      "train loss: 45350.605: 100%|██████████| 25/25 [00:08<00:00,  2.85it/s]\n",
      "val loss: 44620.090: 100%|██████████| 7/7 [00:01<00:00,  6.52it/s]\n"
     ]
    },
    {
     "name": "stdout",
     "output_type": "stream",
     "text": [
      "Epoch 38\tTrain Loss: 45191.223  Val Loss: 45101.363\n",
      "\n"
     ]
    },
    {
     "name": "stderr",
     "output_type": "stream",
     "text": [
      "train loss: 45160.387: 100%|██████████| 25/25 [00:08<00:00,  2.84it/s]\n",
      "val loss: 44590.289: 100%|██████████| 7/7 [00:01<00:00,  6.42it/s]\n"
     ]
    },
    {
     "name": "stdout",
     "output_type": "stream",
     "text": [
      "Weight saved: epoch 39\n",
      "Epoch 39\tTrain Loss: 45185.645  Val Loss: 45053.488\n",
      "\n"
     ]
    },
    {
     "name": "stderr",
     "output_type": "stream",
     "text": [
      "train loss: 45142.008: 100%|██████████| 25/25 [00:08<00:00,  2.85it/s]\n",
      "val loss: 44571.461: 100%|██████████| 7/7 [00:01<00:00,  6.41it/s]\n"
     ]
    },
    {
     "name": "stdout",
     "output_type": "stream",
     "text": [
      "Weight saved: epoch 40\n",
      "Epoch 40\tTrain Loss: 45171.801  Val Loss: 45052.930\n",
      "\n"
     ]
    },
    {
     "name": "stderr",
     "output_type": "stream",
     "text": [
      "train loss: 45279.035: 100%|██████████| 25/25 [00:08<00:00,  2.83it/s]\n",
      "val loss: 44547.289: 100%|██████████| 7/7 [00:01<00:00,  6.42it/s]\n"
     ]
    },
    {
     "name": "stdout",
     "output_type": "stream",
     "text": [
      "Weight saved: epoch 41\n",
      "Epoch 41\tTrain Loss: 45166.445  Val Loss: 45031.859\n",
      "\n"
     ]
    },
    {
     "name": "stderr",
     "output_type": "stream",
     "text": [
      "train loss: 45513.586: 100%|██████████| 25/25 [00:08<00:00,  2.84it/s]\n",
      "val loss: 44480.605: 100%|██████████| 7/7 [00:01<00:00,  6.49it/s]\n"
     ]
    },
    {
     "name": "stdout",
     "output_type": "stream",
     "text": [
      "Weight saved: epoch 42\n",
      "Epoch 42\tTrain Loss: 45153.980  Val Loss: 45025.855\n",
      "\n"
     ]
    },
    {
     "name": "stderr",
     "output_type": "stream",
     "text": [
      "train loss: 45432.387: 100%|██████████| 25/25 [00:08<00:00,  2.84it/s]\n",
      "val loss: 44441.297: 100%|██████████| 7/7 [00:01<00:00,  6.51it/s]\n"
     ]
    },
    {
     "name": "stdout",
     "output_type": "stream",
     "text": [
      "Weight saved: epoch 43\n",
      "Epoch 43\tTrain Loss: 45148.562  Val Loss: 45008.301\n",
      "\n"
     ]
    },
    {
     "name": "stderr",
     "output_type": "stream",
     "text": [
      "train loss: 45341.828: 100%|██████████| 25/25 [00:08<00:00,  2.80it/s]\n",
      "val loss: 44417.109: 100%|██████████| 7/7 [00:01<00:00,  6.18it/s]\n"
     ]
    },
    {
     "name": "stdout",
     "output_type": "stream",
     "text": [
      "Weight saved: epoch 44\n",
      "Epoch 44\tTrain Loss: 45139.711  Val Loss: 45003.387\n",
      "\n"
     ]
    },
    {
     "name": "stderr",
     "output_type": "stream",
     "text": [
      "train loss: 44782.844: 100%|██████████| 25/25 [00:09<00:00,  2.75it/s]\n",
      "val loss: 44372.254: 100%|██████████| 7/7 [00:01<00:00,  6.41it/s]\n"
     ]
    },
    {
     "name": "stdout",
     "output_type": "stream",
     "text": [
      "Weight saved: epoch 45\n",
      "Epoch 45\tTrain Loss: 45130.039  Val Loss: 44982.734\n",
      "\n"
     ]
    },
    {
     "name": "stderr",
     "output_type": "stream",
     "text": [
      "train loss: 45182.707: 100%|██████████| 25/25 [00:08<00:00,  2.82it/s]\n",
      "val loss: 44353.516: 100%|██████████| 7/7 [00:01<00:00,  6.52it/s]\n"
     ]
    },
    {
     "name": "stdout",
     "output_type": "stream",
     "text": [
      "Weight saved: epoch 46\n",
      "Epoch 46\tTrain Loss: 45120.777  Val Loss: 44975.762\n",
      "\n"
     ]
    },
    {
     "name": "stderr",
     "output_type": "stream",
     "text": [
      "train loss: 45053.770: 100%|██████████| 25/25 [00:08<00:00,  2.79it/s]\n",
      "val loss: 44320.789: 100%|██████████| 7/7 [00:01<00:00,  6.45it/s]\n"
     ]
    },
    {
     "name": "stdout",
     "output_type": "stream",
     "text": [
      "Weight saved: epoch 47\n",
      "Epoch 47\tTrain Loss: 45114.051  Val Loss: 44966.008\n",
      "\n"
     ]
    },
    {
     "name": "stderr",
     "output_type": "stream",
     "text": [
      "train loss: 45189.273: 100%|██████████| 25/25 [00:08<00:00,  2.82it/s]\n",
      "val loss: 44263.344: 100%|██████████| 7/7 [00:01<00:00,  6.50it/s]\n"
     ]
    },
    {
     "name": "stdout",
     "output_type": "stream",
     "text": [
      "Weight saved: epoch 48\n",
      "Epoch 48\tTrain Loss: 45095.160  Val Loss: 44941.367\n",
      "\n"
     ]
    },
    {
     "name": "stderr",
     "output_type": "stream",
     "text": [
      "train loss: 45183.023: 100%|██████████| 25/25 [00:08<00:00,  2.81it/s]\n",
      "val loss: 44216.180: 100%|██████████| 7/7 [00:01<00:00,  6.47it/s]\n"
     ]
    },
    {
     "name": "stdout",
     "output_type": "stream",
     "text": [
      "Weight saved: epoch 49\n",
      "Epoch 49\tTrain Loss: 45085.848  Val Loss: 44921.477\n",
      "\n"
     ]
    },
    {
     "name": "stderr",
     "output_type": "stream",
     "text": [
      "train loss: 44867.047: 100%|██████████| 25/25 [00:08<00:00,  2.79it/s]\n",
      "val loss: 44184.277: 100%|██████████| 7/7 [00:01<00:00,  5.82it/s]\n"
     ]
    },
    {
     "name": "stdout",
     "output_type": "stream",
     "text": [
      "Weight saved: epoch 50\n",
      "Epoch 50\tTrain Loss: 45070.969  Val Loss: 44916.363\n",
      "\n"
     ]
    },
    {
     "name": "stderr",
     "output_type": "stream",
     "text": [
      "train loss: 45687.043: 100%|██████████| 25/25 [00:09<00:00,  2.62it/s]\n",
      "val loss: 44126.621: 100%|██████████| 7/7 [00:01<00:00,  5.98it/s]\n"
     ]
    },
    {
     "name": "stdout",
     "output_type": "stream",
     "text": [
      "Weight saved: epoch 51\n",
      "Epoch 51\tTrain Loss: 45070.766  Val Loss: 44895.484\n",
      "\n"
     ]
    },
    {
     "name": "stderr",
     "output_type": "stream",
     "text": [
      "train loss: 45072.949: 100%|██████████| 25/25 [00:09<00:00,  2.63it/s]\n",
      "val loss: 44083.984: 100%|██████████| 7/7 [00:01<00:00,  5.98it/s]\n"
     ]
    },
    {
     "name": "stdout",
     "output_type": "stream",
     "text": [
      "Weight saved: epoch 52\n",
      "Epoch 52\tTrain Loss: 45058.785  Val Loss: 44880.379\n",
      "\n"
     ]
    },
    {
     "name": "stderr",
     "output_type": "stream",
     "text": [
      "train loss: 45237.484: 100%|██████████| 25/25 [00:09<00:00,  2.63it/s]\n",
      "val loss: 44057.066: 100%|██████████| 7/7 [00:01<00:00,  5.99it/s]\n"
     ]
    },
    {
     "name": "stdout",
     "output_type": "stream",
     "text": [
      "Weight saved: epoch 53\n",
      "Epoch 53\tTrain Loss: 45055.238  Val Loss: 44872.699\n",
      "\n"
     ]
    },
    {
     "name": "stderr",
     "output_type": "stream",
     "text": [
      "train loss: 44984.211: 100%|██████████| 25/25 [00:09<00:00,  2.63it/s]\n",
      "val loss: 44077.023: 100%|██████████| 7/7 [00:01<00:00,  5.99it/s]\n"
     ]
    },
    {
     "name": "stdout",
     "output_type": "stream",
     "text": [
      "Epoch 54\tTrain Loss: 45045.805  Val Loss: 44873.762\n",
      "\n"
     ]
    },
    {
     "name": "stderr",
     "output_type": "stream",
     "text": [
      "train loss: 45217.547: 100%|██████████| 25/25 [00:09<00:00,  2.63it/s]\n",
      "val loss: 44021.777: 100%|██████████| 7/7 [00:01<00:00,  5.87it/s]\n"
     ]
    },
    {
     "name": "stdout",
     "output_type": "stream",
     "text": [
      "Weight saved: epoch 55\n",
      "Epoch 55\tTrain Loss: 45037.465  Val Loss: 44859.715\n",
      "\n"
     ]
    },
    {
     "name": "stderr",
     "output_type": "stream",
     "text": [
      "train loss: 45095.242: 100%|██████████| 25/25 [00:09<00:00,  2.64it/s]\n",
      "val loss: 44043.656: 100%|██████████| 7/7 [00:01<00:00,  6.02it/s]\n"
     ]
    },
    {
     "name": "stdout",
     "output_type": "stream",
     "text": [
      "Epoch 56\tTrain Loss: 45032.301  Val Loss: 44861.293\n",
      "\n"
     ]
    },
    {
     "name": "stderr",
     "output_type": "stream",
     "text": [
      "train loss: 44932.539: 100%|██████████| 25/25 [00:09<00:00,  2.63it/s]\n",
      "val loss: 43991.891: 100%|██████████| 7/7 [00:01<00:00,  6.00it/s]\n"
     ]
    },
    {
     "name": "stdout",
     "output_type": "stream",
     "text": [
      "Weight saved: epoch 57\n",
      "Epoch 57\tTrain Loss: 45027.449  Val Loss: 44843.145\n",
      "\n"
     ]
    },
    {
     "name": "stderr",
     "output_type": "stream",
     "text": [
      "train loss: 45143.027: 100%|██████████| 25/25 [00:09<00:00,  2.63it/s]\n",
      "val loss: 44006.562: 100%|██████████| 7/7 [00:01<00:00,  5.98it/s]\n"
     ]
    },
    {
     "name": "stdout",
     "output_type": "stream",
     "text": [
      "Epoch 58\tTrain Loss: 45026.410  Val Loss: 44849.117\n",
      "\n"
     ]
    },
    {
     "name": "stderr",
     "output_type": "stream",
     "text": [
      "train loss: 45290.812: 100%|██████████| 25/25 [00:09<00:00,  2.63it/s]\n",
      "val loss: 44004.258: 100%|██████████| 7/7 [00:01<00:00,  6.02it/s]\n"
     ]
    },
    {
     "name": "stdout",
     "output_type": "stream",
     "text": [
      "Epoch 59\tTrain Loss: 45026.465  Val Loss: 44856.891\n",
      "\n"
     ]
    },
    {
     "name": "stderr",
     "output_type": "stream",
     "text": [
      "train loss: 44806.605: 100%|██████████| 25/25 [00:09<00:00,  2.63it/s]\n",
      "val loss: 43979.738: 100%|██████████| 7/7 [00:01<00:00,  5.98it/s]\n"
     ]
    },
    {
     "name": "stdout",
     "output_type": "stream",
     "text": [
      "Weight saved: epoch 60\n",
      "Epoch 60\tTrain Loss: 45020.223  Val Loss: 44837.254\n",
      "\n"
     ]
    },
    {
     "name": "stderr",
     "output_type": "stream",
     "text": [
      "train loss: 45077.586: 100%|██████████| 25/25 [00:09<00:00,  2.63it/s]\n",
      "val loss: 43956.012: 100%|██████████| 7/7 [00:01<00:00,  5.99it/s]\n"
     ]
    },
    {
     "name": "stdout",
     "output_type": "stream",
     "text": [
      "Weight saved: epoch 61\n",
      "Epoch 61\tTrain Loss: 45010.699  Val Loss: 44825.359\n",
      "\n"
     ]
    },
    {
     "name": "stderr",
     "output_type": "stream",
     "text": [
      "train loss: 44831.680: 100%|██████████| 25/25 [00:09<00:00,  2.63it/s]\n",
      "val loss: 43964.871: 100%|██████████| 7/7 [00:01<00:00,  6.00it/s]\n"
     ]
    },
    {
     "name": "stdout",
     "output_type": "stream",
     "text": [
      "Epoch 62\tTrain Loss: 45021.703  Val Loss: 44835.301\n",
      "\n"
     ]
    },
    {
     "name": "stderr",
     "output_type": "stream",
     "text": [
      "train loss: 45218.781: 100%|██████████| 25/25 [00:09<00:00,  2.63it/s]\n",
      "val loss: 43929.566: 100%|██████████| 7/7 [00:01<00:00,  6.01it/s]\n"
     ]
    },
    {
     "name": "stdout",
     "output_type": "stream",
     "text": [
      "Weight saved: epoch 63\n",
      "Epoch 63\tTrain Loss: 45010.859  Val Loss: 44824.629\n",
      "\n"
     ]
    },
    {
     "name": "stderr",
     "output_type": "stream",
     "text": [
      "train loss: 44813.227: 100%|██████████| 25/25 [00:09<00:00,  2.63it/s]\n",
      "val loss: 43906.637: 100%|██████████| 7/7 [00:01<00:00,  5.97it/s]\n"
     ]
    },
    {
     "name": "stdout",
     "output_type": "stream",
     "text": [
      "Weight saved: epoch 64\n",
      "Epoch 64\tTrain Loss: 45008.301  Val Loss: 44819.973\n",
      "\n"
     ]
    },
    {
     "name": "stderr",
     "output_type": "stream",
     "text": [
      "train loss: 44845.957: 100%|██████████| 25/25 [00:09<00:00,  2.63it/s]\n",
      "val loss: 43917.227: 100%|██████████| 7/7 [00:01<00:00,  6.18it/s]\n"
     ]
    },
    {
     "name": "stdout",
     "output_type": "stream",
     "text": [
      "Epoch 65\tTrain Loss: 45005.402  Val Loss: 44821.379\n",
      "\n"
     ]
    },
    {
     "name": "stderr",
     "output_type": "stream",
     "text": [
      "train loss: 45006.062: 100%|██████████| 25/25 [00:09<00:00,  2.64it/s]\n",
      "val loss: 43929.078: 100%|██████████| 7/7 [00:01<00:00,  6.06it/s]\n"
     ]
    },
    {
     "name": "stdout",
     "output_type": "stream",
     "text": [
      "Weight saved: epoch 66\n",
      "Epoch 66\tTrain Loss: 45001.523  Val Loss: 44818.527\n",
      "\n"
     ]
    },
    {
     "name": "stderr",
     "output_type": "stream",
     "text": [
      "train loss: 45153.242: 100%|██████████| 25/25 [00:09<00:00,  2.69it/s]\n",
      "val loss: 43873.641: 100%|██████████| 7/7 [00:01<00:00,  6.22it/s]\n"
     ]
    },
    {
     "name": "stdout",
     "output_type": "stream",
     "text": [
      "Weight saved: epoch 67\n",
      "Epoch 67\tTrain Loss: 45008.820  Val Loss: 44815.590\n",
      "\n"
     ]
    },
    {
     "name": "stderr",
     "output_type": "stream",
     "text": [
      "train loss: 45167.008: 100%|██████████| 25/25 [00:09<00:00,  2.72it/s]\n",
      "val loss: 43928.137: 100%|██████████| 7/7 [00:01<00:00,  6.22it/s]\n"
     ]
    },
    {
     "name": "stdout",
     "output_type": "stream",
     "text": [
      "Epoch 68\tTrain Loss: 45003.586  Val Loss: 44818.277\n",
      "\n"
     ]
    },
    {
     "name": "stderr",
     "output_type": "stream",
     "text": [
      "train loss: 44988.227: 100%|██████████| 25/25 [00:09<00:00,  2.73it/s]\n",
      "val loss: 43890.117: 100%|██████████| 7/7 [00:01<00:00,  6.23it/s]\n"
     ]
    },
    {
     "name": "stdout",
     "output_type": "stream",
     "text": [
      "Weight saved: epoch 69\n",
      "Epoch 69\tTrain Loss: 45002.520  Val Loss: 44813.879\n",
      "\n"
     ]
    },
    {
     "name": "stderr",
     "output_type": "stream",
     "text": [
      "train loss: 44994.996: 100%|██████████| 25/25 [00:09<00:00,  2.72it/s]\n",
      "val loss: 43878.434: 100%|██████████| 7/7 [00:01<00:00,  6.11it/s]\n"
     ]
    },
    {
     "name": "stdout",
     "output_type": "stream",
     "text": [
      "Weight saved: epoch 70\n",
      "Epoch 70\tTrain Loss: 44998.211  Val Loss: 44802.316\n",
      "\n"
     ]
    },
    {
     "name": "stderr",
     "output_type": "stream",
     "text": [
      "train loss: 45119.410: 100%|██████████| 25/25 [00:09<00:00,  2.65it/s]\n",
      "val loss: 43863.180: 100%|██████████| 7/7 [00:01<00:00,  6.10it/s]\n"
     ]
    },
    {
     "name": "stdout",
     "output_type": "stream",
     "text": [
      "Weight saved: epoch 71\n",
      "Epoch 71\tTrain Loss: 44994.203  Val Loss: 44802.270\n",
      "\n"
     ]
    },
    {
     "name": "stderr",
     "output_type": "stream",
     "text": [
      "train loss: 45025.949: 100%|██████████| 25/25 [00:09<00:00,  2.63it/s]\n",
      "val loss: 43887.164: 100%|██████████| 7/7 [00:01<00:00,  6.14it/s]\n"
     ]
    },
    {
     "name": "stdout",
     "output_type": "stream",
     "text": [
      "Epoch 72\tTrain Loss: 44991.438  Val Loss: 44810.141\n",
      "\n"
     ]
    },
    {
     "name": "stderr",
     "output_type": "stream",
     "text": [
      "train loss: 45005.027: 100%|██████████| 25/25 [00:09<00:00,  2.63it/s]\n",
      "val loss: 43925.543: 100%|██████████| 7/7 [00:01<00:00,  6.24it/s]\n"
     ]
    },
    {
     "name": "stdout",
     "output_type": "stream",
     "text": [
      "Epoch 73\tTrain Loss: 45002.918  Val Loss: 44810.434\n",
      "\n"
     ]
    },
    {
     "name": "stderr",
     "output_type": "stream",
     "text": [
      "train loss: 45034.102: 100%|██████████| 25/25 [00:09<00:00,  2.67it/s]\n",
      "val loss: 43872.914: 100%|██████████| 7/7 [00:01<00:00,  5.96it/s]\n"
     ]
    },
    {
     "name": "stdout",
     "output_type": "stream",
     "text": [
      "Epoch 74\tTrain Loss: 44991.578  Val Loss: 44811.297\n",
      "\n"
     ]
    },
    {
     "name": "stderr",
     "output_type": "stream",
     "text": [
      "train loss: 45225.859: 100%|██████████| 25/25 [00:09<00:00,  2.61it/s]\n",
      "val loss: 43882.461: 100%|██████████| 7/7 [00:01<00:00,  5.76it/s]\n"
     ]
    },
    {
     "name": "stdout",
     "output_type": "stream",
     "text": [
      "Weight saved: epoch 75\n",
      "Epoch 75\tTrain Loss: 44993.770  Val Loss: 44801.141\n",
      "\n"
     ]
    },
    {
     "name": "stderr",
     "output_type": "stream",
     "text": [
      "train loss: 44568.953: 100%|██████████| 25/25 [00:09<00:00,  2.67it/s]\n",
      "val loss: 43890.164: 100%|██████████| 7/7 [00:01<00:00,  6.19it/s]\n"
     ]
    },
    {
     "name": "stdout",
     "output_type": "stream",
     "text": [
      "Epoch 76\tTrain Loss: 44994.430  Val Loss: 44805.684\n",
      "\n"
     ]
    },
    {
     "name": "stderr",
     "output_type": "stream",
     "text": [
      "train loss: 44988.742: 100%|██████████| 25/25 [00:09<00:00,  2.66it/s]\n",
      "val loss: 43842.789: 100%|██████████| 7/7 [00:01<00:00,  6.22it/s]\n"
     ]
    },
    {
     "name": "stdout",
     "output_type": "stream",
     "text": [
      "Weight saved: epoch 77\n",
      "Epoch 77\tTrain Loss: 44994.590  Val Loss: 44793.570\n",
      "\n"
     ]
    },
    {
     "name": "stderr",
     "output_type": "stream",
     "text": [
      "train loss: 45123.930: 100%|██████████| 25/25 [00:09<00:00,  2.70it/s]\n",
      "val loss: 43834.461: 100%|██████████| 7/7 [00:01<00:00,  6.09it/s]\n"
     ]
    },
    {
     "name": "stdout",
     "output_type": "stream",
     "text": [
      "Weight saved: epoch 78\n",
      "Epoch 78\tTrain Loss: 44992.188  Val Loss: 44793.527\n",
      "\n"
     ]
    },
    {
     "name": "stderr",
     "output_type": "stream",
     "text": [
      "train loss: 45224.316: 100%|██████████| 25/25 [00:09<00:00,  2.67it/s]\n",
      "val loss: 43838.234: 100%|██████████| 7/7 [00:01<00:00,  6.22it/s]\n"
     ]
    },
    {
     "name": "stdout",
     "output_type": "stream",
     "text": [
      "Epoch 79\tTrain Loss: 44985.840  Val Loss: 44794.707\n",
      "\n"
     ]
    },
    {
     "name": "stderr",
     "output_type": "stream",
     "text": [
      "train loss: 45369.133: 100%|██████████| 25/25 [00:09<00:00,  2.66it/s]\n",
      "val loss: 43841.434: 100%|██████████| 7/7 [00:01<00:00,  5.77it/s]\n"
     ]
    },
    {
     "name": "stdout",
     "output_type": "stream",
     "text": [
      "Epoch 80\tTrain Loss: 44993.777  Val Loss: 44794.402\n",
      "\n"
     ]
    },
    {
     "name": "stderr",
     "output_type": "stream",
     "text": [
      "train loss: 45011.543: 100%|██████████| 25/25 [00:09<00:00,  2.64it/s]\n",
      "val loss: 43838.953: 100%|██████████| 7/7 [00:01<00:00,  6.17it/s]\n"
     ]
    },
    {
     "name": "stdout",
     "output_type": "stream",
     "text": [
      "Weight saved: epoch 81\n",
      "Epoch 81\tTrain Loss: 44989.805  Val Loss: 44790.414\n",
      "\n"
     ]
    },
    {
     "name": "stderr",
     "output_type": "stream",
     "text": [
      "train loss: 45152.477: 100%|██████████| 25/25 [00:09<00:00,  2.60it/s]\n",
      "val loss: 43834.531: 100%|██████████| 7/7 [00:01<00:00,  5.86it/s]\n"
     ]
    },
    {
     "name": "stdout",
     "output_type": "stream",
     "text": [
      "Weight saved: epoch 82\n",
      "Epoch 82\tTrain Loss: 44988.984  Val Loss: 44789.102\n",
      "\n"
     ]
    },
    {
     "name": "stderr",
     "output_type": "stream",
     "text": [
      "train loss: 45337.926: 100%|██████████| 25/25 [00:09<00:00,  2.66it/s]\n",
      "val loss: 43840.812: 100%|██████████| 7/7 [00:01<00:00,  6.03it/s]\n"
     ]
    },
    {
     "name": "stdout",
     "output_type": "stream",
     "text": [
      "Weight saved: epoch 83\n",
      "Epoch 83\tTrain Loss: 44989.074  Val Loss: 44788.484\n",
      "\n"
     ]
    },
    {
     "name": "stderr",
     "output_type": "stream",
     "text": [
      "train loss: 45068.676: 100%|██████████| 25/25 [00:09<00:00,  2.65it/s]\n",
      "val loss: 43824.707: 100%|██████████| 7/7 [00:01<00:00,  6.19it/s]\n"
     ]
    },
    {
     "name": "stdout",
     "output_type": "stream",
     "text": [
      "Epoch 84\tTrain Loss: 44988.625  Val Loss: 44789.766\n",
      "\n"
     ]
    },
    {
     "name": "stderr",
     "output_type": "stream",
     "text": [
      "train loss: 45208.035: 100%|██████████| 25/25 [00:09<00:00,  2.68it/s]\n",
      "val loss: 43832.234: 100%|██████████| 7/7 [00:01<00:00,  5.91it/s]\n"
     ]
    },
    {
     "name": "stdout",
     "output_type": "stream",
     "text": [
      "Weight saved: epoch 85\n",
      "Epoch 85\tTrain Loss: 44982.340  Val Loss: 44784.488\n",
      "\n"
     ]
    },
    {
     "name": "stderr",
     "output_type": "stream",
     "text": [
      "train loss: 45214.789: 100%|██████████| 25/25 [00:09<00:00,  2.68it/s]\n",
      "val loss: 43793.805: 100%|██████████| 7/7 [00:01<00:00,  6.04it/s]\n"
     ]
    },
    {
     "name": "stdout",
     "output_type": "stream",
     "text": [
      "Weight saved: epoch 86\n",
      "Epoch 86\tTrain Loss: 44985.270  Val Loss: 44774.484\n",
      "\n"
     ]
    },
    {
     "name": "stderr",
     "output_type": "stream",
     "text": [
      "train loss: 44838.758: 100%|██████████| 25/25 [00:09<00:00,  2.67it/s]\n",
      "val loss: 43701.273: 100%|██████████| 7/7 [00:01<00:00,  6.11it/s]\n"
     ]
    },
    {
     "name": "stdout",
     "output_type": "stream",
     "text": [
      "Weight saved: epoch 87\n",
      "Epoch 87\tTrain Loss: 44967.188  Val Loss: 44747.324\n",
      "\n"
     ]
    },
    {
     "name": "stderr",
     "output_type": "stream",
     "text": [
      "train loss: 44889.254: 100%|██████████| 25/25 [00:09<00:00,  2.70it/s]\n",
      "val loss: 43841.883: 100%|██████████| 7/7 [00:01<00:00,  5.89it/s]\n"
     ]
    },
    {
     "name": "stdout",
     "output_type": "stream",
     "text": [
      "Epoch 88\tTrain Loss: 44974.039  Val Loss: 44791.734\n",
      "\n"
     ]
    },
    {
     "name": "stderr",
     "output_type": "stream",
     "text": [
      "train loss: 45003.191: 100%|██████████| 25/25 [00:09<00:00,  2.65it/s]\n",
      "val loss: 43794.785: 100%|██████████| 7/7 [00:01<00:00,  5.99it/s]\n"
     ]
    },
    {
     "name": "stdout",
     "output_type": "stream",
     "text": [
      "Epoch 89\tTrain Loss: 44981.863  Val Loss: 44777.066\n",
      "\n"
     ]
    },
    {
     "name": "stderr",
     "output_type": "stream",
     "text": [
      "train loss: 44917.191: 100%|██████████| 25/25 [00:09<00:00,  2.64it/s]\n",
      "val loss: 43698.453: 100%|██████████| 7/7 [00:01<00:00,  6.01it/s]\n"
     ]
    },
    {
     "name": "stdout",
     "output_type": "stream",
     "text": [
      "Epoch 90\tTrain Loss: 44973.961  Val Loss: 44752.293\n",
      "\n"
     ]
    },
    {
     "name": "stderr",
     "output_type": "stream",
     "text": [
      "train loss: 44817.883: 100%|██████████| 25/25 [00:09<00:00,  2.63it/s]\n",
      "val loss: 43633.922: 100%|██████████| 7/7 [00:01<00:00,  5.96it/s]\n"
     ]
    },
    {
     "name": "stdout",
     "output_type": "stream",
     "text": [
      "Weight saved: epoch 91\n",
      "Epoch 91\tTrain Loss: 44957.949  Val Loss: 44734.109\n",
      "\n"
     ]
    },
    {
     "name": "stderr",
     "output_type": "stream",
     "text": [
      "train loss: 44853.273: 100%|██████████| 25/25 [00:09<00:00,  2.71it/s]\n",
      "val loss: 43598.699: 100%|██████████| 7/7 [00:01<00:00,  6.46it/s]\n"
     ]
    },
    {
     "name": "stdout",
     "output_type": "stream",
     "text": [
      "Weight saved: epoch 92\n",
      "Epoch 92\tTrain Loss: 44947.910  Val Loss: 44715.824\n",
      "\n"
     ]
    },
    {
     "name": "stderr",
     "output_type": "stream",
     "text": [
      "train loss: 45053.441: 100%|██████████| 25/25 [00:09<00:00,  2.64it/s]\n",
      "val loss: 43621.090: 100%|██████████| 7/7 [00:01<00:00,  5.96it/s]\n"
     ]
    },
    {
     "name": "stdout",
     "output_type": "stream",
     "text": [
      "Epoch 93\tTrain Loss: 44939.668  Val Loss: 44720.609\n",
      "\n"
     ]
    },
    {
     "name": "stderr",
     "output_type": "stream",
     "text": [
      "train loss: 44775.672: 100%|██████████| 25/25 [00:09<00:00,  2.63it/s]\n",
      "val loss: 43666.117: 100%|██████████| 7/7 [00:01<00:00,  6.12it/s]\n"
     ]
    },
    {
     "name": "stdout",
     "output_type": "stream",
     "text": [
      "Epoch 94\tTrain Loss: 44942.988  Val Loss: 44733.289\n",
      "\n"
     ]
    },
    {
     "name": "stderr",
     "output_type": "stream",
     "text": [
      "train loss: 45075.820: 100%|██████████| 25/25 [00:09<00:00,  2.62it/s]\n",
      "val loss: 43496.605: 100%|██████████| 7/7 [00:01<00:00,  5.97it/s]\n"
     ]
    },
    {
     "name": "stdout",
     "output_type": "stream",
     "text": [
      "Weight saved: epoch 95\n",
      "Epoch 95\tTrain Loss: 44934.242  Val Loss: 44694.043\n",
      "\n"
     ]
    },
    {
     "name": "stderr",
     "output_type": "stream",
     "text": [
      "train loss: 44638.000: 100%|██████████| 25/25 [00:09<00:00,  2.62it/s]\n",
      "val loss: 43675.633: 100%|██████████| 7/7 [00:01<00:00,  5.98it/s]\n"
     ]
    },
    {
     "name": "stdout",
     "output_type": "stream",
     "text": [
      "Epoch 96\tTrain Loss: 44935.438  Val Loss: 44736.430\n",
      "\n"
     ]
    },
    {
     "name": "stderr",
     "output_type": "stream",
     "text": [
      "train loss: 45132.867: 100%|██████████| 25/25 [00:09<00:00,  2.62it/s]\n",
      "val loss: 43692.594: 100%|██████████| 7/7 [00:01<00:00,  6.00it/s]\n"
     ]
    },
    {
     "name": "stdout",
     "output_type": "stream",
     "text": [
      "Epoch 97\tTrain Loss: 44927.484  Val Loss: 44745.715\n",
      "\n"
     ]
    },
    {
     "name": "stderr",
     "output_type": "stream",
     "text": [
      "train loss: 45138.809: 100%|██████████| 25/25 [00:09<00:00,  2.63it/s]\n",
      "val loss: 43426.422: 100%|██████████| 7/7 [00:01<00:00,  5.98it/s]\n"
     ]
    },
    {
     "name": "stdout",
     "output_type": "stream",
     "text": [
      "Weight saved: epoch 98\n",
      "Epoch 98\tTrain Loss: 44924.270  Val Loss: 44669.180\n",
      "\n"
     ]
    },
    {
     "name": "stderr",
     "output_type": "stream",
     "text": [
      "train loss: 45019.477: 100%|██████████| 25/25 [00:09<00:00,  2.62it/s]\n",
      "val loss: 43676.789: 100%|██████████| 7/7 [00:01<00:00,  5.98it/s]\n"
     ]
    },
    {
     "name": "stdout",
     "output_type": "stream",
     "text": [
      "Epoch 99\tTrain Loss: 44929.629  Val Loss: 44745.957\n",
      "\n"
     ]
    },
    {
     "name": "stderr",
     "output_type": "stream",
     "text": [
      "train loss: 44863.398: 100%|██████████| 25/25 [00:09<00:00,  2.62it/s]\n",
      "val loss: 43490.051: 100%|██████████| 7/7 [00:01<00:00,  5.98it/s]\n"
     ]
    },
    {
     "name": "stdout",
     "output_type": "stream",
     "text": [
      "Epoch 100\tTrain Loss: 44929.543  Val Loss: 44675.477\n",
      "\n"
     ]
    },
    {
     "name": "stderr",
     "output_type": "stream",
     "text": [
      "train loss: 45090.984: 100%|██████████| 25/25 [00:09<00:00,  2.62it/s]\n",
      "val loss: 43426.312: 100%|██████████| 7/7 [00:01<00:00,  5.97it/s]\n"
     ]
    },
    {
     "name": "stdout",
     "output_type": "stream",
     "text": [
      "Weight saved: epoch 101\n",
      "Epoch 101\tTrain Loss: 44910.051  Val Loss: 44668.145\n",
      "\n"
     ]
    },
    {
     "name": "stderr",
     "output_type": "stream",
     "text": [
      "train loss: 44741.008: 100%|██████████| 25/25 [00:09<00:00,  2.74it/s]\n",
      "val loss: 43438.398: 100%|██████████| 7/7 [00:01<00:00,  6.51it/s]\n"
     ]
    },
    {
     "name": "stdout",
     "output_type": "stream",
     "text": [
      "Weight saved: epoch 102\n",
      "Epoch 102\tTrain Loss: 44926.801  Val Loss: 44667.102\n",
      "\n"
     ]
    },
    {
     "name": "stderr",
     "output_type": "stream",
     "text": [
      "train loss: 45208.953: 100%|██████████| 25/25 [00:08<00:00,  2.86it/s]\n",
      "val loss: 43345.047: 100%|██████████| 7/7 [00:01<00:00,  6.53it/s]\n"
     ]
    },
    {
     "name": "stdout",
     "output_type": "stream",
     "text": [
      "Weight saved: epoch 103\n",
      "Epoch 103\tTrain Loss: 44906.848  Val Loss: 44640.285\n",
      "\n"
     ]
    },
    {
     "name": "stderr",
     "output_type": "stream",
     "text": [
      "train loss: 44818.062: 100%|██████████| 25/25 [00:08<00:00,  2.82it/s]\n",
      "val loss: 43466.727: 100%|██████████| 7/7 [00:01<00:00,  6.45it/s]\n"
     ]
    },
    {
     "name": "stdout",
     "output_type": "stream",
     "text": [
      "Epoch 104\tTrain Loss: 44894.340  Val Loss: 44669.195\n",
      "\n"
     ]
    },
    {
     "name": "stderr",
     "output_type": "stream",
     "text": [
      "train loss: 44936.359: 100%|██████████| 25/25 [00:08<00:00,  2.85it/s]\n",
      "val loss: 43383.094: 100%|██████████| 7/7 [00:01<00:00,  6.50it/s]\n"
     ]
    },
    {
     "name": "stdout",
     "output_type": "stream",
     "text": [
      "Epoch 105\tTrain Loss: 44892.164  Val Loss: 44646.180\n",
      "\n"
     ]
    },
    {
     "name": "stderr",
     "output_type": "stream",
     "text": [
      "train loss: 44599.031: 100%|██████████| 25/25 [00:08<00:00,  2.79it/s]\n",
      "val loss: 43364.688: 100%|██████████| 7/7 [00:01<00:00,  6.50it/s]\n"
     ]
    },
    {
     "name": "stdout",
     "output_type": "stream",
     "text": [
      "Weight saved: epoch 106\n",
      "Epoch 106\tTrain Loss: 44890.211  Val Loss: 44633.816\n",
      "\n"
     ]
    },
    {
     "name": "stderr",
     "output_type": "stream",
     "text": [
      "train loss: 44877.031: 100%|██████████| 25/25 [00:08<00:00,  2.79it/s]\n",
      "val loss: 43290.332: 100%|██████████| 7/7 [00:01<00:00,  6.39it/s]\n"
     ]
    },
    {
     "name": "stdout",
     "output_type": "stream",
     "text": [
      "Weight saved: epoch 107\n",
      "Epoch 107\tTrain Loss: 44885.180  Val Loss: 44617.430\n",
      "\n"
     ]
    },
    {
     "name": "stderr",
     "output_type": "stream",
     "text": [
      "train loss: 45295.023: 100%|██████████| 25/25 [00:08<00:00,  2.79it/s]\n",
      "val loss: 43314.824: 100%|██████████| 7/7 [00:01<00:00,  6.51it/s]\n"
     ]
    },
    {
     "name": "stdout",
     "output_type": "stream",
     "text": [
      "Epoch 108\tTrain Loss: 44893.418  Val Loss: 44622.074\n",
      "\n"
     ]
    },
    {
     "name": "stderr",
     "output_type": "stream",
     "text": [
      "train loss: 44999.352: 100%|██████████| 25/25 [00:08<00:00,  2.82it/s]\n",
      "val loss: 43363.438: 100%|██████████| 7/7 [00:01<00:00,  6.51it/s]\n"
     ]
    },
    {
     "name": "stdout",
     "output_type": "stream",
     "text": [
      "Epoch 109\tTrain Loss: 44880.250  Val Loss: 44630.367\n",
      "\n"
     ]
    },
    {
     "name": "stderr",
     "output_type": "stream",
     "text": [
      "train loss: 44643.613: 100%|██████████| 25/25 [00:08<00:00,  2.81it/s]\n",
      "val loss: 43351.004: 100%|██████████| 7/7 [00:01<00:00,  6.34it/s]\n"
     ]
    },
    {
     "name": "stdout",
     "output_type": "stream",
     "text": [
      "Epoch 110\tTrain Loss: 44877.117  Val Loss: 44653.340\n",
      "\n"
     ]
    },
    {
     "name": "stderr",
     "output_type": "stream",
     "text": [
      "train loss: 44776.461: 100%|██████████| 25/25 [00:08<00:00,  2.84it/s]\n",
      "val loss: 43319.141: 100%|██████████| 7/7 [00:01<00:00,  6.52it/s]\n"
     ]
    },
    {
     "name": "stdout",
     "output_type": "stream",
     "text": [
      "Epoch 111\tTrain Loss: 44891.750  Val Loss: 44632.590\n",
      "\n"
     ]
    },
    {
     "name": "stderr",
     "output_type": "stream",
     "text": [
      "train loss: 45003.359: 100%|██████████| 25/25 [00:08<00:00,  2.86it/s]\n",
      "val loss: 43346.098: 100%|██████████| 7/7 [00:01<00:00,  6.52it/s]\n"
     ]
    },
    {
     "name": "stdout",
     "output_type": "stream",
     "text": [
      "Epoch 112\tTrain Loss: 44873.133  Val Loss: 44628.539\n",
      "\n"
     ]
    },
    {
     "name": "stderr",
     "output_type": "stream",
     "text": [
      "train loss: 44964.273: 100%|██████████| 25/25 [00:08<00:00,  2.81it/s]\n",
      "val loss: 43250.352: 100%|██████████| 7/7 [00:01<00:00,  6.50it/s]\n"
     ]
    },
    {
     "name": "stdout",
     "output_type": "stream",
     "text": [
      "Weight saved: epoch 113\n",
      "Epoch 113\tTrain Loss: 44859.883  Val Loss: 44611.082\n",
      "\n"
     ]
    },
    {
     "name": "stderr",
     "output_type": "stream",
     "text": [
      "train loss: 44934.039: 100%|██████████| 25/25 [00:08<00:00,  2.84it/s]\n",
      "val loss: 43191.961: 100%|██████████| 7/7 [00:01<00:00,  6.50it/s]\n"
     ]
    },
    {
     "name": "stdout",
     "output_type": "stream",
     "text": [
      "Weight saved: epoch 114\n",
      "Epoch 114\tTrain Loss: 44860.461  Val Loss: 44600.254\n",
      "\n"
     ]
    },
    {
     "name": "stderr",
     "output_type": "stream",
     "text": [
      "train loss: 44811.516: 100%|██████████| 25/25 [00:08<00:00,  2.80it/s]\n",
      "val loss: 43274.398: 100%|██████████| 7/7 [00:01<00:00,  6.44it/s]\n"
     ]
    },
    {
     "name": "stdout",
     "output_type": "stream",
     "text": [
      "Weight saved: epoch 115\n",
      "Epoch 115\tTrain Loss: 44873.461  Val Loss: 44599.754\n",
      "\n"
     ]
    },
    {
     "name": "stderr",
     "output_type": "stream",
     "text": [
      "train loss: 44447.211: 100%|██████████| 25/25 [00:08<00:00,  2.84it/s]\n",
      "val loss: 43261.680: 100%|██████████| 7/7 [00:01<00:00,  6.25it/s]\n"
     ]
    },
    {
     "name": "stdout",
     "output_type": "stream",
     "text": [
      "Epoch 116\tTrain Loss: 44897.629  Val Loss: 44614.129\n",
      "\n"
     ]
    },
    {
     "name": "stderr",
     "output_type": "stream",
     "text": [
      "train loss: 45164.746: 100%|██████████| 25/25 [00:08<00:00,  2.80it/s]\n",
      "val loss: 43361.711: 100%|██████████| 7/7 [00:01<00:00,  6.11it/s]\n"
     ]
    },
    {
     "name": "stdout",
     "output_type": "stream",
     "text": [
      "Epoch 117\tTrain Loss: 44874.750  Val Loss: 44648.742\n",
      "\n"
     ]
    },
    {
     "name": "stderr",
     "output_type": "stream",
     "text": [
      "train loss: 44696.633: 100%|██████████| 25/25 [00:09<00:00,  2.73it/s]\n",
      "val loss: 43207.008: 100%|██████████| 7/7 [00:01<00:00,  6.38it/s]\n"
     ]
    },
    {
     "name": "stdout",
     "output_type": "stream",
     "text": [
      "Epoch 118\tTrain Loss: 44868.699  Val Loss: 44601.785\n",
      "\n"
     ]
    },
    {
     "name": "stderr",
     "output_type": "stream",
     "text": [
      "train loss: 44959.078: 100%|██████████| 25/25 [00:08<00:00,  2.81it/s]\n",
      "val loss: 43187.977: 100%|██████████| 7/7 [00:01<00:00,  6.49it/s]\n"
     ]
    },
    {
     "name": "stdout",
     "output_type": "stream",
     "text": [
      "Weight saved: epoch 119\n",
      "Epoch 119\tTrain Loss: 44876.145  Val Loss: 44583.520\n",
      "\n"
     ]
    },
    {
     "name": "stderr",
     "output_type": "stream",
     "text": [
      "train loss: 44716.820: 100%|██████████| 25/25 [00:08<00:00,  2.84it/s]\n",
      "val loss: 43289.805: 100%|██████████| 7/7 [00:01<00:00,  6.45it/s]\n"
     ]
    },
    {
     "name": "stdout",
     "output_type": "stream",
     "text": [
      "Epoch 120\tTrain Loss: 44864.230  Val Loss: 44606.738\n",
      "\n"
     ]
    },
    {
     "name": "stderr",
     "output_type": "stream",
     "text": [
      "train loss: 44756.277: 100%|██████████| 25/25 [00:08<00:00,  2.80it/s]\n",
      "val loss: 43224.047: 100%|██████████| 7/7 [00:01<00:00,  6.21it/s]\n"
     ]
    },
    {
     "name": "stdout",
     "output_type": "stream",
     "text": [
      "Weight saved: epoch 121\n",
      "Epoch 121\tTrain Loss: 44864.125  Val Loss: 44582.707\n",
      "\n"
     ]
    },
    {
     "name": "stderr",
     "output_type": "stream",
     "text": [
      "train loss: 44813.930: 100%|██████████| 25/25 [00:08<00:00,  2.79it/s]\n",
      "val loss: 43140.758: 100%|██████████| 7/7 [00:01<00:00,  6.22it/s]\n"
     ]
    },
    {
     "name": "stdout",
     "output_type": "stream",
     "text": [
      "Weight saved: epoch 122\n",
      "Epoch 122\tTrain Loss: 44860.527  Val Loss: 44569.984\n",
      "\n"
     ]
    },
    {
     "name": "stderr",
     "output_type": "stream",
     "text": [
      "train loss: 44823.398: 100%|██████████| 25/25 [00:08<00:00,  2.79it/s]\n",
      "val loss: 43099.133: 100%|██████████| 7/7 [00:01<00:00,  6.35it/s]\n"
     ]
    },
    {
     "name": "stdout",
     "output_type": "stream",
     "text": [
      "Weight saved: epoch 123\n",
      "Epoch 123\tTrain Loss: 44853.109  Val Loss: 44563.441\n",
      "\n"
     ]
    },
    {
     "name": "stderr",
     "output_type": "stream",
     "text": [
      "train loss: 44458.258: 100%|██████████| 25/25 [00:09<00:00,  2.74it/s]\n",
      "val loss: 43216.656: 100%|██████████| 7/7 [00:01<00:00,  6.42it/s]\n"
     ]
    },
    {
     "name": "stdout",
     "output_type": "stream",
     "text": [
      "Epoch 124\tTrain Loss: 44850.805  Val Loss: 44584.348\n",
      "\n"
     ]
    },
    {
     "name": "stderr",
     "output_type": "stream",
     "text": [
      "train loss: 45074.516: 100%|██████████| 25/25 [00:08<00:00,  2.78it/s]\n",
      "val loss: 43269.832: 100%|██████████| 7/7 [00:01<00:00,  6.21it/s]\n"
     ]
    },
    {
     "name": "stdout",
     "output_type": "stream",
     "text": [
      "Epoch 125\tTrain Loss: 44837.020  Val Loss: 44629.387\n",
      "\n"
     ]
    },
    {
     "name": "stderr",
     "output_type": "stream",
     "text": [
      "train loss: 44937.555: 100%|██████████| 25/25 [00:09<00:00,  2.76it/s]\n",
      "val loss: 43151.930: 100%|██████████| 7/7 [00:01<00:00,  6.07it/s]\n"
     ]
    },
    {
     "name": "stdout",
     "output_type": "stream",
     "text": [
      "Epoch 126\tTrain Loss: 44843.828  Val Loss: 44564.211\n",
      "\n"
     ]
    },
    {
     "name": "stderr",
     "output_type": "stream",
     "text": [
      "train loss: 45006.957: 100%|██████████| 25/25 [00:08<00:00,  2.78it/s]\n",
      "val loss: 43137.051: 100%|██████████| 7/7 [00:01<00:00,  6.40it/s]\n"
     ]
    },
    {
     "name": "stdout",
     "output_type": "stream",
     "text": [
      "Weight saved: epoch 127\n",
      "Epoch 127\tTrain Loss: 44851.902  Val Loss: 44559.066\n",
      "\n"
     ]
    },
    {
     "name": "stderr",
     "output_type": "stream",
     "text": [
      "train loss: 44854.188: 100%|██████████| 25/25 [00:08<00:00,  2.80it/s]\n",
      "val loss: 43175.672: 100%|██████████| 7/7 [00:01<00:00,  6.18it/s]\n"
     ]
    },
    {
     "name": "stdout",
     "output_type": "stream",
     "text": [
      "Epoch 128\tTrain Loss: 44835.586  Val Loss: 44567.504\n",
      "\n"
     ]
    },
    {
     "name": "stderr",
     "output_type": "stream",
     "text": [
      "train loss: 45013.453: 100%|██████████| 25/25 [00:08<00:00,  2.80it/s]\n",
      "val loss: 43100.621: 100%|██████████| 7/7 [00:01<00:00,  6.50it/s]\n"
     ]
    },
    {
     "name": "stdout",
     "output_type": "stream",
     "text": [
      "Weight saved: epoch 129\n",
      "Epoch 129\tTrain Loss: 44851.668  Val Loss: 44553.520\n",
      "\n"
     ]
    },
    {
     "name": "stderr",
     "output_type": "stream",
     "text": [
      "train loss: 44606.375: 100%|██████████| 25/25 [00:08<00:00,  2.85it/s]\n",
      "val loss: 43406.141: 100%|██████████| 7/7 [00:01<00:00,  6.36it/s]\n"
     ]
    },
    {
     "name": "stdout",
     "output_type": "stream",
     "text": [
      "Epoch 130\tTrain Loss: 44847.539  Val Loss: 44667.137\n",
      "\n"
     ]
    },
    {
     "name": "stderr",
     "output_type": "stream",
     "text": [
      "train loss: 44776.484: 100%|██████████| 25/25 [00:08<00:00,  2.79it/s]\n",
      "val loss: 43085.953: 100%|██████████| 7/7 [00:01<00:00,  6.18it/s]\n"
     ]
    },
    {
     "name": "stdout",
     "output_type": "stream",
     "text": [
      "Weight saved: epoch 131\n",
      "Epoch 131\tTrain Loss: 44848.035  Val Loss: 44539.617\n",
      "\n"
     ]
    },
    {
     "name": "stderr",
     "output_type": "stream",
     "text": [
      "train loss: 44614.719: 100%|██████████| 25/25 [00:08<00:00,  2.81it/s]\n",
      "val loss: 43001.984: 100%|██████████| 7/7 [00:01<00:00,  6.31it/s]\n"
     ]
    },
    {
     "name": "stdout",
     "output_type": "stream",
     "text": [
      "Weight saved: epoch 132\n",
      "Epoch 132\tTrain Loss: 44823.008  Val Loss: 44522.340\n",
      "\n"
     ]
    },
    {
     "name": "stderr",
     "output_type": "stream",
     "text": [
      "train loss: 44811.855: 100%|██████████| 25/25 [00:08<00:00,  2.82it/s]\n",
      "val loss: 43043.562: 100%|██████████| 7/7 [00:01<00:00,  6.50it/s]\n"
     ]
    },
    {
     "name": "stdout",
     "output_type": "stream",
     "text": [
      "Epoch 133\tTrain Loss: 44810.344  Val Loss: 44538.418\n",
      "\n"
     ]
    },
    {
     "name": "stderr",
     "output_type": "stream",
     "text": [
      "train loss: 44901.898: 100%|██████████| 25/25 [00:08<00:00,  2.81it/s]\n",
      "val loss: 42987.176: 100%|██████████| 7/7 [00:01<00:00,  6.44it/s]\n"
     ]
    },
    {
     "name": "stdout",
     "output_type": "stream",
     "text": [
      "Weight saved: epoch 134\n",
      "Epoch 134\tTrain Loss: 44810.812  Val Loss: 44507.801\n",
      "\n"
     ]
    },
    {
     "name": "stderr",
     "output_type": "stream",
     "text": [
      "train loss: 44792.578: 100%|██████████| 25/25 [00:08<00:00,  2.84it/s]\n",
      "val loss: 42998.336: 100%|██████████| 7/7 [00:01<00:00,  6.37it/s]\n"
     ]
    },
    {
     "name": "stdout",
     "output_type": "stream",
     "text": [
      "Epoch 135\tTrain Loss: 44840.848  Val Loss: 44508.316\n",
      "\n"
     ]
    },
    {
     "name": "stderr",
     "output_type": "stream",
     "text": [
      "train loss: 45057.953: 100%|██████████| 25/25 [00:09<00:00,  2.72it/s]\n",
      "val loss: 43068.672: 100%|██████████| 7/7 [00:01<00:00,  6.26it/s]\n"
     ]
    },
    {
     "name": "stdout",
     "output_type": "stream",
     "text": [
      "Epoch 136\tTrain Loss: 44792.586  Val Loss: 44535.277\n",
      "\n"
     ]
    },
    {
     "name": "stderr",
     "output_type": "stream",
     "text": [
      "train loss: 44797.332: 100%|██████████| 25/25 [00:09<00:00,  2.74it/s]\n",
      "val loss: 43653.973: 100%|██████████| 7/7 [00:01<00:00,  6.22it/s]\n"
     ]
    },
    {
     "name": "stdout",
     "output_type": "stream",
     "text": [
      "Epoch 137\tTrain Loss: 45037.395  Val Loss: 44745.965\n",
      "\n"
     ]
    },
    {
     "name": "stderr",
     "output_type": "stream",
     "text": [
      "train loss: 44685.902: 100%|██████████| 25/25 [00:09<00:00,  2.78it/s]\n",
      "val loss: 43559.828: 100%|██████████| 7/7 [00:01<00:00,  6.28it/s]\n"
     ]
    },
    {
     "name": "stdout",
     "output_type": "stream",
     "text": [
      "Epoch 138\tTrain Loss: 44918.469  Val Loss: 44729.430\n",
      "\n"
     ]
    },
    {
     "name": "stderr",
     "output_type": "stream",
     "text": [
      "train loss: 45083.312: 100%|██████████| 25/25 [00:08<00:00,  2.82it/s]\n",
      "val loss: 43254.090: 100%|██████████| 7/7 [00:01<00:00,  6.52it/s]\n"
     ]
    },
    {
     "name": "stdout",
     "output_type": "stream",
     "text": [
      "Epoch 139\tTrain Loss: 44887.910  Val Loss: 44606.395\n",
      "\n"
     ]
    },
    {
     "name": "stderr",
     "output_type": "stream",
     "text": [
      "train loss: 44926.250: 100%|██████████| 25/25 [00:08<00:00,  2.86it/s]\n",
      "val loss: 43369.352: 100%|██████████| 7/7 [00:01<00:00,  6.49it/s]\n"
     ]
    },
    {
     "name": "stdout",
     "output_type": "stream",
     "text": [
      "Epoch 140\tTrain Loss: 44862.859  Val Loss: 44647.863\n",
      "\n"
     ]
    },
    {
     "name": "stderr",
     "output_type": "stream",
     "text": [
      "train loss: 44849.727: 100%|██████████| 25/25 [00:08<00:00,  2.86it/s]\n",
      "val loss: 43195.316: 100%|██████████| 7/7 [00:01<00:00,  6.52it/s]\n"
     ]
    },
    {
     "name": "stdout",
     "output_type": "stream",
     "text": [
      "Epoch 141\tTrain Loss: 44844.152  Val Loss: 44584.492\n",
      "\n"
     ]
    },
    {
     "name": "stderr",
     "output_type": "stream",
     "text": [
      "train loss: 44678.625: 100%|██████████| 25/25 [00:08<00:00,  2.78it/s]\n",
      "val loss: 43331.039: 100%|██████████| 7/7 [00:01<00:00,  6.33it/s]\n"
     ]
    },
    {
     "name": "stdout",
     "output_type": "stream",
     "text": [
      "Epoch 142\tTrain Loss: 44828.094  Val Loss: 44641.016\n",
      "\n"
     ]
    },
    {
     "name": "stderr",
     "output_type": "stream",
     "text": [
      "train loss: 44751.758: 100%|██████████| 25/25 [00:08<00:00,  2.84it/s]\n",
      "val loss: 42980.508: 100%|██████████| 7/7 [00:01<00:00,  6.30it/s]\n"
     ]
    },
    {
     "name": "stdout",
     "output_type": "stream",
     "text": [
      "Weight saved: epoch 143\n",
      "Epoch 143\tTrain Loss: 44839.719  Val Loss: 44502.016\n",
      "\n"
     ]
    },
    {
     "name": "stderr",
     "output_type": "stream",
     "text": [
      "train loss: 44859.789: 100%|██████████| 25/25 [00:09<00:00,  2.76it/s]\n",
      "val loss: 43352.023: 100%|██████████| 7/7 [00:01<00:00,  6.23it/s]\n"
     ]
    },
    {
     "name": "stdout",
     "output_type": "stream",
     "text": [
      "Epoch 144\tTrain Loss: 44844.879  Val Loss: 44646.293\n",
      "\n"
     ]
    },
    {
     "name": "stderr",
     "output_type": "stream",
     "text": [
      "train loss: 45133.789: 100%|██████████| 25/25 [00:09<00:00,  2.77it/s]\n",
      "val loss: 43100.531: 100%|██████████| 7/7 [00:01<00:00,  6.17it/s]\n"
     ]
    },
    {
     "name": "stdout",
     "output_type": "stream",
     "text": [
      "Epoch 145\tTrain Loss: 44846.289  Val Loss: 44550.941\n",
      "\n"
     ]
    },
    {
     "name": "stderr",
     "output_type": "stream",
     "text": [
      "train loss: 45093.062: 100%|██████████| 25/25 [00:08<00:00,  2.80it/s]\n",
      "val loss: 42973.680: 100%|██████████| 7/7 [00:01<00:00,  6.36it/s]\n"
     ]
    },
    {
     "name": "stdout",
     "output_type": "stream",
     "text": [
      "Epoch 146\tTrain Loss: 44810.840  Val Loss: 44510.152\n",
      "\n"
     ]
    },
    {
     "name": "stderr",
     "output_type": "stream",
     "text": [
      "train loss: 44517.273: 100%|██████████| 25/25 [00:09<00:00,  2.73it/s]\n",
      "val loss: 43113.746: 100%|██████████| 7/7 [00:01<00:00,  6.31it/s]\n"
     ]
    },
    {
     "name": "stdout",
     "output_type": "stream",
     "text": [
      "Epoch 147\tTrain Loss: 44816.184  Val Loss: 44544.332\n",
      "\n"
     ]
    },
    {
     "name": "stderr",
     "output_type": "stream",
     "text": [
      "train loss: 44922.195: 100%|██████████| 25/25 [00:09<00:00,  2.73it/s]\n",
      "val loss: 43174.863: 100%|██████████| 7/7 [00:01<00:00,  6.25it/s]\n"
     ]
    },
    {
     "name": "stdout",
     "output_type": "stream",
     "text": [
      "Epoch 148\tTrain Loss: 44799.527  Val Loss: 44565.867\n",
      "\n"
     ]
    },
    {
     "name": "stderr",
     "output_type": "stream",
     "text": [
      "train loss: 44695.121: 100%|██████████| 25/25 [00:09<00:00,  2.74it/s]\n",
      "val loss: 42971.215: 100%|██████████| 7/7 [00:01<00:00,  6.28it/s]\n"
     ]
    },
    {
     "name": "stdout",
     "output_type": "stream",
     "text": [
      "Weight saved: epoch 149\n",
      "Epoch 149\tTrain Loss: 44793.402  Val Loss: 44498.508\n",
      "\n"
     ]
    },
    {
     "name": "stderr",
     "output_type": "stream",
     "text": [
      "train loss: 44771.516: 100%|██████████| 25/25 [00:09<00:00,  2.76it/s]\n",
      "val loss: 42975.266: 100%|██████████| 7/7 [00:01<00:00,  6.37it/s]\n"
     ]
    },
    {
     "name": "stdout",
     "output_type": "stream",
     "text": [
      "Epoch 150\tTrain Loss: 44804.000  Val Loss: 44499.977\n",
      "\n"
     ]
    },
    {
     "name": "stderr",
     "output_type": "stream",
     "text": [
      "train loss: 44746.523: 100%|██████████| 25/25 [00:09<00:00,  2.73it/s]\n",
      "val loss: 43051.078: 100%|██████████| 7/7 [00:01<00:00,  6.47it/s]\n"
     ]
    },
    {
     "name": "stdout",
     "output_type": "stream",
     "text": [
      "Epoch 151\tTrain Loss: 44807.910  Val Loss: 44530.949\n",
      "\n"
     ]
    },
    {
     "name": "stderr",
     "output_type": "stream",
     "text": [
      "train loss: 44584.352: 100%|██████████| 25/25 [00:09<00:00,  2.75it/s]\n",
      "val loss: 42918.215: 100%|██████████| 7/7 [00:01<00:00,  6.26it/s]\n"
     ]
    },
    {
     "name": "stdout",
     "output_type": "stream",
     "text": [
      "Weight saved: epoch 152\n",
      "Epoch 152\tTrain Loss: 44799.777  Val Loss: 44485.355\n",
      "\n"
     ]
    },
    {
     "name": "stderr",
     "output_type": "stream",
     "text": [
      "train loss: 44772.188: 100%|██████████| 25/25 [00:08<00:00,  2.80it/s]\n",
      "val loss: 43005.461: 100%|██████████| 7/7 [00:01<00:00,  5.96it/s]\n"
     ]
    },
    {
     "name": "stdout",
     "output_type": "stream",
     "text": [
      "Epoch 153\tTrain Loss: 44799.910  Val Loss: 44508.805\n",
      "\n"
     ]
    },
    {
     "name": "stderr",
     "output_type": "stream",
     "text": [
      "train loss: 44702.590: 100%|██████████| 25/25 [00:09<00:00,  2.75it/s]\n",
      "val loss: 43116.941: 100%|██████████| 7/7 [00:01<00:00,  6.20it/s]\n"
     ]
    },
    {
     "name": "stdout",
     "output_type": "stream",
     "text": [
      "Epoch 154\tTrain Loss: 44783.699  Val Loss: 44553.414\n",
      "\n"
     ]
    },
    {
     "name": "stderr",
     "output_type": "stream",
     "text": [
      "train loss: 44840.648: 100%|██████████| 25/25 [00:09<00:00,  2.74it/s]\n",
      "val loss: 42914.797: 100%|██████████| 7/7 [00:01<00:00,  6.17it/s]\n"
     ]
    },
    {
     "name": "stdout",
     "output_type": "stream",
     "text": [
      "Weight saved: epoch 155\n",
      "Epoch 155\tTrain Loss: 44814.855  Val Loss: 44483.320\n",
      "\n"
     ]
    },
    {
     "name": "stderr",
     "output_type": "stream",
     "text": [
      "train loss: 44952.711: 100%|██████████| 25/25 [00:09<00:00,  2.74it/s]\n",
      "val loss: 42885.383: 100%|██████████| 7/7 [00:01<00:00,  6.23it/s]\n"
     ]
    },
    {
     "name": "stdout",
     "output_type": "stream",
     "text": [
      "Weight saved: epoch 156\n",
      "Epoch 156\tTrain Loss: 44789.910  Val Loss: 44481.852\n",
      "\n"
     ]
    },
    {
     "name": "stderr",
     "output_type": "stream",
     "text": [
      "train loss: 44688.266: 100%|██████████| 25/25 [00:09<00:00,  2.77it/s]\n",
      "val loss: 42977.395: 100%|██████████| 7/7 [00:01<00:00,  6.52it/s]\n"
     ]
    },
    {
     "name": "stdout",
     "output_type": "stream",
     "text": [
      "Epoch 157\tTrain Loss: 44792.027  Val Loss: 44516.578\n",
      "\n"
     ]
    },
    {
     "name": "stderr",
     "output_type": "stream",
     "text": [
      "train loss: 44790.664: 100%|██████████| 25/25 [00:08<00:00,  2.79it/s]\n",
      "val loss: 42989.023: 100%|██████████| 7/7 [00:01<00:00,  6.53it/s]\n"
     ]
    },
    {
     "name": "stdout",
     "output_type": "stream",
     "text": [
      "Epoch 158\tTrain Loss: 44789.973  Val Loss: 44516.762\n",
      "\n"
     ]
    },
    {
     "name": "stderr",
     "output_type": "stream",
     "text": [
      "train loss: 45034.109: 100%|██████████| 25/25 [00:09<00:00,  2.77it/s]\n",
      "val loss: 43019.898: 100%|██████████| 7/7 [00:01<00:00,  6.32it/s]\n"
     ]
    },
    {
     "name": "stdout",
     "output_type": "stream",
     "text": [
      "Epoch 159\tTrain Loss: 44777.438  Val Loss: 44525.453\n",
      "\n"
     ]
    },
    {
     "name": "stderr",
     "output_type": "stream",
     "text": [
      "train loss: 45056.766: 100%|██████████| 25/25 [00:08<00:00,  2.84it/s]\n",
      "val loss: 42957.898: 100%|██████████| 7/7 [00:01<00:00,  6.10it/s]\n"
     ]
    },
    {
     "name": "stdout",
     "output_type": "stream",
     "text": [
      "Epoch 160\tTrain Loss: 44794.945  Val Loss: 44500.637\n",
      "\n"
     ]
    },
    {
     "name": "stderr",
     "output_type": "stream",
     "text": [
      "train loss: 44838.715: 100%|██████████| 25/25 [00:08<00:00,  2.78it/s]\n",
      "val loss: 42891.281: 100%|██████████| 7/7 [00:01<00:00,  6.45it/s]\n"
     ]
    },
    {
     "name": "stdout",
     "output_type": "stream",
     "text": [
      "Weight saved: epoch 161\n",
      "Epoch 161\tTrain Loss: 44786.824  Val Loss: 44476.727\n",
      "\n"
     ]
    },
    {
     "name": "stderr",
     "output_type": "stream",
     "text": [
      "train loss: 44578.391: 100%|██████████| 25/25 [00:09<00:00,  2.78it/s]\n",
      "val loss: 42843.867: 100%|██████████| 7/7 [00:01<00:00,  6.27it/s]\n"
     ]
    },
    {
     "name": "stdout",
     "output_type": "stream",
     "text": [
      "Weight saved: epoch 162\n",
      "Epoch 162\tTrain Loss: 44776.625  Val Loss: 44468.254\n",
      "\n"
     ]
    },
    {
     "name": "stderr",
     "output_type": "stream",
     "text": [
      "train loss: 44888.312: 100%|██████████| 25/25 [00:08<00:00,  2.81it/s]\n",
      "val loss: 43114.477: 100%|██████████| 7/7 [00:01<00:00,  6.35it/s]\n"
     ]
    },
    {
     "name": "stdout",
     "output_type": "stream",
     "text": [
      "Epoch 163\tTrain Loss: 44791.020  Val Loss: 44570.070\n",
      "\n"
     ]
    },
    {
     "name": "stderr",
     "output_type": "stream",
     "text": [
      "train loss: 44957.820: 100%|██████████| 25/25 [00:08<00:00,  2.79it/s]\n",
      "val loss: 42852.914: 100%|██████████| 7/7 [00:01<00:00,  6.28it/s]\n"
     ]
    },
    {
     "name": "stdout",
     "output_type": "stream",
     "text": [
      "Epoch 164\tTrain Loss: 44796.562  Val Loss: 44468.402\n",
      "\n"
     ]
    },
    {
     "name": "stderr",
     "output_type": "stream",
     "text": [
      "train loss: 44805.949: 100%|██████████| 25/25 [00:08<00:00,  2.78it/s]\n",
      "val loss: 42938.129: 100%|██████████| 7/7 [00:01<00:00,  6.51it/s]\n"
     ]
    },
    {
     "name": "stdout",
     "output_type": "stream",
     "text": [
      "Epoch 165\tTrain Loss: 44779.594  Val Loss: 44496.512\n",
      "\n"
     ]
    },
    {
     "name": "stderr",
     "output_type": "stream",
     "text": [
      "train loss: 45307.008: 100%|██████████| 25/25 [00:08<00:00,  2.85it/s]\n",
      "val loss: 43016.562: 100%|██████████| 7/7 [00:01<00:00,  6.23it/s]\n"
     ]
    },
    {
     "name": "stdout",
     "output_type": "stream",
     "text": [
      "Epoch 166\tTrain Loss: 44786.562  Val Loss: 44520.828\n",
      "\n"
     ]
    },
    {
     "name": "stderr",
     "output_type": "stream",
     "text": [
      "train loss: 44837.324: 100%|██████████| 25/25 [00:08<00:00,  2.86it/s]\n",
      "val loss: 42871.621: 100%|██████████| 7/7 [00:01<00:00,  6.52it/s]\n"
     ]
    },
    {
     "name": "stdout",
     "output_type": "stream",
     "text": [
      "Epoch 167\tTrain Loss: 44784.551  Val Loss: 44474.215\n",
      "\n"
     ]
    },
    {
     "name": "stderr",
     "output_type": "stream",
     "text": [
      "train loss: 44733.234: 100%|██████████| 25/25 [00:09<00:00,  2.77it/s]\n",
      "val loss: 42910.184: 100%|██████████| 7/7 [00:01<00:00,  6.42it/s]\n"
     ]
    },
    {
     "name": "stdout",
     "output_type": "stream",
     "text": [
      "Epoch 168\tTrain Loss: 44778.430  Val Loss: 44490.082\n",
      "\n"
     ]
    },
    {
     "name": "stderr",
     "output_type": "stream",
     "text": [
      "train loss: 45247.988: 100%|██████████| 25/25 [00:08<00:00,  2.79it/s]\n",
      "val loss: 42922.625: 100%|██████████| 7/7 [00:01<00:00,  6.31it/s]\n"
     ]
    },
    {
     "name": "stdout",
     "output_type": "stream",
     "text": [
      "Epoch 169\tTrain Loss: 44776.539  Val Loss: 44498.867\n",
      "\n"
     ]
    },
    {
     "name": "stderr",
     "output_type": "stream",
     "text": [
      "train loss: 44478.562: 100%|██████████| 25/25 [00:09<00:00,  2.76it/s]\n",
      "val loss: 42896.766: 100%|██████████| 7/7 [00:01<00:00,  6.43it/s]\n"
     ]
    },
    {
     "name": "stdout",
     "output_type": "stream",
     "text": [
      "Epoch 170\tTrain Loss: 44774.434  Val Loss: 44485.832\n",
      "\n"
     ]
    },
    {
     "name": "stderr",
     "output_type": "stream",
     "text": [
      "train loss: 44894.578: 100%|██████████| 25/25 [00:08<00:00,  2.82it/s]\n",
      "val loss: 42937.258: 100%|██████████| 7/7 [00:01<00:00,  6.36it/s]\n"
     ]
    },
    {
     "name": "stdout",
     "output_type": "stream",
     "text": [
      "Epoch 171\tTrain Loss: 44777.125  Val Loss: 44492.262\n",
      "\n"
     ]
    },
    {
     "name": "stderr",
     "output_type": "stream",
     "text": [
      "train loss: 44735.801: 100%|██████████| 25/25 [00:08<00:00,  2.82it/s]\n",
      "val loss: 43070.617: 100%|██████████| 7/7 [00:01<00:00,  6.51it/s]\n"
     ]
    },
    {
     "name": "stdout",
     "output_type": "stream",
     "text": [
      "Epoch 172\tTrain Loss: 44774.043  Val Loss: 44543.609\n",
      "\n"
     ]
    },
    {
     "name": "stderr",
     "output_type": "stream",
     "text": [
      "train loss: 44722.234: 100%|██████████| 25/25 [00:09<00:00,  2.77it/s]\n",
      "val loss: 42821.352: 100%|██████████| 7/7 [00:01<00:00,  6.38it/s]\n"
     ]
    },
    {
     "name": "stdout",
     "output_type": "stream",
     "text": [
      "Weight saved: epoch 173\n",
      "Epoch 173\tTrain Loss: 44774.410  Val Loss: 44456.465\n",
      "\n"
     ]
    },
    {
     "name": "stderr",
     "output_type": "stream",
     "text": [
      "train loss: 44783.492: 100%|██████████| 25/25 [00:08<00:00,  2.84it/s]\n",
      "val loss: 42849.566: 100%|██████████| 7/7 [00:01<00:00,  6.30it/s]\n"
     ]
    },
    {
     "name": "stdout",
     "output_type": "stream",
     "text": [
      "Epoch 174\tTrain Loss: 44767.188  Val Loss: 44469.199\n",
      "\n"
     ]
    },
    {
     "name": "stderr",
     "output_type": "stream",
     "text": [
      "train loss: 44972.250: 100%|██████████| 25/25 [00:08<00:00,  2.85it/s]\n",
      "val loss: 42947.438: 100%|██████████| 7/7 [00:01<00:00,  6.51it/s]\n"
     ]
    },
    {
     "name": "stdout",
     "output_type": "stream",
     "text": [
      "Epoch 175\tTrain Loss: 44769.918  Val Loss: 44505.922\n",
      "\n"
     ]
    },
    {
     "name": "stderr",
     "output_type": "stream",
     "text": [
      "train loss: 44464.289: 100%|██████████| 25/25 [00:08<00:00,  2.86it/s]\n",
      "val loss: 42791.191: 100%|██████████| 7/7 [00:01<00:00,  6.53it/s]\n"
     ]
    },
    {
     "name": "stdout",
     "output_type": "stream",
     "text": [
      "Weight saved: epoch 176\n",
      "Epoch 176\tTrain Loss: 44763.949  Val Loss: 44442.887\n",
      "\n"
     ]
    },
    {
     "name": "stderr",
     "output_type": "stream",
     "text": [
      "train loss: 44904.281: 100%|██████████| 25/25 [00:08<00:00,  2.79it/s]\n",
      "val loss: 42842.805: 100%|██████████| 7/7 [00:01<00:00,  6.42it/s]\n"
     ]
    },
    {
     "name": "stdout",
     "output_type": "stream",
     "text": [
      "Epoch 177\tTrain Loss: 44774.863  Val Loss: 44458.242\n",
      "\n"
     ]
    },
    {
     "name": "stderr",
     "output_type": "stream",
     "text": [
      "train loss: 44912.562: 100%|██████████| 25/25 [00:08<00:00,  2.86it/s]\n",
      "val loss: 43131.031: 100%|██████████| 7/7 [00:01<00:00,  6.18it/s]\n"
     ]
    },
    {
     "name": "stdout",
     "output_type": "stream",
     "text": [
      "Epoch 178\tTrain Loss: 44776.574  Val Loss: 44568.074\n",
      "\n"
     ]
    },
    {
     "name": "stderr",
     "output_type": "stream",
     "text": [
      "train loss: 44869.293: 100%|██████████| 25/25 [00:08<00:00,  2.83it/s]\n",
      "val loss: 42807.695: 100%|██████████| 7/7 [00:01<00:00,  6.46it/s]\n"
     ]
    },
    {
     "name": "stdout",
     "output_type": "stream",
     "text": [
      "Epoch 179\tTrain Loss: 44773.344  Val Loss: 44446.527\n",
      "\n"
     ]
    },
    {
     "name": "stderr",
     "output_type": "stream",
     "text": [
      "train loss: 44646.750: 100%|██████████| 25/25 [00:08<00:00,  2.85it/s]\n",
      "val loss: 42899.562: 100%|██████████| 7/7 [00:01<00:00,  6.50it/s]\n"
     ]
    },
    {
     "name": "stdout",
     "output_type": "stream",
     "text": [
      "Epoch 180\tTrain Loss: 44775.035  Val Loss: 44481.215\n",
      "\n"
     ]
    },
    {
     "name": "stderr",
     "output_type": "stream",
     "text": [
      "train loss: 44879.418: 100%|██████████| 25/25 [00:08<00:00,  2.85it/s]\n",
      "val loss: 42847.391: 100%|██████████| 7/7 [00:01<00:00,  6.51it/s]\n"
     ]
    },
    {
     "name": "stdout",
     "output_type": "stream",
     "text": [
      "Epoch 181\tTrain Loss: 44761.680  Val Loss: 44474.641\n",
      "\n"
     ]
    },
    {
     "name": "stderr",
     "output_type": "stream",
     "text": [
      "train loss: 44946.801: 100%|██████████| 25/25 [00:08<00:00,  2.85it/s]\n",
      "val loss: 42895.469: 100%|██████████| 7/7 [00:01<00:00,  6.48it/s]\n"
     ]
    },
    {
     "name": "stdout",
     "output_type": "stream",
     "text": [
      "Epoch 182\tTrain Loss: 44772.984  Val Loss: 44476.957\n",
      "\n"
     ]
    },
    {
     "name": "stderr",
     "output_type": "stream",
     "text": [
      "train loss: 44678.586: 100%|██████████| 25/25 [00:08<00:00,  2.84it/s]\n",
      "val loss: 42948.426: 100%|██████████| 7/7 [00:01<00:00,  6.49it/s]\n"
     ]
    },
    {
     "name": "stdout",
     "output_type": "stream",
     "text": [
      "Epoch 183\tTrain Loss: 44782.203  Val Loss: 44493.285\n",
      "\n"
     ]
    },
    {
     "name": "stderr",
     "output_type": "stream",
     "text": [
      "train loss: 45018.898: 100%|██████████| 25/25 [00:08<00:00,  2.84it/s]\n",
      "val loss: 43341.586: 100%|██████████| 7/7 [00:01<00:00,  6.51it/s]\n"
     ]
    },
    {
     "name": "stdout",
     "output_type": "stream",
     "text": [
      "Epoch 184\tTrain Loss: 44844.867  Val Loss: 44644.016\n",
      "\n"
     ]
    },
    {
     "name": "stderr",
     "output_type": "stream",
     "text": [
      "train loss: 45024.938: 100%|██████████| 25/25 [00:08<00:00,  2.85it/s]\n",
      "val loss: 43044.875: 100%|██████████| 7/7 [00:01<00:00,  6.48it/s]\n"
     ]
    },
    {
     "name": "stdout",
     "output_type": "stream",
     "text": [
      "Epoch 185\tTrain Loss: 44841.758  Val Loss: 44532.340\n",
      "\n"
     ]
    },
    {
     "name": "stderr",
     "output_type": "stream",
     "text": [
      "train loss: 44757.465: 100%|██████████| 25/25 [00:08<00:00,  2.85it/s]\n",
      "val loss: 43408.930: 100%|██████████| 7/7 [00:01<00:00,  6.51it/s]\n"
     ]
    },
    {
     "name": "stdout",
     "output_type": "stream",
     "text": [
      "Epoch 186\tTrain Loss: 44813.789  Val Loss: 44660.523\n",
      "\n"
     ]
    },
    {
     "name": "stderr",
     "output_type": "stream",
     "text": [
      "train loss: 45135.059: 100%|██████████| 25/25 [00:08<00:00,  2.84it/s]\n",
      "val loss: 43534.605: 100%|██████████| 7/7 [00:01<00:00,  6.49it/s]\n"
     ]
    },
    {
     "name": "stdout",
     "output_type": "stream",
     "text": [
      "Epoch 187\tTrain Loss: 44837.230  Val Loss: 44713.055\n",
      "\n"
     ]
    },
    {
     "name": "stderr",
     "output_type": "stream",
     "text": [
      "train loss: 44879.922: 100%|██████████| 25/25 [00:08<00:00,  2.85it/s]\n",
      "val loss: 42987.945: 100%|██████████| 7/7 [00:01<00:00,  6.51it/s]\n"
     ]
    },
    {
     "name": "stdout",
     "output_type": "stream",
     "text": [
      "Epoch 188\tTrain Loss: 44808.301  Val Loss: 44508.289\n",
      "\n"
     ]
    },
    {
     "name": "stderr",
     "output_type": "stream",
     "text": [
      "train loss: 45056.680: 100%|██████████| 25/25 [00:08<00:00,  2.85it/s]\n",
      "val loss: 42936.992: 100%|██████████| 7/7 [00:01<00:00,  6.52it/s]\n"
     ]
    },
    {
     "name": "stdout",
     "output_type": "stream",
     "text": [
      "Epoch 189\tTrain Loss: 44855.961  Val Loss: 44493.262\n",
      "\n"
     ]
    },
    {
     "name": "stderr",
     "output_type": "stream",
     "text": [
      "train loss: 44561.211: 100%|██████████| 25/25 [00:08<00:00,  2.85it/s]\n",
      "val loss: 43097.188: 100%|██████████| 7/7 [00:01<00:00,  6.44it/s]\n"
     ]
    },
    {
     "name": "stdout",
     "output_type": "stream",
     "text": [
      "Epoch 190\tTrain Loss: 44825.754  Val Loss: 44567.305\n",
      "\n"
     ]
    },
    {
     "name": "stderr",
     "output_type": "stream",
     "text": [
      "train loss: 45017.680: 100%|██████████| 25/25 [00:08<00:00,  2.84it/s]\n",
      "val loss: 42907.793: 100%|██████████| 7/7 [00:01<00:00,  6.48it/s]\n"
     ]
    },
    {
     "name": "stdout",
     "output_type": "stream",
     "text": [
      "Epoch 191\tTrain Loss: 44817.484  Val Loss: 44480.340\n",
      "\n"
     ]
    },
    {
     "name": "stderr",
     "output_type": "stream",
     "text": [
      "train loss: 44649.371: 100%|██████████| 25/25 [00:08<00:00,  2.85it/s]\n",
      "val loss: 42724.867: 100%|██████████| 7/7 [00:01<00:00,  6.48it/s]\n"
     ]
    },
    {
     "name": "stdout",
     "output_type": "stream",
     "text": [
      "Weight saved: epoch 192\n",
      "Epoch 192\tTrain Loss: 44741.848  Val Loss: 44422.457\n",
      "\n"
     ]
    },
    {
     "name": "stderr",
     "output_type": "stream",
     "text": [
      "train loss: 44817.020: 100%|██████████| 25/25 [00:08<00:00,  2.85it/s]\n",
      "val loss: 43171.000: 100%|██████████| 7/7 [00:01<00:00,  6.45it/s]\n"
     ]
    },
    {
     "name": "stdout",
     "output_type": "stream",
     "text": [
      "Epoch 193\tTrain Loss: 44856.863  Val Loss: 44604.203\n",
      "\n"
     ]
    },
    {
     "name": "stderr",
     "output_type": "stream",
     "text": [
      "train loss: 44673.543: 100%|██████████| 25/25 [00:08<00:00,  2.85it/s]\n",
      "val loss: 43816.289: 100%|██████████| 7/7 [00:01<00:00,  6.51it/s]\n"
     ]
    },
    {
     "name": "stdout",
     "output_type": "stream",
     "text": [
      "Epoch 194\tTrain Loss: 44793.578  Val Loss: 44798.941\n",
      "\n"
     ]
    },
    {
     "name": "stderr",
     "output_type": "stream",
     "text": [
      "train loss: 44858.438: 100%|██████████| 25/25 [00:08<00:00,  2.84it/s]\n",
      "val loss: 43192.305: 100%|██████████| 7/7 [00:01<00:00,  6.51it/s]\n"
     ]
    },
    {
     "name": "stdout",
     "output_type": "stream",
     "text": [
      "Epoch 195\tTrain Loss: 44879.285  Val Loss: 44614.066\n",
      "\n"
     ]
    },
    {
     "name": "stderr",
     "output_type": "stream",
     "text": [
      "train loss: 45031.965: 100%|██████████| 25/25 [00:08<00:00,  2.84it/s]\n",
      "val loss: 43538.352: 100%|██████████| 7/7 [00:01<00:00,  6.50it/s]\n"
     ]
    },
    {
     "name": "stdout",
     "output_type": "stream",
     "text": [
      "Epoch 196\tTrain Loss: 44839.105  Val Loss: 44711.762\n",
      "\n"
     ]
    },
    {
     "name": "stderr",
     "output_type": "stream",
     "text": [
      "train loss: 45013.125: 100%|██████████| 25/25 [00:08<00:00,  2.85it/s]\n",
      "val loss: 44011.773: 100%|██████████| 7/7 [00:01<00:00,  6.50it/s]\n"
     ]
    },
    {
     "name": "stdout",
     "output_type": "stream",
     "text": [
      "Epoch 197\tTrain Loss: 45166.730  Val Loss: 44861.039\n",
      "\n"
     ]
    },
    {
     "name": "stderr",
     "output_type": "stream",
     "text": [
      "train loss: 45114.734: 100%|██████████| 25/25 [00:08<00:00,  2.84it/s]\n",
      "val loss: 43715.062: 100%|██████████| 7/7 [00:01<00:00,  6.48it/s]\n"
     ]
    },
    {
     "name": "stdout",
     "output_type": "stream",
     "text": [
      "Epoch 198\tTrain Loss: 45004.586  Val Loss: 44788.254\n",
      "\n"
     ]
    },
    {
     "name": "stderr",
     "output_type": "stream",
     "text": [
      "train loss: 45206.215: 100%|██████████| 25/25 [00:08<00:00,  2.85it/s]\n",
      "val loss: 43631.945: 100%|██████████| 7/7 [00:01<00:00,  6.49it/s]\n"
     ]
    },
    {
     "name": "stdout",
     "output_type": "stream",
     "text": [
      "Epoch 199\tTrain Loss: 44982.289  Val Loss: 44756.383\n",
      "\n"
     ]
    },
    {
     "name": "stderr",
     "output_type": "stream",
     "text": [
      "train loss: 44614.680: 100%|██████████| 25/25 [00:08<00:00,  2.85it/s]\n",
      "val loss: 43716.043: 100%|██████████| 7/7 [00:01<00:00,  6.51it/s]\n"
     ]
    },
    {
     "name": "stdout",
     "output_type": "stream",
     "text": [
      "Epoch 200\tTrain Loss: 44974.301  Val Loss: 44763.133\n",
      "\n"
     ]
    },
    {
     "name": "stderr",
     "output_type": "stream",
     "text": [
      "train loss: 44830.145: 100%|██████████| 25/25 [00:08<00:00,  2.86it/s]\n",
      "val loss: 43475.754: 100%|██████████| 7/7 [00:01<00:00,  6.51it/s]\n"
     ]
    },
    {
     "name": "stdout",
     "output_type": "stream",
     "text": [
      "Epoch 201\tTrain Loss: 44927.988  Val Loss: 44700.672\n",
      "\n"
     ]
    },
    {
     "name": "stderr",
     "output_type": "stream",
     "text": [
      "train loss: 45456.398: 100%|██████████| 25/25 [00:08<00:00,  2.86it/s]\n",
      "val loss: 44145.922: 100%|██████████| 7/7 [00:01<00:00,  6.51it/s]\n"
     ]
    },
    {
     "name": "stdout",
     "output_type": "stream",
     "text": [
      "Epoch 202\tTrain Loss: 45140.309  Val Loss: 44894.215\n",
      "\n"
     ]
    },
    {
     "name": "stderr",
     "output_type": "stream",
     "text": [
      "train loss: 44994.770: 100%|██████████| 25/25 [00:08<00:00,  2.86it/s]\n",
      "val loss: 43674.180: 100%|██████████| 7/7 [00:01<00:00,  6.52it/s]\n"
     ]
    },
    {
     "name": "stdout",
     "output_type": "stream",
     "text": [
      "Epoch 203\tTrain Loss: 44996.086  Val Loss: 44754.645\n",
      "\n"
     ]
    },
    {
     "name": "stderr",
     "output_type": "stream",
     "text": [
      "train loss: 44719.578: 100%|██████████| 25/25 [00:08<00:00,  2.86it/s]\n",
      "val loss: 43577.324: 100%|██████████| 7/7 [00:01<00:00,  6.51it/s]\n"
     ]
    },
    {
     "name": "stdout",
     "output_type": "stream",
     "text": [
      "Epoch 204\tTrain Loss: 44963.535  Val Loss: 44728.805\n",
      "\n"
     ]
    },
    {
     "name": "stderr",
     "output_type": "stream",
     "text": [
      "train loss: 45240.613: 100%|██████████| 25/25 [00:08<00:00,  2.86it/s]\n",
      "val loss: 43504.102: 100%|██████████| 7/7 [00:01<00:00,  6.52it/s]\n"
     ]
    },
    {
     "name": "stdout",
     "output_type": "stream",
     "text": [
      "Epoch 205\tTrain Loss: 44958.355  Val Loss: 44697.289\n",
      "\n"
     ]
    },
    {
     "name": "stderr",
     "output_type": "stream",
     "text": [
      "train loss: 44861.750: 100%|██████████| 25/25 [00:08<00:00,  2.86it/s]\n",
      "val loss: 43167.375: 100%|██████████| 7/7 [00:01<00:00,  6.52it/s]\n"
     ]
    },
    {
     "name": "stdout",
     "output_type": "stream",
     "text": [
      "Epoch 206\tTrain Loss: 44923.988  Val Loss: 44623.832\n",
      "\n"
     ]
    },
    {
     "name": "stderr",
     "output_type": "stream",
     "text": [
      "train loss: 45087.727: 100%|██████████| 25/25 [00:09<00:00,  2.69it/s]\n",
      "val loss: 43242.293: 100%|██████████| 7/7 [00:01<00:00,  6.02it/s]\n"
     ]
    },
    {
     "name": "stdout",
     "output_type": "stream",
     "text": [
      "Epoch 207\tTrain Loss: 44893.402  Val Loss: 44608.270\n",
      "\n"
     ]
    },
    {
     "name": "stderr",
     "output_type": "stream",
     "text": [
      "train loss: 45148.438: 100%|██████████| 25/25 [00:09<00:00,  2.63it/s]\n",
      "val loss: 43254.438: 100%|██████████| 7/7 [00:01<00:00,  6.01it/s]\n"
     ]
    },
    {
     "name": "stdout",
     "output_type": "stream",
     "text": [
      "Epoch 208\tTrain Loss: 44882.168  Val Loss: 44635.887\n",
      "\n"
     ]
    },
    {
     "name": "stderr",
     "output_type": "stream",
     "text": [
      "train loss: 45029.086: 100%|██████████| 25/25 [00:09<00:00,  2.63it/s]\n",
      "val loss: 42824.609: 100%|██████████| 7/7 [00:01<00:00,  5.99it/s]\n"
     ]
    },
    {
     "name": "stdout",
     "output_type": "stream",
     "text": [
      "Epoch 209\tTrain Loss: 44833.109  Val Loss: 44480.871\n",
      "\n"
     ]
    },
    {
     "name": "stderr",
     "output_type": "stream",
     "text": [
      "train loss: 44879.379: 100%|██████████| 25/25 [00:09<00:00,  2.61it/s]\n",
      "val loss: 43543.285: 100%|██████████| 7/7 [00:01<00:00,  5.97it/s]\n"
     ]
    },
    {
     "name": "stdout",
     "output_type": "stream",
     "text": [
      "Epoch 210\tTrain Loss: 44806.809  Val Loss: 44717.574\n",
      "\n"
     ]
    },
    {
     "name": "stderr",
     "output_type": "stream",
     "text": [
      "train loss: 44898.836: 100%|██████████| 25/25 [00:09<00:00,  2.60it/s]\n",
      "val loss: 43551.250: 100%|██████████| 7/7 [00:01<00:00,  5.98it/s]\n"
     ]
    },
    {
     "name": "stdout",
     "output_type": "stream",
     "text": [
      "Epoch 211\tTrain Loss: 44964.188  Val Loss: 44725.137\n",
      "\n"
     ]
    },
    {
     "name": "stderr",
     "output_type": "stream",
     "text": [
      "train loss: 44785.121: 100%|██████████| 25/25 [00:09<00:00,  2.59it/s]\n",
      "val loss: 43064.125: 100%|██████████| 7/7 [00:01<00:00,  5.91it/s]\n"
     ]
    },
    {
     "name": "stdout",
     "output_type": "stream",
     "text": [
      "Epoch 212\tTrain Loss: 44823.930  Val Loss: 44548.699\n",
      "\n"
     ]
    },
    {
     "name": "stderr",
     "output_type": "stream",
     "text": [
      "train loss: 44868.652: 100%|██████████| 25/25 [00:09<00:00,  2.63it/s]\n",
      "val loss: 43028.910: 100%|██████████| 7/7 [00:01<00:00,  6.04it/s]\n"
     ]
    },
    {
     "name": "stdout",
     "output_type": "stream",
     "text": [
      "Epoch 213\tTrain Loss: 44846.629  Val Loss: 44539.277\n",
      "\n"
     ]
    },
    {
     "name": "stderr",
     "output_type": "stream",
     "text": [
      "train loss: 45014.406: 100%|██████████| 25/25 [00:09<00:00,  2.62it/s]\n",
      "val loss: 42878.805: 100%|██████████| 7/7 [00:01<00:00,  5.80it/s]\n"
     ]
    },
    {
     "name": "stdout",
     "output_type": "stream",
     "text": [
      "Epoch 214\tTrain Loss: 44803.680  Val Loss: 44465.895\n",
      "\n"
     ]
    },
    {
     "name": "stderr",
     "output_type": "stream",
     "text": [
      "train loss: 44603.094: 100%|██████████| 25/25 [00:09<00:00,  2.59it/s]\n",
      "val loss: 43487.949: 100%|██████████| 7/7 [00:01<00:00,  5.87it/s]\n"
     ]
    },
    {
     "name": "stdout",
     "output_type": "stream",
     "text": [
      "Epoch 215\tTrain Loss: 44829.949  Val Loss: 44697.117\n",
      "\n"
     ]
    },
    {
     "name": "stderr",
     "output_type": "stream",
     "text": [
      "train loss: 44803.125: 100%|██████████| 25/25 [00:09<00:00,  2.64it/s]\n",
      "val loss: 42950.531: 100%|██████████| 7/7 [00:01<00:00,  6.05it/s]\n"
     ]
    },
    {
     "name": "stdout",
     "output_type": "stream",
     "text": [
      "Epoch 216\tTrain Loss: 44870.668  Val Loss: 44504.402\n",
      "\n"
     ]
    },
    {
     "name": "stderr",
     "output_type": "stream",
     "text": [
      "train loss: 44538.516: 100%|██████████| 25/25 [00:09<00:00,  2.60it/s]\n",
      "val loss: 42835.719: 100%|██████████| 7/7 [00:01<00:00,  5.93it/s]\n"
     ]
    },
    {
     "name": "stdout",
     "output_type": "stream",
     "text": [
      "Epoch 217\tTrain Loss: 44805.078  Val Loss: 44455.234\n",
      "\n"
     ]
    },
    {
     "name": "stderr",
     "output_type": "stream",
     "text": [
      "train loss: 45012.637: 100%|██████████| 25/25 [00:09<00:00,  2.59it/s]\n",
      "val loss: 43256.938: 100%|██████████| 7/7 [00:01<00:00,  5.92it/s]\n"
     ]
    },
    {
     "name": "stdout",
     "output_type": "stream",
     "text": [
      "Epoch 218\tTrain Loss: 44788.719  Val Loss: 44621.523\n",
      "\n"
     ]
    },
    {
     "name": "stderr",
     "output_type": "stream",
     "text": [
      "train loss: 44542.273: 100%|██████████| 25/25 [00:09<00:00,  2.62it/s]\n",
      "val loss: 43196.688: 100%|██████████| 7/7 [00:01<00:00,  5.90it/s]\n"
     ]
    },
    {
     "name": "stdout",
     "output_type": "stream",
     "text": [
      "Epoch 219\tTrain Loss: 44899.836  Val Loss: 44586.914\n",
      "\n"
     ]
    },
    {
     "name": "stderr",
     "output_type": "stream",
     "text": [
      "train loss: 44687.109: 100%|██████████| 25/25 [00:09<00:00,  2.61it/s]\n",
      "val loss: 42719.891: 100%|██████████| 7/7 [00:01<00:00,  6.02it/s]\n"
     ]
    },
    {
     "name": "stdout",
     "output_type": "stream",
     "text": [
      "Epoch 220\tTrain Loss: 44780.324  Val Loss: 44435.637\n",
      "\n"
     ]
    },
    {
     "name": "stderr",
     "output_type": "stream",
     "text": [
      "train loss: 44755.805: 100%|██████████| 25/25 [00:09<00:00,  2.65it/s]\n",
      "val loss: 43160.301: 100%|██████████| 7/7 [00:01<00:00,  6.05it/s]\n"
     ]
    },
    {
     "name": "stdout",
     "output_type": "stream",
     "text": [
      "Epoch 221\tTrain Loss: 44820.219  Val Loss: 44575.703\n",
      "\n"
     ]
    },
    {
     "name": "stderr",
     "output_type": "stream",
     "text": [
      "train loss: 44881.625: 100%|██████████| 25/25 [00:09<00:00,  2.64it/s]\n",
      "val loss: 43062.184: 100%|██████████| 7/7 [00:01<00:00,  6.08it/s]\n"
     ]
    },
    {
     "name": "stdout",
     "output_type": "stream",
     "text": [
      "Epoch 222\tTrain Loss: 44805.199  Val Loss: 44544.895\n",
      "\n"
     ]
    },
    {
     "name": "stderr",
     "output_type": "stream",
     "text": [
      "train loss: 44748.477: 100%|██████████| 25/25 [00:09<00:00,  2.63it/s]\n",
      "val loss: 43572.734: 100%|██████████| 7/7 [00:01<00:00,  6.04it/s]\n"
     ]
    },
    {
     "name": "stdout",
     "output_type": "stream",
     "text": [
      "Epoch 223\tTrain Loss: 44895.758  Val Loss: 44709.270\n",
      "\n"
     ]
    },
    {
     "name": "stderr",
     "output_type": "stream",
     "text": [
      "train loss: 44633.852: 100%|██████████| 25/25 [00:09<00:00,  2.63it/s]\n",
      "val loss: 43304.742: 100%|██████████| 7/7 [00:01<00:00,  5.99it/s]\n"
     ]
    },
    {
     "name": "stdout",
     "output_type": "stream",
     "text": [
      "Epoch 224\tTrain Loss: 44846.500  Val Loss: 44630.992\n",
      "\n"
     ]
    },
    {
     "name": "stderr",
     "output_type": "stream",
     "text": [
      "train loss: 44583.996: 100%|██████████| 25/25 [00:09<00:00,  2.63it/s]\n",
      "val loss: 42885.266: 100%|██████████| 7/7 [00:01<00:00,  5.95it/s]\n"
     ]
    },
    {
     "name": "stdout",
     "output_type": "stream",
     "text": [
      "Epoch 225\tTrain Loss: 44816.645  Val Loss: 44472.117\n",
      "\n"
     ]
    },
    {
     "name": "stderr",
     "output_type": "stream",
     "text": [
      "train loss: 44474.539: 100%|██████████| 25/25 [00:09<00:00,  2.63it/s]\n",
      "val loss: 42734.777: 100%|██████████| 7/7 [00:01<00:00,  5.98it/s]\n"
     ]
    },
    {
     "name": "stdout",
     "output_type": "stream",
     "text": [
      "Epoch 226\tTrain Loss: 44774.027  Val Loss: 44441.449\n",
      "\n"
     ]
    },
    {
     "name": "stderr",
     "output_type": "stream",
     "text": [
      "train loss: 44596.578: 100%|██████████| 25/25 [00:09<00:00,  2.63it/s]\n",
      "val loss: 43457.852: 100%|██████████| 7/7 [00:01<00:00,  6.04it/s]\n"
     ]
    },
    {
     "name": "stdout",
     "output_type": "stream",
     "text": [
      "Epoch 227\tTrain Loss: 44785.113  Val Loss: 44683.527\n",
      "\n"
     ]
    },
    {
     "name": "stderr",
     "output_type": "stream",
     "text": [
      "train loss: 45365.008: 100%|██████████| 25/25 [00:09<00:00,  2.64it/s]\n",
      "val loss: 43463.715: 100%|██████████| 7/7 [00:01<00:00,  6.07it/s]\n"
     ]
    },
    {
     "name": "stdout",
     "output_type": "stream",
     "text": [
      "Epoch 228\tTrain Loss: 44879.988  Val Loss: 44699.547\n",
      "\n"
     ]
    },
    {
     "name": "stderr",
     "output_type": "stream",
     "text": [
      "train loss: 44689.727: 100%|██████████| 25/25 [00:09<00:00,  2.67it/s]\n",
      "val loss: 42824.773: 100%|██████████| 7/7 [00:01<00:00,  6.41it/s]\n"
     ]
    },
    {
     "name": "stdout",
     "output_type": "stream",
     "text": [
      "Epoch 229\tTrain Loss: 44812.680  Val Loss: 44461.566\n",
      "\n"
     ]
    },
    {
     "name": "stderr",
     "output_type": "stream",
     "text": [
      "train loss: 44692.562: 100%|██████████| 25/25 [00:09<00:00,  2.75it/s]\n",
      "val loss: 43102.094: 100%|██████████| 7/7 [00:01<00:00,  6.19it/s]\n"
     ]
    },
    {
     "name": "stdout",
     "output_type": "stream",
     "text": [
      "Epoch 230\tTrain Loss: 44841.949  Val Loss: 44546.953\n",
      "\n"
     ]
    },
    {
     "name": "stderr",
     "output_type": "stream",
     "text": [
      "train loss: 44804.484: 100%|██████████| 25/25 [00:09<00:00,  2.76it/s]\n",
      "val loss: 42988.578: 100%|██████████| 7/7 [00:01<00:00,  6.50it/s]\n"
     ]
    },
    {
     "name": "stdout",
     "output_type": "stream",
     "text": [
      "Epoch 231\tTrain Loss: 44818.738  Val Loss: 44511.387\n",
      "\n"
     ]
    },
    {
     "name": "stderr",
     "output_type": "stream",
     "text": [
      "train loss: 44718.922: 100%|██████████| 25/25 [00:08<00:00,  2.80it/s]\n",
      "val loss: 43402.289: 100%|██████████| 7/7 [00:01<00:00,  6.36it/s]\n"
     ]
    },
    {
     "name": "stdout",
     "output_type": "stream",
     "text": [
      "Epoch 232\tTrain Loss: 44805.688  Val Loss: 44667.984\n",
      "\n"
     ]
    },
    {
     "name": "stderr",
     "output_type": "stream",
     "text": [
      "train loss: 44885.543: 100%|██████████| 25/25 [00:08<00:00,  2.81it/s]\n",
      "val loss: 42745.523: 100%|██████████| 7/7 [00:01<00:00,  6.33it/s]\n"
     ]
    },
    {
     "name": "stdout",
     "output_type": "stream",
     "text": [
      "Epoch 233\tTrain Loss: 44806.680  Val Loss: 44452.789\n",
      "\n"
     ]
    },
    {
     "name": "stderr",
     "output_type": "stream",
     "text": [
      "train loss: 44875.102: 100%|██████████| 25/25 [00:08<00:00,  2.86it/s]\n",
      "val loss: 43142.168: 100%|██████████| 7/7 [00:01<00:00,  6.47it/s]\n"
     ]
    },
    {
     "name": "stdout",
     "output_type": "stream",
     "text": [
      "Epoch 234\tTrain Loss: 44814.008  Val Loss: 44574.352\n",
      "\n"
     ]
    },
    {
     "name": "stderr",
     "output_type": "stream",
     "text": [
      "train loss: 44833.484: 100%|██████████| 25/25 [00:08<00:00,  2.86it/s]\n",
      "val loss: 43177.316: 100%|██████████| 7/7 [00:01<00:00,  6.52it/s]\n"
     ]
    },
    {
     "name": "stdout",
     "output_type": "stream",
     "text": [
      "Epoch 235\tTrain Loss: 44812.641  Val Loss: 44585.578\n",
      "\n"
     ]
    },
    {
     "name": "stderr",
     "output_type": "stream",
     "text": [
      "train loss: 44937.512: 100%|██████████| 25/25 [00:08<00:00,  2.84it/s]\n",
      "val loss: 43414.438: 100%|██████████| 7/7 [00:01<00:00,  6.32it/s]\n"
     ]
    },
    {
     "name": "stdout",
     "output_type": "stream",
     "text": [
      "Epoch 236\tTrain Loss: 44870.258  Val Loss: 44653.492\n",
      "\n"
     ]
    },
    {
     "name": "stderr",
     "output_type": "stream",
     "text": [
      "train loss: 44610.617: 100%|██████████| 25/25 [00:08<00:00,  2.81it/s]\n",
      "val loss: 42831.195: 100%|██████████| 7/7 [00:01<00:00,  6.27it/s]\n"
     ]
    },
    {
     "name": "stdout",
     "output_type": "stream",
     "text": [
      "Epoch 237\tTrain Loss: 44848.410  Val Loss: 44461.727\n",
      "\n"
     ]
    },
    {
     "name": "stderr",
     "output_type": "stream",
     "text": [
      "train loss: 44979.215: 100%|██████████| 25/25 [00:08<00:00,  2.85it/s]\n",
      "val loss: 42591.844: 100%|██████████| 7/7 [00:01<00:00,  6.42it/s]\n"
     ]
    },
    {
     "name": "stdout",
     "output_type": "stream",
     "text": [
      "Weight saved: epoch 238\n",
      "Epoch 238\tTrain Loss: 44766.355  Val Loss: 44385.707\n",
      "\n"
     ]
    },
    {
     "name": "stderr",
     "output_type": "stream",
     "text": [
      "train loss: 44804.039: 100%|██████████| 25/25 [00:08<00:00,  2.85it/s]\n",
      "val loss: 43197.648: 100%|██████████| 7/7 [00:01<00:00,  6.49it/s]\n"
     ]
    },
    {
     "name": "stdout",
     "output_type": "stream",
     "text": [
      "Epoch 239\tTrain Loss: 44828.086  Val Loss: 44609.883\n",
      "\n"
     ]
    },
    {
     "name": "stderr",
     "output_type": "stream",
     "text": [
      "train loss: 44602.406: 100%|██████████| 25/25 [00:08<00:00,  2.84it/s]\n",
      "val loss: 42836.559: 100%|██████████| 7/7 [00:01<00:00,  6.51it/s]\n"
     ]
    },
    {
     "name": "stdout",
     "output_type": "stream",
     "text": [
      "Epoch 240\tTrain Loss: 44798.242  Val Loss: 44470.176\n",
      "\n"
     ]
    },
    {
     "name": "stderr",
     "output_type": "stream",
     "text": [
      "train loss: 45070.590: 100%|██████████| 25/25 [00:08<00:00,  2.83it/s]\n",
      "val loss: 42703.156: 100%|██████████| 7/7 [00:01<00:00,  6.20it/s]\n"
     ]
    },
    {
     "name": "stdout",
     "output_type": "stream",
     "text": [
      "Epoch 241\tTrain Loss: 44763.750  Val Loss: 44416.184\n",
      "\n"
     ]
    },
    {
     "name": "stderr",
     "output_type": "stream",
     "text": [
      "train loss: 44743.961: 100%|██████████| 25/25 [00:09<00:00,  2.78it/s]\n",
      "val loss: 42710.004: 100%|██████████| 7/7 [00:01<00:00,  6.51it/s]\n"
     ]
    },
    {
     "name": "stdout",
     "output_type": "stream",
     "text": [
      "Epoch 242\tTrain Loss: 44778.438  Val Loss: 44411.805\n",
      "\n"
     ]
    },
    {
     "name": "stderr",
     "output_type": "stream",
     "text": [
      "train loss: 44622.008: 100%|██████████| 25/25 [00:08<00:00,  2.81it/s]\n",
      "val loss: 42528.172: 100%|██████████| 7/7 [00:01<00:00,  6.50it/s]\n"
     ]
    },
    {
     "name": "stdout",
     "output_type": "stream",
     "text": [
      "Weight saved: epoch 243\n",
      "Epoch 243\tTrain Loss: 44780.770  Val Loss: 44369.371\n",
      "\n"
     ]
    },
    {
     "name": "stderr",
     "output_type": "stream",
     "text": [
      "train loss: 45252.859: 100%|██████████| 25/25 [00:08<00:00,  2.84it/s]\n",
      "val loss: 43326.812: 100%|██████████| 7/7 [00:01<00:00,  6.49it/s]\n"
     ]
    },
    {
     "name": "stdout",
     "output_type": "stream",
     "text": [
      "Epoch 244\tTrain Loss: 44857.535  Val Loss: 44630.316\n",
      "\n"
     ]
    },
    {
     "name": "stderr",
     "output_type": "stream",
     "text": [
      "train loss: 45009.906: 100%|██████████| 25/25 [00:09<00:00,  2.74it/s]\n",
      "val loss: 43460.422: 100%|██████████| 7/7 [00:01<00:00,  6.14it/s]\n"
     ]
    },
    {
     "name": "stdout",
     "output_type": "stream",
     "text": [
      "Epoch 245\tTrain Loss: 44795.375  Val Loss: 44689.352\n",
      "\n"
     ]
    },
    {
     "name": "stderr",
     "output_type": "stream",
     "text": [
      "train loss: 45001.359: 100%|██████████| 25/25 [00:09<00:00,  2.61it/s]\n",
      "val loss: 42929.992: 100%|██████████| 7/7 [00:01<00:00,  5.92it/s]\n"
     ]
    },
    {
     "name": "stdout",
     "output_type": "stream",
     "text": [
      "Epoch 246\tTrain Loss: 44868.648  Val Loss: 44512.117\n",
      "\n"
     ]
    },
    {
     "name": "stderr",
     "output_type": "stream",
     "text": [
      "train loss: 44614.887: 100%|██████████| 25/25 [00:09<00:00,  2.63it/s]\n",
      "val loss: 42959.465: 100%|██████████| 7/7 [00:01<00:00,  5.92it/s]\n"
     ]
    },
    {
     "name": "stdout",
     "output_type": "stream",
     "text": [
      "Epoch 247\tTrain Loss: 44765.469  Val Loss: 44506.832\n",
      "\n"
     ]
    },
    {
     "name": "stderr",
     "output_type": "stream",
     "text": [
      "train loss: 44467.926: 100%|██████████| 25/25 [00:09<00:00,  2.65it/s]\n",
      "val loss: 42492.977: 100%|██████████| 7/7 [00:01<00:00,  6.33it/s]\n"
     ]
    },
    {
     "name": "stdout",
     "output_type": "stream",
     "text": [
      "Weight saved: epoch 248\n",
      "Epoch 248\tTrain Loss: 44776.395  Val Loss: 44350.207\n",
      "\n"
     ]
    },
    {
     "name": "stderr",
     "output_type": "stream",
     "text": [
      "train loss: 44435.547: 100%|██████████| 25/25 [00:09<00:00,  2.60it/s]\n",
      "val loss: 43287.375: 100%|██████████| 7/7 [00:01<00:00,  5.90it/s]\n"
     ]
    },
    {
     "name": "stdout",
     "output_type": "stream",
     "text": [
      "Epoch 249\tTrain Loss: 44729.715  Val Loss: 44628.047\n",
      "\n"
     ]
    },
    {
     "name": "stderr",
     "output_type": "stream",
     "text": [
      "train loss: 45238.742: 100%|██████████| 25/25 [00:09<00:00,  2.64it/s]\n",
      "val loss: 43200.680: 100%|██████████| 7/7 [00:01<00:00,  5.89it/s]\n"
     ]
    },
    {
     "name": "stdout",
     "output_type": "stream",
     "text": [
      "Epoch 250\tTrain Loss: 44729.035  Val Loss: 44596.645\n",
      "\n"
     ]
    },
    {
     "name": "stderr",
     "output_type": "stream",
     "text": [
      "train loss: 44630.258: 100%|██████████| 25/25 [00:09<00:00,  2.64it/s]\n",
      "val loss: 42339.477: 100%|██████████| 7/7 [00:01<00:00,  5.94it/s]\n"
     ]
    },
    {
     "name": "stdout",
     "output_type": "stream",
     "text": [
      "Weight saved: epoch 251\n",
      "Epoch 251\tTrain Loss: 44727.086  Val Loss: 44282.992\n",
      "\n"
     ]
    },
    {
     "name": "stderr",
     "output_type": "stream",
     "text": [
      "train loss: 44957.945: 100%|██████████| 25/25 [00:09<00:00,  2.60it/s]\n",
      "val loss: 43272.605: 100%|██████████| 7/7 [00:01<00:00,  6.09it/s]\n"
     ]
    },
    {
     "name": "stdout",
     "output_type": "stream",
     "text": [
      "Epoch 252\tTrain Loss: 44696.168  Val Loss: 44616.457\n",
      "\n"
     ]
    },
    {
     "name": "stderr",
     "output_type": "stream",
     "text": [
      "train loss: 44638.805: 100%|██████████| 25/25 [00:09<00:00,  2.61it/s]\n",
      "val loss: 42287.117: 100%|██████████| 7/7 [00:01<00:00,  5.95it/s]\n"
     ]
    },
    {
     "name": "stdout",
     "output_type": "stream",
     "text": [
      "Weight saved: epoch 253\n",
      "Epoch 253\tTrain Loss: 44723.211  Val Loss: 44265.840\n",
      "\n"
     ]
    },
    {
     "name": "stderr",
     "output_type": "stream",
     "text": [
      "train loss: 45055.062: 100%|██████████| 25/25 [00:09<00:00,  2.73it/s]\n",
      "val loss: 43299.383: 100%|██████████| 7/7 [00:01<00:00,  6.11it/s]\n"
     ]
    },
    {
     "name": "stdout",
     "output_type": "stream",
     "text": [
      "Epoch 254\tTrain Loss: 44714.719  Val Loss: 44633.922\n",
      "\n"
     ]
    },
    {
     "name": "stderr",
     "output_type": "stream",
     "text": [
      "train loss: 44487.266: 100%|██████████| 25/25 [00:09<00:00,  2.76it/s]\n",
      "val loss: 43206.117: 100%|██████████| 7/7 [00:01<00:00,  6.43it/s]\n"
     ]
    },
    {
     "name": "stdout",
     "output_type": "stream",
     "text": [
      "Epoch 255\tTrain Loss: 44729.355  Val Loss: 44590.055\n",
      "\n"
     ]
    },
    {
     "name": "stderr",
     "output_type": "stream",
     "text": [
      "train loss: 44320.141: 100%|██████████| 25/25 [00:08<00:00,  2.80it/s]\n",
      "val loss: 42281.566: 100%|██████████| 7/7 [00:01<00:00,  6.08it/s]\n"
     ]
    },
    {
     "name": "stdout",
     "output_type": "stream",
     "text": [
      "Weight saved: epoch 256\n",
      "Epoch 256\tTrain Loss: 44707.289  Val Loss: 44263.270\n",
      "\n"
     ]
    },
    {
     "name": "stderr",
     "output_type": "stream",
     "text": [
      "train loss: 45243.289: 100%|██████████| 25/25 [00:08<00:00,  2.78it/s]\n",
      "val loss: 42261.672: 100%|██████████| 7/7 [00:01<00:00,  6.26it/s]\n"
     ]
    },
    {
     "name": "stdout",
     "output_type": "stream",
     "text": [
      "Weight saved: epoch 257\n",
      "Epoch 257\tTrain Loss: 44721.090  Val Loss: 44254.277\n",
      "\n"
     ]
    },
    {
     "name": "stderr",
     "output_type": "stream",
     "text": [
      "train loss: 44913.852: 100%|██████████| 25/25 [00:09<00:00,  2.73it/s]\n",
      "val loss: 43371.688: 100%|██████████| 7/7 [00:01<00:00,  6.51it/s]\n"
     ]
    },
    {
     "name": "stdout",
     "output_type": "stream",
     "text": [
      "Epoch 258\tTrain Loss: 44851.605  Val Loss: 44668.047\n",
      "\n"
     ]
    },
    {
     "name": "stderr",
     "output_type": "stream",
     "text": [
      "train loss: 44885.129: 100%|██████████| 25/25 [00:08<00:00,  2.82it/s]\n",
      "val loss: 44531.969: 100%|██████████| 7/7 [00:01<00:00,  6.32it/s]\n"
     ]
    },
    {
     "name": "stdout",
     "output_type": "stream",
     "text": [
      "Epoch 259\tTrain Loss: 44869.699  Val Loss: 45099.184\n",
      "\n"
     ]
    },
    {
     "name": "stderr",
     "output_type": "stream",
     "text": [
      "train loss: 44457.133: 100%|██████████| 25/25 [00:08<00:00,  2.86it/s]\n",
      "val loss: 43213.062: 100%|██████████| 7/7 [00:01<00:00,  6.35it/s]\n"
     ]
    },
    {
     "name": "stdout",
     "output_type": "stream",
     "text": [
      "Epoch 260\tTrain Loss: 44928.086  Val Loss: 44594.277\n",
      "\n"
     ]
    },
    {
     "name": "stderr",
     "output_type": "stream",
     "text": [
      "train loss: 44885.328: 100%|██████████| 25/25 [00:08<00:00,  2.80it/s]\n",
      "val loss: 43410.914: 100%|██████████| 7/7 [00:01<00:00,  6.52it/s]\n"
     ]
    },
    {
     "name": "stdout",
     "output_type": "stream",
     "text": [
      "Epoch 261\tTrain Loss: 44815.840  Val Loss: 44684.707\n",
      "\n"
     ]
    },
    {
     "name": "stderr",
     "output_type": "stream",
     "text": [
      "train loss: 45207.629: 100%|██████████| 25/25 [00:08<00:00,  2.83it/s]\n",
      "val loss: 43534.375: 100%|██████████| 7/7 [00:01<00:00,  6.51it/s]\n"
     ]
    },
    {
     "name": "stdout",
     "output_type": "stream",
     "text": [
      "Epoch 262\tTrain Loss: 44928.680  Val Loss: 44724.547\n",
      "\n"
     ]
    },
    {
     "name": "stderr",
     "output_type": "stream",
     "text": [
      "train loss: 44492.875: 100%|██████████| 25/25 [00:08<00:00,  2.82it/s]\n",
      "val loss: 43100.836: 100%|██████████| 7/7 [00:01<00:00,  6.51it/s]\n"
     ]
    },
    {
     "name": "stdout",
     "output_type": "stream",
     "text": [
      "Epoch 263\tTrain Loss: 44922.559  Val Loss: 44572.215\n",
      "\n"
     ]
    },
    {
     "name": "stderr",
     "output_type": "stream",
     "text": [
      "train loss: 44753.910: 100%|██████████| 25/25 [00:09<00:00,  2.75it/s]\n",
      "val loss: 42794.539: 100%|██████████| 7/7 [00:01<00:00,  6.24it/s]\n"
     ]
    },
    {
     "name": "stdout",
     "output_type": "stream",
     "text": [
      "Epoch 264\tTrain Loss: 44848.289  Val Loss: 44457.664\n",
      "\n"
     ]
    },
    {
     "name": "stderr",
     "output_type": "stream",
     "text": [
      "train loss: 44718.102: 100%|██████████| 25/25 [00:09<00:00,  2.70it/s]\n",
      "val loss: 42765.027: 100%|██████████| 7/7 [00:01<00:00,  5.92it/s]\n"
     ]
    },
    {
     "name": "stdout",
     "output_type": "stream",
     "text": [
      "Epoch 265\tTrain Loss: 44835.789  Val Loss: 44450.414\n",
      "\n"
     ]
    },
    {
     "name": "stderr",
     "output_type": "stream",
     "text": [
      "train loss: 44671.621: 100%|██████████| 25/25 [00:09<00:00,  2.65it/s]\n",
      "val loss: 43885.039: 100%|██████████| 7/7 [00:01<00:00,  6.50it/s]\n"
     ]
    },
    {
     "name": "stdout",
     "output_type": "stream",
     "text": [
      "Epoch 266\tTrain Loss: 44788.586  Val Loss: 44827.352\n",
      "\n"
     ]
    },
    {
     "name": "stderr",
     "output_type": "stream",
     "text": [
      "train loss: 44522.098: 100%|██████████| 25/25 [00:08<00:00,  2.82it/s]\n",
      "val loss: 42931.398: 100%|██████████| 7/7 [00:01<00:00,  6.37it/s]\n"
     ]
    },
    {
     "name": "stdout",
     "output_type": "stream",
     "text": [
      "Epoch 267\tTrain Loss: 44944.738  Val Loss: 44522.293\n",
      "\n"
     ]
    },
    {
     "name": "stderr",
     "output_type": "stream",
     "text": [
      "train loss: 44805.797: 100%|██████████| 25/25 [00:08<00:00,  2.80it/s]\n",
      "val loss: 43109.242: 100%|██████████| 7/7 [00:01<00:00,  6.36it/s]\n"
     ]
    },
    {
     "name": "stdout",
     "output_type": "stream",
     "text": [
      "Epoch 268\tTrain Loss: 44856.965  Val Loss: 44572.227\n",
      "\n"
     ]
    },
    {
     "name": "stderr",
     "output_type": "stream",
     "text": [
      "train loss: 44848.938: 100%|██████████| 25/25 [00:08<00:00,  2.79it/s]\n",
      "val loss: 42831.680: 100%|██████████| 7/7 [00:01<00:00,  6.16it/s]\n"
     ]
    },
    {
     "name": "stdout",
     "output_type": "stream",
     "text": [
      "Epoch 269\tTrain Loss: 44879.609  Val Loss: 44475.199\n",
      "\n"
     ]
    },
    {
     "name": "stderr",
     "output_type": "stream",
     "text": [
      "train loss: 44611.008: 100%|██████████| 25/25 [00:08<00:00,  2.80it/s]\n",
      "val loss: 43108.738: 100%|██████████| 7/7 [00:01<00:00,  6.41it/s]\n"
     ]
    },
    {
     "name": "stdout",
     "output_type": "stream",
     "text": [
      "Epoch 270\tTrain Loss: 44880.234  Val Loss: 44567.547\n",
      "\n"
     ]
    },
    {
     "name": "stderr",
     "output_type": "stream",
     "text": [
      "train loss: 44670.570: 100%|██████████| 25/25 [00:08<00:00,  2.86it/s]\n",
      "val loss: 43274.789: 100%|██████████| 7/7 [00:01<00:00,  6.53it/s]\n"
     ]
    },
    {
     "name": "stdout",
     "output_type": "stream",
     "text": [
      "Epoch 271\tTrain Loss: 44806.598  Val Loss: 44616.645\n",
      "\n"
     ]
    },
    {
     "name": "stderr",
     "output_type": "stream",
     "text": [
      "train loss: 44989.574: 100%|██████████| 25/25 [00:08<00:00,  2.85it/s]\n",
      "val loss: 43391.312: 100%|██████████| 7/7 [00:01<00:00,  6.52it/s]\n"
     ]
    },
    {
     "name": "stdout",
     "output_type": "stream",
     "text": [
      "Epoch 272\tTrain Loss: 44874.309  Val Loss: 44664.832\n",
      "\n"
     ]
    },
    {
     "name": "stderr",
     "output_type": "stream",
     "text": [
      "train loss: 44942.938: 100%|██████████| 25/25 [00:08<00:00,  2.85it/s]\n",
      "val loss: 42813.477: 100%|██████████| 7/7 [00:01<00:00,  6.49it/s]\n"
     ]
    },
    {
     "name": "stdout",
     "output_type": "stream",
     "text": [
      "Epoch 273\tTrain Loss: 44772.527  Val Loss: 44454.367\n",
      "\n"
     ]
    },
    {
     "name": "stderr",
     "output_type": "stream",
     "text": [
      "train loss: 44704.848: 100%|██████████| 25/25 [00:08<00:00,  2.84it/s]\n",
      "val loss: 42901.211: 100%|██████████| 7/7 [00:01<00:00,  6.50it/s]\n"
     ]
    },
    {
     "name": "stdout",
     "output_type": "stream",
     "text": [
      "Epoch 274\tTrain Loss: 44783.617  Val Loss: 44487.582\n",
      "\n"
     ]
    },
    {
     "name": "stderr",
     "output_type": "stream",
     "text": [
      "train loss: 44925.395: 100%|██████████| 25/25 [00:08<00:00,  2.84it/s]\n",
      "val loss: 42552.625: 100%|██████████| 7/7 [00:01<00:00,  6.50it/s]\n"
     ]
    },
    {
     "name": "stdout",
     "output_type": "stream",
     "text": [
      "Epoch 275\tTrain Loss: 44737.141  Val Loss: 44375.797\n",
      "\n"
     ]
    },
    {
     "name": "stderr",
     "output_type": "stream",
     "text": [
      "train loss: 45305.242: 100%|██████████| 25/25 [00:08<00:00,  2.83it/s]\n",
      "val loss: 43540.684: 100%|██████████| 7/7 [00:01<00:00,  6.06it/s]\n"
     ]
    },
    {
     "name": "stdout",
     "output_type": "stream",
     "text": [
      "Epoch 276\tTrain Loss: 44771.488  Val Loss: 44727.180\n",
      "\n"
     ]
    },
    {
     "name": "stderr",
     "output_type": "stream",
     "text": [
      "train loss: 44751.281: 100%|██████████| 25/25 [00:09<00:00,  2.77it/s]\n",
      "val loss: 43117.969: 100%|██████████| 7/7 [00:01<00:00,  6.28it/s]\n"
     ]
    },
    {
     "name": "stdout",
     "output_type": "stream",
     "text": [
      "Epoch 277\tTrain Loss: 44913.336  Val Loss: 44546.828\n",
      "\n"
     ]
    },
    {
     "name": "stderr",
     "output_type": "stream",
     "text": [
      "train loss: 44940.062: 100%|██████████| 25/25 [00:09<00:00,  2.72it/s]\n",
      "val loss: 42705.223: 100%|██████████| 7/7 [00:01<00:00,  6.05it/s]\n"
     ]
    },
    {
     "name": "stdout",
     "output_type": "stream",
     "text": [
      "Epoch 278\tTrain Loss: 44836.090  Val Loss: 44414.023\n",
      "\n"
     ]
    },
    {
     "name": "stderr",
     "output_type": "stream",
     "text": [
      "train loss: 44579.930: 100%|██████████| 25/25 [00:09<00:00,  2.65it/s]\n",
      "val loss: 42964.484: 100%|██████████| 7/7 [00:01<00:00,  6.01it/s]\n"
     ]
    },
    {
     "name": "stdout",
     "output_type": "stream",
     "text": [
      "Epoch 279\tTrain Loss: 44845.160  Val Loss: 44519.102\n",
      "\n"
     ]
    },
    {
     "name": "stderr",
     "output_type": "stream",
     "text": [
      "train loss: 44753.168: 100%|██████████| 25/25 [00:09<00:00,  2.63it/s]\n",
      "val loss: 43018.250: 100%|██████████| 7/7 [00:01<00:00,  6.13it/s]\n"
     ]
    },
    {
     "name": "stdout",
     "output_type": "stream",
     "text": [
      "Epoch 280\tTrain Loss: 44770.902  Val Loss: 44542.133\n",
      "\n"
     ]
    },
    {
     "name": "stderr",
     "output_type": "stream",
     "text": [
      "train loss: 44359.996: 100%|██████████| 25/25 [00:08<00:00,  2.83it/s]\n",
      "val loss: 42610.129: 100%|██████████| 7/7 [00:01<00:00,  6.53it/s]\n"
     ]
    },
    {
     "name": "stdout",
     "output_type": "stream",
     "text": [
      "Epoch 281\tTrain Loss: 44796.539  Val Loss: 44383.641\n",
      "\n"
     ]
    },
    {
     "name": "stderr",
     "output_type": "stream",
     "text": [
      "train loss: 44739.086: 100%|██████████| 25/25 [00:08<00:00,  2.79it/s]\n",
      "val loss: 42446.277: 100%|██████████| 7/7 [00:01<00:00,  6.39it/s]\n"
     ]
    },
    {
     "name": "stdout",
     "output_type": "stream",
     "text": [
      "Epoch 282\tTrain Loss: 44735.699  Val Loss: 44326.848\n",
      "\n"
     ]
    },
    {
     "name": "stderr",
     "output_type": "stream",
     "text": [
      "train loss: 44634.301: 100%|██████████| 25/25 [00:08<00:00,  2.79it/s]\n",
      "val loss: 42364.312: 100%|██████████| 7/7 [00:01<00:00,  6.38it/s]\n"
     ]
    },
    {
     "name": "stdout",
     "output_type": "stream",
     "text": [
      "Epoch 283\tTrain Loss: 44670.051  Val Loss: 44288.074\n",
      "\n"
     ]
    },
    {
     "name": "stderr",
     "output_type": "stream",
     "text": [
      "train loss: 44656.852: 100%|██████████| 25/25 [00:09<00:00,  2.76it/s]\n",
      "val loss: 42304.977: 100%|██████████| 7/7 [00:01<00:00,  6.29it/s]\n"
     ]
    },
    {
     "name": "stdout",
     "output_type": "stream",
     "text": [
      "Epoch 284\tTrain Loss: 44689.113  Val Loss: 44268.609\n",
      "\n"
     ]
    },
    {
     "name": "stderr",
     "output_type": "stream",
     "text": [
      "train loss: 44919.461: 100%|██████████| 25/25 [00:08<00:00,  2.78it/s]\n",
      "val loss: 43489.121: 100%|██████████| 7/7 [00:01<00:00,  6.38it/s]\n"
     ]
    },
    {
     "name": "stdout",
     "output_type": "stream",
     "text": [
      "Epoch 285\tTrain Loss: 44878.754  Val Loss: 44705.867\n",
      "\n"
     ]
    },
    {
     "name": "stderr",
     "output_type": "stream",
     "text": [
      "train loss: 44793.215: 100%|██████████| 25/25 [00:08<00:00,  2.78it/s]\n",
      "val loss: 42904.754: 100%|██████████| 7/7 [00:01<00:00,  6.39it/s]\n"
     ]
    },
    {
     "name": "stdout",
     "output_type": "stream",
     "text": [
      "Epoch 286\tTrain Loss: 44885.285  Val Loss: 44521.070\n",
      "\n"
     ]
    },
    {
     "name": "stderr",
     "output_type": "stream",
     "text": [
      "train loss: 45053.625: 100%|██████████| 25/25 [00:08<00:00,  2.81it/s]\n",
      "val loss: 42613.664: 100%|██████████| 7/7 [00:01<00:00,  6.51it/s]\n"
     ]
    },
    {
     "name": "stdout",
     "output_type": "stream",
     "text": [
      "Epoch 287\tTrain Loss: 44876.988  Val Loss: 44379.871\n",
      "\n"
     ]
    },
    {
     "name": "stderr",
     "output_type": "stream",
     "text": [
      "train loss: 44406.465: 100%|██████████| 25/25 [00:08<00:00,  2.80it/s]\n",
      "val loss: 43018.703: 100%|██████████| 7/7 [00:01<00:00,  6.38it/s]\n"
     ]
    },
    {
     "name": "stdout",
     "output_type": "stream",
     "text": [
      "Epoch 288\tTrain Loss: 44911.910  Val Loss: 44524.832\n",
      "\n"
     ]
    },
    {
     "name": "stderr",
     "output_type": "stream",
     "text": [
      "train loss: 44804.012: 100%|██████████| 25/25 [00:09<00:00,  2.73it/s]\n",
      "val loss: 42982.754: 100%|██████████| 7/7 [00:01<00:00,  6.20it/s]\n"
     ]
    },
    {
     "name": "stdout",
     "output_type": "stream",
     "text": [
      "Epoch 289\tTrain Loss: 44821.750  Val Loss: 44504.941\n",
      "\n"
     ]
    },
    {
     "name": "stderr",
     "output_type": "stream",
     "text": [
      "train loss: 44414.039: 100%|██████████| 25/25 [00:09<00:00,  2.78it/s]\n",
      "val loss: 43104.973: 100%|██████████| 7/7 [00:01<00:00,  6.47it/s]\n"
     ]
    },
    {
     "name": "stdout",
     "output_type": "stream",
     "text": [
      "Epoch 290\tTrain Loss: 44795.520  Val Loss: 44557.227\n",
      "\n"
     ]
    },
    {
     "name": "stderr",
     "output_type": "stream",
     "text": [
      "train loss: 44472.211: 100%|██████████| 25/25 [00:08<00:00,  2.80it/s]\n",
      "val loss: 42784.336: 100%|██████████| 7/7 [00:01<00:00,  6.44it/s]\n"
     ]
    },
    {
     "name": "stdout",
     "output_type": "stream",
     "text": [
      "Epoch 291\tTrain Loss: 44769.766  Val Loss: 44444.965\n",
      "\n"
     ]
    },
    {
     "name": "stderr",
     "output_type": "stream",
     "text": [
      "train loss: 44810.344: 100%|██████████| 25/25 [00:08<00:00,  2.78it/s]\n",
      "val loss: 42523.418: 100%|██████████| 7/7 [00:01<00:00,  6.20it/s]\n"
     ]
    },
    {
     "name": "stdout",
     "output_type": "stream",
     "text": [
      "Epoch 292\tTrain Loss: 44781.570  Val Loss: 44345.098\n",
      "\n"
     ]
    },
    {
     "name": "stderr",
     "output_type": "stream",
     "text": [
      "train loss: 44391.891: 100%|██████████| 25/25 [00:09<00:00,  2.72it/s]\n",
      "val loss: 43187.836: 100%|██████████| 7/7 [00:01<00:00,  6.14it/s]\n"
     ]
    },
    {
     "name": "stdout",
     "output_type": "stream",
     "text": [
      "Epoch 293\tTrain Loss: 44767.301  Val Loss: 44590.582\n",
      "\n"
     ]
    },
    {
     "name": "stderr",
     "output_type": "stream",
     "text": [
      "train loss: 44668.930: 100%|██████████| 25/25 [00:08<00:00,  2.78it/s]\n",
      "val loss: 43116.320: 100%|██████████| 7/7 [00:01<00:00,  6.32it/s]\n"
     ]
    },
    {
     "name": "stdout",
     "output_type": "stream",
     "text": [
      "Epoch 294\tTrain Loss: 44854.230  Val Loss: 44570.242\n",
      "\n"
     ]
    },
    {
     "name": "stderr",
     "output_type": "stream",
     "text": [
      "train loss: 45032.418: 100%|██████████| 25/25 [00:09<00:00,  2.77it/s]\n",
      "val loss: 43245.391: 100%|██████████| 7/7 [00:01<00:00,  6.46it/s]\n"
     ]
    },
    {
     "name": "stdout",
     "output_type": "stream",
     "text": [
      "Epoch 295\tTrain Loss: 44874.250  Val Loss: 44618.527\n",
      "\n"
     ]
    },
    {
     "name": "stderr",
     "output_type": "stream",
     "text": [
      "train loss: 44705.273: 100%|██████████| 25/25 [00:09<00:00,  2.73it/s]\n",
      "val loss: 43138.074: 100%|██████████| 7/7 [00:01<00:00,  6.45it/s]\n"
     ]
    },
    {
     "name": "stdout",
     "output_type": "stream",
     "text": [
      "Epoch 296\tTrain Loss: 44884.617  Val Loss: 44577.766\n",
      "\n"
     ]
    },
    {
     "name": "stderr",
     "output_type": "stream",
     "text": [
      "train loss: 44775.141: 100%|██████████| 25/25 [00:09<00:00,  2.74it/s]\n",
      "val loss: 42740.012: 100%|██████████| 7/7 [00:01<00:00,  6.44it/s]\n"
     ]
    },
    {
     "name": "stdout",
     "output_type": "stream",
     "text": [
      "Epoch 297\tTrain Loss: 44806.801  Val Loss: 44432.332\n",
      "\n"
     ]
    },
    {
     "name": "stderr",
     "output_type": "stream",
     "text": [
      "train loss: 44840.781: 100%|██████████| 25/25 [00:08<00:00,  2.82it/s]\n",
      "val loss: 43674.934: 100%|██████████| 7/7 [00:01<00:00,  6.23it/s]\n"
     ]
    },
    {
     "name": "stdout",
     "output_type": "stream",
     "text": [
      "Epoch 298\tTrain Loss: 44779.508  Val Loss: 44804.254\n",
      "\n"
     ]
    },
    {
     "name": "stderr",
     "output_type": "stream",
     "text": [
      "train loss: 45115.598: 100%|██████████| 25/25 [00:09<00:00,  2.73it/s]\n",
      "val loss: 43618.391: 100%|██████████| 7/7 [00:01<00:00,  6.08it/s]"
     ]
    },
    {
     "name": "stdout",
     "output_type": "stream",
     "text": [
      "Epoch 299\tTrain Loss: 44978.648  Val Loss: 44744.930\n",
      "\n"
     ]
    },
    {
     "name": "stderr",
     "output_type": "stream",
     "text": [
      "\n"
     ]
    }
   ],
   "source": [
    "train_utils.train_loop(\n",
    "    train_loader=train_loader,\n",
    "    val_loader=val_loader,\n",
    "    model=model,\n",
    "    criterion=criterion,\n",
    "    device=device,\n",
    "    optimizer=optimizer,\n",
    "    epochs=configs['epochs'],\n",
    "    save_path=configs['save_path']\n",
    ")"
   ]
  },
  {
   "cell_type": "code",
   "execution_count": null,
   "metadata": {},
   "outputs": [],
   "source": []
  }
 ],
 "metadata": {
  "kernelspec": {
   "display_name": "Python 3 (ipykernel)",
   "language": "python",
   "name": "python3"
  },
  "language_info": {
   "codemirror_mode": {
    "name": "ipython",
    "version": 3
   },
   "file_extension": ".py",
   "mimetype": "text/x-python",
   "name": "python",
   "nbconvert_exporter": "python",
   "pygments_lexer": "ipython3",
   "version": "3.10.13"
  },
  "orig_nbformat": 4
 },
 "nbformat": 4,
 "nbformat_minor": 2
}
