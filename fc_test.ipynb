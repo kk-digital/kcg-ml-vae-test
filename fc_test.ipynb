{
 "cells": [
  {
   "cell_type": "code",
   "execution_count": 1,
   "metadata": {},
   "outputs": [],
   "source": [
    "import torch\n",
    "import glob\n",
    "import tqdm\n",
    "\n",
    "import numpy as np\n",
    "import torch.nn as nn\n",
    "import torch.nn.functional as F\n",
    "\n",
    "from utilities import utils, train_utils\n",
    "from sklearn.model_selection import train_test_split\n",
    "from sklearn.preprocessing import normalize\n",
    "from torch.utils.data import DataLoader, TensorDataset\n",
    "from pythae.models import AE, AEConfig\n",
    "from pythae.trainers import BaseTrainerConfig\n",
    "from pythae.pipelines.training import TrainingPipeline\n",
    "from pythae.models.nn import BaseEncoder, BaseDecoder\n",
    "from pythae.models.base.base_utils import ModelOutput"
   ]
  },
  {
   "cell_type": "code",
   "execution_count": 2,
   "metadata": {},
   "outputs": [
    {
     "name": "stderr",
     "output_type": "stream",
     "text": [
      "  0%|          | 0/1000 [00:00<?, ?it/s]"
     ]
    },
    {
     "name": "stderr",
     "output_type": "stream",
     "text": [
      "100%|██████████| 1000/1000 [00:05<00:00, 198.71it/s]\n"
     ]
    }
   ],
   "source": [
    "paths = sorted(glob.glob('./data/environmental_embeddings_0001/0001/*.msgpack'))\n",
    "device = train_utils.get_device()\n",
    "\n",
    "X = []\n",
    "for path in tqdm.tqdm(paths):\n",
    "    pos_emb, neg_emb = utils.read_embedding_data(path)\n",
    "    X.append(pos_emb)\n",
    "X = np.concatenate(X, axis=0)\n",
    "\n",
    "# reshape to 2D to apply L2 normalization\n",
    "X = X.reshape(-1, 768)\n",
    "X, l2_norm = normalize(X, norm='l2', axis=1, return_norm=True)\n",
    "\n",
    "# reshape it back\n",
    "X = X.reshape(-1, 77, 768)\n",
    "\n",
    "Xtr, Xvl = train_test_split(X, test_size=0.2, random_state=42)\n",
    "\n",
    "train_data = torch.tensor(Xtr, dtype=torch.float32)\n",
    "val_data = torch.tensor(Xvl, dtype=torch.float32)\n",
    "\n",
    "train_dataset = TensorDataset(train_data)\n",
    "val_dataset = TensorDataset(val_data)"
   ]
  },
  {
   "cell_type": "code",
   "execution_count": 3,
   "metadata": {},
   "outputs": [],
   "source": [
    "class Encoder(nn.Module):\n",
    "    def __init__(self, input_dim, latent_dim):\n",
    "        super(Encoder, self).__init__()\n",
    "        self.input_dim = input_dim\n",
    "        self.latent_dim = latent_dim\n",
    "        \n",
    "        # define encoder layers: 3 layers fc of 1024, last fc no activation\n",
    "        self.encoder_layers = nn.Sequential(\n",
    "            nn.Linear(self.input_dim, 1024),\n",
    "            nn.ReLU(),\n",
    "            nn.Linear(1024, 1024),\n",
    "            nn.ReLU(),\n",
    "            nn.Linear(1024, 1024),\n",
    "            nn.ReLU(),\n",
    "            nn.Linear(1024, self.latent_dim),\n",
    "        )\n",
    "\n",
    "    def forward(self, x):\n",
    "        assert x.shape == (x.shape[0], 77, 768)\n",
    "\n",
    "        # reshape for fc\n",
    "        x = x.view(-1, 768)\n",
    "        x = self.encoder_layers(x)\n",
    "\n",
    "        # reshape back to batch_size * 77 * 768\n",
    "        x = x.view(-1, 77, self.latent_dim)\n",
    "\n",
    "        return x\n",
    "    \n",
    "class Decoder(nn.Module):\n",
    "    def __init__(self, input_dim, latent_dim):\n",
    "        super(Decoder, self).__init__()\n",
    "        self.input_dim = input_dim\n",
    "        self.latent_dim = latent_dim\n",
    "\n",
    "        # define decoder layers: 3 layers of fc 1024, last layer activated with tanh\n",
    "        self.decoder_layers = nn.Sequential(\n",
    "            nn.Linear(self.latent_dim, 1024),\n",
    "            nn.ReLU(),\n",
    "            nn.Linear(1024, 1024),\n",
    "            nn.ReLU(),\n",
    "            nn.Linear(1024, 1024),\n",
    "            nn.ReLU(),\n",
    "            nn.Linear(1024, self.input_dim),\n",
    "            nn.Tanh()\n",
    "        )\n",
    "\n",
    "    def forward(self, z):\n",
    "        assert z.shape == (z.shape[0], 77, self.latent_dim)\n",
    "\n",
    "        # reshape to batch_size * latent_size for fc\n",
    "        z = z.view(-1, self.latent_dim)\n",
    "        x = self.decoder_layers(z)\n",
    "\n",
    "        # reshape back to batch_size * 77 * 768\n",
    "        x = x.view(-1, 77, 768)\n",
    "\n",
    "        return x\n",
    "    \n",
    "class AutoEncoder(nn.Module):\n",
    "    def __init__(self, input_dim, latent_dim):\n",
    "        super(AutoEncoder, self).__init__()\n",
    "\n",
    "        self.encoder = Encoder(input_dim, latent_dim)\n",
    "        self.decoder = Decoder(input_dim, latent_dim)\n",
    "\n",
    "    def forward(self, x):\n",
    "        self.z = self.encoder(x)\n",
    "        recon = self.decoder(self.z)\n",
    "\n",
    "        return recon"
   ]
  },
  {
   "cell_type": "code",
   "execution_count": 4,
   "metadata": {},
   "outputs": [],
   "source": [
    "model = AutoEncoder(input_dim=768, latent_dim=128)\n",
    "optimizer = torch.optim.AdamW(model.parameters(), lr=1e-4)\n",
    "# scheduler = torch.optim.lr_scheduler.ReduceLROnPlateau(optimizer, patience=10, threshold=0.01)\n",
    "model = model.to(device)"
   ]
  },
  {
   "cell_type": "code",
   "execution_count": 8,
   "metadata": {},
   "outputs": [],
   "source": [
    "save_path = 'experiments/fc_exp4/'\n",
    "epoch = 300\n",
    "batch_size = 128\n",
    "sparsity_penalty_weight = 0"
   ]
  },
  {
   "cell_type": "code",
   "execution_count": 9,
   "metadata": {},
   "outputs": [],
   "source": [
    "# loss function\n",
    "class MSELossFC(nn.Module):\n",
    "    def __init__(self, sparsity_penalty_weight=0.0):\n",
    "        super(MSELossFC, self).__init__()\n",
    "        self.sparsity_penalty_weight = sparsity_penalty_weight\n",
    "\n",
    "    def forward(self, y, y_hat, z):\n",
    "        assert y.shape == (y.shape[0], 77, 768)\n",
    "        assert y_hat.shape == (y.shape[0], 77, 768)\n",
    "\n",
    "        reconstruction_loss = nn.MSELoss(reduction='sum')(y, y_hat)\n",
    "        \n",
    "        l1_penalty = torch.abs(z).mean()\n",
    "        sparsity_loss = l1_penalty * self.sparsity_penalty_weight\n",
    "\n",
    "        total_loss = reconstruction_loss + sparsity_loss\n",
    "\n",
    "        return total_loss\n",
    "\n",
    "criterion = MSELossFC(sparsity_penalty_weight)"
   ]
  },
  {
   "cell_type": "code",
   "execution_count": null,
   "metadata": {},
   "outputs": [],
   "source": [
    "train_loader = DataLoader(train_dataset, batch_size=batch_size, shuffle=True)\n",
    "val_loader = DataLoader(val_dataset, batch_size=batch_size, shuffle=False)\n",
    "\n",
    "train_utils.train_loop(\n",
    "    train_loader=train_loader,\n",
    "    val_loader=val_loader,\n",
    "    model=model,\n",
    "    criterion=criterion,\n",
    "    device=device,\n",
    "    optimizer=optimizer,\n",
    "    epochs=epoch,\n",
    "    save_path=save_path,\n",
    "    scheduler=None\n",
    ")"
   ]
  },
  {
   "cell_type": "code",
   "execution_count": 15,
   "metadata": {},
   "outputs": [
    {
     "data": {
      "text/plain": [
       "tensor(14.0679, device='cuda:0')"
      ]
     },
     "execution_count": 15,
     "metadata": {},
     "output_type": "execute_result"
    }
   ],
   "source": [
    "model.eval()\n",
    "with torch.no_grad():\n",
    "    recon = model(val_data.to(device))\n",
    "\n",
    "criterion(val_data.to(device), recon, model.z) / 200"
   ]
  },
  {
   "cell_type": "code",
   "execution_count": null,
   "metadata": {},
   "outputs": [],
   "source": []
  }
 ],
 "metadata": {
  "kernelspec": {
   "display_name": "shanghai",
   "language": "python",
   "name": "python3"
  },
  "language_info": {
   "codemirror_mode": {
    "name": "ipython",
    "version": 3
   },
   "file_extension": ".py",
   "mimetype": "text/x-python",
   "name": "python",
   "nbconvert_exporter": "python",
   "pygments_lexer": "ipython3",
   "version": "3.10.13"
  }
 },
 "nbformat": 4,
 "nbformat_minor": 2
}
