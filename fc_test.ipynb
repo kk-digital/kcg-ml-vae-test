{
 "cells": [
  {
   "cell_type": "code",
   "execution_count": 1,
   "metadata": {},
   "outputs": [],
   "source": [
    "import torch\n",
    "import glob\n",
    "import tqdm\n",
    "\n",
    "import matplotlib.pyplot as plt\n",
    "import numpy as np\n",
    "import torch.nn as nn\n",
    "import torch.nn.functional as F\n",
    "\n",
    "from utilities import utils, train_utils\n",
    "from sklearn.model_selection import train_test_split\n",
    "from sklearn.preprocessing import normalize\n",
    "from torch.utils.data import DataLoader, TensorDataset, Dataset\n",
    "from pythae.models import AE, AEConfig\n",
    "from pythae.trainers import BaseTrainerConfig\n",
    "from pythae.pipelines.training import TrainingPipeline\n",
    "from pythae.models.nn import BaseEncoder, BaseDecoder\n",
    "from pythae.models.base.base_utils import ModelOutput"
   ]
  },
  {
   "cell_type": "code",
   "execution_count": 2,
   "metadata": {},
   "outputs": [],
   "source": [
    "# for testing: copy a (1, 768) vector 77 times to create (77, 768)\n",
    "class CustomDataset(Dataset):\n",
    "    def __init__(self, data):\n",
    "        self.data = data\n",
    "\n",
    "    def __len__(self):\n",
    "        return len(self.data)\n",
    "    \n",
    "    def __getitem__(self, idx):\n",
    "        sample = self.data[idx][0].repeat(77, 1)\n",
    "        sample = sample.unsqueeze(0)\n",
    "\n",
    "        return sample"
   ]
  },
  {
   "cell_type": "code",
   "execution_count": 3,
   "metadata": {},
   "outputs": [
    {
     "name": "stderr",
     "output_type": "stream",
     "text": [
      "  2%|▏         | 19/1000 [00:00<00:05, 181.47it/s]"
     ]
    },
    {
     "name": "stderr",
     "output_type": "stream",
     "text": [
      "100%|██████████| 1000/1000 [00:05<00:00, 197.57it/s]\n"
     ]
    }
   ],
   "source": [
    "paths = sorted(glob.glob('./data/environmental_embeddings_0001/0001/*.msgpack'))\n",
    "device = train_utils.get_device()\n",
    "\n",
    "X = []\n",
    "for path in tqdm.tqdm(paths):\n",
    "    pos_emb, neg_emb = utils.read_embedding_data(path)\n",
    "    X.append(pos_emb)\n",
    "X = np.concatenate(X, axis=0)\n",
    "\n",
    "# reshape to 2D to apply L2 normalization\n",
    "X = X.reshape(-1, 768)\n",
    "X, l2_norm = normalize(X, norm='l2', axis=1, return_norm=True)\n",
    "\n",
    "# reshape it back\n",
    "X = X.reshape(-1, 77, 768)\n",
    "\n",
    "Xtr, Xvl = train_test_split(X, test_size=0.2, random_state=42)\n",
    "\n",
    "train_data = torch.tensor(Xtr, dtype=torch.float32)\n",
    "val_data = torch.tensor(Xvl, dtype=torch.float32)\n",
    "\n",
    "train_dataset = TensorDataset(train_data)\n",
    "val_dataset = TensorDataset(val_data)\n",
    "# train_dataset = CustomDataset(train_data)\n",
    "# val_dataset = CustomDataset(val_data)"
   ]
  },
  {
   "cell_type": "code",
   "execution_count": 4,
   "metadata": {},
   "outputs": [],
   "source": [
    "class Encoder(nn.Module):\n",
    "    def __init__(self, input_dim, latent_dim):\n",
    "        super(Encoder, self).__init__()\n",
    "        self.input_dim = input_dim\n",
    "        self.latent_dim = latent_dim\n",
    "        \n",
    "        # define encoder layers: 3 layers fc of 1024, last fc no activation\n",
    "        self.encoder_layers = nn.Sequential(\n",
    "            nn.Linear(self.input_dim, 1024),\n",
    "            nn.ReLU(),\n",
    "            nn.Linear(1024, 1024),\n",
    "            nn.ReLU(),\n",
    "            nn.Linear(1024, 512),\n",
    "            nn.ReLU(),\n",
    "            nn.Linear(512, 512),\n",
    "            nn.ReLU(),\n",
    "        )\n",
    "\n",
    "        self.fc_latent = nn.Linear(512, self.latent_dim)\n",
    "        self.pooling = nn.MaxPool1d(kernel_size=77, stride=1)\n",
    "\n",
    "    def forward(self, x):\n",
    "        assert x.shape == (x.shape[0], 77, 768)\n",
    "\n",
    "        # reshape for fc\n",
    "        x = x.view(-1, 768)\n",
    "        x = self.encoder_layers(x)\n",
    "\n",
    "        # reshape back to batch_size * 77 x hidden size\n",
    "        x = x.view(-1, 77, 512)\n",
    "        x = self.pooling(x.permute(0, 2, 1)).squeeze(-1)\n",
    "        x = self.fc_latent(x)\n",
    "\n",
    "        return x\n",
    "    \n",
    "class Decoder(nn.Module):\n",
    "    def __init__(self, input_dim, latent_dim):\n",
    "        super(Decoder, self).__init__()\n",
    "        self.input_dim = input_dim\n",
    "        self.latent_dim = latent_dim\n",
    "\n",
    "        # define decoder layers: 3 layers of fc 1024, last layer activated with tanh\n",
    "        self.decoder_layers = nn.Sequential(\n",
    "            nn.Linear(self.latent_dim, 1024),\n",
    "            nn.ReLU(),\n",
    "            nn.Linear(1024, 1024),\n",
    "            nn.ReLU(),\n",
    "            nn.Linear(1024, 2048),\n",
    "            nn.ReLU(),\n",
    "            nn.Linear(2048, 2048),\n",
    "            nn.ReLU(),\n",
    "            nn.Linear(2048, 77 * self.input_dim),\n",
    "            nn.Tanh()\n",
    "        )\n",
    "\n",
    "    def forward(self, z):\n",
    "        assert z.shape == (z.shape[0], self.latent_dim)\n",
    "\n",
    "        x = self.decoder_layers(z)\n",
    "\n",
    "        # reshape to batch_size * 77 * 768\n",
    "        x = x.view(-1, 77, 768)\n",
    "\n",
    "        return x\n",
    "    \n",
    "class AutoEncoder(nn.Module):\n",
    "    def __init__(self, input_dim, latent_dim):\n",
    "        super(AutoEncoder, self).__init__()\n",
    "\n",
    "        self.encoder = Encoder(input_dim, latent_dim)\n",
    "        self.decoder = Decoder(input_dim, latent_dim)\n",
    "\n",
    "    def forward(self, x):\n",
    "        self.z = self.encoder(x)\n",
    "        recon = self.decoder(self.z)\n",
    "\n",
    "        return recon"
   ]
  },
  {
   "cell_type": "code",
   "execution_count": 5,
   "metadata": {},
   "outputs": [
    {
     "data": {
      "text/plain": [
       "AutoEncoder(\n",
       "  (encoder): Encoder(\n",
       "    (encoder_layers): Sequential(\n",
       "      (0): Linear(in_features=768, out_features=1024, bias=True)\n",
       "      (1): ReLU()\n",
       "      (2): Linear(in_features=1024, out_features=1024, bias=True)\n",
       "      (3): ReLU()\n",
       "      (4): Linear(in_features=1024, out_features=512, bias=True)\n",
       "      (5): ReLU()\n",
       "      (6): Linear(in_features=512, out_features=512, bias=True)\n",
       "      (7): ReLU()\n",
       "    )\n",
       "    (fc_latent): Linear(in_features=512, out_features=256, bias=True)\n",
       "    (pooling): MaxPool1d(kernel_size=77, stride=1, padding=0, dilation=1, ceil_mode=False)\n",
       "  )\n",
       "  (decoder): Decoder(\n",
       "    (decoder_layers): Sequential(\n",
       "      (0): Linear(in_features=256, out_features=1024, bias=True)\n",
       "      (1): ReLU()\n",
       "      (2): Linear(in_features=1024, out_features=1024, bias=True)\n",
       "      (3): ReLU()\n",
       "      (4): Linear(in_features=1024, out_features=2048, bias=True)\n",
       "      (5): ReLU()\n",
       "      (6): Linear(in_features=2048, out_features=2048, bias=True)\n",
       "      (7): ReLU()\n",
       "      (8): Linear(in_features=2048, out_features=59136, bias=True)\n",
       "      (9): Tanh()\n",
       "    )\n",
       "  )\n",
       ")"
      ]
     },
     "execution_count": 5,
     "metadata": {},
     "output_type": "execute_result"
    }
   ],
   "source": [
    "model = AutoEncoder(input_dim=768, latent_dim=256)\n",
    "optimizer = torch.optim.AdamW(model.parameters(), lr=1e-4)\n",
    "scheduler = torch.optim.lr_scheduler.ReduceLROnPlateau(optimizer, patience=10, threshold=0.01)\n",
    "model = model.to(device)\n",
    "model"
   ]
  },
  {
   "cell_type": "code",
   "execution_count": 6,
   "metadata": {},
   "outputs": [],
   "source": [
    "save_path = 'experiments/fc_exp6/'\n",
    "epoch = 800\n",
    "batch_size = 128\n",
    "sparsity_penalty_weight = 0"
   ]
  },
  {
   "cell_type": "code",
   "execution_count": 7,
   "metadata": {},
   "outputs": [],
   "source": [
    "# loss function\n",
    "class MSELossFC(nn.Module):\n",
    "    def __init__(self, sparsity_penalty_weight=0.0):\n",
    "        super(MSELossFC, self).__init__()\n",
    "        self.sparsity_penalty_weight = sparsity_penalty_weight\n",
    "\n",
    "    def forward(self, y, y_hat, z):\n",
    "        assert y.shape == (y.shape[0], 77, 768)\n",
    "        assert y_hat.shape == (y.shape[0], 77, 768)\n",
    "\n",
    "        reconstruction_loss = nn.MSELoss(reduction='sum')(y, y_hat)\n",
    "        \n",
    "        l1_penalty = torch.abs(z).mean()\n",
    "        sparsity_loss = l1_penalty * self.sparsity_penalty_weight\n",
    "\n",
    "        total_loss = reconstruction_loss + sparsity_loss\n",
    "\n",
    "        return total_loss\n",
    "\n",
    "criterion = MSELossFC(sparsity_penalty_weight)"
   ]
  },
  {
   "cell_type": "code",
   "execution_count": 8,
   "metadata": {},
   "outputs": [
    {
     "name": "stderr",
     "output_type": "stream",
     "text": [
      "train loss: 69.995: 100%|██████████| 7/7 [00:01<00:00,  6.98it/s]\n",
      "val loss: 66.653: 100%|██████████| 2/2 [00:00<00:00, 61.18it/s]\n"
     ]
    },
    {
     "name": "stdout",
     "output_type": "stream",
     "text": [
      "Weight saved: epoch 0\n",
      "Epoch 0\tTrain Loss: 79.464  Val Loss: 66.589\n",
      "\n"
     ]
    },
    {
     "name": "stderr",
     "output_type": "stream",
     "text": [
      "train loss: 52.089: 100%|██████████| 7/7 [00:00<00:00, 11.16it/s]\n",
      "val loss: 51.382: 100%|██████████| 2/2 [00:00<00:00, 65.76it/s]\n"
     ]
    },
    {
     "name": "stdout",
     "output_type": "stream",
     "text": [
      "Weight saved: epoch 1\n",
      "Epoch 1\tTrain Loss: 58.460  Val Loss: 51.218\n",
      "\n"
     ]
    },
    {
     "name": "stderr",
     "output_type": "stream",
     "text": [
      "train loss: 45.588: 100%|██████████| 7/7 [00:00<00:00, 12.32it/s]\n",
      "val loss: 45.886: 100%|██████████| 2/2 [00:00<00:00, 56.93it/s]\n"
     ]
    },
    {
     "name": "stdout",
     "output_type": "stream",
     "text": [
      "Weight saved: epoch 2\n",
      "Epoch 2\tTrain Loss: 48.046  Val Loss: 45.749\n",
      "\n"
     ]
    },
    {
     "name": "stderr",
     "output_type": "stream",
     "text": [
      "train loss: 43.767: 100%|██████████| 7/7 [00:00<00:00, 11.97it/s]\n",
      "val loss: 44.035: 100%|██████████| 2/2 [00:00<00:00, 65.58it/s]\n"
     ]
    },
    {
     "name": "stdout",
     "output_type": "stream",
     "text": [
      "Weight saved: epoch 3\n",
      "Epoch 3\tTrain Loss: 44.948  Val Loss: 43.875\n",
      "\n"
     ]
    },
    {
     "name": "stderr",
     "output_type": "stream",
     "text": [
      "train loss: 43.957: 100%|██████████| 7/7 [00:00<00:00, 12.44it/s]\n",
      "val loss: 43.154: 100%|██████████| 2/2 [00:00<00:00, 61.66it/s]\n"
     ]
    },
    {
     "name": "stdout",
     "output_type": "stream",
     "text": [
      "Weight saved: epoch 4\n",
      "Epoch 4\tTrain Loss: 43.616  Val Loss: 43.004\n",
      "\n"
     ]
    },
    {
     "name": "stderr",
     "output_type": "stream",
     "text": [
      "train loss: 42.575: 100%|██████████| 7/7 [00:00<00:00, 11.46it/s]\n",
      "val loss: 42.634: 100%|██████████| 2/2 [00:00<00:00, 62.31it/s]\n"
     ]
    },
    {
     "name": "stdout",
     "output_type": "stream",
     "text": [
      "Weight saved: epoch 5\n",
      "Epoch 5\tTrain Loss: 42.868  Val Loss: 42.489\n",
      "\n"
     ]
    },
    {
     "name": "stderr",
     "output_type": "stream",
     "text": [
      "train loss: 43.044: 100%|██████████| 7/7 [00:00<00:00, 12.10it/s]\n",
      "val loss: 42.345: 100%|██████████| 2/2 [00:00<00:00, 61.61it/s]\n"
     ]
    },
    {
     "name": "stdout",
     "output_type": "stream",
     "text": [
      "Weight saved: epoch 6\n",
      "Epoch 6\tTrain Loss: 42.578  Val Loss: 42.205\n",
      "\n"
     ]
    },
    {
     "name": "stderr",
     "output_type": "stream",
     "text": [
      "train loss: 42.293: 100%|██████████| 7/7 [00:00<00:00, 12.51it/s]\n",
      "val loss: 42.199: 100%|██████████| 2/2 [00:00<00:00, 64.48it/s]\n"
     ]
    },
    {
     "name": "stdout",
     "output_type": "stream",
     "text": [
      "Weight saved: epoch 7\n",
      "Epoch 7\tTrain Loss: 42.319  Val Loss: 42.055\n",
      "\n"
     ]
    },
    {
     "name": "stderr",
     "output_type": "stream",
     "text": [
      "train loss: 42.251: 100%|██████████| 7/7 [00:00<00:00, 12.04it/s]\n",
      "val loss: 42.109: 100%|██████████| 2/2 [00:00<00:00, 66.97it/s]\n"
     ]
    },
    {
     "name": "stdout",
     "output_type": "stream",
     "text": [
      "Weight saved: epoch 8\n",
      "Epoch 8\tTrain Loss: 42.197  Val Loss: 41.968\n",
      "\n"
     ]
    },
    {
     "name": "stderr",
     "output_type": "stream",
     "text": [
      "train loss: 42.375: 100%|██████████| 7/7 [00:00<00:00, 12.03it/s]\n",
      "val loss: 42.045: 100%|██████████| 2/2 [00:00<00:00, 65.73it/s]\n"
     ]
    },
    {
     "name": "stdout",
     "output_type": "stream",
     "text": [
      "Weight saved: epoch 9\n",
      "Epoch 9\tTrain Loss: 42.136  Val Loss: 41.904\n",
      "\n"
     ]
    },
    {
     "name": "stderr",
     "output_type": "stream",
     "text": [
      "train loss: 41.769: 100%|██████████| 7/7 [00:00<00:00, 12.45it/s]\n",
      "val loss: 41.996: 100%|██████████| 2/2 [00:00<00:00, 43.08it/s]\n"
     ]
    },
    {
     "name": "stdout",
     "output_type": "stream",
     "text": [
      "Weight saved: epoch 10\n",
      "Epoch 10\tTrain Loss: 42.021  Val Loss: 41.862\n",
      "\n"
     ]
    },
    {
     "name": "stderr",
     "output_type": "stream",
     "text": [
      "train loss: 42.906: 100%|██████████| 7/7 [00:00<00:00, 12.33it/s]\n",
      "val loss: 41.964: 100%|██████████| 2/2 [00:00<00:00, 64.32it/s]\n"
     ]
    },
    {
     "name": "stdout",
     "output_type": "stream",
     "text": [
      "Weight saved: epoch 11\n",
      "Epoch 11\tTrain Loss: 42.109  Val Loss: 41.819\n",
      "\n"
     ]
    },
    {
     "name": "stderr",
     "output_type": "stream",
     "text": [
      "train loss: 41.458: 100%|██████████| 7/7 [00:00<00:00, 12.47it/s]\n",
      "val loss: 41.950: 100%|██████████| 2/2 [00:00<00:00, 65.98it/s]\n"
     ]
    },
    {
     "name": "stdout",
     "output_type": "stream",
     "text": [
      "Weight saved: epoch 12\n",
      "Epoch 12\tTrain Loss: 41.898  Val Loss: 41.808\n",
      "\n"
     ]
    },
    {
     "name": "stderr",
     "output_type": "stream",
     "text": [
      "train loss: 42.701: 100%|██████████| 7/7 [00:00<00:00, 12.05it/s]\n",
      "val loss: 41.907: 100%|██████████| 2/2 [00:00<00:00, 66.29it/s]\n"
     ]
    },
    {
     "name": "stdout",
     "output_type": "stream",
     "text": [
      "Weight saved: epoch 13\n",
      "Epoch 13\tTrain Loss: 42.022  Val Loss: 41.770\n",
      "\n"
     ]
    },
    {
     "name": "stderr",
     "output_type": "stream",
     "text": [
      "train loss: 42.381: 100%|██████████| 7/7 [00:00<00:00, 12.58it/s]\n",
      "val loss: 41.934: 100%|██████████| 2/2 [00:00<00:00, 49.79it/s]\n"
     ]
    },
    {
     "name": "stdout",
     "output_type": "stream",
     "text": [
      "Epoch 14\tTrain Loss: 41.974  Val Loss: 41.782\n",
      "\n"
     ]
    },
    {
     "name": "stderr",
     "output_type": "stream",
     "text": [
      "train loss: 41.910: 100%|██████████| 7/7 [00:00<00:00, 12.38it/s]\n",
      "val loss: 41.903: 100%|██████████| 2/2 [00:00<00:00, 65.15it/s]\n"
     ]
    },
    {
     "name": "stdout",
     "output_type": "stream",
     "text": [
      "Weight saved: epoch 15\n",
      "Epoch 15\tTrain Loss: 41.892  Val Loss: 41.760\n",
      "\n"
     ]
    },
    {
     "name": "stderr",
     "output_type": "stream",
     "text": [
      "train loss: 41.700: 100%|██████████| 7/7 [00:00<00:00, 12.51it/s]\n",
      "val loss: 41.887: 100%|██████████| 2/2 [00:00<00:00, 65.26it/s]\n"
     ]
    },
    {
     "name": "stdout",
     "output_type": "stream",
     "text": [
      "Weight saved: epoch 16\n",
      "Epoch 16\tTrain Loss: 41.863  Val Loss: 41.741\n",
      "\n"
     ]
    },
    {
     "name": "stderr",
     "output_type": "stream",
     "text": [
      "train loss: 41.111: 100%|██████████| 7/7 [00:00<00:00, 12.48it/s]\n",
      "val loss: 41.872: 100%|██████████| 2/2 [00:00<00:00, 66.50it/s]\n"
     ]
    },
    {
     "name": "stdout",
     "output_type": "stream",
     "text": [
      "Weight saved: epoch 17\n",
      "Epoch 17\tTrain Loss: 41.785  Val Loss: 41.725\n",
      "\n"
     ]
    },
    {
     "name": "stderr",
     "output_type": "stream",
     "text": [
      "train loss: 41.974: 100%|██████████| 7/7 [00:00<00:00, 12.49it/s]\n",
      "val loss: 41.869: 100%|██████████| 2/2 [00:00<00:00, 67.40it/s]\n"
     ]
    },
    {
     "name": "stdout",
     "output_type": "stream",
     "text": [
      "Weight saved: epoch 18\n",
      "Epoch 18\tTrain Loss: 41.871  Val Loss: 41.720\n",
      "\n"
     ]
    },
    {
     "name": "stderr",
     "output_type": "stream",
     "text": [
      "train loss: 42.065: 100%|██████████| 7/7 [00:00<00:00, 12.28it/s]\n",
      "val loss: 41.845: 100%|██████████| 2/2 [00:00<00:00, 63.42it/s]\n"
     ]
    },
    {
     "name": "stdout",
     "output_type": "stream",
     "text": [
      "Weight saved: epoch 19\n",
      "Epoch 19\tTrain Loss: 41.870  Val Loss: 41.695\n",
      "\n"
     ]
    },
    {
     "name": "stderr",
     "output_type": "stream",
     "text": [
      "train loss: 41.877: 100%|██████████| 7/7 [00:00<00:00, 12.19it/s]\n",
      "val loss: 41.842: 100%|██████████| 2/2 [00:00<00:00, 61.68it/s]\n"
     ]
    },
    {
     "name": "stdout",
     "output_type": "stream",
     "text": [
      "Weight saved: epoch 20\n",
      "Epoch 20\tTrain Loss: 41.836  Val Loss: 41.687\n",
      "\n"
     ]
    },
    {
     "name": "stderr",
     "output_type": "stream",
     "text": [
      "train loss: 41.953: 100%|██████████| 7/7 [00:00<00:00, 12.46it/s]\n",
      "val loss: 41.828: 100%|██████████| 2/2 [00:00<00:00, 63.76it/s]\n"
     ]
    },
    {
     "name": "stdout",
     "output_type": "stream",
     "text": [
      "Weight saved: epoch 21\n",
      "Epoch 21\tTrain Loss: 41.816  Val Loss: 41.676\n",
      "\n"
     ]
    },
    {
     "name": "stderr",
     "output_type": "stream",
     "text": [
      "train loss: 41.407: 100%|██████████| 7/7 [00:00<00:00, 12.40it/s]\n",
      "val loss: 41.767: 100%|██████████| 2/2 [00:00<00:00, 67.00it/s]\n"
     ]
    },
    {
     "name": "stdout",
     "output_type": "stream",
     "text": [
      "Weight saved: epoch 22\n",
      "Epoch 22\tTrain Loss: 41.727  Val Loss: 41.611\n",
      "\n"
     ]
    },
    {
     "name": "stderr",
     "output_type": "stream",
     "text": [
      "train loss: 41.239: 100%|██████████| 7/7 [00:00<00:00, 12.37it/s]\n",
      "val loss: 41.733: 100%|██████████| 2/2 [00:00<00:00, 65.41it/s]\n"
     ]
    },
    {
     "name": "stdout",
     "output_type": "stream",
     "text": [
      "Weight saved: epoch 23\n",
      "Epoch 23\tTrain Loss: 41.628  Val Loss: 41.551\n",
      "\n"
     ]
    },
    {
     "name": "stderr",
     "output_type": "stream",
     "text": [
      "train loss: 41.503: 100%|██████████| 7/7 [00:00<00:00, 12.40it/s]\n",
      "val loss: 41.641: 100%|██████████| 2/2 [00:00<00:00, 63.30it/s]\n"
     ]
    },
    {
     "name": "stdout",
     "output_type": "stream",
     "text": [
      "Weight saved: epoch 24\n",
      "Epoch 24\tTrain Loss: 41.532  Val Loss: 41.454\n",
      "\n"
     ]
    },
    {
     "name": "stderr",
     "output_type": "stream",
     "text": [
      "train loss: 41.179: 100%|██████████| 7/7 [00:00<00:00, 12.58it/s]\n",
      "val loss: 41.570: 100%|██████████| 2/2 [00:00<00:00, 65.82it/s]\n"
     ]
    },
    {
     "name": "stdout",
     "output_type": "stream",
     "text": [
      "Weight saved: epoch 25\n",
      "Epoch 25\tTrain Loss: 41.367  Val Loss: 41.362\n",
      "\n"
     ]
    },
    {
     "name": "stderr",
     "output_type": "stream",
     "text": [
      "train loss: 40.501: 100%|██████████| 7/7 [00:00<00:00, 12.31it/s]\n",
      "val loss: 41.533: 100%|██████████| 2/2 [00:00<00:00, 66.59it/s]\n"
     ]
    },
    {
     "name": "stdout",
     "output_type": "stream",
     "text": [
      "Weight saved: epoch 26\n",
      "Epoch 26\tTrain Loss: 41.217  Val Loss: 41.320\n",
      "\n"
     ]
    },
    {
     "name": "stderr",
     "output_type": "stream",
     "text": [
      "train loss: 40.620: 100%|██████████| 7/7 [00:00<00:00, 12.49it/s]\n",
      "val loss: 41.507: 100%|██████████| 2/2 [00:00<00:00, 62.73it/s]\n"
     ]
    },
    {
     "name": "stdout",
     "output_type": "stream",
     "text": [
      "Weight saved: epoch 27\n",
      "Epoch 27\tTrain Loss: 41.166  Val Loss: 41.289\n",
      "\n"
     ]
    },
    {
     "name": "stderr",
     "output_type": "stream",
     "text": [
      "train loss: 41.373: 100%|██████████| 7/7 [00:00<00:00, 11.80it/s]\n",
      "val loss: 41.477: 100%|██████████| 2/2 [00:00<00:00, 65.75it/s]\n"
     ]
    },
    {
     "name": "stdout",
     "output_type": "stream",
     "text": [
      "Weight saved: epoch 28\n",
      "Epoch 28\tTrain Loss: 41.219  Val Loss: 41.265\n",
      "\n"
     ]
    },
    {
     "name": "stderr",
     "output_type": "stream",
     "text": [
      "train loss: 41.287: 100%|██████████| 7/7 [00:00<00:00, 12.41it/s]\n",
      "val loss: 41.463: 100%|██████████| 2/2 [00:00<00:00, 52.98it/s]\n"
     ]
    },
    {
     "name": "stdout",
     "output_type": "stream",
     "text": [
      "Weight saved: epoch 29\n",
      "Epoch 29\tTrain Loss: 41.185  Val Loss: 41.257\n",
      "\n"
     ]
    },
    {
     "name": "stderr",
     "output_type": "stream",
     "text": [
      "train loss: 41.529: 100%|██████████| 7/7 [00:00<00:00, 12.47it/s]\n",
      "val loss: 41.438: 100%|██████████| 2/2 [00:00<00:00, 63.80it/s]\n"
     ]
    },
    {
     "name": "stdout",
     "output_type": "stream",
     "text": [
      "Weight saved: epoch 30\n",
      "Epoch 30\tTrain Loss: 41.201  Val Loss: 41.233\n",
      "\n"
     ]
    },
    {
     "name": "stderr",
     "output_type": "stream",
     "text": [
      "train loss: 40.873: 100%|██████████| 7/7 [00:00<00:00, 12.35it/s]\n",
      "val loss: 41.425: 100%|██████████| 2/2 [00:00<00:00, 65.33it/s]\n"
     ]
    },
    {
     "name": "stdout",
     "output_type": "stream",
     "text": [
      "Weight saved: epoch 31\n",
      "Epoch 31\tTrain Loss: 41.100  Val Loss: 41.216\n",
      "\n"
     ]
    },
    {
     "name": "stderr",
     "output_type": "stream",
     "text": [
      "train loss: 40.741: 100%|██████████| 7/7 [00:00<00:00, 12.40it/s]\n",
      "val loss: 41.391: 100%|██████████| 2/2 [00:00<00:00, 67.71it/s]\n"
     ]
    },
    {
     "name": "stdout",
     "output_type": "stream",
     "text": [
      "Weight saved: epoch 32\n",
      "Epoch 32\tTrain Loss: 41.066  Val Loss: 41.179\n",
      "\n"
     ]
    },
    {
     "name": "stderr",
     "output_type": "stream",
     "text": [
      "train loss: 41.385: 100%|██████████| 7/7 [00:00<00:00, 12.51it/s]\n",
      "val loss: 41.399: 100%|██████████| 2/2 [00:00<00:00, 61.94it/s]\n"
     ]
    },
    {
     "name": "stdout",
     "output_type": "stream",
     "text": [
      "Epoch 33\tTrain Loss: 41.112  Val Loss: 41.191\n",
      "\n"
     ]
    },
    {
     "name": "stderr",
     "output_type": "stream",
     "text": [
      "train loss: 41.119: 100%|██████████| 7/7 [00:00<00:00, 12.34it/s]\n",
      "val loss: 41.405: 100%|██████████| 2/2 [00:00<00:00, 67.12it/s]\n"
     ]
    },
    {
     "name": "stdout",
     "output_type": "stream",
     "text": [
      "Epoch 34\tTrain Loss: 41.048  Val Loss: 41.184\n",
      "\n"
     ]
    },
    {
     "name": "stderr",
     "output_type": "stream",
     "text": [
      "train loss: 40.645: 100%|██████████| 7/7 [00:00<00:00, 12.51it/s]\n",
      "val loss: 41.346: 100%|██████████| 2/2 [00:00<00:00, 56.63it/s]\n"
     ]
    },
    {
     "name": "stdout",
     "output_type": "stream",
     "text": [
      "Weight saved: epoch 35\n",
      "Epoch 35\tTrain Loss: 40.952  Val Loss: 41.143\n",
      "\n"
     ]
    },
    {
     "name": "stderr",
     "output_type": "stream",
     "text": [
      "train loss: 41.864: 100%|██████████| 7/7 [00:00<00:00, 12.33it/s]\n",
      "val loss: 41.350: 100%|██████████| 2/2 [00:00<00:00, 63.05it/s]\n"
     ]
    },
    {
     "name": "stdout",
     "output_type": "stream",
     "text": [
      "Weight saved: epoch 36\n",
      "Epoch 36\tTrain Loss: 41.068  Val Loss: 41.138\n",
      "\n"
     ]
    },
    {
     "name": "stderr",
     "output_type": "stream",
     "text": [
      "train loss: 41.716: 100%|██████████| 7/7 [00:00<00:00, 12.08it/s]\n",
      "val loss: 41.328: 100%|██████████| 2/2 [00:00<00:00, 67.17it/s]\n"
     ]
    },
    {
     "name": "stdout",
     "output_type": "stream",
     "text": [
      "Weight saved: epoch 37\n",
      "Epoch 37\tTrain Loss: 40.987  Val Loss: 41.126\n",
      "\n"
     ]
    },
    {
     "name": "stderr",
     "output_type": "stream",
     "text": [
      "train loss: 40.333: 100%|██████████| 7/7 [00:00<00:00, 12.43it/s]\n",
      "val loss: 41.276: 100%|██████████| 2/2 [00:00<00:00, 54.98it/s]\n"
     ]
    },
    {
     "name": "stdout",
     "output_type": "stream",
     "text": [
      "Weight saved: epoch 38\n",
      "Epoch 38\tTrain Loss: 40.821  Val Loss: 41.079\n",
      "\n"
     ]
    },
    {
     "name": "stderr",
     "output_type": "stream",
     "text": [
      "train loss: 40.602: 100%|██████████| 7/7 [00:00<00:00, 11.92it/s]\n",
      "val loss: 41.266: 100%|██████████| 2/2 [00:00<00:00, 62.70it/s]\n"
     ]
    },
    {
     "name": "stdout",
     "output_type": "stream",
     "text": [
      "Weight saved: epoch 39\n",
      "Epoch 39\tTrain Loss: 40.798  Val Loss: 41.039\n",
      "\n"
     ]
    },
    {
     "name": "stderr",
     "output_type": "stream",
     "text": [
      "train loss: 41.047: 100%|██████████| 7/7 [00:00<00:00, 12.29it/s]\n",
      "val loss: 41.200: 100%|██████████| 2/2 [00:00<00:00, 48.50it/s]\n"
     ]
    },
    {
     "name": "stdout",
     "output_type": "stream",
     "text": [
      "Weight saved: epoch 40\n",
      "Epoch 40\tTrain Loss: 40.813  Val Loss: 40.995\n",
      "\n"
     ]
    },
    {
     "name": "stderr",
     "output_type": "stream",
     "text": [
      "train loss: 41.026: 100%|██████████| 7/7 [00:00<00:00, 11.87it/s]\n",
      "val loss: 41.163: 100%|██████████| 2/2 [00:00<00:00, 65.10it/s]\n"
     ]
    },
    {
     "name": "stdout",
     "output_type": "stream",
     "text": [
      "Weight saved: epoch 41\n",
      "Epoch 41\tTrain Loss: 40.753  Val Loss: 40.954\n",
      "\n"
     ]
    },
    {
     "name": "stderr",
     "output_type": "stream",
     "text": [
      "train loss: 40.700: 100%|██████████| 7/7 [00:00<00:00, 12.47it/s]\n",
      "val loss: 41.139: 100%|██████████| 2/2 [00:00<00:00, 48.47it/s]\n"
     ]
    },
    {
     "name": "stdout",
     "output_type": "stream",
     "text": [
      "Weight saved: epoch 42\n",
      "Epoch 42\tTrain Loss: 40.655  Val Loss: 40.925\n",
      "\n"
     ]
    },
    {
     "name": "stderr",
     "output_type": "stream",
     "text": [
      "train loss: 40.450: 100%|██████████| 7/7 [00:00<00:00, 12.38it/s]\n",
      "val loss: 41.080: 100%|██████████| 2/2 [00:00<00:00, 65.50it/s]\n"
     ]
    },
    {
     "name": "stdout",
     "output_type": "stream",
     "text": [
      "Weight saved: epoch 43\n",
      "Epoch 43\tTrain Loss: 40.575  Val Loss: 40.880\n",
      "\n"
     ]
    },
    {
     "name": "stderr",
     "output_type": "stream",
     "text": [
      "train loss: 40.485: 100%|██████████| 7/7 [00:00<00:00, 12.23it/s]\n",
      "val loss: 41.044: 100%|██████████| 2/2 [00:00<00:00, 65.12it/s]\n"
     ]
    },
    {
     "name": "stdout",
     "output_type": "stream",
     "text": [
      "Weight saved: epoch 44\n",
      "Epoch 44\tTrain Loss: 40.538  Val Loss: 40.854\n",
      "\n"
     ]
    },
    {
     "name": "stderr",
     "output_type": "stream",
     "text": [
      "train loss: 40.749: 100%|██████████| 7/7 [00:00<00:00, 12.49it/s]\n",
      "val loss: 41.014: 100%|██████████| 2/2 [00:00<00:00, 53.31it/s]\n"
     ]
    },
    {
     "name": "stdout",
     "output_type": "stream",
     "text": [
      "Weight saved: epoch 45\n",
      "Epoch 45\tTrain Loss: 40.518  Val Loss: 40.816\n",
      "\n"
     ]
    },
    {
     "name": "stderr",
     "output_type": "stream",
     "text": [
      "train loss: 40.671: 100%|██████████| 7/7 [00:00<00:00, 11.83it/s]\n",
      "val loss: 40.980: 100%|██████████| 2/2 [00:00<00:00, 66.91it/s]\n"
     ]
    },
    {
     "name": "stdout",
     "output_type": "stream",
     "text": [
      "Weight saved: epoch 46\n",
      "Epoch 46\tTrain Loss: 40.497  Val Loss: 40.795\n",
      "\n"
     ]
    },
    {
     "name": "stderr",
     "output_type": "stream",
     "text": [
      "train loss: 40.174: 100%|██████████| 7/7 [00:00<00:00, 12.33it/s]\n",
      "val loss: 40.977: 100%|██████████| 2/2 [00:00<00:00, 48.52it/s]\n"
     ]
    },
    {
     "name": "stdout",
     "output_type": "stream",
     "text": [
      "Weight saved: epoch 47\n",
      "Epoch 47\tTrain Loss: 40.402  Val Loss: 40.783\n",
      "\n"
     ]
    },
    {
     "name": "stderr",
     "output_type": "stream",
     "text": [
      "train loss: 40.949: 100%|██████████| 7/7 [00:00<00:00, 12.15it/s]\n",
      "val loss: 40.986: 100%|██████████| 2/2 [00:00<00:00, 66.18it/s]\n"
     ]
    },
    {
     "name": "stdout",
     "output_type": "stream",
     "text": [
      "Epoch 48\tTrain Loss: 40.467  Val Loss: 40.803\n",
      "\n"
     ]
    },
    {
     "name": "stderr",
     "output_type": "stream",
     "text": [
      "train loss: 39.828: 100%|██████████| 7/7 [00:00<00:00, 12.53it/s]\n",
      "val loss: 41.014: 100%|██████████| 2/2 [00:00<00:00, 67.71it/s]\n"
     ]
    },
    {
     "name": "stdout",
     "output_type": "stream",
     "text": [
      "Epoch 49\tTrain Loss: 40.344  Val Loss: 40.829\n",
      "\n"
     ]
    },
    {
     "name": "stderr",
     "output_type": "stream",
     "text": [
      "train loss: 39.776: 100%|██████████| 7/7 [00:00<00:00, 12.26it/s]\n",
      "val loss: 40.938: 100%|██████████| 2/2 [00:00<00:00, 67.54it/s]\n"
     ]
    },
    {
     "name": "stdout",
     "output_type": "stream",
     "text": [
      "Weight saved: epoch 50\n",
      "Epoch 50\tTrain Loss: 40.307  Val Loss: 40.766\n",
      "\n"
     ]
    },
    {
     "name": "stderr",
     "output_type": "stream",
     "text": [
      "train loss: 40.575: 100%|██████████| 7/7 [00:00<00:00, 12.51it/s]\n",
      "val loss: 40.903: 100%|██████████| 2/2 [00:00<00:00, 62.59it/s]\n"
     ]
    },
    {
     "name": "stdout",
     "output_type": "stream",
     "text": [
      "Weight saved: epoch 51\n",
      "Epoch 51\tTrain Loss: 40.357  Val Loss: 40.726\n",
      "\n"
     ]
    },
    {
     "name": "stderr",
     "output_type": "stream",
     "text": [
      "train loss: 40.511: 100%|██████████| 7/7 [00:00<00:00, 11.99it/s]\n",
      "val loss: 40.947: 100%|██████████| 2/2 [00:00<00:00, 67.09it/s]\n"
     ]
    },
    {
     "name": "stdout",
     "output_type": "stream",
     "text": [
      "Epoch 52\tTrain Loss: 40.355  Val Loss: 40.776\n",
      "\n"
     ]
    },
    {
     "name": "stderr",
     "output_type": "stream",
     "text": [
      "train loss: 40.175: 100%|██████████| 7/7 [00:00<00:00, 12.08it/s]\n",
      "val loss: 40.882: 100%|██████████| 2/2 [00:00<00:00, 62.23it/s]\n"
     ]
    },
    {
     "name": "stdout",
     "output_type": "stream",
     "text": [
      "Weight saved: epoch 53\n",
      "Epoch 53\tTrain Loss: 40.278  Val Loss: 40.725\n",
      "\n"
     ]
    },
    {
     "name": "stderr",
     "output_type": "stream",
     "text": [
      "train loss: 40.272: 100%|██████████| 7/7 [00:00<00:00, 12.52it/s]\n",
      "val loss: 40.946: 100%|██████████| 2/2 [00:00<00:00, 40.45it/s]\n"
     ]
    },
    {
     "name": "stdout",
     "output_type": "stream",
     "text": [
      "Epoch 54\tTrain Loss: 40.287  Val Loss: 40.798\n",
      "\n"
     ]
    },
    {
     "name": "stderr",
     "output_type": "stream",
     "text": [
      "train loss: 40.140: 100%|██████████| 7/7 [00:00<00:00, 12.43it/s]\n",
      "val loss: 40.874: 100%|██████████| 2/2 [00:00<00:00, 66.72it/s]\n"
     ]
    },
    {
     "name": "stdout",
     "output_type": "stream",
     "text": [
      "Weight saved: epoch 55\n",
      "Epoch 55\tTrain Loss: 40.251  Val Loss: 40.720\n",
      "\n"
     ]
    },
    {
     "name": "stderr",
     "output_type": "stream",
     "text": [
      "train loss: 40.668: 100%|██████████| 7/7 [00:00<00:00, 12.41it/s]\n",
      "val loss: 40.871: 100%|██████████| 2/2 [00:00<00:00, 66.91it/s]\n"
     ]
    },
    {
     "name": "stdout",
     "output_type": "stream",
     "text": [
      "Weight saved: epoch 56\n",
      "Epoch 56\tTrain Loss: 40.290  Val Loss: 40.705\n",
      "\n"
     ]
    },
    {
     "name": "stderr",
     "output_type": "stream",
     "text": [
      "train loss: 40.611: 100%|██████████| 7/7 [00:00<00:00, 12.13it/s]\n",
      "val loss: 40.862: 100%|██████████| 2/2 [00:00<00:00, 63.62it/s]\n"
     ]
    },
    {
     "name": "stdout",
     "output_type": "stream",
     "text": [
      "Epoch 57\tTrain Loss: 40.280  Val Loss: 40.712\n",
      "\n"
     ]
    },
    {
     "name": "stderr",
     "output_type": "stream",
     "text": [
      "train loss: 40.709: 100%|██████████| 7/7 [00:00<00:00, 11.95it/s]\n",
      "val loss: 40.872: 100%|██████████| 2/2 [00:00<00:00, 63.22it/s]\n"
     ]
    },
    {
     "name": "stdout",
     "output_type": "stream",
     "text": [
      "Epoch 58\tTrain Loss: 40.255  Val Loss: 40.731\n",
      "\n"
     ]
    },
    {
     "name": "stderr",
     "output_type": "stream",
     "text": [
      "train loss: 40.600: 100%|██████████| 7/7 [00:00<00:00, 12.49it/s]\n",
      "val loss: 40.885: 100%|██████████| 2/2 [00:00<00:00, 65.95it/s]\n"
     ]
    },
    {
     "name": "stdout",
     "output_type": "stream",
     "text": [
      "Epoch 59\tTrain Loss: 40.226  Val Loss: 40.730\n",
      "\n"
     ]
    },
    {
     "name": "stderr",
     "output_type": "stream",
     "text": [
      "train loss: 39.784: 100%|██████████| 7/7 [00:00<00:00, 12.11it/s]\n",
      "val loss: 40.851: 100%|██████████| 2/2 [00:00<00:00, 64.56it/s]\n"
     ]
    },
    {
     "name": "stdout",
     "output_type": "stream",
     "text": [
      "Epoch 60\tTrain Loss: 40.111  Val Loss: 40.706\n",
      "\n"
     ]
    },
    {
     "name": "stderr",
     "output_type": "stream",
     "text": [
      "train loss: 40.973: 100%|██████████| 7/7 [00:00<00:00, 12.49it/s]\n",
      "val loss: 40.872: 100%|██████████| 2/2 [00:00<00:00, 55.49it/s]\n"
     ]
    },
    {
     "name": "stdout",
     "output_type": "stream",
     "text": [
      "Epoch 61\tTrain Loss: 40.206  Val Loss: 40.720\n",
      "\n"
     ]
    },
    {
     "name": "stderr",
     "output_type": "stream",
     "text": [
      "train loss: 40.368: 100%|██████████| 7/7 [00:00<00:00, 12.34it/s]\n",
      "val loss: 40.885: 100%|██████████| 2/2 [00:00<00:00, 64.86it/s]\n"
     ]
    },
    {
     "name": "stdout",
     "output_type": "stream",
     "text": [
      "Epoch 62\tTrain Loss: 40.125  Val Loss: 40.729\n",
      "\n"
     ]
    },
    {
     "name": "stderr",
     "output_type": "stream",
     "text": [
      "train loss: 40.221: 100%|██████████| 7/7 [00:00<00:00, 12.29it/s]\n",
      "val loss: 40.867: 100%|██████████| 2/2 [00:00<00:00, 62.55it/s]\n"
     ]
    },
    {
     "name": "stdout",
     "output_type": "stream",
     "text": [
      "Epoch 63\tTrain Loss: 40.107  Val Loss: 40.740\n",
      "\n"
     ]
    },
    {
     "name": "stderr",
     "output_type": "stream",
     "text": [
      "train loss: 40.337: 100%|██████████| 7/7 [00:00<00:00, 12.45it/s]\n",
      "val loss: 40.831: 100%|██████████| 2/2 [00:00<00:00, 61.38it/s]\n"
     ]
    },
    {
     "name": "stdout",
     "output_type": "stream",
     "text": [
      "Weight saved: epoch 64\n",
      "Epoch 64\tTrain Loss: 40.097  Val Loss: 40.691\n",
      "\n"
     ]
    },
    {
     "name": "stderr",
     "output_type": "stream",
     "text": [
      "train loss: 40.407: 100%|██████████| 7/7 [00:00<00:00, 12.23it/s]\n",
      "val loss: 40.858: 100%|██████████| 2/2 [00:00<00:00, 66.97it/s]\n"
     ]
    },
    {
     "name": "stdout",
     "output_type": "stream",
     "text": [
      "Epoch 65\tTrain Loss: 40.070  Val Loss: 40.704\n",
      "\n"
     ]
    },
    {
     "name": "stderr",
     "output_type": "stream",
     "text": [
      "train loss: 39.668: 100%|██████████| 7/7 [00:00<00:00, 12.39it/s]\n",
      "val loss: 40.847: 100%|██████████| 2/2 [00:00<00:00, 59.96it/s]\n"
     ]
    },
    {
     "name": "stdout",
     "output_type": "stream",
     "text": [
      "Epoch 66\tTrain Loss: 39.967  Val Loss: 40.705\n",
      "\n"
     ]
    },
    {
     "name": "stderr",
     "output_type": "stream",
     "text": [
      "train loss: 39.614: 100%|██████████| 7/7 [00:00<00:00, 12.32it/s]\n",
      "val loss: 40.831: 100%|██████████| 2/2 [00:00<00:00, 61.72it/s]\n"
     ]
    },
    {
     "name": "stdout",
     "output_type": "stream",
     "text": [
      "Epoch 67\tTrain Loss: 39.943  Val Loss: 40.716\n",
      "\n"
     ]
    },
    {
     "name": "stderr",
     "output_type": "stream",
     "text": [
      "train loss: 39.411: 100%|██████████| 7/7 [00:00<00:00, 12.44it/s]\n",
      "val loss: 40.842: 100%|██████████| 2/2 [00:00<00:00, 67.09it/s]\n"
     ]
    },
    {
     "name": "stdout",
     "output_type": "stream",
     "text": [
      "Epoch 68\tTrain Loss: 39.914  Val Loss: 40.704\n",
      "\n"
     ]
    },
    {
     "name": "stderr",
     "output_type": "stream",
     "text": [
      "train loss: 40.265: 100%|██████████| 7/7 [00:00<00:00, 12.20it/s]\n",
      "val loss: 40.864: 100%|██████████| 2/2 [00:00<00:00, 63.25it/s]\n"
     ]
    },
    {
     "name": "stdout",
     "output_type": "stream",
     "text": [
      "Epoch 69\tTrain Loss: 39.999  Val Loss: 40.714\n",
      "\n"
     ]
    },
    {
     "name": "stderr",
     "output_type": "stream",
     "text": [
      "train loss: 41.062: 100%|██████████| 7/7 [00:00<00:00, 12.43it/s]\n",
      "val loss: 40.837: 100%|██████████| 2/2 [00:00<00:00, 55.90it/s]\n"
     ]
    },
    {
     "name": "stdout",
     "output_type": "stream",
     "text": [
      "Epoch 70\tTrain Loss: 40.058  Val Loss: 40.691\n",
      "\n"
     ]
    },
    {
     "name": "stderr",
     "output_type": "stream",
     "text": [
      "train loss: 39.825: 100%|██████████| 7/7 [00:00<00:00, 11.89it/s]\n",
      "val loss: 40.834: 100%|██████████| 2/2 [00:00<00:00, 63.61it/s]\n"
     ]
    },
    {
     "name": "stdout",
     "output_type": "stream",
     "text": [
      "Epoch 71\tTrain Loss: 39.915  Val Loss: 40.694\n",
      "\n"
     ]
    },
    {
     "name": "stderr",
     "output_type": "stream",
     "text": [
      "train loss: 39.260: 100%|██████████| 7/7 [00:00<00:00, 12.41it/s]\n",
      "val loss: 40.828: 100%|██████████| 2/2 [00:00<00:00, 48.55it/s]\n"
     ]
    },
    {
     "name": "stdout",
     "output_type": "stream",
     "text": [
      "Epoch 72\tTrain Loss: 39.844  Val Loss: 40.707\n",
      "\n"
     ]
    },
    {
     "name": "stderr",
     "output_type": "stream",
     "text": [
      "train loss: 39.751: 100%|██████████| 7/7 [00:00<00:00, 12.19it/s]\n",
      "val loss: 40.861: 100%|██████████| 2/2 [00:00<00:00, 62.06it/s]\n"
     ]
    },
    {
     "name": "stdout",
     "output_type": "stream",
     "text": [
      "Epoch 73\tTrain Loss: 39.884  Val Loss: 40.709\n",
      "\n"
     ]
    },
    {
     "name": "stderr",
     "output_type": "stream",
     "text": [
      "train loss: 40.400: 100%|██████████| 7/7 [00:00<00:00, 12.38it/s]\n",
      "val loss: 40.843: 100%|██████████| 2/2 [00:00<00:00, 51.98it/s]\n"
     ]
    },
    {
     "name": "stdout",
     "output_type": "stream",
     "text": [
      "Epoch 74\tTrain Loss: 39.937  Val Loss: 40.706\n",
      "\n"
     ]
    },
    {
     "name": "stderr",
     "output_type": "stream",
     "text": [
      "train loss: 40.117: 100%|██████████| 7/7 [00:00<00:00, 11.78it/s]\n",
      "val loss: 40.860: 100%|██████████| 2/2 [00:00<00:00, 64.98it/s]\n"
     ]
    },
    {
     "name": "stdout",
     "output_type": "stream",
     "text": [
      "Epoch 75\tTrain Loss: 39.906  Val Loss: 40.730\n",
      "\n"
     ]
    },
    {
     "name": "stderr",
     "output_type": "stream",
     "text": [
      "train loss: 39.409: 100%|██████████| 7/7 [00:00<00:00, 12.48it/s]\n",
      "val loss: 40.841: 100%|██████████| 2/2 [00:00<00:00, 46.26it/s]\n"
     ]
    },
    {
     "name": "stdout",
     "output_type": "stream",
     "text": [
      "Epoch 76\tTrain Loss: 39.801  Val Loss: 40.703\n",
      "\n"
     ]
    },
    {
     "name": "stderr",
     "output_type": "stream",
     "text": [
      "train loss: 40.141: 100%|██████████| 7/7 [00:00<00:00, 12.10it/s]\n",
      "val loss: 40.856: 100%|██████████| 2/2 [00:00<00:00, 66.09it/s]\n"
     ]
    },
    {
     "name": "stdout",
     "output_type": "stream",
     "text": [
      "Epoch 77\tTrain Loss: 39.858  Val Loss: 40.703\n",
      "\n"
     ]
    },
    {
     "name": "stderr",
     "output_type": "stream",
     "text": [
      "train loss: 39.163: 100%|██████████| 7/7 [00:00<00:00, 12.53it/s]\n",
      "val loss: 40.857: 100%|██████████| 2/2 [00:00<00:00, 54.03it/s]\n"
     ]
    },
    {
     "name": "stdout",
     "output_type": "stream",
     "text": [
      "Epoch 78\tTrain Loss: 39.730  Val Loss: 40.703\n",
      "\n"
     ]
    },
    {
     "name": "stderr",
     "output_type": "stream",
     "text": [
      "train loss: 39.187: 100%|██████████| 7/7 [00:00<00:00, 11.74it/s]\n",
      "val loss: 40.846: 100%|██████████| 2/2 [00:00<00:00, 62.32it/s]\n"
     ]
    },
    {
     "name": "stdout",
     "output_type": "stream",
     "text": [
      "Epoch 79\tTrain Loss: 39.725  Val Loss: 40.708\n",
      "\n"
     ]
    },
    {
     "name": "stderr",
     "output_type": "stream",
     "text": [
      "train loss: 39.114: 100%|██████████| 7/7 [00:00<00:00, 12.46it/s]\n",
      "val loss: 40.827: 100%|██████████| 2/2 [00:00<00:00, 40.80it/s]\n"
     ]
    },
    {
     "name": "stdout",
     "output_type": "stream",
     "text": [
      "Weight saved: epoch 80\n",
      "Epoch 80\tTrain Loss: 39.697  Val Loss: 40.685\n",
      "\n"
     ]
    },
    {
     "name": "stderr",
     "output_type": "stream",
     "text": [
      "train loss: 40.297: 100%|██████████| 7/7 [00:00<00:00, 12.29it/s]\n",
      "val loss: 40.864: 100%|██████████| 2/2 [00:00<00:00, 66.34it/s]\n"
     ]
    },
    {
     "name": "stdout",
     "output_type": "stream",
     "text": [
      "Epoch 81\tTrain Loss: 39.822  Val Loss: 40.719\n",
      "\n"
     ]
    },
    {
     "name": "stderr",
     "output_type": "stream",
     "text": [
      "train loss: 40.372: 100%|██████████| 7/7 [00:00<00:00, 12.28it/s]\n",
      "val loss: 40.850: 100%|██████████| 2/2 [00:00<00:00, 64.20it/s]\n"
     ]
    },
    {
     "name": "stdout",
     "output_type": "stream",
     "text": [
      "Epoch 82\tTrain Loss: 39.811  Val Loss: 40.703\n",
      "\n"
     ]
    },
    {
     "name": "stderr",
     "output_type": "stream",
     "text": [
      "train loss: 39.635: 100%|██████████| 7/7 [00:00<00:00, 12.35it/s]\n",
      "val loss: 40.855: 100%|██████████| 2/2 [00:00<00:00, 48.05it/s]\n"
     ]
    },
    {
     "name": "stdout",
     "output_type": "stream",
     "text": [
      "Epoch 83\tTrain Loss: 39.721  Val Loss: 40.716\n",
      "\n"
     ]
    },
    {
     "name": "stderr",
     "output_type": "stream",
     "text": [
      "train loss: 39.063: 100%|██████████| 7/7 [00:00<00:00, 12.32it/s]\n",
      "val loss: 40.879: 100%|██████████| 2/2 [00:00<00:00, 64.91it/s]\n"
     ]
    },
    {
     "name": "stdout",
     "output_type": "stream",
     "text": [
      "Epoch 84\tTrain Loss: 39.652  Val Loss: 40.741\n",
      "\n"
     ]
    },
    {
     "name": "stderr",
     "output_type": "stream",
     "text": [
      "train loss: 39.476: 100%|██████████| 7/7 [00:00<00:00, 12.54it/s]\n",
      "val loss: 40.875: 100%|██████████| 2/2 [00:00<00:00, 65.16it/s]\n"
     ]
    },
    {
     "name": "stdout",
     "output_type": "stream",
     "text": [
      "Epoch 85\tTrain Loss: 39.678  Val Loss: 40.719\n",
      "\n"
     ]
    },
    {
     "name": "stderr",
     "output_type": "stream",
     "text": [
      "train loss: 38.738: 100%|██████████| 7/7 [00:00<00:00, 12.49it/s]\n",
      "val loss: 40.861: 100%|██████████| 2/2 [00:00<00:00, 63.73it/s]\n"
     ]
    },
    {
     "name": "stdout",
     "output_type": "stream",
     "text": [
      "Epoch 86\tTrain Loss: 39.574  Val Loss: 40.709\n",
      "\n"
     ]
    },
    {
     "name": "stderr",
     "output_type": "stream",
     "text": [
      "train loss: 40.454: 100%|██████████| 7/7 [00:00<00:00, 11.91it/s]\n",
      "val loss: 40.909: 100%|██████████| 2/2 [00:00<00:00, 66.33it/s]\n"
     ]
    },
    {
     "name": "stdout",
     "output_type": "stream",
     "text": [
      "Epoch 87\tTrain Loss: 39.768  Val Loss: 40.783\n",
      "\n"
     ]
    },
    {
     "name": "stderr",
     "output_type": "stream",
     "text": [
      "train loss: 39.686: 100%|██████████| 7/7 [00:00<00:00, 12.49it/s]\n",
      "val loss: 40.922: 100%|██████████| 2/2 [00:00<00:00, 46.31it/s]\n"
     ]
    },
    {
     "name": "stdout",
     "output_type": "stream",
     "text": [
      "Epoch 88\tTrain Loss: 39.708  Val Loss: 40.772\n",
      "\n"
     ]
    },
    {
     "name": "stderr",
     "output_type": "stream",
     "text": [
      "train loss: 40.785: 100%|██████████| 7/7 [00:00<00:00, 12.28it/s]\n",
      "val loss: 40.890: 100%|██████████| 2/2 [00:00<00:00, 63.09it/s]\n"
     ]
    },
    {
     "name": "stdout",
     "output_type": "stream",
     "text": [
      "Epoch 89\tTrain Loss: 39.797  Val Loss: 40.731\n",
      "\n"
     ]
    },
    {
     "name": "stderr",
     "output_type": "stream",
     "text": [
      "train loss: 39.070: 100%|██████████| 7/7 [00:00<00:00, 12.40it/s]\n",
      "val loss: 40.908: 100%|██████████| 2/2 [00:00<00:00, 64.27it/s]\n"
     ]
    },
    {
     "name": "stdout",
     "output_type": "stream",
     "text": [
      "Epoch 90\tTrain Loss: 39.578  Val Loss: 40.756\n",
      "\n"
     ]
    },
    {
     "name": "stderr",
     "output_type": "stream",
     "text": [
      "train loss: 39.815: 100%|██████████| 7/7 [00:00<00:00, 11.93it/s]\n",
      "val loss: 40.939: 100%|██████████| 2/2 [00:00<00:00, 63.04it/s]\n"
     ]
    },
    {
     "name": "stdout",
     "output_type": "stream",
     "text": [
      "Epoch 91\tTrain Loss: 39.663  Val Loss: 40.786\n",
      "\n"
     ]
    },
    {
     "name": "stderr",
     "output_type": "stream",
     "text": [
      "train loss: 39.458: 100%|██████████| 7/7 [00:00<00:00, 12.48it/s]\n",
      "val loss: 40.882: 100%|██████████| 2/2 [00:00<00:00, 41.58it/s]\n"
     ]
    },
    {
     "name": "stdout",
     "output_type": "stream",
     "text": [
      "Epoch 92\tTrain Loss: 39.602  Val Loss: 40.730\n",
      "\n"
     ]
    },
    {
     "name": "stderr",
     "output_type": "stream",
     "text": [
      "train loss: 39.792: 100%|██████████| 7/7 [00:00<00:00, 11.88it/s]\n",
      "val loss: 40.919: 100%|██████████| 2/2 [00:00<00:00, 65.44it/s]\n"
     ]
    },
    {
     "name": "stdout",
     "output_type": "stream",
     "text": [
      "Epoch 93\tTrain Loss: 39.616  Val Loss: 40.771\n",
      "\n"
     ]
    },
    {
     "name": "stderr",
     "output_type": "stream",
     "text": [
      "train loss: 40.037: 100%|██████████| 7/7 [00:00<00:00, 11.87it/s]\n",
      "val loss: 40.891: 100%|██████████| 2/2 [00:00<00:00, 44.77it/s]\n"
     ]
    },
    {
     "name": "stdout",
     "output_type": "stream",
     "text": [
      "Epoch 94\tTrain Loss: 39.631  Val Loss: 40.741\n",
      "\n"
     ]
    },
    {
     "name": "stderr",
     "output_type": "stream",
     "text": [
      "train loss: 40.050: 100%|██████████| 7/7 [00:00<00:00, 11.63it/s]\n",
      "val loss: 40.931: 100%|██████████| 2/2 [00:00<00:00, 63.44it/s]\n"
     ]
    },
    {
     "name": "stdout",
     "output_type": "stream",
     "text": [
      "Epoch 95\tTrain Loss: 39.620  Val Loss: 40.771\n",
      "\n"
     ]
    },
    {
     "name": "stderr",
     "output_type": "stream",
     "text": [
      "train loss: 40.443: 100%|██████████| 7/7 [00:00<00:00, 12.29it/s]\n",
      "val loss: 40.902: 100%|██████████| 2/2 [00:00<00:00, 62.05it/s]\n"
     ]
    },
    {
     "name": "stdout",
     "output_type": "stream",
     "text": [
      "Epoch 96\tTrain Loss: 39.648  Val Loss: 40.756\n",
      "\n"
     ]
    },
    {
     "name": "stderr",
     "output_type": "stream",
     "text": [
      "train loss: 40.107: 100%|██████████| 7/7 [00:00<00:00, 11.78it/s]\n",
      "val loss: 40.938: 100%|██████████| 2/2 [00:00<00:00, 63.99it/s]\n"
     ]
    },
    {
     "name": "stdout",
     "output_type": "stream",
     "text": [
      "Epoch 97\tTrain Loss: 39.618  Val Loss: 40.803\n",
      "\n"
     ]
    },
    {
     "name": "stderr",
     "output_type": "stream",
     "text": [
      "train loss: 39.960: 100%|██████████| 7/7 [00:00<00:00, 12.33it/s]\n",
      "val loss: 40.922: 100%|██████████| 2/2 [00:00<00:00, 46.91it/s]\n"
     ]
    },
    {
     "name": "stdout",
     "output_type": "stream",
     "text": [
      "Epoch 98\tTrain Loss: 39.578  Val Loss: 40.766\n",
      "\n"
     ]
    },
    {
     "name": "stderr",
     "output_type": "stream",
     "text": [
      "train loss: 39.447: 100%|██████████| 7/7 [00:00<00:00, 12.24it/s]\n",
      "val loss: 40.963: 100%|██████████| 2/2 [00:00<00:00, 63.08it/s]\n"
     ]
    },
    {
     "name": "stdout",
     "output_type": "stream",
     "text": [
      "Epoch 99\tTrain Loss: 39.521  Val Loss: 40.803\n",
      "\n"
     ]
    },
    {
     "name": "stderr",
     "output_type": "stream",
     "text": [
      "train loss: 41.100: 100%|██████████| 7/7 [00:00<00:00, 12.28it/s]\n",
      "val loss: 40.952: 100%|██████████| 2/2 [00:00<00:00, 60.71it/s]\n"
     ]
    },
    {
     "name": "stdout",
     "output_type": "stream",
     "text": [
      "Epoch 100\tTrain Loss: 39.692  Val Loss: 40.799\n",
      "\n"
     ]
    },
    {
     "name": "stderr",
     "output_type": "stream",
     "text": [
      "train loss: 40.257: 100%|██████████| 7/7 [00:00<00:00, 12.53it/s]\n",
      "val loss: 40.956: 100%|██████████| 2/2 [00:00<00:00, 51.46it/s]\n"
     ]
    },
    {
     "name": "stdout",
     "output_type": "stream",
     "text": [
      "Epoch 101\tTrain Loss: 39.609  Val Loss: 40.820\n",
      "\n"
     ]
    },
    {
     "name": "stderr",
     "output_type": "stream",
     "text": [
      "train loss: 40.308: 100%|██████████| 7/7 [00:00<00:00, 12.48it/s]\n",
      "val loss: 40.992: 100%|██████████| 2/2 [00:00<00:00, 63.69it/s]\n"
     ]
    },
    {
     "name": "stdout",
     "output_type": "stream",
     "text": [
      "Epoch 102\tTrain Loss: 39.604  Val Loss: 40.832\n",
      "\n"
     ]
    },
    {
     "name": "stderr",
     "output_type": "stream",
     "text": [
      "train loss: 39.076: 100%|██████████| 7/7 [00:00<00:00, 11.97it/s]\n",
      "val loss: 40.934: 100%|██████████| 2/2 [00:00<00:00, 63.10it/s]\n"
     ]
    },
    {
     "name": "stdout",
     "output_type": "stream",
     "text": [
      "Epoch 103\tTrain Loss: 39.442  Val Loss: 40.790\n",
      "\n"
     ]
    },
    {
     "name": "stderr",
     "output_type": "stream",
     "text": [
      "train loss: 39.572: 100%|██████████| 7/7 [00:00<00:00, 11.97it/s]\n",
      "val loss: 40.973: 100%|██████████| 2/2 [00:00<00:00, 62.30it/s]\n"
     ]
    },
    {
     "name": "stdout",
     "output_type": "stream",
     "text": [
      "Epoch 104\tTrain Loss: 39.483  Val Loss: 40.817\n",
      "\n"
     ]
    },
    {
     "name": "stderr",
     "output_type": "stream",
     "text": [
      "train loss: 39.337: 100%|██████████| 7/7 [00:00<00:00, 12.19it/s]\n",
      "val loss: 40.970: 100%|██████████| 2/2 [00:00<00:00, 59.61it/s]\n"
     ]
    },
    {
     "name": "stdout",
     "output_type": "stream",
     "text": [
      "Epoch 105\tTrain Loss: 39.448  Val Loss: 40.829\n",
      "\n"
     ]
    },
    {
     "name": "stderr",
     "output_type": "stream",
     "text": [
      "train loss: 38.942: 100%|██████████| 7/7 [00:00<00:00, 12.37it/s]\n",
      "val loss: 40.958: 100%|██████████| 2/2 [00:00<00:00, 59.75it/s]\n"
     ]
    },
    {
     "name": "stdout",
     "output_type": "stream",
     "text": [
      "Epoch 106\tTrain Loss: 39.391  Val Loss: 40.803\n",
      "\n"
     ]
    },
    {
     "name": "stderr",
     "output_type": "stream",
     "text": [
      "train loss: 38.755: 100%|██████████| 7/7 [00:00<00:00, 11.51it/s]\n",
      "val loss: 40.976: 100%|██████████| 2/2 [00:00<00:00, 62.54it/s]\n"
     ]
    },
    {
     "name": "stdout",
     "output_type": "stream",
     "text": [
      "Epoch 107\tTrain Loss: 39.337  Val Loss: 40.828\n",
      "\n"
     ]
    },
    {
     "name": "stderr",
     "output_type": "stream",
     "text": [
      "train loss: 39.955: 100%|██████████| 7/7 [00:00<00:00, 11.96it/s]\n",
      "val loss: 40.981: 100%|██████████| 2/2 [00:00<00:00, 46.21it/s]\n"
     ]
    },
    {
     "name": "stdout",
     "output_type": "stream",
     "text": [
      "Epoch 108\tTrain Loss: 39.465  Val Loss: 40.821\n",
      "\n"
     ]
    },
    {
     "name": "stderr",
     "output_type": "stream",
     "text": [
      "train loss: 39.744: 100%|██████████| 7/7 [00:00<00:00, 11.93it/s]\n",
      "val loss: 40.984: 100%|██████████| 2/2 [00:00<00:00, 60.70it/s]\n"
     ]
    },
    {
     "name": "stdout",
     "output_type": "stream",
     "text": [
      "Epoch 109\tTrain Loss: 39.425  Val Loss: 40.825\n",
      "\n"
     ]
    },
    {
     "name": "stderr",
     "output_type": "stream",
     "text": [
      "train loss: 40.201: 100%|██████████| 7/7 [00:00<00:00, 12.12it/s]\n",
      "val loss: 40.949: 100%|██████████| 2/2 [00:00<00:00, 60.10it/s]\n"
     ]
    },
    {
     "name": "stdout",
     "output_type": "stream",
     "text": [
      "Epoch 110\tTrain Loss: 39.457  Val Loss: 40.808\n",
      "\n"
     ]
    },
    {
     "name": "stderr",
     "output_type": "stream",
     "text": [
      "train loss: 39.966: 100%|██████████| 7/7 [00:00<00:00, 11.59it/s]\n",
      "val loss: 40.981: 100%|██████████| 2/2 [00:00<00:00, 60.34it/s]\n"
     ]
    },
    {
     "name": "stdout",
     "output_type": "stream",
     "text": [
      "Epoch 111\tTrain Loss: 39.427  Val Loss: 40.830\n",
      "\n"
     ]
    },
    {
     "name": "stderr",
     "output_type": "stream",
     "text": [
      "train loss: 40.803: 100%|██████████| 7/7 [00:00<00:00, 11.85it/s]\n",
      "val loss: 40.983: 100%|██████████| 2/2 [00:00<00:00, 63.49it/s]\n"
     ]
    },
    {
     "name": "stdout",
     "output_type": "stream",
     "text": [
      "Epoch 112\tTrain Loss: 39.504  Val Loss: 40.832\n",
      "\n"
     ]
    },
    {
     "name": "stderr",
     "output_type": "stream",
     "text": [
      "train loss: 39.172: 100%|██████████| 7/7 [00:00<00:00, 11.49it/s]\n",
      "val loss: 41.016: 100%|██████████| 2/2 [00:00<00:00, 61.60it/s]\n"
     ]
    },
    {
     "name": "stdout",
     "output_type": "stream",
     "text": [
      "Epoch 113\tTrain Loss: 39.334  Val Loss: 40.852\n",
      "\n"
     ]
    },
    {
     "name": "stderr",
     "output_type": "stream",
     "text": [
      "train loss: 39.321: 100%|██████████| 7/7 [00:00<00:00, 12.07it/s]\n",
      "val loss: 40.977: 100%|██████████| 2/2 [00:00<00:00, 62.08it/s]\n"
     ]
    },
    {
     "name": "stdout",
     "output_type": "stream",
     "text": [
      "Epoch 114\tTrain Loss: 39.333  Val Loss: 40.827\n",
      "\n"
     ]
    },
    {
     "name": "stderr",
     "output_type": "stream",
     "text": [
      "train loss: 39.637: 100%|██████████| 7/7 [00:00<00:00, 11.75it/s]\n",
      "val loss: 41.053: 100%|██████████| 2/2 [00:00<00:00, 60.51it/s]\n"
     ]
    },
    {
     "name": "stdout",
     "output_type": "stream",
     "text": [
      "Epoch 115\tTrain Loss: 39.373  Val Loss: 40.905\n",
      "\n"
     ]
    },
    {
     "name": "stderr",
     "output_type": "stream",
     "text": [
      "train loss: 39.249: 100%|██████████| 7/7 [00:00<00:00, 12.39it/s]\n",
      "val loss: 41.025: 100%|██████████| 2/2 [00:00<00:00, 53.69it/s]\n"
     ]
    },
    {
     "name": "stdout",
     "output_type": "stream",
     "text": [
      "Epoch 116\tTrain Loss: 39.314  Val Loss: 40.862\n",
      "\n"
     ]
    },
    {
     "name": "stderr",
     "output_type": "stream",
     "text": [
      "train loss: 39.047: 100%|██████████| 7/7 [00:00<00:00, 12.00it/s]\n",
      "val loss: 41.059: 100%|██████████| 2/2 [00:00<00:00, 62.58it/s]\n"
     ]
    },
    {
     "name": "stdout",
     "output_type": "stream",
     "text": [
      "Epoch 117\tTrain Loss: 39.250  Val Loss: 40.894\n",
      "\n"
     ]
    },
    {
     "name": "stderr",
     "output_type": "stream",
     "text": [
      "train loss: 38.973: 100%|██████████| 7/7 [00:00<00:00, 12.47it/s]\n",
      "val loss: 41.015: 100%|██████████| 2/2 [00:00<00:00, 66.98it/s]\n"
     ]
    },
    {
     "name": "stdout",
     "output_type": "stream",
     "text": [
      "Epoch 118\tTrain Loss: 39.232  Val Loss: 40.861\n",
      "\n"
     ]
    },
    {
     "name": "stderr",
     "output_type": "stream",
     "text": [
      "train loss: 39.943: 100%|██████████| 7/7 [00:00<00:00, 11.88it/s]\n",
      "val loss: 41.017: 100%|██████████| 2/2 [00:00<00:00, 67.01it/s]\n"
     ]
    },
    {
     "name": "stdout",
     "output_type": "stream",
     "text": [
      "Epoch 119\tTrain Loss: 39.318  Val Loss: 40.863\n",
      "\n"
     ]
    },
    {
     "name": "stderr",
     "output_type": "stream",
     "text": [
      "train loss: 39.036: 100%|██████████| 7/7 [00:00<00:00, 12.44it/s]\n",
      "val loss: 41.013: 100%|██████████| 2/2 [00:00<00:00, 63.59it/s]\n"
     ]
    },
    {
     "name": "stdout",
     "output_type": "stream",
     "text": [
      "Epoch 120\tTrain Loss: 39.215  Val Loss: 40.855\n",
      "\n"
     ]
    },
    {
     "name": "stderr",
     "output_type": "stream",
     "text": [
      "train loss: 39.068: 100%|██████████| 7/7 [00:00<00:00, 12.28it/s]\n",
      "val loss: 41.062: 100%|██████████| 2/2 [00:00<00:00, 64.23it/s]\n"
     ]
    },
    {
     "name": "stdout",
     "output_type": "stream",
     "text": [
      "Epoch 121\tTrain Loss: 39.224  Val Loss: 40.902\n",
      "\n"
     ]
    },
    {
     "name": "stderr",
     "output_type": "stream",
     "text": [
      "train loss: 39.199: 100%|██████████| 7/7 [00:00<00:00, 12.48it/s]\n",
      "val loss: 41.027: 100%|██████████| 2/2 [00:00<00:00, 63.15it/s]\n"
     ]
    },
    {
     "name": "stdout",
     "output_type": "stream",
     "text": [
      "Epoch 122\tTrain Loss: 39.217  Val Loss: 40.863\n",
      "\n"
     ]
    },
    {
     "name": "stderr",
     "output_type": "stream",
     "text": [
      "train loss: 39.561: 100%|██████████| 7/7 [00:00<00:00, 12.43it/s]\n",
      "val loss: 41.036: 100%|██████████| 2/2 [00:00<00:00, 62.76it/s]\n"
     ]
    },
    {
     "name": "stdout",
     "output_type": "stream",
     "text": [
      "Epoch 123\tTrain Loss: 39.235  Val Loss: 40.881\n",
      "\n"
     ]
    },
    {
     "name": "stderr",
     "output_type": "stream",
     "text": [
      "train loss: 40.379: 100%|██████████| 7/7 [00:00<00:00, 12.36it/s]\n",
      "val loss: 41.048: 100%|██████████| 2/2 [00:00<00:00, 63.05it/s]\n"
     ]
    },
    {
     "name": "stdout",
     "output_type": "stream",
     "text": [
      "Epoch 124\tTrain Loss: 39.322  Val Loss: 40.886\n",
      "\n"
     ]
    },
    {
     "name": "stderr",
     "output_type": "stream",
     "text": [
      "train loss: 40.050: 100%|██████████| 7/7 [00:00<00:00, 12.38it/s]\n",
      "val loss: 41.042: 100%|██████████| 2/2 [00:00<00:00, 57.37it/s]\n"
     ]
    },
    {
     "name": "stdout",
     "output_type": "stream",
     "text": [
      "Epoch 125\tTrain Loss: 39.280  Val Loss: 40.876\n",
      "\n"
     ]
    },
    {
     "name": "stderr",
     "output_type": "stream",
     "text": [
      "train loss: 38.809: 100%|██████████| 7/7 [00:00<00:00, 12.21it/s]\n",
      "val loss: 41.072: 100%|██████████| 2/2 [00:00<00:00, 64.00it/s]\n"
     ]
    },
    {
     "name": "stdout",
     "output_type": "stream",
     "text": [
      "Epoch 126\tTrain Loss: 39.137  Val Loss: 40.904\n",
      "\n"
     ]
    },
    {
     "name": "stderr",
     "output_type": "stream",
     "text": [
      "train loss: 38.765: 100%|██████████| 7/7 [00:00<00:00, 12.31it/s]\n",
      "val loss: 41.062: 100%|██████████| 2/2 [00:00<00:00, 64.93it/s]\n"
     ]
    },
    {
     "name": "stdout",
     "output_type": "stream",
     "text": [
      "Epoch 127\tTrain Loss: 39.113  Val Loss: 40.893\n",
      "\n"
     ]
    },
    {
     "name": "stderr",
     "output_type": "stream",
     "text": [
      "train loss: 38.116: 100%|██████████| 7/7 [00:00<00:00, 12.41it/s]\n",
      "val loss: 41.063: 100%|██████████| 2/2 [00:00<00:00, 62.54it/s]\n"
     ]
    },
    {
     "name": "stdout",
     "output_type": "stream",
     "text": [
      "Epoch 128\tTrain Loss: 39.033  Val Loss: 40.902\n",
      "\n"
     ]
    },
    {
     "name": "stderr",
     "output_type": "stream",
     "text": [
      "train loss: 39.313: 100%|██████████| 7/7 [00:00<00:00, 12.14it/s]\n",
      "val loss: 41.069: 100%|██████████| 2/2 [00:00<00:00, 67.28it/s]\n"
     ]
    },
    {
     "name": "stdout",
     "output_type": "stream",
     "text": [
      "Epoch 129\tTrain Loss: 39.145  Val Loss: 40.898\n",
      "\n"
     ]
    },
    {
     "name": "stderr",
     "output_type": "stream",
     "text": [
      "train loss: 38.767: 100%|██████████| 7/7 [00:00<00:00, 12.47it/s]\n",
      "val loss: 41.099: 100%|██████████| 2/2 [00:00<00:00, 49.03it/s]\n"
     ]
    },
    {
     "name": "stdout",
     "output_type": "stream",
     "text": [
      "Epoch 130\tTrain Loss: 39.082  Val Loss: 40.928\n",
      "\n"
     ]
    },
    {
     "name": "stderr",
     "output_type": "stream",
     "text": [
      "train loss: 38.918: 100%|██████████| 7/7 [00:00<00:00, 12.36it/s]\n",
      "val loss: 41.060: 100%|██████████| 2/2 [00:00<00:00, 64.46it/s]\n"
     ]
    },
    {
     "name": "stdout",
     "output_type": "stream",
     "text": [
      "Epoch 131\tTrain Loss: 39.088  Val Loss: 40.901\n",
      "\n"
     ]
    },
    {
     "name": "stderr",
     "output_type": "stream",
     "text": [
      "train loss: 38.649: 100%|██████████| 7/7 [00:00<00:00, 12.41it/s]\n",
      "val loss: 41.084: 100%|██████████| 2/2 [00:00<00:00, 66.08it/s]\n"
     ]
    },
    {
     "name": "stdout",
     "output_type": "stream",
     "text": [
      "Epoch 132\tTrain Loss: 39.060  Val Loss: 40.915\n",
      "\n"
     ]
    },
    {
     "name": "stderr",
     "output_type": "stream",
     "text": [
      "train loss: 39.825: 100%|██████████| 7/7 [00:00<00:00, 12.37it/s]\n",
      "val loss: 41.073: 100%|██████████| 2/2 [00:00<00:00, 67.29it/s]\n"
     ]
    },
    {
     "name": "stdout",
     "output_type": "stream",
     "text": [
      "Epoch 133\tTrain Loss: 39.173  Val Loss: 40.903\n",
      "\n"
     ]
    },
    {
     "name": "stderr",
     "output_type": "stream",
     "text": [
      "train loss: 39.113: 100%|██████████| 7/7 [00:00<00:00, 12.52it/s]\n",
      "val loss: 41.126: 100%|██████████| 2/2 [00:00<00:00, 60.95it/s]\n"
     ]
    },
    {
     "name": "stdout",
     "output_type": "stream",
     "text": [
      "Epoch 134\tTrain Loss: 39.119  Val Loss: 40.963\n",
      "\n"
     ]
    },
    {
     "name": "stderr",
     "output_type": "stream",
     "text": [
      "train loss: 39.081: 100%|██████████| 7/7 [00:00<00:00, 12.52it/s]\n",
      "val loss: 41.158: 100%|██████████| 2/2 [00:00<00:00, 63.27it/s]\n"
     ]
    },
    {
     "name": "stdout",
     "output_type": "stream",
     "text": [
      "Epoch 135\tTrain Loss: 39.109  Val Loss: 40.977\n",
      "\n"
     ]
    },
    {
     "name": "stderr",
     "output_type": "stream",
     "text": [
      "train loss: 38.668: 100%|██████████| 7/7 [00:00<00:00, 12.40it/s]\n",
      "val loss: 41.159: 100%|██████████| 2/2 [00:00<00:00, 64.89it/s]\n"
     ]
    },
    {
     "name": "stdout",
     "output_type": "stream",
     "text": [
      "Epoch 136\tTrain Loss: 39.041  Val Loss: 40.986\n",
      "\n"
     ]
    },
    {
     "name": "stderr",
     "output_type": "stream",
     "text": [
      "train loss: 39.348: 100%|██████████| 7/7 [00:00<00:00, 11.90it/s]\n",
      "val loss: 41.111: 100%|██████████| 2/2 [00:00<00:00, 62.08it/s]\n"
     ]
    },
    {
     "name": "stdout",
     "output_type": "stream",
     "text": [
      "Epoch 137\tTrain Loss: 39.074  Val Loss: 40.938\n",
      "\n"
     ]
    },
    {
     "name": "stderr",
     "output_type": "stream",
     "text": [
      "train loss: 39.320: 100%|██████████| 7/7 [00:00<00:00, 12.43it/s]\n",
      "val loss: 41.111: 100%|██████████| 2/2 [00:00<00:00, 48.43it/s]\n"
     ]
    },
    {
     "name": "stdout",
     "output_type": "stream",
     "text": [
      "Epoch 138\tTrain Loss: 39.050  Val Loss: 40.934\n",
      "\n"
     ]
    },
    {
     "name": "stderr",
     "output_type": "stream",
     "text": [
      "train loss: 40.385: 100%|██████████| 7/7 [00:00<00:00, 11.79it/s]\n",
      "val loss: 41.128: 100%|██████████| 2/2 [00:00<00:00, 66.07it/s]\n"
     ]
    },
    {
     "name": "stdout",
     "output_type": "stream",
     "text": [
      "Epoch 139\tTrain Loss: 39.153  Val Loss: 40.957\n",
      "\n"
     ]
    },
    {
     "name": "stderr",
     "output_type": "stream",
     "text": [
      "train loss: 38.937: 100%|██████████| 7/7 [00:00<00:00, 12.31it/s]\n",
      "val loss: 41.117: 100%|██████████| 2/2 [00:00<00:00, 62.18it/s]\n"
     ]
    },
    {
     "name": "stdout",
     "output_type": "stream",
     "text": [
      "Epoch 140\tTrain Loss: 38.985  Val Loss: 40.934\n",
      "\n"
     ]
    },
    {
     "name": "stderr",
     "output_type": "stream",
     "text": [
      "train loss: 38.715: 100%|██████████| 7/7 [00:00<00:00, 12.20it/s]\n",
      "val loss: 41.152: 100%|██████████| 2/2 [00:00<00:00, 66.98it/s]\n"
     ]
    },
    {
     "name": "stdout",
     "output_type": "stream",
     "text": [
      "Epoch 141\tTrain Loss: 38.953  Val Loss: 40.971\n",
      "\n"
     ]
    },
    {
     "name": "stderr",
     "output_type": "stream",
     "text": [
      "train loss: 38.723: 100%|██████████| 7/7 [00:00<00:00, 12.32it/s]\n",
      "val loss: 41.161: 100%|██████████| 2/2 [00:00<00:00, 63.96it/s]\n"
     ]
    },
    {
     "name": "stdout",
     "output_type": "stream",
     "text": [
      "Epoch 142\tTrain Loss: 38.951  Val Loss: 40.986\n",
      "\n"
     ]
    },
    {
     "name": "stderr",
     "output_type": "stream",
     "text": [
      "train loss: 39.044: 100%|██████████| 7/7 [00:00<00:00, 11.75it/s]\n",
      "val loss: 41.202: 100%|██████████| 2/2 [00:00<00:00, 65.82it/s]\n"
     ]
    },
    {
     "name": "stdout",
     "output_type": "stream",
     "text": [
      "Epoch 143\tTrain Loss: 39.002  Val Loss: 41.025\n",
      "\n"
     ]
    },
    {
     "name": "stderr",
     "output_type": "stream",
     "text": [
      "train loss: 39.064: 100%|██████████| 7/7 [00:00<00:00, 12.17it/s]\n",
      "val loss: 41.191: 100%|██████████| 2/2 [00:00<00:00, 61.69it/s]\n"
     ]
    },
    {
     "name": "stdout",
     "output_type": "stream",
     "text": [
      "Epoch 144\tTrain Loss: 38.996  Val Loss: 41.004\n",
      "\n"
     ]
    },
    {
     "name": "stderr",
     "output_type": "stream",
     "text": [
      "train loss: 38.668: 100%|██████████| 7/7 [00:00<00:00, 12.46it/s]\n",
      "val loss: 41.200: 100%|██████████| 2/2 [00:00<00:00, 50.73it/s]\n"
     ]
    },
    {
     "name": "stdout",
     "output_type": "stream",
     "text": [
      "Epoch 145\tTrain Loss: 38.930  Val Loss: 41.028\n",
      "\n"
     ]
    },
    {
     "name": "stderr",
     "output_type": "stream",
     "text": [
      "train loss: 38.787: 100%|██████████| 7/7 [00:00<00:00, 12.26it/s]\n",
      "val loss: 41.171: 100%|██████████| 2/2 [00:00<00:00, 53.50it/s]\n"
     ]
    },
    {
     "name": "stdout",
     "output_type": "stream",
     "text": [
      "Epoch 146\tTrain Loss: 38.912  Val Loss: 40.994\n",
      "\n"
     ]
    },
    {
     "name": "stderr",
     "output_type": "stream",
     "text": [
      "train loss: 37.688: 100%|██████████| 7/7 [00:00<00:00, 12.26it/s]\n",
      "val loss: 41.168: 100%|██████████| 2/2 [00:00<00:00, 64.84it/s]\n"
     ]
    },
    {
     "name": "stdout",
     "output_type": "stream",
     "text": [
      "Epoch 147\tTrain Loss: 38.768  Val Loss: 40.992\n",
      "\n"
     ]
    },
    {
     "name": "stderr",
     "output_type": "stream",
     "text": [
      "train loss: 38.363: 100%|██████████| 7/7 [00:00<00:00, 12.45it/s]\n",
      "val loss: 41.195: 100%|██████████| 2/2 [00:00<00:00, 61.11it/s]\n"
     ]
    },
    {
     "name": "stdout",
     "output_type": "stream",
     "text": [
      "Epoch 148\tTrain Loss: 38.838  Val Loss: 41.002\n",
      "\n"
     ]
    },
    {
     "name": "stderr",
     "output_type": "stream",
     "text": [
      "train loss: 39.133: 100%|██████████| 7/7 [00:00<00:00, 11.83it/s]\n",
      "val loss: 41.179: 100%|██████████| 2/2 [00:00<00:00, 62.84it/s]\n"
     ]
    },
    {
     "name": "stdout",
     "output_type": "stream",
     "text": [
      "Epoch 149\tTrain Loss: 38.917  Val Loss: 40.990\n",
      "\n"
     ]
    },
    {
     "name": "stderr",
     "output_type": "stream",
     "text": [
      "train loss: 39.283: 100%|██████████| 7/7 [00:00<00:00, 12.33it/s]\n",
      "val loss: 41.190: 100%|██████████| 2/2 [00:00<00:00, 43.12it/s]\n"
     ]
    },
    {
     "name": "stdout",
     "output_type": "stream",
     "text": [
      "Epoch 150\tTrain Loss: 38.923  Val Loss: 41.002\n",
      "\n"
     ]
    },
    {
     "name": "stderr",
     "output_type": "stream",
     "text": [
      "train loss: 39.175: 100%|██████████| 7/7 [00:00<00:00, 11.99it/s]\n",
      "val loss: 41.227: 100%|██████████| 2/2 [00:00<00:00, 62.83it/s]\n"
     ]
    },
    {
     "name": "stdout",
     "output_type": "stream",
     "text": [
      "Epoch 151\tTrain Loss: 38.911  Val Loss: 41.047\n",
      "\n"
     ]
    },
    {
     "name": "stderr",
     "output_type": "stream",
     "text": [
      "train loss: 39.478: 100%|██████████| 7/7 [00:00<00:00, 12.39it/s]\n",
      "val loss: 41.282: 100%|██████████| 2/2 [00:00<00:00, 55.57it/s]\n"
     ]
    },
    {
     "name": "stdout",
     "output_type": "stream",
     "text": [
      "Epoch 152\tTrain Loss: 38.971  Val Loss: 41.097\n",
      "\n"
     ]
    },
    {
     "name": "stderr",
     "output_type": "stream",
     "text": [
      "train loss: 39.606: 100%|██████████| 7/7 [00:00<00:00, 12.15it/s]\n",
      "val loss: 41.210: 100%|██████████| 2/2 [00:00<00:00, 66.90it/s]\n"
     ]
    },
    {
     "name": "stdout",
     "output_type": "stream",
     "text": [
      "Epoch 153\tTrain Loss: 38.954  Val Loss: 41.023\n",
      "\n"
     ]
    },
    {
     "name": "stderr",
     "output_type": "stream",
     "text": [
      "train loss: 39.676: 100%|██████████| 7/7 [00:00<00:00, 12.38it/s]\n",
      "val loss: 41.224: 100%|██████████| 2/2 [00:00<00:00, 59.29it/s]\n"
     ]
    },
    {
     "name": "stdout",
     "output_type": "stream",
     "text": [
      "Epoch 154\tTrain Loss: 38.915  Val Loss: 41.049\n",
      "\n"
     ]
    },
    {
     "name": "stderr",
     "output_type": "stream",
     "text": [
      "train loss: 38.404: 100%|██████████| 7/7 [00:00<00:00, 12.37it/s]\n",
      "val loss: 41.227: 100%|██████████| 2/2 [00:00<00:00, 64.34it/s]\n"
     ]
    },
    {
     "name": "stdout",
     "output_type": "stream",
     "text": [
      "Epoch 155\tTrain Loss: 38.751  Val Loss: 41.028\n",
      "\n"
     ]
    },
    {
     "name": "stderr",
     "output_type": "stream",
     "text": [
      "train loss: 38.890: 100%|██████████| 7/7 [00:00<00:00, 12.41it/s]\n",
      "val loss: 41.219: 100%|██████████| 2/2 [00:00<00:00, 67.13it/s]\n"
     ]
    },
    {
     "name": "stdout",
     "output_type": "stream",
     "text": [
      "Epoch 156\tTrain Loss: 38.778  Val Loss: 41.025\n",
      "\n"
     ]
    },
    {
     "name": "stderr",
     "output_type": "stream",
     "text": [
      "train loss: 38.592: 100%|██████████| 7/7 [00:00<00:00, 12.10it/s]\n",
      "val loss: 41.223: 100%|██████████| 2/2 [00:00<00:00, 65.22it/s]\n"
     ]
    },
    {
     "name": "stdout",
     "output_type": "stream",
     "text": [
      "Epoch 157\tTrain Loss: 38.748  Val Loss: 41.026\n",
      "\n"
     ]
    },
    {
     "name": "stderr",
     "output_type": "stream",
     "text": [
      "train loss: 38.905: 100%|██████████| 7/7 [00:00<00:00, 12.30it/s]\n",
      "val loss: 41.282: 100%|██████████| 2/2 [00:00<00:00, 69.58it/s]\n"
     ]
    },
    {
     "name": "stdout",
     "output_type": "stream",
     "text": [
      "Epoch 158\tTrain Loss: 38.768  Val Loss: 41.074\n",
      "\n"
     ]
    },
    {
     "name": "stderr",
     "output_type": "stream",
     "text": [
      "train loss: 38.988: 100%|██████████| 7/7 [00:00<00:00, 12.77it/s]\n",
      "val loss: 41.255: 100%|██████████| 2/2 [00:00<00:00, 68.37it/s]\n"
     ]
    },
    {
     "name": "stdout",
     "output_type": "stream",
     "text": [
      "Epoch 159\tTrain Loss: 38.760  Val Loss: 41.054\n",
      "\n"
     ]
    },
    {
     "name": "stderr",
     "output_type": "stream",
     "text": [
      "train loss: 38.729: 100%|██████████| 7/7 [00:00<00:00, 13.26it/s]\n",
      "val loss: 41.229: 100%|██████████| 2/2 [00:00<00:00, 63.18it/s]\n"
     ]
    },
    {
     "name": "stdout",
     "output_type": "stream",
     "text": [
      "Epoch 160\tTrain Loss: 38.687  Val Loss: 41.046\n",
      "\n"
     ]
    },
    {
     "name": "stderr",
     "output_type": "stream",
     "text": [
      "train loss: 36.810: 100%|██████████| 7/7 [00:00<00:00, 12.70it/s]\n",
      "val loss: 41.258: 100%|██████████| 2/2 [00:00<00:00, 68.59it/s]\n"
     ]
    },
    {
     "name": "stdout",
     "output_type": "stream",
     "text": [
      "Epoch 161\tTrain Loss: 38.489  Val Loss: 41.055\n",
      "\n"
     ]
    },
    {
     "name": "stderr",
     "output_type": "stream",
     "text": [
      "train loss: 38.621: 100%|██████████| 7/7 [00:00<00:00, 13.15it/s]\n",
      "val loss: 41.228: 100%|██████████| 2/2 [00:00<00:00, 68.90it/s]\n"
     ]
    },
    {
     "name": "stdout",
     "output_type": "stream",
     "text": [
      "Epoch 162\tTrain Loss: 38.648  Val Loss: 41.020\n",
      "\n"
     ]
    },
    {
     "name": "stderr",
     "output_type": "stream",
     "text": [
      "train loss: 39.440: 100%|██████████| 7/7 [00:00<00:00, 13.25it/s]\n",
      "val loss: 41.235: 100%|██████████| 2/2 [00:00<00:00, 68.67it/s]\n"
     ]
    },
    {
     "name": "stdout",
     "output_type": "stream",
     "text": [
      "Epoch 163\tTrain Loss: 38.702  Val Loss: 41.029\n",
      "\n"
     ]
    },
    {
     "name": "stderr",
     "output_type": "stream",
     "text": [
      "train loss: 39.227: 100%|██████████| 7/7 [00:00<00:00, 12.74it/s]\n",
      "val loss: 41.206: 100%|██████████| 2/2 [00:00<00:00, 69.38it/s]\n"
     ]
    },
    {
     "name": "stdout",
     "output_type": "stream",
     "text": [
      "Epoch 164\tTrain Loss: 38.656  Val Loss: 41.005\n",
      "\n"
     ]
    },
    {
     "name": "stderr",
     "output_type": "stream",
     "text": [
      "train loss: 37.685: 100%|██████████| 7/7 [00:00<00:00, 13.28it/s]\n",
      "val loss: 41.207: 100%|██████████| 2/2 [00:00<00:00, 51.39it/s]\n"
     ]
    },
    {
     "name": "stdout",
     "output_type": "stream",
     "text": [
      "Epoch 165\tTrain Loss: 38.449  Val Loss: 41.016\n",
      "\n"
     ]
    },
    {
     "name": "stderr",
     "output_type": "stream",
     "text": [
      "train loss: 38.772: 100%|██████████| 7/7 [00:00<00:00, 13.19it/s]\n",
      "val loss: 41.166: 100%|██████████| 2/2 [00:00<00:00, 69.91it/s]\n"
     ]
    },
    {
     "name": "stdout",
     "output_type": "stream",
     "text": [
      "Epoch 166\tTrain Loss: 38.537  Val Loss: 40.974\n",
      "\n"
     ]
    },
    {
     "name": "stderr",
     "output_type": "stream",
     "text": [
      "train loss: 38.822: 100%|██████████| 7/7 [00:00<00:00, 13.31it/s]\n",
      "val loss: 41.162: 100%|██████████| 2/2 [00:00<00:00, 67.36it/s]\n"
     ]
    },
    {
     "name": "stdout",
     "output_type": "stream",
     "text": [
      "Epoch 167\tTrain Loss: 38.513  Val Loss: 40.952\n",
      "\n"
     ]
    },
    {
     "name": "stderr",
     "output_type": "stream",
     "text": [
      "train loss: 40.097: 100%|██████████| 7/7 [00:00<00:00, 13.29it/s]\n",
      "val loss: 41.160: 100%|██████████| 2/2 [00:00<00:00, 62.93it/s]\n"
     ]
    },
    {
     "name": "stdout",
     "output_type": "stream",
     "text": [
      "Epoch 168\tTrain Loss: 38.624  Val Loss: 40.952\n",
      "\n"
     ]
    },
    {
     "name": "stderr",
     "output_type": "stream",
     "text": [
      "train loss: 38.240: 100%|██████████| 7/7 [00:00<00:00, 13.29it/s]\n",
      "val loss: 41.161: 100%|██████████| 2/2 [00:00<00:00, 68.40it/s]\n"
     ]
    },
    {
     "name": "stdout",
     "output_type": "stream",
     "text": [
      "Epoch 169\tTrain Loss: 38.412  Val Loss: 40.959\n",
      "\n"
     ]
    },
    {
     "name": "stderr",
     "output_type": "stream",
     "text": [
      "train loss: 38.049: 100%|██████████| 7/7 [00:00<00:00, 12.99it/s]\n",
      "val loss: 41.154: 100%|██████████| 2/2 [00:00<00:00, 69.03it/s]\n"
     ]
    },
    {
     "name": "stdout",
     "output_type": "stream",
     "text": [
      "Epoch 170\tTrain Loss: 38.369  Val Loss: 40.941\n",
      "\n"
     ]
    },
    {
     "name": "stderr",
     "output_type": "stream",
     "text": [
      "train loss: 39.357: 100%|██████████| 7/7 [00:00<00:00, 13.25it/s]\n",
      "val loss: 41.135: 100%|██████████| 2/2 [00:00<00:00, 58.79it/s]\n"
     ]
    },
    {
     "name": "stdout",
     "output_type": "stream",
     "text": [
      "Epoch 171\tTrain Loss: 38.499  Val Loss: 40.928\n",
      "\n"
     ]
    },
    {
     "name": "stderr",
     "output_type": "stream",
     "text": [
      "train loss: 39.011: 100%|██████████| 7/7 [00:00<00:00, 12.74it/s]\n",
      "val loss: 41.132: 100%|██████████| 2/2 [00:00<00:00, 68.52it/s]\n"
     ]
    },
    {
     "name": "stdout",
     "output_type": "stream",
     "text": [
      "Epoch 172\tTrain Loss: 38.447  Val Loss: 40.915\n",
      "\n"
     ]
    },
    {
     "name": "stderr",
     "output_type": "stream",
     "text": [
      "train loss: 38.893: 100%|██████████| 7/7 [00:00<00:00, 13.18it/s]\n",
      "val loss: 41.134: 100%|██████████| 2/2 [00:00<00:00, 53.69it/s]\n"
     ]
    },
    {
     "name": "stdout",
     "output_type": "stream",
     "text": [
      "Epoch 173\tTrain Loss: 38.398  Val Loss: 40.930\n",
      "\n"
     ]
    },
    {
     "name": "stderr",
     "output_type": "stream",
     "text": [
      "train loss: 36.835: 100%|██████████| 7/7 [00:00<00:00, 12.96it/s]\n",
      "val loss: 41.136: 100%|██████████| 2/2 [00:00<00:00, 69.42it/s]\n"
     ]
    },
    {
     "name": "stdout",
     "output_type": "stream",
     "text": [
      "Epoch 174\tTrain Loss: 38.152  Val Loss: 40.907\n",
      "\n"
     ]
    },
    {
     "name": "stderr",
     "output_type": "stream",
     "text": [
      "train loss: 38.172: 100%|██████████| 7/7 [00:00<00:00, 12.93it/s]\n",
      "val loss: 41.126: 100%|██████████| 2/2 [00:00<00:00, 67.27it/s]\n"
     ]
    },
    {
     "name": "stdout",
     "output_type": "stream",
     "text": [
      "Epoch 175\tTrain Loss: 38.259  Val Loss: 40.898\n",
      "\n"
     ]
    },
    {
     "name": "stderr",
     "output_type": "stream",
     "text": [
      "train loss: 38.004: 100%|██████████| 7/7 [00:00<00:00, 13.27it/s]\n",
      "val loss: 41.130: 100%|██████████| 2/2 [00:00<00:00, 57.88it/s]\n"
     ]
    },
    {
     "name": "stdout",
     "output_type": "stream",
     "text": [
      "Epoch 176\tTrain Loss: 38.220  Val Loss: 40.897\n",
      "\n"
     ]
    },
    {
     "name": "stderr",
     "output_type": "stream",
     "text": [
      "train loss: 38.943: 100%|██████████| 7/7 [00:00<00:00, 12.89it/s]\n",
      "val loss: 41.105: 100%|██████████| 2/2 [00:00<00:00, 69.02it/s]\n"
     ]
    },
    {
     "name": "stdout",
     "output_type": "stream",
     "text": [
      "Epoch 177\tTrain Loss: 38.308  Val Loss: 40.877\n",
      "\n"
     ]
    },
    {
     "name": "stderr",
     "output_type": "stream",
     "text": [
      "train loss: 38.375: 100%|██████████| 7/7 [00:00<00:00, 13.28it/s]\n",
      "val loss: 41.105: 100%|██████████| 2/2 [00:00<00:00, 54.69it/s]\n"
     ]
    },
    {
     "name": "stdout",
     "output_type": "stream",
     "text": [
      "Epoch 178\tTrain Loss: 38.236  Val Loss: 40.883\n",
      "\n"
     ]
    },
    {
     "name": "stderr",
     "output_type": "stream",
     "text": [
      "train loss: 37.443: 100%|██████████| 7/7 [00:00<00:00, 12.60it/s]\n",
      "val loss: 41.132: 100%|██████████| 2/2 [00:00<00:00, 68.75it/s]\n"
     ]
    },
    {
     "name": "stdout",
     "output_type": "stream",
     "text": [
      "Epoch 179\tTrain Loss: 38.119  Val Loss: 40.907\n",
      "\n"
     ]
    },
    {
     "name": "stderr",
     "output_type": "stream",
     "text": [
      "train loss: 37.872: 100%|██████████| 7/7 [00:00<00:00, 13.35it/s]\n",
      "val loss: 41.091: 100%|██████████| 2/2 [00:00<00:00, 49.63it/s]\n"
     ]
    },
    {
     "name": "stdout",
     "output_type": "stream",
     "text": [
      "Epoch 180\tTrain Loss: 38.136  Val Loss: 40.860\n",
      "\n"
     ]
    },
    {
     "name": "stderr",
     "output_type": "stream",
     "text": [
      "train loss: 38.435: 100%|██████████| 7/7 [00:00<00:00, 13.18it/s]\n",
      "val loss: 41.085: 100%|██████████| 2/2 [00:00<00:00, 68.84it/s]\n"
     ]
    },
    {
     "name": "stdout",
     "output_type": "stream",
     "text": [
      "Epoch 181\tTrain Loss: 38.183  Val Loss: 40.838\n",
      "\n"
     ]
    },
    {
     "name": "stderr",
     "output_type": "stream",
     "text": [
      "train loss: 38.391: 100%|██████████| 7/7 [00:00<00:00, 13.26it/s]\n",
      "val loss: 41.154: 100%|██████████| 2/2 [00:00<00:00, 67.55it/s]\n"
     ]
    },
    {
     "name": "stdout",
     "output_type": "stream",
     "text": [
      "Epoch 182\tTrain Loss: 38.169  Val Loss: 40.912\n",
      "\n"
     ]
    },
    {
     "name": "stderr",
     "output_type": "stream",
     "text": [
      "train loss: 37.170: 100%|██████████| 7/7 [00:00<00:00, 12.60it/s]\n",
      "val loss: 41.094: 100%|██████████| 2/2 [00:00<00:00, 67.96it/s]\n"
     ]
    },
    {
     "name": "stdout",
     "output_type": "stream",
     "text": [
      "Epoch 183\tTrain Loss: 38.009  Val Loss: 40.862\n",
      "\n"
     ]
    },
    {
     "name": "stderr",
     "output_type": "stream",
     "text": [
      "train loss: 38.273: 100%|██████████| 7/7 [00:00<00:00, 13.28it/s]\n",
      "val loss: 41.089: 100%|██████████| 2/2 [00:00<00:00, 48.67it/s]\n"
     ]
    },
    {
     "name": "stdout",
     "output_type": "stream",
     "text": [
      "Epoch 184\tTrain Loss: 38.077  Val Loss: 40.860\n",
      "\n"
     ]
    },
    {
     "name": "stderr",
     "output_type": "stream",
     "text": [
      "train loss: 38.319: 100%|██████████| 7/7 [00:00<00:00, 13.18it/s]\n",
      "val loss: 41.064: 100%|██████████| 2/2 [00:00<00:00, 68.56it/s]\n"
     ]
    },
    {
     "name": "stdout",
     "output_type": "stream",
     "text": [
      "Epoch 185\tTrain Loss: 38.053  Val Loss: 40.823\n",
      "\n"
     ]
    },
    {
     "name": "stderr",
     "output_type": "stream",
     "text": [
      "train loss: 38.466: 100%|██████████| 7/7 [00:00<00:00, 13.28it/s]\n",
      "val loss: 41.070: 100%|██████████| 2/2 [00:00<00:00, 62.45it/s]\n"
     ]
    },
    {
     "name": "stdout",
     "output_type": "stream",
     "text": [
      "Epoch 186\tTrain Loss: 38.054  Val Loss: 40.821\n",
      "\n"
     ]
    },
    {
     "name": "stderr",
     "output_type": "stream",
     "text": [
      "train loss: 36.911: 100%|██████████| 7/7 [00:00<00:00, 13.32it/s]\n",
      "val loss: 41.087: 100%|██████████| 2/2 [00:00<00:00, 69.52it/s]\n"
     ]
    },
    {
     "name": "stdout",
     "output_type": "stream",
     "text": [
      "Epoch 187\tTrain Loss: 37.883  Val Loss: 40.842\n",
      "\n"
     ]
    },
    {
     "name": "stderr",
     "output_type": "stream",
     "text": [
      "train loss: 37.675: 100%|██████████| 7/7 [00:00<00:00, 12.30it/s]\n",
      "val loss: 41.086: 100%|██████████| 2/2 [00:00<00:00, 64.24it/s]\n"
     ]
    },
    {
     "name": "stdout",
     "output_type": "stream",
     "text": [
      "Epoch 188\tTrain Loss: 37.957  Val Loss: 40.844\n",
      "\n"
     ]
    },
    {
     "name": "stderr",
     "output_type": "stream",
     "text": [
      "train loss: 37.924: 100%|██████████| 7/7 [00:00<00:00, 12.64it/s]\n",
      "val loss: 41.086: 100%|██████████| 2/2 [00:00<00:00, 67.98it/s]\n"
     ]
    },
    {
     "name": "stdout",
     "output_type": "stream",
     "text": [
      "Epoch 189\tTrain Loss: 37.967  Val Loss: 40.838\n",
      "\n"
     ]
    },
    {
     "name": "stderr",
     "output_type": "stream",
     "text": [
      "train loss: 38.233: 100%|██████████| 7/7 [00:00<00:00, 12.19it/s]\n",
      "val loss: 41.144: 100%|██████████| 2/2 [00:00<00:00, 67.76it/s]\n"
     ]
    },
    {
     "name": "stdout",
     "output_type": "stream",
     "text": [
      "Epoch 190\tTrain Loss: 37.992  Val Loss: 40.881\n",
      "\n"
     ]
    },
    {
     "name": "stderr",
     "output_type": "stream",
     "text": [
      "train loss: 37.638: 100%|██████████| 7/7 [00:00<00:00, 12.50it/s]\n",
      "val loss: 41.085: 100%|██████████| 2/2 [00:00<00:00, 57.22it/s]\n"
     ]
    },
    {
     "name": "stdout",
     "output_type": "stream",
     "text": [
      "Epoch 191\tTrain Loss: 37.908  Val Loss: 40.831\n",
      "\n"
     ]
    },
    {
     "name": "stderr",
     "output_type": "stream",
     "text": [
      "train loss: 38.675: 100%|██████████| 7/7 [00:00<00:00, 12.23it/s]\n",
      "val loss: 41.107: 100%|██████████| 2/2 [00:00<00:00, 62.70it/s]\n"
     ]
    },
    {
     "name": "stdout",
     "output_type": "stream",
     "text": [
      "Epoch 192\tTrain Loss: 38.010  Val Loss: 40.853\n",
      "\n"
     ]
    },
    {
     "name": "stderr",
     "output_type": "stream",
     "text": [
      "train loss: 37.976: 100%|██████████| 7/7 [00:00<00:00, 11.96it/s]\n",
      "val loss: 41.190: 100%|██████████| 2/2 [00:00<00:00, 53.37it/s]\n"
     ]
    },
    {
     "name": "stdout",
     "output_type": "stream",
     "text": [
      "Epoch 193\tTrain Loss: 37.925  Val Loss: 40.927\n",
      "\n"
     ]
    },
    {
     "name": "stderr",
     "output_type": "stream",
     "text": [
      "train loss: 36.647: 100%|██████████| 7/7 [00:00<00:00, 12.55it/s]\n",
      "val loss: 41.103: 100%|██████████| 2/2 [00:00<00:00, 67.38it/s]\n"
     ]
    },
    {
     "name": "stdout",
     "output_type": "stream",
     "text": [
      "Epoch 194\tTrain Loss: 37.762  Val Loss: 40.846\n",
      "\n"
     ]
    },
    {
     "name": "stderr",
     "output_type": "stream",
     "text": [
      "train loss: 37.574: 100%|██████████| 7/7 [00:00<00:00, 11.14it/s]\n",
      "val loss: 41.119: 100%|██████████| 2/2 [00:00<00:00, 59.89it/s]\n"
     ]
    },
    {
     "name": "stdout",
     "output_type": "stream",
     "text": [
      "Epoch 195\tTrain Loss: 37.838  Val Loss: 40.859\n",
      "\n"
     ]
    },
    {
     "name": "stderr",
     "output_type": "stream",
     "text": [
      "train loss: 38.902: 100%|██████████| 7/7 [00:00<00:00, 12.82it/s]\n",
      "val loss: 41.178: 100%|██████████| 2/2 [00:00<00:00, 47.38it/s]\n"
     ]
    },
    {
     "name": "stdout",
     "output_type": "stream",
     "text": [
      "Epoch 196\tTrain Loss: 37.991  Val Loss: 40.934\n",
      "\n"
     ]
    },
    {
     "name": "stderr",
     "output_type": "stream",
     "text": [
      "train loss: 37.720: 100%|██████████| 7/7 [00:00<00:00, 11.87it/s]\n",
      "val loss: 41.121: 100%|██████████| 2/2 [00:00<00:00, 61.49it/s]\n"
     ]
    },
    {
     "name": "stdout",
     "output_type": "stream",
     "text": [
      "Epoch 197\tTrain Loss: 37.869  Val Loss: 40.860\n",
      "\n"
     ]
    },
    {
     "name": "stderr",
     "output_type": "stream",
     "text": [
      "train loss: 38.169: 100%|██████████| 7/7 [00:00<00:00, 12.12it/s]\n",
      "val loss: 41.163: 100%|██████████| 2/2 [00:00<00:00, 42.93it/s]\n"
     ]
    },
    {
     "name": "stdout",
     "output_type": "stream",
     "text": [
      "Epoch 198\tTrain Loss: 37.913  Val Loss: 40.897\n",
      "\n"
     ]
    },
    {
     "name": "stderr",
     "output_type": "stream",
     "text": [
      "train loss: 37.774: 100%|██████████| 7/7 [00:00<00:00, 11.98it/s]\n",
      "val loss: 41.186: 100%|██████████| 2/2 [00:00<00:00, 59.57it/s]\n"
     ]
    },
    {
     "name": "stdout",
     "output_type": "stream",
     "text": [
      "Epoch 199\tTrain Loss: 37.833  Val Loss: 40.905\n",
      "\n"
     ]
    },
    {
     "name": "stderr",
     "output_type": "stream",
     "text": [
      "train loss: 36.658: 100%|██████████| 7/7 [00:00<00:00, 12.07it/s]\n",
      "val loss: 41.180: 100%|██████████| 2/2 [00:00<00:00, 62.61it/s]\n"
     ]
    },
    {
     "name": "stdout",
     "output_type": "stream",
     "text": [
      "Epoch 200\tTrain Loss: 37.703  Val Loss: 40.906\n",
      "\n"
     ]
    },
    {
     "name": "stderr",
     "output_type": "stream",
     "text": [
      "train loss: 37.800: 100%|██████████| 7/7 [00:00<00:00, 12.11it/s]\n",
      "val loss: 41.182: 100%|██████████| 2/2 [00:00<00:00, 63.60it/s]\n"
     ]
    },
    {
     "name": "stdout",
     "output_type": "stream",
     "text": [
      "Epoch 201\tTrain Loss: 37.789  Val Loss: 40.932\n",
      "\n"
     ]
    },
    {
     "name": "stderr",
     "output_type": "stream",
     "text": [
      "train loss: 36.918: 100%|██████████| 7/7 [00:00<00:00, 11.65it/s]\n",
      "val loss: 41.285: 100%|██████████| 2/2 [00:00<00:00, 63.32it/s]\n"
     ]
    },
    {
     "name": "stdout",
     "output_type": "stream",
     "text": [
      "Epoch 202\tTrain Loss: 37.723  Val Loss: 41.025\n",
      "\n"
     ]
    },
    {
     "name": "stderr",
     "output_type": "stream",
     "text": [
      "train loss: 38.688: 100%|██████████| 7/7 [00:00<00:00, 11.51it/s]\n",
      "val loss: 41.423: 100%|██████████| 2/2 [00:00<00:00, 63.13it/s]\n"
     ]
    },
    {
     "name": "stdout",
     "output_type": "stream",
     "text": [
      "Epoch 203\tTrain Loss: 37.933  Val Loss: 41.144\n",
      "\n"
     ]
    },
    {
     "name": "stderr",
     "output_type": "stream",
     "text": [
      "train loss: 38.502: 100%|██████████| 7/7 [00:00<00:00, 12.04it/s]\n",
      "val loss: 41.263: 100%|██████████| 2/2 [00:00<00:00, 43.74it/s]\n"
     ]
    },
    {
     "name": "stdout",
     "output_type": "stream",
     "text": [
      "Epoch 204\tTrain Loss: 37.915  Val Loss: 40.977\n",
      "\n"
     ]
    },
    {
     "name": "stderr",
     "output_type": "stream",
     "text": [
      "train loss: 37.983: 100%|██████████| 7/7 [00:00<00:00, 11.54it/s]\n",
      "val loss: 41.149: 100%|██████████| 2/2 [00:00<00:00, 64.06it/s]\n"
     ]
    },
    {
     "name": "stdout",
     "output_type": "stream",
     "text": [
      "Epoch 205\tTrain Loss: 37.801  Val Loss: 40.903\n",
      "\n"
     ]
    },
    {
     "name": "stderr",
     "output_type": "stream",
     "text": [
      "train loss: 37.372: 100%|██████████| 7/7 [00:00<00:00, 12.06it/s]\n",
      "val loss: 41.199: 100%|██████████| 2/2 [00:00<00:00, 49.29it/s]\n"
     ]
    },
    {
     "name": "stdout",
     "output_type": "stream",
     "text": [
      "Epoch 206\tTrain Loss: 37.708  Val Loss: 40.930\n",
      "\n"
     ]
    },
    {
     "name": "stderr",
     "output_type": "stream",
     "text": [
      "train loss: 37.970: 100%|██████████| 7/7 [00:00<00:00, 11.90it/s]\n",
      "val loss: 41.249: 100%|██████████| 2/2 [00:00<00:00, 62.85it/s]\n"
     ]
    },
    {
     "name": "stdout",
     "output_type": "stream",
     "text": [
      "Epoch 207\tTrain Loss: 37.788  Val Loss: 40.978\n",
      "\n"
     ]
    },
    {
     "name": "stderr",
     "output_type": "stream",
     "text": [
      "train loss: 37.547: 100%|██████████| 7/7 [00:00<00:00, 12.05it/s]\n",
      "val loss: 41.217: 100%|██████████| 2/2 [00:00<00:00, 63.40it/s]\n"
     ]
    },
    {
     "name": "stdout",
     "output_type": "stream",
     "text": [
      "Epoch 208\tTrain Loss: 37.719  Val Loss: 40.937\n",
      "\n"
     ]
    },
    {
     "name": "stderr",
     "output_type": "stream",
     "text": [
      "train loss: 38.143: 100%|██████████| 7/7 [00:00<00:00, 11.94it/s]\n",
      "val loss: 41.211: 100%|██████████| 2/2 [00:00<00:00, 63.33it/s]\n"
     ]
    },
    {
     "name": "stdout",
     "output_type": "stream",
     "text": [
      "Epoch 209\tTrain Loss: 37.735  Val Loss: 40.920\n",
      "\n"
     ]
    },
    {
     "name": "stderr",
     "output_type": "stream",
     "text": [
      "train loss: 37.867: 100%|██████████| 7/7 [00:00<00:00, 11.75it/s]\n",
      "val loss: 41.217: 100%|██████████| 2/2 [00:00<00:00, 64.87it/s]\n"
     ]
    },
    {
     "name": "stdout",
     "output_type": "stream",
     "text": [
      "Epoch 210\tTrain Loss: 37.709  Val Loss: 40.944\n",
      "\n"
     ]
    },
    {
     "name": "stderr",
     "output_type": "stream",
     "text": [
      "train loss: 37.468: 100%|██████████| 7/7 [00:00<00:00, 12.13it/s]\n",
      "val loss: 41.215: 100%|██████████| 2/2 [00:00<00:00, 54.09it/s]\n"
     ]
    },
    {
     "name": "stdout",
     "output_type": "stream",
     "text": [
      "Epoch 211\tTrain Loss: 37.630  Val Loss: 40.932\n",
      "\n"
     ]
    },
    {
     "name": "stderr",
     "output_type": "stream",
     "text": [
      "train loss: 37.901: 100%|██████████| 7/7 [00:00<00:00, 12.08it/s]\n",
      "val loss: 41.214: 100%|██████████| 2/2 [00:00<00:00, 65.52it/s]\n"
     ]
    },
    {
     "name": "stdout",
     "output_type": "stream",
     "text": [
      "Epoch 212\tTrain Loss: 37.648  Val Loss: 40.938\n",
      "\n"
     ]
    },
    {
     "name": "stderr",
     "output_type": "stream",
     "text": [
      "train loss: 38.303: 100%|██████████| 7/7 [00:00<00:00, 12.18it/s]\n",
      "val loss: 41.246: 100%|██████████| 2/2 [00:00<00:00, 62.14it/s]\n"
     ]
    },
    {
     "name": "stdout",
     "output_type": "stream",
     "text": [
      "Epoch 213\tTrain Loss: 37.678  Val Loss: 40.971\n",
      "\n"
     ]
    },
    {
     "name": "stderr",
     "output_type": "stream",
     "text": [
      "train loss: 37.629: 100%|██████████| 7/7 [00:00<00:00, 12.17it/s]\n",
      "val loss: 41.235: 100%|██████████| 2/2 [00:00<00:00, 67.03it/s]\n"
     ]
    },
    {
     "name": "stdout",
     "output_type": "stream",
     "text": [
      "Epoch 214\tTrain Loss: 37.589  Val Loss: 40.961\n",
      "\n"
     ]
    },
    {
     "name": "stderr",
     "output_type": "stream",
     "text": [
      "train loss: 36.863: 100%|██████████| 7/7 [00:00<00:00, 11.74it/s]\n",
      "val loss: 41.248: 100%|██████████| 2/2 [00:00<00:00, 65.01it/s]\n"
     ]
    },
    {
     "name": "stdout",
     "output_type": "stream",
     "text": [
      "Epoch 215\tTrain Loss: 37.503  Val Loss: 40.971\n",
      "\n"
     ]
    },
    {
     "name": "stderr",
     "output_type": "stream",
     "text": [
      "train loss: 37.225: 100%|██████████| 7/7 [00:00<00:00, 12.23it/s]\n",
      "val loss: 41.244: 100%|██████████| 2/2 [00:00<00:00, 47.32it/s]\n"
     ]
    },
    {
     "name": "stdout",
     "output_type": "stream",
     "text": [
      "Epoch 216\tTrain Loss: 37.530  Val Loss: 40.956\n",
      "\n"
     ]
    },
    {
     "name": "stderr",
     "output_type": "stream",
     "text": [
      "train loss: 38.090: 100%|██████████| 7/7 [00:00<00:00, 11.92it/s]\n",
      "val loss: 41.255: 100%|██████████| 2/2 [00:00<00:00, 62.73it/s]\n"
     ]
    },
    {
     "name": "stdout",
     "output_type": "stream",
     "text": [
      "Epoch 217\tTrain Loss: 37.602  Val Loss: 40.971\n",
      "\n"
     ]
    },
    {
     "name": "stderr",
     "output_type": "stream",
     "text": [
      "train loss: 37.369: 100%|██████████| 7/7 [00:00<00:00, 12.04it/s]\n",
      "val loss: 41.269: 100%|██████████| 2/2 [00:00<00:00, 65.73it/s]\n"
     ]
    },
    {
     "name": "stdout",
     "output_type": "stream",
     "text": [
      "Epoch 218\tTrain Loss: 37.524  Val Loss: 40.996\n",
      "\n"
     ]
    },
    {
     "name": "stderr",
     "output_type": "stream",
     "text": [
      "train loss: 37.910: 100%|██████████| 7/7 [00:00<00:00, 11.82it/s]\n",
      "val loss: 41.265: 100%|██████████| 2/2 [00:00<00:00, 62.42it/s]\n"
     ]
    },
    {
     "name": "stdout",
     "output_type": "stream",
     "text": [
      "Epoch 219\tTrain Loss: 37.570  Val Loss: 40.998\n",
      "\n"
     ]
    },
    {
     "name": "stderr",
     "output_type": "stream",
     "text": [
      "train loss: 37.731: 100%|██████████| 7/7 [00:00<00:00, 11.76it/s]\n",
      "val loss: 41.307: 100%|██████████| 2/2 [00:00<00:00, 59.68it/s]\n"
     ]
    },
    {
     "name": "stdout",
     "output_type": "stream",
     "text": [
      "Epoch 220\tTrain Loss: 37.541  Val Loss: 41.024\n",
      "\n"
     ]
    },
    {
     "name": "stderr",
     "output_type": "stream",
     "text": [
      "train loss: 38.177: 100%|██████████| 7/7 [00:00<00:00, 11.97it/s]\n",
      "val loss: 41.263: 100%|██████████| 2/2 [00:00<00:00, 44.56it/s]\n"
     ]
    },
    {
     "name": "stdout",
     "output_type": "stream",
     "text": [
      "Epoch 221\tTrain Loss: 37.585  Val Loss: 40.981\n",
      "\n"
     ]
    },
    {
     "name": "stderr",
     "output_type": "stream",
     "text": [
      "train loss: 38.000: 100%|██████████| 7/7 [00:00<00:00, 12.06it/s]\n",
      "val loss: 41.306: 100%|██████████| 2/2 [00:00<00:00, 60.58it/s]\n"
     ]
    },
    {
     "name": "stdout",
     "output_type": "stream",
     "text": [
      "Epoch 222\tTrain Loss: 37.547  Val Loss: 41.032\n",
      "\n"
     ]
    },
    {
     "name": "stderr",
     "output_type": "stream",
     "text": [
      "train loss: 37.394: 100%|██████████| 7/7 [00:00<00:00, 11.84it/s]\n",
      "val loss: 41.292: 100%|██████████| 2/2 [00:00<00:00, 62.25it/s]\n"
     ]
    },
    {
     "name": "stdout",
     "output_type": "stream",
     "text": [
      "Epoch 223\tTrain Loss: 37.474  Val Loss: 41.015\n",
      "\n"
     ]
    },
    {
     "name": "stderr",
     "output_type": "stream",
     "text": [
      "train loss: 38.009: 100%|██████████| 7/7 [00:00<00:00, 12.04it/s]\n",
      "val loss: 41.282: 100%|██████████| 2/2 [00:00<00:00, 63.49it/s]\n"
     ]
    },
    {
     "name": "stdout",
     "output_type": "stream",
     "text": [
      "Epoch 224\tTrain Loss: 37.546  Val Loss: 40.997\n",
      "\n"
     ]
    },
    {
     "name": "stderr",
     "output_type": "stream",
     "text": [
      "train loss: 36.938: 100%|██████████| 7/7 [00:00<00:00, 11.99it/s]\n",
      "val loss: 41.325: 100%|██████████| 2/2 [00:00<00:00, 58.36it/s]\n"
     ]
    },
    {
     "name": "stdout",
     "output_type": "stream",
     "text": [
      "Epoch 225\tTrain Loss: 37.416  Val Loss: 41.038\n",
      "\n"
     ]
    },
    {
     "name": "stderr",
     "output_type": "stream",
     "text": [
      "train loss: 37.857: 100%|██████████| 7/7 [00:00<00:00, 12.05it/s]\n",
      "val loss: 41.312: 100%|██████████| 2/2 [00:00<00:00, 60.93it/s]\n"
     ]
    },
    {
     "name": "stdout",
     "output_type": "stream",
     "text": [
      "Epoch 226\tTrain Loss: 37.501  Val Loss: 41.026\n",
      "\n"
     ]
    },
    {
     "name": "stderr",
     "output_type": "stream",
     "text": [
      "train loss: 37.164: 100%|██████████| 7/7 [00:00<00:00, 11.96it/s]\n",
      "val loss: 41.330: 100%|██████████| 2/2 [00:00<00:00, 61.10it/s]\n"
     ]
    },
    {
     "name": "stdout",
     "output_type": "stream",
     "text": [
      "Epoch 227\tTrain Loss: 37.411  Val Loss: 41.066\n",
      "\n"
     ]
    },
    {
     "name": "stderr",
     "output_type": "stream",
     "text": [
      "train loss: 37.666: 100%|██████████| 7/7 [00:00<00:00, 11.60it/s]\n",
      "val loss: 41.339: 100%|██████████| 2/2 [00:00<00:00, 63.31it/s]\n"
     ]
    },
    {
     "name": "stdout",
     "output_type": "stream",
     "text": [
      "Epoch 228\tTrain Loss: 37.452  Val Loss: 41.048\n",
      "\n"
     ]
    },
    {
     "name": "stderr",
     "output_type": "stream",
     "text": [
      "train loss: 37.868: 100%|██████████| 7/7 [00:00<00:00, 11.93it/s]\n",
      "val loss: 41.338: 100%|██████████| 2/2 [00:00<00:00, 59.58it/s]\n"
     ]
    },
    {
     "name": "stdout",
     "output_type": "stream",
     "text": [
      "Epoch 229\tTrain Loss: 37.479  Val Loss: 41.059\n",
      "\n"
     ]
    },
    {
     "name": "stderr",
     "output_type": "stream",
     "text": [
      "train loss: 38.076: 100%|██████████| 7/7 [00:00<00:00, 12.21it/s]\n",
      "val loss: 41.345: 100%|██████████| 2/2 [00:00<00:00, 45.95it/s]\n"
     ]
    },
    {
     "name": "stdout",
     "output_type": "stream",
     "text": [
      "Epoch 230\tTrain Loss: 37.504  Val Loss: 41.057\n",
      "\n"
     ]
    },
    {
     "name": "stderr",
     "output_type": "stream",
     "text": [
      "train loss: 37.406: 100%|██████████| 7/7 [00:00<00:00, 12.15it/s]\n",
      "val loss: 41.397: 100%|██████████| 2/2 [00:00<00:00, 59.44it/s]\n"
     ]
    },
    {
     "name": "stdout",
     "output_type": "stream",
     "text": [
      "Epoch 231\tTrain Loss: 37.410  Val Loss: 41.112\n",
      "\n"
     ]
    },
    {
     "name": "stderr",
     "output_type": "stream",
     "text": [
      "train loss: 38.110: 100%|██████████| 7/7 [00:00<00:00, 12.05it/s]\n",
      "val loss: 41.382: 100%|██████████| 2/2 [00:00<00:00, 57.30it/s]\n"
     ]
    },
    {
     "name": "stdout",
     "output_type": "stream",
     "text": [
      "Epoch 232\tTrain Loss: 37.485  Val Loss: 41.102\n",
      "\n"
     ]
    },
    {
     "name": "stderr",
     "output_type": "stream",
     "text": [
      "train loss: 37.907: 100%|██████████| 7/7 [00:00<00:00, 12.23it/s]\n",
      "val loss: 41.371: 100%|██████████| 2/2 [00:00<00:00, 50.90it/s]\n"
     ]
    },
    {
     "name": "stdout",
     "output_type": "stream",
     "text": [
      "Epoch 233\tTrain Loss: 37.435  Val Loss: 41.085\n",
      "\n"
     ]
    },
    {
     "name": "stderr",
     "output_type": "stream",
     "text": [
      "train loss: 38.195: 100%|██████████| 7/7 [00:00<00:00, 12.30it/s]\n",
      "val loss: 41.372: 100%|██████████| 2/2 [00:00<00:00, 64.83it/s]\n"
     ]
    },
    {
     "name": "stdout",
     "output_type": "stream",
     "text": [
      "Epoch 234\tTrain Loss: 37.459  Val Loss: 41.073\n",
      "\n"
     ]
    },
    {
     "name": "stderr",
     "output_type": "stream",
     "text": [
      "train loss: 37.431: 100%|██████████| 7/7 [00:00<00:00, 11.68it/s]\n",
      "val loss: 41.415: 100%|██████████| 2/2 [00:00<00:00, 63.87it/s]\n"
     ]
    },
    {
     "name": "stdout",
     "output_type": "stream",
     "text": [
      "Epoch 235\tTrain Loss: 37.371  Val Loss: 41.129\n",
      "\n"
     ]
    },
    {
     "name": "stderr",
     "output_type": "stream",
     "text": [
      "train loss: 38.608: 100%|██████████| 7/7 [00:00<00:00, 12.22it/s]\n",
      "val loss: 41.383: 100%|██████████| 2/2 [00:00<00:00, 56.42it/s]\n"
     ]
    },
    {
     "name": "stdout",
     "output_type": "stream",
     "text": [
      "Epoch 236\tTrain Loss: 37.462  Val Loss: 41.092\n",
      "\n"
     ]
    },
    {
     "name": "stderr",
     "output_type": "stream",
     "text": [
      "train loss: 37.271: 100%|██████████| 7/7 [00:00<00:00, 11.94it/s]\n",
      "val loss: 41.394: 100%|██████████| 2/2 [00:00<00:00, 63.92it/s]\n"
     ]
    },
    {
     "name": "stdout",
     "output_type": "stream",
     "text": [
      "Epoch 237\tTrain Loss: 37.304  Val Loss: 41.108\n",
      "\n"
     ]
    },
    {
     "name": "stderr",
     "output_type": "stream",
     "text": [
      "train loss: 38.032: 100%|██████████| 7/7 [00:00<00:00, 12.26it/s]\n",
      "val loss: 41.386: 100%|██████████| 2/2 [00:00<00:00, 59.78it/s]\n"
     ]
    },
    {
     "name": "stdout",
     "output_type": "stream",
     "text": [
      "Epoch 238\tTrain Loss: 37.369  Val Loss: 41.097\n",
      "\n"
     ]
    },
    {
     "name": "stderr",
     "output_type": "stream",
     "text": [
      "train loss: 38.217: 100%|██████████| 7/7 [00:00<00:00, 12.21it/s]\n",
      "val loss: 41.389: 100%|██████████| 2/2 [00:00<00:00, 63.50it/s]\n"
     ]
    },
    {
     "name": "stdout",
     "output_type": "stream",
     "text": [
      "Epoch 239\tTrain Loss: 37.380  Val Loss: 41.096\n",
      "\n"
     ]
    },
    {
     "name": "stderr",
     "output_type": "stream",
     "text": [
      "train loss: 37.535: 100%|██████████| 7/7 [00:00<00:00, 12.11it/s]\n",
      "val loss: 41.523: 100%|██████████| 2/2 [00:00<00:00, 67.19it/s]\n"
     ]
    },
    {
     "name": "stdout",
     "output_type": "stream",
     "text": [
      "Epoch 240\tTrain Loss: 37.324  Val Loss: 41.225\n",
      "\n"
     ]
    },
    {
     "name": "stderr",
     "output_type": "stream",
     "text": [
      "train loss: 37.157: 100%|██████████| 7/7 [00:00<00:00, 11.74it/s]\n",
      "val loss: 41.589: 100%|██████████| 2/2 [00:00<00:00, 63.86it/s]\n"
     ]
    },
    {
     "name": "stdout",
     "output_type": "stream",
     "text": [
      "Epoch 241\tTrain Loss: 37.266  Val Loss: 41.306\n",
      "\n"
     ]
    },
    {
     "name": "stderr",
     "output_type": "stream",
     "text": [
      "train loss: 37.655: 100%|██████████| 7/7 [00:00<00:00, 12.11it/s]\n",
      "val loss: 41.520: 100%|██████████| 2/2 [00:00<00:00, 44.24it/s]\n"
     ]
    },
    {
     "name": "stdout",
     "output_type": "stream",
     "text": [
      "Epoch 242\tTrain Loss: 37.340  Val Loss: 41.228\n",
      "\n"
     ]
    },
    {
     "name": "stderr",
     "output_type": "stream",
     "text": [
      "train loss: 37.786: 100%|██████████| 7/7 [00:00<00:00, 11.62it/s]\n",
      "val loss: 41.474: 100%|██████████| 2/2 [00:00<00:00, 61.27it/s]\n"
     ]
    },
    {
     "name": "stdout",
     "output_type": "stream",
     "text": [
      "Epoch 243\tTrain Loss: 37.342  Val Loss: 41.182\n",
      "\n"
     ]
    },
    {
     "name": "stderr",
     "output_type": "stream",
     "text": [
      "train loss: 37.363: 100%|██████████| 7/7 [00:00<00:00, 12.26it/s]\n",
      "val loss: 41.441: 100%|██████████| 2/2 [00:00<00:00, 46.66it/s]\n"
     ]
    },
    {
     "name": "stdout",
     "output_type": "stream",
     "text": [
      "Epoch 244\tTrain Loss: 37.251  Val Loss: 41.150\n",
      "\n"
     ]
    },
    {
     "name": "stderr",
     "output_type": "stream",
     "text": [
      "train loss: 36.530: 100%|██████████| 7/7 [00:00<00:00, 11.56it/s]\n",
      "val loss: 41.426: 100%|██████████| 2/2 [00:00<00:00, 65.43it/s]\n"
     ]
    },
    {
     "name": "stdout",
     "output_type": "stream",
     "text": [
      "Epoch 245\tTrain Loss: 37.119  Val Loss: 41.136\n",
      "\n"
     ]
    },
    {
     "name": "stderr",
     "output_type": "stream",
     "text": [
      "train loss: 37.748: 100%|██████████| 7/7 [00:00<00:00, 12.18it/s]\n",
      "val loss: 41.448: 100%|██████████| 2/2 [00:00<00:00, 45.26it/s]\n"
     ]
    },
    {
     "name": "stdout",
     "output_type": "stream",
     "text": [
      "Epoch 246\tTrain Loss: 37.238  Val Loss: 41.152\n",
      "\n"
     ]
    },
    {
     "name": "stderr",
     "output_type": "stream",
     "text": [
      "train loss: 36.931: 100%|██████████| 7/7 [00:00<00:00, 12.10it/s]\n",
      "val loss: 41.448: 100%|██████████| 2/2 [00:00<00:00, 65.02it/s]\n"
     ]
    },
    {
     "name": "stdout",
     "output_type": "stream",
     "text": [
      "Epoch 247\tTrain Loss: 37.131  Val Loss: 41.178\n",
      "\n"
     ]
    },
    {
     "name": "stderr",
     "output_type": "stream",
     "text": [
      "train loss: 38.056: 100%|██████████| 7/7 [00:00<00:00, 12.15it/s]\n",
      "val loss: 41.470: 100%|██████████| 2/2 [00:00<00:00, 63.53it/s]\n"
     ]
    },
    {
     "name": "stdout",
     "output_type": "stream",
     "text": [
      "Epoch 248\tTrain Loss: 37.239  Val Loss: 41.187\n",
      "\n"
     ]
    },
    {
     "name": "stderr",
     "output_type": "stream",
     "text": [
      "train loss: 37.706: 100%|██████████| 7/7 [00:00<00:00, 12.20it/s]\n",
      "val loss: 41.514: 100%|██████████| 2/2 [00:00<00:00, 64.39it/s]\n"
     ]
    },
    {
     "name": "stdout",
     "output_type": "stream",
     "text": [
      "Epoch 249\tTrain Loss: 37.214  Val Loss: 41.209\n",
      "\n"
     ]
    },
    {
     "name": "stderr",
     "output_type": "stream",
     "text": [
      "train loss: 37.024: 100%|██████████| 7/7 [00:00<00:00, 12.26it/s]\n",
      "val loss: 41.575: 100%|██████████| 2/2 [00:00<00:00, 58.21it/s]\n"
     ]
    },
    {
     "name": "stdout",
     "output_type": "stream",
     "text": [
      "Epoch 250\tTrain Loss: 37.167  Val Loss: 41.275\n",
      "\n"
     ]
    },
    {
     "name": "stderr",
     "output_type": "stream",
     "text": [
      "train loss: 37.579: 100%|██████████| 7/7 [00:00<00:00, 11.73it/s]\n",
      "val loss: 41.522: 100%|██████████| 2/2 [00:00<00:00, 62.42it/s]\n"
     ]
    },
    {
     "name": "stdout",
     "output_type": "stream",
     "text": [
      "Epoch 251\tTrain Loss: 37.200  Val Loss: 41.229\n",
      "\n"
     ]
    },
    {
     "name": "stderr",
     "output_type": "stream",
     "text": [
      "train loss: 37.736: 100%|██████████| 7/7 [00:00<00:00, 12.32it/s]\n",
      "val loss: 41.519: 100%|██████████| 2/2 [00:00<00:00, 47.02it/s]\n"
     ]
    },
    {
     "name": "stdout",
     "output_type": "stream",
     "text": [
      "Epoch 252\tTrain Loss: 37.177  Val Loss: 41.239\n",
      "\n"
     ]
    },
    {
     "name": "stderr",
     "output_type": "stream",
     "text": [
      "train loss: 38.139: 100%|██████████| 7/7 [00:00<00:00, 12.15it/s]\n",
      "val loss: 41.541: 100%|██████████| 2/2 [00:00<00:00, 63.99it/s]\n"
     ]
    },
    {
     "name": "stdout",
     "output_type": "stream",
     "text": [
      "Epoch 253\tTrain Loss: 37.197  Val Loss: 41.234\n",
      "\n"
     ]
    },
    {
     "name": "stderr",
     "output_type": "stream",
     "text": [
      "train loss: 37.249: 100%|██████████| 7/7 [00:00<00:00, 12.24it/s]\n",
      "val loss: 41.537: 100%|██████████| 2/2 [00:00<00:00, 61.26it/s]\n"
     ]
    },
    {
     "name": "stdout",
     "output_type": "stream",
     "text": [
      "Epoch 254\tTrain Loss: 37.085  Val Loss: 41.219\n",
      "\n"
     ]
    },
    {
     "name": "stderr",
     "output_type": "stream",
     "text": [
      "train loss: 37.675: 100%|██████████| 7/7 [00:00<00:00, 11.63it/s]\n",
      "val loss: 41.528: 100%|██████████| 2/2 [00:00<00:00, 65.84it/s]\n"
     ]
    },
    {
     "name": "stdout",
     "output_type": "stream",
     "text": [
      "Epoch 255\tTrain Loss: 37.104  Val Loss: 41.236\n",
      "\n"
     ]
    },
    {
     "name": "stderr",
     "output_type": "stream",
     "text": [
      "train loss: 37.250: 100%|██████████| 7/7 [00:00<00:00, 12.29it/s]\n",
      "val loss: 41.525: 100%|██████████| 2/2 [00:00<00:00, 46.08it/s]\n"
     ]
    },
    {
     "name": "stdout",
     "output_type": "stream",
     "text": [
      "Epoch 256\tTrain Loss: 37.047  Val Loss: 41.231\n",
      "\n"
     ]
    },
    {
     "name": "stderr",
     "output_type": "stream",
     "text": [
      "train loss: 36.394: 100%|██████████| 7/7 [00:00<00:00, 11.86it/s]\n",
      "val loss: 41.640: 100%|██████████| 2/2 [00:00<00:00, 64.03it/s]\n"
     ]
    },
    {
     "name": "stdout",
     "output_type": "stream",
     "text": [
      "Epoch 257\tTrain Loss: 36.967  Val Loss: 41.333\n",
      "\n"
     ]
    },
    {
     "name": "stderr",
     "output_type": "stream",
     "text": [
      "train loss: 36.311: 100%|██████████| 7/7 [00:00<00:00, 12.26it/s]\n",
      "val loss: 41.568: 100%|██████████| 2/2 [00:00<00:00, 54.43it/s]\n"
     ]
    },
    {
     "name": "stdout",
     "output_type": "stream",
     "text": [
      "Epoch 258\tTrain Loss: 36.964  Val Loss: 41.266\n",
      "\n"
     ]
    },
    {
     "name": "stderr",
     "output_type": "stream",
     "text": [
      "train loss: 37.601: 100%|██████████| 7/7 [00:00<00:00, 11.48it/s]\n",
      "val loss: 41.579: 100%|██████████| 2/2 [00:00<00:00, 60.28it/s]\n"
     ]
    },
    {
     "name": "stdout",
     "output_type": "stream",
     "text": [
      "Epoch 259\tTrain Loss: 37.096  Val Loss: 41.274\n",
      "\n"
     ]
    },
    {
     "name": "stderr",
     "output_type": "stream",
     "text": [
      "train loss: 36.587: 100%|██████████| 7/7 [00:00<00:00, 12.28it/s]\n",
      "val loss: 41.597: 100%|██████████| 2/2 [00:00<00:00, 46.81it/s]\n"
     ]
    },
    {
     "name": "stdout",
     "output_type": "stream",
     "text": [
      "Epoch 260\tTrain Loss: 36.967  Val Loss: 41.294\n",
      "\n"
     ]
    },
    {
     "name": "stderr",
     "output_type": "stream",
     "text": [
      "train loss: 36.525: 100%|██████████| 7/7 [00:00<00:00, 12.14it/s]\n",
      "val loss: 41.608: 100%|██████████| 2/2 [00:00<00:00, 66.57it/s]\n"
     ]
    },
    {
     "name": "stdout",
     "output_type": "stream",
     "text": [
      "Epoch 261\tTrain Loss: 36.937  Val Loss: 41.311\n",
      "\n"
     ]
    },
    {
     "name": "stderr",
     "output_type": "stream",
     "text": [
      "train loss: 38.088: 100%|██████████| 7/7 [00:00<00:00, 12.24it/s]\n",
      "val loss: 41.643: 100%|██████████| 2/2 [00:00<00:00, 62.70it/s]\n"
     ]
    },
    {
     "name": "stdout",
     "output_type": "stream",
     "text": [
      "Epoch 262\tTrain Loss: 37.097  Val Loss: 41.344\n",
      "\n"
     ]
    },
    {
     "name": "stderr",
     "output_type": "stream",
     "text": [
      "train loss: 36.400: 100%|██████████| 7/7 [00:00<00:00, 12.29it/s]\n",
      "val loss: 41.609: 100%|██████████| 2/2 [00:00<00:00, 62.48it/s]\n"
     ]
    },
    {
     "name": "stdout",
     "output_type": "stream",
     "text": [
      "Epoch 263\tTrain Loss: 36.903  Val Loss: 41.298\n",
      "\n"
     ]
    },
    {
     "name": "stderr",
     "output_type": "stream",
     "text": [
      "train loss: 36.520: 100%|██████████| 7/7 [00:00<00:00, 11.65it/s]\n",
      "val loss: 41.604: 100%|██████████| 2/2 [00:00<00:00, 64.69it/s]\n"
     ]
    },
    {
     "name": "stdout",
     "output_type": "stream",
     "text": [
      "Epoch 264\tTrain Loss: 36.892  Val Loss: 41.297\n",
      "\n"
     ]
    },
    {
     "name": "stderr",
     "output_type": "stream",
     "text": [
      "train loss: 38.153: 100%|██████████| 7/7 [00:00<00:00, 12.13it/s]\n",
      "val loss: 41.638: 100%|██████████| 2/2 [00:00<00:00, 45.00it/s]\n"
     ]
    },
    {
     "name": "stdout",
     "output_type": "stream",
     "text": [
      "Epoch 265\tTrain Loss: 37.055  Val Loss: 41.345\n",
      "\n"
     ]
    },
    {
     "name": "stderr",
     "output_type": "stream",
     "text": [
      "train loss: 36.618: 100%|██████████| 7/7 [00:00<00:00, 11.90it/s]\n",
      "val loss: 41.727: 100%|██████████| 2/2 [00:00<00:00, 61.85it/s]\n"
     ]
    },
    {
     "name": "stdout",
     "output_type": "stream",
     "text": [
      "Epoch 266\tTrain Loss: 36.883  Val Loss: 41.418\n",
      "\n"
     ]
    },
    {
     "name": "stderr",
     "output_type": "stream",
     "text": [
      "train loss: 37.312: 100%|██████████| 7/7 [00:00<00:00, 11.94it/s]\n",
      "val loss: 41.657: 100%|██████████| 2/2 [00:00<00:00, 64.87it/s]\n"
     ]
    },
    {
     "name": "stdout",
     "output_type": "stream",
     "text": [
      "Epoch 267\tTrain Loss: 36.949  Val Loss: 41.361\n",
      "\n"
     ]
    },
    {
     "name": "stderr",
     "output_type": "stream",
     "text": [
      "train loss: 36.309: 100%|██████████| 7/7 [00:00<00:00, 12.13it/s]\n",
      "val loss: 41.723: 100%|██████████| 2/2 [00:00<00:00, 52.89it/s]\n"
     ]
    },
    {
     "name": "stdout",
     "output_type": "stream",
     "text": [
      "Epoch 268\tTrain Loss: 36.855  Val Loss: 41.429\n",
      "\n"
     ]
    },
    {
     "name": "stderr",
     "output_type": "stream",
     "text": [
      "train loss: 36.847: 100%|██████████| 7/7 [00:00<00:00, 11.73it/s]\n",
      "val loss: 41.900: 100%|██████████| 2/2 [00:00<00:00, 65.55it/s]\n"
     ]
    },
    {
     "name": "stdout",
     "output_type": "stream",
     "text": [
      "Epoch 269\tTrain Loss: 36.919  Val Loss: 41.591\n",
      "\n"
     ]
    },
    {
     "name": "stderr",
     "output_type": "stream",
     "text": [
      "train loss: 37.515: 100%|██████████| 7/7 [00:00<00:00, 12.11it/s]\n",
      "val loss: 41.720: 100%|██████████| 2/2 [00:00<00:00, 51.12it/s]\n"
     ]
    },
    {
     "name": "stdout",
     "output_type": "stream",
     "text": [
      "Epoch 270\tTrain Loss: 36.977  Val Loss: 41.428\n",
      "\n"
     ]
    },
    {
     "name": "stderr",
     "output_type": "stream",
     "text": [
      "train loss: 36.561: 100%|██████████| 7/7 [00:00<00:00, 11.46it/s]\n",
      "val loss: 41.741: 100%|██████████| 2/2 [00:00<00:00, 64.86it/s]\n"
     ]
    },
    {
     "name": "stdout",
     "output_type": "stream",
     "text": [
      "Epoch 271\tTrain Loss: 36.851  Val Loss: 41.434\n",
      "\n"
     ]
    },
    {
     "name": "stderr",
     "output_type": "stream",
     "text": [
      "train loss: 37.486: 100%|██████████| 7/7 [00:00<00:00, 12.12it/s]\n",
      "val loss: 41.789: 100%|██████████| 2/2 [00:00<00:00, 46.66it/s]\n"
     ]
    },
    {
     "name": "stdout",
     "output_type": "stream",
     "text": [
      "Epoch 272\tTrain Loss: 36.971  Val Loss: 41.475\n",
      "\n"
     ]
    },
    {
     "name": "stderr",
     "output_type": "stream",
     "text": [
      "train loss: 37.196: 100%|██████████| 7/7 [00:00<00:00, 11.99it/s]\n",
      "val loss: 41.737: 100%|██████████| 2/2 [00:00<00:00, 64.14it/s]\n"
     ]
    },
    {
     "name": "stdout",
     "output_type": "stream",
     "text": [
      "Epoch 273\tTrain Loss: 36.893  Val Loss: 41.418\n",
      "\n"
     ]
    },
    {
     "name": "stderr",
     "output_type": "stream",
     "text": [
      "train loss: 37.207: 100%|██████████| 7/7 [00:00<00:00, 12.11it/s]\n",
      "val loss: 41.721: 100%|██████████| 2/2 [00:00<00:00, 65.31it/s]\n"
     ]
    },
    {
     "name": "stdout",
     "output_type": "stream",
     "text": [
      "Epoch 274\tTrain Loss: 36.889  Val Loss: 41.419\n",
      "\n"
     ]
    },
    {
     "name": "stderr",
     "output_type": "stream",
     "text": [
      "train loss: 37.671: 100%|██████████| 7/7 [00:00<00:00, 12.13it/s]\n",
      "val loss: 41.818: 100%|██████████| 2/2 [00:00<00:00, 62.13it/s]\n"
     ]
    },
    {
     "name": "stdout",
     "output_type": "stream",
     "text": [
      "Epoch 275\tTrain Loss: 36.963  Val Loss: 41.497\n",
      "\n"
     ]
    },
    {
     "name": "stderr",
     "output_type": "stream",
     "text": [
      "train loss: 37.474: 100%|██████████| 7/7 [00:00<00:00, 12.10it/s]\n",
      "val loss: 41.763: 100%|██████████| 2/2 [00:00<00:00, 63.46it/s]\n"
     ]
    },
    {
     "name": "stdout",
     "output_type": "stream",
     "text": [
      "Epoch 276\tTrain Loss: 36.858  Val Loss: 41.437\n",
      "\n"
     ]
    },
    {
     "name": "stderr",
     "output_type": "stream",
     "text": [
      "train loss: 37.245: 100%|██████████| 7/7 [00:00<00:00, 11.58it/s]\n",
      "val loss: 41.698: 100%|██████████| 2/2 [00:00<00:00, 65.79it/s]\n"
     ]
    },
    {
     "name": "stdout",
     "output_type": "stream",
     "text": [
      "Epoch 277\tTrain Loss: 36.781  Val Loss: 41.374\n",
      "\n"
     ]
    },
    {
     "name": "stderr",
     "output_type": "stream",
     "text": [
      "train loss: 37.605: 100%|██████████| 7/7 [00:00<00:00, 12.13it/s]\n",
      "val loss: 41.753: 100%|██████████| 2/2 [00:00<00:00, 47.45it/s]\n"
     ]
    },
    {
     "name": "stdout",
     "output_type": "stream",
     "text": [
      "Epoch 278\tTrain Loss: 36.815  Val Loss: 41.443\n",
      "\n"
     ]
    },
    {
     "name": "stderr",
     "output_type": "stream",
     "text": [
      "train loss: 37.485: 100%|██████████| 7/7 [00:00<00:00, 12.01it/s]\n",
      "val loss: 41.794: 100%|██████████| 2/2 [00:00<00:00, 65.49it/s]\n"
     ]
    },
    {
     "name": "stdout",
     "output_type": "stream",
     "text": [
      "Epoch 279\tTrain Loss: 36.821  Val Loss: 41.473\n",
      "\n"
     ]
    },
    {
     "name": "stderr",
     "output_type": "stream",
     "text": [
      "train loss: 36.283: 100%|██████████| 7/7 [00:00<00:00, 12.12it/s]\n",
      "val loss: 41.855: 100%|██████████| 2/2 [00:00<00:00, 64.63it/s]\n"
     ]
    },
    {
     "name": "stdout",
     "output_type": "stream",
     "text": [
      "Epoch 280\tTrain Loss: 36.647  Val Loss: 41.536\n",
      "\n"
     ]
    },
    {
     "name": "stderr",
     "output_type": "stream",
     "text": [
      "train loss: 37.581: 100%|██████████| 7/7 [00:00<00:00, 11.84it/s]\n",
      "val loss: 41.925: 100%|██████████| 2/2 [00:00<00:00, 64.67it/s]\n"
     ]
    },
    {
     "name": "stdout",
     "output_type": "stream",
     "text": [
      "Epoch 281\tTrain Loss: 36.855  Val Loss: 41.602\n",
      "\n"
     ]
    },
    {
     "name": "stderr",
     "output_type": "stream",
     "text": [
      "train loss: 36.993: 100%|██████████| 7/7 [00:00<00:00, 12.12it/s]\n",
      "val loss: 41.829: 100%|██████████| 2/2 [00:00<00:00, 63.44it/s]\n"
     ]
    },
    {
     "name": "stdout",
     "output_type": "stream",
     "text": [
      "Epoch 282\tTrain Loss: 36.786  Val Loss: 41.504\n",
      "\n"
     ]
    },
    {
     "name": "stderr",
     "output_type": "stream",
     "text": [
      "train loss: 36.674: 100%|██████████| 7/7 [00:00<00:00, 11.78it/s]\n",
      "val loss: 41.799: 100%|██████████| 2/2 [00:00<00:00, 66.40it/s]\n"
     ]
    },
    {
     "name": "stdout",
     "output_type": "stream",
     "text": [
      "Epoch 283\tTrain Loss: 36.644  Val Loss: 41.498\n",
      "\n"
     ]
    },
    {
     "name": "stderr",
     "output_type": "stream",
     "text": [
      "train loss: 37.666: 100%|██████████| 7/7 [00:00<00:00, 12.12it/s]\n",
      "val loss: 41.786: 100%|██████████| 2/2 [00:00<00:00, 56.15it/s]\n"
     ]
    },
    {
     "name": "stdout",
     "output_type": "stream",
     "text": [
      "Epoch 284\tTrain Loss: 36.742  Val Loss: 41.462\n",
      "\n"
     ]
    },
    {
     "name": "stderr",
     "output_type": "stream",
     "text": [
      "train loss: 36.339: 100%|██████████| 7/7 [00:00<00:00, 12.06it/s]\n",
      "val loss: 41.867: 100%|██████████| 2/2 [00:00<00:00, 61.59it/s]\n"
     ]
    },
    {
     "name": "stdout",
     "output_type": "stream",
     "text": [
      "Epoch 285\tTrain Loss: 36.560  Val Loss: 41.545\n",
      "\n"
     ]
    },
    {
     "name": "stderr",
     "output_type": "stream",
     "text": [
      "train loss: 36.544: 100%|██████████| 7/7 [00:00<00:00, 12.11it/s]\n",
      "val loss: 41.784: 100%|██████████| 2/2 [00:00<00:00, 66.16it/s]\n"
     ]
    },
    {
     "name": "stdout",
     "output_type": "stream",
     "text": [
      "Epoch 286\tTrain Loss: 36.540  Val Loss: 41.481\n",
      "\n"
     ]
    },
    {
     "name": "stderr",
     "output_type": "stream",
     "text": [
      "train loss: 35.492: 100%|██████████| 7/7 [00:00<00:00, 12.12it/s]\n",
      "val loss: 41.854: 100%|██████████| 2/2 [00:00<00:00, 62.97it/s]\n"
     ]
    },
    {
     "name": "stdout",
     "output_type": "stream",
     "text": [
      "Epoch 287\tTrain Loss: 36.405  Val Loss: 41.554\n",
      "\n"
     ]
    },
    {
     "name": "stderr",
     "output_type": "stream",
     "text": [
      "train loss: 36.856: 100%|██████████| 7/7 [00:00<00:00, 12.10it/s]\n",
      "val loss: 41.851: 100%|██████████| 2/2 [00:00<00:00, 65.79it/s]\n"
     ]
    },
    {
     "name": "stdout",
     "output_type": "stream",
     "text": [
      "Epoch 288\tTrain Loss: 36.538  Val Loss: 41.526\n",
      "\n"
     ]
    },
    {
     "name": "stderr",
     "output_type": "stream",
     "text": [
      "train loss: 37.562: 100%|██████████| 7/7 [00:00<00:00, 12.14it/s]\n",
      "val loss: 41.886: 100%|██████████| 2/2 [00:00<00:00, 65.62it/s]\n"
     ]
    },
    {
     "name": "stdout",
     "output_type": "stream",
     "text": [
      "Epoch 289\tTrain Loss: 36.594  Val Loss: 41.554\n",
      "\n"
     ]
    },
    {
     "name": "stderr",
     "output_type": "stream",
     "text": [
      "train loss: 36.687: 100%|██████████| 7/7 [00:00<00:00, 12.12it/s]\n",
      "val loss: 41.909: 100%|██████████| 2/2 [00:00<00:00, 62.00it/s]\n"
     ]
    },
    {
     "name": "stdout",
     "output_type": "stream",
     "text": [
      "Epoch 290\tTrain Loss: 36.488  Val Loss: 41.600\n",
      "\n"
     ]
    },
    {
     "name": "stderr",
     "output_type": "stream",
     "text": [
      "train loss: 36.312: 100%|██████████| 7/7 [00:00<00:00, 12.04it/s]\n",
      "val loss: 41.910: 100%|██████████| 2/2 [00:00<00:00, 61.17it/s]\n"
     ]
    },
    {
     "name": "stdout",
     "output_type": "stream",
     "text": [
      "Epoch 291\tTrain Loss: 36.455  Val Loss: 41.609\n",
      "\n"
     ]
    },
    {
     "name": "stderr",
     "output_type": "stream",
     "text": [
      "train loss: 36.291: 100%|██████████| 7/7 [00:00<00:00, 12.04it/s]\n",
      "val loss: 41.968: 100%|██████████| 2/2 [00:00<00:00, 60.75it/s]\n"
     ]
    },
    {
     "name": "stdout",
     "output_type": "stream",
     "text": [
      "Epoch 292\tTrain Loss: 36.437  Val Loss: 41.616\n",
      "\n"
     ]
    },
    {
     "name": "stderr",
     "output_type": "stream",
     "text": [
      "train loss: 36.646: 100%|██████████| 7/7 [00:00<00:00, 11.85it/s]\n",
      "val loss: 41.951: 100%|██████████| 2/2 [00:00<00:00, 64.28it/s]\n"
     ]
    },
    {
     "name": "stdout",
     "output_type": "stream",
     "text": [
      "Epoch 293\tTrain Loss: 36.447  Val Loss: 41.613\n",
      "\n"
     ]
    },
    {
     "name": "stderr",
     "output_type": "stream",
     "text": [
      "train loss: 36.313: 100%|██████████| 7/7 [00:00<00:00, 11.55it/s]\n",
      "val loss: 42.001: 100%|██████████| 2/2 [00:00<00:00, 61.14it/s]\n"
     ]
    },
    {
     "name": "stdout",
     "output_type": "stream",
     "text": [
      "Epoch 294\tTrain Loss: 36.392  Val Loss: 41.675\n",
      "\n"
     ]
    },
    {
     "name": "stderr",
     "output_type": "stream",
     "text": [
      "train loss: 37.247: 100%|██████████| 7/7 [00:00<00:00, 12.05it/s]\n",
      "val loss: 41.986: 100%|██████████| 2/2 [00:00<00:00, 61.28it/s]\n"
     ]
    },
    {
     "name": "stdout",
     "output_type": "stream",
     "text": [
      "Epoch 295\tTrain Loss: 36.524  Val Loss: 41.667\n",
      "\n"
     ]
    },
    {
     "name": "stderr",
     "output_type": "stream",
     "text": [
      "train loss: 36.020: 100%|██████████| 7/7 [00:00<00:00, 11.99it/s]\n",
      "val loss: 41.960: 100%|██████████| 2/2 [00:00<00:00, 53.11it/s]\n"
     ]
    },
    {
     "name": "stdout",
     "output_type": "stream",
     "text": [
      "Epoch 296\tTrain Loss: 36.383  Val Loss: 41.644\n",
      "\n"
     ]
    },
    {
     "name": "stderr",
     "output_type": "stream",
     "text": [
      "train loss: 36.399: 100%|██████████| 7/7 [00:00<00:00, 12.00it/s]\n",
      "val loss: 42.001: 100%|██████████| 2/2 [00:00<00:00, 47.10it/s]\n"
     ]
    },
    {
     "name": "stdout",
     "output_type": "stream",
     "text": [
      "Epoch 297\tTrain Loss: 36.461  Val Loss: 41.678\n",
      "\n"
     ]
    },
    {
     "name": "stderr",
     "output_type": "stream",
     "text": [
      "train loss: 37.539: 100%|██████████| 7/7 [00:00<00:00, 11.95it/s]\n",
      "val loss: 41.977: 100%|██████████| 2/2 [00:00<00:00, 61.55it/s]\n"
     ]
    },
    {
     "name": "stdout",
     "output_type": "stream",
     "text": [
      "Epoch 298\tTrain Loss: 36.514  Val Loss: 41.663\n",
      "\n"
     ]
    },
    {
     "name": "stderr",
     "output_type": "stream",
     "text": [
      "train loss: 36.543: 100%|██████████| 7/7 [00:00<00:00, 12.65it/s]\n",
      "val loss: 42.009: 100%|██████████| 2/2 [00:00<00:00, 45.32it/s]\n"
     ]
    },
    {
     "name": "stdout",
     "output_type": "stream",
     "text": [
      "Epoch 299\tTrain Loss: 36.366  Val Loss: 41.671\n",
      "\n"
     ]
    },
    {
     "name": "stderr",
     "output_type": "stream",
     "text": [
      "train loss: 35.891: 100%|██████████| 7/7 [00:00<00:00, 12.33it/s]\n",
      "val loss: 42.027: 100%|██████████| 2/2 [00:00<00:00, 64.74it/s]\n"
     ]
    },
    {
     "name": "stdout",
     "output_type": "stream",
     "text": [
      "Epoch 300\tTrain Loss: 36.258  Val Loss: 41.709\n",
      "\n"
     ]
    },
    {
     "name": "stderr",
     "output_type": "stream",
     "text": [
      "train loss: 36.028: 100%|██████████| 7/7 [00:00<00:00, 12.18it/s]\n",
      "val loss: 41.995: 100%|██████████| 2/2 [00:00<00:00, 62.47it/s]\n"
     ]
    },
    {
     "name": "stdout",
     "output_type": "stream",
     "text": [
      "Epoch 301\tTrain Loss: 36.271  Val Loss: 41.667\n",
      "\n"
     ]
    },
    {
     "name": "stderr",
     "output_type": "stream",
     "text": [
      "train loss: 36.183: 100%|██████████| 7/7 [00:00<00:00, 12.54it/s]\n",
      "val loss: 42.130: 100%|██████████| 2/2 [00:00<00:00, 68.83it/s]\n"
     ]
    },
    {
     "name": "stdout",
     "output_type": "stream",
     "text": [
      "Epoch 302\tTrain Loss: 36.301  Val Loss: 41.787\n",
      "\n"
     ]
    },
    {
     "name": "stderr",
     "output_type": "stream",
     "text": [
      "train loss: 35.931: 100%|██████████| 7/7 [00:00<00:00, 12.48it/s]\n",
      "val loss: 42.054: 100%|██████████| 2/2 [00:00<00:00, 63.14it/s]\n"
     ]
    },
    {
     "name": "stdout",
     "output_type": "stream",
     "text": [
      "Epoch 303\tTrain Loss: 36.236  Val Loss: 41.714\n",
      "\n"
     ]
    },
    {
     "name": "stderr",
     "output_type": "stream",
     "text": [
      "train loss: 35.872: 100%|██████████| 7/7 [00:00<00:00, 12.21it/s]\n",
      "val loss: 42.057: 100%|██████████| 2/2 [00:00<00:00, 67.91it/s]\n"
     ]
    },
    {
     "name": "stdout",
     "output_type": "stream",
     "text": [
      "Epoch 304\tTrain Loss: 36.201  Val Loss: 41.715\n",
      "\n"
     ]
    },
    {
     "name": "stderr",
     "output_type": "stream",
     "text": [
      "train loss: 35.537: 100%|██████████| 7/7 [00:00<00:00, 12.39it/s]\n",
      "val loss: 42.049: 100%|██████████| 2/2 [00:00<00:00, 67.22it/s]\n"
     ]
    },
    {
     "name": "stdout",
     "output_type": "stream",
     "text": [
      "Epoch 305\tTrain Loss: 36.154  Val Loss: 41.709\n",
      "\n"
     ]
    },
    {
     "name": "stderr",
     "output_type": "stream",
     "text": [
      "train loss: 35.057: 100%|██████████| 7/7 [00:00<00:00, 13.09it/s]\n",
      "val loss: 42.100: 100%|██████████| 2/2 [00:00<00:00, 47.82it/s]\n"
     ]
    },
    {
     "name": "stdout",
     "output_type": "stream",
     "text": [
      "Epoch 306\tTrain Loss: 36.102  Val Loss: 41.761\n",
      "\n"
     ]
    },
    {
     "name": "stderr",
     "output_type": "stream",
     "text": [
      "train loss: 36.010: 100%|██████████| 7/7 [00:00<00:00, 12.41it/s]\n",
      "val loss: 42.113: 100%|██████████| 2/2 [00:00<00:00, 67.92it/s]\n"
     ]
    },
    {
     "name": "stdout",
     "output_type": "stream",
     "text": [
      "Epoch 307\tTrain Loss: 36.149  Val Loss: 41.791\n",
      "\n"
     ]
    },
    {
     "name": "stderr",
     "output_type": "stream",
     "text": [
      "train loss: 36.680: 100%|██████████| 7/7 [00:00<00:00, 13.05it/s]\n",
      "val loss: 42.056: 100%|██████████| 2/2 [00:00<00:00, 66.77it/s]\n"
     ]
    },
    {
     "name": "stdout",
     "output_type": "stream",
     "text": [
      "Epoch 308\tTrain Loss: 36.242  Val Loss: 41.745\n",
      "\n"
     ]
    },
    {
     "name": "stderr",
     "output_type": "stream",
     "text": [
      "train loss: 36.316: 100%|██████████| 7/7 [00:00<00:00, 13.30it/s]\n",
      "val loss: 42.101: 100%|██████████| 2/2 [00:00<00:00, 57.32it/s]\n"
     ]
    },
    {
     "name": "stdout",
     "output_type": "stream",
     "text": [
      "Epoch 309\tTrain Loss: 36.178  Val Loss: 41.791\n",
      "\n"
     ]
    },
    {
     "name": "stderr",
     "output_type": "stream",
     "text": [
      "train loss: 36.173: 100%|██████████| 7/7 [00:00<00:00, 13.06it/s]\n",
      "val loss: 42.185: 100%|██████████| 2/2 [00:00<00:00, 50.77it/s]\n"
     ]
    },
    {
     "name": "stdout",
     "output_type": "stream",
     "text": [
      "Epoch 310\tTrain Loss: 36.160  Val Loss: 41.848\n",
      "\n"
     ]
    },
    {
     "name": "stderr",
     "output_type": "stream",
     "text": [
      "train loss: 35.632: 100%|██████████| 7/7 [00:00<00:00, 12.40it/s]\n",
      "val loss: 42.179: 100%|██████████| 2/2 [00:00<00:00, 66.81it/s]\n"
     ]
    },
    {
     "name": "stdout",
     "output_type": "stream",
     "text": [
      "Epoch 311\tTrain Loss: 36.076  Val Loss: 41.853\n",
      "\n"
     ]
    },
    {
     "name": "stderr",
     "output_type": "stream",
     "text": [
      "train loss: 36.607: 100%|██████████| 7/7 [00:00<00:00, 13.15it/s]\n",
      "val loss: 42.174: 100%|██████████| 2/2 [00:00<00:00, 48.78it/s]\n"
     ]
    },
    {
     "name": "stdout",
     "output_type": "stream",
     "text": [
      "Epoch 312\tTrain Loss: 36.153  Val Loss: 41.842\n",
      "\n"
     ]
    },
    {
     "name": "stderr",
     "output_type": "stream",
     "text": [
      "train loss: 36.699: 100%|██████████| 7/7 [00:00<00:00, 12.36it/s]\n",
      "val loss: 42.176: 100%|██████████| 2/2 [00:00<00:00, 68.90it/s]\n"
     ]
    },
    {
     "name": "stdout",
     "output_type": "stream",
     "text": [
      "Epoch 313\tTrain Loss: 36.180  Val Loss: 41.849\n",
      "\n"
     ]
    },
    {
     "name": "stderr",
     "output_type": "stream",
     "text": [
      "train loss: 36.357: 100%|██████████| 7/7 [00:00<00:00, 13.28it/s]\n",
      "val loss: 42.184: 100%|██████████| 2/2 [00:00<00:00, 43.99it/s]\n"
     ]
    },
    {
     "name": "stdout",
     "output_type": "stream",
     "text": [
      "Epoch 314\tTrain Loss: 36.130  Val Loss: 41.849\n",
      "\n"
     ]
    },
    {
     "name": "stderr",
     "output_type": "stream",
     "text": [
      "train loss: 37.291: 100%|██████████| 7/7 [00:00<00:00, 12.71it/s]\n",
      "val loss: 42.196: 100%|██████████| 2/2 [00:00<00:00, 68.08it/s]\n"
     ]
    },
    {
     "name": "stdout",
     "output_type": "stream",
     "text": [
      "Epoch 315\tTrain Loss: 36.192  Val Loss: 41.868\n",
      "\n"
     ]
    },
    {
     "name": "stderr",
     "output_type": "stream",
     "text": [
      "train loss: 36.546: 100%|██████████| 7/7 [00:00<00:00, 12.64it/s]\n",
      "val loss: 42.167: 100%|██████████| 2/2 [00:00<00:00, 63.11it/s]\n"
     ]
    },
    {
     "name": "stdout",
     "output_type": "stream",
     "text": [
      "Epoch 316\tTrain Loss: 36.084  Val Loss: 41.885\n",
      "\n"
     ]
    },
    {
     "name": "stderr",
     "output_type": "stream",
     "text": [
      "train loss: 36.208: 100%|██████████| 7/7 [00:00<00:00, 12.29it/s]\n",
      "val loss: 42.296: 100%|██████████| 2/2 [00:00<00:00, 68.88it/s]\n"
     ]
    },
    {
     "name": "stdout",
     "output_type": "stream",
     "text": [
      "Epoch 317\tTrain Loss: 36.161  Val Loss: 41.975\n",
      "\n"
     ]
    },
    {
     "name": "stderr",
     "output_type": "stream",
     "text": [
      "train loss: 35.538: 100%|██████████| 7/7 [00:00<00:00, 13.23it/s]\n",
      "val loss: 42.317: 100%|██████████| 2/2 [00:00<00:00, 46.23it/s]\n"
     ]
    },
    {
     "name": "stdout",
     "output_type": "stream",
     "text": [
      "Epoch 318\tTrain Loss: 36.216  Val Loss: 41.998\n",
      "\n"
     ]
    },
    {
     "name": "stderr",
     "output_type": "stream",
     "text": [
      "train loss: 36.135: 100%|██████████| 7/7 [00:00<00:00, 12.93it/s]\n",
      "val loss: 42.308: 100%|██████████| 2/2 [00:00<00:00, 67.50it/s]\n"
     ]
    },
    {
     "name": "stdout",
     "output_type": "stream",
     "text": [
      "Epoch 319\tTrain Loss: 36.137  Val Loss: 41.944\n",
      "\n"
     ]
    },
    {
     "name": "stderr",
     "output_type": "stream",
     "text": [
      "train loss: 36.451: 100%|██████████| 7/7 [00:00<00:00, 12.95it/s]\n",
      "val loss: 42.224: 100%|██████████| 2/2 [00:00<00:00, 63.22it/s]\n"
     ]
    },
    {
     "name": "stdout",
     "output_type": "stream",
     "text": [
      "Epoch 320\tTrain Loss: 36.073  Val Loss: 41.893\n",
      "\n"
     ]
    },
    {
     "name": "stderr",
     "output_type": "stream",
     "text": [
      "train loss: 35.843: 100%|██████████| 7/7 [00:00<00:00, 11.76it/s]\n",
      "val loss: 42.203: 100%|██████████| 2/2 [00:00<00:00, 66.47it/s]\n"
     ]
    },
    {
     "name": "stdout",
     "output_type": "stream",
     "text": [
      "Epoch 321\tTrain Loss: 36.004  Val Loss: 41.902\n",
      "\n"
     ]
    },
    {
     "name": "stderr",
     "output_type": "stream",
     "text": [
      "train loss: 36.218: 100%|██████████| 7/7 [00:00<00:00, 12.51it/s]\n",
      "val loss: 42.324: 100%|██████████| 2/2 [00:00<00:00, 45.55it/s]\n"
     ]
    },
    {
     "name": "stdout",
     "output_type": "stream",
     "text": [
      "Epoch 322\tTrain Loss: 36.062  Val Loss: 42.004\n",
      "\n"
     ]
    },
    {
     "name": "stderr",
     "output_type": "stream",
     "text": [
      "train loss: 36.334: 100%|██████████| 7/7 [00:00<00:00, 12.14it/s]\n",
      "val loss: 42.239: 100%|██████████| 2/2 [00:00<00:00, 64.10it/s]\n"
     ]
    },
    {
     "name": "stdout",
     "output_type": "stream",
     "text": [
      "Epoch 323\tTrain Loss: 36.009  Val Loss: 41.915\n",
      "\n"
     ]
    },
    {
     "name": "stderr",
     "output_type": "stream",
     "text": [
      "train loss: 36.558: 100%|██████████| 7/7 [00:00<00:00, 12.34it/s]\n",
      "val loss: 42.252: 100%|██████████| 2/2 [00:00<00:00, 66.59it/s]\n"
     ]
    },
    {
     "name": "stdout",
     "output_type": "stream",
     "text": [
      "Epoch 324\tTrain Loss: 35.951  Val Loss: 41.938\n",
      "\n"
     ]
    },
    {
     "name": "stderr",
     "output_type": "stream",
     "text": [
      "train loss: 35.835: 100%|██████████| 7/7 [00:00<00:00, 11.81it/s]\n",
      "val loss: 42.213: 100%|██████████| 2/2 [00:00<00:00, 63.29it/s]\n"
     ]
    },
    {
     "name": "stdout",
     "output_type": "stream",
     "text": [
      "Epoch 325\tTrain Loss: 35.834  Val Loss: 41.888\n",
      "\n"
     ]
    },
    {
     "name": "stderr",
     "output_type": "stream",
     "text": [
      "train loss: 35.356: 100%|██████████| 7/7 [00:00<00:00, 12.10it/s]\n",
      "val loss: 42.250: 100%|██████████| 2/2 [00:00<00:00, 44.05it/s]\n"
     ]
    },
    {
     "name": "stdout",
     "output_type": "stream",
     "text": [
      "Epoch 326\tTrain Loss: 35.772  Val Loss: 41.928\n",
      "\n"
     ]
    },
    {
     "name": "stderr",
     "output_type": "stream",
     "text": [
      "train loss: 36.290: 100%|██████████| 7/7 [00:00<00:00, 11.95it/s]\n",
      "val loss: 42.253: 100%|██████████| 2/2 [00:00<00:00, 61.82it/s]\n"
     ]
    },
    {
     "name": "stdout",
     "output_type": "stream",
     "text": [
      "Epoch 327\tTrain Loss: 35.838  Val Loss: 41.923\n",
      "\n"
     ]
    },
    {
     "name": "stderr",
     "output_type": "stream",
     "text": [
      "train loss: 36.044: 100%|██████████| 7/7 [00:00<00:00, 11.83it/s]\n",
      "val loss: 42.301: 100%|██████████| 2/2 [00:00<00:00, 46.05it/s]\n"
     ]
    },
    {
     "name": "stdout",
     "output_type": "stream",
     "text": [
      "Epoch 328\tTrain Loss: 35.789  Val Loss: 41.991\n",
      "\n"
     ]
    },
    {
     "name": "stderr",
     "output_type": "stream",
     "text": [
      "train loss: 34.228: 100%|██████████| 7/7 [00:00<00:00, 11.07it/s]\n",
      "val loss: 42.301: 100%|██████████| 2/2 [00:00<00:00, 59.75it/s]\n"
     ]
    },
    {
     "name": "stdout",
     "output_type": "stream",
     "text": [
      "Epoch 329\tTrain Loss: 35.583  Val Loss: 41.977\n",
      "\n"
     ]
    },
    {
     "name": "stderr",
     "output_type": "stream",
     "text": [
      "train loss: 36.328: 100%|██████████| 7/7 [00:00<00:00, 12.01it/s]\n",
      "val loss: 42.325: 100%|██████████| 2/2 [00:00<00:00, 66.84it/s]\n"
     ]
    },
    {
     "name": "stdout",
     "output_type": "stream",
     "text": [
      "Epoch 330\tTrain Loss: 35.793  Val Loss: 41.978\n",
      "\n"
     ]
    },
    {
     "name": "stderr",
     "output_type": "stream",
     "text": [
      "train loss: 35.809: 100%|██████████| 7/7 [00:00<00:00, 12.96it/s]\n",
      "val loss: 42.327: 100%|██████████| 2/2 [00:00<00:00, 67.21it/s]\n"
     ]
    },
    {
     "name": "stdout",
     "output_type": "stream",
     "text": [
      "Epoch 331\tTrain Loss: 35.721  Val Loss: 41.996\n",
      "\n"
     ]
    },
    {
     "name": "stderr",
     "output_type": "stream",
     "text": [
      "train loss: 35.633: 100%|██████████| 7/7 [00:00<00:00, 11.64it/s]\n",
      "val loss: 42.361: 100%|██████████| 2/2 [00:00<00:00, 59.07it/s]\n"
     ]
    },
    {
     "name": "stdout",
     "output_type": "stream",
     "text": [
      "Epoch 332\tTrain Loss: 35.697  Val Loss: 42.046\n",
      "\n"
     ]
    },
    {
     "name": "stderr",
     "output_type": "stream",
     "text": [
      "train loss: 36.586: 100%|██████████| 7/7 [00:00<00:00, 12.29it/s]\n",
      "val loss: 42.331: 100%|██████████| 2/2 [00:00<00:00, 66.71it/s]\n"
     ]
    },
    {
     "name": "stdout",
     "output_type": "stream",
     "text": [
      "Epoch 333\tTrain Loss: 35.798  Val Loss: 42.017\n",
      "\n"
     ]
    },
    {
     "name": "stderr",
     "output_type": "stream",
     "text": [
      "train loss: 34.820: 100%|██████████| 7/7 [00:00<00:00, 12.50it/s]\n",
      "val loss: 42.392: 100%|██████████| 2/2 [00:00<00:00, 53.07it/s]\n"
     ]
    },
    {
     "name": "stdout",
     "output_type": "stream",
     "text": [
      "Epoch 334\tTrain Loss: 35.609  Val Loss: 42.048\n",
      "\n"
     ]
    },
    {
     "name": "stderr",
     "output_type": "stream",
     "text": [
      "train loss: 36.044: 100%|██████████| 7/7 [00:00<00:00, 12.13it/s]\n",
      "val loss: 42.415: 100%|██████████| 2/2 [00:00<00:00, 68.70it/s]\n"
     ]
    },
    {
     "name": "stdout",
     "output_type": "stream",
     "text": [
      "Epoch 335\tTrain Loss: 35.713  Val Loss: 42.078\n",
      "\n"
     ]
    },
    {
     "name": "stderr",
     "output_type": "stream",
     "text": [
      "train loss: 36.220: 100%|██████████| 7/7 [00:00<00:00, 13.01it/s]\n",
      "val loss: 42.408: 100%|██████████| 2/2 [00:00<00:00, 68.91it/s]\n"
     ]
    },
    {
     "name": "stdout",
     "output_type": "stream",
     "text": [
      "Epoch 336\tTrain Loss: 35.728  Val Loss: 42.089\n",
      "\n"
     ]
    },
    {
     "name": "stderr",
     "output_type": "stream",
     "text": [
      "train loss: 35.503: 100%|██████████| 7/7 [00:00<00:00, 13.26it/s]\n",
      "val loss: 42.374: 100%|██████████| 2/2 [00:00<00:00, 62.14it/s]\n"
     ]
    },
    {
     "name": "stdout",
     "output_type": "stream",
     "text": [
      "Epoch 337\tTrain Loss: 35.628  Val Loss: 42.044\n",
      "\n"
     ]
    },
    {
     "name": "stderr",
     "output_type": "stream",
     "text": [
      "train loss: 36.056: 100%|██████████| 7/7 [00:00<00:00, 12.67it/s]\n",
      "val loss: 42.448: 100%|██████████| 2/2 [00:00<00:00, 69.14it/s]\n"
     ]
    },
    {
     "name": "stdout",
     "output_type": "stream",
     "text": [
      "Epoch 338\tTrain Loss: 35.694  Val Loss: 42.126\n",
      "\n"
     ]
    },
    {
     "name": "stderr",
     "output_type": "stream",
     "text": [
      "train loss: 36.027: 100%|██████████| 7/7 [00:00<00:00, 12.65it/s]\n",
      "val loss: 42.440: 100%|██████████| 2/2 [00:00<00:00, 63.17it/s]\n"
     ]
    },
    {
     "name": "stdout",
     "output_type": "stream",
     "text": [
      "Epoch 339\tTrain Loss: 35.691  Val Loss: 42.110\n",
      "\n"
     ]
    },
    {
     "name": "stderr",
     "output_type": "stream",
     "text": [
      "train loss: 35.064: 100%|██████████| 7/7 [00:00<00:00, 12.90it/s]\n",
      "val loss: 42.501: 100%|██████████| 2/2 [00:00<00:00, 68.38it/s]\n"
     ]
    },
    {
     "name": "stdout",
     "output_type": "stream",
     "text": [
      "Epoch 340\tTrain Loss: 35.562  Val Loss: 42.153\n",
      "\n"
     ]
    },
    {
     "name": "stderr",
     "output_type": "stream",
     "text": [
      "train loss: 35.203: 100%|██████████| 7/7 [00:00<00:00, 13.18it/s]\n",
      "val loss: 42.431: 100%|██████████| 2/2 [00:00<00:00, 63.52it/s]\n"
     ]
    },
    {
     "name": "stdout",
     "output_type": "stream",
     "text": [
      "Epoch 341\tTrain Loss: 35.546  Val Loss: 42.110\n",
      "\n"
     ]
    },
    {
     "name": "stderr",
     "output_type": "stream",
     "text": [
      "train loss: 34.478: 100%|██████████| 7/7 [00:00<00:00, 12.51it/s]\n",
      "val loss: 42.481: 100%|██████████| 2/2 [00:00<00:00, 68.28it/s]\n"
     ]
    },
    {
     "name": "stdout",
     "output_type": "stream",
     "text": [
      "Epoch 342\tTrain Loss: 35.465  Val Loss: 42.180\n",
      "\n"
     ]
    },
    {
     "name": "stderr",
     "output_type": "stream",
     "text": [
      "train loss: 35.534: 100%|██████████| 7/7 [00:00<00:00, 13.25it/s]\n",
      "val loss: 42.444: 100%|██████████| 2/2 [00:00<00:00, 68.75it/s]\n"
     ]
    },
    {
     "name": "stdout",
     "output_type": "stream",
     "text": [
      "Epoch 343\tTrain Loss: 35.546  Val Loss: 42.121\n",
      "\n"
     ]
    },
    {
     "name": "stderr",
     "output_type": "stream",
     "text": [
      "train loss: 36.367: 100%|██████████| 7/7 [00:00<00:00, 13.27it/s]\n",
      "val loss: 42.456: 100%|██████████| 2/2 [00:00<00:00, 55.37it/s]\n"
     ]
    },
    {
     "name": "stdout",
     "output_type": "stream",
     "text": [
      "Epoch 344\tTrain Loss: 35.615  Val Loss: 42.132\n",
      "\n"
     ]
    },
    {
     "name": "stderr",
     "output_type": "stream",
     "text": [
      "train loss: 35.065: 100%|██████████| 7/7 [00:00<00:00, 13.14it/s]\n",
      "val loss: 42.462: 100%|██████████| 2/2 [00:00<00:00, 66.99it/s]\n"
     ]
    },
    {
     "name": "stdout",
     "output_type": "stream",
     "text": [
      "Epoch 345\tTrain Loss: 35.458  Val Loss: 42.157\n",
      "\n"
     ]
    },
    {
     "name": "stderr",
     "output_type": "stream",
     "text": [
      "train loss: 36.220: 100%|██████████| 7/7 [00:00<00:00, 13.22it/s]\n",
      "val loss: 42.469: 100%|██████████| 2/2 [00:00<00:00, 66.45it/s]\n"
     ]
    },
    {
     "name": "stdout",
     "output_type": "stream",
     "text": [
      "Epoch 346\tTrain Loss: 35.555  Val Loss: 42.157\n",
      "\n"
     ]
    },
    {
     "name": "stderr",
     "output_type": "stream",
     "text": [
      "train loss: 36.062: 100%|██████████| 7/7 [00:00<00:00, 13.32it/s]\n",
      "val loss: 42.528: 100%|██████████| 2/2 [00:00<00:00, 68.99it/s]\n"
     ]
    },
    {
     "name": "stdout",
     "output_type": "stream",
     "text": [
      "Epoch 347\tTrain Loss: 35.517  Val Loss: 42.192\n",
      "\n"
     ]
    },
    {
     "name": "stderr",
     "output_type": "stream",
     "text": [
      "train loss: 35.876: 100%|██████████| 7/7 [00:00<00:00, 13.15it/s]\n",
      "val loss: 42.536: 100%|██████████| 2/2 [00:00<00:00, 67.04it/s]\n"
     ]
    },
    {
     "name": "stdout",
     "output_type": "stream",
     "text": [
      "Epoch 348\tTrain Loss: 35.479  Val Loss: 42.208\n",
      "\n"
     ]
    },
    {
     "name": "stderr",
     "output_type": "stream",
     "text": [
      "train loss: 36.709: 100%|██████████| 7/7 [00:00<00:00, 13.26it/s]\n",
      "val loss: 42.502: 100%|██████████| 2/2 [00:00<00:00, 69.07it/s]\n"
     ]
    },
    {
     "name": "stdout",
     "output_type": "stream",
     "text": [
      "Epoch 349\tTrain Loss: 35.563  Val Loss: 42.199\n",
      "\n"
     ]
    },
    {
     "name": "stderr",
     "output_type": "stream",
     "text": [
      "train loss: 33.548: 100%|██████████| 7/7 [00:00<00:00, 12.86it/s]\n",
      "val loss: 42.530: 100%|██████████| 2/2 [00:00<00:00, 66.57it/s]\n"
     ]
    },
    {
     "name": "stdout",
     "output_type": "stream",
     "text": [
      "Epoch 350\tTrain Loss: 35.203  Val Loss: 42.214\n",
      "\n"
     ]
    },
    {
     "name": "stderr",
     "output_type": "stream",
     "text": [
      "train loss: 35.951: 100%|██████████| 7/7 [00:00<00:00, 12.86it/s]\n",
      "val loss: 42.553: 100%|██████████| 2/2 [00:00<00:00, 68.09it/s]\n"
     ]
    },
    {
     "name": "stdout",
     "output_type": "stream",
     "text": [
      "Epoch 351\tTrain Loss: 35.448  Val Loss: 42.232\n",
      "\n"
     ]
    },
    {
     "name": "stderr",
     "output_type": "stream",
     "text": [
      "train loss: 34.562: 100%|██████████| 7/7 [00:00<00:00, 13.30it/s]\n",
      "val loss: 42.582: 100%|██████████| 2/2 [00:00<00:00, 48.00it/s]\n"
     ]
    },
    {
     "name": "stdout",
     "output_type": "stream",
     "text": [
      "Epoch 352\tTrain Loss: 35.277  Val Loss: 42.253\n",
      "\n"
     ]
    },
    {
     "name": "stderr",
     "output_type": "stream",
     "text": [
      "train loss: 36.403: 100%|██████████| 7/7 [00:00<00:00, 12.39it/s]\n",
      "val loss: 42.630: 100%|██████████| 2/2 [00:00<00:00, 67.98it/s]\n"
     ]
    },
    {
     "name": "stdout",
     "output_type": "stream",
     "text": [
      "Epoch 353\tTrain Loss: 35.476  Val Loss: 42.329\n",
      "\n"
     ]
    },
    {
     "name": "stderr",
     "output_type": "stream",
     "text": [
      "train loss: 34.810: 100%|██████████| 7/7 [00:00<00:00, 13.26it/s]\n",
      "val loss: 42.631: 100%|██████████| 2/2 [00:00<00:00, 48.97it/s]\n"
     ]
    },
    {
     "name": "stdout",
     "output_type": "stream",
     "text": [
      "Epoch 354\tTrain Loss: 35.304  Val Loss: 42.335\n",
      "\n"
     ]
    },
    {
     "name": "stderr",
     "output_type": "stream",
     "text": [
      "train loss: 35.654: 100%|██████████| 7/7 [00:00<00:00, 12.88it/s]\n",
      "val loss: 42.699: 100%|██████████| 2/2 [00:00<00:00, 67.45it/s]\n"
     ]
    },
    {
     "name": "stdout",
     "output_type": "stream",
     "text": [
      "Epoch 355\tTrain Loss: 35.403  Val Loss: 42.371\n",
      "\n"
     ]
    },
    {
     "name": "stderr",
     "output_type": "stream",
     "text": [
      "train loss: 35.678: 100%|██████████| 7/7 [00:00<00:00, 13.23it/s]\n",
      "val loss: 42.659: 100%|██████████| 2/2 [00:00<00:00, 58.74it/s]\n"
     ]
    },
    {
     "name": "stdout",
     "output_type": "stream",
     "text": [
      "Epoch 356\tTrain Loss: 35.370  Val Loss: 42.331\n",
      "\n"
     ]
    },
    {
     "name": "stderr",
     "output_type": "stream",
     "text": [
      "train loss: 34.979: 100%|██████████| 7/7 [00:00<00:00, 13.13it/s]\n",
      "val loss: 42.644: 100%|██████████| 2/2 [00:00<00:00, 67.71it/s]\n"
     ]
    },
    {
     "name": "stdout",
     "output_type": "stream",
     "text": [
      "Epoch 357\tTrain Loss: 35.342  Val Loss: 42.346\n",
      "\n"
     ]
    },
    {
     "name": "stderr",
     "output_type": "stream",
     "text": [
      "train loss: 36.329: 100%|██████████| 7/7 [00:00<00:00, 12.88it/s]\n",
      "val loss: 42.690: 100%|██████████| 2/2 [00:00<00:00, 62.23it/s]\n"
     ]
    },
    {
     "name": "stdout",
     "output_type": "stream",
     "text": [
      "Epoch 358\tTrain Loss: 35.495  Val Loss: 42.364\n",
      "\n"
     ]
    },
    {
     "name": "stderr",
     "output_type": "stream",
     "text": [
      "train loss: 34.736: 100%|██████████| 7/7 [00:00<00:00, 12.21it/s]\n",
      "val loss: 42.607: 100%|██████████| 2/2 [00:00<00:00, 67.73it/s]\n"
     ]
    },
    {
     "name": "stdout",
     "output_type": "stream",
     "text": [
      "Epoch 359\tTrain Loss: 35.267  Val Loss: 42.293\n",
      "\n"
     ]
    },
    {
     "name": "stderr",
     "output_type": "stream",
     "text": [
      "train loss: 36.659: 100%|██████████| 7/7 [00:00<00:00, 13.26it/s]\n",
      "val loss: 42.614: 100%|██████████| 2/2 [00:00<00:00, 51.82it/s]\n"
     ]
    },
    {
     "name": "stdout",
     "output_type": "stream",
     "text": [
      "Epoch 360\tTrain Loss: 35.439  Val Loss: 42.309\n",
      "\n"
     ]
    },
    {
     "name": "stderr",
     "output_type": "stream",
     "text": [
      "train loss: 34.857: 100%|██████████| 7/7 [00:00<00:00, 12.67it/s]\n",
      "val loss: 42.665: 100%|██████████| 2/2 [00:00<00:00, 67.64it/s]\n"
     ]
    },
    {
     "name": "stdout",
     "output_type": "stream",
     "text": [
      "Epoch 361\tTrain Loss: 35.205  Val Loss: 42.358\n",
      "\n"
     ]
    },
    {
     "name": "stderr",
     "output_type": "stream",
     "text": [
      "train loss: 35.633: 100%|██████████| 7/7 [00:00<00:00, 13.26it/s]\n",
      "val loss: 42.640: 100%|██████████| 2/2 [00:00<00:00, 49.10it/s]\n"
     ]
    },
    {
     "name": "stdout",
     "output_type": "stream",
     "text": [
      "Epoch 362\tTrain Loss: 35.255  Val Loss: 42.321\n",
      "\n"
     ]
    },
    {
     "name": "stderr",
     "output_type": "stream",
     "text": [
      "train loss: 35.780: 100%|██████████| 7/7 [00:00<00:00, 12.13it/s]\n",
      "val loss: 42.693: 100%|██████████| 2/2 [00:00<00:00, 67.93it/s]\n"
     ]
    },
    {
     "name": "stdout",
     "output_type": "stream",
     "text": [
      "Epoch 363\tTrain Loss: 35.247  Val Loss: 42.371\n",
      "\n"
     ]
    },
    {
     "name": "stderr",
     "output_type": "stream",
     "text": [
      "train loss: 35.206: 100%|██████████| 7/7 [00:00<00:00, 13.21it/s]\n",
      "val loss: 42.692: 100%|██████████| 2/2 [00:00<00:00, 49.18it/s]\n"
     ]
    },
    {
     "name": "stdout",
     "output_type": "stream",
     "text": [
      "Epoch 364\tTrain Loss: 35.175  Val Loss: 42.373\n",
      "\n"
     ]
    },
    {
     "name": "stderr",
     "output_type": "stream",
     "text": [
      "train loss: 35.611: 100%|██████████| 7/7 [00:00<00:00, 13.06it/s]\n",
      "val loss: 42.727: 100%|██████████| 2/2 [00:00<00:00, 69.13it/s]\n"
     ]
    },
    {
     "name": "stdout",
     "output_type": "stream",
     "text": [
      "Epoch 365\tTrain Loss: 35.216  Val Loss: 42.414\n",
      "\n"
     ]
    },
    {
     "name": "stderr",
     "output_type": "stream",
     "text": [
      "train loss: 36.449: 100%|██████████| 7/7 [00:00<00:00, 13.13it/s]\n",
      "val loss: 42.748: 100%|██████████| 2/2 [00:00<00:00, 68.67it/s]\n"
     ]
    },
    {
     "name": "stdout",
     "output_type": "stream",
     "text": [
      "Epoch 366\tTrain Loss: 35.303  Val Loss: 42.444\n",
      "\n"
     ]
    },
    {
     "name": "stderr",
     "output_type": "stream",
     "text": [
      "train loss: 35.519: 100%|██████████| 7/7 [00:00<00:00, 12.84it/s]\n",
      "val loss: 42.691: 100%|██████████| 2/2 [00:00<00:00, 65.14it/s]\n"
     ]
    },
    {
     "name": "stdout",
     "output_type": "stream",
     "text": [
      "Epoch 367\tTrain Loss: 35.213  Val Loss: 42.385\n",
      "\n"
     ]
    },
    {
     "name": "stderr",
     "output_type": "stream",
     "text": [
      "train loss: 33.755: 100%|██████████| 7/7 [00:00<00:00, 13.23it/s]\n",
      "val loss: 42.778: 100%|██████████| 2/2 [00:00<00:00, 52.23it/s]\n"
     ]
    },
    {
     "name": "stdout",
     "output_type": "stream",
     "text": [
      "Epoch 368\tTrain Loss: 35.027  Val Loss: 42.488\n",
      "\n"
     ]
    },
    {
     "name": "stderr",
     "output_type": "stream",
     "text": [
      "train loss: 34.119: 100%|██████████| 7/7 [00:00<00:00, 13.08it/s]\n",
      "val loss: 42.735: 100%|██████████| 2/2 [00:00<00:00, 63.89it/s]\n"
     ]
    },
    {
     "name": "stdout",
     "output_type": "stream",
     "text": [
      "Epoch 369\tTrain Loss: 35.045  Val Loss: 42.433\n",
      "\n"
     ]
    },
    {
     "name": "stderr",
     "output_type": "stream",
     "text": [
      "train loss: 34.672: 100%|██████████| 7/7 [00:00<00:00, 12.35it/s]\n",
      "val loss: 42.758: 100%|██████████| 2/2 [00:00<00:00, 64.52it/s]\n"
     ]
    },
    {
     "name": "stdout",
     "output_type": "stream",
     "text": [
      "Epoch 370\tTrain Loss: 35.059  Val Loss: 42.425\n",
      "\n"
     ]
    },
    {
     "name": "stderr",
     "output_type": "stream",
     "text": [
      "train loss: 34.318: 100%|██████████| 7/7 [00:00<00:00, 12.25it/s]\n",
      "val loss: 42.792: 100%|██████████| 2/2 [00:00<00:00, 64.27it/s]\n"
     ]
    },
    {
     "name": "stdout",
     "output_type": "stream",
     "text": [
      "Epoch 371\tTrain Loss: 35.000  Val Loss: 42.478\n",
      "\n"
     ]
    },
    {
     "name": "stderr",
     "output_type": "stream",
     "text": [
      "train loss: 35.680: 100%|██████████| 7/7 [00:00<00:00, 12.43it/s]\n",
      "val loss: 42.703: 100%|██████████| 2/2 [00:00<00:00, 61.43it/s]\n"
     ]
    },
    {
     "name": "stdout",
     "output_type": "stream",
     "text": [
      "Epoch 372\tTrain Loss: 35.133  Val Loss: 42.423\n",
      "\n"
     ]
    },
    {
     "name": "stderr",
     "output_type": "stream",
     "text": [
      "train loss: 35.000: 100%|██████████| 7/7 [00:00<00:00, 12.04it/s]\n",
      "val loss: 42.808: 100%|██████████| 2/2 [00:00<00:00, 59.28it/s]\n"
     ]
    },
    {
     "name": "stdout",
     "output_type": "stream",
     "text": [
      "Epoch 373\tTrain Loss: 35.020  Val Loss: 42.520\n",
      "\n"
     ]
    },
    {
     "name": "stderr",
     "output_type": "stream",
     "text": [
      "train loss: 35.488: 100%|██████████| 7/7 [00:00<00:00, 12.10it/s]\n",
      "val loss: 42.982: 100%|██████████| 2/2 [00:00<00:00, 56.31it/s]\n"
     ]
    },
    {
     "name": "stdout",
     "output_type": "stream",
     "text": [
      "Epoch 374\tTrain Loss: 35.178  Val Loss: 42.651\n",
      "\n"
     ]
    },
    {
     "name": "stderr",
     "output_type": "stream",
     "text": [
      "train loss: 35.547: 100%|██████████| 7/7 [00:00<00:00, 11.75it/s]\n",
      "val loss: 42.919: 100%|██████████| 2/2 [00:00<00:00, 58.33it/s]\n"
     ]
    },
    {
     "name": "stdout",
     "output_type": "stream",
     "text": [
      "Epoch 375\tTrain Loss: 35.177  Val Loss: 42.595\n",
      "\n"
     ]
    },
    {
     "name": "stderr",
     "output_type": "stream",
     "text": [
      "train loss: 35.423: 100%|██████████| 7/7 [00:00<00:00, 11.57it/s]\n",
      "val loss: 42.887: 100%|██████████| 2/2 [00:00<00:00, 60.75it/s]\n"
     ]
    },
    {
     "name": "stdout",
     "output_type": "stream",
     "text": [
      "Epoch 376\tTrain Loss: 35.065  Val Loss: 42.584\n",
      "\n"
     ]
    },
    {
     "name": "stderr",
     "output_type": "stream",
     "text": [
      "train loss: 35.580: 100%|██████████| 7/7 [00:00<00:00, 12.26it/s]\n",
      "val loss: 42.863: 100%|██████████| 2/2 [00:00<00:00, 56.73it/s]\n"
     ]
    },
    {
     "name": "stdout",
     "output_type": "stream",
     "text": [
      "Epoch 377\tTrain Loss: 35.109  Val Loss: 42.571\n",
      "\n"
     ]
    },
    {
     "name": "stderr",
     "output_type": "stream",
     "text": [
      "train loss: 34.117: 100%|██████████| 7/7 [00:00<00:00, 11.77it/s]\n",
      "val loss: 42.929: 100%|██████████| 2/2 [00:00<00:00, 62.14it/s]\n"
     ]
    },
    {
     "name": "stdout",
     "output_type": "stream",
     "text": [
      "Epoch 378\tTrain Loss: 34.936  Val Loss: 42.616\n",
      "\n"
     ]
    },
    {
     "name": "stderr",
     "output_type": "stream",
     "text": [
      "train loss: 35.229: 100%|██████████| 7/7 [00:00<00:00, 12.40it/s]\n",
      "val loss: 42.924: 100%|██████████| 2/2 [00:00<00:00, 48.50it/s]\n"
     ]
    },
    {
     "name": "stdout",
     "output_type": "stream",
     "text": [
      "Epoch 379\tTrain Loss: 34.979  Val Loss: 42.603\n",
      "\n"
     ]
    },
    {
     "name": "stderr",
     "output_type": "stream",
     "text": [
      "train loss: 35.067: 100%|██████████| 7/7 [00:00<00:00, 12.72it/s]\n",
      "val loss: 42.870: 100%|██████████| 2/2 [00:00<00:00, 69.32it/s]\n"
     ]
    },
    {
     "name": "stdout",
     "output_type": "stream",
     "text": [
      "Epoch 380\tTrain Loss: 34.963  Val Loss: 42.560\n",
      "\n"
     ]
    },
    {
     "name": "stderr",
     "output_type": "stream",
     "text": [
      "train loss: 33.664: 100%|██████████| 7/7 [00:00<00:00, 12.91it/s]\n",
      "val loss: 43.004: 100%|██████████| 2/2 [00:00<00:00, 67.83it/s]\n"
     ]
    },
    {
     "name": "stdout",
     "output_type": "stream",
     "text": [
      "Epoch 381\tTrain Loss: 34.823  Val Loss: 42.669\n",
      "\n"
     ]
    },
    {
     "name": "stderr",
     "output_type": "stream",
     "text": [
      "train loss: 35.212: 100%|██████████| 7/7 [00:00<00:00, 12.51it/s]\n",
      "val loss: 42.972: 100%|██████████| 2/2 [00:00<00:00, 62.68it/s]\n"
     ]
    },
    {
     "name": "stdout",
     "output_type": "stream",
     "text": [
      "Epoch 382\tTrain Loss: 34.952  Val Loss: 42.668\n",
      "\n"
     ]
    },
    {
     "name": "stderr",
     "output_type": "stream",
     "text": [
      "train loss: 35.629: 100%|██████████| 7/7 [00:00<00:00, 12.61it/s]\n",
      "val loss: 42.866: 100%|██████████| 2/2 [00:00<00:00, 68.03it/s]\n"
     ]
    },
    {
     "name": "stdout",
     "output_type": "stream",
     "text": [
      "Epoch 383\tTrain Loss: 34.933  Val Loss: 42.591\n",
      "\n"
     ]
    },
    {
     "name": "stderr",
     "output_type": "stream",
     "text": [
      "train loss: 35.729: 100%|██████████| 7/7 [00:00<00:00, 13.18it/s]\n",
      "val loss: 42.905: 100%|██████████| 2/2 [00:00<00:00, 67.97it/s]\n"
     ]
    },
    {
     "name": "stdout",
     "output_type": "stream",
     "text": [
      "Epoch 384\tTrain Loss: 34.886  Val Loss: 42.615\n",
      "\n"
     ]
    },
    {
     "name": "stderr",
     "output_type": "stream",
     "text": [
      "train loss: 34.980: 100%|██████████| 7/7 [00:00<00:00, 13.19it/s]\n",
      "val loss: 42.990: 100%|██████████| 2/2 [00:00<00:00, 68.63it/s]\n"
     ]
    },
    {
     "name": "stdout",
     "output_type": "stream",
     "text": [
      "Epoch 385\tTrain Loss: 34.790  Val Loss: 42.666\n",
      "\n"
     ]
    },
    {
     "name": "stderr",
     "output_type": "stream",
     "text": [
      "train loss: 34.287: 100%|██████████| 7/7 [00:00<00:00, 13.14it/s]\n",
      "val loss: 42.938: 100%|██████████| 2/2 [00:00<00:00, 67.56it/s]\n"
     ]
    },
    {
     "name": "stdout",
     "output_type": "stream",
     "text": [
      "Epoch 386\tTrain Loss: 34.728  Val Loss: 42.621\n",
      "\n"
     ]
    },
    {
     "name": "stderr",
     "output_type": "stream",
     "text": [
      "train loss: 34.189: 100%|██████████| 7/7 [00:00<00:00, 13.11it/s]\n",
      "val loss: 43.119: 100%|██████████| 2/2 [00:00<00:00, 69.00it/s]\n"
     ]
    },
    {
     "name": "stdout",
     "output_type": "stream",
     "text": [
      "Epoch 387\tTrain Loss: 34.733  Val Loss: 42.775\n",
      "\n"
     ]
    },
    {
     "name": "stderr",
     "output_type": "stream",
     "text": [
      "train loss: 35.089: 100%|██████████| 7/7 [00:00<00:00, 12.73it/s]\n",
      "val loss: 43.037: 100%|██████████| 2/2 [00:00<00:00, 62.54it/s]\n"
     ]
    },
    {
     "name": "stdout",
     "output_type": "stream",
     "text": [
      "Epoch 388\tTrain Loss: 34.800  Val Loss: 42.728\n",
      "\n"
     ]
    },
    {
     "name": "stderr",
     "output_type": "stream",
     "text": [
      "train loss: 34.883: 100%|██████████| 7/7 [00:00<00:00, 13.11it/s]\n",
      "val loss: 43.013: 100%|██████████| 2/2 [00:00<00:00, 68.86it/s]\n"
     ]
    },
    {
     "name": "stdout",
     "output_type": "stream",
     "text": [
      "Epoch 389\tTrain Loss: 34.808  Val Loss: 42.694\n",
      "\n"
     ]
    },
    {
     "name": "stderr",
     "output_type": "stream",
     "text": [
      "train loss: 34.524: 100%|██████████| 7/7 [00:00<00:00, 13.16it/s]\n",
      "val loss: 43.048: 100%|██████████| 2/2 [00:00<00:00, 68.17it/s]\n"
     ]
    },
    {
     "name": "stdout",
     "output_type": "stream",
     "text": [
      "Epoch 390\tTrain Loss: 34.717  Val Loss: 42.741\n",
      "\n"
     ]
    },
    {
     "name": "stderr",
     "output_type": "stream",
     "text": [
      "train loss: 35.113: 100%|██████████| 7/7 [00:00<00:00, 12.60it/s]\n",
      "val loss: 43.141: 100%|██████████| 2/2 [00:00<00:00, 67.40it/s]\n"
     ]
    },
    {
     "name": "stdout",
     "output_type": "stream",
     "text": [
      "Epoch 391\tTrain Loss: 34.753  Val Loss: 42.834\n",
      "\n"
     ]
    },
    {
     "name": "stderr",
     "output_type": "stream",
     "text": [
      "train loss: 35.496: 100%|██████████| 7/7 [00:00<00:00, 12.77it/s]\n",
      "val loss: 43.098: 100%|██████████| 2/2 [00:00<00:00, 50.60it/s]\n"
     ]
    },
    {
     "name": "stdout",
     "output_type": "stream",
     "text": [
      "Epoch 392\tTrain Loss: 34.761  Val Loss: 42.804\n",
      "\n"
     ]
    },
    {
     "name": "stderr",
     "output_type": "stream",
     "text": [
      "train loss: 33.890: 100%|██████████| 7/7 [00:00<00:00, 13.19it/s]\n",
      "val loss: 43.030: 100%|██████████| 2/2 [00:00<00:00, 68.63it/s]\n"
     ]
    },
    {
     "name": "stdout",
     "output_type": "stream",
     "text": [
      "Epoch 393\tTrain Loss: 34.557  Val Loss: 42.757\n",
      "\n"
     ]
    },
    {
     "name": "stderr",
     "output_type": "stream",
     "text": [
      "train loss: 35.080: 100%|██████████| 7/7 [00:00<00:00, 12.63it/s]\n",
      "val loss: 43.057: 100%|██████████| 2/2 [00:00<00:00, 61.80it/s]\n"
     ]
    },
    {
     "name": "stdout",
     "output_type": "stream",
     "text": [
      "Epoch 394\tTrain Loss: 34.662  Val Loss: 42.749\n",
      "\n"
     ]
    },
    {
     "name": "stderr",
     "output_type": "stream",
     "text": [
      "train loss: 33.484: 100%|██████████| 7/7 [00:00<00:00, 13.05it/s]\n",
      "val loss: 43.133: 100%|██████████| 2/2 [00:00<00:00, 69.02it/s]\n"
     ]
    },
    {
     "name": "stdout",
     "output_type": "stream",
     "text": [
      "Epoch 395\tTrain Loss: 34.470  Val Loss: 42.809\n",
      "\n"
     ]
    },
    {
     "name": "stderr",
     "output_type": "stream",
     "text": [
      "train loss: 33.170: 100%|██████████| 7/7 [00:00<00:00, 13.28it/s]\n",
      "val loss: 43.077: 100%|██████████| 2/2 [00:00<00:00, 69.52it/s]\n"
     ]
    },
    {
     "name": "stdout",
     "output_type": "stream",
     "text": [
      "Epoch 396\tTrain Loss: 34.414  Val Loss: 42.804\n",
      "\n"
     ]
    },
    {
     "name": "stderr",
     "output_type": "stream",
     "text": [
      "train loss: 34.766: 100%|██████████| 7/7 [00:00<00:00, 12.78it/s]\n",
      "val loss: 43.078: 100%|██████████| 2/2 [00:00<00:00, 68.54it/s]\n"
     ]
    },
    {
     "name": "stdout",
     "output_type": "stream",
     "text": [
      "Epoch 397\tTrain Loss: 34.545  Val Loss: 42.810\n",
      "\n"
     ]
    },
    {
     "name": "stderr",
     "output_type": "stream",
     "text": [
      "train loss: 33.603: 100%|██████████| 7/7 [00:00<00:00, 12.95it/s]\n",
      "val loss: 43.190: 100%|██████████| 2/2 [00:00<00:00, 66.89it/s]\n"
     ]
    },
    {
     "name": "stdout",
     "output_type": "stream",
     "text": [
      "Epoch 398\tTrain Loss: 34.428  Val Loss: 42.880\n",
      "\n"
     ]
    },
    {
     "name": "stderr",
     "output_type": "stream",
     "text": [
      "train loss: 34.209: 100%|██████████| 7/7 [00:00<00:00, 12.65it/s]\n",
      "val loss: 43.137: 100%|██████████| 2/2 [00:00<00:00, 65.95it/s]\n"
     ]
    },
    {
     "name": "stdout",
     "output_type": "stream",
     "text": [
      "Epoch 399\tTrain Loss: 34.496  Val Loss: 42.856\n",
      "\n"
     ]
    },
    {
     "name": "stderr",
     "output_type": "stream",
     "text": [
      "train loss: 34.800: 100%|██████████| 7/7 [00:00<00:00, 12.51it/s]\n",
      "val loss: 43.260: 100%|██████████| 2/2 [00:00<00:00, 48.27it/s]\n"
     ]
    },
    {
     "name": "stdout",
     "output_type": "stream",
     "text": [
      "Epoch 400\tTrain Loss: 34.619  Val Loss: 42.967\n",
      "\n"
     ]
    },
    {
     "name": "stderr",
     "output_type": "stream",
     "text": [
      "train loss: 33.563: 100%|██████████| 7/7 [00:00<00:00, 12.30it/s]\n",
      "val loss: 43.179: 100%|██████████| 2/2 [00:00<00:00, 63.91it/s]\n"
     ]
    },
    {
     "name": "stdout",
     "output_type": "stream",
     "text": [
      "Epoch 401\tTrain Loss: 34.535  Val Loss: 42.935\n",
      "\n"
     ]
    },
    {
     "name": "stderr",
     "output_type": "stream",
     "text": [
      "train loss: 35.652: 100%|██████████| 7/7 [00:00<00:00, 12.92it/s]\n",
      "val loss: 43.383: 100%|██████████| 2/2 [00:00<00:00, 68.37it/s]\n"
     ]
    },
    {
     "name": "stdout",
     "output_type": "stream",
     "text": [
      "Epoch 402\tTrain Loss: 34.725  Val Loss: 43.131\n",
      "\n"
     ]
    },
    {
     "name": "stderr",
     "output_type": "stream",
     "text": [
      "train loss: 34.527: 100%|██████████| 7/7 [00:00<00:00, 12.71it/s]\n",
      "val loss: 43.173: 100%|██████████| 2/2 [00:00<00:00, 64.57it/s]\n"
     ]
    },
    {
     "name": "stdout",
     "output_type": "stream",
     "text": [
      "Epoch 403\tTrain Loss: 34.579  Val Loss: 42.908\n",
      "\n"
     ]
    },
    {
     "name": "stderr",
     "output_type": "stream",
     "text": [
      "train loss: 34.723: 100%|██████████| 7/7 [00:00<00:00, 12.43it/s]\n",
      "val loss: 43.201: 100%|██████████| 2/2 [00:00<00:00, 62.44it/s]\n"
     ]
    },
    {
     "name": "stdout",
     "output_type": "stream",
     "text": [
      "Epoch 404\tTrain Loss: 34.551  Val Loss: 42.905\n",
      "\n"
     ]
    },
    {
     "name": "stderr",
     "output_type": "stream",
     "text": [
      "train loss: 34.152: 100%|██████████| 7/7 [00:00<00:00, 12.06it/s]\n",
      "val loss: 43.167: 100%|██████████| 2/2 [00:00<00:00, 63.15it/s]\n"
     ]
    },
    {
     "name": "stdout",
     "output_type": "stream",
     "text": [
      "Epoch 405\tTrain Loss: 34.448  Val Loss: 42.854\n",
      "\n"
     ]
    },
    {
     "name": "stderr",
     "output_type": "stream",
     "text": [
      "train loss: 35.636: 100%|██████████| 7/7 [00:00<00:00, 12.01it/s]\n",
      "val loss: 43.155: 100%|██████████| 2/2 [00:00<00:00, 64.04it/s]\n"
     ]
    },
    {
     "name": "stdout",
     "output_type": "stream",
     "text": [
      "Epoch 406\tTrain Loss: 34.551  Val Loss: 42.868\n",
      "\n"
     ]
    },
    {
     "name": "stderr",
     "output_type": "stream",
     "text": [
      "train loss: 34.468: 100%|██████████| 7/7 [00:00<00:00, 12.19it/s]\n",
      "val loss: 43.238: 100%|██████████| 2/2 [00:00<00:00, 67.72it/s]\n"
     ]
    },
    {
     "name": "stdout",
     "output_type": "stream",
     "text": [
      "Epoch 407\tTrain Loss: 34.377  Val Loss: 42.951\n",
      "\n"
     ]
    },
    {
     "name": "stderr",
     "output_type": "stream",
     "text": [
      "train loss: 32.736: 100%|██████████| 7/7 [00:00<00:00, 13.17it/s]\n",
      "val loss: 43.252: 100%|██████████| 2/2 [00:00<00:00, 64.63it/s]\n"
     ]
    },
    {
     "name": "stdout",
     "output_type": "stream",
     "text": [
      "Epoch 408\tTrain Loss: 34.163  Val Loss: 42.952\n",
      "\n"
     ]
    },
    {
     "name": "stderr",
     "output_type": "stream",
     "text": [
      "train loss: 34.899: 100%|██████████| 7/7 [00:00<00:00, 12.42it/s]\n",
      "val loss: 43.306: 100%|██████████| 2/2 [00:00<00:00, 67.39it/s]\n"
     ]
    },
    {
     "name": "stdout",
     "output_type": "stream",
     "text": [
      "Epoch 409\tTrain Loss: 34.371  Val Loss: 42.999\n",
      "\n"
     ]
    },
    {
     "name": "stderr",
     "output_type": "stream",
     "text": [
      "train loss: 34.705: 100%|██████████| 7/7 [00:00<00:00, 13.05it/s]\n",
      "val loss: 43.285: 100%|██████████| 2/2 [00:00<00:00, 67.90it/s]\n"
     ]
    },
    {
     "name": "stdout",
     "output_type": "stream",
     "text": [
      "Epoch 410\tTrain Loss: 34.344  Val Loss: 43.013\n",
      "\n"
     ]
    },
    {
     "name": "stderr",
     "output_type": "stream",
     "text": [
      "train loss: 34.453: 100%|██████████| 7/7 [00:00<00:00, 12.48it/s]\n",
      "val loss: 43.323: 100%|██████████| 2/2 [00:00<00:00, 60.59it/s]\n"
     ]
    },
    {
     "name": "stdout",
     "output_type": "stream",
     "text": [
      "Epoch 411\tTrain Loss: 34.310  Val Loss: 43.048\n",
      "\n"
     ]
    },
    {
     "name": "stderr",
     "output_type": "stream",
     "text": [
      "train loss: 33.530: 100%|██████████| 7/7 [00:00<00:00, 12.05it/s]\n",
      "val loss: 43.286: 100%|██████████| 2/2 [00:00<00:00, 60.84it/s]\n"
     ]
    },
    {
     "name": "stdout",
     "output_type": "stream",
     "text": [
      "Epoch 412\tTrain Loss: 34.188  Val Loss: 42.993\n",
      "\n"
     ]
    },
    {
     "name": "stderr",
     "output_type": "stream",
     "text": [
      "train loss: 34.094: 100%|██████████| 7/7 [00:00<00:00, 12.14it/s]\n",
      "val loss: 43.327: 100%|██████████| 2/2 [00:00<00:00, 60.92it/s]\n"
     ]
    },
    {
     "name": "stdout",
     "output_type": "stream",
     "text": [
      "Epoch 413\tTrain Loss: 34.212  Val Loss: 43.012\n",
      "\n"
     ]
    },
    {
     "name": "stderr",
     "output_type": "stream",
     "text": [
      "train loss: 33.346: 100%|██████████| 7/7 [00:00<00:00, 12.08it/s]\n",
      "val loss: 43.310: 100%|██████████| 2/2 [00:00<00:00, 62.21it/s]\n"
     ]
    },
    {
     "name": "stdout",
     "output_type": "stream",
     "text": [
      "Epoch 414\tTrain Loss: 34.112  Val Loss: 43.032\n",
      "\n"
     ]
    },
    {
     "name": "stderr",
     "output_type": "stream",
     "text": [
      "train loss: 34.322: 100%|██████████| 7/7 [00:00<00:00, 11.55it/s]\n",
      "val loss: 43.359: 100%|██████████| 2/2 [00:00<00:00, 61.11it/s]\n"
     ]
    },
    {
     "name": "stdout",
     "output_type": "stream",
     "text": [
      "Epoch 415\tTrain Loss: 34.208  Val Loss: 43.086\n",
      "\n"
     ]
    },
    {
     "name": "stderr",
     "output_type": "stream",
     "text": [
      "train loss: 34.167: 100%|██████████| 7/7 [00:00<00:00, 12.73it/s]\n",
      "val loss: 43.338: 100%|██████████| 2/2 [00:00<00:00, 49.83it/s]\n"
     ]
    },
    {
     "name": "stdout",
     "output_type": "stream",
     "text": [
      "Epoch 416\tTrain Loss: 34.168  Val Loss: 43.050\n",
      "\n"
     ]
    },
    {
     "name": "stderr",
     "output_type": "stream",
     "text": [
      "train loss: 34.053: 100%|██████████| 7/7 [00:00<00:00, 13.17it/s]\n",
      "val loss: 43.366: 100%|██████████| 2/2 [00:00<00:00, 69.23it/s]\n"
     ]
    },
    {
     "name": "stdout",
     "output_type": "stream",
     "text": [
      "Epoch 417\tTrain Loss: 34.156  Val Loss: 43.068\n",
      "\n"
     ]
    },
    {
     "name": "stderr",
     "output_type": "stream",
     "text": [
      "train loss: 34.951: 100%|██████████| 7/7 [00:00<00:00, 12.76it/s]\n",
      "val loss: 43.371: 100%|██████████| 2/2 [00:00<00:00, 63.59it/s]\n"
     ]
    },
    {
     "name": "stdout",
     "output_type": "stream",
     "text": [
      "Epoch 418\tTrain Loss: 34.225  Val Loss: 43.125\n",
      "\n"
     ]
    },
    {
     "name": "stderr",
     "output_type": "stream",
     "text": [
      "train loss: 34.699: 100%|██████████| 7/7 [00:00<00:00, 11.90it/s]\n",
      "val loss: 43.419: 100%|██████████| 2/2 [00:00<00:00, 64.06it/s]\n"
     ]
    },
    {
     "name": "stdout",
     "output_type": "stream",
     "text": [
      "Epoch 419\tTrain Loss: 34.193  Val Loss: 43.144\n",
      "\n"
     ]
    },
    {
     "name": "stderr",
     "output_type": "stream",
     "text": [
      "train loss: 34.014: 100%|██████████| 7/7 [00:00<00:00, 12.14it/s]\n",
      "val loss: 43.439: 100%|██████████| 2/2 [00:00<00:00, 58.67it/s]\n"
     ]
    },
    {
     "name": "stdout",
     "output_type": "stream",
     "text": [
      "Epoch 420\tTrain Loss: 34.106  Val Loss: 43.137\n",
      "\n"
     ]
    },
    {
     "name": "stderr",
     "output_type": "stream",
     "text": [
      "train loss: 34.038: 100%|██████████| 7/7 [00:00<00:00, 12.19it/s]\n",
      "val loss: 43.433: 100%|██████████| 2/2 [00:00<00:00, 68.04it/s]\n"
     ]
    },
    {
     "name": "stdout",
     "output_type": "stream",
     "text": [
      "Epoch 421\tTrain Loss: 34.073  Val Loss: 43.147\n",
      "\n"
     ]
    },
    {
     "name": "stderr",
     "output_type": "stream",
     "text": [
      "train loss: 33.376: 100%|██████████| 7/7 [00:00<00:00, 12.58it/s]\n",
      "val loss: 43.483: 100%|██████████| 2/2 [00:00<00:00, 44.59it/s]\n"
     ]
    },
    {
     "name": "stdout",
     "output_type": "stream",
     "text": [
      "Epoch 422\tTrain Loss: 33.985  Val Loss: 43.205\n",
      "\n"
     ]
    },
    {
     "name": "stderr",
     "output_type": "stream",
     "text": [
      "train loss: 34.804: 100%|██████████| 7/7 [00:00<00:00, 12.79it/s]\n",
      "val loss: 43.495: 100%|██████████| 2/2 [00:00<00:00, 63.83it/s]\n"
     ]
    },
    {
     "name": "stdout",
     "output_type": "stream",
     "text": [
      "Epoch 423\tTrain Loss: 34.138  Val Loss: 43.223\n",
      "\n"
     ]
    },
    {
     "name": "stderr",
     "output_type": "stream",
     "text": [
      "train loss: 34.701: 100%|██████████| 7/7 [00:00<00:00, 12.83it/s]\n",
      "val loss: 43.514: 100%|██████████| 2/2 [00:00<00:00, 52.15it/s]\n"
     ]
    },
    {
     "name": "stdout",
     "output_type": "stream",
     "text": [
      "Epoch 424\tTrain Loss: 34.118  Val Loss: 43.215\n",
      "\n"
     ]
    },
    {
     "name": "stderr",
     "output_type": "stream",
     "text": [
      "train loss: 33.650: 100%|██████████| 7/7 [00:00<00:00, 12.56it/s]\n",
      "val loss: 43.439: 100%|██████████| 2/2 [00:00<00:00, 62.76it/s]\n"
     ]
    },
    {
     "name": "stdout",
     "output_type": "stream",
     "text": [
      "Epoch 425\tTrain Loss: 34.000  Val Loss: 43.161\n",
      "\n"
     ]
    },
    {
     "name": "stderr",
     "output_type": "stream",
     "text": [
      "train loss: 34.126: 100%|██████████| 7/7 [00:00<00:00, 12.18it/s]\n",
      "val loss: 43.569: 100%|██████████| 2/2 [00:00<00:00, 62.40it/s]\n"
     ]
    },
    {
     "name": "stdout",
     "output_type": "stream",
     "text": [
      "Epoch 426\tTrain Loss: 34.069  Val Loss: 43.284\n",
      "\n"
     ]
    },
    {
     "name": "stderr",
     "output_type": "stream",
     "text": [
      "train loss: 34.015: 100%|██████████| 7/7 [00:00<00:00, 12.50it/s]\n",
      "val loss: 43.456: 100%|██████████| 2/2 [00:00<00:00, 46.71it/s]\n"
     ]
    },
    {
     "name": "stdout",
     "output_type": "stream",
     "text": [
      "Epoch 427\tTrain Loss: 34.034  Val Loss: 43.207\n",
      "\n"
     ]
    },
    {
     "name": "stderr",
     "output_type": "stream",
     "text": [
      "train loss: 35.326: 100%|██████████| 7/7 [00:00<00:00, 12.70it/s]\n",
      "val loss: 43.499: 100%|██████████| 2/2 [00:00<00:00, 65.29it/s]\n"
     ]
    },
    {
     "name": "stdout",
     "output_type": "stream",
     "text": [
      "Epoch 428\tTrain Loss: 34.150  Val Loss: 43.234\n",
      "\n"
     ]
    },
    {
     "name": "stderr",
     "output_type": "stream",
     "text": [
      "train loss: 35.242: 100%|██████████| 7/7 [00:00<00:00, 11.94it/s]\n",
      "val loss: 43.516: 100%|██████████| 2/2 [00:00<00:00, 58.82it/s]\n"
     ]
    },
    {
     "name": "stdout",
     "output_type": "stream",
     "text": [
      "Epoch 429\tTrain Loss: 34.118  Val Loss: 43.242\n",
      "\n"
     ]
    },
    {
     "name": "stderr",
     "output_type": "stream",
     "text": [
      "train loss: 33.766: 100%|██████████| 7/7 [00:00<00:00, 11.74it/s]\n",
      "val loss: 43.500: 100%|██████████| 2/2 [00:00<00:00, 62.05it/s]\n"
     ]
    },
    {
     "name": "stdout",
     "output_type": "stream",
     "text": [
      "Epoch 430\tTrain Loss: 33.958  Val Loss: 43.228\n",
      "\n"
     ]
    },
    {
     "name": "stderr",
     "output_type": "stream",
     "text": [
      "train loss: 34.026: 100%|██████████| 7/7 [00:00<00:00, 12.40it/s]\n",
      "val loss: 43.651: 100%|██████████| 2/2 [00:00<00:00, 64.67it/s]\n"
     ]
    },
    {
     "name": "stdout",
     "output_type": "stream",
     "text": [
      "Epoch 431\tTrain Loss: 33.964  Val Loss: 43.380\n",
      "\n"
     ]
    },
    {
     "name": "stderr",
     "output_type": "stream",
     "text": [
      "train loss: 35.255: 100%|██████████| 7/7 [00:00<00:00, 12.30it/s]\n",
      "val loss: 43.562: 100%|██████████| 2/2 [00:00<00:00, 50.79it/s]\n"
     ]
    },
    {
     "name": "stdout",
     "output_type": "stream",
     "text": [
      "Epoch 432\tTrain Loss: 34.060  Val Loss: 43.298\n",
      "\n"
     ]
    },
    {
     "name": "stderr",
     "output_type": "stream",
     "text": [
      "train loss: 34.765: 100%|██████████| 7/7 [00:00<00:00, 12.31it/s]\n",
      "val loss: 43.571: 100%|██████████| 2/2 [00:00<00:00, 68.68it/s]\n"
     ]
    },
    {
     "name": "stdout",
     "output_type": "stream",
     "text": [
      "Epoch 433\tTrain Loss: 33.983  Val Loss: 43.329\n",
      "\n"
     ]
    },
    {
     "name": "stderr",
     "output_type": "stream",
     "text": [
      "train loss: 34.654: 100%|██████████| 7/7 [00:00<00:00, 13.25it/s]\n",
      "val loss: 43.596: 100%|██████████| 2/2 [00:00<00:00, 57.58it/s]\n"
     ]
    },
    {
     "name": "stdout",
     "output_type": "stream",
     "text": [
      "Epoch 434\tTrain Loss: 33.961  Val Loss: 43.376\n",
      "\n"
     ]
    },
    {
     "name": "stderr",
     "output_type": "stream",
     "text": [
      "train loss: 34.990: 100%|██████████| 7/7 [00:00<00:00, 12.59it/s]\n",
      "val loss: 43.676: 100%|██████████| 2/2 [00:00<00:00, 63.14it/s]\n"
     ]
    },
    {
     "name": "stdout",
     "output_type": "stream",
     "text": [
      "Epoch 435\tTrain Loss: 33.981  Val Loss: 43.406\n",
      "\n"
     ]
    },
    {
     "name": "stderr",
     "output_type": "stream",
     "text": [
      "train loss: 35.053: 100%|██████████| 7/7 [00:00<00:00, 12.51it/s]\n",
      "val loss: 43.596: 100%|██████████| 2/2 [00:00<00:00, 69.26it/s]\n"
     ]
    },
    {
     "name": "stdout",
     "output_type": "stream",
     "text": [
      "Epoch 436\tTrain Loss: 33.982  Val Loss: 43.336\n",
      "\n"
     ]
    },
    {
     "name": "stderr",
     "output_type": "stream",
     "text": [
      "train loss: 33.748: 100%|██████████| 7/7 [00:00<00:00, 12.91it/s]\n",
      "val loss: 43.648: 100%|██████████| 2/2 [00:00<00:00, 62.30it/s]\n"
     ]
    },
    {
     "name": "stdout",
     "output_type": "stream",
     "text": [
      "Epoch 437\tTrain Loss: 33.826  Val Loss: 43.401\n",
      "\n"
     ]
    },
    {
     "name": "stderr",
     "output_type": "stream",
     "text": [
      "train loss: 33.770: 100%|██████████| 7/7 [00:00<00:00, 13.25it/s]\n",
      "val loss: 43.650: 100%|██████████| 2/2 [00:00<00:00, 45.68it/s]\n"
     ]
    },
    {
     "name": "stdout",
     "output_type": "stream",
     "text": [
      "Epoch 438\tTrain Loss: 33.805  Val Loss: 43.429\n",
      "\n"
     ]
    },
    {
     "name": "stderr",
     "output_type": "stream",
     "text": [
      "train loss: 33.347: 100%|██████████| 7/7 [00:00<00:00, 13.08it/s]\n",
      "val loss: 43.650: 100%|██████████| 2/2 [00:00<00:00, 67.31it/s]\n"
     ]
    },
    {
     "name": "stdout",
     "output_type": "stream",
     "text": [
      "Epoch 439\tTrain Loss: 33.738  Val Loss: 43.394\n",
      "\n"
     ]
    },
    {
     "name": "stderr",
     "output_type": "stream",
     "text": [
      "train loss: 33.243: 100%|██████████| 7/7 [00:00<00:00, 13.25it/s]\n",
      "val loss: 43.661: 100%|██████████| 2/2 [00:00<00:00, 68.38it/s]\n"
     ]
    },
    {
     "name": "stdout",
     "output_type": "stream",
     "text": [
      "Epoch 440\tTrain Loss: 33.709  Val Loss: 43.402\n",
      "\n"
     ]
    },
    {
     "name": "stderr",
     "output_type": "stream",
     "text": [
      "train loss: 34.474: 100%|██████████| 7/7 [00:00<00:00, 12.75it/s]\n",
      "val loss: 43.691: 100%|██████████| 2/2 [00:00<00:00, 69.60it/s]\n"
     ]
    },
    {
     "name": "stdout",
     "output_type": "stream",
     "text": [
      "Epoch 441\tTrain Loss: 33.825  Val Loss: 43.457\n",
      "\n"
     ]
    },
    {
     "name": "stderr",
     "output_type": "stream",
     "text": [
      "train loss: 34.426: 100%|██████████| 7/7 [00:00<00:00, 12.86it/s]\n",
      "val loss: 43.737: 100%|██████████| 2/2 [00:00<00:00, 69.86it/s]\n"
     ]
    },
    {
     "name": "stdout",
     "output_type": "stream",
     "text": [
      "Epoch 442\tTrain Loss: 33.798  Val Loss: 43.499\n",
      "\n"
     ]
    },
    {
     "name": "stderr",
     "output_type": "stream",
     "text": [
      "train loss: 32.676: 100%|██████████| 7/7 [00:00<00:00, 13.09it/s]\n",
      "val loss: 43.681: 100%|██████████| 2/2 [00:00<00:00, 68.22it/s]\n"
     ]
    },
    {
     "name": "stdout",
     "output_type": "stream",
     "text": [
      "Epoch 443\tTrain Loss: 33.576  Val Loss: 43.427\n",
      "\n"
     ]
    },
    {
     "name": "stderr",
     "output_type": "stream",
     "text": [
      "train loss: 34.274: 100%|██████████| 7/7 [00:00<00:00, 12.86it/s]\n",
      "val loss: 43.696: 100%|██████████| 2/2 [00:00<00:00, 68.39it/s]\n"
     ]
    },
    {
     "name": "stdout",
     "output_type": "stream",
     "text": [
      "Epoch 444\tTrain Loss: 33.733  Val Loss: 43.438\n",
      "\n"
     ]
    },
    {
     "name": "stderr",
     "output_type": "stream",
     "text": [
      "train loss: 33.777: 100%|██████████| 7/7 [00:00<00:00, 13.02it/s]\n",
      "val loss: 43.703: 100%|██████████| 2/2 [00:00<00:00, 67.45it/s]\n"
     ]
    },
    {
     "name": "stdout",
     "output_type": "stream",
     "text": [
      "Epoch 445\tTrain Loss: 33.654  Val Loss: 43.476\n",
      "\n"
     ]
    },
    {
     "name": "stderr",
     "output_type": "stream",
     "text": [
      "train loss: 33.864: 100%|██████████| 7/7 [00:00<00:00, 13.29it/s]\n",
      "val loss: 43.767: 100%|██████████| 2/2 [00:00<00:00, 65.35it/s]\n"
     ]
    },
    {
     "name": "stdout",
     "output_type": "stream",
     "text": [
      "Epoch 446\tTrain Loss: 33.653  Val Loss: 43.517\n",
      "\n"
     ]
    },
    {
     "name": "stderr",
     "output_type": "stream",
     "text": [
      "train loss: 33.377: 100%|██████████| 7/7 [00:00<00:00, 12.52it/s]\n",
      "val loss: 43.808: 100%|██████████| 2/2 [00:00<00:00, 68.05it/s]\n"
     ]
    },
    {
     "name": "stdout",
     "output_type": "stream",
     "text": [
      "Epoch 447\tTrain Loss: 33.590  Val Loss: 43.563\n",
      "\n"
     ]
    },
    {
     "name": "stderr",
     "output_type": "stream",
     "text": [
      "train loss: 35.425: 100%|██████████| 7/7 [00:00<00:00, 13.06it/s]\n",
      "val loss: 43.742: 100%|██████████| 2/2 [00:00<00:00, 69.11it/s]\n"
     ]
    },
    {
     "name": "stdout",
     "output_type": "stream",
     "text": [
      "Epoch 448\tTrain Loss: 33.789  Val Loss: 43.501\n",
      "\n"
     ]
    },
    {
     "name": "stderr",
     "output_type": "stream",
     "text": [
      "train loss: 34.094: 100%|██████████| 7/7 [00:00<00:00, 13.26it/s]\n",
      "val loss: 43.793: 100%|██████████| 2/2 [00:00<00:00, 68.33it/s]\n"
     ]
    },
    {
     "name": "stdout",
     "output_type": "stream",
     "text": [
      "Epoch 449\tTrain Loss: 33.622  Val Loss: 43.547\n",
      "\n"
     ]
    },
    {
     "name": "stderr",
     "output_type": "stream",
     "text": [
      "train loss: 31.348: 100%|██████████| 7/7 [00:00<00:00, 13.17it/s]\n",
      "val loss: 43.801: 100%|██████████| 2/2 [00:00<00:00, 69.16it/s]\n"
     ]
    },
    {
     "name": "stdout",
     "output_type": "stream",
     "text": [
      "Epoch 450\tTrain Loss: 33.311  Val Loss: 43.563\n",
      "\n"
     ]
    },
    {
     "name": "stderr",
     "output_type": "stream",
     "text": [
      "train loss: 34.202: 100%|██████████| 7/7 [00:00<00:00, 13.30it/s]\n",
      "val loss: 43.855: 100%|██████████| 2/2 [00:00<00:00, 69.24it/s]\n"
     ]
    },
    {
     "name": "stdout",
     "output_type": "stream",
     "text": [
      "Epoch 451\tTrain Loss: 33.603  Val Loss: 43.604\n",
      "\n"
     ]
    },
    {
     "name": "stderr",
     "output_type": "stream",
     "text": [
      "train loss: 33.456: 100%|██████████| 7/7 [00:00<00:00, 13.30it/s]\n",
      "val loss: 43.873: 100%|██████████| 2/2 [00:00<00:00, 68.42it/s]\n"
     ]
    },
    {
     "name": "stdout",
     "output_type": "stream",
     "text": [
      "Epoch 452\tTrain Loss: 33.509  Val Loss: 43.604\n",
      "\n"
     ]
    },
    {
     "name": "stderr",
     "output_type": "stream",
     "text": [
      "train loss: 34.254: 100%|██████████| 7/7 [00:00<00:00, 13.23it/s]\n",
      "val loss: 43.920: 100%|██████████| 2/2 [00:00<00:00, 69.53it/s]\n"
     ]
    },
    {
     "name": "stdout",
     "output_type": "stream",
     "text": [
      "Epoch 453\tTrain Loss: 33.571  Val Loss: 43.666\n",
      "\n"
     ]
    },
    {
     "name": "stderr",
     "output_type": "stream",
     "text": [
      "train loss: 34.014: 100%|██████████| 7/7 [00:00<00:00, 13.07it/s]\n",
      "val loss: 43.922: 100%|██████████| 2/2 [00:00<00:00, 68.87it/s]\n"
     ]
    },
    {
     "name": "stdout",
     "output_type": "stream",
     "text": [
      "Epoch 454\tTrain Loss: 33.546  Val Loss: 43.681\n",
      "\n"
     ]
    },
    {
     "name": "stderr",
     "output_type": "stream",
     "text": [
      "train loss: 33.568: 100%|██████████| 7/7 [00:00<00:00, 12.90it/s]\n",
      "val loss: 43.842: 100%|██████████| 2/2 [00:00<00:00, 69.46it/s]\n"
     ]
    },
    {
     "name": "stdout",
     "output_type": "stream",
     "text": [
      "Epoch 455\tTrain Loss: 33.467  Val Loss: 43.578\n",
      "\n"
     ]
    },
    {
     "name": "stderr",
     "output_type": "stream",
     "text": [
      "train loss: 33.611: 100%|██████████| 7/7 [00:00<00:00, 13.24it/s]\n",
      "val loss: 43.891: 100%|██████████| 2/2 [00:00<00:00, 49.45it/s]\n"
     ]
    },
    {
     "name": "stdout",
     "output_type": "stream",
     "text": [
      "Epoch 456\tTrain Loss: 33.462  Val Loss: 43.633\n",
      "\n"
     ]
    },
    {
     "name": "stderr",
     "output_type": "stream",
     "text": [
      "train loss: 33.426: 100%|██████████| 7/7 [00:00<00:00, 12.98it/s]\n",
      "val loss: 43.954: 100%|██████████| 2/2 [00:00<00:00, 68.58it/s]\n"
     ]
    },
    {
     "name": "stdout",
     "output_type": "stream",
     "text": [
      "Epoch 457\tTrain Loss: 33.420  Val Loss: 43.716\n",
      "\n"
     ]
    },
    {
     "name": "stderr",
     "output_type": "stream",
     "text": [
      "train loss: 34.125: 100%|██████████| 7/7 [00:00<00:00, 13.25it/s]\n",
      "val loss: 43.919: 100%|██████████| 2/2 [00:00<00:00, 59.55it/s]\n"
     ]
    },
    {
     "name": "stdout",
     "output_type": "stream",
     "text": [
      "Epoch 458\tTrain Loss: 33.476  Val Loss: 43.703\n",
      "\n"
     ]
    },
    {
     "name": "stderr",
     "output_type": "stream",
     "text": [
      "train loss: 33.553: 100%|██████████| 7/7 [00:00<00:00, 12.79it/s]\n",
      "val loss: 43.922: 100%|██████████| 2/2 [00:00<00:00, 65.63it/s]\n"
     ]
    },
    {
     "name": "stdout",
     "output_type": "stream",
     "text": [
      "Epoch 459\tTrain Loss: 33.390  Val Loss: 43.703\n",
      "\n"
     ]
    },
    {
     "name": "stderr",
     "output_type": "stream",
     "text": [
      "train loss: 32.487: 100%|██████████| 7/7 [00:00<00:00, 13.26it/s]\n",
      "val loss: 43.951: 100%|██████████| 2/2 [00:00<00:00, 56.78it/s]\n"
     ]
    },
    {
     "name": "stdout",
     "output_type": "stream",
     "text": [
      "Epoch 460\tTrain Loss: 33.260  Val Loss: 43.709\n",
      "\n"
     ]
    },
    {
     "name": "stderr",
     "output_type": "stream",
     "text": [
      "train loss: 33.236: 100%|██████████| 7/7 [00:00<00:00, 13.13it/s]\n",
      "val loss: 43.982: 100%|██████████| 2/2 [00:00<00:00, 66.16it/s]\n"
     ]
    },
    {
     "name": "stdout",
     "output_type": "stream",
     "text": [
      "Epoch 461\tTrain Loss: 33.326  Val Loss: 43.755\n",
      "\n"
     ]
    },
    {
     "name": "stderr",
     "output_type": "stream",
     "text": [
      "train loss: 32.835: 100%|██████████| 7/7 [00:00<00:00, 13.17it/s]\n",
      "val loss: 44.006: 100%|██████████| 2/2 [00:00<00:00, 68.31it/s]\n"
     ]
    },
    {
     "name": "stdout",
     "output_type": "stream",
     "text": [
      "Epoch 462\tTrain Loss: 33.272  Val Loss: 43.782\n",
      "\n"
     ]
    },
    {
     "name": "stderr",
     "output_type": "stream",
     "text": [
      "train loss: 31.690: 100%|██████████| 7/7 [00:00<00:00, 12.64it/s]\n",
      "val loss: 43.979: 100%|██████████| 2/2 [00:00<00:00, 67.73it/s]\n"
     ]
    },
    {
     "name": "stdout",
     "output_type": "stream",
     "text": [
      "Epoch 463\tTrain Loss: 33.146  Val Loss: 43.739\n",
      "\n"
     ]
    },
    {
     "name": "stderr",
     "output_type": "stream",
     "text": [
      "train loss: 34.327: 100%|██████████| 7/7 [00:00<00:00, 12.79it/s]\n",
      "val loss: 43.995: 100%|██████████| 2/2 [00:00<00:00, 67.60it/s]\n"
     ]
    },
    {
     "name": "stdout",
     "output_type": "stream",
     "text": [
      "Epoch 464\tTrain Loss: 33.401  Val Loss: 43.760\n",
      "\n"
     ]
    },
    {
     "name": "stderr",
     "output_type": "stream",
     "text": [
      "train loss: 32.975: 100%|██████████| 7/7 [00:00<00:00, 13.28it/s]\n",
      "val loss: 44.004: 100%|██████████| 2/2 [00:00<00:00, 41.40it/s]\n"
     ]
    },
    {
     "name": "stdout",
     "output_type": "stream",
     "text": [
      "Epoch 465\tTrain Loss: 33.240  Val Loss: 43.794\n",
      "\n"
     ]
    },
    {
     "name": "stderr",
     "output_type": "stream",
     "text": [
      "train loss: 33.691: 100%|██████████| 7/7 [00:00<00:00, 12.90it/s]\n",
      "val loss: 44.018: 100%|██████████| 2/2 [00:00<00:00, 66.51it/s]\n"
     ]
    },
    {
     "name": "stdout",
     "output_type": "stream",
     "text": [
      "Epoch 466\tTrain Loss: 33.292  Val Loss: 43.802\n",
      "\n"
     ]
    },
    {
     "name": "stderr",
     "output_type": "stream",
     "text": [
      "train loss: 32.782: 100%|██████████| 7/7 [00:00<00:00, 12.91it/s]\n",
      "val loss: 44.135: 100%|██████████| 2/2 [00:00<00:00, 67.90it/s]\n"
     ]
    },
    {
     "name": "stdout",
     "output_type": "stream",
     "text": [
      "Epoch 467\tTrain Loss: 33.186  Val Loss: 43.887\n",
      "\n"
     ]
    },
    {
     "name": "stderr",
     "output_type": "stream",
     "text": [
      "train loss: 33.846: 100%|██████████| 7/7 [00:00<00:00, 13.17it/s]\n",
      "val loss: 44.096: 100%|██████████| 2/2 [00:00<00:00, 48.51it/s]\n"
     ]
    },
    {
     "name": "stdout",
     "output_type": "stream",
     "text": [
      "Epoch 468\tTrain Loss: 33.287  Val Loss: 43.866\n",
      "\n"
     ]
    },
    {
     "name": "stderr",
     "output_type": "stream",
     "text": [
      "train loss: 33.606: 100%|██████████| 7/7 [00:00<00:00, 13.13it/s]\n",
      "val loss: 44.285: 100%|██████████| 2/2 [00:00<00:00, 68.47it/s]\n"
     ]
    },
    {
     "name": "stdout",
     "output_type": "stream",
     "text": [
      "Epoch 469\tTrain Loss: 33.240  Val Loss: 44.064\n",
      "\n"
     ]
    },
    {
     "name": "stderr",
     "output_type": "stream",
     "text": [
      "train loss: 33.577: 100%|██████████| 7/7 [00:00<00:00, 13.26it/s]\n",
      "val loss: 44.036: 100%|██████████| 2/2 [00:00<00:00, 69.30it/s]\n"
     ]
    },
    {
     "name": "stdout",
     "output_type": "stream",
     "text": [
      "Epoch 470\tTrain Loss: 33.407  Val Loss: 43.823\n",
      "\n"
     ]
    },
    {
     "name": "stderr",
     "output_type": "stream",
     "text": [
      "train loss: 33.081: 100%|██████████| 7/7 [00:00<00:00, 12.75it/s]\n",
      "val loss: 44.047: 100%|██████████| 2/2 [00:00<00:00, 67.94it/s]\n"
     ]
    },
    {
     "name": "stdout",
     "output_type": "stream",
     "text": [
      "Epoch 471\tTrain Loss: 33.234  Val Loss: 43.824\n",
      "\n"
     ]
    },
    {
     "name": "stderr",
     "output_type": "stream",
     "text": [
      "train loss: 33.952: 100%|██████████| 7/7 [00:00<00:00, 12.84it/s]\n",
      "val loss: 44.219: 100%|██████████| 2/2 [00:00<00:00, 67.82it/s]\n"
     ]
    },
    {
     "name": "stdout",
     "output_type": "stream",
     "text": [
      "Epoch 472\tTrain Loss: 33.261  Val Loss: 44.018\n",
      "\n"
     ]
    },
    {
     "name": "stderr",
     "output_type": "stream",
     "text": [
      "train loss: 33.913: 100%|██████████| 7/7 [00:00<00:00, 13.24it/s]\n",
      "val loss: 44.251: 100%|██████████| 2/2 [00:00<00:00, 53.12it/s]\n"
     ]
    },
    {
     "name": "stdout",
     "output_type": "stream",
     "text": [
      "Epoch 473\tTrain Loss: 33.275  Val Loss: 44.018\n",
      "\n"
     ]
    },
    {
     "name": "stderr",
     "output_type": "stream",
     "text": [
      "train loss: 32.300: 100%|██████████| 7/7 [00:00<00:00, 13.18it/s]\n",
      "val loss: 44.311: 100%|██████████| 2/2 [00:00<00:00, 67.92it/s]\n"
     ]
    },
    {
     "name": "stdout",
     "output_type": "stream",
     "text": [
      "Epoch 474\tTrain Loss: 33.099  Val Loss: 44.131\n",
      "\n"
     ]
    },
    {
     "name": "stderr",
     "output_type": "stream",
     "text": [
      "train loss: 33.437: 100%|██████████| 7/7 [00:00<00:00, 13.33it/s]\n",
      "val loss: 44.269: 100%|██████████| 2/2 [00:00<00:00, 50.73it/s]\n"
     ]
    },
    {
     "name": "stdout",
     "output_type": "stream",
     "text": [
      "Epoch 475\tTrain Loss: 33.424  Val Loss: 44.073\n",
      "\n"
     ]
    },
    {
     "name": "stderr",
     "output_type": "stream",
     "text": [
      "train loss: 33.454: 100%|██████████| 7/7 [00:00<00:00, 13.14it/s]\n",
      "val loss: 43.992: 100%|██████████| 2/2 [00:00<00:00, 69.25it/s]\n"
     ]
    },
    {
     "name": "stdout",
     "output_type": "stream",
     "text": [
      "Epoch 476\tTrain Loss: 33.214  Val Loss: 43.791\n",
      "\n"
     ]
    },
    {
     "name": "stderr",
     "output_type": "stream",
     "text": [
      "train loss: 32.145: 100%|██████████| 7/7 [00:00<00:00, 13.29it/s]\n",
      "val loss: 44.155: 100%|██████████| 2/2 [00:00<00:00, 68.26it/s]\n"
     ]
    },
    {
     "name": "stdout",
     "output_type": "stream",
     "text": [
      "Epoch 477\tTrain Loss: 33.009  Val Loss: 43.944\n",
      "\n"
     ]
    },
    {
     "name": "stderr",
     "output_type": "stream",
     "text": [
      "train loss: 32.466: 100%|██████████| 7/7 [00:00<00:00, 13.15it/s]\n",
      "val loss: 44.050: 100%|██████████| 2/2 [00:00<00:00, 69.80it/s]\n"
     ]
    },
    {
     "name": "stdout",
     "output_type": "stream",
     "text": [
      "Epoch 478\tTrain Loss: 32.986  Val Loss: 43.841\n",
      "\n"
     ]
    },
    {
     "name": "stderr",
     "output_type": "stream",
     "text": [
      "train loss: 31.620: 100%|██████████| 7/7 [00:00<00:00, 13.28it/s]\n",
      "val loss: 44.241: 100%|██████████| 2/2 [00:00<00:00, 67.09it/s]\n"
     ]
    },
    {
     "name": "stdout",
     "output_type": "stream",
     "text": [
      "Epoch 479\tTrain Loss: 32.873  Val Loss: 44.019\n",
      "\n"
     ]
    },
    {
     "name": "stderr",
     "output_type": "stream",
     "text": [
      "train loss: 32.330: 100%|██████████| 7/7 [00:00<00:00, 13.11it/s]\n",
      "val loss: 44.171: 100%|██████████| 2/2 [00:00<00:00, 68.41it/s]\n"
     ]
    },
    {
     "name": "stdout",
     "output_type": "stream",
     "text": [
      "Epoch 480\tTrain Loss: 32.943  Val Loss: 43.968\n",
      "\n"
     ]
    },
    {
     "name": "stderr",
     "output_type": "stream",
     "text": [
      "train loss: 32.077: 100%|██████████| 7/7 [00:00<00:00, 13.28it/s]\n",
      "val loss: 44.342: 100%|██████████| 2/2 [00:00<00:00, 67.91it/s]\n"
     ]
    },
    {
     "name": "stdout",
     "output_type": "stream",
     "text": [
      "Epoch 481\tTrain Loss: 32.942  Val Loss: 44.124\n",
      "\n"
     ]
    },
    {
     "name": "stderr",
     "output_type": "stream",
     "text": [
      "train loss: 32.041: 100%|██████████| 7/7 [00:00<00:00, 13.03it/s]\n",
      "val loss: 44.315: 100%|██████████| 2/2 [00:00<00:00, 69.41it/s]\n"
     ]
    },
    {
     "name": "stdout",
     "output_type": "stream",
     "text": [
      "Epoch 482\tTrain Loss: 32.857  Val Loss: 44.081\n",
      "\n"
     ]
    },
    {
     "name": "stderr",
     "output_type": "stream",
     "text": [
      "train loss: 31.547: 100%|██████████| 7/7 [00:00<00:00, 12.71it/s]\n",
      "val loss: 44.303: 100%|██████████| 2/2 [00:00<00:00, 69.19it/s]\n"
     ]
    },
    {
     "name": "stdout",
     "output_type": "stream",
     "text": [
      "Epoch 483\tTrain Loss: 32.896  Val Loss: 44.092\n",
      "\n"
     ]
    },
    {
     "name": "stderr",
     "output_type": "stream",
     "text": [
      "train loss: 32.077: 100%|██████████| 7/7 [00:00<00:00, 13.30it/s]\n",
      "val loss: 44.291: 100%|██████████| 2/2 [00:00<00:00, 45.31it/s]\n"
     ]
    },
    {
     "name": "stdout",
     "output_type": "stream",
     "text": [
      "Epoch 484\tTrain Loss: 32.895  Val Loss: 44.075\n",
      "\n"
     ]
    },
    {
     "name": "stderr",
     "output_type": "stream",
     "text": [
      "train loss: 32.135: 100%|██████████| 7/7 [00:00<00:00, 13.18it/s]\n",
      "val loss: 44.310: 100%|██████████| 2/2 [00:00<00:00, 68.89it/s]\n"
     ]
    },
    {
     "name": "stdout",
     "output_type": "stream",
     "text": [
      "Epoch 485\tTrain Loss: 32.855  Val Loss: 44.081\n",
      "\n"
     ]
    },
    {
     "name": "stderr",
     "output_type": "stream",
     "text": [
      "train loss: 33.224: 100%|██████████| 7/7 [00:00<00:00, 12.99it/s]\n",
      "val loss: 44.395: 100%|██████████| 2/2 [00:00<00:00, 69.98it/s]\n"
     ]
    },
    {
     "name": "stdout",
     "output_type": "stream",
     "text": [
      "Epoch 486\tTrain Loss: 32.874  Val Loss: 44.181\n",
      "\n"
     ]
    },
    {
     "name": "stderr",
     "output_type": "stream",
     "text": [
      "train loss: 32.428: 100%|██████████| 7/7 [00:00<00:00, 12.88it/s]\n",
      "val loss: 44.336: 100%|██████████| 2/2 [00:00<00:00, 67.66it/s]\n"
     ]
    },
    {
     "name": "stdout",
     "output_type": "stream",
     "text": [
      "Epoch 487\tTrain Loss: 32.843  Val Loss: 44.121\n",
      "\n"
     ]
    },
    {
     "name": "stderr",
     "output_type": "stream",
     "text": [
      "train loss: 32.115: 100%|██████████| 7/7 [00:00<00:00, 13.18it/s]\n",
      "val loss: 44.294: 100%|██████████| 2/2 [00:00<00:00, 69.43it/s]\n"
     ]
    },
    {
     "name": "stdout",
     "output_type": "stream",
     "text": [
      "Epoch 488\tTrain Loss: 32.774  Val Loss: 44.108\n",
      "\n"
     ]
    },
    {
     "name": "stderr",
     "output_type": "stream",
     "text": [
      "train loss: 33.770: 100%|██████████| 7/7 [00:00<00:00, 13.32it/s]\n",
      "val loss: 44.414: 100%|██████████| 2/2 [00:00<00:00, 62.78it/s]\n"
     ]
    },
    {
     "name": "stdout",
     "output_type": "stream",
     "text": [
      "Epoch 489\tTrain Loss: 32.895  Val Loss: 44.192\n",
      "\n"
     ]
    },
    {
     "name": "stderr",
     "output_type": "stream",
     "text": [
      "train loss: 32.835: 100%|██████████| 7/7 [00:00<00:00, 13.34it/s]\n",
      "val loss: 44.336: 100%|██████████| 2/2 [00:00<00:00, 68.86it/s]\n"
     ]
    },
    {
     "name": "stdout",
     "output_type": "stream",
     "text": [
      "Epoch 490\tTrain Loss: 32.729  Val Loss: 44.115\n",
      "\n"
     ]
    },
    {
     "name": "stderr",
     "output_type": "stream",
     "text": [
      "train loss: 33.240: 100%|██████████| 7/7 [00:00<00:00, 13.16it/s]\n",
      "val loss: 44.383: 100%|██████████| 2/2 [00:00<00:00, 68.60it/s]\n"
     ]
    },
    {
     "name": "stdout",
     "output_type": "stream",
     "text": [
      "Epoch 491\tTrain Loss: 32.819  Val Loss: 44.182\n",
      "\n"
     ]
    },
    {
     "name": "stderr",
     "output_type": "stream",
     "text": [
      "train loss: 32.256: 100%|██████████| 7/7 [00:00<00:00, 13.29it/s]\n",
      "val loss: 44.471: 100%|██████████| 2/2 [00:00<00:00, 68.77it/s]\n"
     ]
    },
    {
     "name": "stdout",
     "output_type": "stream",
     "text": [
      "Epoch 492\tTrain Loss: 32.674  Val Loss: 44.276\n",
      "\n"
     ]
    },
    {
     "name": "stderr",
     "output_type": "stream",
     "text": [
      "train loss: 33.660: 100%|██████████| 7/7 [00:00<00:00, 12.62it/s]\n",
      "val loss: 44.458: 100%|██████████| 2/2 [00:00<00:00, 68.51it/s]\n"
     ]
    },
    {
     "name": "stdout",
     "output_type": "stream",
     "text": [
      "Epoch 493\tTrain Loss: 32.771  Val Loss: 44.246\n",
      "\n"
     ]
    },
    {
     "name": "stderr",
     "output_type": "stream",
     "text": [
      "train loss: 34.336: 100%|██████████| 7/7 [00:00<00:00, 12.83it/s]\n",
      "val loss: 44.483: 100%|██████████| 2/2 [00:00<00:00, 68.34it/s]\n"
     ]
    },
    {
     "name": "stdout",
     "output_type": "stream",
     "text": [
      "Epoch 494\tTrain Loss: 32.821  Val Loss: 44.277\n",
      "\n"
     ]
    },
    {
     "name": "stderr",
     "output_type": "stream",
     "text": [
      "train loss: 33.850: 100%|██████████| 7/7 [00:00<00:00, 13.29it/s]\n",
      "val loss: 44.564: 100%|██████████| 2/2 [00:00<00:00, 69.05it/s]\n"
     ]
    },
    {
     "name": "stdout",
     "output_type": "stream",
     "text": [
      "Epoch 495\tTrain Loss: 32.747  Val Loss: 44.335\n",
      "\n"
     ]
    },
    {
     "name": "stderr",
     "output_type": "stream",
     "text": [
      "train loss: 31.438: 100%|██████████| 7/7 [00:00<00:00, 12.77it/s]\n",
      "val loss: 44.521: 100%|██████████| 2/2 [00:00<00:00, 68.83it/s]\n"
     ]
    },
    {
     "name": "stdout",
     "output_type": "stream",
     "text": [
      "Epoch 496\tTrain Loss: 32.558  Val Loss: 44.343\n",
      "\n"
     ]
    },
    {
     "name": "stderr",
     "output_type": "stream",
     "text": [
      "train loss: 32.254: 100%|██████████| 7/7 [00:00<00:00, 13.13it/s]\n",
      "val loss: 44.528: 100%|██████████| 2/2 [00:00<00:00, 69.37it/s]\n"
     ]
    },
    {
     "name": "stdout",
     "output_type": "stream",
     "text": [
      "Epoch 497\tTrain Loss: 32.578  Val Loss: 44.324\n",
      "\n"
     ]
    },
    {
     "name": "stderr",
     "output_type": "stream",
     "text": [
      "train loss: 32.438: 100%|██████████| 7/7 [00:00<00:00, 13.29it/s]\n",
      "val loss: 44.501: 100%|██████████| 2/2 [00:00<00:00, 53.89it/s]\n"
     ]
    },
    {
     "name": "stdout",
     "output_type": "stream",
     "text": [
      "Epoch 498\tTrain Loss: 32.550  Val Loss: 44.293\n",
      "\n"
     ]
    },
    {
     "name": "stderr",
     "output_type": "stream",
     "text": [
      "train loss: 32.301: 100%|██████████| 7/7 [00:00<00:00, 13.05it/s]\n",
      "val loss: 44.480: 100%|██████████| 2/2 [00:00<00:00, 69.65it/s]\n"
     ]
    },
    {
     "name": "stdout",
     "output_type": "stream",
     "text": [
      "Epoch 499\tTrain Loss: 32.476  Val Loss: 44.271\n",
      "\n"
     ]
    },
    {
     "name": "stderr",
     "output_type": "stream",
     "text": [
      "train loss: 32.339: 100%|██████████| 7/7 [00:00<00:00, 13.14it/s]\n",
      "val loss: 44.504: 100%|██████████| 2/2 [00:00<00:00, 68.81it/s]\n"
     ]
    },
    {
     "name": "stdout",
     "output_type": "stream",
     "text": [
      "Epoch 500\tTrain Loss: 32.450  Val Loss: 44.306\n",
      "\n"
     ]
    },
    {
     "name": "stderr",
     "output_type": "stream",
     "text": [
      "train loss: 32.577: 100%|██████████| 7/7 [00:00<00:00, 13.28it/s]\n",
      "val loss: 44.591: 100%|██████████| 2/2 [00:00<00:00, 59.24it/s]\n"
     ]
    },
    {
     "name": "stdout",
     "output_type": "stream",
     "text": [
      "Epoch 501\tTrain Loss: 32.441  Val Loss: 44.378\n",
      "\n"
     ]
    },
    {
     "name": "stderr",
     "output_type": "stream",
     "text": [
      "train loss: 33.425: 100%|██████████| 7/7 [00:00<00:00, 13.26it/s]\n",
      "val loss: 44.622: 100%|██████████| 2/2 [00:00<00:00, 68.74it/s]\n"
     ]
    },
    {
     "name": "stdout",
     "output_type": "stream",
     "text": [
      "Epoch 502\tTrain Loss: 32.506  Val Loss: 44.405\n",
      "\n"
     ]
    },
    {
     "name": "stderr",
     "output_type": "stream",
     "text": [
      "train loss: 32.127: 100%|██████████| 7/7 [00:00<00:00, 13.05it/s]\n",
      "val loss: 44.616: 100%|██████████| 2/2 [00:00<00:00, 69.07it/s]\n"
     ]
    },
    {
     "name": "stdout",
     "output_type": "stream",
     "text": [
      "Epoch 503\tTrain Loss: 32.349  Val Loss: 44.437\n",
      "\n"
     ]
    },
    {
     "name": "stderr",
     "output_type": "stream",
     "text": [
      "train loss: 33.418: 100%|██████████| 7/7 [00:00<00:00, 13.29it/s]\n",
      "val loss: 44.657: 100%|██████████| 2/2 [00:00<00:00, 59.27it/s]\n"
     ]
    },
    {
     "name": "stdout",
     "output_type": "stream",
     "text": [
      "Epoch 504\tTrain Loss: 32.469  Val Loss: 44.473\n",
      "\n"
     ]
    },
    {
     "name": "stderr",
     "output_type": "stream",
     "text": [
      "train loss: 32.926: 100%|██████████| 7/7 [00:00<00:00, 12.92it/s]\n",
      "val loss: 44.667: 100%|██████████| 2/2 [00:00<00:00, 68.48it/s]\n"
     ]
    },
    {
     "name": "stdout",
     "output_type": "stream",
     "text": [
      "Epoch 505\tTrain Loss: 32.389  Val Loss: 44.473\n",
      "\n"
     ]
    },
    {
     "name": "stderr",
     "output_type": "stream",
     "text": [
      "train loss: 32.525: 100%|██████████| 7/7 [00:00<00:00, 13.31it/s]\n",
      "val loss: 44.643: 100%|██████████| 2/2 [00:00<00:00, 52.49it/s]\n"
     ]
    },
    {
     "name": "stdout",
     "output_type": "stream",
     "text": [
      "Epoch 506\tTrain Loss: 32.336  Val Loss: 44.458\n",
      "\n"
     ]
    },
    {
     "name": "stderr",
     "output_type": "stream",
     "text": [
      "train loss: 33.195: 100%|██████████| 7/7 [00:00<00:00, 12.90it/s]\n",
      "val loss: 44.718: 100%|██████████| 2/2 [00:00<00:00, 67.32it/s]\n"
     ]
    },
    {
     "name": "stdout",
     "output_type": "stream",
     "text": [
      "Epoch 507\tTrain Loss: 32.387  Val Loss: 44.517\n",
      "\n"
     ]
    },
    {
     "name": "stderr",
     "output_type": "stream",
     "text": [
      "train loss: 33.416: 100%|██████████| 7/7 [00:00<00:00, 13.20it/s]\n",
      "val loss: 44.703: 100%|██████████| 2/2 [00:00<00:00, 69.13it/s]\n"
     ]
    },
    {
     "name": "stdout",
     "output_type": "stream",
     "text": [
      "Epoch 508\tTrain Loss: 32.408  Val Loss: 44.539\n",
      "\n"
     ]
    },
    {
     "name": "stderr",
     "output_type": "stream",
     "text": [
      "train loss: 32.156: 100%|██████████| 7/7 [00:00<00:00, 12.89it/s]\n",
      "val loss: 44.735: 100%|██████████| 2/2 [00:00<00:00, 68.73it/s]\n"
     ]
    },
    {
     "name": "stdout",
     "output_type": "stream",
     "text": [
      "Epoch 509\tTrain Loss: 32.234  Val Loss: 44.540\n",
      "\n"
     ]
    },
    {
     "name": "stderr",
     "output_type": "stream",
     "text": [
      "train loss: 33.217: 100%|██████████| 7/7 [00:00<00:00, 12.81it/s]\n",
      "val loss: 44.689: 100%|██████████| 2/2 [00:00<00:00, 68.83it/s]\n"
     ]
    },
    {
     "name": "stdout",
     "output_type": "stream",
     "text": [
      "Epoch 510\tTrain Loss: 32.315  Val Loss: 44.500\n",
      "\n"
     ]
    },
    {
     "name": "stderr",
     "output_type": "stream",
     "text": [
      "train loss: 33.262: 100%|██████████| 7/7 [00:00<00:00, 13.25it/s]\n",
      "val loss: 44.783: 100%|██████████| 2/2 [00:00<00:00, 53.76it/s]\n"
     ]
    },
    {
     "name": "stdout",
     "output_type": "stream",
     "text": [
      "Epoch 511\tTrain Loss: 32.307  Val Loss: 44.605\n",
      "\n"
     ]
    },
    {
     "name": "stderr",
     "output_type": "stream",
     "text": [
      "train loss: 33.606: 100%|██████████| 7/7 [00:00<00:00, 12.70it/s]\n",
      "val loss: 44.763: 100%|██████████| 2/2 [00:00<00:00, 68.98it/s]\n"
     ]
    },
    {
     "name": "stdout",
     "output_type": "stream",
     "text": [
      "Epoch 512\tTrain Loss: 32.328  Val Loss: 44.594\n",
      "\n"
     ]
    },
    {
     "name": "stderr",
     "output_type": "stream",
     "text": [
      "train loss: 33.591: 100%|██████████| 7/7 [00:00<00:00, 13.32it/s]\n",
      "val loss: 44.788: 100%|██████████| 2/2 [00:00<00:00, 51.34it/s]\n"
     ]
    },
    {
     "name": "stdout",
     "output_type": "stream",
     "text": [
      "Epoch 513\tTrain Loss: 32.304  Val Loss: 44.580\n",
      "\n"
     ]
    },
    {
     "name": "stderr",
     "output_type": "stream",
     "text": [
      "train loss: 32.764: 100%|██████████| 7/7 [00:00<00:00, 12.69it/s]\n",
      "val loss: 44.768: 100%|██████████| 2/2 [00:00<00:00, 69.40it/s]\n"
     ]
    },
    {
     "name": "stdout",
     "output_type": "stream",
     "text": [
      "Epoch 514\tTrain Loss: 32.193  Val Loss: 44.578\n",
      "\n"
     ]
    },
    {
     "name": "stderr",
     "output_type": "stream",
     "text": [
      "train loss: 31.527: 100%|██████████| 7/7 [00:00<00:00, 13.16it/s]\n",
      "val loss: 44.828: 100%|██████████| 2/2 [00:00<00:00, 69.45it/s]\n"
     ]
    },
    {
     "name": "stdout",
     "output_type": "stream",
     "text": [
      "Epoch 515\tTrain Loss: 32.043  Val Loss: 44.662\n",
      "\n"
     ]
    },
    {
     "name": "stderr",
     "output_type": "stream",
     "text": [
      "train loss: 30.648: 100%|██████████| 7/7 [00:00<00:00, 13.30it/s]\n",
      "val loss: 44.894: 100%|██████████| 2/2 [00:00<00:00, 60.56it/s]\n"
     ]
    },
    {
     "name": "stdout",
     "output_type": "stream",
     "text": [
      "Epoch 516\tTrain Loss: 31.926  Val Loss: 44.705\n",
      "\n"
     ]
    },
    {
     "name": "stderr",
     "output_type": "stream",
     "text": [
      "train loss: 31.438: 100%|██████████| 7/7 [00:00<00:00, 13.03it/s]\n",
      "val loss: 44.871: 100%|██████████| 2/2 [00:00<00:00, 67.85it/s]\n"
     ]
    },
    {
     "name": "stdout",
     "output_type": "stream",
     "text": [
      "Epoch 517\tTrain Loss: 31.989  Val Loss: 44.679\n",
      "\n"
     ]
    },
    {
     "name": "stderr",
     "output_type": "stream",
     "text": [
      "train loss: 33.393: 100%|██████████| 7/7 [00:00<00:00, 13.15it/s]\n",
      "val loss: 44.841: 100%|██████████| 2/2 [00:00<00:00, 69.21it/s]\n"
     ]
    },
    {
     "name": "stdout",
     "output_type": "stream",
     "text": [
      "Epoch 518\tTrain Loss: 32.196  Val Loss: 44.646\n",
      "\n"
     ]
    },
    {
     "name": "stderr",
     "output_type": "stream",
     "text": [
      "train loss: 30.754: 100%|██████████| 7/7 [00:00<00:00, 13.28it/s]\n",
      "val loss: 44.912: 100%|██████████| 2/2 [00:00<00:00, 68.37it/s]\n"
     ]
    },
    {
     "name": "stdout",
     "output_type": "stream",
     "text": [
      "Epoch 519\tTrain Loss: 31.888  Val Loss: 44.763\n",
      "\n"
     ]
    },
    {
     "name": "stderr",
     "output_type": "stream",
     "text": [
      "train loss: 33.056: 100%|██████████| 7/7 [00:00<00:00, 13.22it/s]\n",
      "val loss: 44.961: 100%|██████████| 2/2 [00:00<00:00, 57.49it/s]\n"
     ]
    },
    {
     "name": "stdout",
     "output_type": "stream",
     "text": [
      "Epoch 520\tTrain Loss: 32.116  Val Loss: 44.775\n",
      "\n"
     ]
    },
    {
     "name": "stderr",
     "output_type": "stream",
     "text": [
      "train loss: 30.408: 100%|██████████| 7/7 [00:00<00:00, 13.13it/s]\n",
      "val loss: 44.955: 100%|██████████| 2/2 [00:00<00:00, 52.73it/s]\n"
     ]
    },
    {
     "name": "stdout",
     "output_type": "stream",
     "text": [
      "Epoch 521\tTrain Loss: 31.819  Val Loss: 44.753\n",
      "\n"
     ]
    },
    {
     "name": "stderr",
     "output_type": "stream",
     "text": [
      "train loss: 31.309: 100%|██████████| 7/7 [00:00<00:00, 12.55it/s]\n",
      "val loss: 44.951: 100%|██████████| 2/2 [00:00<00:00, 67.52it/s]\n"
     ]
    },
    {
     "name": "stdout",
     "output_type": "stream",
     "text": [
      "Epoch 522\tTrain Loss: 31.893  Val Loss: 44.762\n",
      "\n"
     ]
    },
    {
     "name": "stderr",
     "output_type": "stream",
     "text": [
      "train loss: 31.833: 100%|██████████| 7/7 [00:00<00:00, 12.98it/s]\n",
      "val loss: 45.002: 100%|██████████| 2/2 [00:00<00:00, 67.92it/s]\n"
     ]
    },
    {
     "name": "stdout",
     "output_type": "stream",
     "text": [
      "Epoch 523\tTrain Loss: 31.945  Val Loss: 44.845\n",
      "\n"
     ]
    },
    {
     "name": "stderr",
     "output_type": "stream",
     "text": [
      "train loss: 32.138: 100%|██████████| 7/7 [00:00<00:00, 13.32it/s]\n",
      "val loss: 44.958: 100%|██████████| 2/2 [00:00<00:00, 68.87it/s]\n"
     ]
    },
    {
     "name": "stdout",
     "output_type": "stream",
     "text": [
      "Epoch 524\tTrain Loss: 31.967  Val Loss: 44.810\n",
      "\n"
     ]
    },
    {
     "name": "stderr",
     "output_type": "stream",
     "text": [
      "train loss: 30.591: 100%|██████████| 7/7 [00:00<00:00, 13.22it/s]\n",
      "val loss: 44.957: 100%|██████████| 2/2 [00:00<00:00, 43.07it/s]\n"
     ]
    },
    {
     "name": "stdout",
     "output_type": "stream",
     "text": [
      "Epoch 525\tTrain Loss: 31.794  Val Loss: 44.781\n",
      "\n"
     ]
    },
    {
     "name": "stderr",
     "output_type": "stream",
     "text": [
      "train loss: 33.059: 100%|██████████| 7/7 [00:00<00:00, 12.55it/s]\n",
      "val loss: 45.012: 100%|██████████| 2/2 [00:00<00:00, 67.90it/s]\n"
     ]
    },
    {
     "name": "stdout",
     "output_type": "stream",
     "text": [
      "Epoch 526\tTrain Loss: 32.018  Val Loss: 44.833\n",
      "\n"
     ]
    },
    {
     "name": "stderr",
     "output_type": "stream",
     "text": [
      "train loss: 33.307: 100%|██████████| 7/7 [00:00<00:00, 13.17it/s]\n",
      "val loss: 44.988: 100%|██████████| 2/2 [00:00<00:00, 68.26it/s]\n"
     ]
    },
    {
     "name": "stdout",
     "output_type": "stream",
     "text": [
      "Epoch 527\tTrain Loss: 32.005  Val Loss: 44.848\n",
      "\n"
     ]
    },
    {
     "name": "stderr",
     "output_type": "stream",
     "text": [
      "train loss: 32.279: 100%|██████████| 7/7 [00:00<00:00, 13.28it/s]\n",
      "val loss: 45.046: 100%|██████████| 2/2 [00:00<00:00, 61.23it/s]\n"
     ]
    },
    {
     "name": "stdout",
     "output_type": "stream",
     "text": [
      "Epoch 528\tTrain Loss: 31.884  Val Loss: 44.870\n",
      "\n"
     ]
    },
    {
     "name": "stderr",
     "output_type": "stream",
     "text": [
      "train loss: 32.794: 100%|██████████| 7/7 [00:00<00:00, 13.00it/s]\n",
      "val loss: 45.016: 100%|██████████| 2/2 [00:00<00:00, 69.02it/s]\n"
     ]
    },
    {
     "name": "stdout",
     "output_type": "stream",
     "text": [
      "Epoch 529\tTrain Loss: 31.911  Val Loss: 44.844\n",
      "\n"
     ]
    },
    {
     "name": "stderr",
     "output_type": "stream",
     "text": [
      "train loss: 30.468: 100%|██████████| 7/7 [00:00<00:00, 13.29it/s]\n",
      "val loss: 45.098: 100%|██████████| 2/2 [00:00<00:00, 68.54it/s]\n"
     ]
    },
    {
     "name": "stdout",
     "output_type": "stream",
     "text": [
      "Epoch 530\tTrain Loss: 31.636  Val Loss: 44.924\n",
      "\n"
     ]
    },
    {
     "name": "stderr",
     "output_type": "stream",
     "text": [
      "train loss: 32.914: 100%|██████████| 7/7 [00:00<00:00, 13.07it/s]\n",
      "val loss: 45.107: 100%|██████████| 2/2 [00:00<00:00, 68.45it/s]\n"
     ]
    },
    {
     "name": "stdout",
     "output_type": "stream",
     "text": [
      "Epoch 531\tTrain Loss: 31.911  Val Loss: 44.962\n",
      "\n"
     ]
    },
    {
     "name": "stderr",
     "output_type": "stream",
     "text": [
      "train loss: 32.511: 100%|██████████| 7/7 [00:00<00:00, 13.12it/s]\n",
      "val loss: 45.111: 100%|██████████| 2/2 [00:00<00:00, 69.36it/s]\n"
     ]
    },
    {
     "name": "stdout",
     "output_type": "stream",
     "text": [
      "Epoch 532\tTrain Loss: 31.831  Val Loss: 44.947\n",
      "\n"
     ]
    },
    {
     "name": "stderr",
     "output_type": "stream",
     "text": [
      "train loss: 31.493: 100%|██████████| 7/7 [00:00<00:00, 13.30it/s]\n",
      "val loss: 45.102: 100%|██████████| 2/2 [00:00<00:00, 58.74it/s]\n"
     ]
    },
    {
     "name": "stdout",
     "output_type": "stream",
     "text": [
      "Epoch 533\tTrain Loss: 31.704  Val Loss: 44.915\n",
      "\n"
     ]
    },
    {
     "name": "stderr",
     "output_type": "stream",
     "text": [
      "train loss: 32.329: 100%|██████████| 7/7 [00:00<00:00, 13.02it/s]\n",
      "val loss: 45.172: 100%|██████████| 2/2 [00:00<00:00, 67.26it/s]\n"
     ]
    },
    {
     "name": "stdout",
     "output_type": "stream",
     "text": [
      "Epoch 534\tTrain Loss: 31.783  Val Loss: 45.000\n",
      "\n"
     ]
    },
    {
     "name": "stderr",
     "output_type": "stream",
     "text": [
      "train loss: 32.237: 100%|██████████| 7/7 [00:00<00:00, 12.86it/s]\n",
      "val loss: 45.176: 100%|██████████| 2/2 [00:00<00:00, 66.88it/s]\n"
     ]
    },
    {
     "name": "stdout",
     "output_type": "stream",
     "text": [
      "Epoch 535\tTrain Loss: 31.746  Val Loss: 45.024\n",
      "\n"
     ]
    },
    {
     "name": "stderr",
     "output_type": "stream",
     "text": [
      "train loss: 32.198: 100%|██████████| 7/7 [00:00<00:00, 13.32it/s]\n",
      "val loss: 45.174: 100%|██████████| 2/2 [00:00<00:00, 68.63it/s]\n"
     ]
    },
    {
     "name": "stdout",
     "output_type": "stream",
     "text": [
      "Epoch 536\tTrain Loss: 31.717  Val Loss: 45.011\n",
      "\n"
     ]
    },
    {
     "name": "stderr",
     "output_type": "stream",
     "text": [
      "train loss: 31.855: 100%|██████████| 7/7 [00:00<00:00, 12.80it/s]\n",
      "val loss: 45.235: 100%|██████████| 2/2 [00:00<00:00, 68.96it/s]\n"
     ]
    },
    {
     "name": "stdout",
     "output_type": "stream",
     "text": [
      "Epoch 537\tTrain Loss: 31.653  Val Loss: 45.052\n",
      "\n"
     ]
    },
    {
     "name": "stderr",
     "output_type": "stream",
     "text": [
      "train loss: 32.616: 100%|██████████| 7/7 [00:00<00:00, 13.30it/s]\n",
      "val loss: 45.202: 100%|██████████| 2/2 [00:00<00:00, 58.15it/s]\n"
     ]
    },
    {
     "name": "stdout",
     "output_type": "stream",
     "text": [
      "Epoch 538\tTrain Loss: 31.733  Val Loss: 45.025\n",
      "\n"
     ]
    },
    {
     "name": "stderr",
     "output_type": "stream",
     "text": [
      "train loss: 31.041: 100%|██████████| 7/7 [00:00<00:00, 12.67it/s]\n",
      "val loss: 45.145: 100%|██████████| 2/2 [00:00<00:00, 69.98it/s]\n"
     ]
    },
    {
     "name": "stdout",
     "output_type": "stream",
     "text": [
      "Epoch 539\tTrain Loss: 31.575  Val Loss: 45.004\n",
      "\n"
     ]
    },
    {
     "name": "stderr",
     "output_type": "stream",
     "text": [
      "train loss: 33.781: 100%|██████████| 7/7 [00:00<00:00, 13.34it/s]\n",
      "val loss: 45.227: 100%|██████████| 2/2 [00:00<00:00, 48.25it/s]\n"
     ]
    },
    {
     "name": "stdout",
     "output_type": "stream",
     "text": [
      "Epoch 540\tTrain Loss: 31.860  Val Loss: 45.067\n",
      "\n"
     ]
    },
    {
     "name": "stderr",
     "output_type": "stream",
     "text": [
      "train loss: 30.521: 100%|██████████| 7/7 [00:00<00:00, 12.57it/s]\n",
      "val loss: 45.309: 100%|██████████| 2/2 [00:00<00:00, 67.89it/s]\n"
     ]
    },
    {
     "name": "stdout",
     "output_type": "stream",
     "text": [
      "Epoch 541\tTrain Loss: 31.481  Val Loss: 45.170\n",
      "\n"
     ]
    },
    {
     "name": "stderr",
     "output_type": "stream",
     "text": [
      "train loss: 31.513: 100%|██████████| 7/7 [00:00<00:00, 12.76it/s]\n",
      "val loss: 45.303: 100%|██████████| 2/2 [00:00<00:00, 69.79it/s]\n"
     ]
    },
    {
     "name": "stdout",
     "output_type": "stream",
     "text": [
      "Epoch 542\tTrain Loss: 31.666  Val Loss: 45.152\n",
      "\n"
     ]
    },
    {
     "name": "stderr",
     "output_type": "stream",
     "text": [
      "train loss: 31.021: 100%|██████████| 7/7 [00:00<00:00, 13.31it/s]\n",
      "val loss: 45.704: 100%|██████████| 2/2 [00:00<00:00, 51.15it/s]\n"
     ]
    },
    {
     "name": "stdout",
     "output_type": "stream",
     "text": [
      "Epoch 543\tTrain Loss: 31.739  Val Loss: 45.507\n",
      "\n"
     ]
    },
    {
     "name": "stderr",
     "output_type": "stream",
     "text": [
      "train loss: 32.635: 100%|██████████| 7/7 [00:00<00:00, 12.77it/s]\n",
      "val loss: 45.153: 100%|██████████| 2/2 [00:00<00:00, 62.99it/s]\n"
     ]
    },
    {
     "name": "stdout",
     "output_type": "stream",
     "text": [
      "Epoch 544\tTrain Loss: 31.934  Val Loss: 45.013\n",
      "\n"
     ]
    },
    {
     "name": "stderr",
     "output_type": "stream",
     "text": [
      "train loss: 30.758: 100%|██████████| 7/7 [00:00<00:00, 13.16it/s]\n",
      "val loss: 45.268: 100%|██████████| 2/2 [00:00<00:00, 67.59it/s]\n"
     ]
    },
    {
     "name": "stdout",
     "output_type": "stream",
     "text": [
      "Epoch 545\tTrain Loss: 31.639  Val Loss: 45.124\n",
      "\n"
     ]
    },
    {
     "name": "stderr",
     "output_type": "stream",
     "text": [
      "train loss: 32.616: 100%|██████████| 7/7 [00:00<00:00, 13.20it/s]\n",
      "val loss: 45.404: 100%|██████████| 2/2 [00:00<00:00, 68.50it/s]\n"
     ]
    },
    {
     "name": "stdout",
     "output_type": "stream",
     "text": [
      "Epoch 546\tTrain Loss: 31.784  Val Loss: 45.204\n",
      "\n"
     ]
    },
    {
     "name": "stderr",
     "output_type": "stream",
     "text": [
      "train loss: 32.309: 100%|██████████| 7/7 [00:00<00:00, 13.30it/s]\n",
      "val loss: 45.385: 100%|██████████| 2/2 [00:00<00:00, 59.33it/s]\n"
     ]
    },
    {
     "name": "stdout",
     "output_type": "stream",
     "text": [
      "Epoch 547\tTrain Loss: 31.707  Val Loss: 45.227\n",
      "\n"
     ]
    },
    {
     "name": "stderr",
     "output_type": "stream",
     "text": [
      "train loss: 31.395: 100%|██████████| 7/7 [00:00<00:00, 13.17it/s]\n",
      "val loss: 45.314: 100%|██████████| 2/2 [00:00<00:00, 60.09it/s]\n"
     ]
    },
    {
     "name": "stdout",
     "output_type": "stream",
     "text": [
      "Epoch 548\tTrain Loss: 31.502  Val Loss: 45.162\n",
      "\n"
     ]
    },
    {
     "name": "stderr",
     "output_type": "stream",
     "text": [
      "train loss: 31.781: 100%|██████████| 7/7 [00:00<00:00, 12.91it/s]\n",
      "val loss: 45.243: 100%|██████████| 2/2 [00:00<00:00, 67.30it/s]\n"
     ]
    },
    {
     "name": "stdout",
     "output_type": "stream",
     "text": [
      "Epoch 549\tTrain Loss: 31.447  Val Loss: 45.091\n",
      "\n"
     ]
    },
    {
     "name": "stderr",
     "output_type": "stream",
     "text": [
      "train loss: 31.224: 100%|██████████| 7/7 [00:00<00:00, 13.26it/s]\n",
      "val loss: 45.368: 100%|██████████| 2/2 [00:00<00:00, 69.32it/s]\n"
     ]
    },
    {
     "name": "stdout",
     "output_type": "stream",
     "text": [
      "Epoch 550\tTrain Loss: 31.440  Val Loss: 45.226\n",
      "\n"
     ]
    },
    {
     "name": "stderr",
     "output_type": "stream",
     "text": [
      "train loss: 33.165: 100%|██████████| 7/7 [00:00<00:00, 12.93it/s]\n",
      "val loss: 45.545: 100%|██████████| 2/2 [00:00<00:00, 67.64it/s]\n"
     ]
    },
    {
     "name": "stdout",
     "output_type": "stream",
     "text": [
      "Epoch 551\tTrain Loss: 31.642  Val Loss: 45.379\n",
      "\n"
     ]
    },
    {
     "name": "stderr",
     "output_type": "stream",
     "text": [
      "train loss: 31.250: 100%|██████████| 7/7 [00:00<00:00, 13.13it/s]\n",
      "val loss: 45.513: 100%|██████████| 2/2 [00:00<00:00, 68.36it/s]\n"
     ]
    },
    {
     "name": "stdout",
     "output_type": "stream",
     "text": [
      "Epoch 552\tTrain Loss: 31.430  Val Loss: 45.338\n",
      "\n"
     ]
    },
    {
     "name": "stderr",
     "output_type": "stream",
     "text": [
      "train loss: 32.569: 100%|██████████| 7/7 [00:00<00:00, 13.26it/s]\n",
      "val loss: 45.455: 100%|██████████| 2/2 [00:00<00:00, 59.80it/s]\n"
     ]
    },
    {
     "name": "stdout",
     "output_type": "stream",
     "text": [
      "Epoch 553\tTrain Loss: 31.550  Val Loss: 45.287\n",
      "\n"
     ]
    },
    {
     "name": "stderr",
     "output_type": "stream",
     "text": [
      "train loss: 31.691: 100%|██████████| 7/7 [00:00<00:00, 12.93it/s]\n",
      "val loss: 45.407: 100%|██████████| 2/2 [00:00<00:00, 69.42it/s]\n"
     ]
    },
    {
     "name": "stdout",
     "output_type": "stream",
     "text": [
      "Epoch 554\tTrain Loss: 31.426  Val Loss: 45.257\n",
      "\n"
     ]
    },
    {
     "name": "stderr",
     "output_type": "stream",
     "text": [
      "train loss: 33.367: 100%|██████████| 7/7 [00:00<00:00, 13.15it/s]\n",
      "val loss: 45.505: 100%|██████████| 2/2 [00:00<00:00, 67.91it/s]\n"
     ]
    },
    {
     "name": "stdout",
     "output_type": "stream",
     "text": [
      "Epoch 555\tTrain Loss: 31.504  Val Loss: 45.373\n",
      "\n"
     ]
    },
    {
     "name": "stderr",
     "output_type": "stream",
     "text": [
      "train loss: 31.044: 100%|██████████| 7/7 [00:00<00:00, 13.27it/s]\n",
      "val loss: 45.405: 100%|██████████| 2/2 [00:00<00:00, 61.75it/s]\n"
     ]
    },
    {
     "name": "stdout",
     "output_type": "stream",
     "text": [
      "Epoch 556\tTrain Loss: 31.265  Val Loss: 45.245\n",
      "\n"
     ]
    },
    {
     "name": "stderr",
     "output_type": "stream",
     "text": [
      "train loss: 30.614: 100%|██████████| 7/7 [00:00<00:00, 13.17it/s]\n",
      "val loss: 45.587: 100%|██████████| 2/2 [00:00<00:00, 69.44it/s]\n"
     ]
    },
    {
     "name": "stdout",
     "output_type": "stream",
     "text": [
      "Epoch 557\tTrain Loss: 31.133  Val Loss: 45.465\n",
      "\n"
     ]
    },
    {
     "name": "stderr",
     "output_type": "stream",
     "text": [
      "train loss: 31.846: 100%|██████████| 7/7 [00:00<00:00, 13.32it/s]\n",
      "val loss: 45.508: 100%|██████████| 2/2 [00:00<00:00, 68.50it/s]\n"
     ]
    },
    {
     "name": "stdout",
     "output_type": "stream",
     "text": [
      "Epoch 558\tTrain Loss: 31.254  Val Loss: 45.356\n",
      "\n"
     ]
    },
    {
     "name": "stderr",
     "output_type": "stream",
     "text": [
      "train loss: 30.946: 100%|██████████| 7/7 [00:00<00:00, 13.17it/s]\n",
      "val loss: 45.502: 100%|██████████| 2/2 [00:00<00:00, 57.45it/s]\n"
     ]
    },
    {
     "name": "stdout",
     "output_type": "stream",
     "text": [
      "Epoch 559\tTrain Loss: 31.104  Val Loss: 45.352\n",
      "\n"
     ]
    },
    {
     "name": "stderr",
     "output_type": "stream",
     "text": [
      "train loss: 30.644: 100%|██████████| 7/7 [00:00<00:00, 12.91it/s]\n",
      "val loss: 45.513: 100%|██████████| 2/2 [00:00<00:00, 68.23it/s]\n"
     ]
    },
    {
     "name": "stdout",
     "output_type": "stream",
     "text": [
      "Epoch 560\tTrain Loss: 31.020  Val Loss: 45.362\n",
      "\n"
     ]
    },
    {
     "name": "stderr",
     "output_type": "stream",
     "text": [
      "train loss: 32.292: 100%|██████████| 7/7 [00:00<00:00, 13.25it/s]\n",
      "val loss: 45.622: 100%|██████████| 2/2 [00:00<00:00, 56.27it/s]\n"
     ]
    },
    {
     "name": "stdout",
     "output_type": "stream",
     "text": [
      "Epoch 561\tTrain Loss: 31.154  Val Loss: 45.462\n",
      "\n"
     ]
    },
    {
     "name": "stderr",
     "output_type": "stream",
     "text": [
      "train loss: 32.177: 100%|██████████| 7/7 [00:00<00:00, 13.03it/s]\n",
      "val loss: 45.626: 100%|██████████| 2/2 [00:00<00:00, 67.62it/s]\n"
     ]
    },
    {
     "name": "stdout",
     "output_type": "stream",
     "text": [
      "Epoch 562\tTrain Loss: 31.137  Val Loss: 45.467\n",
      "\n"
     ]
    },
    {
     "name": "stderr",
     "output_type": "stream",
     "text": [
      "train loss: 31.549: 100%|██████████| 7/7 [00:00<00:00, 13.17it/s]\n",
      "val loss: 45.646: 100%|██████████| 2/2 [00:00<00:00, 67.10it/s]\n"
     ]
    },
    {
     "name": "stdout",
     "output_type": "stream",
     "text": [
      "Epoch 563\tTrain Loss: 31.045  Val Loss: 45.483\n",
      "\n"
     ]
    },
    {
     "name": "stderr",
     "output_type": "stream",
     "text": [
      "train loss: 31.595: 100%|██████████| 7/7 [00:00<00:00, 13.23it/s]\n",
      "val loss: 45.635: 100%|██████████| 2/2 [00:00<00:00, 61.00it/s]\n"
     ]
    },
    {
     "name": "stdout",
     "output_type": "stream",
     "text": [
      "Epoch 564\tTrain Loss: 31.023  Val Loss: 45.534\n",
      "\n"
     ]
    },
    {
     "name": "stderr",
     "output_type": "stream",
     "text": [
      "train loss: 29.898: 100%|██████████| 7/7 [00:00<00:00, 13.29it/s]\n",
      "val loss: 45.685: 100%|██████████| 2/2 [00:00<00:00, 47.38it/s]\n"
     ]
    },
    {
     "name": "stdout",
     "output_type": "stream",
     "text": [
      "Epoch 565\tTrain Loss: 30.826  Val Loss: 45.534\n",
      "\n"
     ]
    },
    {
     "name": "stderr",
     "output_type": "stream",
     "text": [
      "train loss: 30.211: 100%|██████████| 7/7 [00:00<00:00, 12.82it/s]\n",
      "val loss: 45.751: 100%|██████████| 2/2 [00:00<00:00, 68.53it/s]\n"
     ]
    },
    {
     "name": "stdout",
     "output_type": "stream",
     "text": [
      "Epoch 566\tTrain Loss: 30.845  Val Loss: 45.604\n",
      "\n"
     ]
    },
    {
     "name": "stderr",
     "output_type": "stream",
     "text": [
      "train loss: 30.712: 100%|██████████| 7/7 [00:00<00:00, 12.62it/s]\n",
      "val loss: 45.807: 100%|██████████| 2/2 [00:00<00:00, 69.32it/s]\n"
     ]
    },
    {
     "name": "stdout",
     "output_type": "stream",
     "text": [
      "Epoch 567\tTrain Loss: 30.879  Val Loss: 45.685\n",
      "\n"
     ]
    },
    {
     "name": "stderr",
     "output_type": "stream",
     "text": [
      "train loss: 29.450: 100%|██████████| 7/7 [00:00<00:00, 13.28it/s]\n",
      "val loss: 45.765: 100%|██████████| 2/2 [00:00<00:00, 47.94it/s]\n"
     ]
    },
    {
     "name": "stdout",
     "output_type": "stream",
     "text": [
      "Epoch 568\tTrain Loss: 30.734  Val Loss: 45.633\n",
      "\n"
     ]
    },
    {
     "name": "stderr",
     "output_type": "stream",
     "text": [
      "train loss: 29.953: 100%|██████████| 7/7 [00:00<00:00, 12.78it/s]\n",
      "val loss: 45.767: 100%|██████████| 2/2 [00:00<00:00, 68.86it/s]\n"
     ]
    },
    {
     "name": "stdout",
     "output_type": "stream",
     "text": [
      "Epoch 569\tTrain Loss: 30.780  Val Loss: 45.632\n",
      "\n"
     ]
    },
    {
     "name": "stderr",
     "output_type": "stream",
     "text": [
      "train loss: 30.792: 100%|██████████| 7/7 [00:00<00:00, 13.31it/s]\n",
      "val loss: 45.805: 100%|██████████| 2/2 [00:00<00:00, 50.90it/s]\n"
     ]
    },
    {
     "name": "stdout",
     "output_type": "stream",
     "text": [
      "Epoch 570\tTrain Loss: 30.851  Val Loss: 45.675\n",
      "\n"
     ]
    },
    {
     "name": "stderr",
     "output_type": "stream",
     "text": [
      "train loss: 32.005: 100%|██████████| 7/7 [00:00<00:00, 12.50it/s]\n",
      "val loss: 45.808: 100%|██████████| 2/2 [00:00<00:00, 67.11it/s]\n"
     ]
    },
    {
     "name": "stdout",
     "output_type": "stream",
     "text": [
      "Epoch 571\tTrain Loss: 30.975  Val Loss: 45.685\n",
      "\n"
     ]
    },
    {
     "name": "stderr",
     "output_type": "stream",
     "text": [
      "train loss: 31.516: 100%|██████████| 7/7 [00:00<00:00, 12.83it/s]\n",
      "val loss: 45.830: 100%|██████████| 2/2 [00:00<00:00, 69.36it/s]\n"
     ]
    },
    {
     "name": "stdout",
     "output_type": "stream",
     "text": [
      "Epoch 572\tTrain Loss: 30.904  Val Loss: 45.662\n",
      "\n"
     ]
    },
    {
     "name": "stderr",
     "output_type": "stream",
     "text": [
      "train loss: 30.729: 100%|██████████| 7/7 [00:00<00:00, 13.32it/s]\n",
      "val loss: 45.878: 100%|██████████| 2/2 [00:00<00:00, 69.56it/s]\n"
     ]
    },
    {
     "name": "stdout",
     "output_type": "stream",
     "text": [
      "Epoch 573\tTrain Loss: 30.858  Val Loss: 45.722\n",
      "\n"
     ]
    },
    {
     "name": "stderr",
     "output_type": "stream",
     "text": [
      "train loss: 31.321: 100%|██████████| 7/7 [00:00<00:00, 13.02it/s]\n",
      "val loss: 45.916: 100%|██████████| 2/2 [00:00<00:00, 68.49it/s]\n"
     ]
    },
    {
     "name": "stdout",
     "output_type": "stream",
     "text": [
      "Epoch 574\tTrain Loss: 30.867  Val Loss: 45.769\n",
      "\n"
     ]
    },
    {
     "name": "stderr",
     "output_type": "stream",
     "text": [
      "train loss: 30.730: 100%|██████████| 7/7 [00:00<00:00, 13.30it/s]\n",
      "val loss: 45.779: 100%|██████████| 2/2 [00:00<00:00, 62.64it/s]\n"
     ]
    },
    {
     "name": "stdout",
     "output_type": "stream",
     "text": [
      "Epoch 575\tTrain Loss: 30.749  Val Loss: 45.664\n",
      "\n"
     ]
    },
    {
     "name": "stderr",
     "output_type": "stream",
     "text": [
      "train loss: 31.162: 100%|██████████| 7/7 [00:00<00:00, 12.65it/s]\n",
      "val loss: 45.851: 100%|██████████| 2/2 [00:00<00:00, 67.22it/s]\n"
     ]
    },
    {
     "name": "stdout",
     "output_type": "stream",
     "text": [
      "Epoch 576\tTrain Loss: 30.736  Val Loss: 45.730\n",
      "\n"
     ]
    },
    {
     "name": "stderr",
     "output_type": "stream",
     "text": [
      "train loss: 30.862: 100%|██████████| 7/7 [00:00<00:00, 13.24it/s]\n",
      "val loss: 45.915: 100%|██████████| 2/2 [00:00<00:00, 52.22it/s]\n"
     ]
    },
    {
     "name": "stdout",
     "output_type": "stream",
     "text": [
      "Epoch 577\tTrain Loss: 30.683  Val Loss: 45.785\n",
      "\n"
     ]
    },
    {
     "name": "stderr",
     "output_type": "stream",
     "text": [
      "train loss: 31.377: 100%|██████████| 7/7 [00:00<00:00, 12.66it/s]\n",
      "val loss: 45.937: 100%|██████████| 2/2 [00:00<00:00, 67.87it/s]\n"
     ]
    },
    {
     "name": "stdout",
     "output_type": "stream",
     "text": [
      "Epoch 578\tTrain Loss: 30.712  Val Loss: 45.807\n",
      "\n"
     ]
    },
    {
     "name": "stderr",
     "output_type": "stream",
     "text": [
      "train loss: 30.482: 100%|██████████| 7/7 [00:00<00:00, 13.31it/s]\n",
      "val loss: 45.888: 100%|██████████| 2/2 [00:00<00:00, 44.82it/s]\n"
     ]
    },
    {
     "name": "stdout",
     "output_type": "stream",
     "text": [
      "Epoch 579\tTrain Loss: 30.588  Val Loss: 45.749\n",
      "\n"
     ]
    },
    {
     "name": "stderr",
     "output_type": "stream",
     "text": [
      "train loss: 32.311: 100%|██████████| 7/7 [00:00<00:00, 12.51it/s]\n",
      "val loss: 45.935: 100%|██████████| 2/2 [00:00<00:00, 68.66it/s]\n"
     ]
    },
    {
     "name": "stdout",
     "output_type": "stream",
     "text": [
      "Epoch 580\tTrain Loss: 30.771  Val Loss: 45.831\n",
      "\n"
     ]
    },
    {
     "name": "stderr",
     "output_type": "stream",
     "text": [
      "train loss: 30.775: 100%|██████████| 7/7 [00:00<00:00, 13.26it/s]\n",
      "val loss: 46.169: 100%|██████████| 2/2 [00:00<00:00, 46.82it/s]\n"
     ]
    },
    {
     "name": "stdout",
     "output_type": "stream",
     "text": [
      "Epoch 581\tTrain Loss: 30.714  Val Loss: 46.021\n",
      "\n"
     ]
    },
    {
     "name": "stderr",
     "output_type": "stream",
     "text": [
      "train loss: 32.363: 100%|██████████| 7/7 [00:00<00:00, 12.47it/s]\n",
      "val loss: 46.028: 100%|██████████| 2/2 [00:00<00:00, 68.55it/s]\n"
     ]
    },
    {
     "name": "stdout",
     "output_type": "stream",
     "text": [
      "Epoch 582\tTrain Loss: 30.837  Val Loss: 45.906\n",
      "\n"
     ]
    },
    {
     "name": "stderr",
     "output_type": "stream",
     "text": [
      "train loss: 32.020: 100%|██████████| 7/7 [00:00<00:00, 13.14it/s]\n",
      "val loss: 46.082: 100%|██████████| 2/2 [00:00<00:00, 69.02it/s]\n"
     ]
    },
    {
     "name": "stdout",
     "output_type": "stream",
     "text": [
      "Epoch 583\tTrain Loss: 30.807  Val Loss: 45.972\n",
      "\n"
     ]
    },
    {
     "name": "stderr",
     "output_type": "stream",
     "text": [
      "train loss: 30.819: 100%|██████████| 7/7 [00:00<00:00, 13.28it/s]\n",
      "val loss: 45.956: 100%|██████████| 2/2 [00:00<00:00, 61.31it/s]\n"
     ]
    },
    {
     "name": "stdout",
     "output_type": "stream",
     "text": [
      "Epoch 584\tTrain Loss: 30.633  Val Loss: 45.839\n",
      "\n"
     ]
    },
    {
     "name": "stderr",
     "output_type": "stream",
     "text": [
      "train loss: 30.734: 100%|██████████| 7/7 [00:00<00:00, 12.91it/s]\n",
      "val loss: 46.178: 100%|██████████| 2/2 [00:00<00:00, 67.83it/s]\n"
     ]
    },
    {
     "name": "stdout",
     "output_type": "stream",
     "text": [
      "Epoch 585\tTrain Loss: 30.555  Val Loss: 46.049\n",
      "\n"
     ]
    },
    {
     "name": "stderr",
     "output_type": "stream",
     "text": [
      "train loss: 30.298: 100%|██████████| 7/7 [00:00<00:00, 13.29it/s]\n",
      "val loss: 46.087: 100%|██████████| 2/2 [00:00<00:00, 57.87it/s]\n"
     ]
    },
    {
     "name": "stdout",
     "output_type": "stream",
     "text": [
      "Epoch 586\tTrain Loss: 30.592  Val Loss: 45.942\n",
      "\n"
     ]
    },
    {
     "name": "stderr",
     "output_type": "stream",
     "text": [
      "train loss: 29.932: 100%|██████████| 7/7 [00:00<00:00, 12.69it/s]\n",
      "val loss: 46.035: 100%|██████████| 2/2 [00:00<00:00, 69.11it/s]\n"
     ]
    },
    {
     "name": "stdout",
     "output_type": "stream",
     "text": [
      "Epoch 587\tTrain Loss: 30.524  Val Loss: 45.917\n",
      "\n"
     ]
    },
    {
     "name": "stderr",
     "output_type": "stream",
     "text": [
      "train loss: 30.754: 100%|██████████| 7/7 [00:00<00:00, 13.31it/s]\n",
      "val loss: 46.178: 100%|██████████| 2/2 [00:00<00:00, 50.65it/s]\n"
     ]
    },
    {
     "name": "stdout",
     "output_type": "stream",
     "text": [
      "Epoch 588\tTrain Loss: 30.476  Val Loss: 46.072\n",
      "\n"
     ]
    },
    {
     "name": "stderr",
     "output_type": "stream",
     "text": [
      "train loss: 27.514: 100%|██████████| 7/7 [00:00<00:00, 12.69it/s]\n",
      "val loss: 46.146: 100%|██████████| 2/2 [00:00<00:00, 68.52it/s]\n"
     ]
    },
    {
     "name": "stdout",
     "output_type": "stream",
     "text": [
      "Epoch 589\tTrain Loss: 30.268  Val Loss: 46.018\n",
      "\n"
     ]
    },
    {
     "name": "stderr",
     "output_type": "stream",
     "text": [
      "train loss: 31.652: 100%|██████████| 7/7 [00:00<00:00, 13.17it/s]\n",
      "val loss: 46.061: 100%|██████████| 2/2 [00:00<00:00, 69.31it/s]\n"
     ]
    },
    {
     "name": "stdout",
     "output_type": "stream",
     "text": [
      "Epoch 590\tTrain Loss: 30.564  Val Loss: 45.959\n",
      "\n"
     ]
    },
    {
     "name": "stderr",
     "output_type": "stream",
     "text": [
      "train loss: 31.530: 100%|██████████| 7/7 [00:00<00:00, 13.35it/s]\n",
      "val loss: 46.303: 100%|██████████| 2/2 [00:00<00:00, 60.67it/s]\n"
     ]
    },
    {
     "name": "stdout",
     "output_type": "stream",
     "text": [
      "Epoch 591\tTrain Loss: 30.543  Val Loss: 46.206\n",
      "\n"
     ]
    },
    {
     "name": "stderr",
     "output_type": "stream",
     "text": [
      "train loss: 29.701: 100%|██████████| 7/7 [00:00<00:00, 13.05it/s]\n",
      "val loss: 46.109: 100%|██████████| 2/2 [00:00<00:00, 69.75it/s]\n"
     ]
    },
    {
     "name": "stdout",
     "output_type": "stream",
     "text": [
      "Epoch 592\tTrain Loss: 30.331  Val Loss: 46.001\n",
      "\n"
     ]
    },
    {
     "name": "stderr",
     "output_type": "stream",
     "text": [
      "train loss: 31.305: 100%|██████████| 7/7 [00:00<00:00, 13.30it/s]\n",
      "val loss: 46.103: 100%|██████████| 2/2 [00:00<00:00, 50.09it/s]\n"
     ]
    },
    {
     "name": "stdout",
     "output_type": "stream",
     "text": [
      "Epoch 593\tTrain Loss: 30.380  Val Loss: 45.956\n",
      "\n"
     ]
    },
    {
     "name": "stderr",
     "output_type": "stream",
     "text": [
      "train loss: 31.141: 100%|██████████| 7/7 [00:00<00:00, 12.79it/s]\n",
      "val loss: 46.319: 100%|██████████| 2/2 [00:00<00:00, 68.47it/s]\n"
     ]
    },
    {
     "name": "stdout",
     "output_type": "stream",
     "text": [
      "Epoch 594\tTrain Loss: 30.512  Val Loss: 46.181\n",
      "\n"
     ]
    },
    {
     "name": "stderr",
     "output_type": "stream",
     "text": [
      "train loss: 30.673: 100%|██████████| 7/7 [00:00<00:00, 13.30it/s]\n",
      "val loss: 46.186: 100%|██████████| 2/2 [00:00<00:00, 54.77it/s]\n"
     ]
    },
    {
     "name": "stdout",
     "output_type": "stream",
     "text": [
      "Epoch 595\tTrain Loss: 30.394  Val Loss: 46.099\n",
      "\n"
     ]
    },
    {
     "name": "stderr",
     "output_type": "stream",
     "text": [
      "train loss: 30.744: 100%|██████████| 7/7 [00:00<00:00, 12.74it/s]\n",
      "val loss: 46.158: 100%|██████████| 2/2 [00:00<00:00, 69.22it/s]\n"
     ]
    },
    {
     "name": "stdout",
     "output_type": "stream",
     "text": [
      "Epoch 596\tTrain Loss: 30.249  Val Loss: 46.061\n",
      "\n"
     ]
    },
    {
     "name": "stderr",
     "output_type": "stream",
     "text": [
      "train loss: 31.011: 100%|██████████| 7/7 [00:00<00:00, 13.31it/s]\n",
      "val loss: 46.201: 100%|██████████| 2/2 [00:00<00:00, 68.61it/s]\n"
     ]
    },
    {
     "name": "stdout",
     "output_type": "stream",
     "text": [
      "Epoch 597\tTrain Loss: 30.333  Val Loss: 46.124\n",
      "\n"
     ]
    },
    {
     "name": "stderr",
     "output_type": "stream",
     "text": [
      "train loss: 30.199: 100%|██████████| 7/7 [00:00<00:00, 13.05it/s]\n",
      "val loss: 46.341: 100%|██████████| 2/2 [00:00<00:00, 68.59it/s]\n"
     ]
    },
    {
     "name": "stdout",
     "output_type": "stream",
     "text": [
      "Epoch 598\tTrain Loss: 30.158  Val Loss: 46.190\n",
      "\n"
     ]
    },
    {
     "name": "stderr",
     "output_type": "stream",
     "text": [
      "train loss: 28.940: 100%|██████████| 7/7 [00:00<00:00, 13.29it/s]\n",
      "val loss: 46.186: 100%|██████████| 2/2 [00:00<00:00, 53.10it/s]\n"
     ]
    },
    {
     "name": "stdout",
     "output_type": "stream",
     "text": [
      "Epoch 599\tTrain Loss: 29.990  Val Loss: 46.074\n",
      "\n"
     ]
    },
    {
     "name": "stderr",
     "output_type": "stream",
     "text": [
      "train loss: 28.863: 100%|██████████| 7/7 [00:00<00:00, 12.61it/s]\n",
      "val loss: 46.250: 100%|██████████| 2/2 [00:00<00:00, 68.73it/s]\n"
     ]
    },
    {
     "name": "stdout",
     "output_type": "stream",
     "text": [
      "Epoch 600\tTrain Loss: 29.929  Val Loss: 46.143\n",
      "\n"
     ]
    },
    {
     "name": "stderr",
     "output_type": "stream",
     "text": [
      "train loss: 27.896: 100%|██████████| 7/7 [00:00<00:00, 13.27it/s]\n",
      "val loss: 46.304: 100%|██████████| 2/2 [00:00<00:00, 49.17it/s]\n"
     ]
    },
    {
     "name": "stdout",
     "output_type": "stream",
     "text": [
      "Epoch 601\tTrain Loss: 29.767  Val Loss: 46.216\n",
      "\n"
     ]
    },
    {
     "name": "stderr",
     "output_type": "stream",
     "text": [
      "train loss: 30.605: 100%|██████████| 7/7 [00:00<00:00, 12.71it/s]\n",
      "val loss: 46.383: 100%|██████████| 2/2 [00:00<00:00, 69.37it/s]\n"
     ]
    },
    {
     "name": "stdout",
     "output_type": "stream",
     "text": [
      "Epoch 602\tTrain Loss: 30.044  Val Loss: 46.275\n",
      "\n"
     ]
    },
    {
     "name": "stderr",
     "output_type": "stream",
     "text": [
      "train loss: 30.652: 100%|██████████| 7/7 [00:00<00:00, 13.29it/s]\n",
      "val loss: 46.338: 100%|██████████| 2/2 [00:00<00:00, 51.61it/s]\n"
     ]
    },
    {
     "name": "stdout",
     "output_type": "stream",
     "text": [
      "Epoch 603\tTrain Loss: 30.046  Val Loss: 46.213\n",
      "\n"
     ]
    },
    {
     "name": "stderr",
     "output_type": "stream",
     "text": [
      "train loss: 30.025: 100%|██████████| 7/7 [00:00<00:00, 12.79it/s]\n",
      "val loss: 46.414: 100%|██████████| 2/2 [00:00<00:00, 68.36it/s]\n"
     ]
    },
    {
     "name": "stdout",
     "output_type": "stream",
     "text": [
      "Epoch 604\tTrain Loss: 29.979  Val Loss: 46.314\n",
      "\n"
     ]
    },
    {
     "name": "stderr",
     "output_type": "stream",
     "text": [
      "train loss: 30.353: 100%|██████████| 7/7 [00:00<00:00, 13.06it/s]\n",
      "val loss: 46.478: 100%|██████████| 2/2 [00:00<00:00, 68.54it/s]\n"
     ]
    },
    {
     "name": "stdout",
     "output_type": "stream",
     "text": [
      "Epoch 605\tTrain Loss: 29.983  Val Loss: 46.357\n",
      "\n"
     ]
    },
    {
     "name": "stderr",
     "output_type": "stream",
     "text": [
      "train loss: 30.042: 100%|██████████| 7/7 [00:00<00:00, 13.16it/s]\n",
      "val loss: 46.395: 100%|██████████| 2/2 [00:00<00:00, 69.31it/s]\n"
     ]
    },
    {
     "name": "stdout",
     "output_type": "stream",
     "text": [
      "Epoch 606\tTrain Loss: 29.931  Val Loss: 46.319\n",
      "\n"
     ]
    },
    {
     "name": "stderr",
     "output_type": "stream",
     "text": [
      "train loss: 30.051: 100%|██████████| 7/7 [00:00<00:00, 13.32it/s]\n",
      "val loss: 46.463: 100%|██████████| 2/2 [00:00<00:00, 68.74it/s]\n"
     ]
    },
    {
     "name": "stdout",
     "output_type": "stream",
     "text": [
      "Epoch 607\tTrain Loss: 29.913  Val Loss: 46.366\n",
      "\n"
     ]
    },
    {
     "name": "stderr",
     "output_type": "stream",
     "text": [
      "train loss: 30.649: 100%|██████████| 7/7 [00:00<00:00, 13.20it/s]\n",
      "val loss: 46.454: 100%|██████████| 2/2 [00:00<00:00, 69.65it/s]\n"
     ]
    },
    {
     "name": "stdout",
     "output_type": "stream",
     "text": [
      "Epoch 608\tTrain Loss: 29.949  Val Loss: 46.367\n",
      "\n"
     ]
    },
    {
     "name": "stderr",
     "output_type": "stream",
     "text": [
      "train loss: 30.624: 100%|██████████| 7/7 [00:00<00:00, 13.16it/s]\n",
      "val loss: 46.567: 100%|██████████| 2/2 [00:00<00:00, 68.85it/s]\n"
     ]
    },
    {
     "name": "stdout",
     "output_type": "stream",
     "text": [
      "Epoch 609\tTrain Loss: 29.909  Val Loss: 46.464\n",
      "\n"
     ]
    },
    {
     "name": "stderr",
     "output_type": "stream",
     "text": [
      "train loss: 29.925: 100%|██████████| 7/7 [00:00<00:00, 13.28it/s]\n",
      "val loss: 46.564: 100%|██████████| 2/2 [00:00<00:00, 59.03it/s]\n"
     ]
    },
    {
     "name": "stdout",
     "output_type": "stream",
     "text": [
      "Epoch 610\tTrain Loss: 29.795  Val Loss: 46.467\n",
      "\n"
     ]
    },
    {
     "name": "stderr",
     "output_type": "stream",
     "text": [
      "train loss: 28.981: 100%|██████████| 7/7 [00:00<00:00, 13.28it/s]\n",
      "val loss: 46.587: 100%|██████████| 2/2 [00:00<00:00, 51.00it/s]\n"
     ]
    },
    {
     "name": "stdout",
     "output_type": "stream",
     "text": [
      "Epoch 611\tTrain Loss: 29.694  Val Loss: 46.473\n",
      "\n"
     ]
    },
    {
     "name": "stderr",
     "output_type": "stream",
     "text": [
      "train loss: 30.802: 100%|██████████| 7/7 [00:00<00:00, 12.52it/s]\n",
      "val loss: 46.540: 100%|██████████| 2/2 [00:00<00:00, 67.20it/s]\n"
     ]
    },
    {
     "name": "stdout",
     "output_type": "stream",
     "text": [
      "Epoch 612\tTrain Loss: 29.837  Val Loss: 46.415\n",
      "\n"
     ]
    },
    {
     "name": "stderr",
     "output_type": "stream",
     "text": [
      "train loss: 28.407: 100%|██████████| 7/7 [00:00<00:00, 13.24it/s]\n",
      "val loss: 46.692: 100%|██████████| 2/2 [00:00<00:00, 46.44it/s]\n"
     ]
    },
    {
     "name": "stdout",
     "output_type": "stream",
     "text": [
      "Epoch 613\tTrain Loss: 29.583  Val Loss: 46.595\n",
      "\n"
     ]
    },
    {
     "name": "stderr",
     "output_type": "stream",
     "text": [
      "train loss: 32.121: 100%|██████████| 7/7 [00:00<00:00, 12.50it/s]\n",
      "val loss: 46.604: 100%|██████████| 2/2 [00:00<00:00, 67.44it/s]\n"
     ]
    },
    {
     "name": "stdout",
     "output_type": "stream",
     "text": [
      "Epoch 614\tTrain Loss: 29.968  Val Loss: 46.536\n",
      "\n"
     ]
    },
    {
     "name": "stderr",
     "output_type": "stream",
     "text": [
      "train loss: 29.411: 100%|██████████| 7/7 [00:00<00:00, 13.13it/s]\n",
      "val loss: 46.632: 100%|██████████| 2/2 [00:00<00:00, 67.16it/s]\n"
     ]
    },
    {
     "name": "stdout",
     "output_type": "stream",
     "text": [
      "Epoch 615\tTrain Loss: 29.692  Val Loss: 46.541\n",
      "\n"
     ]
    },
    {
     "name": "stderr",
     "output_type": "stream",
     "text": [
      "train loss: 30.494: 100%|██████████| 7/7 [00:00<00:00, 13.24it/s]\n",
      "val loss: 46.646: 100%|██████████| 2/2 [00:00<00:00, 60.33it/s]\n"
     ]
    },
    {
     "name": "stdout",
     "output_type": "stream",
     "text": [
      "Epoch 616\tTrain Loss: 29.755  Val Loss: 46.541\n",
      "\n"
     ]
    },
    {
     "name": "stderr",
     "output_type": "stream",
     "text": [
      "train loss: 29.931: 100%|██████████| 7/7 [00:00<00:00, 13.04it/s]\n",
      "val loss: 46.650: 100%|██████████| 2/2 [00:00<00:00, 67.67it/s]\n"
     ]
    },
    {
     "name": "stdout",
     "output_type": "stream",
     "text": [
      "Epoch 617\tTrain Loss: 29.687  Val Loss: 46.578\n",
      "\n"
     ]
    },
    {
     "name": "stderr",
     "output_type": "stream",
     "text": [
      "train loss: 27.915: 100%|██████████| 7/7 [00:00<00:00, 13.23it/s]\n",
      "val loss: 46.762: 100%|██████████| 2/2 [00:00<00:00, 57.44it/s]\n"
     ]
    },
    {
     "name": "stdout",
     "output_type": "stream",
     "text": [
      "Epoch 618\tTrain Loss: 29.437  Val Loss: 46.651\n",
      "\n"
     ]
    },
    {
     "name": "stderr",
     "output_type": "stream",
     "text": [
      "train loss: 30.534: 100%|██████████| 7/7 [00:00<00:00, 12.99it/s]\n",
      "val loss: 46.679: 100%|██████████| 2/2 [00:00<00:00, 67.81it/s]\n"
     ]
    },
    {
     "name": "stdout",
     "output_type": "stream",
     "text": [
      "Epoch 619\tTrain Loss: 29.731  Val Loss: 46.571\n",
      "\n"
     ]
    },
    {
     "name": "stderr",
     "output_type": "stream",
     "text": [
      "train loss: 30.586: 100%|██████████| 7/7 [00:00<00:00, 13.16it/s]\n",
      "val loss: 46.714: 100%|██████████| 2/2 [00:00<00:00, 68.46it/s]\n"
     ]
    },
    {
     "name": "stdout",
     "output_type": "stream",
     "text": [
      "Epoch 620\tTrain Loss: 29.715  Val Loss: 46.631\n",
      "\n"
     ]
    },
    {
     "name": "stderr",
     "output_type": "stream",
     "text": [
      "train loss: 27.555: 100%|██████████| 7/7 [00:00<00:00, 13.19it/s]\n",
      "val loss: 46.756: 100%|██████████| 2/2 [00:00<00:00, 57.76it/s]\n"
     ]
    },
    {
     "name": "stdout",
     "output_type": "stream",
     "text": [
      "Epoch 621\tTrain Loss: 29.386  Val Loss: 46.682\n",
      "\n"
     ]
    },
    {
     "name": "stderr",
     "output_type": "stream",
     "text": [
      "train loss: 31.159: 100%|██████████| 7/7 [00:00<00:00, 13.03it/s]\n",
      "val loss: 46.799: 100%|██████████| 2/2 [00:00<00:00, 68.22it/s]\n"
     ]
    },
    {
     "name": "stdout",
     "output_type": "stream",
     "text": [
      "Epoch 622\tTrain Loss: 29.736  Val Loss: 46.719\n",
      "\n"
     ]
    },
    {
     "name": "stderr",
     "output_type": "stream",
     "text": [
      "train loss: 29.477: 100%|██████████| 7/7 [00:00<00:00, 12.76it/s]\n",
      "val loss: 46.789: 100%|██████████| 2/2 [00:00<00:00, 69.17it/s]\n"
     ]
    },
    {
     "name": "stdout",
     "output_type": "stream",
     "text": [
      "Epoch 623\tTrain Loss: 29.542  Val Loss: 46.710\n",
      "\n"
     ]
    },
    {
     "name": "stderr",
     "output_type": "stream",
     "text": [
      "train loss: 29.907: 100%|██████████| 7/7 [00:00<00:00, 13.31it/s]\n",
      "val loss: 46.785: 100%|██████████| 2/2 [00:00<00:00, 49.18it/s]\n"
     ]
    },
    {
     "name": "stdout",
     "output_type": "stream",
     "text": [
      "Epoch 624\tTrain Loss: 29.538  Val Loss: 46.668\n",
      "\n"
     ]
    },
    {
     "name": "stderr",
     "output_type": "stream",
     "text": [
      "train loss: 30.432: 100%|██████████| 7/7 [00:00<00:00, 12.49it/s]\n",
      "val loss: 46.771: 100%|██████████| 2/2 [00:00<00:00, 67.79it/s]\n"
     ]
    },
    {
     "name": "stdout",
     "output_type": "stream",
     "text": [
      "Epoch 625\tTrain Loss: 29.582  Val Loss: 46.692\n",
      "\n"
     ]
    },
    {
     "name": "stderr",
     "output_type": "stream",
     "text": [
      "train loss: 30.693: 100%|██████████| 7/7 [00:00<00:00, 13.24it/s]\n",
      "val loss: 46.908: 100%|██████████| 2/2 [00:00<00:00, 50.47it/s]\n"
     ]
    },
    {
     "name": "stdout",
     "output_type": "stream",
     "text": [
      "Epoch 626\tTrain Loss: 29.582  Val Loss: 46.834\n",
      "\n"
     ]
    },
    {
     "name": "stderr",
     "output_type": "stream",
     "text": [
      "train loss: 27.403: 100%|██████████| 7/7 [00:00<00:00, 12.58it/s]\n",
      "val loss: 46.885: 100%|██████████| 2/2 [00:00<00:00, 68.72it/s]\n"
     ]
    },
    {
     "name": "stdout",
     "output_type": "stream",
     "text": [
      "Epoch 627\tTrain Loss: 29.233  Val Loss: 46.810\n",
      "\n"
     ]
    },
    {
     "name": "stderr",
     "output_type": "stream",
     "text": [
      "train loss: 29.176: 100%|██████████| 7/7 [00:00<00:00, 13.30it/s]\n",
      "val loss: 46.911: 100%|██████████| 2/2 [00:00<00:00, 50.31it/s]\n"
     ]
    },
    {
     "name": "stdout",
     "output_type": "stream",
     "text": [
      "Epoch 628\tTrain Loss: 29.385  Val Loss: 46.839\n",
      "\n"
     ]
    },
    {
     "name": "stderr",
     "output_type": "stream",
     "text": [
      "train loss: 29.917: 100%|██████████| 7/7 [00:00<00:00, 12.66it/s]\n",
      "val loss: 46.930: 100%|██████████| 2/2 [00:00<00:00, 67.80it/s]\n"
     ]
    },
    {
     "name": "stdout",
     "output_type": "stream",
     "text": [
      "Epoch 629\tTrain Loss: 29.444  Val Loss: 46.851\n",
      "\n"
     ]
    },
    {
     "name": "stderr",
     "output_type": "stream",
     "text": [
      "train loss: 29.470: 100%|██████████| 7/7 [00:00<00:00, 13.16it/s]\n",
      "val loss: 46.975: 100%|██████████| 2/2 [00:00<00:00, 68.59it/s]\n"
     ]
    },
    {
     "name": "stdout",
     "output_type": "stream",
     "text": [
      "Epoch 630\tTrain Loss: 29.368  Val Loss: 46.893\n",
      "\n"
     ]
    },
    {
     "name": "stderr",
     "output_type": "stream",
     "text": [
      "train loss: 27.699: 100%|██████████| 7/7 [00:00<00:00, 13.27it/s]\n",
      "val loss: 46.978: 100%|██████████| 2/2 [00:00<00:00, 58.71it/s]\n"
     ]
    },
    {
     "name": "stdout",
     "output_type": "stream",
     "text": [
      "Epoch 631\tTrain Loss: 29.211  Val Loss: 46.880\n",
      "\n"
     ]
    },
    {
     "name": "stderr",
     "output_type": "stream",
     "text": [
      "train loss: 28.564: 100%|██████████| 7/7 [00:00<00:00, 13.12it/s]\n",
      "val loss: 46.872: 100%|██████████| 2/2 [00:00<00:00, 55.42it/s]\n"
     ]
    },
    {
     "name": "stdout",
     "output_type": "stream",
     "text": [
      "Epoch 632\tTrain Loss: 29.256  Val Loss: 46.809\n",
      "\n"
     ]
    },
    {
     "name": "stderr",
     "output_type": "stream",
     "text": [
      "train loss: 29.074: 100%|██████████| 7/7 [00:00<00:00, 12.50it/s]\n",
      "val loss: 47.014: 100%|██████████| 2/2 [00:00<00:00, 67.30it/s]\n"
     ]
    },
    {
     "name": "stdout",
     "output_type": "stream",
     "text": [
      "Epoch 633\tTrain Loss: 29.281  Val Loss: 46.901\n",
      "\n"
     ]
    },
    {
     "name": "stderr",
     "output_type": "stream",
     "text": [
      "train loss: 29.445: 100%|██████████| 7/7 [00:00<00:00, 13.15it/s]\n",
      "val loss: 46.909: 100%|██████████| 2/2 [00:00<00:00, 67.58it/s]\n"
     ]
    },
    {
     "name": "stdout",
     "output_type": "stream",
     "text": [
      "Epoch 634\tTrain Loss: 29.309  Val Loss: 46.832\n",
      "\n"
     ]
    },
    {
     "name": "stderr",
     "output_type": "stream",
     "text": [
      "train loss: 29.731: 100%|██████████| 7/7 [00:00<00:00, 13.26it/s]\n",
      "val loss: 47.125: 100%|██████████| 2/2 [00:00<00:00, 58.98it/s]\n"
     ]
    },
    {
     "name": "stdout",
     "output_type": "stream",
     "text": [
      "Epoch 635\tTrain Loss: 29.324  Val Loss: 47.033\n",
      "\n"
     ]
    },
    {
     "name": "stderr",
     "output_type": "stream",
     "text": [
      "train loss: 28.468: 100%|██████████| 7/7 [00:00<00:00, 13.28it/s]\n",
      "val loss: 47.076: 100%|██████████| 2/2 [00:00<00:00, 50.25it/s]\n"
     ]
    },
    {
     "name": "stdout",
     "output_type": "stream",
     "text": [
      "Epoch 636\tTrain Loss: 29.215  Val Loss: 47.006\n",
      "\n"
     ]
    },
    {
     "name": "stderr",
     "output_type": "stream",
     "text": [
      "train loss: 29.320: 100%|██████████| 7/7 [00:00<00:00, 12.80it/s]\n",
      "val loss: 47.066: 100%|██████████| 2/2 [00:00<00:00, 67.75it/s]\n"
     ]
    },
    {
     "name": "stdout",
     "output_type": "stream",
     "text": [
      "Epoch 637\tTrain Loss: 29.279  Val Loss: 47.035\n",
      "\n"
     ]
    },
    {
     "name": "stderr",
     "output_type": "stream",
     "text": [
      "train loss: 29.250: 100%|██████████| 7/7 [00:00<00:00, 13.29it/s]\n",
      "val loss: 47.075: 100%|██████████| 2/2 [00:00<00:00, 53.79it/s]\n"
     ]
    },
    {
     "name": "stdout",
     "output_type": "stream",
     "text": [
      "Epoch 638\tTrain Loss: 29.260  Val Loss: 46.994\n",
      "\n"
     ]
    },
    {
     "name": "stderr",
     "output_type": "stream",
     "text": [
      "train loss: 30.640: 100%|██████████| 7/7 [00:00<00:00, 12.53it/s]\n",
      "val loss: 47.091: 100%|██████████| 2/2 [00:00<00:00, 68.40it/s]\n"
     ]
    },
    {
     "name": "stdout",
     "output_type": "stream",
     "text": [
      "Epoch 639\tTrain Loss: 29.348  Val Loss: 47.041\n",
      "\n"
     ]
    },
    {
     "name": "stderr",
     "output_type": "stream",
     "text": [
      "train loss: 28.799: 100%|██████████| 7/7 [00:00<00:00, 12.99it/s]\n",
      "val loss: 47.093: 100%|██████████| 2/2 [00:00<00:00, 69.29it/s]\n"
     ]
    },
    {
     "name": "stdout",
     "output_type": "stream",
     "text": [
      "Epoch 640\tTrain Loss: 29.127  Val Loss: 47.007\n",
      "\n"
     ]
    },
    {
     "name": "stderr",
     "output_type": "stream",
     "text": [
      "train loss: 28.988: 100%|██████████| 7/7 [00:00<00:00, 13.31it/s]\n",
      "val loss: 47.117: 100%|██████████| 2/2 [00:00<00:00, 54.52it/s]\n"
     ]
    },
    {
     "name": "stdout",
     "output_type": "stream",
     "text": [
      "Epoch 641\tTrain Loss: 29.167  Val Loss: 47.026\n",
      "\n"
     ]
    },
    {
     "name": "stderr",
     "output_type": "stream",
     "text": [
      "train loss: 29.426: 100%|██████████| 7/7 [00:00<00:00, 12.86it/s]\n",
      "val loss: 47.371: 100%|██████████| 2/2 [00:00<00:00, 69.06it/s]\n"
     ]
    },
    {
     "name": "stdout",
     "output_type": "stream",
     "text": [
      "Epoch 642\tTrain Loss: 29.148  Val Loss: 47.361\n",
      "\n"
     ]
    },
    {
     "name": "stderr",
     "output_type": "stream",
     "text": [
      "train loss: 28.260: 100%|██████████| 7/7 [00:00<00:00, 13.29it/s]\n",
      "val loss: 47.175: 100%|██████████| 2/2 [00:00<00:00, 48.46it/s]\n"
     ]
    },
    {
     "name": "stdout",
     "output_type": "stream",
     "text": [
      "Epoch 643\tTrain Loss: 29.152  Val Loss: 47.108\n",
      "\n"
     ]
    },
    {
     "name": "stderr",
     "output_type": "stream",
     "text": [
      "train loss: 29.414: 100%|██████████| 7/7 [00:00<00:00, 13.15it/s]\n",
      "val loss: 47.401: 100%|██████████| 2/2 [00:00<00:00, 54.83it/s]\n"
     ]
    },
    {
     "name": "stdout",
     "output_type": "stream",
     "text": [
      "Epoch 644\tTrain Loss: 29.161  Val Loss: 47.314\n",
      "\n"
     ]
    },
    {
     "name": "stderr",
     "output_type": "stream",
     "text": [
      "train loss: 28.453: 100%|██████████| 7/7 [00:00<00:00, 12.47it/s]\n",
      "val loss: 47.210: 100%|██████████| 2/2 [00:00<00:00, 67.77it/s]\n"
     ]
    },
    {
     "name": "stdout",
     "output_type": "stream",
     "text": [
      "Epoch 645\tTrain Loss: 29.144  Val Loss: 47.175\n",
      "\n"
     ]
    },
    {
     "name": "stderr",
     "output_type": "stream",
     "text": [
      "train loss: 28.255: 100%|██████████| 7/7 [00:00<00:00, 12.99it/s]\n",
      "val loss: 47.187: 100%|██████████| 2/2 [00:00<00:00, 67.77it/s]\n"
     ]
    },
    {
     "name": "stdout",
     "output_type": "stream",
     "text": [
      "Epoch 646\tTrain Loss: 29.085  Val Loss: 47.162\n",
      "\n"
     ]
    },
    {
     "name": "stderr",
     "output_type": "stream",
     "text": [
      "train loss: 26.993: 100%|██████████| 7/7 [00:00<00:00, 13.29it/s]\n",
      "val loss: 47.212: 100%|██████████| 2/2 [00:00<00:00, 57.31it/s]\n"
     ]
    },
    {
     "name": "stdout",
     "output_type": "stream",
     "text": [
      "Epoch 647\tTrain Loss: 28.946  Val Loss: 47.142\n",
      "\n"
     ]
    },
    {
     "name": "stderr",
     "output_type": "stream",
     "text": [
      "train loss: 30.577: 100%|██████████| 7/7 [00:00<00:00, 12.69it/s]\n",
      "val loss: 47.141: 100%|██████████| 2/2 [00:00<00:00, 68.27it/s]\n"
     ]
    },
    {
     "name": "stdout",
     "output_type": "stream",
     "text": [
      "Epoch 648\tTrain Loss: 29.275  Val Loss: 47.054\n",
      "\n"
     ]
    },
    {
     "name": "stderr",
     "output_type": "stream",
     "text": [
      "train loss: 28.907: 100%|██████████| 7/7 [00:00<00:00, 13.31it/s]\n",
      "val loss: 47.321: 100%|██████████| 2/2 [00:00<00:00, 52.54it/s]\n"
     ]
    },
    {
     "name": "stdout",
     "output_type": "stream",
     "text": [
      "Epoch 649\tTrain Loss: 29.046  Val Loss: 47.264\n",
      "\n"
     ]
    },
    {
     "name": "stderr",
     "output_type": "stream",
     "text": [
      "train loss: 27.949: 100%|██████████| 7/7 [00:00<00:00, 12.61it/s]\n",
      "val loss: 47.262: 100%|██████████| 2/2 [00:00<00:00, 68.95it/s]\n"
     ]
    },
    {
     "name": "stdout",
     "output_type": "stream",
     "text": [
      "Epoch 650\tTrain Loss: 28.914  Val Loss: 47.212\n",
      "\n"
     ]
    },
    {
     "name": "stderr",
     "output_type": "stream",
     "text": [
      "train loss: 27.788: 100%|██████████| 7/7 [00:00<00:00, 13.30it/s]\n",
      "val loss: 47.195: 100%|██████████| 2/2 [00:00<00:00, 48.93it/s]\n"
     ]
    },
    {
     "name": "stdout",
     "output_type": "stream",
     "text": [
      "Epoch 651\tTrain Loss: 28.887  Val Loss: 47.128\n",
      "\n"
     ]
    },
    {
     "name": "stderr",
     "output_type": "stream",
     "text": [
      "train loss: 28.174: 100%|██████████| 7/7 [00:00<00:00, 12.65it/s]\n",
      "val loss: 47.302: 100%|██████████| 2/2 [00:00<00:00, 68.49it/s]\n"
     ]
    },
    {
     "name": "stdout",
     "output_type": "stream",
     "text": [
      "Epoch 652\tTrain Loss: 28.941  Val Loss: 47.216\n",
      "\n"
     ]
    },
    {
     "name": "stderr",
     "output_type": "stream",
     "text": [
      "train loss: 29.563: 100%|██████████| 7/7 [00:00<00:00, 13.31it/s]\n",
      "val loss: 47.245: 100%|██████████| 2/2 [00:00<00:00, 51.92it/s]\n"
     ]
    },
    {
     "name": "stdout",
     "output_type": "stream",
     "text": [
      "Epoch 653\tTrain Loss: 28.973  Val Loss: 47.165\n",
      "\n"
     ]
    },
    {
     "name": "stderr",
     "output_type": "stream",
     "text": [
      "train loss: 27.979: 100%|██████████| 7/7 [00:00<00:00, 13.04it/s]\n",
      "val loss: 47.299: 100%|██████████| 2/2 [00:00<00:00, 68.74it/s]\n"
     ]
    },
    {
     "name": "stdout",
     "output_type": "stream",
     "text": [
      "Epoch 654\tTrain Loss: 28.721  Val Loss: 47.226\n",
      "\n"
     ]
    },
    {
     "name": "stderr",
     "output_type": "stream",
     "text": [
      "train loss: 30.435: 100%|██████████| 7/7 [00:00<00:00, 13.12it/s]\n",
      "val loss: 47.148: 100%|██████████| 2/2 [00:00<00:00, 67.42it/s]\n"
     ]
    },
    {
     "name": "stdout",
     "output_type": "stream",
     "text": [
      "Epoch 655\tTrain Loss: 28.978  Val Loss: 47.054\n",
      "\n"
     ]
    },
    {
     "name": "stderr",
     "output_type": "stream",
     "text": [
      "train loss: 28.054: 100%|██████████| 7/7 [00:00<00:00, 13.30it/s]\n",
      "val loss: 47.302: 100%|██████████| 2/2 [00:00<00:00, 58.57it/s]\n"
     ]
    },
    {
     "name": "stdout",
     "output_type": "stream",
     "text": [
      "Epoch 656\tTrain Loss: 28.624  Val Loss: 47.231\n",
      "\n"
     ]
    },
    {
     "name": "stderr",
     "output_type": "stream",
     "text": [
      "train loss: 28.360: 100%|██████████| 7/7 [00:00<00:00, 12.98it/s]\n",
      "val loss: 47.422: 100%|██████████| 2/2 [00:00<00:00, 69.24it/s]\n"
     ]
    },
    {
     "name": "stdout",
     "output_type": "stream",
     "text": [
      "Epoch 657\tTrain Loss: 28.602  Val Loss: 47.349\n",
      "\n"
     ]
    },
    {
     "name": "stderr",
     "output_type": "stream",
     "text": [
      "train loss: 26.634: 100%|██████████| 7/7 [00:00<00:00, 13.05it/s]\n",
      "val loss: 47.391: 100%|██████████| 2/2 [00:00<00:00, 68.38it/s]\n"
     ]
    },
    {
     "name": "stdout",
     "output_type": "stream",
     "text": [
      "Epoch 658\tTrain Loss: 28.348  Val Loss: 47.322\n",
      "\n"
     ]
    },
    {
     "name": "stderr",
     "output_type": "stream",
     "text": [
      "train loss: 28.805: 100%|██████████| 7/7 [00:00<00:00, 13.20it/s]\n",
      "val loss: 47.475: 100%|██████████| 2/2 [00:00<00:00, 69.38it/s]\n"
     ]
    },
    {
     "name": "stdout",
     "output_type": "stream",
     "text": [
      "Epoch 659\tTrain Loss: 28.557  Val Loss: 47.402\n",
      "\n"
     ]
    },
    {
     "name": "stderr",
     "output_type": "stream",
     "text": [
      "train loss: 26.489: 100%|██████████| 7/7 [00:00<00:00, 13.23it/s]\n",
      "val loss: 47.468: 100%|██████████| 2/2 [00:00<00:00, 68.87it/s]\n"
     ]
    },
    {
     "name": "stdout",
     "output_type": "stream",
     "text": [
      "Epoch 660\tTrain Loss: 28.302  Val Loss: 47.401\n",
      "\n"
     ]
    },
    {
     "name": "stderr",
     "output_type": "stream",
     "text": [
      "train loss: 26.811: 100%|██████████| 7/7 [00:00<00:00, 13.31it/s]\n",
      "val loss: 47.587: 100%|██████████| 2/2 [00:00<00:00, 61.41it/s]\n"
     ]
    },
    {
     "name": "stdout",
     "output_type": "stream",
     "text": [
      "Epoch 661\tTrain Loss: 28.309  Val Loss: 47.487\n",
      "\n"
     ]
    },
    {
     "name": "stderr",
     "output_type": "stream",
     "text": [
      "train loss: 27.428: 100%|██████████| 7/7 [00:00<00:00, 13.17it/s]\n",
      "val loss: 47.599: 100%|██████████| 2/2 [00:00<00:00, 57.85it/s]\n"
     ]
    },
    {
     "name": "stdout",
     "output_type": "stream",
     "text": [
      "Epoch 662\tTrain Loss: 28.360  Val Loss: 47.551\n",
      "\n"
     ]
    },
    {
     "name": "stderr",
     "output_type": "stream",
     "text": [
      "train loss: 27.634: 100%|██████████| 7/7 [00:00<00:00, 13.19it/s]\n",
      "val loss: 47.589: 100%|██████████| 2/2 [00:00<00:00, 51.52it/s]\n"
     ]
    },
    {
     "name": "stdout",
     "output_type": "stream",
     "text": [
      "Epoch 663\tTrain Loss: 28.381  Val Loss: 47.494\n",
      "\n"
     ]
    },
    {
     "name": "stderr",
     "output_type": "stream",
     "text": [
      "train loss: 28.829: 100%|██████████| 7/7 [00:00<00:00, 13.00it/s]\n",
      "val loss: 47.589: 100%|██████████| 2/2 [00:00<00:00, 67.64it/s]\n"
     ]
    },
    {
     "name": "stdout",
     "output_type": "stream",
     "text": [
      "Epoch 664\tTrain Loss: 28.465  Val Loss: 47.505\n",
      "\n"
     ]
    },
    {
     "name": "stderr",
     "output_type": "stream",
     "text": [
      "train loss: 28.364: 100%|██████████| 7/7 [00:00<00:00, 13.27it/s]\n",
      "val loss: 47.690: 100%|██████████| 2/2 [00:00<00:00, 58.26it/s]\n"
     ]
    },
    {
     "name": "stdout",
     "output_type": "stream",
     "text": [
      "Epoch 665\tTrain Loss: 28.401  Val Loss: 47.645\n",
      "\n"
     ]
    },
    {
     "name": "stderr",
     "output_type": "stream",
     "text": [
      "train loss: 29.831: 100%|██████████| 7/7 [00:00<00:00, 12.98it/s]\n",
      "val loss: 47.650: 100%|██████████| 2/2 [00:00<00:00, 68.70it/s]\n"
     ]
    },
    {
     "name": "stdout",
     "output_type": "stream",
     "text": [
      "Epoch 666\tTrain Loss: 28.509  Val Loss: 47.584\n",
      "\n"
     ]
    },
    {
     "name": "stderr",
     "output_type": "stream",
     "text": [
      "train loss: 27.994: 100%|██████████| 7/7 [00:00<00:00, 13.27it/s]\n",
      "val loss: 47.712: 100%|██████████| 2/2 [00:00<00:00, 56.86it/s]\n"
     ]
    },
    {
     "name": "stdout",
     "output_type": "stream",
     "text": [
      "Epoch 667\tTrain Loss: 28.296  Val Loss: 47.633\n",
      "\n"
     ]
    },
    {
     "name": "stderr",
     "output_type": "stream",
     "text": [
      "train loss: 28.231: 100%|██████████| 7/7 [00:00<00:00, 12.77it/s]\n",
      "val loss: 47.651: 100%|██████████| 2/2 [00:00<00:00, 67.75it/s]\n"
     ]
    },
    {
     "name": "stdout",
     "output_type": "stream",
     "text": [
      "Epoch 668\tTrain Loss: 28.292  Val Loss: 47.608\n",
      "\n"
     ]
    },
    {
     "name": "stderr",
     "output_type": "stream",
     "text": [
      "train loss: 29.288: 100%|██████████| 7/7 [00:00<00:00, 13.18it/s]\n",
      "val loss: 47.802: 100%|██████████| 2/2 [00:00<00:00, 69.29it/s]\n"
     ]
    },
    {
     "name": "stdout",
     "output_type": "stream",
     "text": [
      "Epoch 669\tTrain Loss: 28.372  Val Loss: 47.721\n",
      "\n"
     ]
    },
    {
     "name": "stderr",
     "output_type": "stream",
     "text": [
      "train loss: 28.393: 100%|██████████| 7/7 [00:00<00:00, 13.06it/s]\n",
      "val loss: 47.714: 100%|██████████| 2/2 [00:00<00:00, 69.07it/s]\n"
     ]
    },
    {
     "name": "stdout",
     "output_type": "stream",
     "text": [
      "Epoch 670\tTrain Loss: 28.259  Val Loss: 47.678\n",
      "\n"
     ]
    },
    {
     "name": "stderr",
     "output_type": "stream",
     "text": [
      "train loss: 29.042: 100%|██████████| 7/7 [00:00<00:00, 13.26it/s]\n",
      "val loss: 47.849: 100%|██████████| 2/2 [00:00<00:00, 52.57it/s]\n"
     ]
    },
    {
     "name": "stdout",
     "output_type": "stream",
     "text": [
      "Epoch 671\tTrain Loss: 28.384  Val Loss: 47.753\n",
      "\n"
     ]
    },
    {
     "name": "stderr",
     "output_type": "stream",
     "text": [
      "train loss: 28.295: 100%|██████████| 7/7 [00:00<00:00, 12.95it/s]\n",
      "val loss: 47.747: 100%|██████████| 2/2 [00:00<00:00, 69.63it/s]\n"
     ]
    },
    {
     "name": "stdout",
     "output_type": "stream",
     "text": [
      "Epoch 672\tTrain Loss: 28.248  Val Loss: 47.691\n",
      "\n"
     ]
    },
    {
     "name": "stderr",
     "output_type": "stream",
     "text": [
      "train loss: 29.191: 100%|██████████| 7/7 [00:00<00:00, 13.13it/s]\n",
      "val loss: 47.849: 100%|██████████| 2/2 [00:00<00:00, 68.73it/s]\n"
     ]
    },
    {
     "name": "stdout",
     "output_type": "stream",
     "text": [
      "Epoch 673\tTrain Loss: 28.316  Val Loss: 47.821\n",
      "\n"
     ]
    },
    {
     "name": "stderr",
     "output_type": "stream",
     "text": [
      "train loss: 26.700: 100%|██████████| 7/7 [00:00<00:00, 13.31it/s]\n",
      "val loss: 47.881: 100%|██████████| 2/2 [00:00<00:00, 61.29it/s]\n"
     ]
    },
    {
     "name": "stdout",
     "output_type": "stream",
     "text": [
      "Epoch 674\tTrain Loss: 28.004  Val Loss: 47.822\n",
      "\n"
     ]
    },
    {
     "name": "stderr",
     "output_type": "stream",
     "text": [
      "train loss: 30.294: 100%|██████████| 7/7 [00:00<00:00, 12.92it/s]\n",
      "val loss: 47.804: 100%|██████████| 2/2 [00:00<00:00, 68.82it/s]\n"
     ]
    },
    {
     "name": "stdout",
     "output_type": "stream",
     "text": [
      "Epoch 675\tTrain Loss: 28.373  Val Loss: 47.752\n",
      "\n"
     ]
    },
    {
     "name": "stderr",
     "output_type": "stream",
     "text": [
      "train loss: 28.518: 100%|██████████| 7/7 [00:00<00:00, 13.26it/s]\n",
      "val loss: 47.788: 100%|██████████| 2/2 [00:00<00:00, 54.49it/s]\n"
     ]
    },
    {
     "name": "stdout",
     "output_type": "stream",
     "text": [
      "Epoch 676\tTrain Loss: 28.161  Val Loss: 47.772\n",
      "\n"
     ]
    },
    {
     "name": "stderr",
     "output_type": "stream",
     "text": [
      "train loss: 28.052: 100%|██████████| 7/7 [00:00<00:00, 13.03it/s]\n",
      "val loss: 47.908: 100%|██████████| 2/2 [00:00<00:00, 69.12it/s]\n"
     ]
    },
    {
     "name": "stdout",
     "output_type": "stream",
     "text": [
      "Epoch 677\tTrain Loss: 28.086  Val Loss: 47.861\n",
      "\n"
     ]
    },
    {
     "name": "stderr",
     "output_type": "stream",
     "text": [
      "train loss: 29.534: 100%|██████████| 7/7 [00:00<00:00, 13.24it/s]\n",
      "val loss: 47.918: 100%|██████████| 2/2 [00:00<00:00, 57.15it/s]\n"
     ]
    },
    {
     "name": "stdout",
     "output_type": "stream",
     "text": [
      "Epoch 678\tTrain Loss: 28.200  Val Loss: 47.855\n",
      "\n"
     ]
    },
    {
     "name": "stderr",
     "output_type": "stream",
     "text": [
      "train loss: 26.190: 100%|██████████| 7/7 [00:00<00:00, 13.07it/s]\n",
      "val loss: 47.954: 100%|██████████| 2/2 [00:00<00:00, 69.02it/s]\n"
     ]
    },
    {
     "name": "stdout",
     "output_type": "stream",
     "text": [
      "Epoch 679\tTrain Loss: 27.830  Val Loss: 47.916\n",
      "\n"
     ]
    },
    {
     "name": "stderr",
     "output_type": "stream",
     "text": [
      "train loss: 29.989: 100%|██████████| 7/7 [00:00<00:00, 13.02it/s]\n",
      "val loss: 48.011: 100%|██████████| 2/2 [00:00<00:00, 68.64it/s]\n"
     ]
    },
    {
     "name": "stdout",
     "output_type": "stream",
     "text": [
      "Epoch 680\tTrain Loss: 28.224  Val Loss: 47.911\n",
      "\n"
     ]
    },
    {
     "name": "stderr",
     "output_type": "stream",
     "text": [
      "train loss: 30.817: 100%|██████████| 7/7 [00:00<00:00, 13.08it/s]\n",
      "val loss: 48.002: 100%|██████████| 2/2 [00:00<00:00, 67.66it/s]\n"
     ]
    },
    {
     "name": "stdout",
     "output_type": "stream",
     "text": [
      "Epoch 681\tTrain Loss: 28.311  Val Loss: 47.952\n",
      "\n"
     ]
    },
    {
     "name": "stderr",
     "output_type": "stream",
     "text": [
      "train loss: 27.263: 100%|██████████| 7/7 [00:00<00:00, 13.29it/s]\n",
      "val loss: 48.007: 100%|██████████| 2/2 [00:00<00:00, 55.08it/s]\n"
     ]
    },
    {
     "name": "stdout",
     "output_type": "stream",
     "text": [
      "Epoch 682\tTrain Loss: 27.894  Val Loss: 47.937\n",
      "\n"
     ]
    },
    {
     "name": "stderr",
     "output_type": "stream",
     "text": [
      "train loss: 27.033: 100%|██████████| 7/7 [00:00<00:00, 13.27it/s]\n",
      "val loss: 48.007: 100%|██████████| 2/2 [00:00<00:00, 58.77it/s]\n"
     ]
    },
    {
     "name": "stdout",
     "output_type": "stream",
     "text": [
      "Epoch 683\tTrain Loss: 27.846  Val Loss: 47.964\n",
      "\n"
     ]
    },
    {
     "name": "stderr",
     "output_type": "stream",
     "text": [
      "train loss: 28.097: 100%|██████████| 7/7 [00:00<00:00, 13.05it/s]\n",
      "val loss: 48.038: 100%|██████████| 2/2 [00:00<00:00, 68.08it/s]\n"
     ]
    },
    {
     "name": "stdout",
     "output_type": "stream",
     "text": [
      "Epoch 684\tTrain Loss: 27.992  Val Loss: 48.008\n",
      "\n"
     ]
    },
    {
     "name": "stderr",
     "output_type": "stream",
     "text": [
      "train loss: 25.479: 100%|██████████| 7/7 [00:00<00:00, 13.30it/s]\n",
      "val loss: 48.087: 100%|██████████| 2/2 [00:00<00:00, 47.34it/s]\n"
     ]
    },
    {
     "name": "stdout",
     "output_type": "stream",
     "text": [
      "Epoch 685\tTrain Loss: 27.661  Val Loss: 48.003\n",
      "\n"
     ]
    },
    {
     "name": "stderr",
     "output_type": "stream",
     "text": [
      "train loss: 29.122: 100%|██████████| 7/7 [00:00<00:00, 12.58it/s]\n",
      "val loss: 48.130: 100%|██████████| 2/2 [00:00<00:00, 69.56it/s]\n"
     ]
    },
    {
     "name": "stdout",
     "output_type": "stream",
     "text": [
      "Epoch 686\tTrain Loss: 28.011  Val Loss: 48.048\n",
      "\n"
     ]
    },
    {
     "name": "stderr",
     "output_type": "stream",
     "text": [
      "train loss: 29.798: 100%|██████████| 7/7 [00:00<00:00, 13.29it/s]\n",
      "val loss: 48.074: 100%|██████████| 2/2 [00:00<00:00, 47.28it/s]\n"
     ]
    },
    {
     "name": "stdout",
     "output_type": "stream",
     "text": [
      "Epoch 687\tTrain Loss: 28.067  Val Loss: 48.021\n",
      "\n"
     ]
    },
    {
     "name": "stderr",
     "output_type": "stream",
     "text": [
      "train loss: 26.519: 100%|██████████| 7/7 [00:00<00:00, 12.50it/s]\n",
      "val loss: 48.015: 100%|██████████| 2/2 [00:00<00:00, 68.50it/s]\n"
     ]
    },
    {
     "name": "stdout",
     "output_type": "stream",
     "text": [
      "Epoch 688\tTrain Loss: 27.671  Val Loss: 47.986\n",
      "\n"
     ]
    },
    {
     "name": "stderr",
     "output_type": "stream",
     "text": [
      "train loss: 26.825: 100%|██████████| 7/7 [00:00<00:00, 13.15it/s]\n",
      "val loss: 48.143: 100%|██████████| 2/2 [00:00<00:00, 68.95it/s]\n"
     ]
    },
    {
     "name": "stdout",
     "output_type": "stream",
     "text": [
      "Epoch 689\tTrain Loss: 27.697  Val Loss: 48.106\n",
      "\n"
     ]
    },
    {
     "name": "stderr",
     "output_type": "stream",
     "text": [
      "train loss: 27.107: 100%|██████████| 7/7 [00:00<00:00, 13.19it/s]\n",
      "val loss: 48.129: 100%|██████████| 2/2 [00:00<00:00, 57.60it/s]\n"
     ]
    },
    {
     "name": "stdout",
     "output_type": "stream",
     "text": [
      "Epoch 690\tTrain Loss: 27.673  Val Loss: 48.117\n",
      "\n"
     ]
    },
    {
     "name": "stderr",
     "output_type": "stream",
     "text": [
      "train loss: 26.555: 100%|██████████| 7/7 [00:00<00:00, 12.89it/s]\n",
      "val loss: 48.148: 100%|██████████| 2/2 [00:00<00:00, 67.67it/s]\n"
     ]
    },
    {
     "name": "stdout",
     "output_type": "stream",
     "text": [
      "Epoch 691\tTrain Loss: 27.633  Val Loss: 48.105\n",
      "\n"
     ]
    },
    {
     "name": "stderr",
     "output_type": "stream",
     "text": [
      "train loss: 27.284: 100%|██████████| 7/7 [00:00<00:00, 13.16it/s]\n",
      "val loss: 48.198: 100%|██████████| 2/2 [00:00<00:00, 67.77it/s]\n"
     ]
    },
    {
     "name": "stdout",
     "output_type": "stream",
     "text": [
      "Epoch 692\tTrain Loss: 27.684  Val Loss: 48.130\n",
      "\n"
     ]
    },
    {
     "name": "stderr",
     "output_type": "stream",
     "text": [
      "train loss: 27.338: 100%|██████████| 7/7 [00:00<00:00, 13.29it/s]\n",
      "val loss: 48.261: 100%|██████████| 2/2 [00:00<00:00, 67.96it/s]\n"
     ]
    },
    {
     "name": "stdout",
     "output_type": "stream",
     "text": [
      "Epoch 693\tTrain Loss: 27.664  Val Loss: 48.183\n",
      "\n"
     ]
    },
    {
     "name": "stderr",
     "output_type": "stream",
     "text": [
      "train loss: 29.387: 100%|██████████| 7/7 [00:00<00:00, 13.02it/s]\n",
      "val loss: 48.274: 100%|██████████| 2/2 [00:00<00:00, 67.59it/s]\n"
     ]
    },
    {
     "name": "stdout",
     "output_type": "stream",
     "text": [
      "Epoch 694\tTrain Loss: 27.846  Val Loss: 48.193\n",
      "\n"
     ]
    },
    {
     "name": "stderr",
     "output_type": "stream",
     "text": [
      "train loss: 29.235: 100%|██████████| 7/7 [00:00<00:00, 13.05it/s]\n",
      "val loss: 48.246: 100%|██████████| 2/2 [00:00<00:00, 69.50it/s]\n"
     ]
    },
    {
     "name": "stdout",
     "output_type": "stream",
     "text": [
      "Epoch 695\tTrain Loss: 27.821  Val Loss: 48.236\n",
      "\n"
     ]
    },
    {
     "name": "stderr",
     "output_type": "stream",
     "text": [
      "train loss: 28.192: 100%|██████████| 7/7 [00:00<00:00, 13.28it/s]\n",
      "val loss: 48.266: 100%|██████████| 2/2 [00:00<00:00, 60.62it/s]\n"
     ]
    },
    {
     "name": "stdout",
     "output_type": "stream",
     "text": [
      "Epoch 696\tTrain Loss: 27.707  Val Loss: 48.207\n",
      "\n"
     ]
    },
    {
     "name": "stderr",
     "output_type": "stream",
     "text": [
      "train loss: 29.386: 100%|██████████| 7/7 [00:00<00:00, 13.31it/s]\n",
      "val loss: 48.298: 100%|██████████| 2/2 [00:00<00:00, 48.59it/s]\n"
     ]
    },
    {
     "name": "stdout",
     "output_type": "stream",
     "text": [
      "Epoch 697\tTrain Loss: 27.834  Val Loss: 48.252\n",
      "\n"
     ]
    },
    {
     "name": "stderr",
     "output_type": "stream",
     "text": [
      "train loss: 26.995: 100%|██████████| 7/7 [00:00<00:00, 13.18it/s]\n",
      "val loss: 48.357: 100%|██████████| 2/2 [00:00<00:00, 57.12it/s]\n"
     ]
    },
    {
     "name": "stdout",
     "output_type": "stream",
     "text": [
      "Epoch 698\tTrain Loss: 27.529  Val Loss: 48.254\n",
      "\n"
     ]
    },
    {
     "name": "stderr",
     "output_type": "stream",
     "text": [
      "train loss: 28.130: 100%|██████████| 7/7 [00:00<00:00, 13.01it/s]\n",
      "val loss: 48.450: 100%|██████████| 2/2 [00:00<00:00, 68.09it/s]\n"
     ]
    },
    {
     "name": "stdout",
     "output_type": "stream",
     "text": [
      "Epoch 699\tTrain Loss: 27.681  Val Loss: 48.435\n",
      "\n"
     ]
    },
    {
     "name": "stderr",
     "output_type": "stream",
     "text": [
      "train loss: 26.663: 100%|██████████| 7/7 [00:00<00:00, 12.66it/s]\n",
      "val loss: 48.364: 100%|██████████| 2/2 [00:00<00:00, 68.93it/s]\n"
     ]
    },
    {
     "name": "stdout",
     "output_type": "stream",
     "text": [
      "Epoch 700\tTrain Loss: 27.525  Val Loss: 48.334\n",
      "\n"
     ]
    },
    {
     "name": "stderr",
     "output_type": "stream",
     "text": [
      "train loss: 29.237: 100%|██████████| 7/7 [00:00<00:00, 13.22it/s]\n",
      "val loss: 48.417: 100%|██████████| 2/2 [00:00<00:00, 45.62it/s]\n"
     ]
    },
    {
     "name": "stdout",
     "output_type": "stream",
     "text": [
      "Epoch 701\tTrain Loss: 27.786  Val Loss: 48.377\n",
      "\n"
     ]
    },
    {
     "name": "stderr",
     "output_type": "stream",
     "text": [
      "train loss: 27.176: 100%|██████████| 7/7 [00:00<00:00, 12.77it/s]\n",
      "val loss: 48.332: 100%|██████████| 2/2 [00:00<00:00, 67.28it/s]\n"
     ]
    },
    {
     "name": "stdout",
     "output_type": "stream",
     "text": [
      "Epoch 702\tTrain Loss: 27.547  Val Loss: 48.261\n",
      "\n"
     ]
    },
    {
     "name": "stderr",
     "output_type": "stream",
     "text": [
      "train loss: 27.068: 100%|██████████| 7/7 [00:00<00:00, 13.04it/s]\n",
      "val loss: 48.480: 100%|██████████| 2/2 [00:00<00:00, 69.08it/s]\n"
     ]
    },
    {
     "name": "stdout",
     "output_type": "stream",
     "text": [
      "Epoch 703\tTrain Loss: 27.571  Val Loss: 48.434\n",
      "\n"
     ]
    },
    {
     "name": "stderr",
     "output_type": "stream",
     "text": [
      "train loss: 26.166: 100%|██████████| 7/7 [00:00<00:00, 13.34it/s]\n",
      "val loss: 48.429: 100%|██████████| 2/2 [00:00<00:00, 69.85it/s]\n"
     ]
    },
    {
     "name": "stdout",
     "output_type": "stream",
     "text": [
      "Epoch 704\tTrain Loss: 27.514  Val Loss: 48.395\n",
      "\n"
     ]
    },
    {
     "name": "stderr",
     "output_type": "stream",
     "text": [
      "train loss: 27.788: 100%|██████████| 7/7 [00:00<00:00, 13.05it/s]\n",
      "val loss: 48.343: 100%|██████████| 2/2 [00:00<00:00, 67.41it/s]\n"
     ]
    },
    {
     "name": "stdout",
     "output_type": "stream",
     "text": [
      "Epoch 705\tTrain Loss: 27.654  Val Loss: 48.324\n",
      "\n"
     ]
    },
    {
     "name": "stderr",
     "output_type": "stream",
     "text": [
      "train loss: 28.056: 100%|██████████| 7/7 [00:00<00:00, 13.05it/s]\n",
      "val loss: 48.821: 100%|██████████| 2/2 [00:00<00:00, 67.83it/s]\n"
     ]
    },
    {
     "name": "stdout",
     "output_type": "stream",
     "text": [
      "Epoch 706\tTrain Loss: 27.714  Val Loss: 48.759\n",
      "\n"
     ]
    },
    {
     "name": "stderr",
     "output_type": "stream",
     "text": [
      "train loss: 28.640: 100%|██████████| 7/7 [00:00<00:00, 13.17it/s]\n",
      "val loss: 48.289: 100%|██████████| 2/2 [00:00<00:00, 68.06it/s]\n"
     ]
    },
    {
     "name": "stdout",
     "output_type": "stream",
     "text": [
      "Epoch 707\tTrain Loss: 27.723  Val Loss: 48.236\n",
      "\n"
     ]
    },
    {
     "name": "stderr",
     "output_type": "stream",
     "text": [
      "train loss: 28.111: 100%|██████████| 7/7 [00:00<00:00, 13.26it/s]\n",
      "val loss: 48.415: 100%|██████████| 2/2 [00:00<00:00, 57.93it/s]\n"
     ]
    },
    {
     "name": "stdout",
     "output_type": "stream",
     "text": [
      "Epoch 708\tTrain Loss: 27.619  Val Loss: 48.357\n",
      "\n"
     ]
    },
    {
     "name": "stderr",
     "output_type": "stream",
     "text": [
      "train loss: 27.106: 100%|██████████| 7/7 [00:00<00:00, 12.94it/s]\n",
      "val loss: 48.398: 100%|██████████| 2/2 [00:00<00:00, 69.00it/s]\n"
     ]
    },
    {
     "name": "stdout",
     "output_type": "stream",
     "text": [
      "Epoch 709\tTrain Loss: 27.397  Val Loss: 48.378\n",
      "\n"
     ]
    },
    {
     "name": "stderr",
     "output_type": "stream",
     "text": [
      "train loss: 27.451: 100%|██████████| 7/7 [00:00<00:00, 13.26it/s]\n",
      "val loss: 48.420: 100%|██████████| 2/2 [00:00<00:00, 55.89it/s]\n"
     ]
    },
    {
     "name": "stdout",
     "output_type": "stream",
     "text": [
      "Epoch 710\tTrain Loss: 27.375  Val Loss: 48.369\n",
      "\n"
     ]
    },
    {
     "name": "stderr",
     "output_type": "stream",
     "text": [
      "train loss: 27.596: 100%|██████████| 7/7 [00:00<00:00, 12.79it/s]\n",
      "val loss: 48.387: 100%|██████████| 2/2 [00:00<00:00, 49.83it/s]\n"
     ]
    },
    {
     "name": "stdout",
     "output_type": "stream",
     "text": [
      "Epoch 711\tTrain Loss: 27.351  Val Loss: 48.360\n",
      "\n"
     ]
    },
    {
     "name": "stderr",
     "output_type": "stream",
     "text": [
      "train loss: 25.712: 100%|██████████| 7/7 [00:00<00:00, 12.52it/s]\n",
      "val loss: 48.548: 100%|██████████| 2/2 [00:00<00:00, 67.58it/s]\n"
     ]
    },
    {
     "name": "stdout",
     "output_type": "stream",
     "text": [
      "Epoch 712\tTrain Loss: 27.107  Val Loss: 48.505\n",
      "\n"
     ]
    },
    {
     "name": "stderr",
     "output_type": "stream",
     "text": [
      "train loss: 27.971: 100%|██████████| 7/7 [00:00<00:00, 13.03it/s]\n",
      "val loss: 48.554: 100%|██████████| 2/2 [00:00<00:00, 68.64it/s]\n"
     ]
    },
    {
     "name": "stdout",
     "output_type": "stream",
     "text": [
      "Epoch 713\tTrain Loss: 27.300  Val Loss: 48.528\n",
      "\n"
     ]
    },
    {
     "name": "stderr",
     "output_type": "stream",
     "text": [
      "train loss: 27.735: 100%|██████████| 7/7 [00:00<00:00, 13.30it/s]\n",
      "val loss: 48.624: 100%|██████████| 2/2 [00:00<00:00, 55.75it/s]\n"
     ]
    },
    {
     "name": "stdout",
     "output_type": "stream",
     "text": [
      "Epoch 714\tTrain Loss: 27.238  Val Loss: 48.596\n",
      "\n"
     ]
    },
    {
     "name": "stderr",
     "output_type": "stream",
     "text": [
      "train loss: 27.328: 100%|██████████| 7/7 [00:00<00:00, 12.96it/s]\n",
      "val loss: 48.575: 100%|██████████| 2/2 [00:00<00:00, 64.19it/s]\n"
     ]
    },
    {
     "name": "stdout",
     "output_type": "stream",
     "text": [
      "Epoch 715\tTrain Loss: 27.179  Val Loss: 48.542\n",
      "\n"
     ]
    },
    {
     "name": "stderr",
     "output_type": "stream",
     "text": [
      "train loss: 28.619: 100%|██████████| 7/7 [00:00<00:00, 13.13it/s]\n",
      "val loss: 48.809: 100%|██████████| 2/2 [00:00<00:00, 60.34it/s]\n"
     ]
    },
    {
     "name": "stdout",
     "output_type": "stream",
     "text": [
      "Epoch 716\tTrain Loss: 27.283  Val Loss: 48.739\n",
      "\n"
     ]
    },
    {
     "name": "stderr",
     "output_type": "stream",
     "text": [
      "train loss: 25.216: 100%|██████████| 7/7 [00:00<00:00, 12.94it/s]\n",
      "val loss: 48.786: 100%|██████████| 2/2 [00:00<00:00, 68.17it/s]\n"
     ]
    },
    {
     "name": "stdout",
     "output_type": "stream",
     "text": [
      "Epoch 717\tTrain Loss: 26.923  Val Loss: 48.745\n",
      "\n"
     ]
    },
    {
     "name": "stderr",
     "output_type": "stream",
     "text": [
      "train loss: 28.704: 100%|██████████| 7/7 [00:00<00:00, 13.01it/s]\n",
      "val loss: 48.696: 100%|██████████| 2/2 [00:00<00:00, 68.68it/s]\n"
     ]
    },
    {
     "name": "stdout",
     "output_type": "stream",
     "text": [
      "Epoch 718\tTrain Loss: 27.266  Val Loss: 48.662\n",
      "\n"
     ]
    },
    {
     "name": "stderr",
     "output_type": "stream",
     "text": [
      "train loss: 27.449: 100%|██████████| 7/7 [00:00<00:00, 13.18it/s]\n",
      "val loss: 48.714: 100%|██████████| 2/2 [00:00<00:00, 52.14it/s]\n"
     ]
    },
    {
     "name": "stdout",
     "output_type": "stream",
     "text": [
      "Epoch 719\tTrain Loss: 27.152  Val Loss: 48.703\n",
      "\n"
     ]
    },
    {
     "name": "stderr",
     "output_type": "stream",
     "text": [
      "train loss: 27.183: 100%|██████████| 7/7 [00:00<00:00, 12.89it/s]\n",
      "val loss: 48.794: 100%|██████████| 2/2 [00:00<00:00, 53.78it/s]\n"
     ]
    },
    {
     "name": "stdout",
     "output_type": "stream",
     "text": [
      "Epoch 720\tTrain Loss: 27.091  Val Loss: 48.727\n",
      "\n"
     ]
    },
    {
     "name": "stderr",
     "output_type": "stream",
     "text": [
      "train loss: 26.919: 100%|██████████| 7/7 [00:00<00:00, 12.53it/s]\n",
      "val loss: 48.839: 100%|██████████| 2/2 [00:00<00:00, 66.60it/s]\n"
     ]
    },
    {
     "name": "stdout",
     "output_type": "stream",
     "text": [
      "Epoch 721\tTrain Loss: 27.051  Val Loss: 48.808\n",
      "\n"
     ]
    },
    {
     "name": "stderr",
     "output_type": "stream",
     "text": [
      "train loss: 27.774: 100%|██████████| 7/7 [00:00<00:00, 12.97it/s]\n",
      "val loss: 48.723: 100%|██████████| 2/2 [00:00<00:00, 48.51it/s]\n"
     ]
    },
    {
     "name": "stdout",
     "output_type": "stream",
     "text": [
      "Epoch 722\tTrain Loss: 27.092  Val Loss: 48.699\n",
      "\n"
     ]
    },
    {
     "name": "stderr",
     "output_type": "stream",
     "text": [
      "train loss: 26.186: 100%|██████████| 7/7 [00:00<00:00, 12.62it/s]\n",
      "val loss: 48.804: 100%|██████████| 2/2 [00:00<00:00, 66.44it/s]\n"
     ]
    },
    {
     "name": "stdout",
     "output_type": "stream",
     "text": [
      "Epoch 723\tTrain Loss: 26.938  Val Loss: 48.794\n",
      "\n"
     ]
    },
    {
     "name": "stderr",
     "output_type": "stream",
     "text": [
      "train loss: 28.055: 100%|██████████| 7/7 [00:00<00:00, 12.58it/s]\n",
      "val loss: 48.839: 100%|██████████| 2/2 [00:00<00:00, 52.11it/s]\n"
     ]
    },
    {
     "name": "stdout",
     "output_type": "stream",
     "text": [
      "Epoch 724\tTrain Loss: 27.102  Val Loss: 48.800\n",
      "\n"
     ]
    },
    {
     "name": "stderr",
     "output_type": "stream",
     "text": [
      "train loss: 25.201: 100%|██████████| 7/7 [00:00<00:00, 12.13it/s]\n",
      "val loss: 48.979: 100%|██████████| 2/2 [00:00<00:00, 67.43it/s]\n"
     ]
    },
    {
     "name": "stdout",
     "output_type": "stream",
     "text": [
      "Epoch 725\tTrain Loss: 26.725  Val Loss: 48.904\n",
      "\n"
     ]
    },
    {
     "name": "stderr",
     "output_type": "stream",
     "text": [
      "train loss: 26.475: 100%|██████████| 7/7 [00:00<00:00, 12.51it/s]\n",
      "val loss: 48.963: 100%|██████████| 2/2 [00:00<00:00, 66.62it/s]\n"
     ]
    },
    {
     "name": "stdout",
     "output_type": "stream",
     "text": [
      "Epoch 726\tTrain Loss: 26.910  Val Loss: 48.956\n",
      "\n"
     ]
    },
    {
     "name": "stderr",
     "output_type": "stream",
     "text": [
      "train loss: 27.648: 100%|██████████| 7/7 [00:00<00:00, 12.30it/s]\n",
      "val loss: 48.982: 100%|██████████| 2/2 [00:00<00:00, 44.59it/s]\n"
     ]
    },
    {
     "name": "stdout",
     "output_type": "stream",
     "text": [
      "Epoch 727\tTrain Loss: 27.033  Val Loss: 48.942\n",
      "\n"
     ]
    },
    {
     "name": "stderr",
     "output_type": "stream",
     "text": [
      "train loss: 28.107: 100%|██████████| 7/7 [00:00<00:00, 12.13it/s]\n",
      "val loss: 48.870: 100%|██████████| 2/2 [00:00<00:00, 63.59it/s]\n"
     ]
    },
    {
     "name": "stdout",
     "output_type": "stream",
     "text": [
      "Epoch 728\tTrain Loss: 27.075  Val Loss: 48.851\n",
      "\n"
     ]
    },
    {
     "name": "stderr",
     "output_type": "stream",
     "text": [
      "train loss: 26.747: 100%|██████████| 7/7 [00:00<00:00, 12.18it/s]\n",
      "val loss: 49.022: 100%|██████████| 2/2 [00:00<00:00, 65.32it/s]\n"
     ]
    },
    {
     "name": "stdout",
     "output_type": "stream",
     "text": [
      "Epoch 729\tTrain Loss: 26.878  Val Loss: 48.982\n",
      "\n"
     ]
    },
    {
     "name": "stderr",
     "output_type": "stream",
     "text": [
      "train loss: 26.690: 100%|██████████| 7/7 [00:00<00:00, 12.76it/s]\n",
      "val loss: 48.889: 100%|██████████| 2/2 [00:00<00:00, 69.50it/s]\n"
     ]
    },
    {
     "name": "stdout",
     "output_type": "stream",
     "text": [
      "Epoch 730\tTrain Loss: 26.913  Val Loss: 48.894\n",
      "\n"
     ]
    },
    {
     "name": "stderr",
     "output_type": "stream",
     "text": [
      "train loss: 28.047: 100%|██████████| 7/7 [00:00<00:00, 13.03it/s]\n",
      "val loss: 49.059: 100%|██████████| 2/2 [00:00<00:00, 60.31it/s]\n"
     ]
    },
    {
     "name": "stdout",
     "output_type": "stream",
     "text": [
      "Epoch 731\tTrain Loss: 27.031  Val Loss: 49.073\n",
      "\n"
     ]
    },
    {
     "name": "stderr",
     "output_type": "stream",
     "text": [
      "train loss: 25.846: 100%|██████████| 7/7 [00:00<00:00, 13.19it/s]\n",
      "val loss: 49.059: 100%|██████████| 2/2 [00:00<00:00, 68.94it/s]\n"
     ]
    },
    {
     "name": "stdout",
     "output_type": "stream",
     "text": [
      "Epoch 732\tTrain Loss: 26.804  Val Loss: 49.038\n",
      "\n"
     ]
    },
    {
     "name": "stderr",
     "output_type": "stream",
     "text": [
      "train loss: 26.127: 100%|██████████| 7/7 [00:00<00:00, 13.01it/s]\n",
      "val loss: 49.000: 100%|██████████| 2/2 [00:00<00:00, 68.11it/s]\n"
     ]
    },
    {
     "name": "stdout",
     "output_type": "stream",
     "text": [
      "Epoch 733\tTrain Loss: 26.861  Val Loss: 48.936\n",
      "\n"
     ]
    },
    {
     "name": "stderr",
     "output_type": "stream",
     "text": [
      "train loss: 27.500: 100%|██████████| 7/7 [00:00<00:00, 12.79it/s]\n",
      "val loss: 49.103: 100%|██████████| 2/2 [00:00<00:00, 52.64it/s]\n"
     ]
    },
    {
     "name": "stdout",
     "output_type": "stream",
     "text": [
      "Epoch 734\tTrain Loss: 27.016  Val Loss: 49.030\n",
      "\n"
     ]
    },
    {
     "name": "stderr",
     "output_type": "stream",
     "text": [
      "train loss: 27.134: 100%|██████████| 7/7 [00:00<00:00, 12.03it/s]\n",
      "val loss: 49.047: 100%|██████████| 2/2 [00:00<00:00, 57.71it/s]\n"
     ]
    },
    {
     "name": "stdout",
     "output_type": "stream",
     "text": [
      "Epoch 735\tTrain Loss: 26.897  Val Loss: 48.994\n",
      "\n"
     ]
    },
    {
     "name": "stderr",
     "output_type": "stream",
     "text": [
      "train loss: 25.002: 100%|██████████| 7/7 [00:00<00:00, 11.90it/s]\n",
      "val loss: 48.969: 100%|██████████| 2/2 [00:00<00:00, 42.34it/s]\n"
     ]
    },
    {
     "name": "stdout",
     "output_type": "stream",
     "text": [
      "Epoch 736\tTrain Loss: 26.595  Val Loss: 48.894\n",
      "\n"
     ]
    },
    {
     "name": "stderr",
     "output_type": "stream",
     "text": [
      "train loss: 28.429: 100%|██████████| 7/7 [00:00<00:00, 11.73it/s]\n",
      "val loss: 49.079: 100%|██████████| 2/2 [00:00<00:00, 49.52it/s]\n"
     ]
    },
    {
     "name": "stdout",
     "output_type": "stream",
     "text": [
      "Epoch 737\tTrain Loss: 26.970  Val Loss: 49.033\n",
      "\n"
     ]
    },
    {
     "name": "stderr",
     "output_type": "stream",
     "text": [
      "train loss: 29.451: 100%|██████████| 7/7 [00:00<00:00, 11.40it/s]\n",
      "val loss: 49.178: 100%|██████████| 2/2 [00:00<00:00, 59.64it/s]\n"
     ]
    },
    {
     "name": "stdout",
     "output_type": "stream",
     "text": [
      "Epoch 738\tTrain Loss: 27.074  Val Loss: 49.217\n",
      "\n"
     ]
    },
    {
     "name": "stderr",
     "output_type": "stream",
     "text": [
      "train loss: 27.018: 100%|██████████| 7/7 [00:00<00:00, 11.94it/s]\n",
      "val loss: 48.997: 100%|██████████| 2/2 [00:00<00:00, 41.20it/s]\n"
     ]
    },
    {
     "name": "stdout",
     "output_type": "stream",
     "text": [
      "Epoch 739\tTrain Loss: 26.820  Val Loss: 48.950\n",
      "\n"
     ]
    },
    {
     "name": "stderr",
     "output_type": "stream",
     "text": [
      "train loss: 27.320: 100%|██████████| 7/7 [00:00<00:00, 11.74it/s]\n",
      "val loss: 49.068: 100%|██████████| 2/2 [00:00<00:00, 54.96it/s]\n"
     ]
    },
    {
     "name": "stdout",
     "output_type": "stream",
     "text": [
      "Epoch 740\tTrain Loss: 26.729  Val Loss: 49.020\n",
      "\n"
     ]
    },
    {
     "name": "stderr",
     "output_type": "stream",
     "text": [
      "train loss: 26.597: 100%|██████████| 7/7 [00:00<00:00, 12.66it/s]\n",
      "val loss: 49.172: 100%|██████████| 2/2 [00:00<00:00, 38.00it/s]\n"
     ]
    },
    {
     "name": "stdout",
     "output_type": "stream",
     "text": [
      "Epoch 741\tTrain Loss: 26.703  Val Loss: 49.192\n",
      "\n"
     ]
    },
    {
     "name": "stderr",
     "output_type": "stream",
     "text": [
      "train loss: 28.297: 100%|██████████| 7/7 [00:00<00:00, 12.28it/s]\n",
      "val loss: 49.198: 100%|██████████| 2/2 [00:00<00:00, 65.45it/s]\n"
     ]
    },
    {
     "name": "stdout",
     "output_type": "stream",
     "text": [
      "Epoch 742\tTrain Loss: 26.810  Val Loss: 49.160\n",
      "\n"
     ]
    },
    {
     "name": "stderr",
     "output_type": "stream",
     "text": [
      "train loss: 26.315: 100%|██████████| 7/7 [00:00<00:00, 12.99it/s]\n",
      "val loss: 49.162: 100%|██████████| 2/2 [00:00<00:00, 66.11it/s]\n"
     ]
    },
    {
     "name": "stdout",
     "output_type": "stream",
     "text": [
      "Epoch 743\tTrain Loss: 26.578  Val Loss: 49.143\n",
      "\n"
     ]
    },
    {
     "name": "stderr",
     "output_type": "stream",
     "text": [
      "train loss: 26.650: 100%|██████████| 7/7 [00:00<00:00, 12.88it/s]\n",
      "val loss: 49.215: 100%|██████████| 2/2 [00:00<00:00, 58.40it/s]\n"
     ]
    },
    {
     "name": "stdout",
     "output_type": "stream",
     "text": [
      "Epoch 744\tTrain Loss: 26.575  Val Loss: 49.127\n",
      "\n"
     ]
    },
    {
     "name": "stderr",
     "output_type": "stream",
     "text": [
      "train loss: 24.509: 100%|██████████| 7/7 [00:00<00:00, 12.45it/s]\n",
      "val loss: 49.356: 100%|██████████| 2/2 [00:00<00:00, 62.62it/s]\n"
     ]
    },
    {
     "name": "stdout",
     "output_type": "stream",
     "text": [
      "Epoch 745\tTrain Loss: 26.368  Val Loss: 49.313\n",
      "\n"
     ]
    },
    {
     "name": "stderr",
     "output_type": "stream",
     "text": [
      "train loss: 27.367: 100%|██████████| 7/7 [00:00<00:00, 12.22it/s]\n",
      "val loss: 49.260: 100%|██████████| 2/2 [00:00<00:00, 56.59it/s]\n"
     ]
    },
    {
     "name": "stdout",
     "output_type": "stream",
     "text": [
      "Epoch 746\tTrain Loss: 26.766  Val Loss: 49.212\n",
      "\n"
     ]
    },
    {
     "name": "stderr",
     "output_type": "stream",
     "text": [
      "train loss: 27.334: 100%|██████████| 7/7 [00:00<00:00, 12.55it/s]\n",
      "val loss: 49.154: 100%|██████████| 2/2 [00:00<00:00, 69.18it/s]\n"
     ]
    },
    {
     "name": "stdout",
     "output_type": "stream",
     "text": [
      "Epoch 747\tTrain Loss: 26.700  Val Loss: 49.161\n",
      "\n"
     ]
    },
    {
     "name": "stderr",
     "output_type": "stream",
     "text": [
      "train loss: 27.650: 100%|██████████| 7/7 [00:00<00:00, 13.08it/s]\n",
      "val loss: 49.364: 100%|██████████| 2/2 [00:00<00:00, 68.92it/s]\n"
     ]
    },
    {
     "name": "stdout",
     "output_type": "stream",
     "text": [
      "Epoch 748\tTrain Loss: 26.687  Val Loss: 49.343\n",
      "\n"
     ]
    },
    {
     "name": "stderr",
     "output_type": "stream",
     "text": [
      "train loss: 25.396: 100%|██████████| 7/7 [00:00<00:00, 13.27it/s]\n",
      "val loss: 49.269: 100%|██████████| 2/2 [00:00<00:00, 55.60it/s]\n"
     ]
    },
    {
     "name": "stdout",
     "output_type": "stream",
     "text": [
      "Epoch 749\tTrain Loss: 26.316  Val Loss: 49.273\n",
      "\n"
     ]
    },
    {
     "name": "stderr",
     "output_type": "stream",
     "text": [
      "train loss: 26.526: 100%|██████████| 7/7 [00:00<00:00, 12.58it/s]\n",
      "val loss: 49.166: 100%|██████████| 2/2 [00:00<00:00, 63.83it/s]\n"
     ]
    },
    {
     "name": "stdout",
     "output_type": "stream",
     "text": [
      "Epoch 750\tTrain Loss: 26.505  Val Loss: 49.137\n",
      "\n"
     ]
    },
    {
     "name": "stderr",
     "output_type": "stream",
     "text": [
      "train loss: 27.671: 100%|██████████| 7/7 [00:00<00:00, 13.15it/s]\n",
      "val loss: 49.490: 100%|██████████| 2/2 [00:00<00:00, 54.92it/s]\n"
     ]
    },
    {
     "name": "stdout",
     "output_type": "stream",
     "text": [
      "Epoch 751\tTrain Loss: 26.542  Val Loss: 49.416\n",
      "\n"
     ]
    },
    {
     "name": "stderr",
     "output_type": "stream",
     "text": [
      "train loss: 26.341: 100%|██████████| 7/7 [00:00<00:00, 12.61it/s]\n",
      "val loss: 49.370: 100%|██████████| 2/2 [00:00<00:00, 66.07it/s]\n"
     ]
    },
    {
     "name": "stdout",
     "output_type": "stream",
     "text": [
      "Epoch 752\tTrain Loss: 26.381  Val Loss: 49.383\n",
      "\n"
     ]
    },
    {
     "name": "stderr",
     "output_type": "stream",
     "text": [
      "train loss: 23.534: 100%|██████████| 7/7 [00:00<00:00, 13.00it/s]\n",
      "val loss: 49.433: 100%|██████████| 2/2 [00:00<00:00, 46.37it/s]\n"
     ]
    },
    {
     "name": "stdout",
     "output_type": "stream",
     "text": [
      "Epoch 753\tTrain Loss: 26.025  Val Loss: 49.421\n",
      "\n"
     ]
    },
    {
     "name": "stderr",
     "output_type": "stream",
     "text": [
      "train loss: 26.624: 100%|██████████| 7/7 [00:00<00:00, 12.70it/s]\n",
      "val loss: 49.359: 100%|██████████| 2/2 [00:00<00:00, 66.71it/s]\n"
     ]
    },
    {
     "name": "stdout",
     "output_type": "stream",
     "text": [
      "Epoch 754\tTrain Loss: 26.342  Val Loss: 49.328\n",
      "\n"
     ]
    },
    {
     "name": "stderr",
     "output_type": "stream",
     "text": [
      "train loss: 24.284: 100%|██████████| 7/7 [00:00<00:00, 12.80it/s]\n",
      "val loss: 49.483: 100%|██████████| 2/2 [00:00<00:00, 67.22it/s]\n"
     ]
    },
    {
     "name": "stdout",
     "output_type": "stream",
     "text": [
      "Epoch 755\tTrain Loss: 26.009  Val Loss: 49.439\n",
      "\n"
     ]
    },
    {
     "name": "stderr",
     "output_type": "stream",
     "text": [
      "train loss: 27.743: 100%|██████████| 7/7 [00:00<00:00, 13.31it/s]\n",
      "val loss: 49.473: 100%|██████████| 2/2 [00:00<00:00, 59.06it/s]\n"
     ]
    },
    {
     "name": "stdout",
     "output_type": "stream",
     "text": [
      "Epoch 756\tTrain Loss: 26.298  Val Loss: 49.437\n",
      "\n"
     ]
    },
    {
     "name": "stderr",
     "output_type": "stream",
     "text": [
      "train loss: 27.227: 100%|██████████| 7/7 [00:00<00:00, 12.53it/s]\n",
      "val loss: 49.494: 100%|██████████| 2/2 [00:00<00:00, 64.11it/s]\n"
     ]
    },
    {
     "name": "stdout",
     "output_type": "stream",
     "text": [
      "Epoch 757\tTrain Loss: 26.411  Val Loss: 49.489\n",
      "\n"
     ]
    },
    {
     "name": "stderr",
     "output_type": "stream",
     "text": [
      "train loss: 26.526: 100%|██████████| 7/7 [00:00<00:00, 12.88it/s]\n",
      "val loss: 49.554: 100%|██████████| 2/2 [00:00<00:00, 63.40it/s]\n"
     ]
    },
    {
     "name": "stdout",
     "output_type": "stream",
     "text": [
      "Epoch 758\tTrain Loss: 26.246  Val Loss: 49.551\n",
      "\n"
     ]
    },
    {
     "name": "stderr",
     "output_type": "stream",
     "text": [
      "train loss: 28.645: 100%|██████████| 7/7 [00:00<00:00, 12.73it/s]\n",
      "val loss: 49.553: 100%|██████████| 2/2 [00:00<00:00, 45.01it/s]\n"
     ]
    },
    {
     "name": "stdout",
     "output_type": "stream",
     "text": [
      "Epoch 759\tTrain Loss: 26.434  Val Loss: 49.534\n",
      "\n"
     ]
    },
    {
     "name": "stderr",
     "output_type": "stream",
     "text": [
      "train loss: 27.388: 100%|██████████| 7/7 [00:00<00:00, 12.30it/s]\n",
      "val loss: 49.594: 100%|██████████| 2/2 [00:00<00:00, 60.60it/s]\n"
     ]
    },
    {
     "name": "stdout",
     "output_type": "stream",
     "text": [
      "Epoch 760\tTrain Loss: 26.223  Val Loss: 49.519\n",
      "\n"
     ]
    },
    {
     "name": "stderr",
     "output_type": "stream",
     "text": [
      "train loss: 27.410: 100%|██████████| 7/7 [00:00<00:00, 12.49it/s]\n",
      "val loss: 49.427: 100%|██████████| 2/2 [00:00<00:00, 52.40it/s]\n"
     ]
    },
    {
     "name": "stdout",
     "output_type": "stream",
     "text": [
      "Epoch 761\tTrain Loss: 26.150  Val Loss: 49.417\n",
      "\n"
     ]
    },
    {
     "name": "stderr",
     "output_type": "stream",
     "text": [
      "train loss: 26.254: 100%|██████████| 7/7 [00:00<00:00, 12.51it/s]\n",
      "val loss: 49.628: 100%|██████████| 2/2 [00:00<00:00, 67.84it/s]\n"
     ]
    },
    {
     "name": "stdout",
     "output_type": "stream",
     "text": [
      "Epoch 762\tTrain Loss: 26.000  Val Loss: 49.612\n",
      "\n"
     ]
    },
    {
     "name": "stderr",
     "output_type": "stream",
     "text": [
      "train loss: 27.425: 100%|██████████| 7/7 [00:00<00:00, 12.92it/s]\n",
      "val loss: 49.772: 100%|██████████| 2/2 [00:00<00:00, 67.66it/s]\n"
     ]
    },
    {
     "name": "stdout",
     "output_type": "stream",
     "text": [
      "Epoch 763\tTrain Loss: 26.103  Val Loss: 49.721\n",
      "\n"
     ]
    },
    {
     "name": "stderr",
     "output_type": "stream",
     "text": [
      "train loss: 25.020: 100%|██████████| 7/7 [00:00<00:00, 12.53it/s]\n",
      "val loss: 49.778: 100%|██████████| 2/2 [00:00<00:00, 54.76it/s]\n"
     ]
    },
    {
     "name": "stdout",
     "output_type": "stream",
     "text": [
      "Epoch 764\tTrain Loss: 25.819  Val Loss: 49.752\n",
      "\n"
     ]
    },
    {
     "name": "stderr",
     "output_type": "stream",
     "text": [
      "train loss: 27.432: 100%|██████████| 7/7 [00:00<00:00, 12.56it/s]\n",
      "val loss: 49.710: 100%|██████████| 2/2 [00:00<00:00, 67.81it/s]\n"
     ]
    },
    {
     "name": "stdout",
     "output_type": "stream",
     "text": [
      "Epoch 765\tTrain Loss: 26.061  Val Loss: 49.685\n",
      "\n"
     ]
    },
    {
     "name": "stderr",
     "output_type": "stream",
     "text": [
      "train loss: 25.349: 100%|██████████| 7/7 [00:00<00:00, 12.10it/s]\n",
      "val loss: 49.653: 100%|██████████| 2/2 [00:00<00:00, 65.00it/s]\n"
     ]
    },
    {
     "name": "stdout",
     "output_type": "stream",
     "text": [
      "Epoch 766\tTrain Loss: 25.818  Val Loss: 49.614\n",
      "\n"
     ]
    },
    {
     "name": "stderr",
     "output_type": "stream",
     "text": [
      "train loss: 26.974: 100%|██████████| 7/7 [00:00<00:00, 12.12it/s]\n",
      "val loss: 49.875: 100%|██████████| 2/2 [00:00<00:00, 49.60it/s]\n"
     ]
    },
    {
     "name": "stdout",
     "output_type": "stream",
     "text": [
      "Epoch 767\tTrain Loss: 25.975  Val Loss: 49.854\n",
      "\n"
     ]
    },
    {
     "name": "stderr",
     "output_type": "stream",
     "text": [
      "train loss: 25.561: 100%|██████████| 7/7 [00:00<00:00, 12.06it/s]\n",
      "val loss: 49.814: 100%|██████████| 2/2 [00:00<00:00, 64.90it/s]\n"
     ]
    },
    {
     "name": "stdout",
     "output_type": "stream",
     "text": [
      "Epoch 768\tTrain Loss: 25.804  Val Loss: 49.773\n",
      "\n"
     ]
    },
    {
     "name": "stderr",
     "output_type": "stream",
     "text": [
      "train loss: 25.065: 100%|██████████| 7/7 [00:00<00:00, 12.14it/s]\n",
      "val loss: 49.787: 100%|██████████| 2/2 [00:00<00:00, 60.52it/s]\n"
     ]
    },
    {
     "name": "stdout",
     "output_type": "stream",
     "text": [
      "Epoch 769\tTrain Loss: 25.721  Val Loss: 49.817\n",
      "\n"
     ]
    },
    {
     "name": "stderr",
     "output_type": "stream",
     "text": [
      "train loss: 22.282: 100%|██████████| 7/7 [00:00<00:00, 13.03it/s]\n",
      "val loss: 49.775: 100%|██████████| 2/2 [00:00<00:00, 68.69it/s]\n"
     ]
    },
    {
     "name": "stdout",
     "output_type": "stream",
     "text": [
      "Epoch 770\tTrain Loss: 25.391  Val Loss: 49.732\n",
      "\n"
     ]
    },
    {
     "name": "stderr",
     "output_type": "stream",
     "text": [
      "train loss: 24.508: 100%|██████████| 7/7 [00:00<00:00, 12.95it/s]\n",
      "val loss: 49.901: 100%|██████████| 2/2 [00:00<00:00, 67.22it/s]\n"
     ]
    },
    {
     "name": "stdout",
     "output_type": "stream",
     "text": [
      "Epoch 771\tTrain Loss: 25.619  Val Loss: 49.902\n",
      "\n"
     ]
    },
    {
     "name": "stderr",
     "output_type": "stream",
     "text": [
      "train loss: 26.795: 100%|██████████| 7/7 [00:00<00:00, 12.49it/s]\n",
      "val loss: 49.973: 100%|██████████| 2/2 [00:00<00:00, 66.14it/s]\n"
     ]
    },
    {
     "name": "stdout",
     "output_type": "stream",
     "text": [
      "Epoch 772\tTrain Loss: 25.855  Val Loss: 49.913\n",
      "\n"
     ]
    },
    {
     "name": "stderr",
     "output_type": "stream",
     "text": [
      "train loss: 28.115: 100%|██████████| 7/7 [00:00<00:00, 12.24it/s]\n",
      "val loss: 49.992: 100%|██████████| 2/2 [00:00<00:00, 66.08it/s]\n"
     ]
    },
    {
     "name": "stdout",
     "output_type": "stream",
     "text": [
      "Epoch 773\tTrain Loss: 26.020  Val Loss: 49.982\n",
      "\n"
     ]
    },
    {
     "name": "stderr",
     "output_type": "stream",
     "text": [
      "train loss: 26.397: 100%|██████████| 7/7 [00:00<00:00, 12.54it/s]\n",
      "val loss: 49.798: 100%|██████████| 2/2 [00:00<00:00, 69.35it/s]\n"
     ]
    },
    {
     "name": "stdout",
     "output_type": "stream",
     "text": [
      "Epoch 774\tTrain Loss: 25.779  Val Loss: 49.825\n",
      "\n"
     ]
    },
    {
     "name": "stderr",
     "output_type": "stream",
     "text": [
      "train loss: 24.740: 100%|██████████| 7/7 [00:00<00:00, 13.02it/s]\n",
      "val loss: 50.015: 100%|██████████| 2/2 [00:00<00:00, 67.93it/s]\n"
     ]
    },
    {
     "name": "stdout",
     "output_type": "stream",
     "text": [
      "Epoch 775\tTrain Loss: 25.576  Val Loss: 49.988\n",
      "\n"
     ]
    },
    {
     "name": "stderr",
     "output_type": "stream",
     "text": [
      "train loss: 25.205: 100%|██████████| 7/7 [00:00<00:00, 13.29it/s]\n",
      "val loss: 49.966: 100%|██████████| 2/2 [00:00<00:00, 57.80it/s]\n"
     ]
    },
    {
     "name": "stdout",
     "output_type": "stream",
     "text": [
      "Epoch 776\tTrain Loss: 25.599  Val Loss: 50.000\n",
      "\n"
     ]
    },
    {
     "name": "stderr",
     "output_type": "stream",
     "text": [
      "train loss: 24.662: 100%|██████████| 7/7 [00:00<00:00, 13.18it/s]\n",
      "val loss: 50.044: 100%|██████████| 2/2 [00:00<00:00, 41.91it/s]\n"
     ]
    },
    {
     "name": "stdout",
     "output_type": "stream",
     "text": [
      "Epoch 777\tTrain Loss: 25.538  Val Loss: 50.051\n",
      "\n"
     ]
    },
    {
     "name": "stderr",
     "output_type": "stream",
     "text": [
      "train loss: 27.006: 100%|██████████| 7/7 [00:00<00:00, 12.57it/s]\n",
      "val loss: 49.958: 100%|██████████| 2/2 [00:00<00:00, 68.32it/s]\n"
     ]
    },
    {
     "name": "stdout",
     "output_type": "stream",
     "text": [
      "Epoch 778\tTrain Loss: 25.770  Val Loss: 49.955\n",
      "\n"
     ]
    },
    {
     "name": "stderr",
     "output_type": "stream",
     "text": [
      "train loss: 25.061: 100%|██████████| 7/7 [00:00<00:00, 13.29it/s]\n",
      "val loss: 50.074: 100%|██████████| 2/2 [00:00<00:00, 45.94it/s]\n"
     ]
    },
    {
     "name": "stdout",
     "output_type": "stream",
     "text": [
      "Epoch 779\tTrain Loss: 25.558  Val Loss: 50.050\n",
      "\n"
     ]
    },
    {
     "name": "stderr",
     "output_type": "stream",
     "text": [
      "train loss: 24.689: 100%|██████████| 7/7 [00:00<00:00, 12.54it/s]\n",
      "val loss: 50.079: 100%|██████████| 2/2 [00:00<00:00, 69.42it/s]\n"
     ]
    },
    {
     "name": "stdout",
     "output_type": "stream",
     "text": [
      "Epoch 780\tTrain Loss: 25.524  Val Loss: 50.074\n",
      "\n"
     ]
    },
    {
     "name": "stderr",
     "output_type": "stream",
     "text": [
      "train loss: 23.522: 100%|██████████| 7/7 [00:00<00:00, 13.16it/s]\n",
      "val loss: 49.965: 100%|██████████| 2/2 [00:00<00:00, 69.14it/s]\n"
     ]
    },
    {
     "name": "stdout",
     "output_type": "stream",
     "text": [
      "Epoch 781\tTrain Loss: 25.333  Val Loss: 49.994\n",
      "\n"
     ]
    },
    {
     "name": "stderr",
     "output_type": "stream",
     "text": [
      "train loss: 26.202: 100%|██████████| 7/7 [00:00<00:00, 13.32it/s]\n",
      "val loss: 49.979: 100%|██████████| 2/2 [00:00<00:00, 57.18it/s]\n"
     ]
    },
    {
     "name": "stdout",
     "output_type": "stream",
     "text": [
      "Epoch 782\tTrain Loss: 25.591  Val Loss: 49.981\n",
      "\n"
     ]
    },
    {
     "name": "stderr",
     "output_type": "stream",
     "text": [
      "train loss: 26.454: 100%|██████████| 7/7 [00:00<00:00, 12.94it/s]\n",
      "val loss: 50.221: 100%|██████████| 2/2 [00:00<00:00, 69.18it/s]\n"
     ]
    },
    {
     "name": "stdout",
     "output_type": "stream",
     "text": [
      "Epoch 783\tTrain Loss: 25.628  Val Loss: 50.205\n",
      "\n"
     ]
    },
    {
     "name": "stderr",
     "output_type": "stream",
     "text": [
      "train loss: 23.830: 100%|██████████| 7/7 [00:00<00:00, 13.30it/s]\n",
      "val loss: 50.147: 100%|██████████| 2/2 [00:00<00:00, 54.52it/s]\n"
     ]
    },
    {
     "name": "stdout",
     "output_type": "stream",
     "text": [
      "Epoch 784\tTrain Loss: 25.329  Val Loss: 50.144\n",
      "\n"
     ]
    },
    {
     "name": "stderr",
     "output_type": "stream",
     "text": [
      "train loss: 26.170: 100%|██████████| 7/7 [00:00<00:00, 13.03it/s]\n",
      "val loss: 50.010: 100%|██████████| 2/2 [00:00<00:00, 68.86it/s]\n"
     ]
    },
    {
     "name": "stdout",
     "output_type": "stream",
     "text": [
      "Epoch 785\tTrain Loss: 25.489  Val Loss: 50.046\n",
      "\n"
     ]
    },
    {
     "name": "stderr",
     "output_type": "stream",
     "text": [
      "train loss: 25.401: 100%|██████████| 7/7 [00:00<00:00, 13.24it/s]\n",
      "val loss: 50.014: 100%|██████████| 2/2 [00:00<00:00, 57.65it/s]\n"
     ]
    },
    {
     "name": "stdout",
     "output_type": "stream",
     "text": [
      "Epoch 786\tTrain Loss: 25.376  Val Loss: 50.037\n",
      "\n"
     ]
    },
    {
     "name": "stderr",
     "output_type": "stream",
     "text": [
      "train loss: 26.019: 100%|██████████| 7/7 [00:00<00:00, 13.03it/s]\n",
      "val loss: 50.243: 100%|██████████| 2/2 [00:00<00:00, 66.96it/s]\n"
     ]
    },
    {
     "name": "stdout",
     "output_type": "stream",
     "text": [
      "Epoch 787\tTrain Loss: 25.413  Val Loss: 50.278\n",
      "\n"
     ]
    },
    {
     "name": "stderr",
     "output_type": "stream",
     "text": [
      "train loss: 27.578: 100%|██████████| 7/7 [00:00<00:00, 12.99it/s]\n",
      "val loss: 50.194: 100%|██████████| 2/2 [00:00<00:00, 68.86it/s]\n"
     ]
    },
    {
     "name": "stdout",
     "output_type": "stream",
     "text": [
      "Epoch 788\tTrain Loss: 25.609  Val Loss: 50.190\n",
      "\n"
     ]
    },
    {
     "name": "stderr",
     "output_type": "stream",
     "text": [
      "train loss: 25.321: 100%|██████████| 7/7 [00:00<00:00, 13.32it/s]\n",
      "val loss: 50.253: 100%|██████████| 2/2 [00:00<00:00, 50.90it/s]\n"
     ]
    },
    {
     "name": "stdout",
     "output_type": "stream",
     "text": [
      "Epoch 789\tTrain Loss: 25.374  Val Loss: 50.242\n",
      "\n"
     ]
    },
    {
     "name": "stderr",
     "output_type": "stream",
     "text": [
      "train loss: 26.961: 100%|██████████| 7/7 [00:00<00:00, 12.91it/s]\n",
      "val loss: 50.212: 100%|██████████| 2/2 [00:00<00:00, 67.62it/s]\n"
     ]
    },
    {
     "name": "stdout",
     "output_type": "stream",
     "text": [
      "Epoch 790\tTrain Loss: 25.500  Val Loss: 50.226\n",
      "\n"
     ]
    },
    {
     "name": "stderr",
     "output_type": "stream",
     "text": [
      "train loss: 25.021: 100%|██████████| 7/7 [00:00<00:00, 12.25it/s]\n",
      "val loss: 50.272: 100%|██████████| 2/2 [00:00<00:00, 55.25it/s]\n"
     ]
    },
    {
     "name": "stdout",
     "output_type": "stream",
     "text": [
      "Epoch 791\tTrain Loss: 25.395  Val Loss: 50.307\n",
      "\n"
     ]
    },
    {
     "name": "stderr",
     "output_type": "stream",
     "text": [
      "train loss: 25.290: 100%|██████████| 7/7 [00:00<00:00, 13.10it/s]\n",
      "val loss: 50.388: 100%|██████████| 2/2 [00:00<00:00, 52.80it/s]\n"
     ]
    },
    {
     "name": "stdout",
     "output_type": "stream",
     "text": [
      "Epoch 792\tTrain Loss: 25.423  Val Loss: 50.375\n",
      "\n"
     ]
    },
    {
     "name": "stderr",
     "output_type": "stream",
     "text": [
      "train loss: 24.875: 100%|██████████| 7/7 [00:00<00:00, 12.87it/s]\n",
      "val loss: 50.258: 100%|██████████| 2/2 [00:00<00:00, 68.99it/s]\n"
     ]
    },
    {
     "name": "stdout",
     "output_type": "stream",
     "text": [
      "Epoch 793\tTrain Loss: 25.359  Val Loss: 50.315\n",
      "\n"
     ]
    },
    {
     "name": "stderr",
     "output_type": "stream",
     "text": [
      "train loss: 26.253: 100%|██████████| 7/7 [00:00<00:00, 13.12it/s]\n",
      "val loss: 50.181: 100%|██████████| 2/2 [00:00<00:00, 57.67it/s]\n"
     ]
    },
    {
     "name": "stdout",
     "output_type": "stream",
     "text": [
      "Epoch 794\tTrain Loss: 25.440  Val Loss: 50.215\n",
      "\n"
     ]
    },
    {
     "name": "stderr",
     "output_type": "stream",
     "text": [
      "train loss: 24.751: 100%|██████████| 7/7 [00:00<00:00, 12.99it/s]\n",
      "val loss: 50.346: 100%|██████████| 2/2 [00:00<00:00, 68.52it/s]\n"
     ]
    },
    {
     "name": "stdout",
     "output_type": "stream",
     "text": [
      "Epoch 795\tTrain Loss: 25.190  Val Loss: 50.349\n",
      "\n"
     ]
    },
    {
     "name": "stderr",
     "output_type": "stream",
     "text": [
      "train loss: 25.528: 100%|██████████| 7/7 [00:00<00:00, 12.46it/s]\n",
      "val loss: 50.260: 100%|██████████| 2/2 [00:00<00:00, 65.55it/s]\n"
     ]
    },
    {
     "name": "stdout",
     "output_type": "stream",
     "text": [
      "Epoch 796\tTrain Loss: 25.265  Val Loss: 50.256\n",
      "\n"
     ]
    },
    {
     "name": "stderr",
     "output_type": "stream",
     "text": [
      "train loss: 25.011: 100%|██████████| 7/7 [00:00<00:00, 12.90it/s]\n",
      "val loss: 50.375: 100%|██████████| 2/2 [00:00<00:00, 53.83it/s]\n"
     ]
    },
    {
     "name": "stdout",
     "output_type": "stream",
     "text": [
      "Epoch 797\tTrain Loss: 25.130  Val Loss: 50.384\n",
      "\n"
     ]
    },
    {
     "name": "stderr",
     "output_type": "stream",
     "text": [
      "train loss: 25.401: 100%|██████████| 7/7 [00:00<00:00, 12.44it/s]\n",
      "val loss: 50.292: 100%|██████████| 2/2 [00:00<00:00, 67.50it/s]\n"
     ]
    },
    {
     "name": "stdout",
     "output_type": "stream",
     "text": [
      "Epoch 798\tTrain Loss: 25.155  Val Loss: 50.305\n",
      "\n"
     ]
    },
    {
     "name": "stderr",
     "output_type": "stream",
     "text": [
      "train loss: 23.867: 100%|██████████| 7/7 [00:00<00:00, 13.10it/s]\n",
      "val loss: 50.496: 100%|██████████| 2/2 [00:00<00:00, 69.59it/s]\n"
     ]
    },
    {
     "name": "stdout",
     "output_type": "stream",
     "text": [
      "Epoch 799\tTrain Loss: 24.998  Val Loss: 50.454\n",
      "\n"
     ]
    },
    {
     "data": {
      "image/png": "[encoded data removed]",
      "text/plain": [
       "<Figure size 640x480 with 1 Axes>"
      ]
     },
     "execution_count": 8,
     "metadata": {},
     "output_type": "execute_result"
    },
    {
     "data": {
      "image/png": "[encoded data removed]",
      "text/plain": [
       "<Figure size 640x480 with 1 Axes>"
      ]
     },
     "metadata": {},
     "output_type": "display_data"
    }
   ],
   "source": [
    "train_loader = DataLoader(train_dataset, batch_size=batch_size, shuffle=True)\n",
    "val_loader = DataLoader(val_dataset, batch_size=batch_size, shuffle=False)\n",
    "\n",
    "train_utils.train_loop(\n",
    "    train_loader=train_loader,\n",
    "    val_loader=val_loader,\n",
    "    model=model,\n",
    "    criterion=criterion,\n",
    "    device=device,\n",
    "    optimizer=optimizer,\n",
    "    epochs=epoch,\n",
    "    save_path=save_path,\n",
    "    scheduler=None\n",
    ")"
   ]
  },
  {
   "cell_type": "code",
   "execution_count": 9,
   "metadata": {},
   "outputs": [
    {
     "data": {
      "text/plain": [
       "tensor(0.3251, device='cuda:0')"
      ]
     },
     "execution_count": 9,
     "metadata": {},
     "output_type": "execute_result"
    }
   ],
   "source": [
    "model.eval()\n",
    "with torch.no_grad():\n",
    "    recon = model(train_data.to(device))\n",
    "\n",
    "criterion(train_data.to(device), recon, model.z) / 800 / 77"
   ]
  },
  {
   "cell_type": "code",
   "execution_count": null,
   "metadata": {},
   "outputs": [],
   "source": []
  }
 ],
 "metadata": {
  "kernelspec": {
   "display_name": "Python 3 (ipykernel)",
   "language": "python",
   "name": "python3"
  },
  "language_info": {
   "codemirror_mode": {
    "name": "ipython",
    "version": 3
   },
   "file_extension": ".py",
   "mimetype": "text/x-python",
   "name": "python",
   "nbconvert_exporter": "python",
   "pygments_lexer": "ipython3",
   "version": "3.10.13"
  }
 },
 "nbformat": 4,
 "nbformat_minor": 4
}
