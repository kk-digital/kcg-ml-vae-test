{
 "cells": [
  {
   "cell_type": "code",
   "execution_count": 1,
   "metadata": {},
   "outputs": [],
   "source": [
    "import torch\n",
    "import glob\n",
    "import tqdm\n",
    "\n",
    "import numpy as np\n",
    "import torch.nn as nn\n",
    "import torch.nn.functional as F\n",
    "\n",
    "from utilities import utils, train_utils\n",
    "from sklearn.model_selection import train_test_split\n",
    "from sklearn.preprocessing import normalize\n",
    "from torch.utils.data import DataLoader, TensorDataset\n",
    "from pythae.models import AE, AEConfig\n",
    "from pythae.trainers import BaseTrainerConfig\n",
    "from pythae.pipelines.training import TrainingPipeline\n",
    "from pythae.models.nn import BaseEncoder, BaseDecoder\n",
    "from pythae.models.base.base_utils import ModelOutput"
   ]
  },
  {
   "cell_type": "code",
   "execution_count": 19,
   "metadata": {},
   "outputs": [
    {
     "name": "stderr",
     "output_type": "stream",
     "text": [
      "100%|██████████| 1000/1000 [00:05<00:00, 197.27it/s]\n"
     ]
    }
   ],
   "source": [
    "paths = sorted(glob.glob('./data/environmental_embeddings_0001/0001/*.msgpack'))\n",
    "device = train_utils.get_device()\n",
    "\n",
    "X = []\n",
    "for path in tqdm.tqdm(paths):\n",
    "    pos_emb, neg_emb = utils.read_embedding_data(path)\n",
    "    X.append(pos_emb)\n",
    "X = np.concatenate(X, axis=0)\n",
    "X = X.reshape(-1, 768)\n",
    "\n",
    "Xtr, Xvl = train_test_split(X, test_size=0.2, random_state=42)\n",
    "\n",
    "Xtr_scl = normalize(Xtr, norm='l2', axis=1)\n",
    "Xvl_scl = normalize(Xvl, norm='l2', axis=1)\n",
    "\n",
    "train_data = torch.tensor(Xtr_scl, dtype=torch.float32)\n",
    "val_data = torch.tensor(Xvl_scl, dtype=torch.float32)\n",
    "\n",
    "train_dataset = TensorDataset(train_data)\n",
    "val_dataset = TensorDataset(val_data)\n",
    "\n",
    "train_loader = DataLoader(train_dataset, batch_size=128, shuffle=True)\n",
    "val_loader = DataLoader(val_dataset, batch_size=128, shuffle=False)"
   ]
  },
  {
   "cell_type": "code",
   "execution_count": 20,
   "metadata": {},
   "outputs": [],
   "source": [
    "class Encoder(nn.Module):\n",
    "    def __init__(self, input_dim, latent_dim):\n",
    "        super(Encoder, self).__init__()\n",
    "        self.input_dim = input_dim\n",
    "        self.latent_dim = latent_dim\n",
    "\n",
    "        self.encoder_layers = nn.Sequential(\n",
    "            nn.Linear(self.input_dim, 1024),\n",
    "            nn.ReLU(),\n",
    "            nn.Linear(1024, 1024),\n",
    "            nn.ReLU(),\n",
    "            nn.Linear(1024, 1024),\n",
    "            nn.ReLU(),\n",
    "            nn.Linear(1024, self.latent_dim),\n",
    "        )\n",
    "\n",
    "    def forward(self, x):\n",
    "        x = self.encoder_layers(x)\n",
    "\n",
    "        return x\n",
    "    \n",
    "class Decoder(BaseDecoder):\n",
    "    def __init__(self, input_dim, latent_dim):\n",
    "        super(Decoder, self).__init__()\n",
    "        self.input_dim = input_dim\n",
    "        self.latent_dim = latent_dim\n",
    "\n",
    "        self.decoder_layers = nn.Sequential(\n",
    "            nn.Linear(self.latent_dim, 1024),\n",
    "            nn.ReLU(),\n",
    "            nn.Linear(1024, 1024),\n",
    "            nn.ReLU(),\n",
    "            nn.Linear(1024, 1024),\n",
    "            nn.ReLU(),\n",
    "            nn.Linear(1024, self.input_dim),\n",
    "            nn.Tanh()\n",
    "        )\n",
    "\n",
    "    def forward(self, z):\n",
    "        x = self.decoder_layers(z)\n",
    "\n",
    "        return x\n",
    "    \n",
    "class AutoEncoder(nn.Module):\n",
    "    def __init__(self, input_dim, latent_dim):\n",
    "        super(AutoEncoder, self).__init__()\n",
    "\n",
    "        self.encoder = Encoder(input_dim, latent_dim)\n",
    "        self.decoder = Decoder(input_dim, latent_dim)\n",
    "\n",
    "    def forward(self, x):\n",
    "        self.z = self.encoder(x)\n",
    "        recon = self.decoder(self.z)\n",
    "\n",
    "        return recon"
   ]
  },
  {
   "cell_type": "code",
   "execution_count": 21,
   "metadata": {},
   "outputs": [],
   "source": [
    "model = AutoEncoder(input_dim=768, latent_dim=128)\n",
    "optimizer = torch.optim.AdamW(model.parameters(), lr=1e-4)\n",
    "# scheduler = torch.optim.lr_scheduler.ReduceLROnPlateau(optimizer, patience=10, threshold=0.01)\n",
    "criterion = torch.nn.MSELoss(reduction='sum')\n",
    "model = model.to(device)"
   ]
  },
  {
   "cell_type": "code",
   "execution_count": 22,
   "metadata": {},
   "outputs": [
    {
     "name": "stderr",
     "output_type": "stream",
     "text": [
      "train loss: 0.429: 100%|██████████| 482/482 [00:01<00:00, 242.16it/s]\n",
      "val loss: 0.417: 100%|██████████| 121/121 [00:00<00:00, 798.76it/s]\n"
     ]
    },
    {
     "name": "stdout",
     "output_type": "stream",
     "text": [
      "Weight saved: epoch 0\n",
      "Epoch 0\tTrain Loss: 0.519  Val Loss: 0.401\n",
      "\n"
     ]
    },
    {
     "name": "stderr",
     "output_type": "stream",
     "text": [
      "train loss: 0.322: 100%|██████████| 482/482 [00:01<00:00, 243.40it/s]\n",
      "val loss: 0.375: 100%|██████████| 121/121 [00:00<00:00, 848.39it/s]\n"
     ]
    },
    {
     "name": "stdout",
     "output_type": "stream",
     "text": [
      "Weight saved: epoch 1\n",
      "Epoch 1\tTrain Loss: 0.381  Val Loss: 0.360\n",
      "\n"
     ]
    },
    {
     "name": "stderr",
     "output_type": "stream",
     "text": [
      "train loss: 0.339: 100%|██████████| 482/482 [00:01<00:00, 241.98it/s]\n",
      "val loss: 0.348: 100%|██████████| 121/121 [00:00<00:00, 916.85it/s]\n"
     ]
    },
    {
     "name": "stdout",
     "output_type": "stream",
     "text": [
      "Weight saved: epoch 2\n",
      "Epoch 2\tTrain Loss: 0.347  Val Loss: 0.334\n",
      "\n"
     ]
    },
    {
     "name": "stderr",
     "output_type": "stream",
     "text": [
      "train loss: 0.332: 100%|██████████| 482/482 [00:01<00:00, 241.68it/s]\n",
      "val loss: 0.328: 100%|██████████| 121/121 [00:00<00:00, 875.75it/s]\n"
     ]
    },
    {
     "name": "stdout",
     "output_type": "stream",
     "text": [
      "Weight saved: epoch 3\n",
      "Epoch 3\tTrain Loss: 0.323  Val Loss: 0.312\n",
      "\n"
     ]
    },
    {
     "name": "stderr",
     "output_type": "stream",
     "text": [
      "train loss: 0.285: 100%|██████████| 482/482 [00:02<00:00, 240.87it/s]\n",
      "val loss: 0.306: 100%|██████████| 121/121 [00:00<00:00, 800.35it/s]\n"
     ]
    },
    {
     "name": "stdout",
     "output_type": "stream",
     "text": [
      "Weight saved: epoch 4\n",
      "Epoch 4\tTrain Loss: 0.303  Val Loss: 0.294\n",
      "\n"
     ]
    },
    {
     "name": "stderr",
     "output_type": "stream",
     "text": [
      "train loss: 0.298: 100%|██████████| 482/482 [00:01<00:00, 243.73it/s]\n",
      "val loss: 0.289: 100%|██████████| 121/121 [00:00<00:00, 817.20it/s]\n"
     ]
    },
    {
     "name": "stdout",
     "output_type": "stream",
     "text": [
      "Weight saved: epoch 5\n",
      "Epoch 5\tTrain Loss: 0.287  Val Loss: 0.279\n",
      "\n"
     ]
    },
    {
     "name": "stderr",
     "output_type": "stream",
     "text": [
      "train loss: 0.295: 100%|██████████| 482/482 [00:01<00:00, 241.52it/s]\n",
      "val loss: 0.276: 100%|██████████| 121/121 [00:00<00:00, 848.01it/s]\n"
     ]
    },
    {
     "name": "stdout",
     "output_type": "stream",
     "text": [
      "Weight saved: epoch 6\n",
      "Epoch 6\tTrain Loss: 0.273  Val Loss: 0.268\n",
      "\n"
     ]
    },
    {
     "name": "stderr",
     "output_type": "stream",
     "text": [
      "train loss: 0.300: 100%|██████████| 482/482 [00:01<00:00, 244.97it/s]\n",
      "val loss: 0.265: 100%|██████████| 121/121 [00:00<00:00, 858.36it/s]\n"
     ]
    },
    {
     "name": "stdout",
     "output_type": "stream",
     "text": [
      "Weight saved: epoch 7\n",
      "Epoch 7\tTrain Loss: 0.261  Val Loss: 0.257\n",
      "\n"
     ]
    },
    {
     "name": "stderr",
     "output_type": "stream",
     "text": [
      "train loss: 0.283: 100%|██████████| 482/482 [00:01<00:00, 243.90it/s]\n",
      "val loss: 0.253: 100%|██████████| 121/121 [00:00<00:00, 769.73it/s]\n"
     ]
    },
    {
     "name": "stdout",
     "output_type": "stream",
     "text": [
      "Weight saved: epoch 8\n",
      "Epoch 8\tTrain Loss: 0.251  Val Loss: 0.248\n",
      "\n"
     ]
    },
    {
     "name": "stderr",
     "output_type": "stream",
     "text": [
      "train loss: 0.248: 100%|██████████| 482/482 [00:02<00:00, 237.27it/s]\n",
      "val loss: 0.245: 100%|██████████| 121/121 [00:00<00:00, 793.19it/s]\n"
     ]
    },
    {
     "name": "stdout",
     "output_type": "stream",
     "text": [
      "Weight saved: epoch 9\n",
      "Epoch 9\tTrain Loss: 0.243  Val Loss: 0.239\n",
      "\n"
     ]
    },
    {
     "name": "stderr",
     "output_type": "stream",
     "text": [
      "train loss: 0.234: 100%|██████████| 482/482 [00:02<00:00, 237.24it/s]\n",
      "val loss: 0.236: 100%|██████████| 121/121 [00:00<00:00, 801.01it/s]\n"
     ]
    },
    {
     "name": "stdout",
     "output_type": "stream",
     "text": [
      "Weight saved: epoch 10\n",
      "Epoch 10\tTrain Loss: 0.235  Val Loss: 0.232\n",
      "\n"
     ]
    },
    {
     "name": "stderr",
     "output_type": "stream",
     "text": [
      "train loss: 0.251: 100%|██████████| 482/482 [00:01<00:00, 244.73it/s]\n",
      "val loss: 0.231: 100%|██████████| 121/121 [00:00<00:00, 867.74it/s]\n"
     ]
    },
    {
     "name": "stdout",
     "output_type": "stream",
     "text": [
      "Weight saved: epoch 11\n",
      "Epoch 11\tTrain Loss: 0.228  Val Loss: 0.227\n",
      "\n"
     ]
    },
    {
     "name": "stderr",
     "output_type": "stream",
     "text": [
      "train loss: 0.253: 100%|██████████| 482/482 [00:01<00:00, 241.76it/s]\n",
      "val loss: 0.225: 100%|██████████| 121/121 [00:00<00:00, 781.96it/s]\n"
     ]
    },
    {
     "name": "stdout",
     "output_type": "stream",
     "text": [
      "Weight saved: epoch 12\n",
      "Epoch 12\tTrain Loss: 0.222  Val Loss: 0.222\n",
      "\n"
     ]
    },
    {
     "name": "stderr",
     "output_type": "stream",
     "text": [
      "train loss: 0.237: 100%|██████████| 482/482 [00:02<00:00, 234.64it/s]\n",
      "val loss: 0.218: 100%|██████████| 121/121 [00:00<00:00, 804.51it/s]\n"
     ]
    },
    {
     "name": "stdout",
     "output_type": "stream",
     "text": [
      "Weight saved: epoch 13\n",
      "Epoch 13\tTrain Loss: 0.217  Val Loss: 0.216\n",
      "\n"
     ]
    },
    {
     "name": "stderr",
     "output_type": "stream",
     "text": [
      "train loss: 0.246: 100%|██████████| 482/482 [00:02<00:00, 229.70it/s]\n",
      "val loss: 0.213: 100%|██████████| 121/121 [00:00<00:00, 819.44it/s]\n"
     ]
    },
    {
     "name": "stdout",
     "output_type": "stream",
     "text": [
      "Weight saved: epoch 14\n",
      "Epoch 14\tTrain Loss: 0.212  Val Loss: 0.211\n",
      "\n"
     ]
    },
    {
     "name": "stderr",
     "output_type": "stream",
     "text": [
      "train loss: 0.208: 100%|██████████| 482/482 [00:02<00:00, 238.09it/s]\n",
      "val loss: 0.207: 100%|██████████| 121/121 [00:00<00:00, 862.65it/s]\n"
     ]
    },
    {
     "name": "stdout",
     "output_type": "stream",
     "text": [
      "Weight saved: epoch 15\n",
      "Epoch 15\tTrain Loss: 0.207  Val Loss: 0.207\n",
      "\n"
     ]
    },
    {
     "name": "stderr",
     "output_type": "stream",
     "text": [
      "train loss: 0.217: 100%|██████████| 482/482 [00:02<00:00, 240.83it/s]\n",
      "val loss: 0.205: 100%|██████████| 121/121 [00:00<00:00, 851.54it/s]\n"
     ]
    },
    {
     "name": "stdout",
     "output_type": "stream",
     "text": [
      "Weight saved: epoch 16\n",
      "Epoch 16\tTrain Loss: 0.202  Val Loss: 0.204\n",
      "\n"
     ]
    },
    {
     "name": "stderr",
     "output_type": "stream",
     "text": [
      "train loss: 0.182: 100%|██████████| 482/482 [00:01<00:00, 241.31it/s]\n",
      "val loss: 0.199: 100%|██████████| 121/121 [00:00<00:00, 742.15it/s]\n"
     ]
    },
    {
     "name": "stdout",
     "output_type": "stream",
     "text": [
      "Weight saved: epoch 17\n",
      "Epoch 17\tTrain Loss: 0.198  Val Loss: 0.199\n",
      "\n"
     ]
    },
    {
     "name": "stderr",
     "output_type": "stream",
     "text": [
      "train loss: 0.175: 100%|██████████| 482/482 [00:02<00:00, 237.07it/s]\n",
      "val loss: 0.196: 100%|██████████| 121/121 [00:00<00:00, 786.41it/s]\n"
     ]
    },
    {
     "name": "stdout",
     "output_type": "stream",
     "text": [
      "Weight saved: epoch 18\n",
      "Epoch 18\tTrain Loss: 0.195  Val Loss: 0.196\n",
      "\n"
     ]
    },
    {
     "name": "stderr",
     "output_type": "stream",
     "text": [
      "train loss: 0.173: 100%|██████████| 482/482 [00:02<00:00, 240.19it/s]\n",
      "val loss: 0.192: 100%|██████████| 121/121 [00:00<00:00, 815.54it/s]\n"
     ]
    },
    {
     "name": "stdout",
     "output_type": "stream",
     "text": [
      "Weight saved: epoch 19\n",
      "Epoch 19\tTrain Loss: 0.191  Val Loss: 0.193\n",
      "\n"
     ]
    },
    {
     "name": "stderr",
     "output_type": "stream",
     "text": [
      "train loss: 0.249: 100%|██████████| 482/482 [00:02<00:00, 233.45it/s]\n",
      "val loss: 0.188: 100%|██████████| 121/121 [00:00<00:00, 860.46it/s]\n"
     ]
    },
    {
     "name": "stdout",
     "output_type": "stream",
     "text": [
      "Weight saved: epoch 20\n",
      "Epoch 20\tTrain Loss: 0.188  Val Loss: 0.190\n",
      "\n"
     ]
    },
    {
     "name": "stderr",
     "output_type": "stream",
     "text": [
      "train loss: 0.161: 100%|██████████| 482/482 [00:01<00:00, 241.16it/s]\n",
      "val loss: 0.185: 100%|██████████| 121/121 [00:00<00:00, 782.92it/s]\n"
     ]
    },
    {
     "name": "stdout",
     "output_type": "stream",
     "text": [
      "Weight saved: epoch 21\n",
      "Epoch 21\tTrain Loss: 0.185  Val Loss: 0.187\n",
      "\n"
     ]
    },
    {
     "name": "stderr",
     "output_type": "stream",
     "text": [
      "train loss: 0.190: 100%|██████████| 482/482 [00:02<00:00, 236.32it/s]\n",
      "val loss: 0.183: 100%|██████████| 121/121 [00:00<00:00, 923.56it/s]\n"
     ]
    },
    {
     "name": "stdout",
     "output_type": "stream",
     "text": [
      "Weight saved: epoch 22\n",
      "Epoch 22\tTrain Loss: 0.182  Val Loss: 0.185\n",
      "\n"
     ]
    },
    {
     "name": "stderr",
     "output_type": "stream",
     "text": [
      "train loss: 0.166: 100%|██████████| 482/482 [00:02<00:00, 237.59it/s]\n",
      "val loss: 0.180: 100%|██████████| 121/121 [00:00<00:00, 829.67it/s]\n"
     ]
    },
    {
     "name": "stdout",
     "output_type": "stream",
     "text": [
      "Weight saved: epoch 23\n",
      "Epoch 23\tTrain Loss: 0.180  Val Loss: 0.182\n",
      "\n"
     ]
    },
    {
     "name": "stderr",
     "output_type": "stream",
     "text": [
      "train loss: 0.167: 100%|██████████| 482/482 [00:01<00:00, 244.31it/s]\n",
      "val loss: 0.178: 100%|██████████| 121/121 [00:00<00:00, 834.40it/s]\n"
     ]
    },
    {
     "name": "stdout",
     "output_type": "stream",
     "text": [
      "Weight saved: epoch 24\n",
      "Epoch 24\tTrain Loss: 0.177  Val Loss: 0.180\n",
      "\n"
     ]
    },
    {
     "name": "stderr",
     "output_type": "stream",
     "text": [
      "train loss: 0.190: 100%|██████████| 482/482 [00:01<00:00, 242.28it/s]\n",
      "val loss: 0.175: 100%|██████████| 121/121 [00:00<00:00, 833.44it/s]\n"
     ]
    },
    {
     "name": "stdout",
     "output_type": "stream",
     "text": [
      "Weight saved: epoch 25\n",
      "Epoch 25\tTrain Loss: 0.175  Val Loss: 0.178\n",
      "\n"
     ]
    },
    {
     "name": "stderr",
     "output_type": "stream",
     "text": [
      "train loss: 0.139: 100%|██████████| 482/482 [00:02<00:00, 237.71it/s]\n",
      "val loss: 0.174: 100%|██████████| 121/121 [00:00<00:00, 866.96it/s]\n"
     ]
    },
    {
     "name": "stdout",
     "output_type": "stream",
     "text": [
      "Weight saved: epoch 26\n",
      "Epoch 26\tTrain Loss: 0.173  Val Loss: 0.176\n",
      "\n"
     ]
    },
    {
     "name": "stderr",
     "output_type": "stream",
     "text": [
      "train loss: 0.182: 100%|██████████| 482/482 [00:01<00:00, 241.52it/s]\n",
      "val loss: 0.172: 100%|██████████| 121/121 [00:00<00:00, 895.43it/s]\n"
     ]
    },
    {
     "name": "stdout",
     "output_type": "stream",
     "text": [
      "Weight saved: epoch 27\n",
      "Epoch 27\tTrain Loss: 0.171  Val Loss: 0.174\n",
      "\n"
     ]
    },
    {
     "name": "stderr",
     "output_type": "stream",
     "text": [
      "train loss: 0.161: 100%|██████████| 482/482 [00:02<00:00, 232.95it/s]\n",
      "val loss: 0.170: 100%|██████████| 121/121 [00:00<00:00, 801.21it/s]\n"
     ]
    },
    {
     "name": "stdout",
     "output_type": "stream",
     "text": [
      "Weight saved: epoch 28\n",
      "Epoch 28\tTrain Loss: 0.168  Val Loss: 0.172\n",
      "\n"
     ]
    },
    {
     "name": "stderr",
     "output_type": "stream",
     "text": [
      "train loss: 0.192: 100%|██████████| 482/482 [00:01<00:00, 242.15it/s]\n",
      "val loss: 0.168: 100%|██████████| 121/121 [00:00<00:00, 874.18it/s]\n"
     ]
    },
    {
     "name": "stdout",
     "output_type": "stream",
     "text": [
      "Weight saved: epoch 29\n",
      "Epoch 29\tTrain Loss: 0.167  Val Loss: 0.170\n",
      "\n"
     ]
    },
    {
     "name": "stderr",
     "output_type": "stream",
     "text": [
      "train loss: 0.152: 100%|██████████| 482/482 [00:02<00:00, 237.83it/s]\n",
      "val loss: 0.167: 100%|██████████| 121/121 [00:00<00:00, 821.42it/s]\n"
     ]
    },
    {
     "name": "stdout",
     "output_type": "stream",
     "text": [
      "Weight saved: epoch 30\n",
      "Epoch 30\tTrain Loss: 0.165  Val Loss: 0.169\n",
      "\n"
     ]
    },
    {
     "name": "stderr",
     "output_type": "stream",
     "text": [
      "train loss: 0.187: 100%|██████████| 482/482 [00:01<00:00, 242.81it/s]\n",
      "val loss: 0.164: 100%|██████████| 121/121 [00:00<00:00, 838.28it/s]\n"
     ]
    },
    {
     "name": "stdout",
     "output_type": "stream",
     "text": [
      "Weight saved: epoch 31\n",
      "Epoch 31\tTrain Loss: 0.163  Val Loss: 0.167\n",
      "\n"
     ]
    },
    {
     "name": "stderr",
     "output_type": "stream",
     "text": [
      "train loss: 0.188: 100%|██████████| 482/482 [00:01<00:00, 242.57it/s]\n",
      "val loss: 0.163: 100%|██████████| 121/121 [00:00<00:00, 893.62it/s]\n"
     ]
    },
    {
     "name": "stdout",
     "output_type": "stream",
     "text": [
      "Weight saved: epoch 32\n",
      "Epoch 32\tTrain Loss: 0.161  Val Loss: 0.165\n",
      "\n"
     ]
    },
    {
     "name": "stderr",
     "output_type": "stream",
     "text": [
      "train loss: 0.172: 100%|██████████| 482/482 [00:01<00:00, 244.37it/s]\n",
      "val loss: 0.161: 100%|██████████| 121/121 [00:00<00:00, 822.52it/s]\n"
     ]
    },
    {
     "name": "stdout",
     "output_type": "stream",
     "text": [
      "Weight saved: epoch 33\n",
      "Epoch 33\tTrain Loss: 0.160  Val Loss: 0.164\n",
      "\n"
     ]
    },
    {
     "name": "stderr",
     "output_type": "stream",
     "text": [
      "train loss: 0.175: 100%|██████████| 482/482 [00:02<00:00, 240.09it/s]\n",
      "val loss: 0.159: 100%|██████████| 121/121 [00:00<00:00, 858.00it/s]\n"
     ]
    },
    {
     "name": "stdout",
     "output_type": "stream",
     "text": [
      "Weight saved: epoch 34\n",
      "Epoch 34\tTrain Loss: 0.158  Val Loss: 0.163\n",
      "\n"
     ]
    },
    {
     "name": "stderr",
     "output_type": "stream",
     "text": [
      "train loss: 0.168: 100%|██████████| 482/482 [00:02<00:00, 231.39it/s]\n",
      "val loss: 0.158: 100%|██████████| 121/121 [00:00<00:00, 807.02it/s]\n"
     ]
    },
    {
     "name": "stdout",
     "output_type": "stream",
     "text": [
      "Weight saved: epoch 35\n",
      "Epoch 35\tTrain Loss: 0.157  Val Loss: 0.161\n",
      "\n"
     ]
    },
    {
     "name": "stderr",
     "output_type": "stream",
     "text": [
      "train loss: 0.121: 100%|██████████| 482/482 [00:02<00:00, 235.85it/s]\n",
      "val loss: 0.157: 100%|██████████| 121/121 [00:00<00:00, 803.27it/s]\n"
     ]
    },
    {
     "name": "stdout",
     "output_type": "stream",
     "text": [
      "Weight saved: epoch 36\n",
      "Epoch 36\tTrain Loss: 0.156  Val Loss: 0.160\n",
      "\n"
     ]
    },
    {
     "name": "stderr",
     "output_type": "stream",
     "text": [
      "train loss: 0.172: 100%|██████████| 482/482 [00:02<00:00, 236.63it/s]\n",
      "val loss: 0.156: 100%|██████████| 121/121 [00:00<00:00, 810.47it/s]\n"
     ]
    },
    {
     "name": "stdout",
     "output_type": "stream",
     "text": [
      "Weight saved: epoch 37\n",
      "Epoch 37\tTrain Loss: 0.154  Val Loss: 0.159\n",
      "\n"
     ]
    },
    {
     "name": "stderr",
     "output_type": "stream",
     "text": [
      "train loss: 0.154: 100%|██████████| 482/482 [00:02<00:00, 232.29it/s]\n",
      "val loss: 0.154: 100%|██████████| 121/121 [00:00<00:00, 778.65it/s]\n"
     ]
    },
    {
     "name": "stdout",
     "output_type": "stream",
     "text": [
      "Weight saved: epoch 38\n",
      "Epoch 38\tTrain Loss: 0.153  Val Loss: 0.158\n",
      "\n"
     ]
    },
    {
     "name": "stderr",
     "output_type": "stream",
     "text": [
      "train loss: 0.181: 100%|██████████| 482/482 [00:02<00:00, 235.98it/s]\n",
      "val loss: 0.154: 100%|██████████| 121/121 [00:00<00:00, 833.73it/s]\n"
     ]
    },
    {
     "name": "stdout",
     "output_type": "stream",
     "text": [
      "Weight saved: epoch 39\n",
      "Epoch 39\tTrain Loss: 0.152  Val Loss: 0.157\n",
      "\n"
     ]
    },
    {
     "name": "stderr",
     "output_type": "stream",
     "text": [
      "train loss: 0.116: 100%|██████████| 482/482 [00:02<00:00, 231.76it/s]\n",
      "val loss: 0.152: 100%|██████████| 121/121 [00:00<00:00, 847.64it/s]\n"
     ]
    },
    {
     "name": "stdout",
     "output_type": "stream",
     "text": [
      "Weight saved: epoch 40\n",
      "Epoch 40\tTrain Loss: 0.151  Val Loss: 0.155\n",
      "\n"
     ]
    },
    {
     "name": "stderr",
     "output_type": "stream",
     "text": [
      "train loss: 0.184: 100%|██████████| 482/482 [00:02<00:00, 230.50it/s]\n",
      "val loss: 0.151: 100%|██████████| 121/121 [00:00<00:00, 836.41it/s]\n"
     ]
    },
    {
     "name": "stdout",
     "output_type": "stream",
     "text": [
      "Weight saved: epoch 41\n",
      "Epoch 41\tTrain Loss: 0.149  Val Loss: 0.155\n",
      "\n"
     ]
    },
    {
     "name": "stderr",
     "output_type": "stream",
     "text": [
      "train loss: 0.147: 100%|██████████| 482/482 [00:01<00:00, 241.86it/s]\n",
      "val loss: 0.151: 100%|██████████| 121/121 [00:00<00:00, 840.94it/s]\n"
     ]
    },
    {
     "name": "stdout",
     "output_type": "stream",
     "text": [
      "Weight saved: epoch 42\n",
      "Epoch 42\tTrain Loss: 0.148  Val Loss: 0.154\n",
      "\n"
     ]
    },
    {
     "name": "stderr",
     "output_type": "stream",
     "text": [
      "train loss: 0.137: 100%|██████████| 482/482 [00:02<00:00, 235.12it/s]\n",
      "val loss: 0.150: 100%|██████████| 121/121 [00:00<00:00, 790.18it/s]\n"
     ]
    },
    {
     "name": "stdout",
     "output_type": "stream",
     "text": [
      "Weight saved: epoch 43\n",
      "Epoch 43\tTrain Loss: 0.147  Val Loss: 0.153\n",
      "\n"
     ]
    },
    {
     "name": "stderr",
     "output_type": "stream",
     "text": [
      "train loss: 0.123: 100%|██████████| 482/482 [00:02<00:00, 233.43it/s]\n",
      "val loss: 0.149: 100%|██████████| 121/121 [00:00<00:00, 842.01it/s]\n"
     ]
    },
    {
     "name": "stdout",
     "output_type": "stream",
     "text": [
      "Weight saved: epoch 44\n",
      "Epoch 44\tTrain Loss: 0.146  Val Loss: 0.152\n",
      "\n"
     ]
    },
    {
     "name": "stderr",
     "output_type": "stream",
     "text": [
      "train loss: 0.127: 100%|██████████| 482/482 [00:02<00:00, 235.92it/s]\n",
      "val loss: 0.147: 100%|██████████| 121/121 [00:00<00:00, 839.27it/s]\n"
     ]
    },
    {
     "name": "stdout",
     "output_type": "stream",
     "text": [
      "Weight saved: epoch 45\n",
      "Epoch 45\tTrain Loss: 0.145  Val Loss: 0.151\n",
      "\n"
     ]
    },
    {
     "name": "stderr",
     "output_type": "stream",
     "text": [
      "train loss: 0.130: 100%|██████████| 482/482 [00:02<00:00, 234.79it/s]\n",
      "val loss: 0.147: 100%|██████████| 121/121 [00:00<00:00, 860.58it/s]\n"
     ]
    },
    {
     "name": "stdout",
     "output_type": "stream",
     "text": [
      "Weight saved: epoch 46\n",
      "Epoch 46\tTrain Loss: 0.144  Val Loss: 0.150\n",
      "\n"
     ]
    },
    {
     "name": "stderr",
     "output_type": "stream",
     "text": [
      "train loss: 0.154: 100%|██████████| 482/482 [00:02<00:00, 236.85it/s]\n",
      "val loss: 0.146: 100%|██████████| 121/121 [00:00<00:00, 861.12it/s]\n"
     ]
    },
    {
     "name": "stdout",
     "output_type": "stream",
     "text": [
      "Weight saved: epoch 47\n",
      "Epoch 47\tTrain Loss: 0.144  Val Loss: 0.149\n",
      "\n"
     ]
    },
    {
     "name": "stderr",
     "output_type": "stream",
     "text": [
      "train loss: 0.164: 100%|██████████| 482/482 [00:02<00:00, 237.67it/s]\n",
      "val loss: 0.145: 100%|██████████| 121/121 [00:00<00:00, 793.03it/s]\n"
     ]
    },
    {
     "name": "stdout",
     "output_type": "stream",
     "text": [
      "Weight saved: epoch 48\n",
      "Epoch 48\tTrain Loss: 0.143  Val Loss: 0.149\n",
      "\n"
     ]
    },
    {
     "name": "stderr",
     "output_type": "stream",
     "text": [
      "train loss: 0.131: 100%|██████████| 482/482 [00:02<00:00, 240.61it/s]\n",
      "val loss: 0.144: 100%|██████████| 121/121 [00:00<00:00, 806.55it/s]\n"
     ]
    },
    {
     "name": "stdout",
     "output_type": "stream",
     "text": [
      "Weight saved: epoch 49\n",
      "Epoch 49\tTrain Loss: 0.142  Val Loss: 0.149\n",
      "\n"
     ]
    },
    {
     "name": "stderr",
     "output_type": "stream",
     "text": [
      "train loss: 0.141: 100%|██████████| 482/482 [00:01<00:00, 242.95it/s]\n",
      "val loss: 0.144: 100%|██████████| 121/121 [00:00<00:00, 810.52it/s]\n"
     ]
    },
    {
     "name": "stdout",
     "output_type": "stream",
     "text": [
      "Weight saved: epoch 50\n",
      "Epoch 50\tTrain Loss: 0.141  Val Loss: 0.148\n",
      "\n"
     ]
    },
    {
     "name": "stderr",
     "output_type": "stream",
     "text": [
      "train loss: 0.140: 100%|██████████| 482/482 [00:02<00:00, 238.20it/s]\n",
      "val loss: 0.143: 100%|██████████| 121/121 [00:00<00:00, 878.25it/s]\n"
     ]
    },
    {
     "name": "stdout",
     "output_type": "stream",
     "text": [
      "Weight saved: epoch 51\n",
      "Epoch 51\tTrain Loss: 0.140  Val Loss: 0.147\n",
      "\n"
     ]
    },
    {
     "name": "stderr",
     "output_type": "stream",
     "text": [
      "train loss: 0.139: 100%|██████████| 482/482 [00:01<00:00, 241.64it/s]\n",
      "val loss: 0.142: 100%|██████████| 121/121 [00:00<00:00, 839.94it/s]\n"
     ]
    },
    {
     "name": "stdout",
     "output_type": "stream",
     "text": [
      "Weight saved: epoch 52\n",
      "Epoch 52\tTrain Loss: 0.140  Val Loss: 0.146\n",
      "\n"
     ]
    },
    {
     "name": "stderr",
     "output_type": "stream",
     "text": [
      "train loss: 0.120: 100%|██████████| 482/482 [00:02<00:00, 239.33it/s]\n",
      "val loss: 0.142: 100%|██████████| 121/121 [00:00<00:00, 829.25it/s]\n"
     ]
    },
    {
     "name": "stdout",
     "output_type": "stream",
     "text": [
      "Weight saved: epoch 53\n",
      "Epoch 53\tTrain Loss: 0.139  Val Loss: 0.146\n",
      "\n"
     ]
    },
    {
     "name": "stderr",
     "output_type": "stream",
     "text": [
      "train loss: 0.139: 100%|██████████| 482/482 [00:02<00:00, 239.45it/s]\n",
      "val loss: 0.141: 100%|██████████| 121/121 [00:00<00:00, 832.32it/s]\n"
     ]
    },
    {
     "name": "stdout",
     "output_type": "stream",
     "text": [
      "Weight saved: epoch 54\n",
      "Epoch 54\tTrain Loss: 0.138  Val Loss: 0.145\n",
      "\n"
     ]
    },
    {
     "name": "stderr",
     "output_type": "stream",
     "text": [
      "train loss: 0.151: 100%|██████████| 482/482 [00:02<00:00, 238.68it/s]\n",
      "val loss: 0.140: 100%|██████████| 121/121 [00:00<00:00, 822.78it/s]\n"
     ]
    },
    {
     "name": "stdout",
     "output_type": "stream",
     "text": [
      "Weight saved: epoch 55\n",
      "Epoch 55\tTrain Loss: 0.137  Val Loss: 0.145\n",
      "\n"
     ]
    },
    {
     "name": "stderr",
     "output_type": "stream",
     "text": [
      "train loss: 0.158: 100%|██████████| 482/482 [00:02<00:00, 238.26it/s]\n",
      "val loss: 0.140: 100%|██████████| 121/121 [00:00<00:00, 815.00it/s]\n"
     ]
    },
    {
     "name": "stdout",
     "output_type": "stream",
     "text": [
      "Weight saved: epoch 56\n",
      "Epoch 56\tTrain Loss: 0.137  Val Loss: 0.144\n",
      "\n"
     ]
    },
    {
     "name": "stderr",
     "output_type": "stream",
     "text": [
      "train loss: 0.115: 100%|██████████| 482/482 [00:01<00:00, 242.06it/s]\n",
      "val loss: 0.138: 100%|██████████| 121/121 [00:00<00:00, 822.11it/s]\n"
     ]
    },
    {
     "name": "stdout",
     "output_type": "stream",
     "text": [
      "Weight saved: epoch 57\n",
      "Epoch 57\tTrain Loss: 0.136  Val Loss: 0.143\n",
      "\n"
     ]
    },
    {
     "name": "stderr",
     "output_type": "stream",
     "text": [
      "train loss: 0.122: 100%|██████████| 482/482 [00:02<00:00, 234.01it/s]\n",
      "val loss: 0.138: 100%|██████████| 121/121 [00:00<00:00, 836.73it/s]\n"
     ]
    },
    {
     "name": "stdout",
     "output_type": "stream",
     "text": [
      "Weight saved: epoch 58\n",
      "Epoch 58\tTrain Loss: 0.135  Val Loss: 0.143\n",
      "\n"
     ]
    },
    {
     "name": "stderr",
     "output_type": "stream",
     "text": [
      "train loss: 0.143: 100%|██████████| 482/482 [00:02<00:00, 236.84it/s]\n",
      "val loss: 0.137: 100%|██████████| 121/121 [00:00<00:00, 749.43it/s]\n"
     ]
    },
    {
     "name": "stdout",
     "output_type": "stream",
     "text": [
      "Weight saved: epoch 59\n",
      "Epoch 59\tTrain Loss: 0.135  Val Loss: 0.142\n",
      "\n"
     ]
    },
    {
     "name": "stderr",
     "output_type": "stream",
     "text": [
      "train loss: 0.138: 100%|██████████| 482/482 [00:02<00:00, 230.66it/s]\n",
      "val loss: 0.137: 100%|██████████| 121/121 [00:00<00:00, 809.08it/s]\n"
     ]
    },
    {
     "name": "stdout",
     "output_type": "stream",
     "text": [
      "Weight saved: epoch 60\n",
      "Epoch 60\tTrain Loss: 0.134  Val Loss: 0.142\n",
      "\n"
     ]
    },
    {
     "name": "stderr",
     "output_type": "stream",
     "text": [
      "train loss: 0.111: 100%|██████████| 482/482 [00:02<00:00, 220.89it/s]\n",
      "val loss: 0.137: 100%|██████████| 121/121 [00:00<00:00, 767.77it/s]\n"
     ]
    },
    {
     "name": "stdout",
     "output_type": "stream",
     "text": [
      "Weight saved: epoch 61\n",
      "Epoch 61\tTrain Loss: 0.134  Val Loss: 0.142\n",
      "\n"
     ]
    },
    {
     "name": "stderr",
     "output_type": "stream",
     "text": [
      "train loss: 0.121: 100%|██████████| 482/482 [00:02<00:00, 230.85it/s]\n",
      "val loss: 0.135: 100%|██████████| 121/121 [00:00<00:00, 794.52it/s]\n"
     ]
    },
    {
     "name": "stdout",
     "output_type": "stream",
     "text": [
      "Weight saved: epoch 62\n",
      "Epoch 62\tTrain Loss: 0.133  Val Loss: 0.141\n",
      "\n"
     ]
    },
    {
     "name": "stderr",
     "output_type": "stream",
     "text": [
      "train loss: 0.155: 100%|██████████| 482/482 [00:02<00:00, 230.35it/s]\n",
      "val loss: 0.136: 100%|██████████| 121/121 [00:00<00:00, 763.06it/s]\n"
     ]
    },
    {
     "name": "stdout",
     "output_type": "stream",
     "text": [
      "Weight saved: epoch 63\n",
      "Epoch 63\tTrain Loss: 0.133  Val Loss: 0.140\n",
      "\n"
     ]
    },
    {
     "name": "stderr",
     "output_type": "stream",
     "text": [
      "train loss: 0.129: 100%|██████████| 482/482 [00:02<00:00, 229.22it/s]\n",
      "val loss: 0.136: 100%|██████████| 121/121 [00:00<00:00, 836.72it/s]\n"
     ]
    },
    {
     "name": "stdout",
     "output_type": "stream",
     "text": [
      "Weight saved: epoch 64\n",
      "Epoch 64\tTrain Loss: 0.132  Val Loss: 0.140\n",
      "\n"
     ]
    },
    {
     "name": "stderr",
     "output_type": "stream",
     "text": [
      "train loss: 0.161: 100%|██████████| 482/482 [00:02<00:00, 238.16it/s]\n",
      "val loss: 0.135: 100%|██████████| 121/121 [00:00<00:00, 819.67it/s]\n"
     ]
    },
    {
     "name": "stdout",
     "output_type": "stream",
     "text": [
      "Weight saved: epoch 65\n",
      "Epoch 65\tTrain Loss: 0.132  Val Loss: 0.140\n",
      "\n"
     ]
    },
    {
     "name": "stderr",
     "output_type": "stream",
     "text": [
      "train loss: 0.141: 100%|██████████| 482/482 [00:02<00:00, 238.04it/s]\n",
      "val loss: 0.135: 100%|██████████| 121/121 [00:00<00:00, 798.46it/s]\n"
     ]
    },
    {
     "name": "stdout",
     "output_type": "stream",
     "text": [
      "Weight saved: epoch 66\n",
      "Epoch 66\tTrain Loss: 0.131  Val Loss: 0.140\n",
      "\n"
     ]
    },
    {
     "name": "stderr",
     "output_type": "stream",
     "text": [
      "train loss: 0.126: 100%|██████████| 482/482 [00:02<00:00, 237.20it/s]\n",
      "val loss: 0.134: 100%|██████████| 121/121 [00:00<00:00, 715.24it/s]\n"
     ]
    },
    {
     "name": "stdout",
     "output_type": "stream",
     "text": [
      "Weight saved: epoch 67\n",
      "Epoch 67\tTrain Loss: 0.131  Val Loss: 0.139\n",
      "\n"
     ]
    },
    {
     "name": "stderr",
     "output_type": "stream",
     "text": [
      "train loss: 0.132: 100%|██████████| 482/482 [00:02<00:00, 235.66it/s]\n",
      "val loss: 0.135: 100%|██████████| 121/121 [00:00<00:00, 857.91it/s]\n"
     ]
    },
    {
     "name": "stdout",
     "output_type": "stream",
     "text": [
      "Weight saved: epoch 68\n",
      "Epoch 68\tTrain Loss: 0.131  Val Loss: 0.139\n",
      "\n"
     ]
    },
    {
     "name": "stderr",
     "output_type": "stream",
     "text": [
      "train loss: 0.107: 100%|██████████| 482/482 [00:02<00:00, 237.46it/s]\n",
      "val loss: 0.134: 100%|██████████| 121/121 [00:00<00:00, 849.15it/s]\n"
     ]
    },
    {
     "name": "stdout",
     "output_type": "stream",
     "text": [
      "Weight saved: epoch 69\n",
      "Epoch 69\tTrain Loss: 0.130  Val Loss: 0.138\n",
      "\n"
     ]
    },
    {
     "name": "stderr",
     "output_type": "stream",
     "text": [
      "train loss: 0.088: 100%|██████████| 482/482 [00:02<00:00, 230.99it/s]\n",
      "val loss: 0.134: 100%|██████████| 121/121 [00:00<00:00, 815.94it/s]\n"
     ]
    },
    {
     "name": "stdout",
     "output_type": "stream",
     "text": [
      "Epoch 70\tTrain Loss: 0.130  Val Loss: 0.139\n",
      "\n"
     ]
    },
    {
     "name": "stderr",
     "output_type": "stream",
     "text": [
      "train loss: 0.098: 100%|██████████| 482/482 [00:02<00:00, 237.40it/s]\n",
      "val loss: 0.132: 100%|██████████| 121/121 [00:00<00:00, 764.35it/s]\n"
     ]
    },
    {
     "name": "stdout",
     "output_type": "stream",
     "text": [
      "Weight saved: epoch 71\n",
      "Epoch 71\tTrain Loss: 0.129  Val Loss: 0.138\n",
      "\n"
     ]
    },
    {
     "name": "stderr",
     "output_type": "stream",
     "text": [
      "train loss: 0.133: 100%|██████████| 482/482 [00:02<00:00, 238.62it/s]\n",
      "val loss: 0.133: 100%|██████████| 121/121 [00:00<00:00, 834.34it/s]\n"
     ]
    },
    {
     "name": "stdout",
     "output_type": "stream",
     "text": [
      "Epoch 72\tTrain Loss: 0.129  Val Loss: 0.138\n",
      "\n"
     ]
    },
    {
     "name": "stderr",
     "output_type": "stream",
     "text": [
      "train loss: 0.142: 100%|██████████| 482/482 [00:02<00:00, 239.83it/s]\n",
      "val loss: 0.132: 100%|██████████| 121/121 [00:00<00:00, 789.32it/s]\n"
     ]
    },
    {
     "name": "stdout",
     "output_type": "stream",
     "text": [
      "Epoch 73\tTrain Loss: 0.129  Val Loss: 0.138\n",
      "\n"
     ]
    },
    {
     "name": "stderr",
     "output_type": "stream",
     "text": [
      "train loss: 0.096: 100%|██████████| 482/482 [00:02<00:00, 237.16it/s]\n",
      "val loss: 0.132: 100%|██████████| 121/121 [00:00<00:00, 853.10it/s]\n"
     ]
    },
    {
     "name": "stdout",
     "output_type": "stream",
     "text": [
      "Weight saved: epoch 74\n",
      "Epoch 74\tTrain Loss: 0.128  Val Loss: 0.137\n",
      "\n"
     ]
    },
    {
     "name": "stderr",
     "output_type": "stream",
     "text": [
      "train loss: 0.126: 100%|██████████| 482/482 [00:02<00:00, 237.01it/s]\n",
      "val loss: 0.132: 100%|██████████| 121/121 [00:00<00:00, 811.39it/s]\n"
     ]
    },
    {
     "name": "stdout",
     "output_type": "stream",
     "text": [
      "Weight saved: epoch 75\n",
      "Epoch 75\tTrain Loss: 0.128  Val Loss: 0.137\n",
      "\n"
     ]
    },
    {
     "name": "stderr",
     "output_type": "stream",
     "text": [
      "train loss: 0.102: 100%|██████████| 482/482 [00:02<00:00, 231.44it/s]\n",
      "val loss: 0.132: 100%|██████████| 121/121 [00:00<00:00, 824.99it/s]\n"
     ]
    },
    {
     "name": "stdout",
     "output_type": "stream",
     "text": [
      "Weight saved: epoch 76\n",
      "Epoch 76\tTrain Loss: 0.128  Val Loss: 0.137\n",
      "\n"
     ]
    },
    {
     "name": "stderr",
     "output_type": "stream",
     "text": [
      "train loss: 0.101: 100%|██████████| 482/482 [00:02<00:00, 235.72it/s]\n",
      "val loss: 0.132: 100%|██████████| 121/121 [00:00<00:00, 834.18it/s]\n"
     ]
    },
    {
     "name": "stdout",
     "output_type": "stream",
     "text": [
      "Epoch 77\tTrain Loss: 0.128  Val Loss: 0.137\n",
      "\n"
     ]
    },
    {
     "name": "stderr",
     "output_type": "stream",
     "text": [
      "train loss: 0.144: 100%|██████████| 482/482 [00:02<00:00, 237.42it/s]\n",
      "val loss: 0.132: 100%|██████████| 121/121 [00:00<00:00, 799.46it/s]\n"
     ]
    },
    {
     "name": "stdout",
     "output_type": "stream",
     "text": [
      "Weight saved: epoch 78\n",
      "Epoch 78\tTrain Loss: 0.127  Val Loss: 0.137\n",
      "\n"
     ]
    },
    {
     "name": "stderr",
     "output_type": "stream",
     "text": [
      "train loss: 0.115: 100%|██████████| 482/482 [00:02<00:00, 235.66it/s]\n",
      "val loss: 0.132: 100%|██████████| 121/121 [00:00<00:00, 892.98it/s]\n"
     ]
    },
    {
     "name": "stdout",
     "output_type": "stream",
     "text": [
      "Weight saved: epoch 79\n",
      "Epoch 79\tTrain Loss: 0.127  Val Loss: 0.136\n",
      "\n"
     ]
    },
    {
     "name": "stderr",
     "output_type": "stream",
     "text": [
      "train loss: 0.165: 100%|██████████| 482/482 [00:02<00:00, 237.07it/s]\n",
      "val loss: 0.132: 100%|██████████| 121/121 [00:00<00:00, 831.46it/s]\n"
     ]
    },
    {
     "name": "stdout",
     "output_type": "stream",
     "text": [
      "Epoch 80\tTrain Loss: 0.127  Val Loss: 0.137\n",
      "\n"
     ]
    },
    {
     "name": "stderr",
     "output_type": "stream",
     "text": [
      "train loss: 0.105: 100%|██████████| 482/482 [00:02<00:00, 236.60it/s]\n",
      "val loss: 0.130: 100%|██████████| 121/121 [00:00<00:00, 859.51it/s]\n"
     ]
    },
    {
     "name": "stdout",
     "output_type": "stream",
     "text": [
      "Weight saved: epoch 81\n",
      "Epoch 81\tTrain Loss: 0.126  Val Loss: 0.136\n",
      "\n"
     ]
    },
    {
     "name": "stderr",
     "output_type": "stream",
     "text": [
      "train loss: 0.156: 100%|██████████| 482/482 [00:02<00:00, 234.72it/s]\n",
      "val loss: 0.131: 100%|██████████| 121/121 [00:00<00:00, 833.14it/s]\n"
     ]
    },
    {
     "name": "stdout",
     "output_type": "stream",
     "text": [
      "Epoch 82\tTrain Loss: 0.126  Val Loss: 0.136\n",
      "\n"
     ]
    },
    {
     "name": "stderr",
     "output_type": "stream",
     "text": [
      "train loss: 0.115: 100%|██████████| 482/482 [00:02<00:00, 235.99it/s]\n",
      "val loss: 0.130: 100%|██████████| 121/121 [00:00<00:00, 849.23it/s]\n"
     ]
    },
    {
     "name": "stdout",
     "output_type": "stream",
     "text": [
      "Weight saved: epoch 83\n",
      "Epoch 83\tTrain Loss: 0.126  Val Loss: 0.135\n",
      "\n"
     ]
    },
    {
     "name": "stderr",
     "output_type": "stream",
     "text": [
      "train loss: 0.132: 100%|██████████| 482/482 [00:02<00:00, 235.38it/s]\n",
      "val loss: 0.130: 100%|██████████| 121/121 [00:00<00:00, 863.89it/s]\n"
     ]
    },
    {
     "name": "stdout",
     "output_type": "stream",
     "text": [
      "Epoch 84\tTrain Loss: 0.126  Val Loss: 0.135\n",
      "\n"
     ]
    },
    {
     "name": "stderr",
     "output_type": "stream",
     "text": [
      "train loss: 0.121: 100%|██████████| 482/482 [00:02<00:00, 235.36it/s]\n",
      "val loss: 0.131: 100%|██████████| 121/121 [00:00<00:00, 852.26it/s]\n"
     ]
    },
    {
     "name": "stdout",
     "output_type": "stream",
     "text": [
      "Epoch 85\tTrain Loss: 0.125  Val Loss: 0.135\n",
      "\n"
     ]
    },
    {
     "name": "stderr",
     "output_type": "stream",
     "text": [
      "train loss: 0.092: 100%|██████████| 482/482 [00:02<00:00, 237.68it/s]\n",
      "val loss: 0.130: 100%|██████████| 121/121 [00:00<00:00, 812.26it/s]\n"
     ]
    },
    {
     "name": "stdout",
     "output_type": "stream",
     "text": [
      "Weight saved: epoch 86\n",
      "Epoch 86\tTrain Loss: 0.125  Val Loss: 0.135\n",
      "\n"
     ]
    },
    {
     "name": "stderr",
     "output_type": "stream",
     "text": [
      "train loss: 0.146: 100%|██████████| 482/482 [00:02<00:00, 235.10it/s]\n",
      "val loss: 0.131: 100%|██████████| 121/121 [00:00<00:00, 882.62it/s]\n"
     ]
    },
    {
     "name": "stdout",
     "output_type": "stream",
     "text": [
      "Epoch 87\tTrain Loss: 0.125  Val Loss: 0.135\n",
      "\n"
     ]
    },
    {
     "name": "stderr",
     "output_type": "stream",
     "text": [
      "train loss: 0.120: 100%|██████████| 482/482 [00:02<00:00, 236.56it/s]\n",
      "val loss: 0.130: 100%|██████████| 121/121 [00:00<00:00, 833.22it/s]\n"
     ]
    },
    {
     "name": "stdout",
     "output_type": "stream",
     "text": [
      "Weight saved: epoch 88\n",
      "Epoch 88\tTrain Loss: 0.125  Val Loss: 0.134\n",
      "\n"
     ]
    },
    {
     "name": "stderr",
     "output_type": "stream",
     "text": [
      "train loss: 0.142: 100%|██████████| 482/482 [00:02<00:00, 234.77it/s]\n",
      "val loss: 0.130: 100%|██████████| 121/121 [00:00<00:00, 732.43it/s]\n"
     ]
    },
    {
     "name": "stdout",
     "output_type": "stream",
     "text": [
      "Weight saved: epoch 89\n",
      "Epoch 89\tTrain Loss: 0.124  Val Loss: 0.134\n",
      "\n"
     ]
    },
    {
     "name": "stderr",
     "output_type": "stream",
     "text": [
      "train loss: 0.120: 100%|██████████| 482/482 [00:02<00:00, 236.36it/s]\n",
      "val loss: 0.130: 100%|██████████| 121/121 [00:00<00:00, 842.38it/s]\n"
     ]
    },
    {
     "name": "stdout",
     "output_type": "stream",
     "text": [
      "Epoch 90\tTrain Loss: 0.124  Val Loss: 0.135\n",
      "\n"
     ]
    },
    {
     "name": "stderr",
     "output_type": "stream",
     "text": [
      "train loss: 0.127: 100%|██████████| 482/482 [00:02<00:00, 234.29it/s]\n",
      "val loss: 0.129: 100%|██████████| 121/121 [00:00<00:00, 786.01it/s]\n"
     ]
    },
    {
     "name": "stdout",
     "output_type": "stream",
     "text": [
      "Weight saved: epoch 91\n",
      "Epoch 91\tTrain Loss: 0.124  Val Loss: 0.134\n",
      "\n"
     ]
    },
    {
     "name": "stderr",
     "output_type": "stream",
     "text": [
      "train loss: 0.104: 100%|██████████| 482/482 [00:02<00:00, 235.06it/s]\n",
      "val loss: 0.130: 100%|██████████| 121/121 [00:00<00:00, 823.13it/s]\n"
     ]
    },
    {
     "name": "stdout",
     "output_type": "stream",
     "text": [
      "Epoch 92\tTrain Loss: 0.124  Val Loss: 0.134\n",
      "\n"
     ]
    },
    {
     "name": "stderr",
     "output_type": "stream",
     "text": [
      "train loss: 0.148: 100%|██████████| 482/482 [00:02<00:00, 235.24it/s]\n",
      "val loss: 0.130: 100%|██████████| 121/121 [00:00<00:00, 886.22it/s]\n"
     ]
    },
    {
     "name": "stdout",
     "output_type": "stream",
     "text": [
      "Epoch 93\tTrain Loss: 0.123  Val Loss: 0.134\n",
      "\n"
     ]
    },
    {
     "name": "stderr",
     "output_type": "stream",
     "text": [
      "train loss: 0.108: 100%|██████████| 482/482 [00:02<00:00, 235.87it/s]\n",
      "val loss: 0.129: 100%|██████████| 121/121 [00:00<00:00, 785.47it/s]\n"
     ]
    },
    {
     "name": "stdout",
     "output_type": "stream",
     "text": [
      "Weight saved: epoch 94\n",
      "Epoch 94\tTrain Loss: 0.123  Val Loss: 0.134\n",
      "\n"
     ]
    },
    {
     "name": "stderr",
     "output_type": "stream",
     "text": [
      "train loss: 0.145: 100%|██████████| 482/482 [00:02<00:00, 238.39it/s]\n",
      "val loss: 0.129: 100%|██████████| 121/121 [00:00<00:00, 863.92it/s]\n"
     ]
    },
    {
     "name": "stdout",
     "output_type": "stream",
     "text": [
      "Weight saved: epoch 95\n",
      "Epoch 95\tTrain Loss: 0.123  Val Loss: 0.134\n",
      "\n"
     ]
    },
    {
     "name": "stderr",
     "output_type": "stream",
     "text": [
      "train loss: 0.103: 100%|██████████| 482/482 [00:02<00:00, 238.31it/s]\n",
      "val loss: 0.129: 100%|██████████| 121/121 [00:00<00:00, 790.04it/s]\n"
     ]
    },
    {
     "name": "stdout",
     "output_type": "stream",
     "text": [
      "Weight saved: epoch 96\n",
      "Epoch 96\tTrain Loss: 0.123  Val Loss: 0.133\n",
      "\n"
     ]
    },
    {
     "name": "stderr",
     "output_type": "stream",
     "text": [
      "train loss: 0.113: 100%|██████████| 482/482 [00:02<00:00, 236.72it/s]\n",
      "val loss: 0.129: 100%|██████████| 121/121 [00:00<00:00, 849.64it/s]\n"
     ]
    },
    {
     "name": "stdout",
     "output_type": "stream",
     "text": [
      "Epoch 97\tTrain Loss: 0.123  Val Loss: 0.133\n",
      "\n"
     ]
    },
    {
     "name": "stderr",
     "output_type": "stream",
     "text": [
      "train loss: 0.121: 100%|██████████| 482/482 [00:02<00:00, 234.01it/s]\n",
      "val loss: 0.128: 100%|██████████| 121/121 [00:00<00:00, 883.50it/s]\n"
     ]
    },
    {
     "name": "stdout",
     "output_type": "stream",
     "text": [
      "Weight saved: epoch 98\n",
      "Epoch 98\tTrain Loss: 0.122  Val Loss: 0.133\n",
      "\n"
     ]
    },
    {
     "name": "stderr",
     "output_type": "stream",
     "text": [
      "train loss: 0.115: 100%|██████████| 482/482 [00:02<00:00, 234.50it/s]\n",
      "val loss: 0.129: 100%|██████████| 121/121 [00:00<00:00, 770.27it/s]\n"
     ]
    },
    {
     "name": "stdout",
     "output_type": "stream",
     "text": [
      "Epoch 99\tTrain Loss: 0.122  Val Loss: 0.133\n",
      "\n"
     ]
    },
    {
     "name": "stderr",
     "output_type": "stream",
     "text": [
      "train loss: 0.124: 100%|██████████| 482/482 [00:02<00:00, 232.54it/s]\n",
      "val loss: 0.128: 100%|██████████| 121/121 [00:00<00:00, 792.55it/s]\n"
     ]
    },
    {
     "name": "stdout",
     "output_type": "stream",
     "text": [
      "Epoch 100\tTrain Loss: 0.122  Val Loss: 0.133\n",
      "\n"
     ]
    },
    {
     "name": "stderr",
     "output_type": "stream",
     "text": [
      "train loss: 0.105: 100%|██████████| 482/482 [00:02<00:00, 233.80it/s]\n",
      "val loss: 0.128: 100%|██████████| 121/121 [00:00<00:00, 842.11it/s]\n"
     ]
    },
    {
     "name": "stdout",
     "output_type": "stream",
     "text": [
      "Epoch 101\tTrain Loss: 0.122  Val Loss: 0.133\n",
      "\n"
     ]
    },
    {
     "name": "stderr",
     "output_type": "stream",
     "text": [
      "train loss: 0.128: 100%|██████████| 482/482 [00:02<00:00, 233.82it/s]\n",
      "val loss: 0.128: 100%|██████████| 121/121 [00:00<00:00, 778.31it/s]\n"
     ]
    },
    {
     "name": "stdout",
     "output_type": "stream",
     "text": [
      "Epoch 102\tTrain Loss: 0.121  Val Loss: 0.133\n",
      "\n"
     ]
    },
    {
     "name": "stderr",
     "output_type": "stream",
     "text": [
      "train loss: 0.115: 100%|██████████| 482/482 [00:02<00:00, 234.28it/s]\n",
      "val loss: 0.127: 100%|██████████| 121/121 [00:00<00:00, 863.14it/s]\n"
     ]
    },
    {
     "name": "stdout",
     "output_type": "stream",
     "text": [
      "Weight saved: epoch 103\n",
      "Epoch 103\tTrain Loss: 0.121  Val Loss: 0.133\n",
      "\n"
     ]
    },
    {
     "name": "stderr",
     "output_type": "stream",
     "text": [
      "train loss: 0.128: 100%|██████████| 482/482 [00:02<00:00, 227.43it/s]\n",
      "val loss: 0.128: 100%|██████████| 121/121 [00:00<00:00, 809.01it/s]\n"
     ]
    },
    {
     "name": "stdout",
     "output_type": "stream",
     "text": [
      "Epoch 104\tTrain Loss: 0.121  Val Loss: 0.133\n",
      "\n"
     ]
    },
    {
     "name": "stderr",
     "output_type": "stream",
     "text": [
      "train loss: 0.123: 100%|██████████| 482/482 [00:02<00:00, 239.95it/s]\n",
      "val loss: 0.129: 100%|██████████| 121/121 [00:00<00:00, 846.18it/s]\n"
     ]
    },
    {
     "name": "stdout",
     "output_type": "stream",
     "text": [
      "Epoch 105\tTrain Loss: 0.121  Val Loss: 0.133\n",
      "\n"
     ]
    },
    {
     "name": "stderr",
     "output_type": "stream",
     "text": [
      "train loss: 0.139: 100%|██████████| 482/482 [00:01<00:00, 242.03it/s]\n",
      "val loss: 0.128: 100%|██████████| 121/121 [00:00<00:00, 771.17it/s]\n"
     ]
    },
    {
     "name": "stdout",
     "output_type": "stream",
     "text": [
      "Weight saved: epoch 106\n",
      "Epoch 106\tTrain Loss: 0.121  Val Loss: 0.132\n",
      "\n"
     ]
    },
    {
     "name": "stderr",
     "output_type": "stream",
     "text": [
      "train loss: 0.083: 100%|██████████| 482/482 [00:01<00:00, 243.26it/s]\n",
      "val loss: 0.127: 100%|██████████| 121/121 [00:00<00:00, 874.46it/s]\n"
     ]
    },
    {
     "name": "stdout",
     "output_type": "stream",
     "text": [
      "Weight saved: epoch 107\n",
      "Epoch 107\tTrain Loss: 0.121  Val Loss: 0.132\n",
      "\n"
     ]
    },
    {
     "name": "stderr",
     "output_type": "stream",
     "text": [
      "train loss: 0.130: 100%|██████████| 482/482 [00:02<00:00, 237.75it/s]\n",
      "val loss: 0.128: 100%|██████████| 121/121 [00:00<00:00, 778.29it/s]\n"
     ]
    },
    {
     "name": "stdout",
     "output_type": "stream",
     "text": [
      "Epoch 108\tTrain Loss: 0.120  Val Loss: 0.132\n",
      "\n"
     ]
    },
    {
     "name": "stderr",
     "output_type": "stream",
     "text": [
      "train loss: 0.096: 100%|██████████| 482/482 [00:02<00:00, 231.29it/s]\n",
      "val loss: 0.128: 100%|██████████| 121/121 [00:00<00:00, 857.23it/s]\n"
     ]
    },
    {
     "name": "stdout",
     "output_type": "stream",
     "text": [
      "Epoch 109\tTrain Loss: 0.120  Val Loss: 0.132\n",
      "\n"
     ]
    },
    {
     "name": "stderr",
     "output_type": "stream",
     "text": [
      "train loss: 0.150: 100%|██████████| 482/482 [00:02<00:00, 238.36it/s]\n",
      "val loss: 0.127: 100%|██████████| 121/121 [00:00<00:00, 853.29it/s]\n"
     ]
    },
    {
     "name": "stdout",
     "output_type": "stream",
     "text": [
      "Weight saved: epoch 110\n",
      "Epoch 110\tTrain Loss: 0.120  Val Loss: 0.132\n",
      "\n"
     ]
    },
    {
     "name": "stderr",
     "output_type": "stream",
     "text": [
      "train loss: 0.096: 100%|██████████| 482/482 [00:01<00:00, 243.11it/s]\n",
      "val loss: 0.127: 100%|██████████| 121/121 [00:00<00:00, 885.67it/s]\n"
     ]
    },
    {
     "name": "stdout",
     "output_type": "stream",
     "text": [
      "Epoch 111\tTrain Loss: 0.120  Val Loss: 0.132\n",
      "\n"
     ]
    },
    {
     "name": "stderr",
     "output_type": "stream",
     "text": [
      "train loss: 0.148: 100%|██████████| 482/482 [00:02<00:00, 234.61it/s]\n",
      "val loss: 0.127: 100%|██████████| 121/121 [00:00<00:00, 836.86it/s]\n"
     ]
    },
    {
     "name": "stdout",
     "output_type": "stream",
     "text": [
      "Weight saved: epoch 112\n",
      "Epoch 112\tTrain Loss: 0.120  Val Loss: 0.131\n",
      "\n"
     ]
    },
    {
     "name": "stderr",
     "output_type": "stream",
     "text": [
      "train loss: 0.094: 100%|██████████| 482/482 [00:02<00:00, 238.20it/s]\n",
      "val loss: 0.128: 100%|██████████| 121/121 [00:00<00:00, 850.12it/s]\n"
     ]
    },
    {
     "name": "stdout",
     "output_type": "stream",
     "text": [
      "Epoch 113\tTrain Loss: 0.119  Val Loss: 0.132\n",
      "\n"
     ]
    },
    {
     "name": "stderr",
     "output_type": "stream",
     "text": [
      "train loss: 0.085: 100%|██████████| 482/482 [00:02<00:00, 240.13it/s]\n",
      "val loss: 0.128: 100%|██████████| 121/121 [00:00<00:00, 840.09it/s]\n"
     ]
    },
    {
     "name": "stdout",
     "output_type": "stream",
     "text": [
      "Epoch 114\tTrain Loss: 0.119  Val Loss: 0.132\n",
      "\n"
     ]
    },
    {
     "name": "stderr",
     "output_type": "stream",
     "text": [
      "train loss: 0.106: 100%|██████████| 482/482 [00:02<00:00, 238.29it/s]\n",
      "val loss: 0.127: 100%|██████████| 121/121 [00:00<00:00, 816.07it/s]\n"
     ]
    },
    {
     "name": "stdout",
     "output_type": "stream",
     "text": [
      "Weight saved: epoch 115\n",
      "Epoch 115\tTrain Loss: 0.119  Val Loss: 0.131\n",
      "\n"
     ]
    },
    {
     "name": "stderr",
     "output_type": "stream",
     "text": [
      "train loss: 0.106: 100%|██████████| 482/482 [00:02<00:00, 237.94it/s]\n",
      "val loss: 0.127: 100%|██████████| 121/121 [00:00<00:00, 840.94it/s]\n"
     ]
    },
    {
     "name": "stdout",
     "output_type": "stream",
     "text": [
      "Weight saved: epoch 116\n",
      "Epoch 116\tTrain Loss: 0.119  Val Loss: 0.131\n",
      "\n"
     ]
    },
    {
     "name": "stderr",
     "output_type": "stream",
     "text": [
      "train loss: 0.127: 100%|██████████| 482/482 [00:02<00:00, 237.92it/s]\n",
      "val loss: 0.127: 100%|██████████| 121/121 [00:00<00:00, 794.86it/s]\n"
     ]
    },
    {
     "name": "stdout",
     "output_type": "stream",
     "text": [
      "Epoch 117\tTrain Loss: 0.119  Val Loss: 0.132\n",
      "\n"
     ]
    },
    {
     "name": "stderr",
     "output_type": "stream",
     "text": [
      "train loss: 0.093: 100%|██████████| 482/482 [00:02<00:00, 234.33it/s]\n",
      "val loss: 0.128: 100%|██████████| 121/121 [00:00<00:00, 806.60it/s]\n"
     ]
    },
    {
     "name": "stdout",
     "output_type": "stream",
     "text": [
      "Epoch 118\tTrain Loss: 0.119  Val Loss: 0.132\n",
      "\n"
     ]
    },
    {
     "name": "stderr",
     "output_type": "stream",
     "text": [
      "train loss: 0.102: 100%|██████████| 482/482 [00:02<00:00, 231.65it/s]\n",
      "val loss: 0.127: 100%|██████████| 121/121 [00:00<00:00, 844.81it/s]\n"
     ]
    },
    {
     "name": "stdout",
     "output_type": "stream",
     "text": [
      "Epoch 119\tTrain Loss: 0.119  Val Loss: 0.131\n",
      "\n"
     ]
    },
    {
     "name": "stderr",
     "output_type": "stream",
     "text": [
      "train loss: 0.161: 100%|██████████| 482/482 [00:02<00:00, 240.48it/s]\n",
      "val loss: 0.127: 100%|██████████| 121/121 [00:00<00:00, 821.02it/s]\n"
     ]
    },
    {
     "name": "stdout",
     "output_type": "stream",
     "text": [
      "Epoch 120\tTrain Loss: 0.118  Val Loss: 0.131\n",
      "\n"
     ]
    },
    {
     "name": "stderr",
     "output_type": "stream",
     "text": [
      "train loss: 0.110: 100%|██████████| 482/482 [00:02<00:00, 234.94it/s]\n",
      "val loss: 0.127: 100%|██████████| 121/121 [00:00<00:00, 860.25it/s]\n"
     ]
    },
    {
     "name": "stdout",
     "output_type": "stream",
     "text": [
      "Epoch 121\tTrain Loss: 0.118  Val Loss: 0.131\n",
      "\n"
     ]
    },
    {
     "name": "stderr",
     "output_type": "stream",
     "text": [
      "train loss: 0.110: 100%|██████████| 482/482 [00:02<00:00, 237.39it/s]\n",
      "val loss: 0.127: 100%|██████████| 121/121 [00:00<00:00, 819.90it/s]\n"
     ]
    },
    {
     "name": "stdout",
     "output_type": "stream",
     "text": [
      "Weight saved: epoch 122\n",
      "Epoch 122\tTrain Loss: 0.118  Val Loss: 0.131\n",
      "\n"
     ]
    },
    {
     "name": "stderr",
     "output_type": "stream",
     "text": [
      "train loss: 0.136: 100%|██████████| 482/482 [00:02<00:00, 230.62it/s]\n",
      "val loss: 0.127: 100%|██████████| 121/121 [00:00<00:00, 816.80it/s]\n"
     ]
    },
    {
     "name": "stdout",
     "output_type": "stream",
     "text": [
      "Weight saved: epoch 123\n",
      "Epoch 123\tTrain Loss: 0.118  Val Loss: 0.131\n",
      "\n"
     ]
    },
    {
     "name": "stderr",
     "output_type": "stream",
     "text": [
      "train loss: 0.126: 100%|██████████| 482/482 [00:01<00:00, 242.81it/s]\n",
      "val loss: 0.127: 100%|██████████| 121/121 [00:00<00:00, 864.38it/s]\n"
     ]
    },
    {
     "name": "stdout",
     "output_type": "stream",
     "text": [
      "Weight saved: epoch 124\n",
      "Epoch 124\tTrain Loss: 0.118  Val Loss: 0.131\n",
      "\n"
     ]
    },
    {
     "name": "stderr",
     "output_type": "stream",
     "text": [
      "train loss: 0.129: 100%|██████████| 482/482 [00:01<00:00, 241.65it/s]\n",
      "val loss: 0.127: 100%|██████████| 121/121 [00:00<00:00, 756.87it/s]\n"
     ]
    },
    {
     "name": "stdout",
     "output_type": "stream",
     "text": [
      "Epoch 125\tTrain Loss: 0.118  Val Loss: 0.131\n",
      "\n"
     ]
    },
    {
     "name": "stderr",
     "output_type": "stream",
     "text": [
      "train loss: 0.113: 100%|██████████| 482/482 [00:02<00:00, 235.36it/s]\n",
      "val loss: 0.127: 100%|██████████| 121/121 [00:00<00:00, 878.26it/s]\n"
     ]
    },
    {
     "name": "stdout",
     "output_type": "stream",
     "text": [
      "Epoch 126\tTrain Loss: 0.117  Val Loss: 0.131\n",
      "\n"
     ]
    },
    {
     "name": "stderr",
     "output_type": "stream",
     "text": [
      "train loss: 0.119: 100%|██████████| 482/482 [00:02<00:00, 230.57it/s]\n",
      "val loss: 0.127: 100%|██████████| 121/121 [00:00<00:00, 779.15it/s]\n"
     ]
    },
    {
     "name": "stdout",
     "output_type": "stream",
     "text": [
      "Weight saved: epoch 127\n",
      "Epoch 127\tTrain Loss: 0.117  Val Loss: 0.131\n",
      "\n"
     ]
    },
    {
     "name": "stderr",
     "output_type": "stream",
     "text": [
      "train loss: 0.101: 100%|██████████| 482/482 [00:02<00:00, 237.49it/s]\n",
      "val loss: 0.126: 100%|██████████| 121/121 [00:00<00:00, 832.76it/s]\n"
     ]
    },
    {
     "name": "stdout",
     "output_type": "stream",
     "text": [
      "Weight saved: epoch 128\n",
      "Epoch 128\tTrain Loss: 0.117  Val Loss: 0.130\n",
      "\n"
     ]
    },
    {
     "name": "stderr",
     "output_type": "stream",
     "text": [
      "train loss: 0.108: 100%|██████████| 482/482 [00:02<00:00, 238.69it/s]\n",
      "val loss: 0.127: 100%|██████████| 121/121 [00:00<00:00, 846.69it/s]\n"
     ]
    },
    {
     "name": "stdout",
     "output_type": "stream",
     "text": [
      "Epoch 129\tTrain Loss: 0.117  Val Loss: 0.130\n",
      "\n"
     ]
    },
    {
     "name": "stderr",
     "output_type": "stream",
     "text": [
      "train loss: 0.104: 100%|██████████| 482/482 [00:02<00:00, 240.53it/s]\n",
      "val loss: 0.126: 100%|██████████| 121/121 [00:00<00:00, 845.84it/s]\n"
     ]
    },
    {
     "name": "stdout",
     "output_type": "stream",
     "text": [
      "Epoch 130\tTrain Loss: 0.117  Val Loss: 0.131\n",
      "\n"
     ]
    },
    {
     "name": "stderr",
     "output_type": "stream",
     "text": [
      "train loss: 0.106: 100%|██████████| 482/482 [00:02<00:00, 239.93it/s]\n",
      "val loss: 0.126: 100%|██████████| 121/121 [00:00<00:00, 832.83it/s]\n"
     ]
    },
    {
     "name": "stdout",
     "output_type": "stream",
     "text": [
      "Epoch 131\tTrain Loss: 0.117  Val Loss: 0.130\n",
      "\n"
     ]
    },
    {
     "name": "stderr",
     "output_type": "stream",
     "text": [
      "train loss: 0.115: 100%|██████████| 482/482 [00:02<00:00, 233.45it/s]\n",
      "val loss: 0.126: 100%|██████████| 121/121 [00:00<00:00, 832.07it/s]\n"
     ]
    },
    {
     "name": "stdout",
     "output_type": "stream",
     "text": [
      "Epoch 132\tTrain Loss: 0.117  Val Loss: 0.130\n",
      "\n"
     ]
    },
    {
     "name": "stderr",
     "output_type": "stream",
     "text": [
      "train loss: 0.130: 100%|██████████| 482/482 [00:02<00:00, 237.43it/s]\n",
      "val loss: 0.125: 100%|██████████| 121/121 [00:00<00:00, 798.00it/s]\n"
     ]
    },
    {
     "name": "stdout",
     "output_type": "stream",
     "text": [
      "Weight saved: epoch 133\n",
      "Epoch 133\tTrain Loss: 0.116  Val Loss: 0.129\n",
      "\n"
     ]
    },
    {
     "name": "stderr",
     "output_type": "stream",
     "text": [
      "train loss: 0.127: 100%|██████████| 482/482 [00:02<00:00, 238.01it/s]\n",
      "val loss: 0.127: 100%|██████████| 121/121 [00:00<00:00, 802.06it/s]\n"
     ]
    },
    {
     "name": "stdout",
     "output_type": "stream",
     "text": [
      "Epoch 134\tTrain Loss: 0.116  Val Loss: 0.130\n",
      "\n"
     ]
    },
    {
     "name": "stderr",
     "output_type": "stream",
     "text": [
      "train loss: 0.104: 100%|██████████| 482/482 [00:02<00:00, 238.25it/s]\n",
      "val loss: 0.126: 100%|██████████| 121/121 [00:00<00:00, 818.19it/s]\n"
     ]
    },
    {
     "name": "stdout",
     "output_type": "stream",
     "text": [
      "Epoch 135\tTrain Loss: 0.116  Val Loss: 0.130\n",
      "\n"
     ]
    },
    {
     "name": "stderr",
     "output_type": "stream",
     "text": [
      "train loss: 0.104: 100%|██████████| 482/482 [00:02<00:00, 239.15it/s]\n",
      "val loss: 0.126: 100%|██████████| 121/121 [00:00<00:00, 790.90it/s]\n"
     ]
    },
    {
     "name": "stdout",
     "output_type": "stream",
     "text": [
      "Epoch 136\tTrain Loss: 0.116  Val Loss: 0.130\n",
      "\n"
     ]
    },
    {
     "name": "stderr",
     "output_type": "stream",
     "text": [
      "train loss: 0.124: 100%|██████████| 482/482 [00:02<00:00, 239.03it/s]\n",
      "val loss: 0.126: 100%|██████████| 121/121 [00:00<00:00, 792.81it/s]\n"
     ]
    },
    {
     "name": "stdout",
     "output_type": "stream",
     "text": [
      "Epoch 137\tTrain Loss: 0.116  Val Loss: 0.130\n",
      "\n"
     ]
    },
    {
     "name": "stderr",
     "output_type": "stream",
     "text": [
      "train loss: 0.122: 100%|██████████| 482/482 [00:02<00:00, 234.69it/s]\n",
      "val loss: 0.127: 100%|██████████| 121/121 [00:00<00:00, 808.63it/s]\n"
     ]
    },
    {
     "name": "stdout",
     "output_type": "stream",
     "text": [
      "Epoch 138\tTrain Loss: 0.116  Val Loss: 0.130\n",
      "\n"
     ]
    },
    {
     "name": "stderr",
     "output_type": "stream",
     "text": [
      "train loss: 0.090: 100%|██████████| 482/482 [00:02<00:00, 238.35it/s]\n",
      "val loss: 0.126: 100%|██████████| 121/121 [00:00<00:00, 876.27it/s]\n"
     ]
    },
    {
     "name": "stdout",
     "output_type": "stream",
     "text": [
      "Epoch 139\tTrain Loss: 0.116  Val Loss: 0.130\n",
      "\n"
     ]
    },
    {
     "name": "stderr",
     "output_type": "stream",
     "text": [
      "train loss: 0.148: 100%|██████████| 482/482 [00:02<00:00, 233.81it/s]\n",
      "val loss: 0.126: 100%|██████████| 121/121 [00:00<00:00, 812.58it/s]\n"
     ]
    },
    {
     "name": "stdout",
     "output_type": "stream",
     "text": [
      "Epoch 140\tTrain Loss: 0.116  Val Loss: 0.130\n",
      "\n"
     ]
    },
    {
     "name": "stderr",
     "output_type": "stream",
     "text": [
      "train loss: 0.126: 100%|██████████| 482/482 [00:02<00:00, 236.86it/s]\n",
      "val loss: 0.126: 100%|██████████| 121/121 [00:00<00:00, 801.70it/s]\n"
     ]
    },
    {
     "name": "stdout",
     "output_type": "stream",
     "text": [
      "Epoch 141\tTrain Loss: 0.116  Val Loss: 0.130\n",
      "\n"
     ]
    },
    {
     "name": "stderr",
     "output_type": "stream",
     "text": [
      "train loss: 0.102: 100%|██████████| 482/482 [00:02<00:00, 237.58it/s]\n",
      "val loss: 0.126: 100%|██████████| 121/121 [00:00<00:00, 875.98it/s]\n"
     ]
    },
    {
     "name": "stdout",
     "output_type": "stream",
     "text": [
      "Epoch 142\tTrain Loss: 0.115  Val Loss: 0.130\n",
      "\n"
     ]
    },
    {
     "name": "stderr",
     "output_type": "stream",
     "text": [
      "train loss: 0.137: 100%|██████████| 482/482 [00:02<00:00, 236.37it/s]\n",
      "val loss: 0.126: 100%|██████████| 121/121 [00:00<00:00, 813.60it/s]\n"
     ]
    },
    {
     "name": "stdout",
     "output_type": "stream",
     "text": [
      "Epoch 143\tTrain Loss: 0.115  Val Loss: 0.130\n",
      "\n"
     ]
    },
    {
     "name": "stderr",
     "output_type": "stream",
     "text": [
      "train loss: 0.149: 100%|██████████| 482/482 [00:02<00:00, 230.68it/s]\n",
      "val loss: 0.125: 100%|██████████| 121/121 [00:00<00:00, 816.85it/s]\n"
     ]
    },
    {
     "name": "stdout",
     "output_type": "stream",
     "text": [
      "Epoch 144\tTrain Loss: 0.115  Val Loss: 0.130\n",
      "\n"
     ]
    },
    {
     "name": "stderr",
     "output_type": "stream",
     "text": [
      "train loss: 0.090: 100%|██████████| 482/482 [00:02<00:00, 231.38it/s]\n",
      "val loss: 0.125: 100%|██████████| 121/121 [00:00<00:00, 765.51it/s]\n"
     ]
    },
    {
     "name": "stdout",
     "output_type": "stream",
     "text": [
      "Weight saved: epoch 145\n",
      "Epoch 145\tTrain Loss: 0.115  Val Loss: 0.129\n",
      "\n"
     ]
    },
    {
     "name": "stderr",
     "output_type": "stream",
     "text": [
      "train loss: 0.111: 100%|██████████| 482/482 [00:02<00:00, 234.87it/s]\n",
      "val loss: 0.125: 100%|██████████| 121/121 [00:00<00:00, 823.42it/s]\n"
     ]
    },
    {
     "name": "stdout",
     "output_type": "stream",
     "text": [
      "Epoch 146\tTrain Loss: 0.115  Val Loss: 0.130\n",
      "\n"
     ]
    },
    {
     "name": "stderr",
     "output_type": "stream",
     "text": [
      "train loss: 0.128: 100%|██████████| 482/482 [00:02<00:00, 237.65it/s]\n",
      "val loss: 0.126: 100%|██████████| 121/121 [00:00<00:00, 842.59it/s]\n"
     ]
    },
    {
     "name": "stdout",
     "output_type": "stream",
     "text": [
      "Epoch 147\tTrain Loss: 0.115  Val Loss: 0.130\n",
      "\n"
     ]
    },
    {
     "name": "stderr",
     "output_type": "stream",
     "text": [
      "train loss: 0.106: 100%|██████████| 482/482 [00:02<00:00, 239.25it/s]\n",
      "val loss: 0.126: 100%|██████████| 121/121 [00:00<00:00, 849.94it/s]\n"
     ]
    },
    {
     "name": "stdout",
     "output_type": "stream",
     "text": [
      "Epoch 148\tTrain Loss: 0.115  Val Loss: 0.130\n",
      "\n"
     ]
    },
    {
     "name": "stderr",
     "output_type": "stream",
     "text": [
      "train loss: 0.098: 100%|██████████| 482/482 [00:02<00:00, 238.82it/s]\n",
      "val loss: 0.126: 100%|██████████| 121/121 [00:00<00:00, 787.88it/s]\n"
     ]
    },
    {
     "name": "stdout",
     "output_type": "stream",
     "text": [
      "Epoch 149\tTrain Loss: 0.115  Val Loss: 0.130\n",
      "\n"
     ]
    },
    {
     "name": "stderr",
     "output_type": "stream",
     "text": [
      "train loss: 0.115: 100%|██████████| 482/482 [00:02<00:00, 234.51it/s]\n",
      "val loss: 0.126: 100%|██████████| 121/121 [00:00<00:00, 808.73it/s]\n"
     ]
    },
    {
     "name": "stdout",
     "output_type": "stream",
     "text": [
      "Epoch 150\tTrain Loss: 0.114  Val Loss: 0.130\n",
      "\n"
     ]
    },
    {
     "name": "stderr",
     "output_type": "stream",
     "text": [
      "train loss: 0.130:  76%|███████▌  | 367/482 [00:01<00:00, 236.32it/s]\n"
     ]
    },
    {
     "ename": "KeyboardInterrupt",
     "evalue": "",
     "output_type": "error",
     "traceback": [
      "\u001b[0;31m---------------------------------------------------------------------------\u001b[0m",
      "\u001b[0;31mKeyboardInterrupt\u001b[0m                         Traceback (most recent call last)",
      "\u001b[1;32m/home/quincy/Documents/upwork/symbolic/kcg-ml-vae-test/fc_test.ipynb Cell 5\u001b[0m line \u001b[0;36m1\n\u001b[0;32m----> <a href='vscode-notebook-cell:/home/quincy/Documents/upwork/symbolic/kcg-ml-vae-test/fc_test.ipynb#W4sZmlsZQ%3D%3D?line=0'>1</a>\u001b[0m train_utils\u001b[39m.\u001b[39;49mtrain_loop(\n\u001b[1;32m      <a href='vscode-notebook-cell:/home/quincy/Documents/upwork/symbolic/kcg-ml-vae-test/fc_test.ipynb#W4sZmlsZQ%3D%3D?line=1'>2</a>\u001b[0m     train_loader\u001b[39m=\u001b[39;49mtrain_loader,\n\u001b[1;32m      <a href='vscode-notebook-cell:/home/quincy/Documents/upwork/symbolic/kcg-ml-vae-test/fc_test.ipynb#W4sZmlsZQ%3D%3D?line=2'>3</a>\u001b[0m     val_loader\u001b[39m=\u001b[39;49mval_loader,\n\u001b[1;32m      <a href='vscode-notebook-cell:/home/quincy/Documents/upwork/symbolic/kcg-ml-vae-test/fc_test.ipynb#W4sZmlsZQ%3D%3D?line=3'>4</a>\u001b[0m     model\u001b[39m=\u001b[39;49mmodel,\n\u001b[1;32m      <a href='vscode-notebook-cell:/home/quincy/Documents/upwork/symbolic/kcg-ml-vae-test/fc_test.ipynb#W4sZmlsZQ%3D%3D?line=4'>5</a>\u001b[0m     criterion\u001b[39m=\u001b[39;49mcriterion,\n\u001b[1;32m      <a href='vscode-notebook-cell:/home/quincy/Documents/upwork/symbolic/kcg-ml-vae-test/fc_test.ipynb#W4sZmlsZQ%3D%3D?line=5'>6</a>\u001b[0m     device\u001b[39m=\u001b[39;49mdevice,\n\u001b[1;32m      <a href='vscode-notebook-cell:/home/quincy/Documents/upwork/symbolic/kcg-ml-vae-test/fc_test.ipynb#W4sZmlsZQ%3D%3D?line=6'>7</a>\u001b[0m     optimizer\u001b[39m=\u001b[39;49moptimizer,\n\u001b[1;32m      <a href='vscode-notebook-cell:/home/quincy/Documents/upwork/symbolic/kcg-ml-vae-test/fc_test.ipynb#W4sZmlsZQ%3D%3D?line=7'>8</a>\u001b[0m     epochs\u001b[39m=\u001b[39;49m\u001b[39m500\u001b[39;49m,\n\u001b[1;32m      <a href='vscode-notebook-cell:/home/quincy/Documents/upwork/symbolic/kcg-ml-vae-test/fc_test.ipynb#W4sZmlsZQ%3D%3D?line=8'>9</a>\u001b[0m     save_path\u001b[39m=\u001b[39;49m\u001b[39m'\u001b[39;49m\u001b[39mexperiments/fc_exp3/\u001b[39;49m\u001b[39m'\u001b[39;49m,\n\u001b[1;32m     <a href='vscode-notebook-cell:/home/quincy/Documents/upwork/symbolic/kcg-ml-vae-test/fc_test.ipynb#W4sZmlsZQ%3D%3D?line=9'>10</a>\u001b[0m     sparsity_penalty_weight\u001b[39m=\u001b[39;49m\u001b[39m0.001\u001b[39;49m,\n\u001b[1;32m     <a href='vscode-notebook-cell:/home/quincy/Documents/upwork/symbolic/kcg-ml-vae-test/fc_test.ipynb#W4sZmlsZQ%3D%3D?line=10'>11</a>\u001b[0m     scheduler\u001b[39m=\u001b[39;49m\u001b[39mNone\u001b[39;49;00m\n\u001b[1;32m     <a href='vscode-notebook-cell:/home/quincy/Documents/upwork/symbolic/kcg-ml-vae-test/fc_test.ipynb#W4sZmlsZQ%3D%3D?line=11'>12</a>\u001b[0m )\n",
      "File \u001b[0;32m~/Documents/upwork/symbolic/kcg-ml-vae-test/utilities/train_utils.py:81\u001b[0m, in \u001b[0;36mtrain_loop\u001b[0;34m(train_loader, val_loader, model, device, criterion, optimizer, scheduler, epochs, save_path, eval_every, clip_value, sparsity_penalty_weight)\u001b[0m\n\u001b[1;32m     79\u001b[0m best_loss \u001b[39m=\u001b[39m \u001b[39m1e+15\u001b[39m\n\u001b[1;32m     80\u001b[0m \u001b[39mfor\u001b[39;00m epoch \u001b[39min\u001b[39;00m \u001b[39mrange\u001b[39m(epochs):\n\u001b[0;32m---> 81\u001b[0m     train_loss, model, optimizer \u001b[39m=\u001b[39m simple_train_step(\n\u001b[1;32m     82\u001b[0m         train_loader, model, device, criterion, optimizer, clip_value, sparsity_penalty_weight)\n\u001b[1;32m     84\u001b[0m     \u001b[39mif\u001b[39;00m (epoch\u001b[39m+\u001b[39m\u001b[39m1\u001b[39m)\u001b[39m%\u001b[39meval_every \u001b[39m==\u001b[39m \u001b[39m0\u001b[39m:\n\u001b[1;32m     85\u001b[0m         val_loss \u001b[39m=\u001b[39m simple_eval_step(val_loader, model, criterion, sparsity_penalty_weight, device)\n",
      "File \u001b[0;32m~/Documents/upwork/symbolic/kcg-ml-vae-test/utilities/train_utils.py:35\u001b[0m, in \u001b[0;36msimple_train_step\u001b[0;34m(dataloader, model, device, criterion, optimizer, clip_value, sparsity_penalty_weight)\u001b[0m\n\u001b[1;32m     33\u001b[0m     optimizer\u001b[39m.\u001b[39mstep()\n\u001b[1;32m     34\u001b[0m     losses\u001b[39m.\u001b[39mappend(avg_loss)\n\u001b[0;32m---> 35\u001b[0m     pbar\u001b[39m.\u001b[39mset_description(\u001b[39mf\u001b[39m\u001b[39m'\u001b[39m\u001b[39mtrain loss: \u001b[39m\u001b[39m{\u001b[39;00mavg_loss\u001b[39m.\u001b[39;49mitem()\u001b[39m:\u001b[39;00m\u001b[39m.3f\u001b[39m\u001b[39m}\u001b[39;00m\u001b[39m'\u001b[39m)\n\u001b[1;32m     37\u001b[0m losses \u001b[39m=\u001b[39m torch\u001b[39m.\u001b[39mstack(losses, \u001b[39m0\u001b[39m)\n\u001b[1;32m     38\u001b[0m epoch_loss \u001b[39m=\u001b[39m torch\u001b[39m.\u001b[39mmean(losses)\u001b[39m.\u001b[39mcpu()\n",
      "\u001b[0;31mKeyboardInterrupt\u001b[0m: "
     ]
    }
   ],
   "source": [
    "train_utils.train_loop(\n",
    "    train_loader=train_loader,\n",
    "    val_loader=val_loader,\n",
    "    model=model,\n",
    "    criterion=criterion,\n",
    "    device=device,\n",
    "    optimizer=optimizer,\n",
    "    epochs=500,\n",
    "    save_path='experiments/fc_exp3/',\n",
    "    sparsity_penalty_weight=0.001,\n",
    "    scheduler=None\n",
    ")"
   ]
  },
  {
   "cell_type": "code",
   "execution_count": 24,
   "metadata": {},
   "outputs": [
    {
     "data": {
      "text/plain": [
       "tensor(0.1290, device='cuda:0')"
      ]
     },
     "execution_count": 24,
     "metadata": {},
     "output_type": "execute_result"
    }
   ],
   "source": [
    "model.eval()\n",
    "with torch.no_grad():\n",
    "    recon = model(val_data.to(device))\n",
    "\n",
    "criterion = torch.nn.MSELoss(reduction='sum')\n",
    "criterion(val_data.to(device), recon) / 15400"
   ]
  },
  {
   "cell_type": "code",
   "execution_count": null,
   "metadata": {},
   "outputs": [],
   "source": []
  }
 ],
 "metadata": {
  "kernelspec": {
   "display_name": "shanghai",
   "language": "python",
   "name": "python3"
  },
  "language_info": {
   "codemirror_mode": {
    "name": "ipython",
    "version": 3
   },
   "file_extension": ".py",
   "mimetype": "text/x-python",
   "name": "python",
   "nbconvert_exporter": "python",
   "pygments_lexer": "ipython3",
   "version": "3.10.13"
  }
 },
 "nbformat": 4,
 "nbformat_minor": 2
}
